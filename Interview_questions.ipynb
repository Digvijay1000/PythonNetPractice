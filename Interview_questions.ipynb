{
 "cells": [
  {
   "cell_type": "markdown",
   "id": "2d2378cc",
   "metadata": {},
   "source": [
    "#### 1. Take two list and merge without for loop"
   ]
  },
  {
   "cell_type": "code",
   "execution_count": 5,
   "id": "a3fe7f6f",
   "metadata": {},
   "outputs": [
    {
     "name": "stdout",
     "output_type": "stream",
     "text": [
      "[1, 2, 3, 4, 5, 6]\n",
      "[1, 2, 3, 4, 5, 6]\n"
     ]
    }
   ],
   "source": [
    "# for same lengths\n",
    "l1=[1,2,3]\n",
    "l2=[4,5,6]\n",
    "\n",
    "# one way\n",
    "l3 = l1+l2\n",
    "print(l3)\n",
    "\n",
    "# second way\n",
    "l1.extend(l2)\n",
    "print(l1)"
   ]
  },
  {
   "cell_type": "code",
   "execution_count": 6,
   "id": "b2e8d03f",
   "metadata": {},
   "outputs": [
    {
     "name": "stdout",
     "output_type": "stream",
     "text": [
      "[1, 2, 3, 4, 5, 6, 7]\n",
      "[1, 2, 3, 4, 5, 6, 7]\n"
     ]
    }
   ],
   "source": [
    "# for different lenths\n",
    "l1=[1,2,3]\n",
    "l2=[4,5,6,7]\n",
    "\n",
    "# one way\n",
    "l3 = l1+l2\n",
    "print(l3)\n",
    "\n",
    "# second way\n",
    "l1.extend(l2)\n",
    "print(l1)"
   ]
  },
  {
   "cell_type": "markdown",
   "id": "922053cc",
   "metadata": {},
   "source": [
    "#### 2. Take two list and merge with for loop"
   ]
  },
  {
   "cell_type": "code",
   "execution_count": 7,
   "id": "6bb931fc",
   "metadata": {},
   "outputs": [
    {
     "name": "stdout",
     "output_type": "stream",
     "text": [
      "[1, 2, 3, 4, 5, 6]\n"
     ]
    }
   ],
   "source": [
    "# for same lengths\n",
    "l1=[1,2,3]\n",
    "l2=[4,5,6]\n",
    "\n",
    "l3=[]\n",
    "\n",
    "for elements in l1:\n",
    "    l3.append(elements)\n",
    "\n",
    "for elements in l2:\n",
    "    l3.append(elements)\n",
    "    \n",
    "print(l3)"
   ]
  },
  {
   "cell_type": "code",
   "execution_count": 8,
   "id": "848886cb",
   "metadata": {},
   "outputs": [
    {
     "name": "stdout",
     "output_type": "stream",
     "text": [
      "[1, 2, 3, 4, 5, 6, 7]\n"
     ]
    }
   ],
   "source": [
    "# for different lengths\n",
    "l1=[1,2,3]\n",
    "l2=[4,5,6,7]\n",
    "\n",
    "l3=[]\n",
    "\n",
    "for elements in l1:\n",
    "    l3.append(elements)\n",
    "\n",
    "for elements in l2:\n",
    "    l3.append(elements)\n",
    "    \n",
    "print(l3)"
   ]
  },
  {
   "cell_type": "markdown",
   "id": "36e45dba",
   "metadata": {},
   "source": [
    "#### 3. Difference between map() & lambda()"
   ]
  },
  {
   "cell_type": "markdown",
   "id": "a46f8c97",
   "metadata": {},
   "source": [
    "The map() function is used to apply a specified function to all items in an iterable (e.g., a list) and returns an iterator that produces the results.\n",
    "\n",
    "Syntax: map(function, iterable, ...)\n",
    "\n",
    "Purpose: The lambda keyword is used to create anonymous (nameless) functions on-the-fly\n",
    "\n",
    "Syntax: lambda arguments: expression"
   ]
  },
  {
   "cell_type": "code",
   "execution_count": 20,
   "id": "620bde40",
   "metadata": {},
   "outputs": [
    {
     "name": "stdout",
     "output_type": "stream",
     "text": [
      "[1, 4, 9, 16]\n"
     ]
    }
   ],
   "source": [
    "l=[1,2,3,4]\n",
    "\n",
    "l3 = map(lambda x: x**2, l)\n",
    "print(list(l3))"
   ]
  },
  {
   "cell_type": "code",
   "execution_count": 21,
   "id": "b5a4eff6",
   "metadata": {},
   "outputs": [
    {
     "name": "stdout",
     "output_type": "stream",
     "text": [
      "(1, 4, 9, 16)\n"
     ]
    }
   ],
   "source": [
    "l=(1,2,3,4)\n",
    "\n",
    "l3 = map(lambda x: x**2, l)\n",
    "print(tuple(l3))"
   ]
  },
  {
   "cell_type": "markdown",
   "id": "5f5bfd63",
   "metadata": {},
   "source": [
    "#### 4. Take two list and create dictionary"
   ]
  },
  {
   "cell_type": "code",
   "execution_count": 22,
   "id": "06eb7508",
   "metadata": {},
   "outputs": [
    {
     "name": "stdout",
     "output_type": "stream",
     "text": [
      "{1: 10, 2: 20, 3: 30} <class 'dict'>\n"
     ]
    }
   ],
   "source": [
    "# same lenght \n",
    "l1=[1,2,3]\n",
    "l2=[10,20,30]\n",
    "\n",
    "l3= dict(zip(l1,l2))\n",
    "print(l3,type(l3))"
   ]
  },
  {
   "cell_type": "code",
   "execution_count": 24,
   "id": "4c7f9161",
   "metadata": {},
   "outputs": [
    {
     "name": "stdout",
     "output_type": "stream",
     "text": [
      "{1: 10, 2: 20, 3: 30, 4: 40} <class 'dict'>\n"
     ]
    }
   ],
   "source": [
    "# different lenght : more elements will be skip\n",
    "l1=[1,2,3,4,5]\n",
    "l2=[10,20,30,40]\n",
    "\n",
    "l3= dict(zip(l1,l2))\n",
    "print(l3,type(l3))"
   ]
  },
  {
   "cell_type": "markdown",
   "id": "787a14fd",
   "metadata": {},
   "source": [
    "#### 5. take one dictionary and one list & WAP for finding common & uncommon element from list and dictionary"
   ]
  },
  {
   "cell_type": "code",
   "execution_count": 26,
   "id": "e7bfb2d7",
   "metadata": {},
   "outputs": [
    {
     "name": "stdout",
     "output_type": "stream",
     "text": [
      "[35, 7, 35]\n"
     ]
    }
   ],
   "source": [
    "l1 = ['DIPAK','ABHI','DIGVIJAY']\n",
    "d1 = {'DIPAK':35,'ABHI':7,'DIGVIJAY':35, 'BHAVDYA':38,'SHLOK':7}\n",
    "\n",
    "com_ele_val = []\n",
    "\n",
    "for i in l1:\n",
    "    com_ele_val.append(d1[i])\n",
    "\n",
    "print(com_ele_val)"
   ]
  },
  {
   "cell_type": "code",
   "execution_count": 28,
   "id": "d025f8ee",
   "metadata": {},
   "outputs": [
    {
     "name": "stdout",
     "output_type": "stream",
     "text": [
      "['DIPAK', 'ABHI', 'DIGVIJAY']\n"
     ]
    }
   ],
   "source": [
    "l1 = ['DIPAK','ABHI','DIGVIJAY']\n",
    "d1 = {'DIPAK':35,'ABHI':7,'DIGVIJAY':35, 'BHAVDYA':38,'SHLOK':7}\n",
    "\n",
    "com_ele_key = []\n",
    "\n",
    "for i in l1:\n",
    "    if i in d1:\n",
    "        com_ele_key.append(i)\n",
    "\n",
    "print(com_ele_key)"
   ]
  },
  {
   "cell_type": "code",
   "execution_count": 30,
   "id": "31a8768a",
   "metadata": {},
   "outputs": [
    {
     "name": "stdout",
     "output_type": "stream",
     "text": [
      "[38, 7]\n"
     ]
    }
   ],
   "source": [
    "l1 = ['DIPAK','ABHI','DIGVIJAY']\n",
    "d1 = {'DIPAK':35,'ABHI':7,'DIGVIJAY':35, 'BHAVDYA':38,'SHLOK':7}\n",
    "\n",
    "uncom_ele_val = []\n",
    "\n",
    "for i in d1:\n",
    "    if i not in l1:\n",
    "        uncom_ele_val.append(d1[i])\n",
    "\n",
    "print(uncom_ele_val)"
   ]
  },
  {
   "cell_type": "code",
   "execution_count": 31,
   "id": "4b11b9bb",
   "metadata": {},
   "outputs": [
    {
     "name": "stdout",
     "output_type": "stream",
     "text": [
      "['BHAVDYA', 'SHLOK']\n"
     ]
    }
   ],
   "source": [
    "l1 = ['DIPAK','ABHI','DIGVIJAY']\n",
    "d1 = {'DIPAK':35,'ABHI':7,'DIGVIJAY':35, 'BHAVDYA':38,'SHLOK':7}\n",
    "\n",
    "uncom_ele_key = []\n",
    "\n",
    "for i in d1:\n",
    "    if i not in l1:\n",
    "        uncom_ele_key.append(i)\n",
    "\n",
    "print(uncom_ele_key)"
   ]
  },
  {
   "cell_type": "markdown",
   "id": "66ea1c82",
   "metadata": {},
   "source": [
    "#### 6. What is demand forecasting and if you know how is different from sales forecasting?"
   ]
  },
  {
   "cell_type": "code",
   "execution_count": null,
   "id": "b89607f7",
   "metadata": {},
   "outputs": [],
   "source": []
  },
  {
   "cell_type": "markdown",
   "id": "3cc8b50e",
   "metadata": {},
   "source": [
    "#### 7. For PAN INDIA Forecasting how would you approch, which variable required for forecasting."
   ]
  },
  {
   "cell_type": "code",
   "execution_count": null,
   "id": "93026cc7",
   "metadata": {},
   "outputs": [],
   "source": []
  },
  {
   "cell_type": "markdown",
   "id": "3a26ac35",
   "metadata": {},
   "source": [
    "#### 8. How you will measure the accuracy in Time series?"
   ]
  },
  {
   "cell_type": "code",
   "execution_count": null,
   "id": "c1001248",
   "metadata": {},
   "outputs": [],
   "source": []
  },
  {
   "cell_type": "markdown",
   "id": "81c72f58",
   "metadata": {},
   "source": [
    "#### 9. Differenece between ARIMA & MA"
   ]
  },
  {
   "cell_type": "code",
   "execution_count": null,
   "id": "c602f52f",
   "metadata": {},
   "outputs": [],
   "source": []
  },
  {
   "cell_type": "markdown",
   "id": "b2181116",
   "metadata": {},
   "source": [
    "#### 10. Heart ECG data is stationary or non_stationary"
   ]
  },
  {
   "cell_type": "code",
   "execution_count": null,
   "id": "99280b3f",
   "metadata": {},
   "outputs": [],
   "source": []
  },
  {
   "cell_type": "markdown",
   "id": "bbc4f2d8",
   "metadata": {},
   "source": [
    "#### 11. Formula of MAPE?"
   ]
  },
  {
   "cell_type": "code",
   "execution_count": null,
   "id": "329f11a3",
   "metadata": {},
   "outputs": [],
   "source": []
  },
  {
   "cell_type": "markdown",
   "id": "eb7eaa79",
   "metadata": {},
   "source": [
    "#### 12. Any Experience in clustring?"
   ]
  },
  {
   "cell_type": "code",
   "execution_count": null,
   "id": "cc4f239e",
   "metadata": {},
   "outputs": [],
   "source": []
  }
 ],
 "metadata": {
  "kernelspec": {
   "display_name": "Python 3 (ipykernel)",
   "language": "python",
   "name": "python3"
  },
  "language_info": {
   "codemirror_mode": {
    "name": "ipython",
    "version": 3
   },
   "file_extension": ".py",
   "mimetype": "text/x-python",
   "name": "python",
   "nbconvert_exporter": "python",
   "pygments_lexer": "ipython3",
   "version": "3.11.3"
  }
 },
 "nbformat": 4,
 "nbformat_minor": 5
}
