{
 "cells": [
  {
   "cell_type": "code",
   "execution_count": 7,
   "id": "5d96ebc8",
   "metadata": {},
   "outputs": [],
   "source": [
    "def my_favourite_number():\n",
    "    my_number = 10\n",
    "    print(my_number)"
   ]
  },
  {
   "cell_type": "code",
   "execution_count": 9,
   "id": "23fd0413",
   "metadata": {},
   "outputs": [
    {
     "name": "stdout",
     "output_type": "stream",
     "text": [
      "10\n"
     ]
    }
   ],
   "source": [
    "my_favourite_number()"
   ]
  },
  {
   "cell_type": "code",
   "execution_count": null,
   "id": "1dc962a2",
   "metadata": {},
   "outputs": [],
   "source": []
  }
 ],
 "metadata": {
  "kernelspec": {
   "display_name": "Python 3 (ipykernel)",
   "language": "python",
   "name": "python3"
  },
  "language_info": {
   "codemirror_mode": {
    "name": "ipython",
    "version": 3
   },
   "file_extension": ".py",
   "mimetype": "text/x-python",
   "name": "python",
   "nbconvert_exporter": "python",
   "pygments_lexer": "ipython3",
   "version": "3.11.5"
  }
 },
 "nbformat": 4,
 "nbformat_minor": 5
}
