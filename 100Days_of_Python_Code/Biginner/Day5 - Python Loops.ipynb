{
 "cells": [
  {
   "cell_type": "markdown",
   "id": "80aea11e",
   "metadata": {},
   "source": [
    "# Day 5 - Python Loops"
   ]
  },
  {
   "cell_type": "markdown",
   "id": "5e5c0f57",
   "metadata": {},
   "source": [
    "### For loop\n",
    "\n",
    "Same line of code execute multiple times"
   ]
  },
  {
   "cell_type": "code",
   "execution_count": 1,
   "id": "82f842c3",
   "metadata": {},
   "outputs": [
    {
     "name": "stdout",
     "output_type": "stream",
     "text": [
      "Apple\n",
      "Banana\n",
      "Peer\n"
     ]
    }
   ],
   "source": [
    "fruits = [\"Apple\", \"Banana\", \"Peer\"]\n",
    "for fruit in fruits:\n",
    "    print(fruit)"
   ]
  },
  {
   "cell_type": "code",
   "execution_count": 3,
   "id": "1b11e10c",
   "metadata": {},
   "outputs": [
    {
     "name": "stdout",
     "output_type": "stream",
     "text": [
      "Apple\n",
      "Apple pie\n",
      "Banana\n",
      "Banana pie\n",
      "Peer\n",
      "Peer pie\n"
     ]
    }
   ],
   "source": [
    "fruits = [\"Apple\", \"Banana\", \"Peer\"]\n",
    "for fruit in fruits:\n",
    "    print(fruit)\n",
    "    print(fruit + \" pie\")"
   ]
  },
  {
   "cell_type": "code",
   "execution_count": 4,
   "id": "53ab25cd",
   "metadata": {},
   "outputs": [
    {
     "name": "stdout",
     "output_type": "stream",
     "text": [
      "Apple\n",
      "Apple pie\n",
      "['Apple', 'Banana', 'Peer']\n",
      "Banana\n",
      "Banana pie\n",
      "['Apple', 'Banana', 'Peer']\n",
      "Peer\n",
      "Peer pie\n",
      "['Apple', 'Banana', 'Peer']\n"
     ]
    }
   ],
   "source": [
    "# inside a for loop : indentataion is very very important\n",
    "fruits = [\"Apple\", \"Banana\", \"Peer\"]\n",
    "for fruit in fruits:\n",
    "    print(fruit)\n",
    "    print(fruit + \" pie\")\n",
    "    print(fruits)"
   ]
  },
  {
   "cell_type": "code",
   "execution_count": 5,
   "id": "6feda2fd",
   "metadata": {},
   "outputs": [
    {
     "name": "stdout",
     "output_type": "stream",
     "text": [
      "Apple\n",
      "Apple pie\n",
      "Banana\n",
      "Banana pie\n",
      "Peer\n",
      "Peer pie\n",
      "['Apple', 'Banana', 'Peer']\n"
     ]
    }
   ],
   "source": [
    "# outsine a for loop : \n",
    "fruits = [\"Apple\", \"Banana\", \"Peer\"]\n",
    "for fruit in fruits:\n",
    "    print(fruit)\n",
    "    print(fruit + \" pie\")\n",
    "    \n",
    "print(fruits)"
   ]
  },
  {
   "cell_type": "markdown",
   "id": "f154c878",
   "metadata": {},
   "source": [
    "#### Highest Score"
   ]
  },
  {
   "cell_type": "code",
   "execution_count": 6,
   "id": "483b4030",
   "metadata": {},
   "outputs": [
    {
     "name": "stdout",
     "output_type": "stream",
     "text": [
      "1345\n"
     ]
    }
   ],
   "source": [
    "stud_score = [150,142,185,171,149,23,24,47,98,94,74,77,111]\n",
    "total_exam_score = sum(stud_score)\n",
    "print(total_exam_score)"
   ]
  },
  {
   "cell_type": "code",
   "execution_count": 7,
   "id": "0bf8ba88",
   "metadata": {},
   "outputs": [
    {
     "name": "stdout",
     "output_type": "stream",
     "text": [
      "1345\n"
     ]
    }
   ],
   "source": [
    "summ = 0\n",
    "for score in stud_score:\n",
    "    summ += score\n",
    "    \n",
    "print(summ)"
   ]
  },
  {
   "cell_type": "code",
   "execution_count": 9,
   "id": "5d9a5b52",
   "metadata": {},
   "outputs": [],
   "source": [
    "# largest number by using function and for loop"
   ]
  },
  {
   "cell_type": "code",
   "execution_count": 8,
   "id": "917ac7c0",
   "metadata": {},
   "outputs": [
    {
     "data": {
      "text/plain": [
       "185"
      ]
     },
     "execution_count": 8,
     "metadata": {},
     "output_type": "execute_result"
    }
   ],
   "source": [
    "max(stud_score) "
   ]
  },
  {
   "cell_type": "code",
   "execution_count": 14,
   "id": "632c3590",
   "metadata": {},
   "outputs": [
    {
     "name": "stdout",
     "output_type": "stream",
     "text": [
      "185\n"
     ]
    }
   ],
   "source": [
    "max_score = 0\n",
    "for score in stud_score:\n",
    "    if score > max_score:\n",
    "        max_score = score\n",
    "        \n",
    "print(max_score)"
   ]
  },
  {
   "cell_type": "markdown",
   "id": "1d8b1b49",
   "metadata": {},
   "source": [
    "#### For loop and the range() function"
   ]
  },
  {
   "cell_type": "raw",
   "id": "dcd703e3",
   "metadata": {},
   "source": [
    "1 to 100 \n",
    "\n",
    "1+2+3+4 ... 98+99+100\n",
    "100+99+98 ... 3+2+1 \n",
    "\n",
    "1+100 = 101\n",
    "2+ 99 = 101\n",
    "3+98 = 101\n",
    "98+3 = 101\n",
    "99+2=101\n",
    "100+1 = 101\n",
    "\n",
    "In this series there 50 combinations of 101 so 50 x 101 = 2050"
   ]
  },
  {
   "cell_type": "code",
   "execution_count": 16,
   "id": "948e2388",
   "metadata": {},
   "outputs": [],
   "source": [
    "# for loop with range function"
   ]
  },
  {
   "cell_type": "code",
   "execution_count": 17,
   "id": "24169b8d",
   "metadata": {},
   "outputs": [
    {
     "name": "stdout",
     "output_type": "stream",
     "text": [
      "1\n",
      "2\n",
      "3\n",
      "4\n",
      "5\n",
      "6\n",
      "7\n",
      "8\n",
      "9\n"
     ]
    }
   ],
   "source": [
    "for number in range (1,10):\n",
    "    print(number)"
   ]
  },
  {
   "cell_type": "markdown",
   "id": "3db7a58f",
   "metadata": {},
   "source": [
    "###### last digit not printed due excluded stop index"
   ]
  },
  {
   "cell_type": "code",
   "execution_count": 18,
   "id": "974bb317",
   "metadata": {},
   "outputs": [
    {
     "name": "stdout",
     "output_type": "stream",
     "text": [
      "1\n",
      "2\n",
      "3\n",
      "4\n",
      "5\n",
      "6\n",
      "7\n",
      "8\n",
      "9\n",
      "10\n"
     ]
    }
   ],
   "source": [
    "for number in range (1,11):\n",
    "    print(number)"
   ]
  },
  {
   "cell_type": "code",
   "execution_count": 19,
   "id": "6b7afded",
   "metadata": {},
   "outputs": [
    {
     "name": "stdout",
     "output_type": "stream",
     "text": [
      "1\n",
      "3\n",
      "5\n",
      "7\n",
      "9\n"
     ]
    }
   ],
   "source": [
    "for number in range(1,11,2): \n",
    "    print(number)"
   ]
  },
  {
   "cell_type": "markdown",
   "id": "e612503a",
   "metadata": {},
   "source": [
    "###### how can we add up all of the numbers from 1 to 100 by using code?"
   ]
  },
  {
   "cell_type": "code",
   "execution_count": 24,
   "id": "6d9ff5fd",
   "metadata": {},
   "outputs": [
    {
     "name": "stdout",
     "output_type": "stream",
     "text": [
      "5050\n"
     ]
    }
   ],
   "source": [
    "addition = 0\n",
    "for number in range(1,101):\n",
    "    addition += number\n",
    "    \n",
    "print(addition)"
   ]
  },
  {
   "cell_type": "markdown",
   "id": "7b7efbba",
   "metadata": {},
   "source": [
    "#### CODE Challange"
   ]
  },
  {
   "cell_type": "raw",
   "id": "91e2de00",
   "metadata": {},
   "source": [
    "You are going to write a program that automatically prints the solution to the FizzBuzz game. These are the rules of the FizzBuzz game:\n",
    "\n",
    "Your program should print each number from 1 to 100 in turn and include number 100.\n",
    "\n",
    "But when the number is divisible by 3 then instead of printing the number it should print \"Fizz\".\n",
    "\n",
    "When the number is divisible by 5, then instead of printing the number it should print \"Buzz\".`\n",
    "\n",
    "And if the number is divisible by both 3 and 5 e.g. 15 then instead of the number it should print \"FizzBuzz\""
   ]
  },
  {
   "cell_type": "code",
   "execution_count": 29,
   "id": "9caaa35e",
   "metadata": {},
   "outputs": [
    {
     "name": "stdout",
     "output_type": "stream",
     "text": [
      "1\n",
      "2\n",
      "Fizz\n",
      "4\n",
      "Buzz\n",
      "Fizz\n",
      "7\n",
      "8\n",
      "Fizz\n",
      "Buzz\n",
      "11\n",
      "Fizz\n",
      "13\n",
      "14\n",
      "FizzBuzz\n",
      "16\n",
      "17\n",
      "Fizz\n",
      "19\n",
      "Buzz\n",
      "Fizz\n",
      "22\n",
      "23\n",
      "Fizz\n",
      "Buzz\n",
      "26\n",
      "Fizz\n",
      "28\n",
      "29\n",
      "FizzBuzz\n",
      "31\n",
      "32\n",
      "Fizz\n",
      "34\n",
      "Buzz\n",
      "Fizz\n",
      "37\n",
      "38\n",
      "Fizz\n",
      "Buzz\n",
      "41\n",
      "Fizz\n",
      "43\n",
      "44\n",
      "FizzBuzz\n",
      "46\n",
      "47\n",
      "Fizz\n",
      "49\n",
      "Buzz\n",
      "Fizz\n",
      "52\n",
      "53\n",
      "Fizz\n",
      "Buzz\n",
      "56\n",
      "Fizz\n",
      "58\n",
      "59\n",
      "FizzBuzz\n",
      "61\n",
      "62\n",
      "Fizz\n",
      "64\n",
      "Buzz\n",
      "Fizz\n",
      "67\n",
      "68\n",
      "Fizz\n",
      "Buzz\n",
      "71\n",
      "Fizz\n",
      "73\n",
      "74\n",
      "FizzBuzz\n",
      "76\n",
      "77\n",
      "Fizz\n",
      "79\n",
      "Buzz\n",
      "Fizz\n",
      "82\n",
      "83\n",
      "Fizz\n",
      "Buzz\n",
      "86\n",
      "Fizz\n",
      "88\n",
      "89\n",
      "FizzBuzz\n",
      "91\n",
      "92\n",
      "Fizz\n",
      "94\n",
      "Buzz\n",
      "Fizz\n",
      "97\n",
      "98\n",
      "Fizz\n",
      "Buzz\n"
     ]
    }
   ],
   "source": [
    "for number in range(1,101):\n",
    "    if number % 3 == 0 and number % 5 == 0:\n",
    "        print(\"FizzBuzz\")\n",
    "    elif number%3 == 0:\n",
    "        print(\"Fizz\")\n",
    "    elif number % 5 == 0:\n",
    "        print(\"Buzz\")\n",
    "    else:\n",
    "        print(number)"
   ]
  },
  {
   "cell_type": "markdown",
   "id": "91b6e5df",
   "metadata": {},
   "source": [
    "### Day 5 Project : Password Generator"
   ]
  },
  {
   "cell_type": "code",
   "execution_count": 35,
   "id": "58e41188",
   "metadata": {},
   "outputs": [
    {
     "name": "stdout",
     "output_type": "stream",
     "text": [
      "Welcome to the PyPassword Generator!\n",
      "How many letters would you like in your password?\n",
      "4\n",
      "How many symbols would you like?\n",
      "3\n",
      "How many numbers would you like?\n",
      "2\n",
      "pfWK$&)47\n"
     ]
    }
   ],
   "source": [
    "#Password Generator Project\n",
    "import random\n",
    "letters = ['a', 'b', 'c', 'd', 'e', 'f', 'g', 'h', 'i', 'j', 'k', 'l', 'm', 'n', 'o', 'p', 'q', 'r', 's', 't', 'u', 'v', 'w', 'x', 'y', 'z', 'A', 'B', 'C', 'D', 'E', 'F', 'G', 'H', 'I', 'J', 'K', 'L', 'M', 'N', 'O', 'P', 'Q', 'R', 'S', 'T', 'U', 'V', 'W', 'X', 'Y', 'Z']\n",
    "numbers = ['0', '1', '2', '3', '4', '5', '6', '7', '8', '9']\n",
    "symbols = ['!', '#', '$', '%', '&', '(', ')', '*', '+']\n",
    "\n",
    "print(\"Welcome to the PyPassword Generator!\")\n",
    "nr_letters= int(input(\"How many letters would you like in your password?\\n\")) \n",
    "nr_symbols = int(input(f\"How many symbols would you like?\\n\"))\n",
    "nr_numbers = int(input(f\"How many numbers would you like?\\n\"))\n",
    "\n",
    "#Eazy Level - Order not randomised:\n",
    "#e.g. 4 letter, 2 symbol, 2 number = JduE&!91\n",
    "password = \"\"\n",
    "\n",
    "# 4 : 0, 1, 2, 3 > so last digit is 5\n",
    "for char in range(1, nr_letters + 1):\n",
    "    password += random.choice(letters)\n",
    "    \n",
    "for char in range(1, nr_symbols + 1):\n",
    "    password += random.choice(symbols)\n",
    "    \n",
    "for char in range(1, nr_numbers + 1):\n",
    "    password += random.choice(numbers)\n",
    "    \n",
    "print(password)"
   ]
  },
  {
   "cell_type": "markdown",
   "id": "34f094d6",
   "metadata": {},
   "source": [
    "###### Hard level"
   ]
  },
  {
   "cell_type": "code",
   "execution_count": 45,
   "id": "e8ee8d98",
   "metadata": {},
   "outputs": [
    {
     "name": "stdout",
     "output_type": "stream",
     "text": [
      "Welcome to the PyPassword Generator!\n",
      "How many letters would you like in your password?\n",
      "3\n",
      "How many symbols would you like?\n",
      "3\n",
      "How many numbers would you like?\n",
      "3\n",
      "['m', 'R', 'h', '%', ')', '!', '1', '6', '2']\n",
      "['2', ')', '!', 'm', '1', 'h', 'R', '6', '%']\n",
      "Your password is 2)!m1hR6%\n"
     ]
    }
   ],
   "source": [
    "#Password Generator Project\n",
    "import random\n",
    "letters = ['a', 'b', 'c', 'd', 'e', 'f', 'g', 'h', 'i', 'j', 'k', 'l', 'm', 'n', 'o', 'p', 'q', 'r', 's', 't', 'u', 'v', 'w', 'x', 'y', 'z', 'A', 'B', 'C', 'D', 'E', 'F', 'G', 'H', 'I', 'J', 'K', 'L', 'M', 'N', 'O', 'P', 'Q', 'R', 'S', 'T', 'U', 'V', 'W', 'X', 'Y', 'Z']\n",
    "numbers = ['0', '1', '2', '3', '4', '5', '6', '7', '8', '9']\n",
    "symbols = ['!', '#', '$', '%', '&', '(', ')', '*', '+']\n",
    "\n",
    "print(\"Welcome to the PyPassword Generator!\")\n",
    "nr_letters= int(input(\"How many letters would you like in your password?\\n\")) \n",
    "nr_symbols = int(input(f\"How many symbols would you like?\\n\"))\n",
    "nr_numbers = int(input(f\"How many numbers would you like?\\n\"))\n",
    "\n",
    "password_list = []\n",
    "\n",
    "for char in range(1, nr_letters + 1):\n",
    "    password_list.append(random.choice(letters))\n",
    "    \n",
    "for char in range(1, nr_symbols + 1):\n",
    "    password_list.append(random.choice(symbols))\n",
    "    \n",
    "for char in range(1, nr_numbers + 1):\n",
    "    password_list.append(random.choice(numbers))\n",
    "\n",
    "print(password_list)\n",
    "random.shuffle(password_list)\n",
    "print(password_list)\n",
    "\n",
    "password = \"\"\n",
    "\n",
    "for char in password_list:\n",
    "    password += char\n",
    "    \n",
    "print(f\"Your password is {password}\")"
   ]
  },
  {
   "cell_type": "markdown",
   "id": "e69ac326",
   "metadata": {},
   "source": [
    "## If you feeling overwhelming and I don't understanding it. But you should continue , persevered then at some point you will started making sense , so just trust in the process keep showing up and just put in those reps everyday. \n",
    "\n",
    "## I promise you will feel like you're on top of this and you got it.\n",
    "\n",
    "# so keep going , keep doing what you're doing\n"
   ]
  },
  {
   "cell_type": "code",
   "execution_count": null,
   "id": "7ddcac51",
   "metadata": {},
   "outputs": [],
   "source": []
  }
 ],
 "metadata": {
  "kernelspec": {
   "display_name": "Python 3 (ipykernel)",
   "language": "python",
   "name": "python3"
  },
  "language_info": {
   "codemirror_mode": {
    "name": "ipython",
    "version": 3
   },
   "file_extension": ".py",
   "mimetype": "text/x-python",
   "name": "python",
   "nbconvert_exporter": "python",
   "pygments_lexer": "ipython3",
   "version": "3.11.5"
  }
 },
 "nbformat": 4,
 "nbformat_minor": 5
}
