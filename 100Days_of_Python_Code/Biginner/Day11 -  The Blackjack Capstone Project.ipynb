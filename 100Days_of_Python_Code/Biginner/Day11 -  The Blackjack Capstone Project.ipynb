{
 "cells": [
  {
   "cell_type": "markdown",
   "metadata": {},
   "source": [
    "#  Day11 - The Blackjack Capstone Project"
   ]
  },
  {
   "cell_type": "code",
   "execution_count": 2,
   "metadata": {},
   "outputs": [],
   "source": [
    "import random"
   ]
  },
  {
   "cell_type": "code",
   "execution_count": 16,
   "metadata": {},
   "outputs": [
    {
     "name": "stdout",
     "output_type": "stream",
     "text": [
      "****************************************\n",
      "Your cards: [8, 1], current score :9\n",
      "Computer first card: 10\n",
      "Your cards: [8, 1, 5], current score :14\n",
      "Computer first card: 10\n",
      "Your cards: [8, 1, 5, 6], current score :20\n",
      "Computer first card: 10\n",
      "Your cards: [8, 1, 5, 6, 10], current score :30\n",
      "Computer first card: 10\n",
      "Your final hand: [8, 1, 5, 6, 10], final score: 30\n",
      "Computer final hand: [10, 10], final score: 20\n",
      "You went over, You lose\n"
     ]
    }
   ],
   "source": [
    "# We are applying all the learned 10 days skill in this pproject \n",
    "\n",
    "def deal_card():\n",
    "    \"\"\"Trturn a random card from the deck\"\"\"\n",
    "    cards  = [11, 2, 3, 4, 5, 6, 7, 8, 9, 10, 10, 10, 10]\n",
    "    card = random.choice(cards)\n",
    "    return card\n",
    "\n",
    "\n",
    "def calculate_score(cards):\n",
    "    \"\"\"Take a list of cards and return the score calculatedd from the cards\"\"\"\n",
    "    if sum(cards)== 21 and len(cards) == 2:\n",
    "        return 0\n",
    "    \n",
    "    if 11 in cards and sum(cards) > 10:\n",
    "        cards.remove(11)\n",
    "        cards.append(1)\n",
    "\n",
    "    return sum(cards)\n",
    "\n",
    "def compare(u_score, c_score):\n",
    "    if u_score == c_score:\n",
    "        return \"Draw\"\n",
    "    elif c_score == 0:\n",
    "        return \"Lose, opponent has Blackjack\" \n",
    "    elif u_score == 0:\n",
    "        return \"Win with a Blackjack\"\n",
    "    elif u_score > 21:\n",
    "        return \"You went over, You lose\"\n",
    "    elif c_score > 21:\n",
    "        return \"Opponent went over, You win\"\n",
    "    elif u_score > c_score:\n",
    "        return \"You win\"\n",
    "    else:\n",
    "        \"You Lose\"\n",
    "\n",
    "\n",
    "def play_game():\n",
    "\n",
    "    user_cards = []\n",
    "    computer_cards = []\n",
    "    computer_score = -1\n",
    "    user_score = -1\n",
    "    is_game_over = False\n",
    "\n",
    "\n",
    "    for _ in range(2):\n",
    "        user_cards.append(deal_card())\n",
    "        computer_cards.append(deal_card())\n",
    "\n",
    "    while not is_game_over:\n",
    "\n",
    "        user_score = calculate_score(user_cards)\n",
    "        computer_score = calculate_score(computer_cards)\n",
    "\n",
    "        print(f\"Your cards: {user_cards}, current score :{user_score}\")\n",
    "        print(f\"Computer first card: {computer_cards[0]}\")\n",
    "\n",
    "        if user_score == 0 or computer_score == 0 or user_score > 21:\n",
    "            is_game_over = True\n",
    "        else:\n",
    "            user_should_deal = input(\"Type 'y' to get another card , type 'n' to pass: \")\n",
    "\n",
    "            if user_should_deal == \"y\":\n",
    "                user_cards.append(deal_card())\n",
    "            else:\n",
    "                is_game_over = True\n",
    "\n",
    "    while computer_score != 0 and computer_score < 17 :\n",
    "        computer_cards.append(deal_card())\n",
    "        computer_score = calculate_score(computer_cards)\n",
    "\n",
    "\n",
    "    print(f\"Your final hand: {user_cards}, final score: {user_score}\")\n",
    "    print(f\"Computer final hand: {computer_cards}, final score: {computer_score}\")\n",
    "    print(compare(user_score, computer_score))\n",
    "\n",
    "while input(\"Do you want to play of game Blackjack? Type 'y' or 'n' \") == \"y\":\n",
    "    print(\"*\" * 40)\n",
    "    play_game()\n",
    "\n"
   ]
  },
  {
   "cell_type": "markdown",
   "metadata": {},
   "source": [
    "# A Solid Foundation goes a Long Way"
   ]
  }
 ],
 "metadata": {
  "kernelspec": {
   "display_name": "Python 3",
   "language": "python",
   "name": "python3"
  },
  "language_info": {
   "codemirror_mode": {
    "name": "ipython",
    "version": 3
   },
   "file_extension": ".py",
   "mimetype": "text/x-python",
   "name": "python",
   "nbconvert_exporter": "python",
   "pygments_lexer": "ipython3",
   "version": "3.12.0"
  }
 },
 "nbformat": 4,
 "nbformat_minor": 2
}
