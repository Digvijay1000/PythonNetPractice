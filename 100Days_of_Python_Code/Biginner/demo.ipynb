{
 "cells": [
  {
   "cell_type": "code",
   "execution_count": 1,
   "id": "b472e339",
   "metadata": {},
   "outputs": [
    {
     "name": "stdout",
     "output_type": "stream",
     "text": [
      " कुणीतरी करायला पाहिजे यापेक्ष्या मी काहीतरी करायला पाहिजे हा दृष्टिकोन बरेचशे प्रश सोडवितो.\n",
      "जो स्वतः च्या प्रगतीसाठी प्रयत्न करतो त्याला दुसऱ्याचे वाईट करण्यासाठी वेळच मिळत नाही.\n",
      "दोनच गोष्टी माणसाला हुशार बनवितात एक-अनुभव, दोन-वाचलेली पुस्तके.\n",
      "सामान्य गोष्टी विलक्षण रीतीने करणे म्हणजे यश होय.\n"
     ]
    }
   ],
   "source": [
    "print(\"\"\" कुणीतरी करायला पाहिजे यापेक्ष्या मी काहीतरी करायला पाहिजे हा दृष्टिकोन बरेचशे प्रश सोडवितो.\n",
    "जो स्वतः च्या प्रगतीसाठी प्रयत्न करतो त्याला दुसऱ्याचे वाईट करण्यासाठी वेळच मिळत नाही.\n",
    "दोनच गोष्टी माणसाला हुशार बनवितात एक-अनुभव, दोन-वाचलेली पुस्तके.\n",
    "सामान्य गोष्टी विलक्षण रीतीने करणे म्हणजे यश होय.\"\"\")"
   ]
  },
  {
   "cell_type": "code",
   "execution_count": null,
   "id": "4be7dc39",
   "metadata": {},
   "outputs": [],
   "source": []
  }
 ],
 "metadata": {
  "kernelspec": {
   "display_name": "Python 3 (ipykernel)",
   "language": "python",
   "name": "python3"
  },
  "language_info": {
   "codemirror_mode": {
    "name": "ipython",
    "version": 3
   },
   "file_extension": ".py",
   "mimetype": "text/x-python",
   "name": "python",
   "nbconvert_exporter": "python",
   "pygments_lexer": "ipython3",
   "version": "3.11.5"
  }
 },
 "nbformat": 4,
 "nbformat_minor": 5
}
