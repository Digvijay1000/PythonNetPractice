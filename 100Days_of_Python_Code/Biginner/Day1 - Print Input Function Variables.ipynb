{
 "cells": [
  {
   "cell_type": "markdown",
   "id": "905b285f",
   "metadata": {},
   "source": [
    "### Lession 1 Day 1 : PRINTING"
   ]
  },
  {
   "cell_type": "code",
   "execution_count": 1,
   "id": "78754c32",
   "metadata": {},
   "outputs": [
    {
     "name": "stdout",
     "output_type": "stream",
     "text": [
      "A 'single quote' inside a double quote\n",
      "A \"double quote\" inside a single quote\n",
      "Alternatively you can just \"escape\" the quote\n"
     ]
    }
   ],
   "source": [
    "print(\"A 'single quote' inside a double quote\")\n",
    "print('A \"double quote\" inside a single quote')\n",
    "print(\"Alternatively you can just \\\"escape\\\" the quote\")"
   ]
  },
  {
   "cell_type": "markdown",
   "id": "5806f0b1",
   "metadata": {},
   "source": [
    "###### Write a program that uses print statements to print the following recipe into the Output console. The text to print is already there, you just need to make it into code. Your code should print all five lines exactly the same as the example output below."
   ]
  },
  {
   "cell_type": "code",
   "execution_count": 2,
   "id": "44ac5123",
   "metadata": {},
   "outputs": [
    {
     "name": "stdout",
     "output_type": "stream",
     "text": [
      "1. Mix 500g of Flour, 10g Yeast and 300ml Water in a bowl.\n",
      "2. Knead the dough for 10 minutes.\n",
      "3. Add 3g of Salt.\n",
      "4. Leave to rise for 2 hours.\n",
      "5. Bake at 200 degrees C for 30 minutes.\n"
     ]
    }
   ],
   "source": [
    "print(\"1. Mix 500g of Flour, 10g Yeast and 300ml Water in a bowl.\")\n",
    "print(\"2. Knead the dough for 10 minutes.\")\n",
    "print(\"3. Add 3g of Salt.\")\n",
    "print(\"4. Leave to rise for 2 hours.\")\n",
    "print(\"5. Bake at 200 degrees C for 30 minutes.\")"
   ]
  },
  {
   "cell_type": "markdown",
   "id": "907df804",
   "metadata": {},
   "source": [
    "#### PRINT MODIFIERS"
   ]
  },
  {
   "cell_type": "code",
   "execution_count": 6,
   "id": "a28dd334",
   "metadata": {},
   "outputs": [],
   "source": [
    "# print(\"She said: \"Hello\" and then left.\")"
   ]
  },
  {
   "cell_type": "code",
   "execution_count": 4,
   "id": "c1980294",
   "metadata": {},
   "outputs": [
    {
     "name": "stdout",
     "output_type": "stream",
     "text": [
      "She said: \"Hello\" and then left.\n"
     ]
    }
   ],
   "source": [
    "print('She said: \"Hello\" and then left.')"
   ]
  },
  {
   "cell_type": "code",
   "execution_count": 5,
   "id": "408de7d3",
   "metadata": {},
   "outputs": [
    {
     "name": "stdout",
     "output_type": "stream",
     "text": [
      "She said: \"Hello\" and then left.\n"
     ]
    }
   ],
   "source": [
    "print(\"She said: \\\"Hello\\\" and then left.\")"
   ]
  },
  {
   "cell_type": "markdown",
   "id": "5af343e8",
   "metadata": {},
   "source": [
    "###### Example"
   ]
  },
  {
   "cell_type": "code",
   "execution_count": 7,
   "id": "db722854",
   "metadata": {},
   "outputs": [
    {
     "name": "stdout",
     "output_type": "stream",
     "text": [
      "A 'single quote' inside a double quote\n",
      "A \"double quote\" inside a single quote\n",
      "Alternatively you can just \"escape\" the quote\n"
     ]
    }
   ],
   "source": [
    "print(\"A 'single quote' inside a double quote\")\n",
    "print('A \"double quote\" inside a single quote')\n",
    "print(\"Alternatively you can just \\\"escape\\\" the quote\")"
   ]
  },
  {
   "cell_type": "markdown",
   "id": "149e6024",
   "metadata": {},
   "source": [
    "### LESSON 2 DAY 1 - DEBUGGING PRACTICE"
   ]
  },
  {
   "cell_type": "markdown",
   "id": "09302332",
   "metadata": {},
   "source": [
    "###### Look at the code in the code editor on the left. There are errors on all 4 lines of code. Fix the code so that it runs without errors."
   ]
  },
  {
   "cell_type": "code",
   "execution_count": 8,
   "id": "a4b638e0",
   "metadata": {},
   "outputs": [],
   "source": [
    "# Fix the code below 👇\n",
    "\n",
    "# print(Day 1 - String Manipulation\")\n",
    "# print(\"String Concatination is done with the \"+\" sign.\")\n",
    "#   print('e.g. print(\"Hello \" + \"world\")')\n",
    "# print((\"New lines can be created with a backslash and n.\")"
   ]
  },
  {
   "cell_type": "code",
   "execution_count": 9,
   "id": "2301ece3",
   "metadata": {},
   "outputs": [
    {
     "name": "stdout",
     "output_type": "stream",
     "text": [
      "Day 1 - String Manipulation\n",
      "String Concatenation is done with the \"+\" sign.\n",
      "e.g. print(\"Hello \" + \"world\")\n",
      "New lines can be created with a backslash and n.\n"
     ]
    }
   ],
   "source": [
    "print(\"Day 1 - String Manipulation\")\n",
    "print('String Concatenation is done with the \"+\" sign.')\n",
    "print('e.g. print(\"Hello \" + \"world\")')\n",
    "print(\"New lines can be created with a backslash and n.\")"
   ]
  },
  {
   "cell_type": "markdown",
   "id": "44a8e0f8",
   "metadata": {},
   "source": [
    "### LESSON 3 DAY 1 - INPUT FUNCTION\n"
   ]
  },
  {
   "cell_type": "code",
   "execution_count": 11,
   "id": "1b530162",
   "metadata": {},
   "outputs": [
    {
     "name": "stdout",
     "output_type": "stream",
     "text": [
      "Enter First Name : Shorya\n",
      "Shorya\n",
      "Enter Second Name : abhimanyu\n",
      "abhimanyu\n",
      "Enter Third Name : Amey\n",
      "Amey\n"
     ]
    }
   ],
   "source": [
    "print(input(\"Enter First Name : \"))\n",
    "print(input(\"Enter Second Name : \"))\n",
    "print(input(\"Enter Third Name : \"))"
   ]
  },
  {
   "cell_type": "markdown",
   "id": "36b1ddc6",
   "metadata": {},
   "source": [
    "###### Without changing the demo code, trying clicking Submit using the current code. See how we can use hidden inputs to create lots of tests to see if your code is correct."
   ]
  },
  {
   "cell_type": "code",
   "execution_count": 12,
   "id": "3d0e61ce",
   "metadata": {},
   "outputs": [
    {
     "name": "stdout",
     "output_type": "stream",
     "text": [
      "10\n",
      "20\n",
      "200\n"
     ]
    }
   ],
   "source": [
    "num1 = int(input())\n",
    "num2 = int(input())\n",
    "\n",
    "print(num1 * num2)"
   ]
  },
  {
   "cell_type": "markdown",
   "id": "dd916166",
   "metadata": {},
   "source": [
    "###### Without changing the code, try clicking submit.\n",
    "\n",
    "If a student didn't complete the coding exercise, then the extra tests should catch this.\n",
    "\n",
    "For example in this case 6 is the correct answer for the visible inputs. But behind the scenes when you submit the code we are also passing in 5 and 5.\n",
    "\n",
    "5 x 5 = 25\n",
    "\n",
    "while\n",
    "\n",
    "2 x 3 = 6\n",
    "\n",
    "So the only way for the student to pass all the tests in the evaluation is to write the correct code.\n",
    "\n",
    "This is how we ensure you're doing the right things and test your understanding of the programming concepts. It's like having a teacher next to you checking your code."
   ]
  },
  {
   "cell_type": "code",
   "execution_count": 13,
   "id": "34b965a5",
   "metadata": {},
   "outputs": [
    {
     "name": "stdout",
     "output_type": "stream",
     "text": [
      "5\n",
      "5\n",
      "25\n"
     ]
    }
   ],
   "source": [
    "num1 = int(input())\n",
    "num2 = int(input())\n",
    "\n",
    "print(num1 * num2)"
   ]
  },
  {
   "cell_type": "code",
   "execution_count": 14,
   "id": "4d3cbc6e",
   "metadata": {},
   "outputs": [
    {
     "name": "stdout",
     "output_type": "stream",
     "text": [
      "2\n",
      "3\n",
      "6\n"
     ]
    }
   ],
   "source": [
    "num1 = int(input())\n",
    "num2 = int(input())\n",
    "\n",
    "print(num1 * num2)"
   ]
  },
  {
   "cell_type": "code",
   "execution_count": 15,
   "id": "7023c1a7",
   "metadata": {},
   "outputs": [
    {
     "name": "stdout",
     "output_type": "stream",
     "text": [
      "6\n"
     ]
    }
   ],
   "source": [
    "numOfLetters = len(\"Angela\")\n",
    "print(numOfLetters)"
   ]
  },
  {
   "cell_type": "markdown",
   "id": "01ae2030",
   "metadata": {},
   "source": [
    "###### Write a program that calculates and outputs the number of characters in any name. The automated tests will try out lots of different names as the input. Your code should work for any name. Your code should only output the number, no other text is needed."
   ]
  },
  {
   "cell_type": "code",
   "execution_count": 16,
   "id": "2290a842",
   "metadata": {},
   "outputs": [
    {
     "name": "stdout",
     "output_type": "stream",
     "text": [
      "Enter the NameDigvijay\n",
      "8\n"
     ]
    }
   ],
   "source": [
    "name = input(\"Enter the Name\")\n",
    "print(len(name))"
   ]
  },
  {
   "cell_type": "markdown",
   "id": "dae08ca4",
   "metadata": {},
   "source": [
    "### LESSON 4 DAY 1 - VARIABLES"
   ]
  },
  {
   "cell_type": "markdown",
   "id": "2463b8f7",
   "metadata": {},
   "source": [
    "###### This program takes two inputs. The first input is stored in a variable called a. The second input is stored in a variable called b. Write a program that switches the values stored in the variables a and b."
   ]
  },
  {
   "cell_type": "code",
   "execution_count": 18,
   "id": "8ce5a2ed",
   "metadata": {},
   "outputs": [
    {
     "name": "stdout",
     "output_type": "stream",
     "text": [
      "100\n",
      "200\n",
      "a: 200\n",
      "b: 100\n"
     ]
    }
   ],
   "source": [
    "# There are two variables, a and b from input\n",
    "a = input()\n",
    "b = input()\n",
    "# 🚨 Don't change the code above ☝️\n",
    "####################################\n",
    "# Write your code below this line 👇\n",
    "a , b = b, a \n",
    "\n",
    "\n",
    "\n",
    "# 🚨 Don't change the code below 👇\n",
    "print(\"a: \" + a)\n",
    "print(\"b: \" + b)\n"
   ]
  },
  {
   "cell_type": "code",
   "execution_count": 19,
   "id": "732589a5",
   "metadata": {},
   "outputs": [
    {
     "name": "stdout",
     "output_type": "stream",
     "text": [
      "What is your name?MANOJKUMAR SWARNIL\n",
      "Hello MANOJKUMAR SWARNIL\n"
     ]
    }
   ],
   "source": [
    "# input() will get user input in console\n",
    "# Then print() will print the word \"Hello\" and the user input\n",
    "print(\"Hello \" + input(\"What is your name?\"))"
   ]
  },
  {
   "cell_type": "markdown",
   "id": "cb5888ab",
   "metadata": {},
   "source": [
    "###### Variable Quiz"
   ]
  },
  {
   "attachments": {
    "image.png": {
     "image/png": "[encoded data removed]"
    }
   },
   "cell_type": "markdown",
   "id": "440131c4",
   "metadata": {},
   "source": [
    "![image.png](attachment:image.png)"
   ]
  },
  {
   "attachments": {
    "image.png": {
     "image/png": "[encoded data removed]"
    }
   },
   "cell_type": "markdown",
   "id": "d61a511f",
   "metadata": {},
   "source": [
    "![image.png](attachment:image.png)"
   ]
  },
  {
   "cell_type": "markdown",
   "id": "e4f08597",
   "metadata": {},
   "source": [
    "### Day1 Project : Band Name Generator"
   ]
  },
  {
   "cell_type": "code",
   "execution_count": 1,
   "id": "5234bec2",
   "metadata": {},
   "outputs": [
    {
     "name": "stdout",
     "output_type": "stream",
     "text": [
      "Welcome to the Band Name Generator.\n",
      "What's the name of the city you grew up in?\n",
      "Ramapur\n",
      "What's your pet's name?\n",
      "Gajya\n",
      "Your band name could be Ramapur Gajya\n"
     ]
    }
   ],
   "source": [
    "#1. Create a greeting for your program.\n",
    "print(\"Welcome to the Band Name Generator.\")\n",
    "\n",
    "#2. Ask the user for the city that they grew up in.\n",
    "street = input(\"What's the name of the city you grew up in?\\n\") # Make sure the input cursor shows on a new line:\n",
    "\n",
    "#3. Ask the user for the name of a pet.\n",
    "pet = input(\"What's your pet's name?\\n\") # Make sure the input cursor shows on a new line:\n",
    "\n",
    "#4. Combine the name of their city and pet and show them their band name.\n",
    "print(\"Your band name could be \" + street + \" \" + pet)"
   ]
  },
  {
   "cell_type": "code",
   "execution_count": null,
   "id": "333c0db5",
   "metadata": {},
   "outputs": [],
   "source": []
  }
 ],
 "metadata": {
  "kernelspec": {
   "display_name": "Python 3 (ipykernel)",
   "language": "python",
   "name": "python3"
  },
  "language_info": {
   "codemirror_mode": {
    "name": "ipython",
    "version": 3
   },
   "file_extension": ".py",
   "mimetype": "text/x-python",
   "name": "python",
   "nbconvert_exporter": "python",
   "pygments_lexer": "ipython3",
   "version": "3.11.5"
  }
 },
 "nbformat": 4,
 "nbformat_minor": 5
}
