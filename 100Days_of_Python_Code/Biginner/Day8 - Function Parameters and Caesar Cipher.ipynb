{
 "cells": [
  {
   "cell_type": "markdown",
   "id": "a9086ddc",
   "metadata": {},
   "source": [
    "# Day8 - Function Parameters and Caesar Cipher"
   ]
  },
  {
   "cell_type": "markdown",
   "id": "6f708681",
   "metadata": {},
   "source": [
    "### 1. Functions with Inputs"
   ]
  },
  {
   "cell_type": "markdown",
   "id": "0178c3c1",
   "metadata": {},
   "source": [
    "    def my_function(something):\n",
    "        # Do this with something\n",
    "        # Then do this \n",
    "        # Finally do this\n",
    "        \n",
    "    something is called as - Parameter \n",
    "    something equal to called as - Argument\n",
    "    e.g something = 123"
   ]
  },
  {
   "cell_type": "code",
   "execution_count": 7,
   "id": "d923446d",
   "metadata": {},
   "outputs": [],
   "source": [
    "def my_function():\n",
    "    print(\"Hello Digvijay\")\n",
    "    print(\"How do you do?\")\n",
    "    print(\"Isn't the weather nice?\")"
   ]
  },
  {
   "cell_type": "code",
   "execution_count": 8,
   "id": "82002487",
   "metadata": {},
   "outputs": [
    {
     "name": "stdout",
     "output_type": "stream",
     "text": [
      "Hello Digvijay\n",
      "How do you do?\n",
      "Isn't the weather nice?\n"
     ]
    }
   ],
   "source": [
    "my_function()"
   ]
  },
  {
   "cell_type": "code",
   "execution_count": 10,
   "id": "ab051c12",
   "metadata": {},
   "outputs": [],
   "source": [
    "def my_function_name(name):\n",
    "    print(f\"Hello {name}\")\n",
    "    print(f\"How do you do {name}\")"
   ]
  },
  {
   "cell_type": "code",
   "execution_count": 12,
   "id": "97cc192a",
   "metadata": {},
   "outputs": [
    {
     "name": "stdout",
     "output_type": "stream",
     "text": [
      "Hello Digvijay\n",
      "How do you do Digvijay\n"
     ]
    }
   ],
   "source": [
    "my_function_name(\"Digvijay\")"
   ]
  },
  {
   "cell_type": "code",
   "execution_count": 13,
   "id": "9ebb1bab",
   "metadata": {},
   "outputs": [
    {
     "name": "stdout",
     "output_type": "stream",
     "text": [
      "Hello Abhimanyu\n",
      "How do you do Abhimanyu\n"
     ]
    }
   ],
   "source": [
    "my_function_name(\"Abhimanyu\")"
   ]
  },
  {
   "cell_type": "markdown",
   "id": "343c7b2b",
   "metadata": {},
   "source": [
    "###### coding excersize - life in week"
   ]
  },
  {
   "cell_type": "markdown",
   "id": "56a3bf1f",
   "metadata": {},
   "source": [
    "Create a function called life_in_weeks() using maths and f-Strings that tells us how many weeks we have left, if we live until 90 years old.\n",
    "\n",
    "It will take your current age as the input and output a message with our time left in this format:\n",
    "          \n",
    "    You have x weeks left.\n",
    "Where x is replaced with the actual calculated number of weeks the input age has left until age 90."
   ]
  },
  {
   "cell_type": "code",
   "execution_count": 15,
   "id": "75c9a390",
   "metadata": {},
   "outputs": [
    {
     "name": "stdout",
     "output_type": "stream",
     "text": [
      "You have 2808 weeks left.\n"
     ]
    }
   ],
   "source": [
    "def life_in_weeks(current_age):\n",
    "    current_age = int(current_age)\n",
    "    current_age_in_weeks = current_age * 52\n",
    "    live_age = 90\n",
    "    live_age_in_week  = live_age* 52\n",
    "    time_left = live_age_in_week - current_age_in_weeks\n",
    "    print(f\"You have {time_left} weeks left.\")\n",
    "\n",
    "life_in_weeks(36)"
   ]
  },
  {
   "cell_type": "markdown",
   "id": "c297c29b",
   "metadata": {},
   "source": [
    "### 2. Positional vs. Keyword Arguments"
   ]
  },
  {
   "cell_type": "markdown",
   "id": "f385b2b4",
   "metadata": {},
   "source": [
    "###### Positional Arguments\n",
    "\n",
    "    def my_function(a, b, c):\n",
    "        # Do this with a\n",
    "        # Then do this with b\n",
    "        # Finally do this with c    \n",
    "        \n",
    "    my_function(3, 1, 2) # a=3, b=1, c=2"
   ]
  },
  {
   "cell_type": "code",
   "execution_count": 19,
   "id": "c804dc73",
   "metadata": {},
   "outputs": [],
   "source": [
    "def great_with(name,location):\n",
    "    print(f\"Hello {name}.\")\n",
    "    print(f\"What is it like in {location}.\")"
   ]
  },
  {
   "cell_type": "code",
   "execution_count": 20,
   "id": "0a2cf4bb",
   "metadata": {},
   "outputs": [
    {
     "name": "stdout",
     "output_type": "stream",
     "text": [
      "Hello Digvijay.\n",
      "What is it like in Pune.\n"
     ]
    }
   ],
   "source": [
    "great_with(\"Digvijay\",'Pune')"
   ]
  },
  {
   "cell_type": "code",
   "execution_count": 21,
   "id": "87e5317c",
   "metadata": {},
   "outputs": [
    {
     "name": "stdout",
     "output_type": "stream",
     "text": [
      "Hello Pune.\n",
      "What is it like in Digvijay.\n"
     ]
    }
   ],
   "source": [
    "great_with('Pune',\"Digvijay\") # it will no sense because order of paraments"
   ]
  },
  {
   "cell_type": "markdown",
   "id": "af70da53",
   "metadata": {},
   "source": [
    "###### Keyword Arguments\n",
    "\n",
    "    def my_function(a, b, c):\n",
    "        # Do this with a\n",
    "        # Then do this with b\n",
    "        # Finally do this with c   \n",
    "        \n",
    "    my_function(c=3,a=1,b=2) # a=1, b=2, c=3"
   ]
  },
  {
   "cell_type": "code",
   "execution_count": 32,
   "id": "d0d15d7d",
   "metadata": {},
   "outputs": [],
   "source": [
    "def great_with(name, location):\n",
    "    print(f\"Hello {name}.\")\n",
    "    print(f\"What is it like in {location}.\")"
   ]
  },
  {
   "cell_type": "code",
   "execution_count": 34,
   "id": "943afe73",
   "metadata": {},
   "outputs": [
    {
     "name": "stdout",
     "output_type": "stream",
     "text": [
      "Hello Digvijay.\n",
      "What is it like in Pune.\n"
     ]
    }
   ],
   "source": [
    "great_with(location=\"Pune\",name=\"Digvijay\")\n",
    "# order changed but output correct due to keyword arguments"
   ]
  },
  {
   "cell_type": "markdown",
   "id": "0b918185",
   "metadata": {},
   "source": [
    "###### Coding excersize - Love Calculator"
   ]
  },
  {
   "cell_type": "markdown",
   "id": "9bb3a91e",
   "metadata": {},
   "source": [
    "You are going to write a function called calculate_love_score() that tests the compatibility between two names.  To work out the love score between two people: \n",
    "\n",
    "1. Take both people's names and check for the number of times the letters in the word TRUE occurs.   \n",
    "\n",
    "2. Then check for the number of times the letters in the word LOVE occurs.   \n",
    "\n",
    "3. Then combine these numbers to make a 2 digit number and print it out. "
   ]
  },
  {
   "cell_type": "code",
   "execution_count": 35,
   "id": "2e5c9fe5",
   "metadata": {},
   "outputs": [],
   "source": [
    "def calculate_love_score(name1,name2):\n",
    "    combined_word = name1 + name2\n",
    "    lower_case_word = combined_word.lower()\n",
    "    \n",
    "    t = lower_case_word.count(\"t\")\n",
    "    r = lower_case_word.count(\"r\")\n",
    "    u = lower_case_word.count(\"u\")\n",
    "    e = lower_case_word.count(\"e\")\n",
    "    \n",
    "    first_digit = t+r+u+e\n",
    "    \n",
    "    l = lower_case_word.count(\"l\")\n",
    "    o = lower_case_word.count(\"o\")\n",
    "    v = lower_case_word.count(\"v\")\n",
    "    e = lower_case_word.count(\"e\")\n",
    "    \n",
    "    second_digit = l+o+v+e \n",
    "    \n",
    "    score = int(str(first_digit)+ str(second_digit))\n",
    "    \n",
    "    print(f\"Your score is {score}\")"
   ]
  },
  {
   "cell_type": "code",
   "execution_count": 48,
   "id": "e1f88502",
   "metadata": {},
   "outputs": [
    {
     "name": "stdout",
     "output_type": "stream",
     "text": [
      "Your score is 31\n"
     ]
    }
   ],
   "source": [
    "calculate_love_score(name1=\"Virat\",name2=\"anushka\")"
   ]
  },
  {
   "cell_type": "markdown",
   "id": "c89cb1c9",
   "metadata": {},
   "source": [
    "### Day8 - Project - Caesar Cipher "
   ]
  },
  {
   "cell_type": "markdown",
   "id": "2b4acd6d",
   "metadata": {},
   "source": [
    "#### Caesar Cipher Part 1 - Encryption"
   ]
  },
  {
   "cell_type": "code",
   "execution_count": 72,
   "id": "cc2d4a9d",
   "metadata": {},
   "outputs": [],
   "source": [
    "# generating the allbhabets\n",
    "# import string \n",
    "\n",
    "# alphabet = list(string.ascii_lowercase)\n",
    "# print(alphabet)\n",
    "# # digits = string.digits\n",
    "# # print(list(digits))"
   ]
  },
  {
   "cell_type": "code",
   "execution_count": 73,
   "id": "5d78f2d0",
   "metadata": {},
   "outputs": [
    {
     "data": {
      "text/plain": [
       "1"
      ]
     },
     "execution_count": 73,
     "metadata": {},
     "output_type": "execute_result"
    }
   ],
   "source": [
    "fruits = [\"Apple\",\"Peer\",\"Orange\"]\n",
    "fruits.index(\"Peer\")"
   ]
  },
  {
   "cell_type": "code",
   "execution_count": 85,
   "id": "1a73dfd5",
   "metadata": {},
   "outputs": [
    {
     "name": "stdout",
     "output_type": "stream",
     "text": [
      "Type 'encode' to encrypt, type 'decode' to decrypt:\n",
      "encode\n",
      "Type your message:\n",
      "z\n",
      "Type the shift number:\n",
      "9\n",
      "Here is the encoded result: i\n"
     ]
    }
   ],
   "source": [
    "alphabet = ['a', 'b', 'c', 'd', 'e', 'f', 'g', 'h', 'i', 'j', 'k', 'l', 'm', 'n', 'o', 'p', 'q', 'r', 's', 't', 'u', 'v', 'w', 'x', 'y', 'z']\n",
    "\n",
    "direction = input(\"Type 'encode' to encrypt, type 'decode' to decrypt:\\n\").lower()\n",
    "\n",
    "text = input(\"Type your message:\\n\").lower()\n",
    "\n",
    "shift = int(input(\"Type the shift number:\\n\"))\n",
    "\n",
    "#TODO-1: create the function called 'encrypt()' that take 'original_text' and shiift amount \n",
    "         # as 2nd input\n",
    "#TODO-2: Inside the 'encrypt()' function, shift each letter of the 'original_text' forwords \n",
    "        # in the alphabet by the 'shift_amount' and print the encrypted text.\n",
    "    \n",
    "def encrypt(original_text, shift_amount):\n",
    "    # hello 2 \n",
    "    cipher_text = \"\" # j \n",
    "                \n",
    "    #TODO-4: What happens if you try to shift z forwards by 9? can you fix the code? \n",
    "    for letter in original_text:\n",
    "        shifted_position = alphabet.index(letter) + shift_amount \n",
    "        \n",
    "        shifted_position %= len(alphabet) # 0-25 # it will prevent the out of range problem\n",
    "        cipher_text += alphabet[shifted_position] \n",
    "    \n",
    "    print(f\"Here is the encoded result: {cipher_text}\")\n",
    "        \n",
    "# TODO-3: Call the 'encrypt()' function and pass in the user inputs. \n",
    "          # You should be able to test the code and encrypt a message\n",
    "    \n",
    "encrypt(original_text=text, shift_amount=shift)"
   ]
  },
  {
   "cell_type": "code",
   "execution_count": 82,
   "id": "4791ee3a",
   "metadata": {},
   "outputs": [
    {
     "data": {
      "text/plain": [
       "9"
      ]
     },
     "execution_count": 82,
     "metadata": {},
     "output_type": "execute_result"
    }
   ],
   "source": [
    "34%25"
   ]
  },
  {
   "cell_type": "code",
   "execution_count": null,
   "id": "10b8ee54",
   "metadata": {},
   "outputs": [],
   "source": []
  }
 ],
 "metadata": {
  "kernelspec": {
   "display_name": "Python 3 (ipykernel)",
   "language": "python",
   "name": "python3"
  },
  "language_info": {
   "codemirror_mode": {
    "name": "ipython",
    "version": 3
   },
   "file_extension": ".py",
   "mimetype": "text/x-python",
   "name": "python",
   "nbconvert_exporter": "python",
   "pygments_lexer": "ipython3",
   "version": "3.11.5"
  }
 },
 "nbformat": 4,
 "nbformat_minor": 5
}
