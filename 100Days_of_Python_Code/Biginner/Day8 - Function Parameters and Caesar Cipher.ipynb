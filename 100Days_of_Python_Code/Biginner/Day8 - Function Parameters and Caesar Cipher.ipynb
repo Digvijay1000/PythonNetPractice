{
 "cells": [
  {
   "cell_type": "markdown",
   "id": "6c5867c3",
   "metadata": {},
   "source": [
    "# Day8 - Function Parameters and Caesar Cipher"
   ]
  },
  {
   "cell_type": "markdown",
   "id": "6647cb61",
   "metadata": {},
   "source": [
    "### 1. Functions with Inputs"
   ]
  },
  {
   "cell_type": "markdown",
   "id": "a36f2fe1",
   "metadata": {},
   "source": [
    "    def my_function(something):\n",
    "        # Do this with something\n",
    "        # Then do this \n",
    "        # Finally do this\n",
    "        \n",
    "    something is called as - Parameter \n",
    "    something equal to called as - Argument\n",
    "    e.g something = 123"
   ]
  },
  {
   "cell_type": "code",
   "execution_count": 7,
   "id": "7d66fbf9",
   "metadata": {},
   "outputs": [],
   "source": [
    "def my_function():\n",
    "    print(\"Hello Digvijay\")\n",
    "    print(\"How do you do?\")\n",
    "    print(\"Isn't the weather nice?\")"
   ]
  },
  {
   "cell_type": "code",
   "execution_count": 8,
   "id": "def56fdf",
   "metadata": {},
   "outputs": [
    {
     "name": "stdout",
     "output_type": "stream",
     "text": [
      "Hello Digvijay\n",
      "How do you do?\n",
      "Isn't the weather nice?\n"
     ]
    }
   ],
   "source": [
    "my_function()"
   ]
  },
  {
   "cell_type": "code",
   "execution_count": 10,
   "id": "81eeec04",
   "metadata": {},
   "outputs": [],
   "source": [
    "def my_function_name(name):\n",
    "    print(f\"Hello {name}\")\n",
    "    print(f\"How do you do {name}\")"
   ]
  },
  {
   "cell_type": "code",
   "execution_count": 12,
   "id": "ec059859",
   "metadata": {},
   "outputs": [
    {
     "name": "stdout",
     "output_type": "stream",
     "text": [
      "Hello Digvijay\n",
      "How do you do Digvijay\n"
     ]
    }
   ],
   "source": [
    "my_function_name(\"Digvijay\")"
   ]
  },
  {
   "cell_type": "code",
   "execution_count": 13,
   "id": "f21f62a6",
   "metadata": {},
   "outputs": [
    {
     "name": "stdout",
     "output_type": "stream",
     "text": [
      "Hello Abhimanyu\n",
      "How do you do Abhimanyu\n"
     ]
    }
   ],
   "source": [
    "my_function_name(\"Abhimanyu\")"
   ]
  },
  {
   "cell_type": "markdown",
   "id": "135661e3",
   "metadata": {},
   "source": [
    "###### coding excersize - life in week"
   ]
  },
  {
   "cell_type": "markdown",
   "id": "1603f783",
   "metadata": {},
   "source": [
    "Create a function called life_in_weeks() using maths and f-Strings that tells us how many weeks we have left, if we live until 90 years old.\n",
    "\n",
    "It will take your current age as the input and output a message with our time left in this format:\n",
    "          \n",
    "    You have x weeks left.\n",
    "Where x is replaced with the actual calculated number of weeks the input age has left until age 90."
   ]
  },
  {
   "cell_type": "code",
   "execution_count": 15,
   "id": "d862aed9",
   "metadata": {},
   "outputs": [
    {
     "name": "stdout",
     "output_type": "stream",
     "text": [
      "You have 2808 weeks left.\n"
     ]
    }
   ],
   "source": [
    "def life_in_weeks(current_age):\n",
    "    current_age = int(current_age)\n",
    "    current_age_in_weeks = current_age * 52\n",
    "    live_age = 90\n",
    "    live_age_in_week  = live_age* 52\n",
    "    time_left = live_age_in_week - current_age_in_weeks\n",
    "    print(f\"You have {time_left} weeks left.\")\n",
    "\n",
    "life_in_weeks(36)"
   ]
  },
  {
   "cell_type": "markdown",
   "id": "fd7acd4a",
   "metadata": {},
   "source": [
    "### 2. Positional vs. Keyword Arguments"
   ]
  },
  {
   "cell_type": "markdown",
   "id": "ac01fe48",
   "metadata": {},
   "source": [
    "###### Positional Arguments\n",
    "\n",
    "    def my_function(a, b, c):\n",
    "        # Do this with a\n",
    "        # Then do this with b\n",
    "        # Finally do this with c    \n",
    "        \n",
    "    my_function(3, 1, 2) # a=3, b=1, c=2"
   ]
  },
  {
   "cell_type": "code",
   "execution_count": 19,
   "id": "8ca7efd8",
   "metadata": {},
   "outputs": [],
   "source": [
    "def great_with(name,location):\n",
    "    print(f\"Hello {name}.\")\n",
    "    print(f\"What is it like in {location}.\")"
   ]
  },
  {
   "cell_type": "code",
   "execution_count": 20,
   "id": "4c3f54ef",
   "metadata": {},
   "outputs": [
    {
     "name": "stdout",
     "output_type": "stream",
     "text": [
      "Hello Digvijay.\n",
      "What is it like in Pune.\n"
     ]
    }
   ],
   "source": [
    "great_with(\"Digvijay\",'Pune')"
   ]
  },
  {
   "cell_type": "code",
   "execution_count": 21,
   "id": "572e9eec",
   "metadata": {},
   "outputs": [
    {
     "name": "stdout",
     "output_type": "stream",
     "text": [
      "Hello Pune.\n",
      "What is it like in Digvijay.\n"
     ]
    }
   ],
   "source": [
    "great_with('Pune',\"Digvijay\") # it will no sense because order of paraments"
   ]
  },
  {
   "cell_type": "markdown",
   "id": "9d73dc76",
   "metadata": {},
   "source": [
    "###### Keyword Arguments\n",
    "\n",
    "    def my_function(a, b, c):\n",
    "        # Do this with a\n",
    "        # Then do this with b\n",
    "        # Finally do this with c   \n",
    "        \n",
    "    my_function(c=3,a=1,b=2) # a=1, b=2, c=3"
   ]
  },
  {
   "cell_type": "code",
   "execution_count": 32,
   "id": "32584ff9",
   "metadata": {},
   "outputs": [],
   "source": [
    "def great_with(name, location):\n",
    "    print(f\"Hello {name}.\")\n",
    "    print(f\"What is it like in {location}.\")"
   ]
  },
  {
   "cell_type": "code",
   "execution_count": 34,
   "id": "cb08fb71",
   "metadata": {},
   "outputs": [
    {
     "name": "stdout",
     "output_type": "stream",
     "text": [
      "Hello Digvijay.\n",
      "What is it like in Pune.\n"
     ]
    }
   ],
   "source": [
    "great_with(location=\"Pune\",name=\"Digvijay\")\n",
    "# order changed but output correct due to keyword arguments"
   ]
  },
  {
   "cell_type": "markdown",
   "id": "ec82638c",
   "metadata": {},
   "source": [
    "###### Coding excersize - Love Calculator"
   ]
  },
  {
   "cell_type": "markdown",
   "id": "ddb9cac4",
   "metadata": {},
   "source": [
    "You are going to write a function called calculate_love_score() that tests the compatibility between two names.  To work out the love score between two people: \n",
    "\n",
    "1. Take both people's names and check for the number of times the letters in the word TRUE occurs.   \n",
    "\n",
    "2. Then check for the number of times the letters in the word LOVE occurs.   \n",
    "\n",
    "3. Then combine these numbers to make a 2 digit number and print it out. "
   ]
  },
  {
   "cell_type": "code",
   "execution_count": 35,
   "id": "71f420b6",
   "metadata": {},
   "outputs": [],
   "source": [
    "def calculate_love_score(name1,name2):\n",
    "    combined_word = name1 + name2\n",
    "    lower_case_word = combined_word.lower()\n",
    "    \n",
    "    t = lower_case_word.count(\"t\")\n",
    "    r = lower_case_word.count(\"r\")\n",
    "    u = lower_case_word.count(\"u\")\n",
    "    e = lower_case_word.count(\"e\")\n",
    "    \n",
    "    first_digit = t+r+u+e\n",
    "    \n",
    "    l = lower_case_word.count(\"l\")\n",
    "    o = lower_case_word.count(\"o\")\n",
    "    v = lower_case_word.count(\"v\")\n",
    "    e = lower_case_word.count(\"e\")\n",
    "    \n",
    "    second_digit = l+o+v+e \n",
    "    \n",
    "    score = int(str(first_digit)+ str(second_digit))\n",
    "    \n",
    "    print(f\"Your score is {score}\")"
   ]
  },
  {
   "cell_type": "code",
   "execution_count": 48,
   "id": "28f9e6ff",
   "metadata": {},
   "outputs": [
    {
     "name": "stdout",
     "output_type": "stream",
     "text": [
      "Your score is 31\n"
     ]
    }
   ],
   "source": [
    "calculate_love_score(name1=\"Virat\",name2=\"anushka\")"
   ]
  },
  {
   "cell_type": "markdown",
   "id": "7cdd6297",
   "metadata": {},
   "source": [
    "### Day8 - Project - Caesar Cipher "
   ]
  },
  {
   "cell_type": "markdown",
   "id": "a47f951c",
   "metadata": {},
   "source": [
    "#### Caesar Cipher Part 1 - Encryption"
   ]
  },
  {
   "cell_type": "code",
   "execution_count": 72,
   "id": "9af3a9de",
   "metadata": {},
   "outputs": [],
   "source": [
    "# generating the allbhabets\n",
    "# import string \n",
    "\n",
    "# alphabet = list(string.ascii_lowercase)\n",
    "# print(alphabet)\n",
    "# # digits = string.digits\n",
    "# # print(list(digits))"
   ]
  },
  {
   "cell_type": "code",
   "execution_count": 85,
   "id": "e0bba25d",
   "metadata": {},
   "outputs": [
    {
     "name": "stdout",
     "output_type": "stream",
     "text": [
      "Type 'encode' to encrypt, type 'decode' to decrypt:\n",
      "encode\n",
      "Type your message:\n",
      "z\n",
      "Type the shift number:\n",
      "9\n",
      "Here is the encoded result: i\n"
     ]
    }
   ],
   "source": [
    "alphabet = ['a', 'b', 'c', 'd', 'e', 'f', 'g', 'h', 'i', 'j', 'k', 'l', 'm', 'n', 'o', 'p', 'q', 'r', 's', 't', 'u', 'v', 'w', 'x', 'y', 'z']\n",
    "\n",
    "direction = input(\"Type 'encode' to encrypt, type 'decode' to decrypt:\\n\").lower()\n",
    "\n",
    "text = input(\"Type your message:\\n\").lower()\n",
    "\n",
    "shift = int(input(\"Type the shift number:\\n\"))\n",
    "\n",
    "#TODO-1: create the function called 'encrypt()' that take 'original_text' and shiift amount \n",
    "         # as 2nd input\n",
    "#TODO-2: Inside the 'encrypt()' function, shift each letter of the 'original_text' forwords \n",
    "        # in the alphabet by the 'shift_amount' and print the encrypted text.\n",
    "    \n",
    "def encrypt(original_text, shift_amount):\n",
    "    # hello 2 \n",
    "    cipher_text = \"\" # j \n",
    "                \n",
    "    #TODO-4: What happens if you try to shift z forwards by 9? can you fix the code? \n",
    "    for letter in original_text:\n",
    "        shifted_position = alphabet.index(letter) + shift_amount \n",
    "        \n",
    "        shifted_position %= len(alphabet) # 0-25 # it will prevent the out of range problem\n",
    "        cipher_text += alphabet[shifted_position] \n",
    "    \n",
    "    print(f\"Here is the encoded result: {cipher_text}\")\n",
    "        \n",
    "# TODO-3: Call the 'encrypt()' function and pass in the user inputs. \n",
    "          # You should be able to test the code and encrypt a message\n",
    "    \n",
    "encrypt(original_text=text, shift_amount=shift)"
   ]
  },
  {
   "cell_type": "code",
   "execution_count": 82,
   "id": "87caae5a",
   "metadata": {},
   "outputs": [
    {
     "data": {
      "text/plain": [
       "9"
      ]
     },
     "execution_count": 82,
     "metadata": {},
     "output_type": "execute_result"
    }
   ],
   "source": [
    "34%25"
   ]
  },
  {
   "cell_type": "markdown",
   "id": "84b3558b",
   "metadata": {},
   "source": [
    "#### Caesar Cipher Part 2 - Decryption"
   ]
  },
  {
   "cell_type": "code",
   "execution_count": 9,
   "id": "0bf95785",
   "metadata": {},
   "outputs": [
    {
     "name": "stdout",
     "output_type": "stream",
     "text": [
      "Type 'encode' to encrypt, type 'decode' to decrypt:\n",
      "decode\n",
      "Type your message:\n",
      "c\n",
      "Type the shift number:\n",
      "2\n",
      "Here is the decoded result: a\n"
     ]
    }
   ],
   "source": [
    "alphabet = ['a', 'b', 'c', 'd', 'e', 'f', 'g', 'h', 'i', 'j', 'k', 'l', 'm', 'n', 'o', 'p', 'q', 'r', 's', 't', 'u', 'v', 'w', 'x', 'y', 'z']\n",
    "\n",
    "direction = input(\"Type 'encode' to encrypt, type 'decode' to decrypt:\\n\").lower()\n",
    "\n",
    "text = input(\"Type your message:\\n\").lower()\n",
    "\n",
    "shift = int(input(\"Type the shift number:\\n\"))\n",
    "\n",
    "\n",
    "def encrypt(original_text, shift_amount):\n",
    "    # hello 2 \n",
    "    cipher_text = \"\" \n",
    "    for letter in original_text:\n",
    "        shifted_position = alphabet.index(letter) + shift_amount      \n",
    "        shifted_position %= len(alphabet) \n",
    "        cipher_text += alphabet[shifted_position]  \n",
    "    print(f\"Here is the encoded result: {cipher_text}\")\n",
    "    \n",
    "#TODO-1: Create the function called 'decrypt()' that takes the 'original_text' and shift_amount as 2 input    \n",
    "#TODO-2: Inside the 'decrypy()' function, shift each letter of the 'original_text' forwards in the alphabet\n",
    "         # backwards by the shift_amount and print the decrypted text.\n",
    "\n",
    "def decrypt(original_text, shift_amount):\n",
    "    output_text = \"\" \n",
    "    for letter in original_text:\n",
    "        shifted_position = alphabet.index(letter) - shift_amount \n",
    "        shifted_position %= len(alphabet) \n",
    "        output_text += alphabet[shifted_position] \n",
    "    print(f\"Here is the encoded result: {output_text}\")\n",
    "    \n",
    "#TODO-3: Combine the encrypt() and decrypt() functions into single function called 'caesar()'.\n",
    "        # use the value of the user chosen 'direction' variable to determine which functionality to use.\n",
    "        # call the caesar() function instead of encrypt/decrypt and pass in all three variables\n",
    "         # direction/ text/ shift \n",
    "\n",
    "def caesar(original_text, shift_amount, encode_or_decode):\n",
    "    output_text = \"\" \n",
    "    for letter in original_text:\n",
    "        # 3 + (5 * -1) >> 3 - 1 \n",
    "        if encode_or_decode == 'decode':\n",
    "            shift_amount *= -1\n",
    "        \n",
    "        shifted_position = alphabet.index(letter) + shift_amount \n",
    "        shifted_position %= len(alphabet) \n",
    "        output_text += alphabet[shifted_position] \n",
    "    print(f\"Here is the {encode_or_decode}d result: {output_text}\")\n",
    "    \n",
    "            \n",
    "# decrypt(original_text=text, shift_amount=shift)       \n",
    "# encrypt(original_text=text, shift_amount=shift)\n",
    "caesar(original_text=text, shift_amount=shift, encode_or_decode=direction)\n"
   ]
  },
  {
   "cell_type": "markdown",
   "id": "acd5ce51",
   "metadata": {},
   "source": [
    "#### Caesar Cipher Part 3 - Reorganising our Code"
   ]
  },
  {
   "cell_type": "code",
   "execution_count": 13,
   "id": "357a4854",
   "metadata": {},
   "outputs": [
    {
     "name": "stdout",
     "output_type": "stream",
     "text": [
      "\n",
      "  ___ __ _  ___  ___  __ _ _ __ \n",
      " / __/ _` |/ _ \\/ __|/ _` | '__|\n",
      "| (_| (_| |  __/\\__ \\ (_| | |   \n",
      " \\___\\__,_|\\___||___/\\__,_|_| \n",
      " \n",
      "\n",
      "\n",
      "      _       _               \n",
      "     (_)     | |              \n",
      "  ___ _ _ __ | |__   ___ _ __ \n",
      " / __| | '_ \\| '_ \\ / _ \\ '__|\n",
      "| (__| | |_) | | | |  __/ |   \n",
      " \\___|_| .__/|_| |_|\\___|_|   \n",
      "       | |                    \n",
      "       |_|  \n",
      "\n",
      "Type 'encode' to encrypt, type 'decode' to decrypt:\n",
      "encode\n",
      "Type your message:\n",
      "a\n",
      "Type the shift number:\n",
      "2\n",
      "Here is the encoded result: c\n",
      "Type 'yes' if you want to go again, type 'no'.\n",
      "yes\n",
      "Type 'encode' to encrypt, type 'decode' to decrypt:\n",
      "decode\n",
      "Type your message:\n",
      "c\n",
      "Type the shift number:\n",
      "2\n",
      "Here is the decoded result: a\n",
      "Type 'yes' if you want to go again, type 'no'.\n",
      "no\n",
      "Goodbye\n"
     ]
    }
   ],
   "source": [
    "# TODO-1: Import and print the logo from art.py when the program starts \n",
    "\n",
    "print(\"\"\"\n",
    "  ___ __ _  ___  ___  __ _ _ __ \n",
    " / __/ _` |/ _ \\/ __|/ _` | '__|\n",
    "| (_| (_| |  __/\\__ \\ (_| | |   \n",
    " \\___\\__,_|\\___||___/\\__,_|_| \n",
    " \n",
    "\"\"\")\n",
    "\n",
    "print(\"\"\"\n",
    "      _       _               \n",
    "     (_)     | |              \n",
    "  ___ _ _ __ | |__   ___ _ __ \n",
    " / __| | '_ \\| '_ \\ / _ \\ '__|\n",
    "| (__| | |_) | | | |  __/ |   \n",
    " \\___|_| .__/|_| |_|\\___|_|   \n",
    "       | |                    \n",
    "       |_|  \n",
    "\"\"\")\n",
    "\n",
    "alphabet = ['a', 'b', 'c', 'd', 'e', 'f', 'g', 'h', 'i', 'j', 'k', 'l', 'm', 'n', 'o', 'p', 'q', 'r', 's', 't', 'u', 'v', 'w', 'x', 'y', 'z']\n",
    "\n",
    "# TODO-2: What happens if the user enters a number/space/symbol?\n",
    "\n",
    "\n",
    "\n",
    "\n",
    "def caesar(original_text, shift_amount, encode_or_decode):\n",
    "    output_text = \"\" \n",
    "    \n",
    "    # 3 + (5 * -1) >> 3 - 1 \n",
    "    if encode_or_decode == 'decode':\n",
    "        shift_amount *= -1\n",
    "        \n",
    "    for letter in original_text:   \n",
    "        if letter not in alphabet:\n",
    "            output_text += letter\n",
    "        else:                \n",
    "            shifted_position = alphabet.index(letter) + shift_amount \n",
    "            shifted_position %= len(alphabet) \n",
    "            output_text += alphabet[shifted_position] \n",
    "            \n",
    "    print(f\"Here is the {encode_or_decode}d result: {output_text}\")\n",
    "\n",
    "# TODO-3: Can you figure out the way to restart the cipher program?\n",
    "should_continue = True\n",
    "\n",
    "while should_continue:\n",
    "    direction = input(\"Type 'encode' to encrypt, type 'decode' to decrypt:\\n\").lower()\n",
    "    text = input(\"Type your message:\\n\").lower()\n",
    "    shift = int(input(\"Type the shift number:\\n\"))\n",
    "    \n",
    "    caesar(original_text=text, shift_amount=shift, encode_or_decode=direction)\n",
    "\n",
    "    restart = input(\"Type 'yes' if you want to go again, type 'no'.\\n\").lower()\n",
    "    if restart == \"no\":\n",
    "        should_continue = False\n",
    "        print(\"Goodbye\")"
   ]
  },
  {
   "cell_type": "markdown",
   "id": "cad4f326",
   "metadata": {},
   "source": [
    "# write down why you are doing this you will keep motovation"
   ]
  },
  {
   "cell_type": "code",
   "execution_count": null,
   "id": "ddf30671",
   "metadata": {},
   "outputs": [],
   "source": []
  }
 ],
 "metadata": {
  "kernelspec": {
   "display_name": "Python 3 (ipykernel)",
   "language": "python",
   "name": "python3"
  },
  "language_info": {
   "codemirror_mode": {
    "name": "ipython",
    "version": 3
   },
   "file_extension": ".py",
   "mimetype": "text/x-python",
   "name": "python",
   "nbconvert_exporter": "python",
   "pygments_lexer": "ipython3",
   "version": "3.11.5"
  }
 },
 "nbformat": 4,
 "nbformat_minor": 5
}
