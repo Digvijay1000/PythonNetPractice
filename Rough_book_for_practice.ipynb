{
 "cells": [
  {
   "cell_type": "markdown",
   "id": "ba1c6844",
   "metadata": {},
   "source": [
    "## My Rough Notebook"
   ]
  },
  {
   "cell_type": "code",
   "execution_count": 6,
   "id": "ba6b0ec0",
   "metadata": {},
   "outputs": [],
   "source": [
    "_abhi = 10"
   ]
  },
  {
   "cell_type": "code",
   "execution_count": 5,
   "id": "63a839bc",
   "metadata": {},
   "outputs": [],
   "source": [
    "import keyword"
   ]
  },
  {
   "cell_type": "code",
   "execution_count": 8,
   "id": "08357ccf",
   "metadata": {},
   "outputs": [
    {
     "name": "stdout",
     "output_type": "stream",
     "text": [
      "['False', 'None', 'True', 'and', 'as', 'assert', 'async', 'await', 'break', 'class', 'continue', 'def', 'del', 'elif', 'else', 'except', 'finally', 'for', 'from', 'global', 'if', 'import', 'in', 'is', 'lambda', 'nonlocal', 'not', 'or', 'pass', 'raise', 'return', 'try', 'while', 'with', 'yield']\n"
     ]
    }
   ],
   "source": [
    "print(keyword.kwlist)"
   ]
  },
  {
   "cell_type": "code",
   "execution_count": 10,
   "id": "d0046c60",
   "metadata": {},
   "outputs": [
    {
     "name": "stdout",
     "output_type": "stream",
     "text": [
      "35\n"
     ]
    }
   ],
   "source": [
    "print(len(keyword.kwlist))"
   ]
  },
  {
   "cell_type": "code",
   "execution_count": 16,
   "id": "c4f77f31",
   "metadata": {},
   "outputs": [
    {
     "name": "stdout",
     "output_type": "stream",
     "text": [
      "1 <class 'int'>\n"
     ]
    }
   ],
   "source": [
    "a=0x1\n",
    "print(a, type(a))"
   ]
  },
  {
   "cell_type": "code",
   "execution_count": 17,
   "id": "03fd32f9",
   "metadata": {},
   "outputs": [
    {
     "name": "stdout",
     "output_type": "stream",
     "text": [
      "10 <class 'int'>\n",
      "9 <class 'int'>\n",
      "1 <class 'int'>\n",
      "0o12 <class 'str'>\n",
      "0o11 <class 'str'>\n",
      "0o1 <class 'str'>\n"
     ]
    },
    {
     "data": {
      "text/plain": [
       "(None, None, None)"
      ]
     },
     "execution_count": 17,
     "metadata": {},
     "output_type": "execute_result"
    }
   ],
   "source": [
    "a=10\n",
    "b=9\n",
    "c=1\n",
    "print(a,type(a)), print(b,type(b)), print(c,type(c))\n",
    "x=oct(a)\n",
    "y=oct(b)\n",
    "z=oct(c)\n",
    "print(x,type(x)), print(y,type(y)), print(z,type(z))"
   ]
  },
  {
   "cell_type": "code",
   "execution_count": 18,
   "id": "004ef2a4",
   "metadata": {},
   "outputs": [],
   "source": [
    "A=10\n",
    "B=15"
   ]
  },
  {
   "cell_type": "code",
   "execution_count": 22,
   "id": "f933deeb",
   "metadata": {},
   "outputs": [],
   "source": [
    "x=hex(A)\n",
    "y=hex(B)"
   ]
  },
  {
   "cell_type": "code",
   "execution_count": 23,
   "id": "3b53371a",
   "metadata": {},
   "outputs": [
    {
     "data": {
      "text/plain": [
       "('0xa', '0xf')"
      ]
     },
     "execution_count": 23,
     "metadata": {},
     "output_type": "execute_result"
    }
   ],
   "source": [
    "x,y"
   ]
  },
  {
   "cell_type": "code",
   "execution_count": 24,
   "id": "741efbe3",
   "metadata": {},
   "outputs": [],
   "source": [
    "x=1+2j"
   ]
  },
  {
   "cell_type": "code",
   "execution_count": 25,
   "id": "2284b6c3",
   "metadata": {},
   "outputs": [
    {
     "data": {
      "text/plain": [
       "complex"
      ]
     },
     "execution_count": 25,
     "metadata": {},
     "output_type": "execute_result"
    }
   ],
   "source": [
    "type(x)"
   ]
  },
  {
   "cell_type": "code",
   "execution_count": 27,
   "id": "c7350487",
   "metadata": {},
   "outputs": [
    {
     "data": {
      "text/plain": [
       "(1.0, 2.0)"
      ]
     },
     "execution_count": 27,
     "metadata": {},
     "output_type": "execute_result"
    }
   ],
   "source": [
    "x.real, x.imag"
   ]
  },
  {
   "cell_type": "code",
   "execution_count": 32,
   "id": "6de419c4",
   "metadata": {},
   "outputs": [
    {
     "data": {
      "text/plain": [
       "('True', 'False')"
      ]
     },
     "execution_count": 32,
     "metadata": {},
     "output_type": "execute_result"
    }
   ],
   "source": [
    "str(True), str(False)"
   ]
  },
  {
   "cell_type": "code",
   "execution_count": 36,
   "id": "2964d4df",
   "metadata": {},
   "outputs": [
    {
     "data": {
      "text/plain": [
       "False"
      ]
     },
     "execution_count": 36,
     "metadata": {},
     "output_type": "execute_result"
    }
   ],
   "source": [
    "bool(0.0)"
   ]
  },
  {
   "cell_type": "code",
   "execution_count": 38,
   "id": "b13c1b53",
   "metadata": {},
   "outputs": [
    {
     "data": {
      "text/plain": [
       "(False, True)"
      ]
     },
     "execution_count": 38,
     "metadata": {},
     "output_type": "execute_result"
    }
   ],
   "source": [
    "bool(''), bool(\"avag\")"
   ]
  },
  {
   "cell_type": "code",
   "execution_count": 11,
   "id": "20519958",
   "metadata": {},
   "outputs": [
    {
     "name": "stdout",
     "output_type": "stream",
     "text": [
      "0o1\n"
     ]
    }
   ],
   "source": [
    "d=1\n",
    "o=oct(d)\n",
    "print(o)"
   ]
  },
  {
   "cell_type": "code",
   "execution_count": 15,
   "id": "1f8f0def",
   "metadata": {},
   "outputs": [
    {
     "name": "stdout",
     "output_type": "stream",
     "text": [
      "8 <class 'int'>\n"
     ]
    }
   ],
   "source": [
    "aa = 0o10\n",
    "print(aa, type(aa))"
   ]
  },
  {
   "cell_type": "code",
   "execution_count": 17,
   "id": "ebb1cd13",
   "metadata": {},
   "outputs": [
    {
     "name": "stdout",
     "output_type": "stream",
     "text": [
      "(10+20j)\n",
      "10.0\n",
      "20.0\n"
     ]
    }
   ],
   "source": [
    "com = 10+20j\n",
    "print(com)\n",
    "print(com.real)\n",
    "print(com.imag)"
   ]
  },
  {
   "cell_type": "code",
   "execution_count": 18,
   "id": "a765ad54",
   "metadata": {},
   "outputs": [
    {
     "name": "stdout",
     "output_type": "stream",
     "text": [
      "False True True True False\n"
     ]
    }
   ],
   "source": [
    "print(bool(''),bool(' '),bool('Abhi'),bool(1),bool(0))"
   ]
  },
  {
   "cell_type": "code",
   "execution_count": 19,
   "id": "1b14b81b",
   "metadata": {},
   "outputs": [
    {
     "name": "stdout",
     "output_type": "stream",
     "text": [
      "True False\n"
     ]
    }
   ],
   "source": [
    "print(bool(1+2j),bool(0+0j))"
   ]
  },
  {
   "cell_type": "code",
   "execution_count": 24,
   "id": "498addbc",
   "metadata": {},
   "outputs": [
    {
     "name": "stdout",
     "output_type": "stream",
     "text": [
      "0j\n"
     ]
    }
   ],
   "source": [
    "print(0+0j)"
   ]
  },
  {
   "cell_type": "code",
   "execution_count": 25,
   "id": "5fafa066",
   "metadata": {},
   "outputs": [],
   "source": [
    "a = '                   india is my country               '"
   ]
  },
  {
   "cell_type": "code",
   "execution_count": 35,
   "id": "c43c6133",
   "metadata": {},
   "outputs": [
    {
     "data": {
      "text/plain": [
       "'Bharat is my country'"
      ]
     },
     "execution_count": 35,
     "metadata": {},
     "output_type": "execute_result"
    }
   ],
   "source": [
    "a.replace(a,'Bharat is my country')"
   ]
  },
  {
   "cell_type": "code",
   "execution_count": 38,
   "id": "605e5c8b",
   "metadata": {},
   "outputs": [
    {
     "data": {
      "text/plain": [
       "['india', 'is', 'my', 'country']"
      ]
     },
     "execution_count": 38,
     "metadata": {},
     "output_type": "execute_result"
    }
   ],
   "source": [
    "b= a.split()\n",
    "b"
   ]
  },
  {
   "cell_type": "code",
   "execution_count": 50,
   "id": "02ef5435",
   "metadata": {},
   "outputs": [
    {
     "data": {
      "text/plain": [
       "'india--is--my--country'"
      ]
     },
     "execution_count": 50,
     "metadata": {},
     "output_type": "execute_result"
    }
   ],
   "source": [
    "'--'.join(b)"
   ]
  },
  {
   "cell_type": "code",
   "execution_count": 49,
   "id": "36394e3a",
   "metadata": {},
   "outputs": [
    {
     "data": {
      "text/plain": [
       "'-------MyGoal-------'"
      ]
     },
     "execution_count": 49,
     "metadata": {},
     "output_type": "execute_result"
    }
   ],
   "source": [
    "d = 'MyGoal'\n",
    "d.center(20,'-')"
   ]
  },
  {
   "cell_type": "code",
   "execution_count": 51,
   "id": "8b52ca9e",
   "metadata": {},
   "outputs": [
    {
     "data": {
      "text/plain": [
       "37"
      ]
     },
     "execution_count": 51,
     "metadata": {},
     "output_type": "execute_result"
    }
   ],
   "source": [
    "a.count(' ')"
   ]
  },
  {
   "cell_type": "code",
   "execution_count": 54,
   "id": "e2761705",
   "metadata": {},
   "outputs": [
    {
     "data": {
      "text/plain": [
       "14"
      ]
     },
     "execution_count": 54,
     "metadata": {},
     "output_type": "execute_result"
    }
   ],
   "source": [
    "e=d.center(20,'-')\n",
    "e.count('-')"
   ]
  },
  {
   "cell_type": "code",
   "execution_count": 58,
   "id": "69e83aed",
   "metadata": {},
   "outputs": [
    {
     "data": {
      "text/plain": [
       "'Hello, world!'"
      ]
     },
     "execution_count": 58,
     "metadata": {},
     "output_type": "execute_result"
    }
   ],
   "source": [
    "\"Hello, {}!\".format('world')"
   ]
  },
  {
   "cell_type": "code",
   "execution_count": 60,
   "id": "31a8894c",
   "metadata": {},
   "outputs": [
    {
     "name": "stdout",
     "output_type": "stream",
     "text": [
      "The value of pi is 3.14\n"
     ]
    }
   ],
   "source": [
    "pi = 3.14169\n",
    "print(\"The value of pi is {:.2f}\".format(pi))"
   ]
  },
  {
   "cell_type": "code",
   "execution_count": 61,
   "id": "085e61f8",
   "metadata": {},
   "outputs": [
    {
     "name": "stdout",
     "output_type": "stream",
     "text": [
      "Hello world..!, my name is Digvaijy\n"
     ]
    }
   ],
   "source": [
    "print(\"Hello {0}..!, my name is {name}\".format('world',name=\"Digvaijy\"))"
   ]
  },
  {
   "cell_type": "code",
   "execution_count": null,
   "id": "68bcb884",
   "metadata": {},
   "outputs": [],
   "source": []
  },
  {
   "cell_type": "code",
   "execution_count": null,
   "id": "eb44c72e",
   "metadata": {},
   "outputs": [],
   "source": []
  },
  {
   "cell_type": "code",
   "execution_count": null,
   "id": "64bba687",
   "metadata": {},
   "outputs": [],
   "source": []
  },
  {
   "cell_type": "code",
   "execution_count": null,
   "id": "ffb1a3bf",
   "metadata": {},
   "outputs": [],
   "source": []
  },
  {
   "cell_type": "code",
   "execution_count": null,
   "id": "a2ca5d90",
   "metadata": {},
   "outputs": [],
   "source": []
  }
 ],
 "metadata": {
  "kernelspec": {
   "display_name": "Python 3 (ipykernel)",
   "language": "python",
   "name": "python3"
  },
  "language_info": {
   "codemirror_mode": {
    "name": "ipython",
    "version": 3
   },
   "file_extension": ".py",
   "mimetype": "text/x-python",
   "name": "python",
   "nbconvert_exporter": "python",
   "pygments_lexer": "ipython3",
   "version": "3.11.5"
  }
 },
 "nbformat": 4,
 "nbformat_minor": 5
}
