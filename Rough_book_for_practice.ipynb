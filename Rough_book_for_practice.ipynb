{
 "cells": [
  {
   "cell_type": "markdown",
   "id": "ba1c6844",
   "metadata": {},
   "source": [
    "## My Rough Notebook"
   ]
  },
  {
   "cell_type": "code",
   "execution_count": 6,
   "id": "ba6b0ec0",
   "metadata": {},
   "outputs": [],
   "source": [
    "_abhi = 10"
   ]
  },
  {
   "cell_type": "code",
   "execution_count": 5,
   "id": "63a839bc",
   "metadata": {},
   "outputs": [],
   "source": [
    "import keyword"
   ]
  },
  {
   "cell_type": "code",
   "execution_count": 8,
   "id": "08357ccf",
   "metadata": {},
   "outputs": [
    {
     "name": "stdout",
     "output_type": "stream",
     "text": [
      "['False', 'None', 'True', 'and', 'as', 'assert', 'async', 'await', 'break', 'class', 'continue', 'def', 'del', 'elif', 'else', 'except', 'finally', 'for', 'from', 'global', 'if', 'import', 'in', 'is', 'lambda', 'nonlocal', 'not', 'or', 'pass', 'raise', 'return', 'try', 'while', 'with', 'yield']\n"
     ]
    }
   ],
   "source": [
    "print(keyword.kwlist)"
   ]
  },
  {
   "cell_type": "code",
   "execution_count": 10,
   "id": "d0046c60",
   "metadata": {},
   "outputs": [
    {
     "name": "stdout",
     "output_type": "stream",
     "text": [
      "35\n"
     ]
    }
   ],
   "source": [
    "print(len(keyword.kwlist))"
   ]
  },
  {
   "cell_type": "code",
   "execution_count": 16,
   "id": "c4f77f31",
   "metadata": {},
   "outputs": [
    {
     "name": "stdout",
     "output_type": "stream",
     "text": [
      "1 <class 'int'>\n"
     ]
    }
   ],
   "source": [
    "a=0x1\n",
    "print(a, type(a))"
   ]
  },
  {
   "cell_type": "code",
   "execution_count": 17,
   "id": "03fd32f9",
   "metadata": {},
   "outputs": [
    {
     "name": "stdout",
     "output_type": "stream",
     "text": [
      "10 <class 'int'>\n",
      "9 <class 'int'>\n",
      "1 <class 'int'>\n",
      "0o12 <class 'str'>\n",
      "0o11 <class 'str'>\n",
      "0o1 <class 'str'>\n"
     ]
    },
    {
     "data": {
      "text/plain": [
       "(None, None, None)"
      ]
     },
     "execution_count": 17,
     "metadata": {},
     "output_type": "execute_result"
    }
   ],
   "source": [
    "a=10\n",
    "b=9\n",
    "c=1\n",
    "print(a,type(a)), print(b,type(b)), print(c,type(c))\n",
    "x=oct(a)\n",
    "y=oct(b)\n",
    "z=oct(c)\n",
    "print(x,type(x)), print(y,type(y)), print(z,type(z))"
   ]
  },
  {
   "cell_type": "code",
   "execution_count": 18,
   "id": "004ef2a4",
   "metadata": {},
   "outputs": [],
   "source": [
    "A=10\n",
    "B=15"
   ]
  },
  {
   "cell_type": "code",
   "execution_count": 22,
   "id": "f933deeb",
   "metadata": {},
   "outputs": [],
   "source": [
    "x=hex(A)\n",
    "y=hex(B)"
   ]
  },
  {
   "cell_type": "code",
   "execution_count": 23,
   "id": "3b53371a",
   "metadata": {},
   "outputs": [
    {
     "data": {
      "text/plain": [
       "('0xa', '0xf')"
      ]
     },
     "execution_count": 23,
     "metadata": {},
     "output_type": "execute_result"
    }
   ],
   "source": [
    "x,y"
   ]
  },
  {
   "cell_type": "code",
   "execution_count": 24,
   "id": "741efbe3",
   "metadata": {},
   "outputs": [],
   "source": [
    "x=1+2j"
   ]
  },
  {
   "cell_type": "code",
   "execution_count": 25,
   "id": "2284b6c3",
   "metadata": {},
   "outputs": [
    {
     "data": {
      "text/plain": [
       "complex"
      ]
     },
     "execution_count": 25,
     "metadata": {},
     "output_type": "execute_result"
    }
   ],
   "source": [
    "type(x)"
   ]
  },
  {
   "cell_type": "code",
   "execution_count": 27,
   "id": "c7350487",
   "metadata": {},
   "outputs": [
    {
     "data": {
      "text/plain": [
       "(1.0, 2.0)"
      ]
     },
     "execution_count": 27,
     "metadata": {},
     "output_type": "execute_result"
    }
   ],
   "source": [
    "x.real, x.imag"
   ]
  },
  {
   "cell_type": "code",
   "execution_count": 32,
   "id": "6de419c4",
   "metadata": {},
   "outputs": [
    {
     "data": {
      "text/plain": [
       "('True', 'False')"
      ]
     },
     "execution_count": 32,
     "metadata": {},
     "output_type": "execute_result"
    }
   ],
   "source": [
    "str(True), str(False)"
   ]
  },
  {
   "cell_type": "code",
   "execution_count": 36,
   "id": "2964d4df",
   "metadata": {},
   "outputs": [
    {
     "data": {
      "text/plain": [
       "False"
      ]
     },
     "execution_count": 36,
     "metadata": {},
     "output_type": "execute_result"
    }
   ],
   "source": [
    "bool(0.0)"
   ]
  },
  {
   "cell_type": "code",
   "execution_count": 38,
   "id": "b13c1b53",
   "metadata": {},
   "outputs": [
    {
     "data": {
      "text/plain": [
       "(False, True)"
      ]
     },
     "execution_count": 38,
     "metadata": {},
     "output_type": "execute_result"
    }
   ],
   "source": [
    "bool(''), bool(\"avag\")"
   ]
  },
  {
   "cell_type": "code",
   "execution_count": 11,
   "id": "20519958",
   "metadata": {},
   "outputs": [
    {
     "name": "stdout",
     "output_type": "stream",
     "text": [
      "0o1\n"
     ]
    }
   ],
   "source": [
    "d=1\n",
    "o=oct(d)\n",
    "print(o)"
   ]
  },
  {
   "cell_type": "code",
   "execution_count": 15,
   "id": "1f8f0def",
   "metadata": {},
   "outputs": [
    {
     "name": "stdout",
     "output_type": "stream",
     "text": [
      "8 <class 'int'>\n"
     ]
    }
   ],
   "source": [
    "aa = 0o10\n",
    "print(aa, type(aa))"
   ]
  },
  {
   "cell_type": "code",
   "execution_count": 17,
   "id": "ebb1cd13",
   "metadata": {},
   "outputs": [
    {
     "name": "stdout",
     "output_type": "stream",
     "text": [
      "(10+20j)\n",
      "10.0\n",
      "20.0\n"
     ]
    }
   ],
   "source": [
    "com = 10+20j\n",
    "print(com)\n",
    "print(com.real)\n",
    "print(com.imag)"
   ]
  },
  {
   "cell_type": "code",
   "execution_count": 18,
   "id": "a765ad54",
   "metadata": {},
   "outputs": [
    {
     "name": "stdout",
     "output_type": "stream",
     "text": [
      "False True True True False\n"
     ]
    }
   ],
   "source": [
    "print(bool(''),bool(' '),bool('Abhi'),bool(1),bool(0))"
   ]
  },
  {
   "cell_type": "code",
   "execution_count": 19,
   "id": "1b14b81b",
   "metadata": {},
   "outputs": [
    {
     "name": "stdout",
     "output_type": "stream",
     "text": [
      "True False\n"
     ]
    }
   ],
   "source": [
    "print(bool(1+2j),bool(0+0j))"
   ]
  },
  {
   "cell_type": "code",
   "execution_count": 24,
   "id": "498addbc",
   "metadata": {},
   "outputs": [
    {
     "name": "stdout",
     "output_type": "stream",
     "text": [
      "0j\n"
     ]
    }
   ],
   "source": [
    "print(0+0j)"
   ]
  },
  {
   "cell_type": "code",
   "execution_count": 25,
   "id": "5fafa066",
   "metadata": {},
   "outputs": [],
   "source": [
    "a = '                   india is my country               '"
   ]
  },
  {
   "cell_type": "code",
   "execution_count": 35,
   "id": "c43c6133",
   "metadata": {},
   "outputs": [
    {
     "data": {
      "text/plain": [
       "'Bharat is my country'"
      ]
     },
     "execution_count": 35,
     "metadata": {},
     "output_type": "execute_result"
    }
   ],
   "source": [
    "a.replace(a,'Bharat is my country')"
   ]
  },
  {
   "cell_type": "code",
   "execution_count": 38,
   "id": "605e5c8b",
   "metadata": {},
   "outputs": [
    {
     "data": {
      "text/plain": [
       "['india', 'is', 'my', 'country']"
      ]
     },
     "execution_count": 38,
     "metadata": {},
     "output_type": "execute_result"
    }
   ],
   "source": [
    "b= a.split()\n",
    "b"
   ]
  },
  {
   "cell_type": "code",
   "execution_count": 50,
   "id": "02ef5435",
   "metadata": {},
   "outputs": [
    {
     "data": {
      "text/plain": [
       "'india--is--my--country'"
      ]
     },
     "execution_count": 50,
     "metadata": {},
     "output_type": "execute_result"
    }
   ],
   "source": [
    "'--'.join(b)"
   ]
  },
  {
   "cell_type": "code",
   "execution_count": 49,
   "id": "36394e3a",
   "metadata": {},
   "outputs": [
    {
     "data": {
      "text/plain": [
       "'-------MyGoal-------'"
      ]
     },
     "execution_count": 49,
     "metadata": {},
     "output_type": "execute_result"
    }
   ],
   "source": [
    "d = 'MyGoal'\n",
    "d.center(20,'-')"
   ]
  },
  {
   "cell_type": "code",
   "execution_count": 51,
   "id": "8b52ca9e",
   "metadata": {},
   "outputs": [
    {
     "data": {
      "text/plain": [
       "37"
      ]
     },
     "execution_count": 51,
     "metadata": {},
     "output_type": "execute_result"
    }
   ],
   "source": [
    "a.count(' ')"
   ]
  },
  {
   "cell_type": "code",
   "execution_count": 54,
   "id": "e2761705",
   "metadata": {},
   "outputs": [
    {
     "data": {
      "text/plain": [
       "14"
      ]
     },
     "execution_count": 54,
     "metadata": {},
     "output_type": "execute_result"
    }
   ],
   "source": [
    "e=d.center(20,'-')\n",
    "e.count('-')"
   ]
  },
  {
   "cell_type": "code",
   "execution_count": 58,
   "id": "69e83aed",
   "metadata": {},
   "outputs": [
    {
     "data": {
      "text/plain": [
       "'Hello, world!'"
      ]
     },
     "execution_count": 58,
     "metadata": {},
     "output_type": "execute_result"
    }
   ],
   "source": [
    "\"Hello, {}!\".format('world')"
   ]
  },
  {
   "cell_type": "code",
   "execution_count": 60,
   "id": "31a8894c",
   "metadata": {},
   "outputs": [
    {
     "name": "stdout",
     "output_type": "stream",
     "text": [
      "The value of pi is 3.14\n"
     ]
    }
   ],
   "source": [
    "pi = 3.14169\n",
    "print(\"The value of pi is {:.2f}\".format(pi))"
   ]
  },
  {
   "cell_type": "code",
   "execution_count": 61,
   "id": "085e61f8",
   "metadata": {},
   "outputs": [
    {
     "name": "stdout",
     "output_type": "stream",
     "text": [
      "Hello world..!, my name is Digvaijy\n"
     ]
    }
   ],
   "source": [
    "print(\"Hello {0}..!, my name is {name}\".format('world',name=\"Digvaijy\"))"
   ]
  },
  {
   "cell_type": "code",
   "execution_count": 1,
   "id": "68bcb884",
   "metadata": {},
   "outputs": [
    {
     "name": "stdout",
     "output_type": "stream",
     "text": [
      "Strings in Python are immutable, which means you cannot change the contents of a string once it is created. However, you can create a new string by concatenating two or more strings together using the + operator or repeating a string using the * operator\n"
     ]
    }
   ],
   "source": [
    "string = '''Strings in Python are immutable, which means you cannot change the contents of a string once it is created. However, you can create a new string by concatenating two or more strings together using the + operator or repeating a string using the * operator'''\n",
    "print(string)"
   ]
  },
  {
   "cell_type": "code",
   "execution_count": 3,
   "id": "eb44c72e",
   "metadata": {},
   "outputs": [
    {
     "data": {
      "text/plain": [
       "'STRINGS IN PYTHON ARE IMMUTABLE, WHICH MEANS YOU CANNOT CHANGE THE CONTENTS OF A STRING ONCE IT IS CREATED. HOWEVER, YOU CAN CREATE A NEW STRING BY CONCATENATING TWO OR MORE STRINGS TOGETHER USING THE + OPERATOR OR REPEATING A STRING USING THE * OPERATOR'"
      ]
     },
     "execution_count": 3,
     "metadata": {},
     "output_type": "execute_result"
    }
   ],
   "source": [
    "string.upper()"
   ]
  },
  {
   "cell_type": "code",
   "execution_count": 4,
   "id": "64bba687",
   "metadata": {},
   "outputs": [
    {
     "data": {
      "text/plain": [
       "'strings in python are immutable, which means you cannot change the contents of a string once it is created. however, you can create a new string by concatenating two or more strings together using the + operator or repeating a string using the * operator'"
      ]
     },
     "execution_count": 4,
     "metadata": {},
     "output_type": "execute_result"
    }
   ],
   "source": [
    "string.lower()"
   ]
  },
  {
   "cell_type": "code",
   "execution_count": 5,
   "id": "ffb1a3bf",
   "metadata": {},
   "outputs": [
    {
     "data": {
      "text/plain": [
       "'Strings in python are immutable, which means you cannot change the contents of a string once it is created. however, you can create a new string by concatenating two or more strings together using the + operator or repeating a string using the * operator'"
      ]
     },
     "execution_count": 5,
     "metadata": {},
     "output_type": "execute_result"
    }
   ],
   "source": [
    "string.capitalize()"
   ]
  },
  {
   "cell_type": "code",
   "execution_count": 6,
   "id": "a2ca5d90",
   "metadata": {},
   "outputs": [
    {
     "data": {
      "text/plain": [
       "'Strings In Python Are Immutable, Which Means You Cannot Change The Contents Of A String Once It Is Created. However, You Can Create A New String By Concatenating Two Or More Strings Together Using The + Operator Or Repeating A String Using The * Operator'"
      ]
     },
     "execution_count": 6,
     "metadata": {},
     "output_type": "execute_result"
    }
   ],
   "source": [
    "string.title()"
   ]
  },
  {
   "cell_type": "code",
   "execution_count": 7,
   "id": "7659f709",
   "metadata": {},
   "outputs": [
    {
     "data": {
      "text/plain": [
       "254"
      ]
     },
     "execution_count": 7,
     "metadata": {},
     "output_type": "execute_result"
    }
   ],
   "source": [
    "len(string)"
   ]
  },
  {
   "cell_type": "code",
   "execution_count": 8,
   "id": "7eb3ded6",
   "metadata": {},
   "outputs": [
    {
     "data": {
      "text/plain": [
       "'Strings in Python are immutable, which means you cannot change the contents of a string once it is created. However, you can create a new string by concatenating two or more strings together using the + operator or repeating a string using the * operator'"
      ]
     },
     "execution_count": 8,
     "metadata": {},
     "output_type": "execute_result"
    }
   ],
   "source": [
    "string.strip()"
   ]
  },
  {
   "cell_type": "code",
   "execution_count": 11,
   "id": "7059ca6c",
   "metadata": {},
   "outputs": [
    {
     "data": {
      "text/plain": [
       "'Strings in Python Are immutAble, which meAns you cAnnot chAnge the contents of A string once it is creAted. However, you cAn creAte A new string by concAtenAting two or more strings together using the + operAtor or repeAting A string using the * operAtor'"
      ]
     },
     "execution_count": 11,
     "metadata": {},
     "output_type": "execute_result"
    }
   ],
   "source": [
    "string.replace('a','A')"
   ]
  },
  {
   "cell_type": "code",
   "execution_count": 15,
   "id": "fc4bb863",
   "metadata": {},
   "outputs": [
    {
     "data": {
      "text/plain": [
       "16"
      ]
     },
     "execution_count": 15,
     "metadata": {},
     "output_type": "execute_result"
    }
   ],
   "source": [
    "string.count('a')"
   ]
  },
  {
   "cell_type": "code",
   "execution_count": 16,
   "id": "50d7f871",
   "metadata": {},
   "outputs": [
    {
     "data": {
      "text/plain": [
       "['Strings',\n",
       " 'in',\n",
       " 'Python',\n",
       " 'are',\n",
       " 'immutable,',\n",
       " 'which',\n",
       " 'means',\n",
       " 'you',\n",
       " 'cannot',\n",
       " 'change',\n",
       " 'the',\n",
       " 'contents',\n",
       " 'of',\n",
       " 'a',\n",
       " 'string',\n",
       " 'once',\n",
       " 'it',\n",
       " 'is',\n",
       " 'created.',\n",
       " 'However,',\n",
       " 'you',\n",
       " 'can',\n",
       " 'create',\n",
       " 'a',\n",
       " 'new',\n",
       " 'string',\n",
       " 'by',\n",
       " 'concatenating',\n",
       " 'two',\n",
       " 'or',\n",
       " 'more',\n",
       " 'strings',\n",
       " 'together',\n",
       " 'using',\n",
       " 'the',\n",
       " '+',\n",
       " 'operator',\n",
       " 'or',\n",
       " 'repeating',\n",
       " 'a',\n",
       " 'string',\n",
       " 'using',\n",
       " 'the',\n",
       " '*',\n",
       " 'operator']"
      ]
     },
     "execution_count": 16,
     "metadata": {},
     "output_type": "execute_result"
    }
   ],
   "source": [
    "string.split()"
   ]
  },
  {
   "cell_type": "code",
   "execution_count": 34,
   "id": "f6b02121",
   "metadata": {},
   "outputs": [
    {
     "name": "stdout",
     "output_type": "stream",
     "text": [
      "Strings in Python are immutable, which means you cannot change the contents of a string once it is created. However, you can create a new string by concatenating two or more strings together using the + operator or repeating a string using the * operator\n"
     ]
    }
   ],
   "source": [
    "a=string.split()\n",
    "word = \" \".join(a)\n",
    "print(word)"
   ]
  },
  {
   "cell_type": "code",
   "execution_count": 36,
   "id": "d5dd2210",
   "metadata": {},
   "outputs": [
    {
     "data": {
      "text/plain": [
       "'Strings_in_Python_are_immutable,_which_means_you_cannot_change_the_contents_of_a_string_once_it_is_created._However,_you_can_create_a_new_string_by_concatenating_two_or_more_strings_together_using_the_+_operator_or_repeating_a_string_using_the_*_operator'"
      ]
     },
     "execution_count": 36,
     "metadata": {},
     "output_type": "execute_result"
    }
   ],
   "source": [
    "\"_\".join(a)"
   ]
  },
  {
   "cell_type": "code",
   "execution_count": 38,
   "id": "5b77ec9b",
   "metadata": {},
   "outputs": [
    {
     "data": {
      "text/plain": [
       "'Strings_in_Python_are_immutable,_which_means_you_cannot_change_the_contents_of_a_string_once_it_is_created._However,_you_can_create_a_new_string_by_concatenating_two_or_more_strings_together_using_the_+_operator_or_repeating_a_string_using_the_*_operator'"
      ]
     },
     "execution_count": 38,
     "metadata": {},
     "output_type": "execute_result"
    }
   ],
   "source": [
    "\"_\".join(string.split())"
   ]
  },
  {
   "cell_type": "code",
   "execution_count": 39,
   "id": "06bbd21e",
   "metadata": {},
   "outputs": [
    {
     "data": {
      "text/plain": [
       "'strings in python are immutable, which means you cannot change the contents of a string once it is created. however, you can create a new string by concatenating two or more strings together using the + operator or repeating a string using the * operator'"
      ]
     },
     "execution_count": 39,
     "metadata": {},
     "output_type": "execute_result"
    }
   ],
   "source": [
    "string.casefold()"
   ]
  },
  {
   "cell_type": "code",
   "execution_count": 60,
   "id": "20a9140b",
   "metadata": {},
   "outputs": [
    {
     "data": {
      "text/plain": [
       "'_______________________Strings in Python are immutable, which means you cannot change the contents of a string once it is created. However, you can create a new string by concatenating two or more strings together using the + operator or repeating a string using the * operator_______________________'"
      ]
     },
     "execution_count": 60,
     "metadata": {},
     "output_type": "execute_result"
    }
   ],
   "source": [
    "string.center(300,'_')"
   ]
  },
  {
   "cell_type": "code",
   "execution_count": 64,
   "id": "e305844b",
   "metadata": {},
   "outputs": [
    {
     "data": {
      "text/plain": [
       "22"
      ]
     },
     "execution_count": 64,
     "metadata": {},
     "output_type": "execute_result"
    }
   ],
   "source": [
    "string.count('n')"
   ]
  },
  {
   "cell_type": "code",
   "execution_count": 69,
   "id": "126e1a9f",
   "metadata": {},
   "outputs": [
    {
     "data": {
      "text/plain": [
       "True"
      ]
     },
     "execution_count": 69,
     "metadata": {},
     "output_type": "execute_result"
    }
   ],
   "source": [
    "string.endswith('r')"
   ]
  },
  {
   "cell_type": "code",
   "execution_count": 70,
   "id": "eb9bda5a",
   "metadata": {},
   "outputs": [
    {
     "data": {
      "text/plain": [
       "True"
      ]
     },
     "execution_count": 70,
     "metadata": {},
     "output_type": "execute_result"
    }
   ],
   "source": [
    "string.startswith('S')"
   ]
  },
  {
   "cell_type": "code",
   "execution_count": 72,
   "id": "5cc0fe33",
   "metadata": {},
   "outputs": [
    {
     "data": {
      "text/plain": [
       "'Strings in Python are immutable, which means you cannot change the contents of a string once it is created. However, you can create a new string by concatenating two or more strings together using the + operator or repeating a string using the * operator'"
      ]
     },
     "execution_count": 72,
     "metadata": {},
     "output_type": "execute_result"
    }
   ],
   "source": [
    "string"
   ]
  },
  {
   "cell_type": "code",
   "execution_count": 76,
   "id": "a8385632",
   "metadata": {},
   "outputs": [
    {
     "data": {
      "text/plain": [
       "33"
      ]
     },
     "execution_count": 76,
     "metadata": {},
     "output_type": "execute_result"
    }
   ],
   "source": [
    "string.find('w')"
   ]
  },
  {
   "cell_type": "code",
   "execution_count": 77,
   "id": "e9aedbf8",
   "metadata": {},
   "outputs": [
    {
     "data": {
      "text/plain": [
       "'sTRINGS IN pYTHON ARE IMMUTABLE, WHICH MEANS YOU CANNOT CHANGE THE CONTENTS OF A STRING ONCE IT IS CREATED. hOWEVER, YOU CAN CREATE A NEW STRING BY CONCATENATING TWO OR MORE STRINGS TOGETHER USING THE + OPERATOR OR REPEATING A STRING USING THE * OPERATOR'"
      ]
     },
     "execution_count": 77,
     "metadata": {},
     "output_type": "execute_result"
    }
   ],
   "source": [
    "string.swapcase()"
   ]
  },
  {
   "cell_type": "code",
   "execution_count": 79,
   "id": "094237fe",
   "metadata": {},
   "outputs": [
    {
     "data": {
      "text/plain": [
       "'apple BANANA'"
      ]
     },
     "execution_count": 79,
     "metadata": {},
     "output_type": "execute_result"
    }
   ],
   "source": [
    "a = \"APPLE banana\"\n",
    "a.swapcase()"
   ]
  },
  {
   "cell_type": "code",
   "execution_count": 80,
   "id": "58db1e53",
   "metadata": {},
   "outputs": [
    {
     "data": {
      "text/plain": [
       "False"
      ]
     },
     "execution_count": 80,
     "metadata": {},
     "output_type": "execute_result"
    }
   ],
   "source": [
    "string.startswith(\"A\")"
   ]
  },
  {
   "cell_type": "code",
   "execution_count": 82,
   "id": "dc0d96af",
   "metadata": {},
   "outputs": [
    {
     "data": {
      "text/plain": [
       "False"
      ]
     },
     "execution_count": 82,
     "metadata": {},
     "output_type": "execute_result"
    }
   ],
   "source": [
    "string.isalpha()"
   ]
  },
  {
   "cell_type": "code",
   "execution_count": 83,
   "id": "7ed913c6",
   "metadata": {},
   "outputs": [
    {
     "data": {
      "text/plain": [
       "True"
      ]
     },
     "execution_count": 83,
     "metadata": {},
     "output_type": "execute_result"
    }
   ],
   "source": [
    "string.isascii()"
   ]
  },
  {
   "cell_type": "code",
   "execution_count": 84,
   "id": "cd6bac7d",
   "metadata": {},
   "outputs": [
    {
     "data": {
      "text/plain": [
       "False"
      ]
     },
     "execution_count": 84,
     "metadata": {},
     "output_type": "execute_result"
    }
   ],
   "source": [
    "string.isdigit()"
   ]
  },
  {
   "cell_type": "code",
   "execution_count": 85,
   "id": "ce0ebde5",
   "metadata": {},
   "outputs": [
    {
     "data": {
      "text/plain": [
       "False"
      ]
     },
     "execution_count": 85,
     "metadata": {},
     "output_type": "execute_result"
    }
   ],
   "source": [
    "string.isdigit()"
   ]
  },
  {
   "cell_type": "code",
   "execution_count": 86,
   "id": "ae255155",
   "metadata": {},
   "outputs": [
    {
     "data": {
      "text/plain": [
       "False"
      ]
     },
     "execution_count": 86,
     "metadata": {},
     "output_type": "execute_result"
    }
   ],
   "source": [
    "string.isidentifier()"
   ]
  },
  {
   "cell_type": "code",
   "execution_count": 87,
   "id": "8b719c97",
   "metadata": {},
   "outputs": [
    {
     "name": "stdout",
     "output_type": "stream",
     "text": [
      "True\n",
      "True\n",
      "True\n",
      "True\n",
      "True\n"
     ]
    }
   ],
   "source": [
    "print(\"variable\".isidentifier())  # True\n",
    "print(\"variable_name\".isidentifier())  # True\n",
    "print(\"_variable_name\".isidentifier())  # True\n",
    "print(\"variable1\".isidentifier())  # True\n",
    "print(\"_1variable\".isidentifier())  # True"
   ]
  },
  {
   "cell_type": "code",
   "execution_count": 88,
   "id": "8b36053f",
   "metadata": {},
   "outputs": [
    {
     "data": {
      "text/plain": [
       "False"
      ]
     },
     "execution_count": 88,
     "metadata": {},
     "output_type": "execute_result"
    }
   ],
   "source": [
    "string.islower()"
   ]
  },
  {
   "cell_type": "code",
   "execution_count": 91,
   "id": "f96858e1",
   "metadata": {},
   "outputs": [
    {
     "data": {
      "text/plain": [
       "True"
      ]
     },
     "execution_count": 91,
     "metadata": {},
     "output_type": "execute_result"
    }
   ],
   "source": [
    "a = \"4ffsf84754938\"\n",
    "a.isalnum()"
   ]
  },
  {
   "cell_type": "code",
   "execution_count": 92,
   "id": "fbba9fab",
   "metadata": {},
   "outputs": [
    {
     "data": {
      "text/plain": [
       "True"
      ]
     },
     "execution_count": 92,
     "metadata": {},
     "output_type": "execute_result"
    }
   ],
   "source": [
    "b = \"Abbaka ssjs ssjss 99w9w w w9wwww77w w7ww7w.\"\n",
    "b.isprintable()"
   ]
  },
  {
   "cell_type": "code",
   "execution_count": 95,
   "id": "d8121abc",
   "metadata": {},
   "outputs": [
    {
     "name": "stdout",
     "output_type": "stream",
     "text": [
      "True\n"
     ]
    }
   ],
   "source": [
    "print(\"Hello/nworld!\".isprintable())"
   ]
  },
  {
   "cell_type": "code",
   "execution_count": 98,
   "id": "531e50a9",
   "metadata": {},
   "outputs": [],
   "source": [
    "python = \"This is basically desinged for beginner\""
   ]
  },
  {
   "cell_type": "code",
   "execution_count": 102,
   "id": "26d486b7",
   "metadata": {},
   "outputs": [
    {
     "data": {
      "text/plain": [
       "'This is ba'"
      ]
     },
     "execution_count": 102,
     "metadata": {},
     "output_type": "execute_result"
    }
   ],
   "source": [
    "python[0:10]"
   ]
  },
  {
   "cell_type": "code",
   "execution_count": 106,
   "id": "6b648d1a",
   "metadata": {},
   "outputs": [
    {
     "data": {
      "text/plain": [
       "'rennigeb rof degnised yllacisab si sihT'"
      ]
     },
     "execution_count": 106,
     "metadata": {},
     "output_type": "execute_result"
    }
   ],
   "source": [
    "python[::-1]"
   ]
  },
  {
   "cell_type": "code",
   "execution_count": 107,
   "id": "3c812250",
   "metadata": {},
   "outputs": [
    {
     "data": {
      "text/plain": [
       "'ner'"
      ]
     },
     "execution_count": 107,
     "metadata": {},
     "output_type": "execute_result"
    }
   ],
   "source": [
    "python[-3:]"
   ]
  },
  {
   "cell_type": "code",
   "execution_count": 109,
   "id": "11c4e2a7",
   "metadata": {},
   "outputs": [
    {
     "data": {
      "text/plain": [
       "'This is basically desinged for beginner'"
      ]
     },
     "execution_count": 109,
     "metadata": {},
     "output_type": "execute_result"
    }
   ],
   "source": [
    "python"
   ]
  },
  {
   "cell_type": "code",
   "execution_count": 110,
   "id": "ab78ba8c",
   "metadata": {},
   "outputs": [
    {
     "data": {
      "text/plain": [
       "'This is basically desinged for beginner'"
      ]
     },
     "execution_count": 110,
     "metadata": {},
     "output_type": "execute_result"
    }
   ],
   "source": [
    "python[::1]"
   ]
  },
  {
   "cell_type": "code",
   "execution_count": 111,
   "id": "e5c420e5",
   "metadata": {},
   "outputs": [
    {
     "data": {
      "text/plain": [
       "'This is basically desinged for beginnerThis is basically desinged for beginner'"
      ]
     },
     "execution_count": 111,
     "metadata": {},
     "output_type": "execute_result"
    }
   ],
   "source": [
    "python*2"
   ]
  },
  {
   "cell_type": "code",
   "execution_count": 112,
   "id": "da507038",
   "metadata": {},
   "outputs": [],
   "source": [
    "i = 100"
   ]
  },
  {
   "cell_type": "code",
   "execution_count": 113,
   "id": "30f61433",
   "metadata": {},
   "outputs": [
    {
     "data": {
      "text/plain": [
       "(100.0, (100+0j), '100')"
      ]
     },
     "execution_count": 113,
     "metadata": {},
     "output_type": "execute_result"
    }
   ],
   "source": [
    "float(i), complex(i), str(i)"
   ]
  },
  {
   "cell_type": "code",
   "execution_count": 114,
   "id": "5ae1f670",
   "metadata": {},
   "outputs": [],
   "source": [
    "f = 100.100"
   ]
  },
  {
   "cell_type": "code",
   "execution_count": 115,
   "id": "24255e3a",
   "metadata": {},
   "outputs": [
    {
     "data": {
      "text/plain": [
       "(100, (100.1+0j), '100.1')"
      ]
     },
     "execution_count": 115,
     "metadata": {},
     "output_type": "execute_result"
    }
   ],
   "source": [
    "int(f), complex(f), str(f)"
   ]
  },
  {
   "cell_type": "code",
   "execution_count": 116,
   "id": "28d42481",
   "metadata": {},
   "outputs": [],
   "source": [
    "s = '100'"
   ]
  },
  {
   "cell_type": "code",
   "execution_count": 117,
   "id": "28f10959",
   "metadata": {},
   "outputs": [
    {
     "data": {
      "text/plain": [
       "(100, 100.0, (100+0j))"
      ]
     },
     "execution_count": 117,
     "metadata": {},
     "output_type": "execute_result"
    }
   ],
   "source": [
    "int(s), float(s), complex(s)"
   ]
  },
  {
   "cell_type": "code",
   "execution_count": 118,
   "id": "cfc6d26f",
   "metadata": {},
   "outputs": [],
   "source": [
    "c = 10+10j"
   ]
  },
  {
   "cell_type": "code",
   "execution_count": 120,
   "id": "c8fc6294",
   "metadata": {},
   "outputs": [
    {
     "data": {
      "text/plain": [
       "(10.0, 10.0)"
      ]
     },
     "execution_count": 120,
     "metadata": {},
     "output_type": "execute_result"
    }
   ],
   "source": [
    "c.imag, c.real"
   ]
  },
  {
   "cell_type": "code",
   "execution_count": 122,
   "id": "79a5200f",
   "metadata": {},
   "outputs": [
    {
     "data": {
      "text/plain": [
       "10"
      ]
     },
     "execution_count": 122,
     "metadata": {},
     "output_type": "execute_result"
    }
   ],
   "source": [
    "int(c.real)"
   ]
  },
  {
   "cell_type": "code",
   "execution_count": 123,
   "id": "88f64183",
   "metadata": {},
   "outputs": [
    {
     "name": "stdout",
     "output_type": "stream",
     "text": [
      "140728385508424\n",
      "140728385508744\n"
     ]
    }
   ],
   "source": [
    "x = 10\n",
    "print(id(x))\n",
    "x = 20\n",
    "print(id(x))"
   ]
  },
  {
   "cell_type": "code",
   "execution_count": 124,
   "id": "6b4ed46d",
   "metadata": {},
   "outputs": [
    {
     "name": "stdout",
     "output_type": "stream",
     "text": [
      "[1, 2, 3]\n",
      "1994944574208\n",
      "[1, [10, 20], 3]\n",
      "1994944574208\n"
     ]
    }
   ],
   "source": [
    "list1 = [1,2,3]\n",
    "print(list1)\n",
    "print(id(list1))\n",
    "list1[1]=[10,20]\n",
    "print(list1)\n",
    "print(id(list1))"
   ]
  },
  {
   "cell_type": "code",
   "execution_count": null,
   "id": "4738145a",
   "metadata": {},
   "outputs": [],
   "source": []
  }
 ],
 "metadata": {
  "kernelspec": {
   "display_name": "Python 3 (ipykernel)",
   "language": "python",
   "name": "python3"
  },
  "language_info": {
   "codemirror_mode": {
    "name": "ipython",
    "version": 3
   },
   "file_extension": ".py",
   "mimetype": "text/x-python",
   "name": "python",
   "nbconvert_exporter": "python",
   "pygments_lexer": "ipython3",
   "version": "3.11.5"
  }
 },
 "nbformat": 4,
 "nbformat_minor": 5
}
