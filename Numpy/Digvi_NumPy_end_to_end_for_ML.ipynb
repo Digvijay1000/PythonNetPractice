{
 "cells": [
  {
   "cell_type": "markdown",
   "id": "bc43ad86",
   "metadata": {},
   "source": [
    "## Numerical Python End to End in Detail\n",
    "\n",
    "### Numpy:\n",
    "\n",
    "Numpy- is a **Numerical Python**\n",
    "\n",
    "It is developed by **Travis Oliphant in 2005**\n",
    "\n",
    "Numpy has functions to work on linear algebra, fourier transform, and matrices\n",
    "\n",
    "Its basically used to work with array, It can work with multidimentional Arrays\n",
    "\n",
    "\n",
    "### Why:\n",
    "\n",
    "Numpy is built using **python,** and most of the part which requires fatser execution is **developed using c or c++**,So it is very fast in execution.\n",
    "\n",
    "Numpy arrays are called as **ndarray**\n",
    "\n",
    "Numpy has 50x speed as compared to python list, because NumPy is faster than lists because it uses **vectorized operations, optimized C code, memory efficiency, and cache efficiency**. These features allow NumPy to perform calculations on large amounts of data more quickly and efficiently than lists.\n",
    "\n",
    "Numpy provides lots of functions which can be performed on large data\n",
    "\n",
    "Numpy gives faster response as compared to list as it **stores numpy arrays at one continuous location** whereas lists are stored in scattered locations\n",
    "\n",
    "Numpy codes are available at: https://github.com/numpy/numpy"
   ]
  },
  {
   "cell_type": "markdown",
   "id": "f2b87a5a",
   "metadata": {},
   "source": [
    "### Installation of Numpy"
   ]
  },
  {
   "cell_type": "raw",
   "id": "ea068663",
   "metadata": {},
   "source": [
    "# Got to terminal/jupyter notebook (!)\n",
    "\n",
    "# ! pip install numpy\n",
    "# ! pip install --upgrade pip\n",
    "\n",
    "you can use other tools like spyder or anaconda which comes with its installation"
   ]
  },
  {
   "cell_type": "code",
   "execution_count": 1,
   "id": "3194679f",
   "metadata": {},
   "outputs": [],
   "source": [
    "import numpy as np"
   ]
  },
  {
   "cell_type": "code",
   "execution_count": 2,
   "id": "1f988523",
   "metadata": {},
   "outputs": [
    {
     "name": "stdout",
     "output_type": "stream",
     "text": [
      "Numpy Version is: 1.24.3\n"
     ]
    }
   ],
   "source": [
    "print(\"Numpy Version is:\",np.__version__)"
   ]
  },
  {
   "cell_type": "code",
   "execution_count": 13,
   "id": "f30665e2",
   "metadata": {},
   "outputs": [
    {
     "name": "stdout",
     "output_type": "stream",
     "text": [
      "[1 2 3 4 5 6 7 8 9]\n",
      "<class 'numpy.ndarray'>\n",
      "****************************************************************************************************\n",
      "[10 20 30 40]\n",
      "<class 'numpy.ndarray'>\n"
     ]
    }
   ],
   "source": [
    "# Create a numpy array using list\n",
    "\n",
    "arr=np.array([1,2,3,4,5,6,7,8,9])\n",
    "print(arr)\n",
    "print(type(arr))\n",
    "\n",
    "print('*'*100)\n",
    "\n",
    "lst = [10,20,30,40]\n",
    "ar = np.array(lst)\n",
    "print(ar)\n",
    "print(type(ar))"
   ]
  },
  {
   "cell_type": "code",
   "execution_count": 14,
   "id": "022fa507",
   "metadata": {},
   "outputs": [
    {
     "name": "stdout",
     "output_type": "stream",
     "text": [
      "[1 2 3 4 5 6 7 8 9]\n",
      "Number of dimensions: 1\n"
     ]
    }
   ],
   "source": [
    "# How to access the element\n",
    "# its 1-D array\n",
    "arr = np.array([1,2,3,4,5,6,7,8,9])\n",
    "print(arr)\n",
    "\n",
    "# lets check the dimentions of the array\n",
    "\n",
    "print('Number of dimensions:',arr.ndim)\n"
   ]
  },
  {
   "cell_type": "raw",
   "id": "26b0c488",
   "metadata": {},
   "source": [
    "ndarray:\n",
    "        The array object in numpy is called ndarray"
   ]
  },
  {
   "cell_type": "code",
   "execution_count": 15,
   "id": "81d43aab",
   "metadata": {},
   "outputs": [
    {
     "name": "stdout",
     "output_type": "stream",
     "text": [
      "[1 2 3 4 5 6]\n",
      "<class 'numpy.ndarray'>\n"
     ]
    }
   ],
   "source": [
    "# 2. Create numpy array using tuple\n",
    "\n",
    "tup=(1,2,3,4,5,6)\n",
    "ar = np.array(tup)\n",
    "print(ar)\n",
    "print(type(ar))"
   ]
  },
  {
   "cell_type": "code",
   "execution_count": 18,
   "id": "8ea4b581",
   "metadata": {},
   "outputs": [],
   "source": [
    "# Different Dimentional Arrays:"
   ]
  },
  {
   "cell_type": "code",
   "execution_count": 2,
   "id": "9898eb83",
   "metadata": {},
   "outputs": [
    {
     "name": "stdout",
     "output_type": "stream",
     "text": [
      "9\n",
      "<class 'numpy.ndarray'>\n",
      "Dimensons of array: 0\n"
     ]
    }
   ],
   "source": [
    "# 1. 0-D array\n",
    "import numpy as np\n",
    "arr=np.array(9)\n",
    "print(arr)\n",
    "print(type(arr))\n",
    "print(\"Dimensons of array:\",arr.ndim)"
   ]
  },
  {
   "cell_type": "code",
   "execution_count": 3,
   "id": "e6939190",
   "metadata": {},
   "outputs": [
    {
     "data": {
      "text/plain": [
       "array(9)"
      ]
     },
     "execution_count": 3,
     "metadata": {},
     "output_type": "execute_result"
    }
   ],
   "source": [
    "arr"
   ]
  },
  {
   "cell_type": "code",
   "execution_count": 4,
   "id": "b7bb9c13",
   "metadata": {},
   "outputs": [
    {
     "name": "stdout",
     "output_type": "stream",
     "text": [
      "[ 1  2  3  4 45]\n",
      "<class 'numpy.ndarray'>\n",
      "Dimensons of array: 1\n",
      "Element present at 4h index: 45\n"
     ]
    }
   ],
   "source": [
    "# 2. 1-D array\n",
    "\n",
    "arr=np.array([1,2,3,4,45])\n",
    "print(arr)\n",
    "print(type(arr))\n",
    "print(\"Dimensons of array:\",arr.ndim)\n",
    "\n",
    "# Access elemnts an 1-D array\n",
    "print('Element present at 4h index:',arr[4])"
   ]
  },
  {
   "cell_type": "code",
   "execution_count": 6,
   "id": "ac32a703",
   "metadata": {},
   "outputs": [
    {
     "data": {
      "text/plain": [
       "array([ 1,  3, 45])"
      ]
     },
     "execution_count": 6,
     "metadata": {},
     "output_type": "execute_result"
    }
   ],
   "source": [
    "arr[::2] # step index"
   ]
  },
  {
   "cell_type": "code",
   "execution_count": 7,
   "id": "b4c83c0f",
   "metadata": {},
   "outputs": [
    {
     "data": {
      "text/plain": [
       "array([45,  4,  3,  2,  1])"
      ]
     },
     "execution_count": 7,
     "metadata": {},
     "output_type": "execute_result"
    }
   ],
   "source": [
    "arr[::-1]"
   ]
  },
  {
   "cell_type": "code",
   "execution_count": 8,
   "id": "b50195d7",
   "metadata": {},
   "outputs": [
    {
     "name": "stdout",
     "output_type": "stream",
     "text": [
      "[[1 2 3]\n",
      " [4 5 6]]\n",
      "<class 'numpy.ndarray'>\n",
      "Dimensons of array: 2\n",
      "Element present at 1st index in axis 0: 2\n"
     ]
    }
   ],
   "source": [
    "# 3. 2-D array\n",
    "# Array having 1-D array as input element are called as 2-D array\n",
    "\n",
    "arr=np.array([[1,2,3],[4,5,6]])\n",
    "print(arr)\n",
    "print(type(arr))\n",
    "print(\"Dimensons of array:\",arr.ndim)\n",
    "\n",
    "# Access elemnts an 2-D array\n",
    "print('Element present at 1st index in axis 0:',arr[0,1]) # arr[0][1]"
   ]
  },
  {
   "cell_type": "code",
   "execution_count": 9,
   "id": "b433956f",
   "metadata": {},
   "outputs": [
    {
     "name": "stdout",
     "output_type": "stream",
     "text": [
      "[[1 2 3 4]\n",
      " [4 5 6 7]\n",
      " [4 5 6 7]\n",
      " [4 5 6 7]]\n",
      "Dimensions:  2\n"
     ]
    }
   ],
   "source": [
    "import numpy as np\n",
    "ar = [[1,2,3,4],[4,5,6,7],[4,5,6,7],[4,5,6,7]]\n",
    "arr = np.array(ar)\n",
    "print(arr)\n",
    "print(\"Dimensions: \",arr.ndim)"
   ]
  },
  {
   "cell_type": "code",
   "execution_count": 10,
   "id": "49363d94",
   "metadata": {},
   "outputs": [
    {
     "name": "stdout",
     "output_type": "stream",
     "text": [
      "[[1 2 3 4]\n",
      " [4 5 6 7]\n",
      " [4 5 6 7]\n",
      " [4 5 6 7]]\n",
      "Dimensions:  2\n",
      "****************************************************************************************************\n",
      "arr[0][3] : 4\n",
      "arr[0] : [1 2 3 4]\n",
      "arr[0][2] : 3\n",
      "arr[1] : [4 5 6 7]\n",
      "arr[3,1] : 5\n"
     ]
    }
   ],
   "source": [
    "# Access the elements of 2-D array\n",
    "\n",
    "print(arr)\n",
    "# dimensions\n",
    "print(\"Dimensions: \",arr.ndim)\n",
    "print('*'*100)\n",
    "\n",
    "#one way is to write\n",
    "print('arr[0][3] :',arr[0][3])\n",
    "print('arr[0] :',arr[0])\n",
    "print('arr[0][2] :',arr[0][2])\n",
    "\n",
    "# another way is like\n",
    "print('arr[1] :',arr[1])\n",
    "print('arr[3,1] :',arr[3,1])"
   ]
  },
  {
   "cell_type": "code",
   "execution_count": 11,
   "id": "b5ce286d",
   "metadata": {},
   "outputs": [
    {
     "name": "stdout",
     "output_type": "stream",
     "text": [
      "[[ 10  20  30]\n",
      " [ 40  50  60]\n",
      " [ 70  80  90]\n",
      " [100 110 120]] <class 'numpy.ndarray'> 2\n"
     ]
    }
   ],
   "source": [
    "a=np.array([[10,20,30],[40,50,60],[70,80,90],[100,110,120]])\n",
    "print(a,type(a), a.ndim)"
   ]
  },
  {
   "cell_type": "code",
   "execution_count": 14,
   "id": "c2086329",
   "metadata": {},
   "outputs": [
    {
     "data": {
      "text/plain": [
       "array([[ 30,  20,  10],\n",
       "       [ 60,  50,  40],\n",
       "       [ 90,  80,  70],\n",
       "       [120, 110, 100]])"
      ]
     },
     "execution_count": 14,
     "metadata": {},
     "output_type": "execute_result"
    }
   ],
   "source": [
    "# reverse the elements from array\n",
    "a[:,::-1]"
   ]
  },
  {
   "cell_type": "code",
   "execution_count": 13,
   "id": "00cbabf4",
   "metadata": {},
   "outputs": [
    {
     "data": {
      "text/plain": [
       "array([[100, 110, 120],\n",
       "       [ 70,  80,  90],\n",
       "       [ 40,  50,  60],\n",
       "       [ 10,  20,  30]])"
      ]
     },
     "execution_count": 13,
     "metadata": {},
     "output_type": "execute_result"
    }
   ],
   "source": [
    "# reverse the rows from array\n",
    "a[::-1]"
   ]
  },
  {
   "cell_type": "code",
   "execution_count": 15,
   "id": "8bdf9b57",
   "metadata": {},
   "outputs": [
    {
     "data": {
      "text/plain": [
       "array([[120, 110, 100],\n",
       "       [ 90,  80,  70],\n",
       "       [ 60,  50,  40],\n",
       "       [ 30,  20,  10]])"
      ]
     },
     "execution_count": 15,
     "metadata": {},
     "output_type": "execute_result"
    }
   ],
   "source": [
    "# reverse the rows and elements of array\n",
    "a[::-1, ::-1]"
   ]
  },
  {
   "cell_type": "code",
   "execution_count": 30,
   "id": "3ef94b23",
   "metadata": {},
   "outputs": [
    {
     "name": "stdout",
     "output_type": "stream",
     "text": [
      "[[[1, 2, 3], [4, 5, 6]], [[10, 20, 30], [40, 50, 60]]]\n",
      "<class 'list'>\n",
      "****************************************************************************************************\n",
      "[[[ 1  2  3]\n",
      "  [ 4  5  6]]\n",
      "\n",
      " [[10 20 30]\n",
      "  [40 50 60]]]\n",
      "<class 'numpy.ndarray'>\n",
      "****************************************************************************************************\n",
      "Dimension of array : 3\n"
     ]
    }
   ],
   "source": [
    "# 4. 3-D Array\n",
    "# array that has 2-D arrays (matrices) as its elemets is called 3D array\n",
    "\n",
    "ar = [[[1,2,3], [4,5,6]], [[10,20,30], [40,50,60]]]\n",
    "print(ar)\n",
    "print(type(ar))\n",
    "print('*'*100)\n",
    "\n",
    "arr=np.array(ar)\n",
    "print(arr)\n",
    "print(type(arr))\n",
    "print('*'*100)\n",
    "\n",
    "print('Dimension of array :',arr.ndim)"
   ]
  },
  {
   "cell_type": "code",
   "execution_count": 33,
   "id": "70749427",
   "metadata": {},
   "outputs": [
    {
     "name": "stdout",
     "output_type": "stream",
     "text": [
      "[[[ 1  2  3]\n",
      "  [ 4  5  6]]\n",
      "\n",
      " [[10 20 30]\n",
      "  [40 50 60]]]\n",
      "<class 'numpy.ndarray'>\n",
      "****************************************************************************************************\n",
      "One way is:\n",
      "arr[1] : [[10 20 30]\n",
      " [40 50 60]]\n",
      "arr[0][0] : [1 2 3]\n",
      "arr[0][0][2] : 3\n",
      "****************************************************************************************************\n",
      "Another way is:\n",
      "arr[1] : [[10 20 30]\n",
      " [40 50 60]]\n",
      "arr[0,0] : [1 2 3]\n",
      "arr[0,0,2] : 3\n"
     ]
    }
   ],
   "source": [
    "# access the elements of the 3-D array\n",
    "\n",
    "print(arr)\n",
    "print(type(arr))\n",
    "print('*'*100)\n",
    "\n",
    "print('One way is:')\n",
    "print('arr[1] :',arr[1])\n",
    "print('arr[0][0] :',arr[0][0])\n",
    "print('arr[0][0][2] :',arr[0][0][2])\n",
    "\n",
    "print('*'*100)\n",
    "\n",
    "# Another way\n",
    "print('Another way is:')\n",
    "print('arr[1] :',arr[1])\n",
    "print('arr[0,0] :',arr[0,0])\n",
    "print('arr[0,0,2] :',arr[0,0,2])"
   ]
  },
  {
   "cell_type": "markdown",
   "id": "61a21a95",
   "metadata": {},
   "source": [
    "#### create an n dimensional array\n",
    "\n",
    "lower dimention to higher dimention will possible by using **ndmin=..1/2/3/4/5/..**\n",
    "\n",
    "but higher dimention to lower dimention will not possible by using ndmin function for we need to go with **array.reshape()** function"
   ]
  },
  {
   "cell_type": "code",
   "execution_count": 20,
   "id": "bce1a8bf",
   "metadata": {},
   "outputs": [
    {
     "name": "stdout",
     "output_type": "stream",
     "text": [
      "[[[[[1 2 3 4]]]]]\n",
      "number of dimensions : 5\n"
     ]
    }
   ],
   "source": [
    "# create an n dimensional array\n",
    "arr = np.array([1, 2, 3, 4], ndmin=5)\n",
    "\n",
    "print(arr)\n",
    "print('number of dimensions :', arr.ndim) "
   ]
  },
  {
   "cell_type": "code",
   "execution_count": 1,
   "id": "82e93e62",
   "metadata": {},
   "outputs": [
    {
     "data": {
      "text/plain": [
       "(array([[[[[1, 2, 3]]]]]), 5)"
      ]
     },
     "execution_count": 1,
     "metadata": {},
     "output_type": "execute_result"
    }
   ],
   "source": [
    "# lower to higher is possible but higher to lower not possible \n",
    "import numpy as np\n",
    "arr1=np.array([[[[[1,2,3]]]]],ndmin=3)\n",
    "arr1,arr1.ndim"
   ]
  },
  {
   "cell_type": "code",
   "execution_count": 16,
   "id": "d44477bf",
   "metadata": {},
   "outputs": [
    {
     "data": {
      "text/plain": [
       "(array([[[1, 2, 3, 4]]]), 3)"
      ]
     },
     "execution_count": 16,
     "metadata": {},
     "output_type": "execute_result"
    }
   ],
   "source": [
    "arr2=np.array([1,2,3],ndmin=3)\n",
    "arr,arr.ndim"
   ]
  },
  {
   "cell_type": "code",
   "execution_count": 10,
   "id": "d4af2a5e",
   "metadata": {},
   "outputs": [
    {
     "data": {
      "text/plain": [
       "5"
      ]
     },
     "execution_count": 10,
     "metadata": {},
     "output_type": "execute_result"
    }
   ],
   "source": [
    "arr11 = np.array([1,2,3,4])\n",
    "arr10 = arr11.reshape((1,1,1,1,4))\n",
    "arr10.ndim"
   ]
  },
  {
   "cell_type": "code",
   "execution_count": 12,
   "id": "9a0d5774",
   "metadata": {},
   "outputs": [
    {
     "name": "stdout",
     "output_type": "stream",
     "text": [
      "[[[ 1  2  3]\n",
      "  [ 4  5  6]]\n",
      "\n",
      " [[10 20 30]\n",
      "  [40 50 60]]] 3\n"
     ]
    },
    {
     "data": {
      "text/plain": [
       "(2, 2, 3)"
      ]
     },
     "execution_count": 12,
     "metadata": {},
     "output_type": "execute_result"
    }
   ],
   "source": [
    "b=np.array([[[1,2,3], [4,5,6]], [[10,20,30], [40,50,60]]])\n",
    "print(b,b.ndim)\n",
    "b.shape"
   ]
  },
  {
   "cell_type": "code",
   "execution_count": 27,
   "id": "f426be54",
   "metadata": {},
   "outputs": [
    {
     "data": {
      "text/plain": [
       "(array([[[ 1,  2,  3],\n",
       "         [ 4,  5,  6]],\n",
       " \n",
       "        [[10, 20, 30],\n",
       "         [40, 50, 60]]]),\n",
       " 3)"
      ]
     },
     "execution_count": 27,
     "metadata": {},
     "output_type": "execute_result"
    }
   ],
   "source": [
    "b=np.array([[[1,2,3], [4,5,6]], [[10,20,30], [40,50,60]]])\n",
    "b, b.ndim"
   ]
  },
  {
   "cell_type": "code",
   "execution_count": 30,
   "id": "db1d8b48",
   "metadata": {},
   "outputs": [
    {
     "data": {
      "text/plain": [
       "6"
      ]
     },
     "execution_count": 30,
     "metadata": {},
     "output_type": "execute_result"
    }
   ],
   "source": [
    "b[0,1,2]"
   ]
  },
  {
   "cell_type": "markdown",
   "id": "d0f64aea",
   "metadata": {},
   "source": [
    "### Array Slicing"
   ]
  },
  {
   "cell_type": "code",
   "execution_count": 32,
   "id": "a1dbebe4",
   "metadata": {},
   "outputs": [
    {
     "data": {
      "text/plain": [
       "(array([[[[[1, 2, 3, 4]]]]]), 5, (1, 1, 1, 1, 4))"
      ]
     },
     "execution_count": 32,
     "metadata": {},
     "output_type": "execute_result"
    }
   ],
   "source": [
    "arr = np.array([1, 2, 3, 4], ndmin=5)\n",
    "arr,arr.ndim, arr.shape"
   ]
  },
  {
   "cell_type": "code",
   "execution_count": 21,
   "id": "c53c8fa7",
   "metadata": {},
   "outputs": [
    {
     "name": "stdout",
     "output_type": "stream",
     "text": [
      "1\n",
      "2\n",
      "3\n",
      "4\n"
     ]
    }
   ],
   "source": [
    "# 5d array slicing\n",
    "print(arr[0][0][0][0][0])\n",
    "print(arr[0][0][0][0][1])\n",
    "print(arr[0][0][0][0][2])\n",
    "print(arr[0][0][0][0][3])"
   ]
  },
  {
   "cell_type": "code",
   "execution_count": 24,
   "id": "f88723ae",
   "metadata": {},
   "outputs": [
    {
     "name": "stdout",
     "output_type": "stream",
     "text": [
      "[1 2 3 4 5 6 7 8 9]\n",
      "Length:  9\n",
      "[6 7 8 9]\n"
     ]
    }
   ],
   "source": [
    "arr = np.array([1,2,3,4,5,6,7,8,9])\n",
    "print(arr)\n",
    "\n",
    "# Slice\n",
    "print(\"Length: \",len(arr))\n",
    "print(arr[5:9])\n",
    "\n",
    "# [start:end], start included, end excluded"
   ]
  },
  {
   "cell_type": "code",
   "execution_count": 40,
   "id": "0c157ea6",
   "metadata": {},
   "outputs": [
    {
     "name": "stdout",
     "output_type": "stream",
     "text": [
      "[1 2 3 4 5]\n"
     ]
    }
   ],
   "source": [
    "print(arr[0:5])"
   ]
  },
  {
   "cell_type": "markdown",
   "id": "b35be383",
   "metadata": {},
   "source": [
    "###### Negative Indices\n",
    "\n",
    "    Negative indices always start from last element of n-d \n",
    "    array i.e. -1st index is last element of ndarray."
   ]
  },
  {
   "cell_type": "code",
   "execution_count": 41,
   "id": "70418b16",
   "metadata": {},
   "outputs": [
    {
     "name": "stdout",
     "output_type": "stream",
     "text": [
      "[1 2 3 4 5 6 7 8 9]\n"
     ]
    }
   ],
   "source": [
    "print(arr)"
   ]
  },
  {
   "cell_type": "markdown",
   "id": "8cc3c7c4",
   "metadata": {},
   "source": [
    "[-9,-8,-7,-6,-5,-4,-3,-2,-1]"
   ]
  },
  {
   "cell_type": "code",
   "execution_count": 43,
   "id": "fabdbcf4",
   "metadata": {},
   "outputs": [
    {
     "name": "stdout",
     "output_type": "stream",
     "text": [
      "9\n",
      "5\n",
      "1\n"
     ]
    }
   ],
   "source": [
    "print(arr[-1])\n",
    "print(arr[-5])\n",
    "print(arr[-9])"
   ]
  },
  {
   "cell_type": "code",
   "execution_count": 47,
   "id": "09eafd54",
   "metadata": {},
   "outputs": [
    {
     "name": "stdout",
     "output_type": "stream",
     "text": [
      "[1 2 3 4]\n"
     ]
    }
   ],
   "source": [
    "print(arr[-9:-5])"
   ]
  },
  {
   "cell_type": "code",
   "execution_count": 48,
   "id": "9921dd70",
   "metadata": {},
   "outputs": [
    {
     "name": "stdout",
     "output_type": "stream",
     "text": [
      "[1 2 3 4 5 6 7 8 9]\n",
      "[1 3 5 7 9]\n"
     ]
    }
   ],
   "source": [
    "# Step value in slicing a Numpy array\n",
    "# here step is 2\n",
    "print(arr)\n",
    "print(arr[0:9:2])"
   ]
  },
  {
   "cell_type": "code",
   "execution_count": 49,
   "id": "731183d1",
   "metadata": {},
   "outputs": [
    {
     "name": "stdout",
     "output_type": "stream",
     "text": [
      "[1 3 5 7 9]\n",
      "[1 3 5]\n"
     ]
    }
   ],
   "source": [
    "print(arr[::2])  # ::2 >> 0 to 9 index by step index 2\n",
    "\n",
    "print(arr[0:6:2]) # 0:6:2 >> 0 to 6 index by step value 2"
   ]
  },
  {
   "cell_type": "markdown",
   "id": "62c8da88",
   "metadata": {},
   "source": [
    "###### Slicing of 2D Array"
   ]
  },
  {
   "cell_type": "code",
   "execution_count": 34,
   "id": "fbe983f2",
   "metadata": {},
   "outputs": [
    {
     "name": "stdout",
     "output_type": "stream",
     "text": [
      "[[ 1  2  3  4  5]\n",
      " [ 6  7  8  9 10]]\n",
      "\n",
      "\n",
      "8\n",
      "[7 8 9]\n",
      "[2 3 4]\n"
     ]
    }
   ],
   "source": [
    "arr = np.array([[1,2,3,4,5], [6,7,8,9,10]])\n",
    "\n",
    "print(arr)\n",
    "print('\\n')\n",
    "print(arr[1,2])\n",
    "\n",
    "print(arr[1,1:4]) # arr\n",
    "\n",
    "print(arr[0,1:4])"
   ]
  },
  {
   "cell_type": "code",
   "execution_count": 35,
   "id": "10cf4b8b",
   "metadata": {},
   "outputs": [
    {
     "name": "stdout",
     "output_type": "stream",
     "text": [
      "[[ 1  2  3  4  5]\n",
      " [ 6  7  8  9 10]]\n"
     ]
    }
   ],
   "source": [
    "print(arr)"
   ]
  },
  {
   "cell_type": "code",
   "execution_count": 40,
   "id": "6e152d28",
   "metadata": {},
   "outputs": [
    {
     "data": {
      "text/plain": [
       "array([[3],\n",
       "       [8]])"
      ]
     },
     "execution_count": 40,
     "metadata": {},
     "output_type": "execute_result"
    }
   ],
   "source": [
    "arr[0:,2:3]"
   ]
  },
  {
   "cell_type": "code",
   "execution_count": 37,
   "id": "d5c3cc36",
   "metadata": {},
   "outputs": [
    {
     "data": {
      "text/plain": [
       "array([[1, 2, 3],\n",
       "       [6, 7, 8]])"
      ]
     },
     "execution_count": 37,
     "metadata": {},
     "output_type": "execute_result"
    }
   ],
   "source": [
    "arr[0:,0:3]"
   ]
  },
  {
   "cell_type": "code",
   "execution_count": 36,
   "id": "cc53c50e",
   "metadata": {},
   "outputs": [
    {
     "data": {
      "text/plain": [
       "array([1, 2, 3])"
      ]
     },
     "execution_count": 36,
     "metadata": {},
     "output_type": "execute_result"
    }
   ],
   "source": [
    "arr[0,:3]"
   ]
  },
  {
   "cell_type": "code",
   "execution_count": 60,
   "id": "92d2c31e",
   "metadata": {},
   "outputs": [
    {
     "name": "stdout",
     "output_type": "stream",
     "text": [
      "[[1 2 3]]\n"
     ]
    }
   ],
   "source": [
    "print(arr[0:1,0:3]) # arr[location index from to,element index from to ]"
   ]
  },
  {
   "cell_type": "code",
   "execution_count": 61,
   "id": "00ab968d",
   "metadata": {},
   "outputs": [
    {
     "name": "stdout",
     "output_type": "stream",
     "text": [
      "[[1 2 3]\n",
      " [6 7 8]]\n"
     ]
    }
   ],
   "source": [
    "print(arr[0:2,0:3]) # arr[location index from to, element index from to ]"
   ]
  },
  {
   "cell_type": "code",
   "execution_count": 62,
   "id": "cbe494f3",
   "metadata": {},
   "outputs": [
    {
     "name": "stdout",
     "output_type": "stream",
     "text": [
      "[3 8]\n"
     ]
    }
   ],
   "source": [
    "print(arr[0:2,2]) "
   ]
  },
  {
   "cell_type": "code",
   "execution_count": 41,
   "id": "51afb937",
   "metadata": {},
   "outputs": [
    {
     "name": "stdout",
     "output_type": "stream",
     "text": [
      "[[ 1  2  3  4  5]\n",
      " [10 20 30 40 50]\n",
      " [11 22 33 44 55]]\n",
      "15 (3, 5)\n"
     ]
    }
   ],
   "source": [
    "arr = np.array([[1,2,3,4,5],[10,20,30,40,50],[11,22,33,44,55]])\n",
    "print(arr)\n",
    "print(arr.size, arr.shape)"
   ]
  },
  {
   "cell_type": "code",
   "execution_count": 42,
   "id": "7f1a97ee",
   "metadata": {},
   "outputs": [
    {
     "name": "stdout",
     "output_type": "stream",
     "text": [
      "[[ 2  3]\n",
      " [20 30]]\n",
      "\n",
      "\n",
      "[[20 30 40]\n",
      " [22 33 44]]\n"
     ]
    }
   ],
   "source": [
    "# 2, 3\n",
    "# 20,30\n",
    "\n",
    "print(arr[0:2,1:3]) \n",
    "\n",
    "print('\\n')\n",
    "\n",
    "# 20 30 40\n",
    "# 22 33 44\n",
    "print(arr[1:,1:4])"
   ]
  },
  {
   "cell_type": "markdown",
   "id": "b8563dae",
   "metadata": {},
   "source": [
    "#### Slicing of 3D Array"
   ]
  },
  {
   "cell_type": "code",
   "execution_count": 46,
   "id": "c6e904e2",
   "metadata": {},
   "outputs": [
    {
     "name": "stdout",
     "output_type": "stream",
     "text": [
      "[[[ 1  2  3]\n",
      "  [ 5  6  7]]\n",
      "\n",
      " [[11 22 33]\n",
      "  [55 66 77]]]\n",
      "3\n"
     ]
    }
   ],
   "source": [
    "arr=np.array([[[1,2,3],\n",
    "               [5,6,7]],\n",
    "              \n",
    "              [[11,22,33],\n",
    "               [55,66,77]]])\n",
    "print(arr)\n",
    "print(arr.ndim)"
   ]
  },
  {
   "cell_type": "code",
   "execution_count": 47,
   "id": "723ee1d0",
   "metadata": {},
   "outputs": [
    {
     "data": {
      "text/plain": [
       "array([6, 7])"
      ]
     },
     "execution_count": 47,
     "metadata": {},
     "output_type": "execute_result"
    }
   ],
   "source": [
    "arr[0][1][1:3] # [array location , array row location, array coloumn location]"
   ]
  },
  {
   "cell_type": "code",
   "execution_count": 50,
   "id": "b8977e32",
   "metadata": {},
   "outputs": [
    {
     "data": {
      "text/plain": [
       "array([55, 66])"
      ]
     },
     "execution_count": 50,
     "metadata": {},
     "output_type": "execute_result"
    }
   ],
   "source": [
    "arr[1,1,0:2]"
   ]
  },
  {
   "cell_type": "code",
   "execution_count": 78,
   "id": "c76e69dd",
   "metadata": {},
   "outputs": [
    {
     "data": {
      "text/plain": [
       "array([66, 77])"
      ]
     },
     "execution_count": 78,
     "metadata": {},
     "output_type": "execute_result"
    }
   ],
   "source": [
    "arr[1][1][1:3]"
   ]
  },
  {
   "cell_type": "code",
   "execution_count": 16,
   "id": "a8739d66",
   "metadata": {},
   "outputs": [
    {
     "name": "stdout",
     "output_type": "stream",
     "text": [
      "[[[ 10  20  30]\n",
      "  [ 40  50  60]]\n",
      "\n",
      " [[ 70  80  90]\n",
      "  [100 110 120]]\n",
      "\n",
      " [[  1   2   3]\n",
      "  [  4   5   6]]\n",
      "\n",
      " [[  7   8   9]\n",
      "  [ 11  22  33]]] <class 'numpy.ndarray'> 3\n"
     ]
    }
   ],
   "source": [
    "a=np.array([[[10,20,30],[40,50,60]],\n",
    "            [[70,80,90],[100,110,120]],\n",
    "            [[1,2,3],[4,5,6]],\n",
    "            [[7,8,9],[11,22,33]]])\n",
    "print(a,type(a), a.ndim)"
   ]
  },
  {
   "cell_type": "code",
   "execution_count": 17,
   "id": "0e92e46e",
   "metadata": {},
   "outputs": [
    {
     "data": {
      "text/plain": [
       "array([[[ 30],\n",
       "        [ 60]],\n",
       "\n",
       "       [[ 90],\n",
       "        [120]],\n",
       "\n",
       "       [[  3],\n",
       "        [  6]],\n",
       "\n",
       "       [[  9],\n",
       "        [ 33]]])"
      ]
     },
     "execution_count": 17,
     "metadata": {},
     "output_type": "execute_result"
    }
   ],
   "source": [
    "a[:,:,2:]"
   ]
  },
  {
   "cell_type": "code",
   "execution_count": 18,
   "id": "8a72de1d",
   "metadata": {},
   "outputs": [
    {
     "data": {
      "text/plain": [
       "array([[[  7,   8,   9],\n",
       "        [ 11,  22,  33]],\n",
       "\n",
       "       [[  1,   2,   3],\n",
       "        [  4,   5,   6]],\n",
       "\n",
       "       [[ 70,  80,  90],\n",
       "        [100, 110, 120]],\n",
       "\n",
       "       [[ 10,  20,  30],\n",
       "        [ 40,  50,  60]]])"
      ]
     },
     "execution_count": 18,
     "metadata": {},
     "output_type": "execute_result"
    }
   ],
   "source": [
    "a[::-1] # reversed index"
   ]
  },
  {
   "cell_type": "code",
   "execution_count": 19,
   "id": "359cc347",
   "metadata": {},
   "outputs": [
    {
     "data": {
      "text/plain": [
       "array([[[ 11,  22,  33],\n",
       "        [  7,   8,   9]],\n",
       "\n",
       "       [[  4,   5,   6],\n",
       "        [  1,   2,   3]],\n",
       "\n",
       "       [[100, 110, 120],\n",
       "        [ 70,  80,  90]],\n",
       "\n",
       "       [[ 40,  50,  60],\n",
       "        [ 10,  20,  30]]])"
      ]
     },
     "execution_count": 19,
     "metadata": {},
     "output_type": "execute_result"
    }
   ],
   "source": [
    "a[::-1,::-1]"
   ]
  },
  {
   "cell_type": "code",
   "execution_count": 20,
   "id": "048d7e50",
   "metadata": {},
   "outputs": [
    {
     "data": {
      "text/plain": [
       "array([[[ 33,  22,  11],\n",
       "        [  9,   8,   7]],\n",
       "\n",
       "       [[  6,   5,   4],\n",
       "        [  3,   2,   1]],\n",
       "\n",
       "       [[120, 110, 100],\n",
       "        [ 90,  80,  70]],\n",
       "\n",
       "       [[ 60,  50,  40],\n",
       "        [ 30,  20,  10]]])"
      ]
     },
     "execution_count": 20,
     "metadata": {},
     "output_type": "execute_result"
    }
   ],
   "source": [
    "a[::-1,::-1,::-1]"
   ]
  },
  {
   "cell_type": "markdown",
   "id": "c588d20a",
   "metadata": {},
   "source": [
    "### Data Types in NumPy"
   ]
  },
  {
   "cell_type": "markdown",
   "id": "9c7b81f6",
   "metadata": {},
   "source": [
    "list of all data types in NumPy:\n",
    "    \n",
    "        i/int - integer\n",
    "        bool - boolean\n",
    "        uint - unsigned integer\n",
    "        f/float - float\n",
    "        complex - complex float   \n",
    "        string -string  \n",
    "        M - datetime\n",
    "        m - timedelta     \n",
    "        O - object   \n",
    "        U - unicode string\n",
    "   "
   ]
  },
  {
   "cell_type": "code",
   "execution_count": 79,
   "id": "1a52d8b6",
   "metadata": {},
   "outputs": [],
   "source": [
    "import numpy as np"
   ]
  },
  {
   "cell_type": "code",
   "execution_count": 80,
   "id": "1774a866",
   "metadata": {},
   "outputs": [
    {
     "name": "stdout",
     "output_type": "stream",
     "text": [
      "int32\n"
     ]
    }
   ],
   "source": [
    "# dtype\n",
    "\n",
    "arr = np.array([1,2,3,4])\n",
    "print(arr.dtype)"
   ]
  },
  {
   "cell_type": "code",
   "execution_count": 81,
   "id": "e3ebc82c",
   "metadata": {},
   "outputs": [
    {
     "name": "stdout",
     "output_type": "stream",
     "text": [
      "<U6\n"
     ]
    }
   ],
   "source": [
    "arr=np.array(['apple','banana','cherry'])\n",
    "print(arr.dtype)"
   ]
  },
  {
   "cell_type": "code",
   "execution_count": 25,
   "id": "7c9fdfd2",
   "metadata": {},
   "outputs": [
    {
     "name": "stdout",
     "output_type": "stream",
     "text": [
      "['1' '2' '3' '4']\n",
      "<U1\n"
     ]
    }
   ],
   "source": [
    "# creating arrays with a defined data type\n",
    "\n",
    "arr = np.array([1,2,3,4],dtype=str)\n",
    "print(arr)\n",
    "print(arr.dtype)"
   ]
  },
  {
   "cell_type": "code",
   "execution_count": 84,
   "id": "9e48716b",
   "metadata": {},
   "outputs": [
    {
     "name": "stdout",
     "output_type": "stream",
     "text": [
      "[1 2 3 4]\n",
      "int32\n"
     ]
    }
   ],
   "source": [
    "arr = np.array([1,2,3,4],dtype='i') # int\n",
    "print(arr)\n",
    "print(arr.dtype)"
   ]
  },
  {
   "cell_type": "code",
   "execution_count": 89,
   "id": "2f1c6311",
   "metadata": {},
   "outputs": [
    {
     "name": "stdout",
     "output_type": "stream",
     "text": [
      "[1. 2. 3. 4. 5. 6.]\n",
      "float32\n"
     ]
    }
   ],
   "source": [
    "arr = np.array([1,2,3,4,5,6],dtype='f')\n",
    "print(arr)\n",
    "print(arr.dtype)"
   ]
  },
  {
   "cell_type": "code",
   "execution_count": 88,
   "id": "f6a295c0",
   "metadata": {},
   "outputs": [
    {
     "name": "stdout",
     "output_type": "stream",
     "text": [
      "[1. 2. 3. 4. 5. 6.]\n",
      "float64\n"
     ]
    }
   ],
   "source": [
    "arr = np.array([1,2,3,4,5,6],dtype='float')\n",
    "print(arr)\n",
    "print(arr.dtype)"
   ]
  },
  {
   "cell_type": "code",
   "execution_count": 90,
   "id": "81f1b41a",
   "metadata": {},
   "outputs": [
    {
     "name": "stdout",
     "output_type": "stream",
     "text": [
      "[1 2 3 4]\n",
      "int32\n",
      "****************************************************************************************************\n",
      "[1 2 3 4]\n",
      "int32\n"
     ]
    }
   ],
   "source": [
    "# int with 4 bytes\n",
    "\n",
    "arr=np.array([1,2,3,4],dtype='i')\n",
    "print(arr)\n",
    "print(arr.dtype)\n",
    "\n",
    "print('*'*100)\n",
    "\n",
    "arr=np.array([1,2,3,4],dtype='i4')\n",
    "print(arr)\n",
    "print(arr.dtype)"
   ]
  },
  {
   "cell_type": "markdown",
   "id": "1b879d6d",
   "metadata": {},
   "source": [
    "in python we are not responsible for memory management PVM is responsible for memory management"
   ]
  },
  {
   "cell_type": "code",
   "execution_count": 54,
   "id": "b3a6df57",
   "metadata": {},
   "outputs": [],
   "source": [
    "# Errors\n",
    "\n",
    "# arr=np.array(['a','2','3'],dtype='i')\n",
    "# print(arr) # ValueError: invalid literal for int() with base 10: 'a'"
   ]
  },
  {
   "cell_type": "code",
   "execution_count": 93,
   "id": "00d9928b",
   "metadata": {},
   "outputs": [
    {
     "name": "stdout",
     "output_type": "stream",
     "text": [
      "[1 2 3]\n"
     ]
    }
   ],
   "source": [
    "arr=np.array(['1','2','3'],dtype='i')\n",
    "print(arr)"
   ]
  },
  {
   "cell_type": "markdown",
   "id": "f8cc36a6",
   "metadata": {},
   "source": [
    "### Data Type Conversion"
   ]
  },
  {
   "cell_type": "code",
   "execution_count": 105,
   "id": "eee54031",
   "metadata": {},
   "outputs": [
    {
     "name": "stdout",
     "output_type": "stream",
     "text": [
      "old array: [1.1 2.2 3.3 4.4]\n",
      "old array data type : float64\n",
      "****************************************************************************************************\n",
      "new array [1 2 3 4]\n",
      "new array data type : int32\n"
     ]
    }
   ],
   "source": [
    "# float to int\n",
    "\n",
    "arr = np.array([1.1, 2.2, 3.3, 4.4])\n",
    "print('old array:',arr)\n",
    "print('old array data type :',arr.dtype)\n",
    "print('*'*100)\n",
    "new_arr = arr.astype('i')\n",
    "print('new array',new_arr)\n",
    "print('new array data type :',new_arr.dtype)"
   ]
  },
  {
   "cell_type": "code",
   "execution_count": 106,
   "id": "621713e5",
   "metadata": {},
   "outputs": [
    {
     "name": "stdout",
     "output_type": "stream",
     "text": [
      "old array: [1 2 3 4 0]\n",
      "old array data type : int32\n",
      "****************************************************************************************************\n",
      "new array [ True  True  True  True False]\n",
      "new array data type : bool\n"
     ]
    }
   ],
   "source": [
    "# int to bool\n",
    "\n",
    "arr = np.array([1, 2, 3, 4, 0])\n",
    "print('old array:',arr)\n",
    "print('old array data type :',arr.dtype)\n",
    "print('*'*100)\n",
    "new_arr = arr.astype(bool)\n",
    "print('new array',new_arr)\n",
    "print('new array data type :',new_arr.dtype)"
   ]
  },
  {
   "cell_type": "markdown",
   "id": "475738af",
   "metadata": {},
   "source": [
    "### Difference Between Copy and View\n",
    "\n",
    "copy : \n",
    "\n",
    "    A copy is a new array that has the same data as the original array. Changes made to the copy do not affect the original array, and vice versa\n",
    "    \n",
    "    \n",
    "view :\n",
    "\n",
    "    A view is a new array that refers to the same data as the original array. Changes made to the view affect the original array, and vice versa."
   ]
  },
  {
   "cell_type": "code",
   "execution_count": 26,
   "id": "1d316b7c",
   "metadata": {},
   "outputs": [
    {
     "name": "stdout",
     "output_type": "stream",
     "text": [
      "original array : [1 2 3 4 5]\n",
      "copied array : [1 2 3 4 5]\n",
      "now we will update the original arrray \"1 to 100\"\n",
      "original array after update : [100   2   3   4   5]\n",
      "copied array after update in original : [1 2 3 4 5]\n"
     ]
    }
   ],
   "source": [
    "a=np.array([1,2,3,4,5])\n",
    "print('original array :',a)\n",
    "b=a.copy()\n",
    "print('copied array :',b)\n",
    "print('now we will update the original arrray \"1 to 100\"')\n",
    "a[0]=100\n",
    "\n",
    "print('original array after update :',a)\n",
    "print('copied array after update in original :',b)"
   ]
  },
  {
   "cell_type": "code",
   "execution_count": 27,
   "id": "d828acdf",
   "metadata": {},
   "outputs": [
    {
     "name": "stdout",
     "output_type": "stream",
     "text": [
      "original array : [1 2 3 4 5]\n",
      "copied array : [1 2 3 4 5]\n",
      "now we will update the original arrray \"1 to 100\"\n",
      "original array after update : [100   2   3   4   5]\n",
      "copied array after update in original : [100   2   3   4   5]\n"
     ]
    }
   ],
   "source": [
    "a=np.array([1,2,3,4,5])\n",
    "print('original array :',a)\n",
    "b=a.view()\n",
    "print('copied array :',b)\n",
    "print('now we will update the original arrray \"1 to 100\"')\n",
    "a[0]=100\n",
    "\n",
    "print('original array after update :',a)\n",
    "print('copied array after update in original :',b)"
   ]
  },
  {
   "cell_type": "code",
   "execution_count": 107,
   "id": "21687ded",
   "metadata": {},
   "outputs": [
    {
     "name": "stdout",
     "output_type": "stream",
     "text": [
      "[42  2  3  4  5]\n",
      "[1 2 3 4 5]\n"
     ]
    }
   ],
   "source": [
    "# copy() : it is going to create new instance for your value\n",
    "\n",
    "arr=np.array([1, 2, 3, 4, 5])\n",
    "x = arr.copy() # seperate object required\n",
    "arr[0]=42 # updated arr o th index\n",
    "\n",
    "print(arr)\n",
    "print(x)"
   ]
  },
  {
   "cell_type": "code",
   "execution_count": 108,
   "id": "739e7cf6",
   "metadata": {},
   "outputs": [
    {
     "name": "stdout",
     "output_type": "stream",
     "text": [
      "[1 2 3 4 5 6]\n",
      "[100   2   3   4   5   6]\n",
      "[1 2 3 4 5 6]\n"
     ]
    }
   ],
   "source": [
    "arr = np.array([1,2,3,4,5,6])\n",
    "x = arr.copy()\n",
    "print(x)\n",
    "x[0] = 100\n",
    "print(x)\n",
    "\n",
    "print(arr)\n",
    "#print(x) "
   ]
  },
  {
   "cell_type": "code",
   "execution_count": 112,
   "id": "c9f6a9aa",
   "metadata": {},
   "outputs": [
    {
     "name": "stdout",
     "output_type": "stream",
     "text": [
      "[200   2   3   4   5]\n",
      "[200   2   3   4   5]\n"
     ]
    }
   ],
   "source": [
    "# view() : \n",
    "\n",
    "arr = np.array([1, 2, 3, 4, 5])\n",
    "x = arr.view()\n",
    "\n",
    "# x = arr\n",
    "x[0] = 200\n",
    "\n",
    "print(arr)\n",
    "print(x) "
   ]
  },
  {
   "cell_type": "code",
   "execution_count": 113,
   "id": "6843c924",
   "metadata": {},
   "outputs": [
    {
     "name": "stdout",
     "output_type": "stream",
     "text": [
      "[4 2 3]\n",
      "[4 2 3]\n"
     ]
    }
   ],
   "source": [
    "a = np.array([1, 2, 3])\n",
    "b = a.view()\n",
    "b[0] = 4\n",
    "\n",
    "print(a) # Output: [4 2 3]\n",
    "print(b) # Output: [4 2 3]\n"
   ]
  },
  {
   "cell_type": "markdown",
   "id": "d8273159",
   "metadata": {},
   "source": [
    "###### base concept : how to identify copy or view\n",
    "\n",
    "That will possible by using **\"base\"** funcion\n",
    "\n",
    "If you are referring to identifying whether a NumPy array is a copy or a view (a different view of the same data), you can use the base attribute of the array. The base attribute returns None for arrays that own their data, and it returns the base object for arrays that are views"
   ]
  },
  {
   "cell_type": "code",
   "execution_count": 1,
   "id": "9e69c9b7",
   "metadata": {},
   "outputs": [
    {
     "name": "stdout",
     "output_type": "stream",
     "text": [
      "[1, 20, 3, 4, 5]\n",
      "[10, 2, 3, 4, 5]\n"
     ]
    }
   ],
   "source": [
    "original_list = [1, 2, 3, 4, 5]\n",
    "\n",
    "# Creating a Copy\n",
    "copied_list = original_list.copy()  \n",
    "\n",
    "# Creating a View\n",
    "view_list = original_list\n",
    "\n",
    "# Modifying the Copy and View\n",
    "copied_list[0] = 10\n",
    "view_list[1] = 20\n",
    "\n",
    "print(original_list)  # Output: [1, 20, 3, 4, 5] (View modifies the original)\n",
    "print(copied_list)    # Output: [10, 2, 3, 4, 5] (Copy doesn't modify the original)\n"
   ]
  },
  {
   "cell_type": "code",
   "execution_count": 2,
   "id": "afe129fa",
   "metadata": {},
   "outputs": [
    {
     "name": "stdout",
     "output_type": "stream",
     "text": [
      "[1 2 3 4 5]\n",
      "None\n"
     ]
    }
   ],
   "source": [
    "import numpy as np\n",
    "\n",
    "original_array = np.array([1, 2, 3, 4, 5])\n",
    "\n",
    "# Creating a View\n",
    "view_array = original_array.view()\n",
    "\n",
    "# Creating a Copy\n",
    "copied_array = original_array.copy()\n",
    "\n",
    "print(view_array.base)   # Output: [1 2 3 4 5] (Original array is the base for the view)\n",
    "print(copied_array.base) # Output: None (Copy has no base, it's an independent array)\n"
   ]
  },
  {
   "cell_type": "markdown",
   "id": "46ec8a7a",
   "metadata": {},
   "source": [
    "### Numpy Array Reshaping"
   ]
  },
  {
   "cell_type": "code",
   "execution_count": 57,
   "id": "c5dc467e",
   "metadata": {},
   "outputs": [
    {
     "name": "stdout",
     "output_type": "stream",
     "text": [
      "12\n",
      "(12,)\n",
      "\n",
      "\n",
      "[[ 1]\n",
      " [ 2]\n",
      " [ 3]\n",
      " [ 4]\n",
      " [ 5]\n",
      " [ 6]\n",
      " [ 7]\n",
      " [ 8]\n",
      " [ 9]\n",
      " [10]\n",
      " [11]\n",
      " [12]]\n"
     ]
    }
   ],
   "source": [
    "arr =np.array([1, 2, 3, 4, 5, 6, 7, 8, 9, 10, 11, 12])\n",
    "\n",
    "print(arr.size)\n",
    "print(arr.shape)\n",
    "print('\\n')\n",
    "newarr=arr.reshape(12,1)\n",
    "print(newarr)"
   ]
  },
  {
   "cell_type": "code",
   "execution_count": 132,
   "id": "ec6403b7",
   "metadata": {},
   "outputs": [
    {
     "name": "stdout",
     "output_type": "stream",
     "text": [
      "12\n",
      "(12,)\n",
      "\n",
      "\n",
      "[[[ 1  2]\n",
      "  [ 3  4]]\n",
      "\n",
      " [[ 5  6]\n",
      "  [ 7  8]]\n",
      "\n",
      " [[ 9 10]\n",
      "  [11 12]]]\n"
     ]
    }
   ],
   "source": [
    "arr =np.array([1, 2, 3, 4, 5, 6, 7, 8, 9, 10, 11, 12])\n",
    "\n",
    "print(arr.size)\n",
    "print(arr.shape)\n",
    "print('\\n')\n",
    "newarr=arr.reshape(3,2,2)\n",
    "print(newarr)"
   ]
  },
  {
   "cell_type": "code",
   "execution_count": 143,
   "id": "cdc83789",
   "metadata": {},
   "outputs": [
    {
     "name": "stdout",
     "output_type": "stream",
     "text": [
      "[[[ 1  2  3]\n",
      "  [ 4  5  6]]\n",
      "\n",
      " [[ 7  8  9]\n",
      "  [10 11 12]]]\n"
     ]
    }
   ],
   "source": [
    "arr =np.array([1, 2, 3, 4, 5, 6, 7, 8, 9, 10, 11, 12])\n",
    "\n",
    "newarr=arr.reshape(2,2,3)\n",
    "\n",
    "print(newarr)"
   ]
  },
  {
   "cell_type": "code",
   "execution_count": 150,
   "id": "6fe1be9e",
   "metadata": {},
   "outputs": [
    {
     "name": "stdout",
     "output_type": "stream",
     "text": [
      "[[11 44 77 88 99 55]]\n",
      "2\n",
      "****************************************************************************************************\n",
      "[11 44 77 88 99 55]\n",
      "1\n"
     ]
    }
   ],
   "source": [
    "# create a 2D array and then convert it into 1D array\n",
    "\n",
    "arr = np.array([[11,44,77,88,99,55]])\n",
    "newarr = arr.reshape(6,)\n",
    "print(arr)\n",
    "print(arr.ndim)\n",
    "print('*'*100)\n",
    "print(newarr)\n",
    "print(newarr.ndim)"
   ]
  },
  {
   "cell_type": "code",
   "execution_count": 151,
   "id": "a3682788",
   "metadata": {},
   "outputs": [
    {
     "name": "stdout",
     "output_type": "stream",
     "text": [
      "[[11 44 77]\n",
      " [88 99 55]]\n",
      "2\n",
      "****************************************************************************************************\n",
      "[11 44 77 88 99 55]\n",
      "1\n"
     ]
    }
   ],
   "source": [
    "arr = np.array([[11,44,77],[88,99,55]])\n",
    "newarr = arr.reshape(6,)\n",
    "print(arr)\n",
    "print(arr.ndim)\n",
    "print('*'*100)\n",
    "print(newarr)\n",
    "print(newarr.ndim)"
   ]
  },
  {
   "cell_type": "code",
   "execution_count": 152,
   "id": "103b96f9",
   "metadata": {},
   "outputs": [
    {
     "name": "stdout",
     "output_type": "stream",
     "text": [
      "[11 44 77 88 99 55]\n",
      "1\n",
      "****************************************************************************************************\n",
      "[[11 44]\n",
      " [77 88]\n",
      " [99 55]]\n",
      "2\n"
     ]
    }
   ],
   "source": [
    "arr = np.array([11,44,77,88,99,55])\n",
    "newarr = arr.reshape(3,2)\n",
    "print(arr)\n",
    "print(arr.ndim)\n",
    "print('*'*100)\n",
    "print(newarr)\n",
    "print(newarr.ndim)"
   ]
  },
  {
   "cell_type": "code",
   "execution_count": 148,
   "id": "541d5be9",
   "metadata": {},
   "outputs": [
    {
     "name": "stdout",
     "output_type": "stream",
     "text": [
      "[[[ 11  44  77  88  99  55]]\n",
      "\n",
      " [[111 441 717 188 919 515]]]\n",
      "3\n",
      "****************************************************************************************************\n",
      "[ 11  44  77  88  99  55 111 441 717 188 919 515]\n",
      "1\n"
     ]
    }
   ],
   "source": [
    "# convert 3D array into 1D array\n",
    "arr = np.array([[[11,44,77,88,99,55]],[[111,441,717,188,919,515]]])\n",
    "newarr = arr.reshape(12,)\n",
    "print(arr)\n",
    "print(arr.ndim)\n",
    "print('*'*100)\n",
    "print(newarr)\n",
    "print(newarr.ndim)\n"
   ]
  },
  {
   "cell_type": "code",
   "execution_count": 154,
   "id": "e09646c7",
   "metadata": {},
   "outputs": [
    {
     "name": "stdout",
     "output_type": "stream",
     "text": [
      "[ 11  44  77  88  99  55 111 441 717 188 919 515]\n",
      "1\n",
      "****************************************************************************************************\n",
      "[[[ 11  44  77  88]\n",
      "  [ 99  55 111 441]\n",
      "  [717 188 919 515]]]\n",
      "3\n"
     ]
    }
   ],
   "source": [
    "arr = np.array([11,44,77,88,99,55,111,441,717,188,919,515])\n",
    "newarr = arr.reshape(1,3,4)\n",
    "print(arr)\n",
    "print(arr.ndim)\n",
    "print('*'*100)\n",
    "print(newarr)\n",
    "print(newarr.ndim)"
   ]
  },
  {
   "cell_type": "code",
   "execution_count": 149,
   "id": "96cc35d1",
   "metadata": {},
   "outputs": [
    {
     "name": "stdout",
     "output_type": "stream",
     "text": [
      "[[[[11 44 77 88 99 55]]]]\n",
      "4\n",
      "****************************************************************************************************\n",
      "[11 44 77 88 99 55]\n",
      "1\n"
     ]
    }
   ],
   "source": [
    "# convert 4D array into 1D array\n",
    "\n",
    "arr = np.array([[[[11,44,77,88,99,55]]]])\n",
    "newarr = arr.reshape(6,)\n",
    "print(arr)\n",
    "print(arr.ndim)\n",
    "print('*'*100)\n",
    "print(newarr)\n",
    "print(newarr.ndim)"
   ]
  },
  {
   "cell_type": "code",
   "execution_count": 58,
   "id": "afd83efc",
   "metadata": {},
   "outputs": [
    {
     "name": "stdout",
     "output_type": "stream",
     "text": [
      "[11 44 77 88 99 55]\n",
      "1\n",
      "****************************************************************************************************\n",
      "[[11 44]\n",
      " [77 88]\n",
      " [99 55]]\n",
      "2\n"
     ]
    }
   ],
   "source": [
    "arr = np.array([11,44,77,88,99,55])\n",
    "newarr = arr.reshape((3,2))\n",
    "print(arr)\n",
    "print(arr.ndim)\n",
    "print('*'*100)\n",
    "print(newarr)\n",
    "print(newarr.ndim)"
   ]
  },
  {
   "cell_type": "markdown",
   "id": "f9be8f24",
   "metadata": {},
   "source": [
    "### Numpy Array Reshape Flatten unknown Dimensions"
   ]
  },
  {
   "cell_type": "markdown",
   "id": "81d89b5f",
   "metadata": {},
   "source": [
    "###### If user **dont know any one dimension out 3 dimensions** then numpy can obtain it for user. User have mension the **-1** for that dim."
   ]
  },
  {
   "cell_type": "code",
   "execution_count": 62,
   "id": "4b188d25",
   "metadata": {},
   "outputs": [
    {
     "name": "stdout",
     "output_type": "stream",
     "text": [
      "[[[1]\n",
      "  [2]\n",
      "  [3]]\n",
      "\n",
      " [[4]\n",
      "  [5]\n",
      "  [6]]\n",
      "\n",
      " [[7]\n",
      "  [8]\n",
      "  [9]]]\n"
     ]
    }
   ],
   "source": [
    "# Unknown Dimension\n",
    "\n",
    "arr = np.array([1, 2, 3, 4, 5, 6, 7, 8, 9])\n",
    "\n",
    "newarr = arr.reshape(3, 3, -1)\n",
    "\n",
    "print(newarr) "
   ]
  },
  {
   "cell_type": "markdown",
   "id": "28327bb6",
   "metadata": {},
   "source": [
    "##### if u want to obtain a 1-D array using N-D array "
   ]
  },
  {
   "cell_type": "code",
   "execution_count": 168,
   "id": "fdc4b15a",
   "metadata": {},
   "outputs": [
    {
     "name": "stdout",
     "output_type": "stream",
     "text": [
      "[[10 20 30]\n",
      " [40 50 60]]\n",
      "(2, 3)\n",
      "(6,)\n",
      "[10 20 30 40 50 60]\n"
     ]
    }
   ],
   "source": [
    "# Flattening(reshape/convert in scalar vector) an Array\n",
    "\n",
    "arr=np.array([[10,20,30],[40,50,60]])\n",
    "\n",
    "print(arr)\n",
    "print(arr.shape)\n",
    "\n",
    "newarr=arr.reshape(-1)\n",
    "\n",
    "print(newarr.shape)\n",
    "print(newarr)"
   ]
  },
  {
   "cell_type": "markdown",
   "id": "af22489d",
   "metadata": {},
   "source": [
    "### NumPy Array Iterating\n",
    "\n",
    "Iterating: means that you going through each element of the array"
   ]
  },
  {
   "cell_type": "code",
   "execution_count": 169,
   "id": "77230998",
   "metadata": {},
   "outputs": [
    {
     "name": "stdout",
     "output_type": "stream",
     "text": [
      "1\n",
      "2\n",
      "3\n"
     ]
    }
   ],
   "source": [
    "arr =np.array([1,2,3])\n",
    "\n",
    "for x in arr:\n",
    "    print(x)"
   ]
  },
  {
   "cell_type": "code",
   "execution_count": 171,
   "id": "3d98a9a2",
   "metadata": {},
   "outputs": [
    {
     "name": "stdout",
     "output_type": "stream",
     "text": [
      "[11 22 33]\n",
      "[10 20 30]\n"
     ]
    }
   ],
   "source": [
    "# iterating on 2-D array \n",
    "arr = np.array([[11,22,33],[10,20,30]])\n",
    "\n",
    "#print(arr)\n",
    "\n",
    "for x in arr: # x is taking elemets here\n",
    "    print(x)"
   ]
  },
  {
   "cell_type": "code",
   "execution_count": 174,
   "id": "6446d76c",
   "metadata": {},
   "outputs": [
    {
     "name": "stdout",
     "output_type": "stream",
     "text": [
      "1\n",
      "2\n",
      "3\n",
      "4\n",
      "5\n",
      "6\n"
     ]
    }
   ],
   "source": [
    "# Iterating on scalar element of 2-D array\n",
    "\n",
    "arr=np.array([[1, 2, 3],[4, 5, 6]])\n",
    "\n",
    "for x in arr: # here x is holding list of elements\n",
    "    for i in x:\n",
    "        print(i)"
   ]
  },
  {
   "cell_type": "code",
   "execution_count": 181,
   "id": "7249c6e1",
   "metadata": {},
   "outputs": [
    {
     "name": "stdout",
     "output_type": "stream",
     "text": [
      "1 \n",
      "\n",
      "2 \n",
      "\n",
      "3 \n",
      "\n",
      "4 \n",
      "\n",
      "5 \n",
      "\n",
      "6 \n",
      "\n",
      "7 \n",
      "\n",
      "8 \n",
      "\n",
      "9 \n",
      "\n",
      "10 \n",
      "\n",
      "11 \n",
      "\n",
      "12 \n",
      "\n"
     ]
    }
   ],
   "source": [
    "# Iterating on scalar element of 3-D array\n",
    "\n",
    "arr=np.array([[[1,2,3],[4,5,6]],[[7,8,9],[10,11,12]]])\n",
    "for x in arr:\n",
    "#     print(x,'\\n')\n",
    "    for i in x:\n",
    "#          print(i,'\\n')\n",
    "         for j in i:\n",
    "            print(j,'\\n')"
   ]
  },
  {
   "cell_type": "markdown",
   "id": "492d8861",
   "metadata": {},
   "source": [
    "###### 1. Using nditer()"
   ]
  },
  {
   "cell_type": "code",
   "execution_count": 182,
   "id": "b9412401",
   "metadata": {},
   "outputs": [
    {
     "name": "stdout",
     "output_type": "stream",
     "text": [
      "1\n",
      "2\n",
      "3\n",
      "4\n",
      "5\n",
      "6\n",
      "7\n",
      "8\n"
     ]
    }
   ],
   "source": [
    "# Iterating on 3-D array\n",
    "arr =np.array([[[1,2],[3,4]], [[5,6],[7,8]]])\n",
    "\n",
    "y = np.nditer(arr)\n",
    "\n",
    "for x in y:\n",
    "    print(x)"
   ]
  },
  {
   "cell_type": "code",
   "execution_count": 184,
   "id": "6d21e6f2",
   "metadata": {},
   "outputs": [
    {
     "name": "stdout",
     "output_type": "stream",
     "text": [
      "1\n",
      "2\n",
      "3\n",
      "4\n",
      "5\n",
      "6\n",
      "7\n",
      "8\n"
     ]
    }
   ],
   "source": [
    "arr =np.array([[[1,2],[3,4]], [[5,6],[7,8]]])\n",
    "\n",
    "for x in np.nditer(arr):\n",
    "    print(x)"
   ]
  },
  {
   "cell_type": "code",
   "execution_count": 191,
   "id": "a42504e2",
   "metadata": {},
   "outputs": [
    {
     "name": "stdout",
     "output_type": "stream",
     "text": [
      "<numpy.nditer object at 0x0000023B08797EB0>\n",
      "1\n",
      "2\n",
      "3\n",
      "4\n",
      "88\n",
      "88\n",
      "3939\n",
      "999\n"
     ]
    }
   ],
   "source": [
    "arr=np.array([[1,2,3,4],[88,88,3939,999]])\n",
    "\n",
    "print(np.nditer(arr))\n",
    "\n",
    "for i in np.nditer(arr):\n",
    "    print(i)"
   ]
  },
  {
   "cell_type": "code",
   "execution_count": 63,
   "id": "9d52476b",
   "metadata": {},
   "outputs": [
    {
     "name": "stdout",
     "output_type": "stream",
     "text": [
      "int to float 1.0\n",
      "int to float 2.0\n",
      "int to float 3.0\n",
      "1\n",
      "2\n",
      "3\n",
      "b'1'\n",
      "b'2'\n",
      "b'3'\n"
     ]
    }
   ],
   "source": [
    "# Casting array element from one type to other data type\n",
    "\n",
    "# Numpy can not at the movemet for that we need to go with \"flags\" para in nditer\n",
    "\n",
    "arr=np.array([1, 2, 3])\n",
    "\n",
    "for x in np.nditer(arr,flags=['buffered'],op_dtypes=['float']):\n",
    "    print(\"int to float\",x)\n",
    "    \n",
    "for x in np.nditer(arr,flags=['buffered'],op_dtypes=['U']):\n",
    "    print(x)\n",
    "    \n",
    "for x in np.nditer(arr,flags=['buffered'],op_dtypes=['S']):\n",
    "    print(x)"
   ]
  },
  {
   "cell_type": "code",
   "execution_count": 65,
   "id": "16ed6909",
   "metadata": {},
   "outputs": [
    {
     "name": "stdout",
     "output_type": "stream",
     "text": [
      "(1+0j)\n",
      "(2+0j)\n",
      "(3+0j)\n"
     ]
    }
   ],
   "source": [
    "for i in np.nditer(arr,flags=['buffered'],op_dtypes=['complex']):\n",
    "    print(i)"
   ]
  },
  {
   "cell_type": "code",
   "execution_count": 252,
   "id": "bd695433",
   "metadata": {},
   "outputs": [
    {
     "name": "stdout",
     "output_type": "stream",
     "text": [
      "1\n",
      "3\n",
      "5\n",
      "7\n"
     ]
    }
   ],
   "source": [
    "# Slicing of an numpy array steps in iterations\n",
    "# 2D array\n",
    "arr=np.array([[1,2,3,4],[5,6,7,8]])\n",
    "\n",
    "for x in np.nditer(arr[0:, 0:3:2]): # [Array location,index number::,step_size]\n",
    "    print(x)"
   ]
  },
  {
   "cell_type": "code",
   "execution_count": 66,
   "id": "7444e52b",
   "metadata": {},
   "outputs": [
    {
     "name": "stdout",
     "output_type": "stream",
     "text": [
      "55\n"
     ]
    }
   ],
   "source": [
    "# 3D Array\n",
    "# array[start:end:step, start:end:step, start:end:step]\n",
    "\n",
    "arr=np.array([[[1,2,3],[11,22,33]],[[4,5,6],[44,55,66]]])\n",
    "\n",
    "for x in np.nditer(arr[1:,1::,1::3]):\n",
    "    print(x)"
   ]
  },
  {
   "cell_type": "code",
   "execution_count": 29,
   "id": "a3d91975",
   "metadata": {},
   "outputs": [
    {
     "name": "stdout",
     "output_type": "stream",
     "text": [
      "55\n"
     ]
    }
   ],
   "source": [
    "arr=np.array([[[1,2,3],[11,22,33]],[[4,5,6],[44,55,66]]])\n",
    "\n",
    "for i in np.nditer(arr[1:,1:,1:2]):\n",
    "    print(i)"
   ]
  },
  {
   "cell_type": "code",
   "execution_count": 67,
   "id": "5fc8f515",
   "metadata": {},
   "outputs": [
    {
     "name": "stdout",
     "output_type": "stream",
     "text": [
      "1\n",
      "2\n",
      "3\n",
      "4\n",
      "5\n",
      "6\n",
      "7\n",
      "8\n",
      "9\n",
      "10\n",
      "11\n",
      "12\n"
     ]
    }
   ],
   "source": [
    "# create a 3D numpy array\n",
    "array_3d = np.array([\n",
    "    [[1, 2, 3], [4, 5, 6]],\n",
    "    [[7, 8, 9], [10, 11, 12]]\n",
    "])\n",
    "\n",
    "# slice the array along the first dimension\n",
    "for i in np.nditer(array_3d[:,:,:]):\n",
    "    print(i)"
   ]
  },
  {
   "cell_type": "code",
   "execution_count": 303,
   "id": "e6ac220f",
   "metadata": {},
   "outputs": [
    {
     "name": "stdout",
     "output_type": "stream",
     "text": [
      "1\n",
      "3\n",
      "4\n",
      "6\n",
      "7\n",
      "9\n",
      "10\n",
      "12\n"
     ]
    }
   ],
   "source": [
    "array_3d = np.array([\n",
    "    [[1, 2, 3], [4, 5, 6]],\n",
    "    [[7, 8, 9], [10, 11, 12]]\n",
    "])\n",
    "\n",
    "# slice the array with a step size of 2 along the first dimension\n",
    "for i in np.nditer(array_3d[:,::,::2]):\n",
    "    print(i)"
   ]
  },
  {
   "cell_type": "markdown",
   "id": "a69ca5a2",
   "metadata": {},
   "source": [
    "###### 2. Using ndenumerate()\n",
    "\n",
    "    Enumeration means mentioning sequence number of somethings one by one\n",
    "    \n",
    "    whenever we want to access any location of element in multi dimentional arrays that time we can use \"ndenumerate\"\n",
    "    \n",
    "    this method always return tuple of index and element"
   ]
  },
  {
   "cell_type": "code",
   "execution_count": 307,
   "id": "3d87b896",
   "metadata": {},
   "outputs": [
    {
     "name": "stdout",
     "output_type": "stream",
     "text": [
      "((0,), 1)\n",
      "((1,), 2)\n",
      "((2,), 3)\n",
      "****************************************************************************************************\n",
      "Index : (0,) Value 1\n",
      "Index : (1,) Value 2\n",
      "Index : (2,) Value 3\n"
     ]
    }
   ],
   "source": [
    "arr = np.array([1, 2, 3])\n",
    "\n",
    "for x in np.ndenumerate(arr):\n",
    "    print(x)\n",
    "    \n",
    "print('*'*100)    \n",
    "\n",
    "for i,x in np.ndenumerate(arr):\n",
    "    print(\"Index :\",i,\"Value\",x)"
   ]
  },
  {
   "cell_type": "code",
   "execution_count": 310,
   "id": "53262d11",
   "metadata": {},
   "outputs": [
    {
     "name": "stdout",
     "output_type": "stream",
     "text": [
      "[[1 2 3 4]\n",
      " [5 6 7 8]]\n",
      "Index : (0, 0) Value 1\n",
      "Index : (0, 1) Value 2\n",
      "Index : (0, 2) Value 3\n",
      "Index : (0, 3) Value 4\n",
      "Index : (1, 0) Value 5\n",
      "Index : (1, 1) Value 6\n",
      "Index : (1, 2) Value 7\n",
      "Index : (1, 3) Value 8\n"
     ]
    }
   ],
   "source": [
    "# 2D array\n",
    "\n",
    "arr=np.array([[1,2,3,4],[5,6,7,8]])\n",
    "\n",
    "print(arr)\n",
    "for i, val in np.ndenumerate(arr):\n",
    "    print(\"Index :\",i,\"Value\",val)"
   ]
  },
  {
   "cell_type": "code",
   "execution_count": 311,
   "id": "e26450d2",
   "metadata": {},
   "outputs": [
    {
     "name": "stdout",
     "output_type": "stream",
     "text": [
      "[[[ 1  2  3  4]\n",
      "  [ 5  6  7  8]]\n",
      "\n",
      " [[10 20 30 40]\n",
      "  [50 60 70 80]]]\n",
      "Index : (0, 0, 0) Value 1\n",
      "Index : (0, 0, 1) Value 2\n",
      "Index : (0, 0, 2) Value 3\n",
      "Index : (0, 0, 3) Value 4\n",
      "Index : (0, 1, 0) Value 5\n",
      "Index : (0, 1, 1) Value 6\n",
      "Index : (0, 1, 2) Value 7\n",
      "Index : (0, 1, 3) Value 8\n",
      "Index : (1, 0, 0) Value 10\n",
      "Index : (1, 0, 1) Value 20\n",
      "Index : (1, 0, 2) Value 30\n",
      "Index : (1, 0, 3) Value 40\n",
      "Index : (1, 1, 0) Value 50\n",
      "Index : (1, 1, 1) Value 60\n",
      "Index : (1, 1, 2) Value 70\n",
      "Index : (1, 1, 3) Value 80\n"
     ]
    }
   ],
   "source": [
    "# 3D array\n",
    "\n",
    "arr=np.array([[[1,2,3,4],[5,6,7,8]],[[10,20,30,40],[50,60,70,80]]])\n",
    "\n",
    "print(arr)\n",
    "for i, val in np.ndenumerate(arr):\n",
    "    print(\"Index :\",i,\"Value\",val)"
   ]
  },
  {
   "cell_type": "markdown",
   "id": "1c717e44",
   "metadata": {},
   "source": [
    "### Joining Array\n",
    "\n",
    "    While joining array we should remember \"both arrays should have same dimentions\""
   ]
  },
  {
   "cell_type": "markdown",
   "id": "e7ed744e",
   "metadata": {},
   "source": [
    "###### 1. using concatenation \n",
    "\n",
    "        Combining two or more arrays along an existing axis. The resulting array has the same dimension as the original arrays.\n",
    "        The dimension along which concatenation occurs remains the same. If you concatenate two 1D arrays, you get a longer 1D array. If you concatenate two 2D arrays along rows or columns, you get a larger 2D array."
   ]
  },
  {
   "cell_type": "code",
   "execution_count": 312,
   "id": "389abb24",
   "metadata": {},
   "outputs": [
    {
     "name": "stdout",
     "output_type": "stream",
     "text": [
      "[1 2 3 4 5 6]\n"
     ]
    }
   ],
   "source": [
    "arr1=np.array([1,2,3])\n",
    "arr2=np.array([4,5,6])\n",
    "\n",
    "arr=np.concatenate((arr1,arr2))\n",
    "print(arr)"
   ]
  },
  {
   "cell_type": "code",
   "execution_count": 313,
   "id": "0d42a231",
   "metadata": {},
   "outputs": [
    {
     "name": "stdout",
     "output_type": "stream",
     "text": [
      "[[1 2 5 6]\n",
      " [3 4 7 8]]\n",
      "****************************************************************************************************\n",
      "[[1 2]\n",
      " [3 4]\n",
      " [5 6]\n",
      " [7 8]]\n"
     ]
    }
   ],
   "source": [
    "# Array concatenation using axis option\n",
    "\n",
    "# axis = 0 : it represents rows (default)\n",
    "# axis = 1 : it represents columns\n",
    "\n",
    "arr1 = np.array([[1, 2], [3, 4]])\n",
    "\n",
    "arr2 = np.array([[5,6 ], [7, 8]])\n",
    "\n",
    "arr = np.concatenate((arr1, arr2), axis=1) # columnwise\n",
    "print(arr)\n",
    "\n",
    "print('*'*100)\n",
    "\n",
    "arr = np.concatenate((arr1, arr2), axis=0) # rowwise\n",
    "print(arr)"
   ]
  },
  {
   "cell_type": "markdown",
   "id": "db8634a9",
   "metadata": {},
   "source": [
    "###### 2. using Stack Functions\n",
    "\n",
    "         Stacking is same as concatenation, the only difference is that stacking is done along new axis.\n",
    "         Joining two or more arrays along a new axis, thereby increasing the dimensionality of the arrays.\n",
    "         The dimension along which stacking occurs becomes a new axis. For example, stacking two 1D arrays along a new axis creates a 2D array."
   ]
  },
  {
   "cell_type": "code",
   "execution_count": 1,
   "id": "5e4c4a9b",
   "metadata": {},
   "outputs": [
    {
     "name": "stdout",
     "output_type": "stream",
     "text": [
      "[1 2 3 4]\n",
      "[[1 2]\n",
      " [3 4]]\n"
     ]
    }
   ],
   "source": [
    "import numpy as np\n",
    "\n",
    "arr1 = np.array([1, 2])  \n",
    "arr2 = np.array([3, 4])\n",
    "\n",
    "print(np.concatenate([arr1, arr2])) # [1 2 3 4]  \n",
    "print(np.stack([arr1, arr2]))       # [[1 2]\n",
    "                                    #  [3 4]]"
   ]
  },
  {
   "cell_type": "code",
   "execution_count": 316,
   "id": "05e8bc5e",
   "metadata": {},
   "outputs": [
    {
     "name": "stdout",
     "output_type": "stream",
     "text": [
      "[[1 4]\n",
      " [2 5]\n",
      " [3 6]]\n",
      "****************************************************************************************************\n",
      "[[1 2 3]\n",
      " [4 5 6]]\n"
     ]
    }
   ],
   "source": [
    "arr1 = np.array([1, 2, 3])\n",
    "arr2 = np.array([4, 5, 6])\n",
    "\n",
    "arr = np.stack((arr1, arr2), axis=1)\n",
    "print(arr)\n",
    "\n",
    "print('*'*100)\n",
    "\n",
    "arr=np.stack((arr1,arr2),axis=0)\n",
    "print(arr)"
   ]
  },
  {
   "cell_type": "markdown",
   "id": "97e5eb1a",
   "metadata": {},
   "source": [
    "> ###### 2.1 using \"hstack function()\""
   ]
  },
  {
   "cell_type": "code",
   "execution_count": 317,
   "id": "c428bac5",
   "metadata": {},
   "outputs": [
    {
     "name": "stdout",
     "output_type": "stream",
     "text": [
      "[1 2 3 4 5 6]\n"
     ]
    }
   ],
   "source": [
    "arr1 = np.array([1, 2, 3])\n",
    "arr2 = np.array([4, 5, 6])\n",
    "\n",
    "arr = np.hstack((arr1, arr2))\n",
    "\n",
    "print(arr) "
   ]
  },
  {
   "cell_type": "markdown",
   "id": "d0f49223",
   "metadata": {},
   "source": [
    "> ###### 2.2 using \"vstack function()\""
   ]
  },
  {
   "cell_type": "code",
   "execution_count": 318,
   "id": "4cf0189a",
   "metadata": {},
   "outputs": [
    {
     "name": "stdout",
     "output_type": "stream",
     "text": [
      "[[1 2 3]\n",
      " [4 5 6]]\n"
     ]
    }
   ],
   "source": [
    "arr1 = np.array([1, 2, 3])\n",
    "arr2 = np.array([4, 5, 6])\n",
    "\n",
    "arr = np.vstack((arr1, arr2))\n",
    "\n",
    "print(arr) "
   ]
  },
  {
   "cell_type": "markdown",
   "id": "f36748b5",
   "metadata": {},
   "source": [
    "> ###### 2.3 using \"dstack function()\""
   ]
  },
  {
   "cell_type": "code",
   "execution_count": 319,
   "id": "a61ec39e",
   "metadata": {},
   "outputs": [
    {
     "name": "stdout",
     "output_type": "stream",
     "text": [
      "[[[1 4]\n",
      "  [2 5]\n",
      "  [3 6]]]\n"
     ]
    }
   ],
   "source": [
    "arr1 = np.array([1, 2, 3])\n",
    "arr2 = np.array([4, 5, 6])\n",
    "\n",
    "arr = np.dstack((arr1, arr2))\n",
    "\n",
    "print(arr) "
   ]
  },
  {
   "cell_type": "code",
   "execution_count": 320,
   "id": "3c73240e",
   "metadata": {},
   "outputs": [
    {
     "name": "stdout",
     "output_type": "stream",
     "text": [
      "[[[ 1  4]\n",
      "  [ 2  5]\n",
      "  [ 3  6]]\n",
      "\n",
      " [[11 44]\n",
      "  [22 55]\n",
      "  [33 66]]]\n"
     ]
    }
   ],
   "source": [
    "arr1 = np.array([[1, 2, 3],[11,22,33]])\n",
    "arr2 = np.array([[4, 5, 6],[44,55,66]])\n",
    "\n",
    "arr = np.dstack((arr1, arr2))\n",
    "#  It stands for \"depth-wise stack\" and is used to stack arrays in sequence along the third axis (depth). \n",
    "# This is particularly useful when you have multiple 2D arrays and you want to combine them into a single 3D array.\n",
    "\n",
    "print(arr) "
   ]
  },
  {
   "cell_type": "markdown",
   "id": "1de7383b",
   "metadata": {},
   "source": [
    "### Splitting Array\n",
    "\n",
    "    Joining merges multiple arrays into one and splitting breaks one array into multiple.\n",
    "    \n",
    "    syntax:\n",
    "    \n",
    "    np.array_split(array,no_split)\n",
    "    np.split(array,no_split)"
   ]
  },
  {
   "cell_type": "markdown",
   "id": "5578908c",
   "metadata": {},
   "source": [
    "> ###### 1. using split()"
   ]
  },
  {
   "cell_type": "code",
   "execution_count": 69,
   "id": "b713a457",
   "metadata": {},
   "outputs": [
    {
     "name": "stdout",
     "output_type": "stream",
     "text": [
      "[1 2 3 4 5 6]\n",
      "[array([1, 2]), array([3, 4]), array([5, 6])]\n",
      "****************************************************************************************************\n",
      "[1 2]\n",
      "[3 4]\n",
      "[5 6]\n"
     ]
    }
   ],
   "source": [
    "arr = np.array([1, 2, 3, 4, 5, 6])\n",
    "\n",
    "print(arr)\n",
    "\n",
    "newarr=np.split(arr,3)\n",
    "print(newarr)\n",
    "\n",
    "print('*'*100)\n",
    "\n",
    "for i in newarr:\n",
    "    print(i)"
   ]
  },
  {
   "cell_type": "code",
   "execution_count": 2,
   "id": "f9c986a3",
   "metadata": {},
   "outputs": [
    {
     "name": "stdout",
     "output_type": "stream",
     "text": [
      "[[1 2 3]\n",
      " [4 5 6]]\n",
      "[array([[1],\n",
      "       [4]]), array([[2],\n",
      "       [5]]), array([[3],\n",
      "       [6]])]\n",
      "****************************************************************************************************\n",
      "[[1]\n",
      " [4]]\n",
      "[[2]\n",
      " [5]]\n",
      "[[3]\n",
      " [6]]\n"
     ]
    }
   ],
   "source": [
    "# using axis\n",
    "\n",
    "arr = np.array([[1, 2, 3], \n",
    "                [4, 5, 6]])\n",
    "print(arr)\n",
    "\n",
    "newarr=np.split(arr,3,axis=1)\n",
    "print(newarr)\n",
    "\n",
    "print('*'*100)\n",
    "\n",
    "for i in newarr:\n",
    "    print(i)"
   ]
  },
  {
   "cell_type": "code",
   "execution_count": 4,
   "id": "76e98d8c",
   "metadata": {},
   "outputs": [
    {
     "name": "stdout",
     "output_type": "stream",
     "text": [
      "[[1 2 3]\n",
      " [4 5 6]]\n",
      "[array([[1, 2, 3]]), array([[4, 5, 6]])]\n",
      "****************************************************************************************************\n",
      "[[1 2 3]]\n",
      "[[4 5 6]]\n"
     ]
    }
   ],
   "source": [
    "# using axis\n",
    "\n",
    "arr = np.array([[1, 2, 3], [4, 5, 6]])\n",
    "print(arr)\n",
    "\n",
    "newarr=np.split(arr,2,axis=0)\n",
    "print(newarr)\n",
    "\n",
    "print('*'*100)\n",
    "\n",
    "for i in newarr:\n",
    "    print(i)"
   ]
  },
  {
   "cell_type": "code",
   "execution_count": 337,
   "id": "d7e0d54b",
   "metadata": {},
   "outputs": [
    {
     "name": "stdout",
     "output_type": "stream",
     "text": [
      "[1 2 3 4 5 6]\n",
      "[array([1, 2]), array([3, 4]), array([5, 6])]\n",
      "[1 2]\n",
      "[3 4]\n",
      "[5 6]\n"
     ]
    }
   ],
   "source": [
    "arr = np.array([1, 2, 3, 4, 5, 6])\n",
    "\n",
    "print(arr)\n",
    "newarr = np.split(arr, 3)\n",
    "#newarr = np.split(arr, 4) # This will raise an Value Error\n",
    "print(newarr)\n",
    "\n",
    "for i in newarr:\n",
    "    print(i)"
   ]
  },
  {
   "cell_type": "markdown",
   "id": "3f827bb8",
   "metadata": {},
   "source": [
    "> ###### 2. array_split()\n",
    "\n",
    "    If no of elements are less than it adjust in last array \n",
    "    \n",
    "    It does raise error this will adjust the element in array"
   ]
  },
  {
   "cell_type": "code",
   "execution_count": 339,
   "id": "6285ac24",
   "metadata": {},
   "outputs": [
    {
     "name": "stdout",
     "output_type": "stream",
     "text": [
      "[array([1, 2, 3]), array([4, 5, 6])]\n"
     ]
    }
   ],
   "source": [
    "arr = np.array([1, 2, 3, 4, 5, 6])\n",
    "\n",
    "newarr = np.array_split(arr, 2)\n",
    "print(newarr)"
   ]
  },
  {
   "cell_type": "code",
   "execution_count": 342,
   "id": "bbf9069c",
   "metadata": {},
   "outputs": [
    {
     "name": "stdout",
     "output_type": "stream",
     "text": [
      "[array([1, 2]), array([3, 4]), array([5, 6])]\n"
     ]
    }
   ],
   "source": [
    "newarr = np.array_split(arr,3)\n",
    "print(newarr)"
   ]
  },
  {
   "cell_type": "code",
   "execution_count": 343,
   "id": "fb30813a",
   "metadata": {},
   "outputs": [
    {
     "name": "stdout",
     "output_type": "stream",
     "text": [
      "[array([1, 2]), array([3, 4]), array([5]), array([6])]\n"
     ]
    }
   ],
   "source": [
    "newarr = np.array_split(arr,4)\n",
    "print(newarr)"
   ]
  },
  {
   "cell_type": "code",
   "execution_count": 346,
   "id": "c95a1815",
   "metadata": {},
   "outputs": [
    {
     "name": "stdout",
     "output_type": "stream",
     "text": [
      "[array([1, 2]), array([3]), array([4]), array([5]), array([6])]\n",
      "****************************************************************************************************\n",
      "[3]\n"
     ]
    }
   ],
   "source": [
    "newarr = np.array_split(arr,5)\n",
    "print(newarr)\n",
    "\n",
    "print('*'*100)\n",
    "\n",
    "print(newarr[1])"
   ]
  },
  {
   "cell_type": "code",
   "execution_count": 349,
   "id": "8492010e",
   "metadata": {},
   "outputs": [
    {
     "name": "stdout",
     "output_type": "stream",
     "text": [
      "[array([[1, 2],\n",
      "       [3, 4]]), array([[5, 6],\n",
      "       [7, 8]]), array([[ 9, 10],\n",
      "       [11, 12]])]\n"
     ]
    }
   ],
   "source": [
    "# splitting on 2-D array\n",
    "\n",
    "arr=np.array([[1,2],[3,4],[5,6],[7,8],[9,10],[11,12]])\n",
    "newarr=np.array_split(arr,3)\n",
    "print(newarr)"
   ]
  },
  {
   "cell_type": "code",
   "execution_count": 76,
   "id": "0412f957",
   "metadata": {},
   "outputs": [
    {
     "name": "stdout",
     "output_type": "stream",
     "text": [
      "[array([[ 1],\n",
      "       [ 3],\n",
      "       [ 5],\n",
      "       [ 7],\n",
      "       [ 9],\n",
      "       [11]]), array([[ 2],\n",
      "       [ 4],\n",
      "       [ 6],\n",
      "       [ 8],\n",
      "       [10],\n",
      "       [12]])]\n"
     ]
    }
   ],
   "source": [
    "arr=np.array([[1,2],\n",
    "              [3,4],\n",
    "              [5,6],\n",
    "              [7,8],\n",
    "              [9,10],\n",
    "              [11,12]])\n",
    "newarr=np.array_split(arr,2,axis=1)\n",
    "print(newarr)"
   ]
  },
  {
   "cell_type": "code",
   "execution_count": 363,
   "id": "2a68871a",
   "metadata": {},
   "outputs": [
    {
     "name": "stdout",
     "output_type": "stream",
     "text": [
      "[[1 2]\n",
      " [3 4]] \n",
      "\n",
      "[[5 6]\n",
      " [7 8]] \n",
      "\n",
      "[[ 9 10]] \n",
      "\n",
      "[[11 12]] \n",
      "\n"
     ]
    }
   ],
   "source": [
    "arr=np.array([[1,2],[3,4],[5,6],[7,8],[9,10],[11,12]])\n",
    "newarr=np.array_split(arr,4,axis=0)\n",
    "\n",
    "for i in newarr:\n",
    "    print(i,'\\n')"
   ]
  },
  {
   "cell_type": "code",
   "execution_count": 364,
   "id": "401233f1",
   "metadata": {},
   "outputs": [
    {
     "name": "stdout",
     "output_type": "stream",
     "text": [
      "[[ 1]\n",
      " [ 3]\n",
      " [ 5]\n",
      " [ 7]\n",
      " [ 9]\n",
      " [11]] \n",
      "\n",
      "[[ 2]\n",
      " [ 4]\n",
      " [ 6]\n",
      " [ 8]\n",
      " [10]\n",
      " [12]] \n",
      "\n"
     ]
    }
   ],
   "source": [
    "arr=np.array([[1,2],[3,4],[5,6],[7,8],[9,10],[11,12]])\n",
    "newarr=np.array_split(arr,2,axis=1)\n",
    "\n",
    "for i in newarr:\n",
    "    print(i,'\\n')"
   ]
  },
  {
   "cell_type": "code",
   "execution_count": 369,
   "id": "6e704eb9",
   "metadata": {},
   "outputs": [
    {
     "name": "stdout",
     "output_type": "stream",
     "text": [
      "[array([[ 1],\n",
      "       [ 4],\n",
      "       [ 7],\n",
      "       [10],\n",
      "       [13],\n",
      "       [16]]), array([[ 2],\n",
      "       [ 5],\n",
      "       [ 8],\n",
      "       [11],\n",
      "       [14],\n",
      "       [17]]), array([[ 3],\n",
      "       [ 6],\n",
      "       [ 9],\n",
      "       [12],\n",
      "       [15],\n",
      "       [18]])]\n",
      "****************************************************************************************************\n",
      "[[ 1  2  3]\n",
      " [ 4  5  6]\n",
      " [ 7  8  9]\n",
      " [10 11 12]\n",
      " [13 14 15]\n",
      " [16 17 18]] \n",
      "\n",
      "[array([[1, 2, 3],\n",
      "       [4, 5, 6]]), array([[ 7,  8,  9],\n",
      "       [10, 11, 12]]), array([[13, 14, 15],\n",
      "       [16, 17, 18]])]\n"
     ]
    }
   ],
   "source": [
    "# Array splitting on axis\n",
    "arr = np.array([[1, 2, 3], \n",
    "                [4, 5, 6], \n",
    "                [7, 8, 9], \n",
    "                [10, 11, 12], \n",
    "                [13, 14, 15], \n",
    "                [16, 17, 18]])\n",
    "\n",
    "# print(arr)\n",
    "\n",
    "newarr = np.array_split(arr, 3, axis=1)\n",
    "\n",
    "print(newarr) \n",
    "\n",
    "print('*'*100)\n",
    "print(arr,'\\n')\n",
    "newarr = np.array_split(arr, 3, axis=0)\n",
    "\n",
    "print(newarr)"
   ]
  },
  {
   "cell_type": "markdown",
   "id": "c60c5d0b",
   "metadata": {},
   "source": [
    "> ###### 3. using hsplit() opposite of hstack()"
   ]
  },
  {
   "cell_type": "code",
   "execution_count": 382,
   "id": "2e23008a",
   "metadata": {},
   "outputs": [
    {
     "name": "stdout",
     "output_type": "stream",
     "text": [
      "[[ 1  2  3]\n",
      " [ 4  5  6]\n",
      " [ 7  8  9]\n",
      " [10 11 12]\n",
      " [13 14 15]\n",
      " [16 17 18]] \n",
      "\n",
      "hstack() method:\n",
      "\n",
      "[ 1  2  3  4  5  6  7  8  9 10 11 12 13 14 15 16 17 18] \n",
      "\n",
      "hsplit() method:\n",
      "\n",
      "[array([[ 1],\n",
      "       [ 4],\n",
      "       [ 7],\n",
      "       [10],\n",
      "       [13],\n",
      "       [16]]), array([[ 2],\n",
      "       [ 5],\n",
      "       [ 8],\n",
      "       [11],\n",
      "       [14],\n",
      "       [17]]), array([[ 3],\n",
      "       [ 6],\n",
      "       [ 9],\n",
      "       [12],\n",
      "       [15],\n",
      "       [18]])]\n"
     ]
    }
   ],
   "source": [
    "arr = np.array([[1, 2, 3],\n",
    "                [4, 5, 6],\n",
    "                [7, 8, 9],\n",
    "                [10, 11, 12],\n",
    "                [13, 14, 15],\n",
    "                [16, 17, 18]])\n",
    "\n",
    "print(arr,'\\n')\n",
    "print('hstack() method:\\n')\n",
    "newarr = np.hstack(arr)\n",
    "print(newarr,'\\n')\n",
    "newarr = np.hsplit(arr, 3)\n",
    "# print(arr.shape)\n",
    "print('hsplit() method:\\n')\n",
    "print(newarr)"
   ]
  },
  {
   "cell_type": "markdown",
   "id": "70a9f2e7",
   "metadata": {},
   "source": [
    "### Searching Arrays"
   ]
  },
  {
   "cell_type": "markdown",
   "id": "1c958f53",
   "metadata": {},
   "source": [
    "    The \"where\" method is used for searching the array"
   ]
  },
  {
   "cell_type": "markdown",
   "id": "4414e917",
   "metadata": {},
   "source": [
    "###### 1. where()"
   ]
  },
  {
   "cell_type": "code",
   "execution_count": 77,
   "id": "657ac6ff",
   "metadata": {},
   "outputs": [
    {
     "name": "stdout",
     "output_type": "stream",
     "text": [
      "[1 2 3 4 5 4 4]\n",
      "Location of index: (array([3, 5, 6], dtype=int64),)\n"
     ]
    }
   ],
   "source": [
    "# finding element in 1-D array\n",
    "import numpy as np\n",
    "arr=np.array([1,2,3,4,5,4,4])\n",
    "x=np.where(arr==4) # element\n",
    "\n",
    "print(arr)\n",
    "print('Location of index:',x)"
   ]
  },
  {
   "cell_type": "code",
   "execution_count": 8,
   "id": "c7d333ba",
   "metadata": {},
   "outputs": [
    {
     "name": "stdout",
     "output_type": "stream",
     "text": [
      "[[1 2 3]\n",
      " [4 5 6]]\n",
      "\n",
      "Addition: [[2 3 4]\n",
      " [5 6 7]]\n",
      "\n",
      "Subtraction: [[0 1 2]\n",
      " [3 4 5]]\n",
      "\n",
      "Multiplication: [[ 2  4  6]\n",
      " [ 8 10 12]]\n",
      "\n",
      "Division: [[0.5 1.  1.5]\n",
      " [2.  2.5 3. ]]\n"
     ]
    }
   ],
   "source": [
    "# Arithmatic operation on numpy array\n",
    "\n",
    "arr=np.array([[1,2,3],[4,5,6]])\n",
    "print(arr)\n",
    "\n",
    "print('\\nAddition:',arr+1) # one element added in every element of array\n",
    "print('\\nSubtraction:',arr-1)\n",
    "print('\\nMultiplication:',arr*2)\n",
    "print('\\nDivision:',arr/2)"
   ]
  },
  {
   "cell_type": "code",
   "execution_count": 5,
   "id": "d3186c9c",
   "metadata": {},
   "outputs": [
    {
     "name": "stdout",
     "output_type": "stream",
     "text": [
      "[1 2 3 4 5 6 7 8]\n",
      "Even number in array: (array([1, 3, 5, 7], dtype=int64),)\n"
     ]
    }
   ],
   "source": [
    "# find the location of even number in my numpy array\n",
    "\n",
    "arr=np.array([1,2,3,4,5,6,7,8])\n",
    "\n",
    "x=np.where(arr%2==0)\n",
    "\n",
    "print(arr)\n",
    "print('Even number in array:',x)"
   ]
  },
  {
   "cell_type": "code",
   "execution_count": 9,
   "id": "03de53ca",
   "metadata": {},
   "outputs": [
    {
     "name": "stdout",
     "output_type": "stream",
     "text": [
      "Odd number location: (array([ 0,  2,  4,  6,  8, 10], dtype=int64),)\n"
     ]
    }
   ],
   "source": [
    "# find the location of odd number in numpy array\n",
    "\n",
    "arr=np.array([1,2,3,4,5,6,7,8,9,10,11])\n",
    "loc=np.where(arr%2==1)\n",
    "\n",
    "print('Odd number location:',loc)"
   ]
  },
  {
   "cell_type": "markdown",
   "id": "f35d53cc",
   "metadata": {},
   "source": [
    "###### 2. searchsorted()\n",
    "\n",
    "    perform a binary search in the array and returns the index where the specified value would be inserted to maintain the search order\n",
    "    \n",
    "    this method does not insert elements, it just return a location for element in the numpy array"
   ]
  },
  {
   "cell_type": "code",
   "execution_count": 20,
   "id": "e5e4b5ef",
   "metadata": {},
   "outputs": [
    {
     "name": "stdout",
     "output_type": "stream",
     "text": [
      "[5 7 8 9]\n",
      "location where element to be inserted 1\n"
     ]
    }
   ],
   "source": [
    "arr=np.array([5,7,8,9])\n",
    "\n",
    "loc=np.searchsorted(arr, 7, side='left') # >>\n",
    "\n",
    "print(arr)\n",
    "print('location where element to be inserted',loc)"
   ]
  },
  {
   "cell_type": "code",
   "execution_count": 21,
   "id": "26900ae3",
   "metadata": {},
   "outputs": [
    {
     "name": "stdout",
     "output_type": "stream",
     "text": [
      "[5 7 8 9]\n",
      "location where element to be inserted 2\n"
     ]
    }
   ],
   "source": [
    "arr=np.array([5,7,8,9])\n",
    "\n",
    "loc=np.searchsorted(arr, 7, side='right') # <<\n",
    "\n",
    "print(arr)\n",
    "print('location where element to be inserted',loc)"
   ]
  },
  {
   "cell_type": "code",
   "execution_count": 2,
   "id": "068c0d78",
   "metadata": {},
   "outputs": [
    {
     "name": "stdout",
     "output_type": "stream",
     "text": [
      "[5 7 8 9]\n",
      "location where element to be inserted 3\n"
     ]
    }
   ],
   "source": [
    "import numpy as np\n",
    "arr=np.array([5,7,8,9])\n",
    "\n",
    "loc=np.searchsorted(arr, 8.5, side='right') # <<\n",
    "\n",
    "print(arr)\n",
    "print('location where element to be inserted',loc)"
   ]
  },
  {
   "cell_type": "code",
   "execution_count": 3,
   "id": "9972e5d5",
   "metadata": {},
   "outputs": [
    {
     "name": "stdout",
     "output_type": "stream",
     "text": [
      "[5 7 8 9]\n",
      "location where element to be inserted 3\n"
     ]
    }
   ],
   "source": [
    "import numpy as np\n",
    "arr=np.array([5,7,8,9])\n",
    "\n",
    "loc=np.searchsorted(arr, 8.5, side='left') # >>\n",
    "\n",
    "print(arr)\n",
    "print('location where element to be inserted',loc)"
   ]
  },
  {
   "cell_type": "code",
   "execution_count": 25,
   "id": "be19c2b6",
   "metadata": {},
   "outputs": [
    {
     "name": "stdout",
     "output_type": "stream",
     "text": [
      "location where element to be inserted [1 2 3]\n"
     ]
    }
   ],
   "source": [
    "# multiple values\n",
    "\n",
    "arr=np.array([1,3,5,7])\n",
    "x=np.searchsorted(arr,[2,4,6])\n",
    "print('location where element to be inserted',x)"
   ]
  },
  {
   "cell_type": "markdown",
   "id": "7808cd86",
   "metadata": {},
   "source": [
    "### Sorting Arrays\n",
    "\n",
    "    Sorting means putting elements in an ordered sequence. like numeric or alphabetical, ascending or descending.\n",
    "\n",
    "    sort(), that will sort a specified array."
   ]
  },
  {
   "cell_type": "code",
   "execution_count": 26,
   "id": "ae0401ca",
   "metadata": {},
   "outputs": [
    {
     "name": "stdout",
     "output_type": "stream",
     "text": [
      "Input Array [3 2 0 1]\n",
      "Sorted Array [0 1 2 3]\n"
     ]
    }
   ],
   "source": [
    "# sort() on numerical arrays\n",
    "\n",
    "arr=np.array([3,2,0,1])\n",
    "res=np.sort(arr)\n",
    "print('Input Array',arr)\n",
    "print('Sorted Array',res)"
   ]
  },
  {
   "cell_type": "code",
   "execution_count": 28,
   "id": "d34fc32d",
   "metadata": {},
   "outputs": [
    {
     "name": "stdout",
     "output_type": "stream",
     "text": [
      "Input Array ['banana' 'cherry' 'apple']\n",
      "Sorted Array ['apple' 'banana' 'cherry']\n"
     ]
    }
   ],
   "source": [
    "# sort() on string array\n",
    "arr = np.array(['banana', 'cherry', 'apple'])\n",
    "\n",
    "res = np.sort(arr)\n",
    "\n",
    "print('Input Array',arr)\n",
    "\n",
    "print('Sorted Array',res)"
   ]
  },
  {
   "cell_type": "code",
   "execution_count": 29,
   "id": "bc81dcd0",
   "metadata": {},
   "outputs": [
    {
     "name": "stdout",
     "output_type": "stream",
     "text": [
      "Input Array [ True False  True]\n",
      "Sorted Array [False  True  True]\n"
     ]
    }
   ],
   "source": [
    "# sort() boolean values\n",
    "arr = np.array([True, False, True])\n",
    "\n",
    "res = np.sort(arr)\n",
    "\n",
    "print('Input Array',arr)\n",
    "\n",
    "print('Sorted Array',res)"
   ]
  },
  {
   "cell_type": "code",
   "execution_count": 34,
   "id": "3e231e20",
   "metadata": {},
   "outputs": [
    {
     "name": "stdout",
     "output_type": "stream",
     "text": [
      "Input Array:\n",
      " [[3 2 4]\n",
      " [5 0 1]]\n",
      "Sorted Array:\n",
      " [[2 3 4]\n",
      " [0 1 5]]\n"
     ]
    }
   ],
   "source": [
    "# sort() on 2D array\n",
    "\n",
    "arr = np.array([[3, 2, 4], [5, 0, 1]])\n",
    "res = np.sort(arr)\n",
    "\n",
    "print('Input Array:\\n',arr)\n",
    "print('Sorted Array:\\n',res)"
   ]
  },
  {
   "cell_type": "code",
   "execution_count": 5,
   "id": "9d7abeb3",
   "metadata": {},
   "outputs": [
    {
     "name": "stdout",
     "output_type": "stream",
     "text": [
      "[[3 2 4]\n",
      " [5 0 1]]\n",
      "Sorting on 0 axis:\n",
      " [[3 0 1]\n",
      " [5 2 4]]\n",
      "Sorting on 1 axis:\n",
      " [[2 3 4]\n",
      " [0 1 5]]\n"
     ]
    }
   ],
   "source": [
    "# work on axis=0\n",
    "\n",
    "arr = np.array([[3, 2, 4], [5, 0, 1]])\n",
    "print(arr)\n",
    "\n",
    "# axis (axis=0), \n",
    "# which will result in a sorted 2D array where each column is sorted in ascending order.\n",
    "res = np.sort(arr, axis=0)\n",
    "print(\"Sorting on 0 axis:\\n\",res)\n",
    "\n",
    "# axis (axis=1), \n",
    "# which will result in a sorted 2D array where each row is sorted in ascending order.\n",
    "res = np.sort(arr, axis=1)\n",
    "print(\"Sorting on 1 axis:\\n\",res)"
   ]
  },
  {
   "cell_type": "code",
   "execution_count": 37,
   "id": "ea592e60",
   "metadata": {},
   "outputs": [
    {
     "name": "stdout",
     "output_type": "stream",
     "text": [
      "\n",
      " [[2 3 4]\n",
      " [1 5 6]\n",
      " [7 8 9]]\n",
      "\n",
      " [[1 2 4]\n",
      " [3 5 6]\n",
      " [9 7 8]]\n"
     ]
    }
   ],
   "source": [
    "import numpy as np\n",
    "\n",
    "# Create a 2D array\n",
    "a = np.array([[3, 2, 4],\n",
    "              [1, 5, 6],\n",
    "              [9, 7, 8]])\n",
    "\n",
    "# Sort the rows of the array along axis 1\n",
    "sorted_array = np.sort(a, axis=1)\n",
    "print('\\n',sorted_array)\n",
    "# Sort the columns of the array along axis 0\n",
    "sorted_array = np.sort(a, axis=0)\n",
    "print('\\n',sorted_array)"
   ]
  },
  {
   "cell_type": "markdown",
   "id": "f19e55cc",
   "metadata": {},
   "source": [
    "### Filter Array\n",
    "\n",
    "1. Getting some elements out of an existing array and creating a new array out of them is called filtering.\n",
    "    \n",
    "2. NumPy filter an array using a boolean index list.\n",
    "    \n",
    "3. A boolean index list is a list of booleans corresponding to indexes in the array."
   ]
  },
  {
   "cell_type": "code",
   "execution_count": 41,
   "id": "b8db75e9",
   "metadata": {},
   "outputs": [
    {
     "name": "stdout",
     "output_type": "stream",
     "text": [
      "[1 3 5]\n"
     ]
    }
   ],
   "source": [
    "arr=np.array([1,2,3,4,5])\n",
    "x=[True, False, True, False, True]\n",
    "\n",
    "newarr=arr[x]\n",
    "print(newarr)"
   ]
  },
  {
   "cell_type": "code",
   "execution_count": 46,
   "id": "aa86c03a",
   "metadata": {},
   "outputs": [
    {
     "name": "stdout",
     "output_type": "stream",
     "text": [
      "[ 1  2  3  4  5  6  7  8  9 10]\n",
      "[False, False, False, False, True, True, True, True, True, True]\n",
      "[ 5  6  7  8  9 10]\n"
     ]
    }
   ],
   "source": [
    "arr=np.array([1,2,3,4,5,6,7,8,9,10])\n",
    "print(arr)\n",
    "# create an empty list\n",
    "index=[]\n",
    "\n",
    "# go through each element in arr\n",
    "for element in arr:\n",
    "    # if the element is higher than 4, set the value to True, otherwise false\n",
    "    if element > 4:\n",
    "        index.append(True)\n",
    "    else:\n",
    "        index.append(False)\n",
    "        \n",
    "print(index)\n",
    "newarr=arr[index]\n",
    "print(newarr)\n",
    "    "
   ]
  },
  {
   "cell_type": "code",
   "execution_count": 47,
   "id": "442ccd83",
   "metadata": {},
   "outputs": [
    {
     "name": "stdout",
     "output_type": "stream",
     "text": [
      "[ 1  2  3  4  5  6  7  8  9 10]\n",
      "[False, True, False, True, False, True, False, True, False, True]\n",
      "[ 2  4  6  8 10]\n"
     ]
    }
   ],
   "source": [
    "# print a list of even number from original list using array filter\n",
    "\n",
    "print(arr)\n",
    "\n",
    "index = []\n",
    "\n",
    "# i % 2 == 0\n",
    "\n",
    "for i in arr:\n",
    "    if i % 2 == 0:\n",
    "        index.append(True)\n",
    "    else:\n",
    "        index.append(False)\n",
    "\n",
    "print(index)\n",
    "\n",
    "newarr = arr[index]\n",
    "\n",
    "print(newarr)"
   ]
  },
  {
   "cell_type": "code",
   "execution_count": 50,
   "id": "1b0aa952",
   "metadata": {},
   "outputs": [
    {
     "name": "stdout",
     "output_type": "stream",
     "text": [
      "[False  True False  True  True  True False False  True False False False\n",
      " False]\n",
      "[ 223  677 8787  655  333]\n"
     ]
    }
   ],
   "source": [
    "arr = np.array([11,223,45,677,8787,655,44,33,333,2,3,3,10])\n",
    "\n",
    "filter_arr = arr > 100\n",
    "\n",
    "newarr = arr[filter_arr]\n",
    "\n",
    "print(filter_arr)\n",
    "print(newarr) "
   ]
  },
  {
   "cell_type": "code",
   "execution_count": 51,
   "id": "1ec96316",
   "metadata": {},
   "outputs": [
    {
     "name": "stdout",
     "output_type": "stream",
     "text": [
      "[False  True False  True False  True False]\n",
      "[2 4 6]\n"
     ]
    }
   ],
   "source": [
    "arr = np.array([1, 2, 3, 4, 5, 6, 7])\n",
    "\n",
    "filter_arr = arr % 2 == 0\n",
    "\n",
    "newarr = arr[filter_arr]\n",
    "\n",
    "print(filter_arr)\n",
    "print(newarr) "
   ]
  },
  {
   "cell_type": "markdown",
   "id": "ad5f33e5",
   "metadata": {},
   "source": [
    "### Other NumPy Functions"
   ]
  },
  {
   "cell_type": "markdown",
   "id": "c0fd99c4",
   "metadata": {},
   "source": [
    "###### 1. arange()"
   ]
  },
  {
   "cell_type": "code",
   "execution_count": 53,
   "id": "e460becc",
   "metadata": {},
   "outputs": [
    {
     "name": "stdout",
     "output_type": "stream",
     "text": [
      "[0 1 2 3 4 5 6 7 8 9]\n"
     ]
    }
   ],
   "source": [
    "arr=np.arange(10)\n",
    "print(arr)"
   ]
  },
  {
   "cell_type": "code",
   "execution_count": 54,
   "id": "8b9c7582",
   "metadata": {},
   "outputs": [
    {
     "name": "stdout",
     "output_type": "stream",
     "text": [
      "[ 5  6  7  8  9 10 11 12 13 14 15 16 17 18 19 20 21 22 23 24]\n"
     ]
    }
   ],
   "source": [
    "arr=np.arange(5,25)\n",
    "print(arr)"
   ]
  },
  {
   "cell_type": "code",
   "execution_count": 81,
   "id": "bd237745",
   "metadata": {},
   "outputs": [
    {
     "name": "stdout",
     "output_type": "stream",
     "text": [
      "[ 5 10 15 20 25 30 35 40 45 50]\n"
     ]
    }
   ],
   "source": [
    "arr=np.arange(5,51,5)\n",
    "print(arr)"
   ]
  },
  {
   "cell_type": "markdown",
   "id": "37b2a3af",
   "metadata": {},
   "source": [
    "###### 2. reshape()\n",
    "\n",
    "        np.reshape(input,(shape))\n",
    "        array.reshape(shape)"
   ]
  },
  {
   "cell_type": "code",
   "execution_count": 64,
   "id": "cded14bf",
   "metadata": {},
   "outputs": [
    {
     "name": "stdout",
     "output_type": "stream",
     "text": [
      "[ 0  1  2  3  4  5  6  7  8  9 10 11 12 13 14 15 16 17 18 19 20 21 22 23\n",
      " 24]\n",
      "\n",
      " [[ 0  1  2  3  4]\n",
      " [ 5  6  7  8  9]\n",
      " [10 11 12 13 14]\n",
      " [15 16 17 18 19]\n",
      " [20 21 22 23 24]]\n"
     ]
    }
   ],
   "source": [
    "# 1D to 2D conversion\n",
    "arr=np.arange(0,25)\n",
    "print(arr)\n",
    "# one way\n",
    "arr_2d=np.reshape(arr,(5,5)) # or arr.reshape(5,5)\n",
    "print('\\n',arr_2d)"
   ]
  },
  {
   "cell_type": "code",
   "execution_count": 10,
   "id": "40d57b60",
   "metadata": {},
   "outputs": [
    {
     "name": "stdout",
     "output_type": "stream",
     "text": [
      "[ 0  1  2  3  4  5  6  7  8  9 10 11 12 13 14 15 16 17 18 19 20 21 22 23\n",
      " 24]\n",
      "\n",
      " [[[ 0  1  2  3  4]\n",
      "  [ 5  6  7  8  9]\n",
      "  [10 11 12 13 14]\n",
      "  [15 16 17 18 19]\n",
      "  [20 21 22 23 24]]]\n"
     ]
    }
   ],
   "source": [
    "arr=np.arange(0,25)\n",
    "print(arr)\n",
    "\n",
    "# another way\n",
    "arr_2d=arr.reshape(1,5,5)\n",
    "print('\\n',arr_2d)"
   ]
  },
  {
   "cell_type": "markdown",
   "id": "3c0d074c",
   "metadata": {},
   "source": [
    "###### 3. min()"
   ]
  },
  {
   "cell_type": "code",
   "execution_count": 67,
   "id": "084efda2",
   "metadata": {},
   "outputs": [
    {
     "data": {
      "text/plain": [
       "0"
      ]
     },
     "execution_count": 67,
     "metadata": {},
     "output_type": "execute_result"
    }
   ],
   "source": [
    "arr_2d.min()"
   ]
  },
  {
   "cell_type": "markdown",
   "id": "1c25344f",
   "metadata": {},
   "source": [
    "###### 4. max()\n",
    "\n",
    "the numpy.max() function is used to find the maximum value in the arr array"
   ]
  },
  {
   "cell_type": "code",
   "execution_count": 68,
   "id": "eb6a3b29",
   "metadata": {},
   "outputs": [
    {
     "data": {
      "text/plain": [
       "24"
      ]
     },
     "execution_count": 68,
     "metadata": {},
     "output_type": "execute_result"
    }
   ],
   "source": [
    "arr_2d.max()"
   ]
  },
  {
   "cell_type": "markdown",
   "id": "9082911d",
   "metadata": {},
   "source": [
    "###### 5. argmax()\n",
    "\n",
    "The numpy.argmax() function is then used to find the index of the maximum value,"
   ]
  },
  {
   "cell_type": "code",
   "execution_count": 69,
   "id": "1359dc7e",
   "metadata": {},
   "outputs": [
    {
     "data": {
      "text/plain": [
       "24"
      ]
     },
     "execution_count": 69,
     "metadata": {},
     "output_type": "execute_result"
    }
   ],
   "source": [
    "arr_2d.argmax()"
   ]
  },
  {
   "cell_type": "markdown",
   "id": "580261fa",
   "metadata": {},
   "source": [
    "###### 6. argsort()"
   ]
  },
  {
   "cell_type": "code",
   "execution_count": 70,
   "id": "b5a1b2b2",
   "metadata": {},
   "outputs": [
    {
     "data": {
      "text/plain": [
       "array([[[0, 1, 2, 3, 4],\n",
       "        [0, 1, 2, 3, 4],\n",
       "        [0, 1, 2, 3, 4],\n",
       "        [0, 1, 2, 3, 4],\n",
       "        [0, 1, 2, 3, 4]]], dtype=int64)"
      ]
     },
     "execution_count": 70,
     "metadata": {},
     "output_type": "execute_result"
    }
   ],
   "source": [
    "arr_2d.argsort() # return indices of array"
   ]
  },
  {
   "cell_type": "markdown",
   "id": "dbd0082c",
   "metadata": {},
   "source": [
    "###### 7. diagonal()"
   ]
  },
  {
   "cell_type": "code",
   "execution_count": 71,
   "id": "8df8ebfe",
   "metadata": {},
   "outputs": [
    {
     "data": {
      "text/plain": [
       "array([[0],\n",
       "       [1],\n",
       "       [2],\n",
       "       [3],\n",
       "       [4]])"
      ]
     },
     "execution_count": 71,
     "metadata": {},
     "output_type": "execute_result"
    }
   ],
   "source": [
    "arr_2d.diagonal() # tirke elements"
   ]
  },
  {
   "cell_type": "markdown",
   "id": "a1e0dd26",
   "metadata": {},
   "source": [
    "###### 8. sum()"
   ]
  },
  {
   "cell_type": "code",
   "execution_count": 72,
   "id": "c4fe0174",
   "metadata": {},
   "outputs": [
    {
     "data": {
      "text/plain": [
       "300"
      ]
     },
     "execution_count": 72,
     "metadata": {},
     "output_type": "execute_result"
    }
   ],
   "source": [
    "arr_2d.sum()"
   ]
  },
  {
   "cell_type": "markdown",
   "id": "d04c1fb6",
   "metadata": {},
   "source": [
    "###### 9.mean()"
   ]
  },
  {
   "cell_type": "code",
   "execution_count": 73,
   "id": "8737400d",
   "metadata": {},
   "outputs": [
    {
     "data": {
      "text/plain": [
       "12.0"
      ]
     },
     "execution_count": 73,
     "metadata": {},
     "output_type": "execute_result"
    }
   ],
   "source": [
    "arr_2d.mean()"
   ]
  },
  {
   "cell_type": "markdown",
   "id": "02cb9b08",
   "metadata": {},
   "source": [
    "###### 10. nonzero()"
   ]
  },
  {
   "cell_type": "code",
   "execution_count": 74,
   "id": "295c944f",
   "metadata": {},
   "outputs": [
    {
     "data": {
      "text/plain": [
       "(array([0, 0, 0, 0, 0, 0, 0, 0, 0, 0, 0, 0, 0, 0, 0, 0, 0, 0, 0, 0, 0, 0,\n",
       "        0, 0], dtype=int64),\n",
       " array([0, 0, 0, 0, 1, 1, 1, 1, 1, 2, 2, 2, 2, 2, 3, 3, 3, 3, 3, 4, 4, 4,\n",
       "        4, 4], dtype=int64),\n",
       " array([1, 2, 3, 4, 0, 1, 2, 3, 4, 0, 1, 2, 3, 4, 0, 1, 2, 3, 4, 0, 1, 2,\n",
       "        3, 4], dtype=int64))"
      ]
     },
     "execution_count": 74,
     "metadata": {},
     "output_type": "execute_result"
    }
   ],
   "source": [
    "arr_2d.nonzero() # retrun index of non zero element"
   ]
  },
  {
   "cell_type": "markdown",
   "id": "01856b7f",
   "metadata": {},
   "source": [
    "###### 11. linspace()"
   ]
  },
  {
   "cell_type": "code",
   "execution_count": 6,
   "id": "32033db0",
   "metadata": {},
   "outputs": [
    {
     "name": "stdout",
     "output_type": "stream",
     "text": [
      "[ 0.          1.11111111  2.22222222  3.33333333  4.44444444  5.55555556\n",
      "  6.66666667  7.77777778  8.88888889 10.        ]\n"
     ]
    }
   ],
   "source": [
    "arr=np.linspace(0,10,10)\n",
    "print(arr)"
   ]
  },
  {
   "cell_type": "code",
   "execution_count": 7,
   "id": "e34a7468",
   "metadata": {},
   "outputs": [
    {
     "name": "stdout",
     "output_type": "stream",
     "text": [
      "[ 0 10 20]\n"
     ]
    }
   ],
   "source": [
    "arr=np.arange(0,25,10)\n",
    "print(arr)"
   ]
  },
  {
   "cell_type": "markdown",
   "id": "5cf2642e",
   "metadata": {},
   "source": [
    "###### 12. ravel()"
   ]
  },
  {
   "cell_type": "code",
   "execution_count": 11,
   "id": "afa23ec8",
   "metadata": {},
   "outputs": [
    {
     "name": "stdout",
     "output_type": "stream",
     "text": [
      "[[[ 0  1  2  3  4]\n",
      "  [ 5  6  7  8  9]\n",
      "  [10 11 12 13 14]\n",
      "  [15 16 17 18 19]\n",
      "  [20 21 22 23 24]]]\n"
     ]
    },
    {
     "data": {
      "text/plain": [
       "array([ 0,  1,  2,  3,  4,  5,  6,  7,  8,  9, 10, 11, 12, 13, 14, 15, 16,\n",
       "       17, 18, 19, 20, 21, 22, 23, 24])"
      ]
     },
     "execution_count": 11,
     "metadata": {},
     "output_type": "execute_result"
    }
   ],
   "source": [
    "# flatten array\n",
    "# used to multidimentional array to 1d array\n",
    "print(arr_2d)\n",
    "arr_2d.ravel()"
   ]
  },
  {
   "cell_type": "code",
   "execution_count": 13,
   "id": "33c0a76a",
   "metadata": {},
   "outputs": [],
   "source": [
    "# or"
   ]
  },
  {
   "cell_type": "code",
   "execution_count": 12,
   "id": "e21c51dc",
   "metadata": {},
   "outputs": [
    {
     "data": {
      "text/plain": [
       "array([ 0,  1,  2,  3,  4,  5,  6,  7,  8,  9, 10, 11, 12, 13, 14, 15, 16,\n",
       "       17, 18, 19, 20, 21, 22, 23, 24])"
      ]
     },
     "execution_count": 12,
     "metadata": {},
     "output_type": "execute_result"
    }
   ],
   "source": [
    "arr_2d.reshape(-1)"
   ]
  },
  {
   "cell_type": "markdown",
   "id": "36a9d752",
   "metadata": {},
   "source": [
    "###### 13. random()\n",
    "\n",
    "        random.rand\n",
    "        random.randn\n",
    "        random.randint\n",
    "        random.random"
   ]
  },
  {
   "cell_type": "code",
   "execution_count": 82,
   "id": "f26b637e",
   "metadata": {},
   "outputs": [
    {
     "name": "stdout",
     "output_type": "stream",
     "text": [
      "[[0.51087736 0.64675652 0.47679274]\n",
      " [0.53271422 0.67300866 0.60020765]\n",
      " [0.6389988  0.28724876 0.12863738]]\n"
     ]
    }
   ],
   "source": [
    "ar = np.random.rand(3,3) # return 0 to 1 values as per given range\n",
    "print(ar)"
   ]
  },
  {
   "cell_type": "code",
   "execution_count": 14,
   "id": "a3563a28",
   "metadata": {},
   "outputs": [
    {
     "name": "stdout",
     "output_type": "stream",
     "text": [
      "[[ 1.25859564 -1.18789922  0.75394951]\n",
      " [ 0.45112185  0.77902537  2.14655498]\n",
      " [ 0.30351417 -1.2621043   0.04417183]]\n"
     ]
    }
   ],
   "source": [
    "ar = np.random.randn(3,3) # return -1 to 1 values as per given range\n",
    "print(ar)"
   ]
  },
  {
   "cell_type": "code",
   "execution_count": 95,
   "id": "af0bc45f",
   "metadata": {},
   "outputs": [
    {
     "name": "stdout",
     "output_type": "stream",
     "text": [
      "13\n"
     ]
    }
   ],
   "source": [
    "ar = np.random.randint(10,20) # return integer values as per given range\n",
    "print(ar)"
   ]
  },
  {
   "cell_type": "code",
   "execution_count": 96,
   "id": "7828f9e1",
   "metadata": {},
   "outputs": [
    {
     "name": "stdout",
     "output_type": "stream",
     "text": [
      "[0.71840663 0.02120173 0.28153639 0.83888184 0.49722656 0.93357414\n",
      " 0.74888821 0.37593208 0.36271191 0.32065715]\n"
     ]
    }
   ],
   "source": [
    "ar = np.random.random(10) # return random values as per given range\n",
    "print(ar)"
   ]
  },
  {
   "cell_type": "markdown",
   "id": "3a1c4b9e",
   "metadata": {},
   "source": [
    "###### 14. eye()"
   ]
  },
  {
   "cell_type": "code",
   "execution_count": 15,
   "id": "13b58f12",
   "metadata": {},
   "outputs": [
    {
     "name": "stdout",
     "output_type": "stream",
     "text": [
      "[[1. 0. 0.]\n",
      " [0. 1. 0.]\n",
      " [0. 0. 1.]]\n"
     ]
    }
   ],
   "source": [
    "# unit matrix or identity matrix\n",
    "ar = np.eye(3,3)\n",
    "print(ar)"
   ]
  },
  {
   "cell_type": "code",
   "execution_count": 17,
   "id": "d7098857",
   "metadata": {},
   "outputs": [
    {
     "name": "stdout",
     "output_type": "stream",
     "text": [
      "[[0. 0. 1. 0. 0.]\n",
      " [0. 0. 0. 1. 0.]\n",
      " [0. 0. 0. 0. 1.]\n",
      " [0. 0. 0. 0. 0.]\n",
      " [0. 0. 0. 0. 0.]]\n"
     ]
    }
   ],
   "source": [
    "ar = np.eye(5,5,2)\n",
    "print(ar)"
   ]
  },
  {
   "cell_type": "markdown",
   "id": "f661d29d",
   "metadata": {},
   "source": [
    "###### 15. ones()"
   ]
  },
  {
   "cell_type": "code",
   "execution_count": 18,
   "id": "562ca95f",
   "metadata": {},
   "outputs": [
    {
     "name": "stdout",
     "output_type": "stream",
     "text": [
      "[[1. 1. 1.]\n",
      " [1. 1. 1.]]\n"
     ]
    }
   ],
   "source": [
    "ar = np.ones((2,3))\n",
    "print(ar)"
   ]
  },
  {
   "cell_type": "markdown",
   "id": "741aac6c",
   "metadata": {},
   "source": [
    "###### 16. zeros()"
   ]
  },
  {
   "cell_type": "code",
   "execution_count": 19,
   "id": "8384e241",
   "metadata": {},
   "outputs": [
    {
     "name": "stdout",
     "output_type": "stream",
     "text": [
      "[[0. 0. 0.]\n",
      " [0. 0. 0.]]\n"
     ]
    }
   ],
   "source": [
    "ar = np.zeros((2,3))\n",
    "print(ar)"
   ]
  },
  {
   "cell_type": "markdown",
   "id": "0866bed0",
   "metadata": {},
   "source": [
    "###### 17. diag()"
   ]
  },
  {
   "cell_type": "code",
   "execution_count": 20,
   "id": "60f70823",
   "metadata": {},
   "outputs": [
    {
     "name": "stdout",
     "output_type": "stream",
     "text": [
      "[[ 2  0  0]\n",
      " [ 0 10  0]\n",
      " [ 0  0  2]]\n"
     ]
    }
   ],
   "source": [
    "ar = np.diag((2,10,2))\n",
    "print(ar)"
   ]
  },
  {
   "cell_type": "code",
   "execution_count": 21,
   "id": "48cccebd",
   "metadata": {},
   "outputs": [
    {
     "name": "stdout",
     "output_type": "stream",
     "text": [
      "[[1 0 0 0]\n",
      " [0 2 0 0]\n",
      " [0 0 3 0]\n",
      " [0 0 0 4]]\n"
     ]
    }
   ],
   "source": [
    "ar = np.diag((1,2,3,4))\n",
    "print(ar)"
   ]
  },
  {
   "cell_type": "markdown",
   "id": "988ba44d",
   "metadata": {},
   "source": [
    "###### 18. dot()"
   ]
  },
  {
   "cell_type": "code",
   "execution_count": 22,
   "id": "bf11ddaf",
   "metadata": {},
   "outputs": [
    {
     "name": "stdout",
     "output_type": "stream",
     "text": [
      "[1 2 3 4]\n",
      "[1 2 3 4]\n",
      "[[1 2]\n",
      " [3 4]]\n",
      "[[1 2]\n",
      " [3 4]]\n"
     ]
    }
   ],
   "source": [
    "# Matrix multiplication / Dot product\n",
    "\n",
    "ar1 = np.arange(1,5)\n",
    "ar2 = np.arange(1,5)\n",
    "\n",
    "print(ar1)\n",
    "print(ar2)\n",
    "\n",
    "ar_1 = ar1.reshape(2,2)\n",
    "ar_2 = ar2.reshape(2,2)\n",
    "\n",
    "print(ar_1)\n",
    "print(ar_2)"
   ]
  },
  {
   "cell_type": "code",
   "execution_count": 23,
   "id": "af216109",
   "metadata": {},
   "outputs": [
    {
     "data": {
      "text/plain": [
       "array([[ 7, 10],\n",
       "       [15, 22]])"
      ]
     },
     "execution_count": 23,
     "metadata": {},
     "output_type": "execute_result"
    }
   ],
   "source": [
    "ar_1.dot(ar_2)"
   ]
  },
  {
   "cell_type": "raw",
   "id": "a9f86a64",
   "metadata": {},
   "source": [
    "1 2           \n",
    "3 4\n",
    "\n",
    "1 2\n",
    "3 4\n",
    "\n",
    "# (1*1+2*3)  (1*2+2*4)\n",
    "\n",
    "# (3*1+4*3)  (3*2+4*4)\n",
    "\n",
    "# 7   10\n",
    "# 15  22"
   ]
  },
  {
   "cell_type": "code",
   "execution_count": 105,
   "id": "1ada71cb",
   "metadata": {},
   "outputs": [
    {
     "name": "stdout",
     "output_type": "stream",
     "text": [
      "[[1 2]\n",
      " [3 4]]\n"
     ]
    },
    {
     "data": {
      "text/plain": [
       "array([[2, 4],\n",
       "       [6, 8]])"
      ]
     },
     "execution_count": 105,
     "metadata": {},
     "output_type": "execute_result"
    }
   ],
   "source": [
    "print(ar_1)\n",
    "\n",
    "ar_1*2\n"
   ]
  },
  {
   "cell_type": "code",
   "execution_count": null,
   "id": "68908b98",
   "metadata": {},
   "outputs": [],
   "source": []
  }
 ],
 "metadata": {
  "kernelspec": {
   "display_name": "Python 3 (ipykernel)",
   "language": "python",
   "name": "python3"
  },
  "language_info": {
   "codemirror_mode": {
    "name": "ipython",
    "version": 3
   },
   "file_extension": ".py",
   "mimetype": "text/x-python",
   "name": "python",
   "nbconvert_exporter": "python",
   "pygments_lexer": "ipython3",
   "version": "3.11.5"
  }
 },
 "nbformat": 4,
 "nbformat_minor": 5
}
