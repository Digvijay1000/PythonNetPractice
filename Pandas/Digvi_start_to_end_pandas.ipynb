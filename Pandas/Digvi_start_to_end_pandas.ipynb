{
 "cells": [
  {
   "cell_type": "markdown",
   "id": "caaa4668",
   "metadata": {},
   "source": [
    "## Pandas for ML"
   ]
  },
  {
   "cell_type": "markdown",
   "id": "e062635f",
   "metadata": {},
   "source": [
    "### What is Pandas?\n",
    "\n",
    "1. It is a Python library.\n",
    "\n",
    "2. Used to analyze data.\n",
    "\n",
    "Pandas is a Python library used for **working with data sets**.\n",
    "\n",
    "It has functions for **analyzing, cleaning, exploring, and manipulating data**.\n",
    "\n",
    "The name \"Pandas\" has a reference to both **\"Panel Data\"**, and **\"Python Data Analysis\"** and was created by **Wes McKinney in 2008**.\n",
    "\n",
    "### Why Pandas?\n",
    "\n",
    "    Pandas allows us to analyze big data and make conclusions based on statistical theories.\n",
    "\n",
    "    Pandas can clean messy data sets, and make them readable and relevant. Relevant data is very important in data science.\n",
    "    \n",
    "    \n",
    "Pandas gives you answers about the data. Like:\n",
    "\n",
    "    Is there a correlation between two or more columns?\n",
    "    What is average value?\n",
    "    Max value?\n",
    "    Min value?\n",
    "\n",
    "Pandas are also able to delete rows that are not relevant, or contains wrong values, like empty or NULL values. This is called cleaning the data.\n",
    "\n",
    "### Features\n",
    "\n",
    "    1. Working with large dataset\n",
    "    2. It is high performance data analysis tool\n",
    "    3. It supports or load large dataset and more flexible to use\n",
    "    4. pandas represent data in tabular(rows and columns) way\n",
    "    5. more efficient with working with missing data\n",
    "    6. It is used for indexing , slicing , subseting the large data\n",
    "    7. we can merge and join two different detaset easily\n",
    "    8. we can reshape the dataset easily"
   ]
  },
  {
   "cell_type": "markdown",
   "id": "ed394936",
   "metadata": {},
   "source": [
    "###### Install pandas"
   ]
  },
  {
   "cell_type": "code",
   "execution_count": 1,
   "id": "f2e95d61",
   "metadata": {},
   "outputs": [],
   "source": [
    "# ! pip install pandas"
   ]
  },
  {
   "cell_type": "code",
   "execution_count": 1,
   "id": "89c91339",
   "metadata": {},
   "outputs": [],
   "source": [
    "# import\n",
    "import pandas as pd\n",
    "import numpy as np"
   ]
  },
  {
   "cell_type": "code",
   "execution_count": 2,
   "id": "1147809b",
   "metadata": {},
   "outputs": [
    {
     "name": "stdout",
     "output_type": "stream",
     "text": [
      "2.0.3\n"
     ]
    }
   ],
   "source": [
    "print(pd.__version__)"
   ]
  },
  {
   "cell_type": "code",
   "execution_count": 3,
   "id": "dc42a10d",
   "metadata": {},
   "outputs": [
    {
     "name": "stdout",
     "output_type": "stream",
     "text": [
      "1.24.2\n"
     ]
    }
   ],
   "source": [
    "print(np.__version__)"
   ]
  },
  {
   "cell_type": "markdown",
   "id": "06f5ea72",
   "metadata": {},
   "source": [
    " Two data structures in pandas :\n",
    "                       \n",
    "            1. Series: A one-dimensional labeled array capable of holding any data type. \n",
    "                       It is similar to a column in a spreadsheet or a SQL table.\n",
    "\n",
    "            2. DataFrame: A two-dimensional labeled data structure with columns of \n",
    "                          potentially different types. It is similar to a spreadsheet, \n",
    "                          SQL table, or a dict of Series objects.\n",
    "\n",
    "In addition to these two primary data structures, Pandas also provides some other data structures that are useful in specific situations. Some of these data structures are:\n",
    "\n",
    "            1. Index: A sequence of labels used to identify the rows or columns in a DataFrame or a Series.\n",
    "\n",
    "            2. MultiIndex: A hierarchical index that enables you to have multiple levels of row and column labels in a DataFrame or a Series.\n",
    "\n",
    "            3. Categorical: A data type that represents a categorical variable, which has a finite set of values.\n",
    "\n",
    "            4. SparseArray: An array that stores only non-zero values efficiently.\n",
    "\n",
    "            5. SparseDataFrame: A DataFrame that stores only non-zero values efficiently.\n",
    "\n",
    "            6. Panel: A three-dimensional data structure that is similar to a DataFrame but with an additional index axis.\n",
    "\n",
    "            7. Panel4D: A four-dimensional data structure that is similar to a Panel but with an additional index axis.\n",
    "\n",
    "These data structures provide a lot of flexibility and power for working with data in Pandas."
   ]
  },
  {
   "cell_type": "markdown",
   "id": "d3d11712",
   "metadata": {},
   "source": [
    "### Series\n",
    "###### what is series?\n",
    "\n",
    "    Pandas series is like a column in a table.\n",
    "    It is one dimentional array holding data of any type."
   ]
  },
  {
   "cell_type": "code",
   "execution_count": 4,
   "id": "4b18ef08",
   "metadata": {},
   "outputs": [
    {
     "data": {
      "text/plain": [
       "0    1\n",
       "1    2\n",
       "2    3\n",
       "3    4\n",
       "4    5\n",
       "dtype: int64"
      ]
     },
     "execution_count": 4,
     "metadata": {},
     "output_type": "execute_result"
    }
   ],
   "source": [
    "s=pd.Series([1,2,3,4,5])\n",
    "s\n",
    "# default numbering is used for naming series location(index_number)"
   ]
  },
  {
   "cell_type": "code",
   "execution_count": 5,
   "id": "64cc38e9",
   "metadata": {},
   "outputs": [
    {
     "name": "stdout",
     "output_type": "stream",
     "text": [
      "<class 'pandas.core.series.Series'>\n"
     ]
    }
   ],
   "source": [
    "print(type(s))"
   ]
  },
  {
   "cell_type": "markdown",
   "id": "23726d28",
   "metadata": {},
   "source": [
    "###### access element from series"
   ]
  },
  {
   "cell_type": "code",
   "execution_count": 6,
   "id": "b7b85e3e",
   "metadata": {},
   "outputs": [
    {
     "data": {
      "text/plain": [
       "1"
      ]
     },
     "execution_count": 6,
     "metadata": {},
     "output_type": "execute_result"
    }
   ],
   "source": [
    "s[0]"
   ]
  },
  {
   "cell_type": "code",
   "execution_count": 7,
   "id": "75d15616",
   "metadata": {},
   "outputs": [
    {
     "data": {
      "text/plain": [
       "4"
      ]
     },
     "execution_count": 7,
     "metadata": {},
     "output_type": "execute_result"
    }
   ],
   "source": [
    "s[3]"
   ]
  },
  {
   "cell_type": "code",
   "execution_count": 8,
   "id": "1202ae80",
   "metadata": {},
   "outputs": [
    {
     "data": {
      "text/plain": [
       "5"
      ]
     },
     "execution_count": 8,
     "metadata": {},
     "output_type": "execute_result"
    }
   ],
   "source": [
    "s[4]"
   ]
  },
  {
   "cell_type": "markdown",
   "id": "140e4cb3",
   "metadata": {},
   "source": [
    "###### You can give name to series index"
   ]
  },
  {
   "cell_type": "code",
   "execution_count": 9,
   "id": "63f92c6a",
   "metadata": {},
   "outputs": [
    {
     "data": {
      "text/plain": [
       "A    10\n",
       "B    20\n",
       "C    30\n",
       "D    40\n",
       "E    50\n",
       "dtype: int64"
      ]
     },
     "execution_count": 9,
     "metadata": {},
     "output_type": "execute_result"
    }
   ],
   "source": [
    "l=[10,20,30,40,50]\n",
    "new_s=pd.Series(l,index=['A','B','C','D','E'])\n",
    "new_s"
   ]
  },
  {
   "cell_type": "code",
   "execution_count": 10,
   "id": "8d87d1ec",
   "metadata": {},
   "outputs": [
    {
     "data": {
      "text/plain": [
       "aja    1\n",
       "aka    2\n",
       "shd    3\n",
       "rtd    4\n",
       "rhx    5\n",
       "dtype: int64"
      ]
     },
     "execution_count": 10,
     "metadata": {},
     "output_type": "execute_result"
    }
   ],
   "source": [
    "list1=[1,2,3,4,5]\n",
    "ns=pd.Series(list1,index=['aja','aka','shd','rtd','rhx'])\n",
    "ns"
   ]
  },
  {
   "cell_type": "markdown",
   "id": "d5d69bf0",
   "metadata": {},
   "source": [
    "###### Access Items using labels"
   ]
  },
  {
   "cell_type": "code",
   "execution_count": 11,
   "id": "1af55e4f",
   "metadata": {},
   "outputs": [
    {
     "data": {
      "text/plain": [
       "A    10\n",
       "B    20\n",
       "C    30\n",
       "D    40\n",
       "E    50\n",
       "dtype: int64"
      ]
     },
     "execution_count": 11,
     "metadata": {},
     "output_type": "execute_result"
    }
   ],
   "source": [
    "new_s"
   ]
  },
  {
   "cell_type": "code",
   "execution_count": 12,
   "id": "5358ef65",
   "metadata": {},
   "outputs": [
    {
     "data": {
      "text/plain": [
       "10"
      ]
     },
     "execution_count": 12,
     "metadata": {},
     "output_type": "execute_result"
    }
   ],
   "source": [
    "new_s['A']"
   ]
  },
  {
   "cell_type": "code",
   "execution_count": 13,
   "id": "373ea370",
   "metadata": {},
   "outputs": [
    {
     "data": {
      "text/plain": [
       "20"
      ]
     },
     "execution_count": 13,
     "metadata": {},
     "output_type": "execute_result"
    }
   ],
   "source": [
    "new_s['B']"
   ]
  },
  {
   "cell_type": "markdown",
   "id": "61a3c9b2",
   "metadata": {},
   "source": [
    "###### Key/Value Objects as Series"
   ]
  },
  {
   "cell_type": "code",
   "execution_count": 14,
   "id": "e5c2dd41",
   "metadata": {},
   "outputs": [
    {
     "data": {
      "text/plain": [
       "Digvijay    10\n",
       "Umesh       11\n",
       "Rahul       16\n",
       "dtype: int64"
      ]
     },
     "execution_count": 14,
     "metadata": {},
     "output_type": "execute_result"
    }
   ],
   "source": [
    "emp={'Digvijay':10,'Umesh':11,'Rahul':16}\n",
    "emp_s=pd.Series(emp)\n",
    "emp_s"
   ]
  },
  {
   "cell_type": "code",
   "execution_count": 15,
   "id": "395cdca9",
   "metadata": {},
   "outputs": [
    {
     "data": {
      "text/plain": [
       "day1    500\n",
       "day2    380\n",
       "day3    480\n",
       "day4    500\n",
       "dtype: int64"
      ]
     },
     "execution_count": 15,
     "metadata": {},
     "output_type": "execute_result"
    }
   ],
   "source": [
    "calories = {\n",
    "    'day1': 500,\n",
    "    'day2': 380,\n",
    "    'day3': 480,\n",
    "    'day4': 500\n",
    "}\n",
    "\n",
    "cal_s=pd.Series(calories)\n",
    "cal_s"
   ]
  },
  {
   "cell_type": "code",
   "execution_count": 16,
   "id": "98339966",
   "metadata": {},
   "outputs": [
    {
     "data": {
      "text/plain": [
       "480"
      ]
     },
     "execution_count": 16,
     "metadata": {},
     "output_type": "execute_result"
    }
   ],
   "source": [
    "cal_s['day3']"
   ]
  },
  {
   "cell_type": "code",
   "execution_count": 17,
   "id": "933bfc8e",
   "metadata": {},
   "outputs": [
    {
     "data": {
      "text/plain": [
       "day1    500\n",
       "day2    380\n",
       "dtype: int64"
      ]
     },
     "execution_count": 17,
     "metadata": {},
     "output_type": "execute_result"
    }
   ],
   "source": [
    "cal_s_new=pd.Series(cal_s, index=['day1','day2'])\n",
    "cal_s_new"
   ]
  },
  {
   "cell_type": "code",
   "execution_count": 18,
   "id": "7d7b6019",
   "metadata": {},
   "outputs": [
    {
     "data": {
      "text/plain": [
       "380"
      ]
     },
     "execution_count": 18,
     "metadata": {},
     "output_type": "execute_result"
    }
   ],
   "source": [
    "cal_s_new['day2']"
   ]
  },
  {
   "cell_type": "code",
   "execution_count": 19,
   "id": "866a2553",
   "metadata": {},
   "outputs": [],
   "source": [
    "cal_s_new['day1']=2800 # modified series"
   ]
  },
  {
   "cell_type": "code",
   "execution_count": 20,
   "id": "57abc07d",
   "metadata": {},
   "outputs": [
    {
     "data": {
      "text/plain": [
       "day1    2800\n",
       "day2     380\n",
       "dtype: int64"
      ]
     },
     "execution_count": 20,
     "metadata": {},
     "output_type": "execute_result"
    }
   ],
   "source": [
    "cal_s_new"
   ]
  },
  {
   "cell_type": "markdown",
   "id": "ec9d9f08",
   "metadata": {},
   "source": [
    "###### Home work "
   ]
  },
  {
   "cell_type": "code",
   "execution_count": 21,
   "id": "e0a22419",
   "metadata": {},
   "outputs": [
    {
     "data": {
      "text/plain": [
       "0           1\n",
       "1         1.2\n",
       "2        abhi\n",
       "3           2\n",
       "4         2.2\n",
       "5     shourya\n",
       "6           3\n",
       "7         3.3\n",
       "8      atharv\n",
       "9           4\n",
       "10        4.4\n",
       "11       amey\n",
       "dtype: object"
      ]
     },
     "execution_count": 21,
     "metadata": {},
     "output_type": "execute_result"
    }
   ],
   "source": [
    "lst=[1, 1.2, 'abhi', 2, 2.2, 'shourya',3, 3.3, 'atharv', 4, 4.4, 'amey']\n",
    "lst_s=pd.Series(lst)\n",
    "lst_s"
   ]
  },
  {
   "cell_type": "code",
   "execution_count": 22,
   "id": "9ce09836",
   "metadata": {},
   "outputs": [
    {
     "data": {
      "text/plain": [
       "0    1\n",
       "3    2\n",
       "6    3\n",
       "9    4\n",
       "dtype: object"
      ]
     },
     "execution_count": 22,
     "metadata": {},
     "output_type": "execute_result"
    }
   ],
   "source": [
    "int_s=pd.Series(lst_s, index=[0,3,6,9])\n",
    "int_s"
   ]
  },
  {
   "cell_type": "code",
   "execution_count": 23,
   "id": "1bbec873",
   "metadata": {},
   "outputs": [
    {
     "data": {
      "text/plain": [
       "(1, 2, 3, 4)"
      ]
     },
     "execution_count": 23,
     "metadata": {},
     "output_type": "execute_result"
    }
   ],
   "source": [
    "int_s[0], int_s[3], int_s[6], int_s[9]"
   ]
  },
  {
   "cell_type": "code",
   "execution_count": 24,
   "id": "d9affab5",
   "metadata": {},
   "outputs": [
    {
     "data": {
      "text/plain": [
       "1     1.2\n",
       "4     2.2\n",
       "7     3.3\n",
       "10    4.4\n",
       "dtype: object"
      ]
     },
     "execution_count": 24,
     "metadata": {},
     "output_type": "execute_result"
    }
   ],
   "source": [
    "flt_s=pd.Series(lst_s,index=[1,4,7,10])\n",
    "flt_s"
   ]
  },
  {
   "cell_type": "code",
   "execution_count": 25,
   "id": "1c44dfdd",
   "metadata": {},
   "outputs": [
    {
     "data": {
      "text/plain": [
       "(1.2, 2.2, 3.3, 4.4)"
      ]
     },
     "execution_count": 25,
     "metadata": {},
     "output_type": "execute_result"
    }
   ],
   "source": [
    "flt_s[1], flt_s[4], flt_s[7], flt_s[10]"
   ]
  },
  {
   "cell_type": "code",
   "execution_count": 26,
   "id": "d6e8887a",
   "metadata": {},
   "outputs": [
    {
     "data": {
      "text/plain": [
       "2        abhi\n",
       "5     shourya\n",
       "8      atharv\n",
       "11       amey\n",
       "dtype: object"
      ]
     },
     "execution_count": 26,
     "metadata": {},
     "output_type": "execute_result"
    }
   ],
   "source": [
    "str_s=pd.Series(lst_s, index=[2,5,8,11])\n",
    "str_s"
   ]
  },
  {
   "cell_type": "code",
   "execution_count": 27,
   "id": "d387aa80",
   "metadata": {},
   "outputs": [
    {
     "data": {
      "text/plain": [
       "('abhi', 'shourya', 'atharv', 'amey')"
      ]
     },
     "execution_count": 27,
     "metadata": {},
     "output_type": "execute_result"
    }
   ],
   "source": [
    "str_s[2], str_s[5], str_s[8], str_s[11]"
   ]
  },
  {
   "cell_type": "code",
   "execution_count": 28,
   "id": "ba93d5f8",
   "metadata": {},
   "outputs": [
    {
     "data": {
      "text/plain": [
       "0    (a, 10)\n",
       "1    (b, 20)\n",
       "2    (c, 30)\n",
       "3    (d, 40)\n",
       "dtype: object"
      ]
     },
     "execution_count": 28,
     "metadata": {},
     "output_type": "execute_result"
    }
   ],
   "source": [
    "# create series by using tuple\n",
    "tup_s=pd.Series([('a',10),('b',20),('c',30),('d',40)])\n",
    "tup_s"
   ]
  },
  {
   "cell_type": "code",
   "execution_count": 29,
   "id": "2ced1d1f",
   "metadata": {},
   "outputs": [
    {
     "data": {
      "text/plain": [
       "a    10\n",
       "b    20\n",
       "c    30\n",
       "d    40\n",
       "dtype: int64"
      ]
     },
     "execution_count": 29,
     "metadata": {},
     "output_type": "execute_result"
    }
   ],
   "source": [
    "# create series by using dictionary\n",
    "dict_s=pd.Series({'a':10, 'b':20, 'c':30, 'd':40})\n",
    "dict_s"
   ]
  },
  {
   "cell_type": "code",
   "execution_count": 30,
   "id": "834c0ae6",
   "metadata": {},
   "outputs": [
    {
     "data": {
      "text/plain": [
       "Series([], dtype: object)"
      ]
     },
     "execution_count": 30,
     "metadata": {},
     "output_type": "execute_result"
    }
   ],
   "source": [
    "empty_s=pd.Series() # empty series\n",
    "empty_s"
   ]
  },
  {
   "cell_type": "code",
   "execution_count": 31,
   "id": "71fae288",
   "metadata": {},
   "outputs": [
    {
     "data": {
      "text/plain": [
       "0    10\n",
       "1    20\n",
       "2    30\n",
       "3    40\n",
       "dtype: int32"
      ]
     },
     "execution_count": 31,
     "metadata": {},
     "output_type": "execute_result"
    }
   ],
   "source": [
    "# create series by using array\n",
    "\n",
    "arr=np.array([10,20,30,40])\n",
    "arr_s=pd.Series(arr)\n",
    "arr_s"
   ]
  },
  {
   "cell_type": "code",
   "execution_count": 32,
   "id": "325ef64f",
   "metadata": {},
   "outputs": [
    {
     "data": {
      "text/plain": [
       "stud1 :        (A, 10, Pune, MH)\n",
       "stud2 :      (B, 20, Sangli, MH)\n",
       "3          (C, 30, Kolhapur, MH)\n",
       "dtype: object"
      ]
     },
     "execution_count": 32,
     "metadata": {},
     "output_type": "execute_result"
    }
   ],
   "source": [
    "sub=(('A',10,'Pune','MH'),('B',20,'Sangli','MH'),('C',30,'Kolhapur','MH'))\n",
    "sub_s=pd.Series(sub, index=['stud1 :','stud2 :',3])\n",
    "sub_s"
   ]
  },
  {
   "cell_type": "code",
   "execution_count": 33,
   "id": "aa302dfb",
   "metadata": {},
   "outputs": [
    {
     "data": {
      "text/plain": [
       "1      1\n",
       "11    11\n",
       "21    21\n",
       "31    31\n",
       "41    41\n",
       "51    51\n",
       "61    61\n",
       "71    71\n",
       "81    81\n",
       "91    91\n",
       "dtype: int32"
      ]
     },
     "execution_count": 33,
     "metadata": {},
     "output_type": "execute_result"
    }
   ],
   "source": [
    "arr=np.arange(1,100,10)\n",
    "arr_s=pd.Series(arr,index=[np.arange(1,100,10)])\n",
    "arr_s"
   ]
  },
  {
   "cell_type": "code",
   "execution_count": 34,
   "id": "66c2414c",
   "metadata": {},
   "outputs": [
    {
     "data": {
      "text/plain": [
       "1       1\n",
       "21     11\n",
       "41     21\n",
       "61     31\n",
       "81     41\n",
       "101    51\n",
       "121    61\n",
       "141    71\n",
       "161    81\n",
       "181    91\n",
       "dtype: int32"
      ]
     },
     "execution_count": 34,
     "metadata": {},
     "output_type": "execute_result"
    }
   ],
   "source": [
    "arr=np.arange(1,100,10)\n",
    "arr_s=pd.Series(arr,index=[np.arange(1,200,20)])\n",
    "arr_s"
   ]
  },
  {
   "cell_type": "code",
   "execution_count": 35,
   "id": "37f1eb89",
   "metadata": {},
   "outputs": [
    {
     "data": {
      "text/plain": [
       "Pink          Apple\n",
       "Yellow        Mango\n",
       "Gray      Pineapple\n",
       "Brown         Chiku\n",
       "dtype: object"
      ]
     },
     "execution_count": 35,
     "metadata": {},
     "output_type": "execute_result"
    }
   ],
   "source": [
    "l=['Apple','Mango','Pineapple','Chiku']\n",
    "fruit=pd.Series(l,index=['Pink','Yellow','Gray','Brown'])\n",
    "fruit"
   ]
  },
  {
   "cell_type": "code",
   "execution_count": 36,
   "id": "3c18ae9d",
   "metadata": {},
   "outputs": [],
   "source": [
    "fruit['Gray']='GreenApple'"
   ]
  },
  {
   "cell_type": "code",
   "execution_count": 37,
   "id": "a6ec2b5c",
   "metadata": {},
   "outputs": [
    {
     "data": {
      "text/plain": [
       "Pink           Apple\n",
       "Yellow         Mango\n",
       "Gray      GreenApple\n",
       "Brown          Chiku\n",
       "dtype: object"
      ]
     },
     "execution_count": 37,
     "metadata": {},
     "output_type": "execute_result"
    }
   ],
   "source": [
    "fruit"
   ]
  },
  {
   "cell_type": "code",
   "execution_count": 38,
   "id": "1adf69d0",
   "metadata": {},
   "outputs": [
    {
     "data": {
      "text/plain": [
       "0      Coconut\n",
       "1        Mango\n",
       "2    Pineapple\n",
       "3        Chiku\n",
       "dtype: object"
      ]
     },
     "execution_count": 38,
     "metadata": {},
     "output_type": "execute_result"
    }
   ],
   "source": [
    "l=['Apple','Mango','Pineapple','Chiku']\n",
    "fruit=pd.Series(l,copy=False)\n",
    "fruit.iloc[0]='Coconut'\n",
    "fruit"
   ]
  },
  {
   "cell_type": "markdown",
   "id": "7833c040",
   "metadata": {},
   "source": [
    "### DataFrame\n",
    "\n",
    "DataFrame : **Data sets in Pandas are usually multi-dimensional tables, called DataFrames**.\n",
    "\n",
    "Series : Series is like a column, a **DataFrame is the whole table.**\n",
    "\n",
    "A Pandas DataFrame is a **2 dimensional data structure, like a 2 dimensional array, or a table with rows and columns.**"
   ]
  },
  {
   "cell_type": "code",
   "execution_count": 39,
   "id": "7b9bbf62",
   "metadata": {},
   "outputs": [
    {
     "name": "stdout",
     "output_type": "stream",
     "text": [
      "       Name  Age Sex\n",
      "0     Nitin   37   M\n",
      "1  Shailesh   34   M\n",
      "2     Adhik   33   M\n"
     ]
    }
   ],
   "source": [
    "student={\n",
    "    'Name':[\"Nitin\",\"Shailesh\",\"Adhik\"],\n",
    "    'Age':[37,34,33],\n",
    "    'Sex':['M','M','M']\n",
    "}\n",
    "\n",
    "df1=pd.DataFrame(student)\n",
    "print(df1)"
   ]
  },
  {
   "cell_type": "code",
   "execution_count": 40,
   "id": "8f3af677",
   "metadata": {},
   "outputs": [
    {
     "data": {
      "text/html": [
       "<div>\n",
       "<style scoped>\n",
       "    .dataframe tbody tr th:only-of-type {\n",
       "        vertical-align: middle;\n",
       "    }\n",
       "\n",
       "    .dataframe tbody tr th {\n",
       "        vertical-align: top;\n",
       "    }\n",
       "\n",
       "    .dataframe thead th {\n",
       "        text-align: right;\n",
       "    }\n",
       "</style>\n",
       "<table border=\"1\" class=\"dataframe\">\n",
       "  <thead>\n",
       "    <tr style=\"text-align: right;\">\n",
       "      <th></th>\n",
       "      <th>Name</th>\n",
       "      <th>Age</th>\n",
       "      <th>Sex</th>\n",
       "    </tr>\n",
       "  </thead>\n",
       "  <tbody>\n",
       "    <tr>\n",
       "      <th>Rahul</th>\n",
       "      <td>A</td>\n",
       "      <td>30</td>\n",
       "      <td>M</td>\n",
       "    </tr>\n",
       "    <tr>\n",
       "      <th>Priya</th>\n",
       "      <td>B</td>\n",
       "      <td>31</td>\n",
       "      <td>F</td>\n",
       "    </tr>\n",
       "    <tr>\n",
       "      <th>Sandip</th>\n",
       "      <td>C</td>\n",
       "      <td>32</td>\n",
       "      <td>M</td>\n",
       "    </tr>\n",
       "  </tbody>\n",
       "</table>\n",
       "</div>"
      ],
      "text/plain": [
       "       Name  Age Sex\n",
       "Rahul     A   30   M\n",
       "Priya     B   31   F\n",
       "Sandip    C   32   M"
      ]
     },
     "execution_count": 40,
     "metadata": {},
     "output_type": "execute_result"
    }
   ],
   "source": [
    "student={\n",
    "    'Name':['A','B','C'],\n",
    "    'Age' :[30, 31, 32],\n",
    "    'Sex' :['M', 'F', 'M']\n",
    "    }\n",
    "df=pd.DataFrame(student,index=['Rahul','Priya','Sandip'])\n",
    "df"
   ]
  },
  {
   "cell_type": "code",
   "execution_count": 239,
   "id": "060d04eb",
   "metadata": {},
   "outputs": [
    {
     "data": {
      "text/html": [
       "<div>\n",
       "<style scoped>\n",
       "    .dataframe tbody tr th:only-of-type {\n",
       "        vertical-align: middle;\n",
       "    }\n",
       "\n",
       "    .dataframe tbody tr th {\n",
       "        vertical-align: top;\n",
       "    }\n",
       "\n",
       "    .dataframe thead th {\n",
       "        text-align: right;\n",
       "    }\n",
       "</style>\n",
       "<table border=\"1\" class=\"dataframe\">\n",
       "  <thead>\n",
       "    <tr style=\"text-align: right;\">\n",
       "      <th></th>\n",
       "      <th>name</th>\n",
       "      <th>age</th>\n",
       "      <th>class</th>\n",
       "    </tr>\n",
       "  </thead>\n",
       "  <tbody>\n",
       "    <tr>\n",
       "      <th>0</th>\n",
       "      <td>A</td>\n",
       "      <td>10</td>\n",
       "      <td>4th</td>\n",
       "    </tr>\n",
       "    <tr>\n",
       "      <th>1</th>\n",
       "      <td>B</td>\n",
       "      <td>11</td>\n",
       "      <td>5th</td>\n",
       "    </tr>\n",
       "    <tr>\n",
       "      <th>2</th>\n",
       "      <td>C</td>\n",
       "      <td>12</td>\n",
       "      <td>6th</td>\n",
       "    </tr>\n",
       "    <tr>\n",
       "      <th>3</th>\n",
       "      <td>D</td>\n",
       "      <td>13</td>\n",
       "      <td>7th</td>\n",
       "    </tr>\n",
       "  </tbody>\n",
       "</table>\n",
       "</div>"
      ],
      "text/plain": [
       "  name  age class\n",
       "0    A   10   4th\n",
       "1    B   11   5th\n",
       "2    C   12   6th\n",
       "3    D   13   7th"
      ]
     },
     "execution_count": 239,
     "metadata": {},
     "output_type": "execute_result"
    }
   ],
   "source": [
    "stud={\n",
    "    'name':['A','B','C','D'],\n",
    "    'age' :[10, 11, 12, 13],\n",
    "    'class':['4th','5th','6th','7th']\n",
    "}\n",
    "new_df=pd.DataFrame(stud)\n",
    "new_df"
   ]
  },
  {
   "cell_type": "code",
   "execution_count": 240,
   "id": "64ed39df",
   "metadata": {},
   "outputs": [
    {
     "data": {
      "text/html": [
       "<div>\n",
       "<style scoped>\n",
       "    .dataframe tbody tr th:only-of-type {\n",
       "        vertical-align: middle;\n",
       "    }\n",
       "\n",
       "    .dataframe tbody tr th {\n",
       "        vertical-align: top;\n",
       "    }\n",
       "\n",
       "    .dataframe thead th {\n",
       "        text-align: right;\n",
       "    }\n",
       "</style>\n",
       "<table border=\"1\" class=\"dataframe\">\n",
       "  <thead>\n",
       "    <tr style=\"text-align: right;\">\n",
       "      <th></th>\n",
       "      <th>Name</th>\n",
       "      <th>Age</th>\n",
       "      <th>Class</th>\n",
       "    </tr>\n",
       "  </thead>\n",
       "  <tbody>\n",
       "    <tr>\n",
       "      <th>0</th>\n",
       "      <td>A</td>\n",
       "      <td>10</td>\n",
       "      <td>4th</td>\n",
       "    </tr>\n",
       "    <tr>\n",
       "      <th>1</th>\n",
       "      <td>B</td>\n",
       "      <td>11</td>\n",
       "      <td>5th</td>\n",
       "    </tr>\n",
       "    <tr>\n",
       "      <th>2</th>\n",
       "      <td>C</td>\n",
       "      <td>12</td>\n",
       "      <td>6th</td>\n",
       "    </tr>\n",
       "    <tr>\n",
       "      <th>3</th>\n",
       "      <td>D</td>\n",
       "      <td>13</td>\n",
       "      <td>7th</td>\n",
       "    </tr>\n",
       "  </tbody>\n",
       "</table>\n",
       "</div>"
      ],
      "text/plain": [
       "  Name  Age Class\n",
       "0    A   10   4th\n",
       "1    B   11   5th\n",
       "2    C   12   6th\n",
       "3    D   13   7th"
      ]
     },
     "execution_count": 240,
     "metadata": {},
     "output_type": "execute_result"
    }
   ],
   "source": [
    "tup=(('A',10,'4th'),('B', 11, '5th'),('C',12,'6th'),('D',13,'7th'))\n",
    "new_df=pd.DataFrame(tup,columns=['Name','Age','Class'])\n",
    "new_df"
   ]
  },
  {
   "cell_type": "markdown",
   "id": "08108547",
   "metadata": {},
   "source": [
    "###### Locating a Row\n",
    "\n",
    "    This will done by using \"df.loc[]\" function"
   ]
  },
  {
   "cell_type": "code",
   "execution_count": 41,
   "id": "ce7558a0",
   "metadata": {},
   "outputs": [
    {
     "data": {
      "text/plain": [
       "Name     A\n",
       "Age     30\n",
       "Sex      M\n",
       "Name: Rahul, dtype: object"
      ]
     },
     "execution_count": 41,
     "metadata": {},
     "output_type": "execute_result"
    }
   ],
   "source": [
    "df.loc['Rahul']"
   ]
  },
  {
   "cell_type": "code",
   "execution_count": 42,
   "id": "806f6ebc",
   "metadata": {},
   "outputs": [
    {
     "name": "stdout",
     "output_type": "stream",
     "text": [
      "Name    Nitin\n",
      "Age        37\n",
      "Sex         M\n",
      "Name: 0, dtype: object\n"
     ]
    }
   ],
   "source": [
    "print(df1.loc[0])"
   ]
  },
  {
   "cell_type": "code",
   "execution_count": 43,
   "id": "c35836d3",
   "metadata": {},
   "outputs": [
    {
     "name": "stdout",
     "output_type": "stream",
     "text": [
      "Name    Adhik\n",
      "Age        33\n",
      "Sex         M\n",
      "Name: 2, dtype: object\n"
     ]
    }
   ],
   "source": [
    "print(df1.loc[2])"
   ]
  },
  {
   "cell_type": "code",
   "execution_count": 46,
   "id": "3100eaa8",
   "metadata": {},
   "outputs": [
    {
     "data": {
      "text/html": [
       "<div>\n",
       "<style scoped>\n",
       "    .dataframe tbody tr th:only-of-type {\n",
       "        vertical-align: middle;\n",
       "    }\n",
       "\n",
       "    .dataframe tbody tr th {\n",
       "        vertical-align: top;\n",
       "    }\n",
       "\n",
       "    .dataframe thead th {\n",
       "        text-align: right;\n",
       "    }\n",
       "</style>\n",
       "<table border=\"1\" class=\"dataframe\">\n",
       "  <thead>\n",
       "    <tr style=\"text-align: right;\">\n",
       "      <th></th>\n",
       "      <th>Name</th>\n",
       "      <th>Age</th>\n",
       "      <th>Sex</th>\n",
       "    </tr>\n",
       "  </thead>\n",
       "  <tbody>\n",
       "    <tr>\n",
       "      <th>0</th>\n",
       "      <td>Nitin</td>\n",
       "      <td>37</td>\n",
       "      <td>M</td>\n",
       "    </tr>\n",
       "    <tr>\n",
       "      <th>2</th>\n",
       "      <td>Adhik</td>\n",
       "      <td>33</td>\n",
       "      <td>M</td>\n",
       "    </tr>\n",
       "  </tbody>\n",
       "</table>\n",
       "</div>"
      ],
      "text/plain": [
       "    Name  Age Sex\n",
       "0  Nitin   37   M\n",
       "2  Adhik   33   M"
      ]
     },
     "execution_count": 46,
     "metadata": {},
     "output_type": "execute_result"
    }
   ],
   "source": [
    "df1.loc[[0,2]] # [[list of indices]]"
   ]
  },
  {
   "cell_type": "code",
   "execution_count": 47,
   "id": "26657e0d",
   "metadata": {},
   "outputs": [
    {
     "data": {
      "text/html": [
       "<div>\n",
       "<style scoped>\n",
       "    .dataframe tbody tr th:only-of-type {\n",
       "        vertical-align: middle;\n",
       "    }\n",
       "\n",
       "    .dataframe tbody tr th {\n",
       "        vertical-align: top;\n",
       "    }\n",
       "\n",
       "    .dataframe thead th {\n",
       "        text-align: right;\n",
       "    }\n",
       "</style>\n",
       "<table border=\"1\" class=\"dataframe\">\n",
       "  <thead>\n",
       "    <tr style=\"text-align: right;\">\n",
       "      <th></th>\n",
       "      <th>Name</th>\n",
       "      <th>Age</th>\n",
       "      <th>Sex</th>\n",
       "    </tr>\n",
       "  </thead>\n",
       "  <tbody>\n",
       "    <tr>\n",
       "      <th>0</th>\n",
       "      <td>Nitin</td>\n",
       "      <td>37</td>\n",
       "      <td>M</td>\n",
       "    </tr>\n",
       "    <tr>\n",
       "      <th>1</th>\n",
       "      <td>Shailesh</td>\n",
       "      <td>34</td>\n",
       "      <td>M</td>\n",
       "    </tr>\n",
       "    <tr>\n",
       "      <th>2</th>\n",
       "      <td>Adhik</td>\n",
       "      <td>33</td>\n",
       "      <td>M</td>\n",
       "    </tr>\n",
       "  </tbody>\n",
       "</table>\n",
       "</div>"
      ],
      "text/plain": [
       "       Name  Age Sex\n",
       "0     Nitin   37   M\n",
       "1  Shailesh   34   M\n",
       "2     Adhik   33   M"
      ]
     },
     "execution_count": 47,
     "metadata": {},
     "output_type": "execute_result"
    }
   ],
   "source": [
    "val=df1.loc[[0,1,2]] # [[list of indices]]\n",
    "val"
   ]
  },
  {
   "cell_type": "code",
   "execution_count": 48,
   "id": "84538b89",
   "metadata": {},
   "outputs": [
    {
     "data": {
      "text/html": [
       "<div>\n",
       "<style scoped>\n",
       "    .dataframe tbody tr th:only-of-type {\n",
       "        vertical-align: middle;\n",
       "    }\n",
       "\n",
       "    .dataframe tbody tr th {\n",
       "        vertical-align: top;\n",
       "    }\n",
       "\n",
       "    .dataframe thead th {\n",
       "        text-align: right;\n",
       "    }\n",
       "</style>\n",
       "<table border=\"1\" class=\"dataframe\">\n",
       "  <thead>\n",
       "    <tr style=\"text-align: right;\">\n",
       "      <th></th>\n",
       "      <th>Name</th>\n",
       "      <th>Age</th>\n",
       "      <th>Sex</th>\n",
       "    </tr>\n",
       "  </thead>\n",
       "  <tbody>\n",
       "    <tr>\n",
       "      <th>Rahul</th>\n",
       "      <td>A</td>\n",
       "      <td>30</td>\n",
       "      <td>M</td>\n",
       "    </tr>\n",
       "    <tr>\n",
       "      <th>Sandip</th>\n",
       "      <td>C</td>\n",
       "      <td>32</td>\n",
       "      <td>M</td>\n",
       "    </tr>\n",
       "  </tbody>\n",
       "</table>\n",
       "</div>"
      ],
      "text/plain": [
       "       Name  Age Sex\n",
       "Rahul     A   30   M\n",
       "Sandip    C   32   M"
      ]
     },
     "execution_count": 48,
     "metadata": {},
     "output_type": "execute_result"
    }
   ],
   "source": [
    "df.loc[['Rahul','Sandip']] # list of indices"
   ]
  },
  {
   "cell_type": "markdown",
   "id": "6bb6b9be",
   "metadata": {},
   "source": [
    "###### Named to indices (rows)\n",
    "\n",
    "indices = index of rows\n",
    "\n",
    "column = columns "
   ]
  },
  {
   "cell_type": "code",
   "execution_count": 49,
   "id": "e484ea1f",
   "metadata": {},
   "outputs": [],
   "source": [
    "data={\n",
    "    \"calories\":[420, 380, 390, 680, 700 ],\n",
    "    \"duration\":[50,40,45, 49, 89]\n",
    "}"
   ]
  },
  {
   "cell_type": "code",
   "execution_count": 50,
   "id": "ed863aea",
   "metadata": {},
   "outputs": [
    {
     "data": {
      "text/html": [
       "<div>\n",
       "<style scoped>\n",
       "    .dataframe tbody tr th:only-of-type {\n",
       "        vertical-align: middle;\n",
       "    }\n",
       "\n",
       "    .dataframe tbody tr th {\n",
       "        vertical-align: top;\n",
       "    }\n",
       "\n",
       "    .dataframe thead th {\n",
       "        text-align: right;\n",
       "    }\n",
       "</style>\n",
       "<table border=\"1\" class=\"dataframe\">\n",
       "  <thead>\n",
       "    <tr style=\"text-align: right;\">\n",
       "      <th></th>\n",
       "      <th>calories</th>\n",
       "      <th>duration</th>\n",
       "    </tr>\n",
       "  </thead>\n",
       "  <tbody>\n",
       "    <tr>\n",
       "      <th>day1</th>\n",
       "      <td>420</td>\n",
       "      <td>50</td>\n",
       "    </tr>\n",
       "    <tr>\n",
       "      <th>day2</th>\n",
       "      <td>380</td>\n",
       "      <td>40</td>\n",
       "    </tr>\n",
       "    <tr>\n",
       "      <th>day3</th>\n",
       "      <td>390</td>\n",
       "      <td>45</td>\n",
       "    </tr>\n",
       "    <tr>\n",
       "      <th>day4</th>\n",
       "      <td>680</td>\n",
       "      <td>49</td>\n",
       "    </tr>\n",
       "    <tr>\n",
       "      <th>day5</th>\n",
       "      <td>700</td>\n",
       "      <td>89</td>\n",
       "    </tr>\n",
       "  </tbody>\n",
       "</table>\n",
       "</div>"
      ],
      "text/plain": [
       "      calories  duration\n",
       "day1       420        50\n",
       "day2       380        40\n",
       "day3       390        45\n",
       "day4       680        49\n",
       "day5       700        89"
      ]
     },
     "execution_count": 50,
     "metadata": {},
     "output_type": "execute_result"
    }
   ],
   "source": [
    "df=pd.DataFrame(data,index=['day1','day2', 'day3', 'day4', 'day5'])\n",
    "df"
   ]
  },
  {
   "cell_type": "code",
   "execution_count": 51,
   "id": "a06f5d5d",
   "metadata": {},
   "outputs": [
    {
     "name": "stdout",
     "output_type": "stream",
     "text": [
      "calories    380\n",
      "duration     40\n",
      "Name: day2, dtype: int64\n"
     ]
    }
   ],
   "source": [
    "# named index\n",
    "print(df.loc['day2'])"
   ]
  },
  {
   "cell_type": "code",
   "execution_count": 52,
   "id": "99e43dea",
   "metadata": {},
   "outputs": [
    {
     "name": "stdout",
     "output_type": "stream",
     "text": [
      "calories    420\n",
      "duration     50\n",
      "Name: day1, dtype: int64\n"
     ]
    }
   ],
   "source": [
    "print(df.loc['day1'])"
   ]
  },
  {
   "cell_type": "code",
   "execution_count": 53,
   "id": "9aabdabb",
   "metadata": {},
   "outputs": [],
   "source": [
    "# acceessing the columns"
   ]
  },
  {
   "cell_type": "code",
   "execution_count": 54,
   "id": "d3d61b1e",
   "metadata": {},
   "outputs": [
    {
     "name": "stdout",
     "output_type": "stream",
     "text": [
      "day1    420\n",
      "day2    380\n",
      "day3    390\n",
      "day4    680\n",
      "day5    700\n",
      "Name: calories, dtype: int64\n"
     ]
    }
   ],
   "source": [
    "print(df['calories'])"
   ]
  },
  {
   "cell_type": "code",
   "execution_count": 56,
   "id": "84c3c8bd",
   "metadata": {},
   "outputs": [
    {
     "name": "stdout",
     "output_type": "stream",
     "text": [
      "      calories  duration\n",
      "day1       420        50\n",
      "day2       380        40\n",
      "day3       390        45\n",
      "day4       680        49\n",
      "day5       700        89\n"
     ]
    }
   ],
   "source": [
    "print(df[['calories','duration']])"
   ]
  },
  {
   "cell_type": "code",
   "execution_count": 57,
   "id": "297160dd",
   "metadata": {},
   "outputs": [
    {
     "data": {
      "text/html": [
       "<div>\n",
       "<style scoped>\n",
       "    .dataframe tbody tr th:only-of-type {\n",
       "        vertical-align: middle;\n",
       "    }\n",
       "\n",
       "    .dataframe tbody tr th {\n",
       "        vertical-align: top;\n",
       "    }\n",
       "\n",
       "    .dataframe thead th {\n",
       "        text-align: right;\n",
       "    }\n",
       "</style>\n",
       "<table border=\"1\" class=\"dataframe\">\n",
       "  <thead>\n",
       "    <tr style=\"text-align: right;\">\n",
       "      <th></th>\n",
       "      <th>calories</th>\n",
       "      <th>duration</th>\n",
       "    </tr>\n",
       "  </thead>\n",
       "  <tbody>\n",
       "    <tr>\n",
       "      <th>day1</th>\n",
       "      <td>420</td>\n",
       "      <td>50</td>\n",
       "    </tr>\n",
       "    <tr>\n",
       "      <th>day2</th>\n",
       "      <td>380</td>\n",
       "      <td>40</td>\n",
       "    </tr>\n",
       "    <tr>\n",
       "      <th>day3</th>\n",
       "      <td>390</td>\n",
       "      <td>45</td>\n",
       "    </tr>\n",
       "    <tr>\n",
       "      <th>day4</th>\n",
       "      <td>680</td>\n",
       "      <td>49</td>\n",
       "    </tr>\n",
       "    <tr>\n",
       "      <th>day5</th>\n",
       "      <td>700</td>\n",
       "      <td>89</td>\n",
       "    </tr>\n",
       "  </tbody>\n",
       "</table>\n",
       "</div>"
      ],
      "text/plain": [
       "      calories  duration\n",
       "day1       420        50\n",
       "day2       380        40\n",
       "day3       390        45\n",
       "day4       680        49\n",
       "day5       700        89"
      ]
     },
     "execution_count": 57,
     "metadata": {},
     "output_type": "execute_result"
    }
   ],
   "source": [
    "df"
   ]
  },
  {
   "cell_type": "code",
   "execution_count": 58,
   "id": "4be66c3f",
   "metadata": {},
   "outputs": [
    {
     "data": {
      "text/plain": [
       "day1    420\n",
       "day2    380\n",
       "day3    390\n",
       "day4    680\n",
       "day5    700\n",
       "Name: calories, dtype: int64"
      ]
     },
     "execution_count": 58,
     "metadata": {},
     "output_type": "execute_result"
    }
   ],
   "source": [
    "df.calories"
   ]
  },
  {
   "cell_type": "code",
   "execution_count": 59,
   "id": "acdbb77b",
   "metadata": {},
   "outputs": [
    {
     "data": {
      "text/plain": [
       "day1    50\n",
       "day2    40\n",
       "day3    45\n",
       "day4    49\n",
       "day5    89\n",
       "Name: duration, dtype: int64"
      ]
     },
     "execution_count": 59,
     "metadata": {},
     "output_type": "execute_result"
    }
   ],
   "source": [
    "df.duration"
   ]
  },
  {
   "cell_type": "code",
   "execution_count": 60,
   "id": "4c5400ad",
   "metadata": {},
   "outputs": [
    {
     "data": {
      "text/plain": [
       "700"
      ]
     },
     "execution_count": 60,
     "metadata": {},
     "output_type": "execute_result"
    }
   ],
   "source": [
    "df['calories'].max()"
   ]
  },
  {
   "cell_type": "code",
   "execution_count": 61,
   "id": "965cd672",
   "metadata": {},
   "outputs": [
    {
     "data": {
      "text/plain": [
       "380"
      ]
     },
     "execution_count": 61,
     "metadata": {},
     "output_type": "execute_result"
    }
   ],
   "source": [
    "df['calories'].min()"
   ]
  },
  {
   "cell_type": "code",
   "execution_count": 62,
   "id": "ce56bd5e",
   "metadata": {},
   "outputs": [
    {
     "data": {
      "text/plain": [
       "day1    50\n",
       "day2    40\n",
       "day3    45\n",
       "day4    49\n",
       "day5    89\n",
       "Name: duration, dtype: int64"
      ]
     },
     "execution_count": 62,
     "metadata": {},
     "output_type": "execute_result"
    }
   ],
   "source": [
    "df['duration']"
   ]
  },
  {
   "cell_type": "code",
   "execution_count": 63,
   "id": "318e108a",
   "metadata": {},
   "outputs": [
    {
     "data": {
      "text/html": [
       "<div>\n",
       "<style scoped>\n",
       "    .dataframe tbody tr th:only-of-type {\n",
       "        vertical-align: middle;\n",
       "    }\n",
       "\n",
       "    .dataframe tbody tr th {\n",
       "        vertical-align: top;\n",
       "    }\n",
       "\n",
       "    .dataframe thead th {\n",
       "        text-align: right;\n",
       "    }\n",
       "</style>\n",
       "<table border=\"1\" class=\"dataframe\">\n",
       "  <thead>\n",
       "    <tr style=\"text-align: right;\">\n",
       "      <th></th>\n",
       "      <th>calories</th>\n",
       "      <th>duration</th>\n",
       "    </tr>\n",
       "  </thead>\n",
       "  <tbody>\n",
       "    <tr>\n",
       "      <th>count</th>\n",
       "      <td>5.000000</td>\n",
       "      <td>5.00000</td>\n",
       "    </tr>\n",
       "    <tr>\n",
       "      <th>mean</th>\n",
       "      <td>514.000000</td>\n",
       "      <td>54.60000</td>\n",
       "    </tr>\n",
       "    <tr>\n",
       "      <th>std</th>\n",
       "      <td>161.493034</td>\n",
       "      <td>19.62906</td>\n",
       "    </tr>\n",
       "    <tr>\n",
       "      <th>min</th>\n",
       "      <td>380.000000</td>\n",
       "      <td>40.00000</td>\n",
       "    </tr>\n",
       "    <tr>\n",
       "      <th>25%</th>\n",
       "      <td>390.000000</td>\n",
       "      <td>45.00000</td>\n",
       "    </tr>\n",
       "    <tr>\n",
       "      <th>50%</th>\n",
       "      <td>420.000000</td>\n",
       "      <td>49.00000</td>\n",
       "    </tr>\n",
       "    <tr>\n",
       "      <th>75%</th>\n",
       "      <td>680.000000</td>\n",
       "      <td>50.00000</td>\n",
       "    </tr>\n",
       "    <tr>\n",
       "      <th>max</th>\n",
       "      <td>700.000000</td>\n",
       "      <td>89.00000</td>\n",
       "    </tr>\n",
       "  </tbody>\n",
       "</table>\n",
       "</div>"
      ],
      "text/plain": [
       "         calories  duration\n",
       "count    5.000000   5.00000\n",
       "mean   514.000000  54.60000\n",
       "std    161.493034  19.62906\n",
       "min    380.000000  40.00000\n",
       "25%    390.000000  45.00000\n",
       "50%    420.000000  49.00000\n",
       "75%    680.000000  50.00000\n",
       "max    700.000000  89.00000"
      ]
     },
     "execution_count": 63,
     "metadata": {},
     "output_type": "execute_result"
    }
   ],
   "source": [
    "df.describe()"
   ]
  },
  {
   "cell_type": "markdown",
   "id": "79b9a333",
   "metadata": {},
   "source": [
    "### Loading of Data (Read and Write Opeartion)"
   ]
  },
  {
   "cell_type": "code",
   "execution_count": 73,
   "id": "883ba93e",
   "metadata": {},
   "outputs": [
    {
     "data": {
      "text/html": [
       "<div>\n",
       "<style scoped>\n",
       "    .dataframe tbody tr th:only-of-type {\n",
       "        vertical-align: middle;\n",
       "    }\n",
       "\n",
       "    .dataframe tbody tr th {\n",
       "        vertical-align: top;\n",
       "    }\n",
       "\n",
       "    .dataframe thead th {\n",
       "        text-align: right;\n",
       "    }\n",
       "</style>\n",
       "<table border=\"1\" class=\"dataframe\">\n",
       "  <thead>\n",
       "    <tr style=\"text-align: right;\">\n",
       "      <th></th>\n",
       "      <th>datetime</th>\n",
       "      <th>station_antwerp</th>\n",
       "      <th>station_paris</th>\n",
       "      <th>station_london</th>\n",
       "    </tr>\n",
       "  </thead>\n",
       "  <tbody>\n",
       "    <tr>\n",
       "      <th>0</th>\n",
       "      <td>2019-05-07 02:00:00</td>\n",
       "      <td>NaN</td>\n",
       "      <td>NaN</td>\n",
       "      <td>23.0</td>\n",
       "    </tr>\n",
       "    <tr>\n",
       "      <th>1</th>\n",
       "      <td>2019-05-07 03:00:00</td>\n",
       "      <td>50.5</td>\n",
       "      <td>25.0</td>\n",
       "      <td>19.0</td>\n",
       "    </tr>\n",
       "    <tr>\n",
       "      <th>2</th>\n",
       "      <td>2019-05-07 04:00:00</td>\n",
       "      <td>45.0</td>\n",
       "      <td>27.7</td>\n",
       "      <td>19.0</td>\n",
       "    </tr>\n",
       "    <tr>\n",
       "      <th>3</th>\n",
       "      <td>2019-05-07 05:00:00</td>\n",
       "      <td>NaN</td>\n",
       "      <td>50.4</td>\n",
       "      <td>16.0</td>\n",
       "    </tr>\n",
       "    <tr>\n",
       "      <th>4</th>\n",
       "      <td>2019-05-07 06:00:00</td>\n",
       "      <td>NaN</td>\n",
       "      <td>61.9</td>\n",
       "      <td>NaN</td>\n",
       "    </tr>\n",
       "    <tr>\n",
       "      <th>...</th>\n",
       "      <td>...</td>\n",
       "      <td>...</td>\n",
       "      <td>...</td>\n",
       "      <td>...</td>\n",
       "    </tr>\n",
       "    <tr>\n",
       "      <th>1030</th>\n",
       "      <td>2019-06-20 22:00:00</td>\n",
       "      <td>NaN</td>\n",
       "      <td>21.4</td>\n",
       "      <td>NaN</td>\n",
       "    </tr>\n",
       "    <tr>\n",
       "      <th>1031</th>\n",
       "      <td>2019-06-20 23:00:00</td>\n",
       "      <td>NaN</td>\n",
       "      <td>24.9</td>\n",
       "      <td>NaN</td>\n",
       "    </tr>\n",
       "    <tr>\n",
       "      <th>1032</th>\n",
       "      <td>2019-06-21 00:00:00</td>\n",
       "      <td>NaN</td>\n",
       "      <td>26.5</td>\n",
       "      <td>NaN</td>\n",
       "    </tr>\n",
       "    <tr>\n",
       "      <th>1033</th>\n",
       "      <td>2019-06-21 01:00:00</td>\n",
       "      <td>NaN</td>\n",
       "      <td>21.8</td>\n",
       "      <td>NaN</td>\n",
       "    </tr>\n",
       "    <tr>\n",
       "      <th>1034</th>\n",
       "      <td>2019-06-21 02:00:00</td>\n",
       "      <td>NaN</td>\n",
       "      <td>20.0</td>\n",
       "      <td>NaN</td>\n",
       "    </tr>\n",
       "  </tbody>\n",
       "</table>\n",
       "<p>1035 rows × 4 columns</p>\n",
       "</div>"
      ],
      "text/plain": [
       "                 datetime  station_antwerp  station_paris  station_london\n",
       "0     2019-05-07 02:00:00              NaN            NaN            23.0\n",
       "1     2019-05-07 03:00:00             50.5           25.0            19.0\n",
       "2     2019-05-07 04:00:00             45.0           27.7            19.0\n",
       "3     2019-05-07 05:00:00              NaN           50.4            16.0\n",
       "4     2019-05-07 06:00:00              NaN           61.9             NaN\n",
       "...                   ...              ...            ...             ...\n",
       "1030  2019-06-20 22:00:00              NaN           21.4             NaN\n",
       "1031  2019-06-20 23:00:00              NaN           24.9             NaN\n",
       "1032  2019-06-21 00:00:00              NaN           26.5             NaN\n",
       "1033  2019-06-21 01:00:00              NaN           21.8             NaN\n",
       "1034  2019-06-21 02:00:00              NaN           20.0             NaN\n",
       "\n",
       "[1035 rows x 4 columns]"
      ]
     },
     "execution_count": 73,
     "metadata": {},
     "output_type": "execute_result"
    }
   ],
   "source": [
    "df = pd.read_csv('air_quality.csv')\n",
    "df"
   ]
  },
  {
   "cell_type": "code",
   "execution_count": 74,
   "id": "bff82bfc",
   "metadata": {},
   "outputs": [
    {
     "data": {
      "text/html": [
       "<div>\n",
       "<style scoped>\n",
       "    .dataframe tbody tr th:only-of-type {\n",
       "        vertical-align: middle;\n",
       "    }\n",
       "\n",
       "    .dataframe tbody tr th {\n",
       "        vertical-align: top;\n",
       "    }\n",
       "\n",
       "    .dataframe thead th {\n",
       "        text-align: right;\n",
       "    }\n",
       "</style>\n",
       "<table border=\"1\" class=\"dataframe\">\n",
       "  <thead>\n",
       "    <tr style=\"text-align: right;\">\n",
       "      <th></th>\n",
       "      <th>datetime</th>\n",
       "      <th>station_antwerp</th>\n",
       "      <th>station_paris</th>\n",
       "      <th>station_london</th>\n",
       "    </tr>\n",
       "  </thead>\n",
       "  <tbody>\n",
       "    <tr>\n",
       "      <th>0</th>\n",
       "      <td>2019-05-07 02:00:00</td>\n",
       "      <td>NaN</td>\n",
       "      <td>NaN</td>\n",
       "      <td>23.0</td>\n",
       "    </tr>\n",
       "    <tr>\n",
       "      <th>1</th>\n",
       "      <td>2019-05-07 03:00:00</td>\n",
       "      <td>50.5</td>\n",
       "      <td>25.0</td>\n",
       "      <td>19.0</td>\n",
       "    </tr>\n",
       "    <tr>\n",
       "      <th>2</th>\n",
       "      <td>2019-05-07 04:00:00</td>\n",
       "      <td>45.0</td>\n",
       "      <td>27.7</td>\n",
       "      <td>19.0</td>\n",
       "    </tr>\n",
       "    <tr>\n",
       "      <th>3</th>\n",
       "      <td>2019-05-07 05:00:00</td>\n",
       "      <td>NaN</td>\n",
       "      <td>50.4</td>\n",
       "      <td>16.0</td>\n",
       "    </tr>\n",
       "    <tr>\n",
       "      <th>4</th>\n",
       "      <td>2019-05-07 06:00:00</td>\n",
       "      <td>NaN</td>\n",
       "      <td>61.9</td>\n",
       "      <td>NaN</td>\n",
       "    </tr>\n",
       "    <tr>\n",
       "      <th>...</th>\n",
       "      <td>...</td>\n",
       "      <td>...</td>\n",
       "      <td>...</td>\n",
       "      <td>...</td>\n",
       "    </tr>\n",
       "    <tr>\n",
       "      <th>1030</th>\n",
       "      <td>2019-06-20 22:00:00</td>\n",
       "      <td>NaN</td>\n",
       "      <td>21.4</td>\n",
       "      <td>NaN</td>\n",
       "    </tr>\n",
       "    <tr>\n",
       "      <th>1031</th>\n",
       "      <td>2019-06-20 23:00:00</td>\n",
       "      <td>NaN</td>\n",
       "      <td>24.9</td>\n",
       "      <td>NaN</td>\n",
       "    </tr>\n",
       "    <tr>\n",
       "      <th>1032</th>\n",
       "      <td>2019-06-21 00:00:00</td>\n",
       "      <td>NaN</td>\n",
       "      <td>26.5</td>\n",
       "      <td>NaN</td>\n",
       "    </tr>\n",
       "    <tr>\n",
       "      <th>1033</th>\n",
       "      <td>2019-06-21 01:00:00</td>\n",
       "      <td>NaN</td>\n",
       "      <td>21.8</td>\n",
       "      <td>NaN</td>\n",
       "    </tr>\n",
       "    <tr>\n",
       "      <th>1034</th>\n",
       "      <td>2019-06-21 02:00:00</td>\n",
       "      <td>NaN</td>\n",
       "      <td>20.0</td>\n",
       "      <td>NaN</td>\n",
       "    </tr>\n",
       "  </tbody>\n",
       "</table>\n",
       "<p>1035 rows × 4 columns</p>\n",
       "</div>"
      ],
      "text/plain": [
       "                 datetime  station_antwerp  station_paris  station_london\n",
       "0     2019-05-07 02:00:00              NaN            NaN            23.0\n",
       "1     2019-05-07 03:00:00             50.5           25.0            19.0\n",
       "2     2019-05-07 04:00:00             45.0           27.7            19.0\n",
       "3     2019-05-07 05:00:00              NaN           50.4            16.0\n",
       "4     2019-05-07 06:00:00              NaN           61.9             NaN\n",
       "...                   ...              ...            ...             ...\n",
       "1030  2019-06-20 22:00:00              NaN           21.4             NaN\n",
       "1031  2019-06-20 23:00:00              NaN           24.9             NaN\n",
       "1032  2019-06-21 00:00:00              NaN           26.5             NaN\n",
       "1033  2019-06-21 01:00:00              NaN           21.8             NaN\n",
       "1034  2019-06-21 02:00:00              NaN           20.0             NaN\n",
       "\n",
       "[1035 rows x 4 columns]"
      ]
     },
     "execution_count": 74,
     "metadata": {},
     "output_type": "execute_result"
    }
   ],
   "source": [
    "df"
   ]
  },
  {
   "cell_type": "code",
   "execution_count": 75,
   "id": "6e2e856c",
   "metadata": {
    "scrolled": true
   },
   "outputs": [
    {
     "data": {
      "text/html": [
       "<div>\n",
       "<style scoped>\n",
       "    .dataframe tbody tr th:only-of-type {\n",
       "        vertical-align: middle;\n",
       "    }\n",
       "\n",
       "    .dataframe tbody tr th {\n",
       "        vertical-align: top;\n",
       "    }\n",
       "\n",
       "    .dataframe thead th {\n",
       "        text-align: right;\n",
       "    }\n",
       "</style>\n",
       "<table border=\"1\" class=\"dataframe\">\n",
       "  <thead>\n",
       "    <tr style=\"text-align: right;\">\n",
       "      <th></th>\n",
       "      <th>datetime</th>\n",
       "      <th>station_antwerp</th>\n",
       "      <th>station_paris</th>\n",
       "      <th>station_london</th>\n",
       "    </tr>\n",
       "  </thead>\n",
       "  <tbody>\n",
       "    <tr>\n",
       "      <th>0</th>\n",
       "      <td>2019-05-07 02:00:00</td>\n",
       "      <td>NaN</td>\n",
       "      <td>NaN</td>\n",
       "      <td>23.0</td>\n",
       "    </tr>\n",
       "    <tr>\n",
       "      <th>1</th>\n",
       "      <td>2019-05-07 03:00:00</td>\n",
       "      <td>50.5</td>\n",
       "      <td>25.0</td>\n",
       "      <td>19.0</td>\n",
       "    </tr>\n",
       "    <tr>\n",
       "      <th>2</th>\n",
       "      <td>2019-05-07 04:00:00</td>\n",
       "      <td>45.0</td>\n",
       "      <td>27.7</td>\n",
       "      <td>19.0</td>\n",
       "    </tr>\n",
       "    <tr>\n",
       "      <th>3</th>\n",
       "      <td>2019-05-07 05:00:00</td>\n",
       "      <td>NaN</td>\n",
       "      <td>50.4</td>\n",
       "      <td>16.0</td>\n",
       "    </tr>\n",
       "    <tr>\n",
       "      <th>4</th>\n",
       "      <td>2019-05-07 06:00:00</td>\n",
       "      <td>NaN</td>\n",
       "      <td>61.9</td>\n",
       "      <td>NaN</td>\n",
       "    </tr>\n",
       "  </tbody>\n",
       "</table>\n",
       "</div>"
      ],
      "text/plain": [
       "              datetime  station_antwerp  station_paris  station_london\n",
       "0  2019-05-07 02:00:00              NaN            NaN            23.0\n",
       "1  2019-05-07 03:00:00             50.5           25.0            19.0\n",
       "2  2019-05-07 04:00:00             45.0           27.7            19.0\n",
       "3  2019-05-07 05:00:00              NaN           50.4            16.0\n",
       "4  2019-05-07 06:00:00              NaN           61.9             NaN"
      ]
     },
     "execution_count": 75,
     "metadata": {},
     "output_type": "execute_result"
    }
   ],
   "source": [
    "df.head()"
   ]
  },
  {
   "cell_type": "code",
   "execution_count": 76,
   "id": "e7b01f98",
   "metadata": {},
   "outputs": [],
   "source": [
    "# NaN = Not a Number"
   ]
  },
  {
   "cell_type": "code",
   "execution_count": 77,
   "id": "b0fdf600",
   "metadata": {},
   "outputs": [
    {
     "data": {
      "text/html": [
       "<div>\n",
       "<style scoped>\n",
       "    .dataframe tbody tr th:only-of-type {\n",
       "        vertical-align: middle;\n",
       "    }\n",
       "\n",
       "    .dataframe tbody tr th {\n",
       "        vertical-align: top;\n",
       "    }\n",
       "\n",
       "    .dataframe thead th {\n",
       "        text-align: right;\n",
       "    }\n",
       "</style>\n",
       "<table border=\"1\" class=\"dataframe\">\n",
       "  <thead>\n",
       "    <tr style=\"text-align: right;\">\n",
       "      <th></th>\n",
       "      <th>datetime</th>\n",
       "      <th>station_antwerp</th>\n",
       "      <th>station_paris</th>\n",
       "      <th>station_london</th>\n",
       "    </tr>\n",
       "  </thead>\n",
       "  <tbody>\n",
       "    <tr>\n",
       "      <th>1030</th>\n",
       "      <td>2019-06-20 22:00:00</td>\n",
       "      <td>NaN</td>\n",
       "      <td>21.4</td>\n",
       "      <td>NaN</td>\n",
       "    </tr>\n",
       "    <tr>\n",
       "      <th>1031</th>\n",
       "      <td>2019-06-20 23:00:00</td>\n",
       "      <td>NaN</td>\n",
       "      <td>24.9</td>\n",
       "      <td>NaN</td>\n",
       "    </tr>\n",
       "    <tr>\n",
       "      <th>1032</th>\n",
       "      <td>2019-06-21 00:00:00</td>\n",
       "      <td>NaN</td>\n",
       "      <td>26.5</td>\n",
       "      <td>NaN</td>\n",
       "    </tr>\n",
       "    <tr>\n",
       "      <th>1033</th>\n",
       "      <td>2019-06-21 01:00:00</td>\n",
       "      <td>NaN</td>\n",
       "      <td>21.8</td>\n",
       "      <td>NaN</td>\n",
       "    </tr>\n",
       "    <tr>\n",
       "      <th>1034</th>\n",
       "      <td>2019-06-21 02:00:00</td>\n",
       "      <td>NaN</td>\n",
       "      <td>20.0</td>\n",
       "      <td>NaN</td>\n",
       "    </tr>\n",
       "  </tbody>\n",
       "</table>\n",
       "</div>"
      ],
      "text/plain": [
       "                 datetime  station_antwerp  station_paris  station_london\n",
       "1030  2019-06-20 22:00:00              NaN           21.4             NaN\n",
       "1031  2019-06-20 23:00:00              NaN           24.9             NaN\n",
       "1032  2019-06-21 00:00:00              NaN           26.5             NaN\n",
       "1033  2019-06-21 01:00:00              NaN           21.8             NaN\n",
       "1034  2019-06-21 02:00:00              NaN           20.0             NaN"
      ]
     },
     "execution_count": 77,
     "metadata": {},
     "output_type": "execute_result"
    }
   ],
   "source": [
    "df.tail()"
   ]
  },
  {
   "cell_type": "code",
   "execution_count": 78,
   "id": "2cbf7270",
   "metadata": {},
   "outputs": [
    {
     "data": {
      "text/plain": [
       "<bound method NDFrame.abs of                  datetime  station_antwerp  station_paris  station_london\n",
       "0     2019-05-07 02:00:00              NaN            NaN            23.0\n",
       "1     2019-05-07 03:00:00             50.5           25.0            19.0\n",
       "2     2019-05-07 04:00:00             45.0           27.7            19.0\n",
       "3     2019-05-07 05:00:00              NaN           50.4            16.0\n",
       "4     2019-05-07 06:00:00              NaN           61.9             NaN\n",
       "...                   ...              ...            ...             ...\n",
       "1030  2019-06-20 22:00:00              NaN           21.4             NaN\n",
       "1031  2019-06-20 23:00:00              NaN           24.9             NaN\n",
       "1032  2019-06-21 00:00:00              NaN           26.5             NaN\n",
       "1033  2019-06-21 01:00:00              NaN           21.8             NaN\n",
       "1034  2019-06-21 02:00:00              NaN           20.0             NaN\n",
       "\n",
       "[1035 rows x 4 columns]>"
      ]
     },
     "execution_count": 78,
     "metadata": {},
     "output_type": "execute_result"
    }
   ],
   "source": [
    "df.abs"
   ]
  },
  {
   "cell_type": "code",
   "execution_count": 79,
   "id": "b6adc5ac",
   "metadata": {},
   "outputs": [
    {
     "name": "stdout",
     "output_type": "stream",
     "text": [
      "<class 'pandas.core.frame.DataFrame'>\n",
      "RangeIndex: 1035 entries, 0 to 1034\n",
      "Data columns (total 4 columns):\n",
      " #   Column           Non-Null Count  Dtype  \n",
      "---  ------           --------------  -----  \n",
      " 0   datetime         1035 non-null   object \n",
      " 1   station_antwerp  95 non-null     float64\n",
      " 2   station_paris    1004 non-null   float64\n",
      " 3   station_london   969 non-null    float64\n",
      "dtypes: float64(3), object(1)\n",
      "memory usage: 32.5+ KB\n"
     ]
    }
   ],
   "source": [
    "df.info()"
   ]
  },
  {
   "cell_type": "markdown",
   "id": "1e6e4a85",
   "metadata": {},
   "source": [
    "###### write opeartion df to excel file"
   ]
  },
  {
   "cell_type": "code",
   "execution_count": 80,
   "id": "0fc896d1",
   "metadata": {},
   "outputs": [],
   "source": [
    "# ! pip install openpyxl"
   ]
  },
  {
   "cell_type": "code",
   "execution_count": 81,
   "id": "13e3f5f2",
   "metadata": {},
   "outputs": [],
   "source": [
    "# df.to_excel(\"air_quality2.xlsx\", sheet_name=\"air_quality2\")"
   ]
  },
  {
   "cell_type": "code",
   "execution_count": 82,
   "id": "6530b93e",
   "metadata": {},
   "outputs": [],
   "source": [
    "# %ls # see the result (this is linux command for checking result)"
   ]
  },
  {
   "cell_type": "markdown",
   "id": "3b12d90e",
   "metadata": {},
   "source": [
    "###### to print entire dataframe use \"to_string()\" function"
   ]
  },
  {
   "cell_type": "code",
   "execution_count": 83,
   "id": "c2af85c5",
   "metadata": {},
   "outputs": [
    {
     "name": "stdout",
     "output_type": "stream",
     "text": [
      "                 datetime  station_antwerp  station_paris  station_london\n",
      "0     2019-05-07 02:00:00              NaN            NaN            23.0\n",
      "1     2019-05-07 03:00:00             50.5           25.0            19.0\n",
      "2     2019-05-07 04:00:00             45.0           27.7            19.0\n",
      "3     2019-05-07 05:00:00              NaN           50.4            16.0\n",
      "4     2019-05-07 06:00:00              NaN           61.9             NaN\n",
      "5     2019-05-07 07:00:00              NaN           72.4            26.0\n",
      "6     2019-05-07 08:00:00              NaN           77.7            32.0\n",
      "7     2019-05-07 09:00:00              NaN           67.9            32.0\n",
      "8     2019-05-07 10:00:00              NaN           56.0            28.0\n",
      "9     2019-05-07 11:00:00              NaN           34.5            21.0\n",
      "10    2019-05-07 12:00:00              NaN           20.1            21.0\n",
      "11    2019-05-07 13:00:00              NaN           13.0            18.0\n",
      "12    2019-05-07 14:00:00              NaN           10.6            20.0\n",
      "13    2019-05-07 15:00:00              NaN           13.2            18.0\n",
      "14    2019-05-07 16:00:00              NaN           11.0            20.0\n",
      "15    2019-05-07 17:00:00              NaN           11.7            20.0\n",
      "16    2019-05-07 18:00:00              NaN           18.2            21.0\n",
      "17    2019-05-07 19:00:00              NaN           22.3            20.0\n",
      "18    2019-05-07 20:00:00              NaN           21.4            20.0\n",
      "19    2019-05-07 21:00:00              NaN           26.8            24.0\n",
      "20    2019-05-07 22:00:00              NaN           36.2            24.0\n",
      "21    2019-05-07 23:00:00              NaN           33.9             NaN\n",
      "22    2019-05-08 00:00:00              NaN           35.8            24.0\n",
      "23    2019-05-08 01:00:00              NaN           34.0            19.0\n",
      "24    2019-05-08 02:00:00              NaN           22.1            19.0\n",
      "25    2019-05-08 03:00:00             23.0           19.6            20.0\n",
      "26    2019-05-08 04:00:00             20.5           15.3            20.0\n",
      "27    2019-05-08 05:00:00              NaN           13.5            19.0\n",
      "28    2019-05-08 06:00:00              NaN           15.5            19.0\n",
      "29    2019-05-08 07:00:00              NaN           19.3            29.0\n",
      "30    2019-05-08 08:00:00              NaN           21.7            34.0\n",
      "31    2019-05-08 09:00:00              NaN           19.5            36.0\n",
      "32    2019-05-08 10:00:00              NaN           17.0            33.0\n",
      "33    2019-05-08 11:00:00              NaN           19.7            28.0\n",
      "34    2019-05-08 12:00:00              NaN           33.4            27.0\n",
      "35    2019-05-08 13:00:00              NaN           21.4            26.0\n",
      "36    2019-05-08 14:00:00              NaN           15.1            26.0\n",
      "37    2019-05-08 15:00:00              NaN           14.3            24.0\n",
      "38    2019-05-08 16:00:00              NaN           25.3            27.0\n",
      "39    2019-05-08 17:00:00              NaN           26.0            28.0\n",
      "40    2019-05-08 18:00:00              NaN           38.6            31.0\n",
      "41    2019-05-08 19:00:00              NaN           29.3            40.0\n",
      "42    2019-05-08 20:00:00              NaN           27.8            25.0\n",
      "43    2019-05-08 21:00:00              NaN           41.3            29.0\n",
      "44    2019-05-08 22:00:00              NaN           38.3            26.0\n",
      "45    2019-05-08 23:00:00              NaN           48.9             NaN\n",
      "46    2019-05-09 00:00:00              NaN           32.2            25.0\n",
      "47    2019-05-09 01:00:00              NaN           25.2            30.0\n",
      "48    2019-05-09 02:00:00              NaN           14.7             NaN\n",
      "49    2019-05-09 03:00:00             20.0           10.6            31.0\n",
      "50    2019-05-09 04:00:00             20.5           10.0            31.0\n",
      "51    2019-05-09 05:00:00              NaN           10.4            33.0\n",
      "52    2019-05-09 06:00:00              NaN           15.3            33.0\n",
      "53    2019-05-09 07:00:00              NaN           34.5            33.0\n",
      "54    2019-05-09 08:00:00              NaN           50.7            33.0\n",
      "55    2019-05-09 09:00:00              NaN           49.0            35.0\n",
      "56    2019-05-09 10:00:00              NaN           32.2            36.0\n",
      "57    2019-05-09 11:00:00              NaN           32.3            28.0\n",
      "58    2019-05-09 12:00:00              NaN           43.1            27.0\n",
      "59    2019-05-09 13:00:00              NaN           34.2            30.0\n",
      "60    2019-05-09 14:00:00              NaN           35.1            27.0\n",
      "61    2019-05-09 15:00:00              NaN           21.3            34.0\n",
      "62    2019-05-09 16:00:00              NaN           24.6            97.0\n",
      "63    2019-05-09 17:00:00              NaN           23.9            67.0\n",
      "64    2019-05-09 18:00:00              NaN           27.0            60.0\n",
      "65    2019-05-09 19:00:00              NaN           29.9            58.0\n",
      "66    2019-05-09 20:00:00              NaN           24.4            62.0\n",
      "67    2019-05-09 21:00:00              NaN           23.8            59.0\n",
      "68    2019-05-09 22:00:00              NaN           29.2            65.0\n",
      "69    2019-05-09 23:00:00              NaN           34.5            59.0\n",
      "70    2019-05-10 00:00:00              NaN           29.7            59.0\n",
      "71    2019-05-10 01:00:00              NaN           26.7            52.0\n",
      "72    2019-05-10 02:00:00              NaN           22.7            52.0\n",
      "73    2019-05-10 03:00:00             10.5           19.1            41.0\n",
      "74    2019-05-10 04:00:00             11.5           14.1            41.0\n",
      "75    2019-05-10 05:00:00              NaN           15.0            40.0\n",
      "76    2019-05-10 06:00:00              NaN           20.5            40.0\n",
      "77    2019-05-10 07:00:00              NaN           37.8            39.0\n",
      "78    2019-05-10 08:00:00              NaN           47.4            36.0\n",
      "79    2019-05-10 09:00:00              NaN           57.3            39.0\n",
      "80    2019-05-10 10:00:00              NaN           60.7            34.0\n",
      "81    2019-05-10 11:00:00              NaN           53.4            31.0\n",
      "82    2019-05-10 12:00:00              NaN           35.1            29.0\n",
      "83    2019-05-10 13:00:00              NaN           23.2            28.0\n",
      "84    2019-05-10 14:00:00              NaN           25.3            26.0\n",
      "85    2019-05-10 15:00:00              NaN           22.0            25.0\n",
      "86    2019-05-10 16:00:00              NaN           29.3            25.0\n",
      "87    2019-05-10 17:00:00              NaN           29.6            24.0\n",
      "88    2019-05-10 18:00:00              NaN           30.8            26.0\n",
      "89    2019-05-10 19:00:00              NaN           37.8            26.0\n",
      "90    2019-05-10 20:00:00              NaN           33.4            29.0\n",
      "91    2019-05-10 21:00:00              NaN           39.3            29.0\n",
      "92    2019-05-10 22:00:00              NaN           43.6            29.0\n",
      "93    2019-05-10 23:00:00              NaN           37.0            31.0\n",
      "94    2019-05-11 00:00:00              NaN           28.1            31.0\n",
      "95    2019-05-11 01:00:00              NaN           26.0            27.0\n",
      "96    2019-05-11 02:00:00              NaN           24.8            27.0\n",
      "97    2019-05-11 03:00:00             26.5           15.5            32.0\n",
      "98    2019-05-11 04:00:00             21.0           14.9            32.0\n",
      "99    2019-05-11 05:00:00              NaN            NaN            35.0\n",
      "100   2019-05-11 06:00:00              NaN            NaN            35.0\n",
      "101   2019-05-11 07:00:00              NaN            NaN            30.0\n",
      "102   2019-05-11 08:00:00              NaN           28.9            30.0\n",
      "103   2019-05-11 09:00:00              NaN           29.0            27.0\n",
      "104   2019-05-11 10:00:00              NaN           32.1            30.0\n",
      "105   2019-05-11 11:00:00              NaN           35.7             NaN\n",
      "106   2019-05-11 12:00:00              NaN           36.8             NaN\n",
      "107   2019-05-11 13:00:00              NaN           33.2             NaN\n",
      "108   2019-05-11 14:00:00              NaN           30.2             NaN\n",
      "109   2019-05-11 15:00:00              NaN           30.8             NaN\n",
      "110   2019-05-11 16:00:00              NaN           17.8            28.0\n",
      "111   2019-05-11 17:00:00              NaN           18.0            26.0\n",
      "112   2019-05-11 18:00:00              NaN           19.5            28.0\n",
      "113   2019-05-11 19:00:00              NaN           32.0            31.0\n",
      "114   2019-05-11 20:00:00              NaN           33.1            33.0\n",
      "115   2019-05-11 21:00:00              NaN           31.2            33.0\n",
      "116   2019-05-11 22:00:00              NaN           24.2            34.0\n",
      "117   2019-05-11 23:00:00              NaN           21.1            37.0\n",
      "118   2019-05-12 00:00:00              NaN           27.7            37.0\n",
      "119   2019-05-12 01:00:00              NaN           26.4            35.0\n",
      "120   2019-05-12 02:00:00              NaN           22.8            35.0\n",
      "121   2019-05-12 03:00:00             17.5           19.2            38.0\n",
      "122   2019-05-12 04:00:00             20.0           17.2            38.0\n",
      "123   2019-05-12 05:00:00              NaN           16.0            36.0\n",
      "124   2019-05-12 06:00:00              NaN           16.2            36.0\n",
      "125   2019-05-12 07:00:00              NaN           19.2            38.0\n",
      "126   2019-05-12 08:00:00              NaN           20.1            44.0\n",
      "127   2019-05-12 09:00:00              NaN           15.9            32.0\n",
      "128   2019-05-12 10:00:00              NaN           14.6            26.0\n",
      "129   2019-05-12 11:00:00              NaN           11.7            26.0\n",
      "130   2019-05-12 12:00:00              NaN           11.4            21.0\n",
      "131   2019-05-12 13:00:00              NaN           11.4            20.0\n",
      "132   2019-05-12 14:00:00              NaN           10.9            19.0\n",
      "133   2019-05-12 15:00:00              NaN            8.7            21.0\n",
      "134   2019-05-12 16:00:00              NaN            9.1            22.0\n",
      "135   2019-05-12 17:00:00              NaN            9.6            23.0\n",
      "136   2019-05-12 18:00:00              NaN           11.7            24.0\n",
      "137   2019-05-12 19:00:00              NaN           13.9            22.0\n",
      "138   2019-05-12 20:00:00              NaN           18.2            22.0\n",
      "139   2019-05-12 21:00:00              NaN           19.5            22.0\n",
      "140   2019-05-12 22:00:00              NaN           24.1            21.0\n",
      "141   2019-05-12 23:00:00              NaN           34.2            22.0\n",
      "142   2019-05-13 00:00:00              NaN           46.5            22.0\n",
      "143   2019-05-13 01:00:00              NaN           32.5            22.0\n",
      "144   2019-05-13 02:00:00              NaN           25.0            22.0\n",
      "145   2019-05-13 03:00:00             14.5           18.9            24.0\n",
      "146   2019-05-13 04:00:00             14.5           18.5            24.0\n",
      "147   2019-05-13 05:00:00              NaN           18.9            33.0\n",
      "148   2019-05-13 06:00:00              NaN           25.1            33.0\n",
      "149   2019-05-13 07:00:00              NaN           38.3            39.0\n",
      "150   2019-05-13 08:00:00              NaN           45.2            39.0\n",
      "151   2019-05-13 09:00:00              NaN           41.0            31.0\n",
      "152   2019-05-13 10:00:00              NaN           32.1            29.0\n",
      "153   2019-05-13 11:00:00              NaN           20.6            27.0\n",
      "154   2019-05-13 12:00:00              NaN           12.8            26.0\n",
      "155   2019-05-13 13:00:00              NaN            9.6            24.0\n",
      "156   2019-05-13 14:00:00              NaN            9.2            25.0\n",
      "157   2019-05-13 15:00:00              NaN           10.1            26.0\n",
      "158   2019-05-13 16:00:00              NaN           10.7            28.0\n",
      "159   2019-05-13 17:00:00              NaN           10.6            29.0\n",
      "160   2019-05-13 18:00:00              NaN           12.1            30.0\n",
      "161   2019-05-13 19:00:00              NaN           13.0            30.0\n",
      "162   2019-05-13 20:00:00              NaN           15.5            31.0\n",
      "163   2019-05-13 21:00:00              NaN           23.9            31.0\n",
      "164   2019-05-13 22:00:00              NaN           28.3            31.0\n",
      "165   2019-05-13 23:00:00              NaN           30.4            31.0\n",
      "166   2019-05-14 00:00:00              NaN           27.3            31.0\n",
      "167   2019-05-14 01:00:00              NaN           22.8            23.0\n",
      "168   2019-05-14 02:00:00              NaN           20.9            23.0\n",
      "169   2019-05-14 03:00:00             14.5           19.1            26.0\n",
      "170   2019-05-14 04:00:00             11.5           19.0            26.0\n",
      "171   2019-05-14 05:00:00              NaN           22.1            30.0\n",
      "172   2019-05-14 06:00:00              NaN           31.6            30.0\n",
      "173   2019-05-14 07:00:00              NaN           38.6            33.0\n",
      "174   2019-05-14 08:00:00              NaN           46.1            34.0\n",
      "175   2019-05-14 09:00:00              NaN           41.3            33.0\n",
      "176   2019-05-14 10:00:00              NaN           28.8            30.0\n",
      "177   2019-05-14 11:00:00              NaN           19.0            31.0\n",
      "178   2019-05-14 12:00:00              NaN           12.9            27.0\n",
      "179   2019-05-14 13:00:00              NaN           11.3            25.0\n",
      "180   2019-05-14 14:00:00              NaN           10.2            25.0\n",
      "181   2019-05-14 15:00:00              NaN           11.0            25.0\n",
      "182   2019-05-14 16:00:00              NaN           15.2            29.0\n",
      "183   2019-05-14 17:00:00              NaN           13.4            32.0\n",
      "184   2019-05-14 18:00:00              NaN           15.3            33.0\n",
      "185   2019-05-14 19:00:00              NaN           17.7             0.0\n",
      "186   2019-05-14 20:00:00              NaN           17.9             0.0\n",
      "187   2019-05-14 21:00:00              NaN           23.3             0.0\n",
      "188   2019-05-14 22:00:00              NaN           28.4            25.0\n",
      "189   2019-05-14 23:00:00              NaN           29.0            26.0\n",
      "190   2019-05-15 00:00:00              NaN           30.9            26.0\n",
      "191   2019-05-15 01:00:00              NaN           24.3            22.0\n",
      "192   2019-05-15 02:00:00              NaN           18.8             NaN\n",
      "193   2019-05-15 03:00:00             25.5           17.2            22.0\n",
      "194   2019-05-15 04:00:00             22.5           16.8            22.0\n",
      "195   2019-05-15 05:00:00              NaN           17.9            25.0\n",
      "196   2019-05-15 06:00:00              NaN           28.9            25.0\n",
      "197   2019-05-15 07:00:00              NaN           46.5            33.0\n",
      "198   2019-05-15 08:00:00              NaN           48.1            33.0\n",
      "199   2019-05-15 09:00:00              NaN           32.1            34.0\n",
      "200   2019-05-15 10:00:00              NaN           25.7            35.0\n",
      "201   2019-05-15 11:00:00              NaN            0.0            36.0\n",
      "202   2019-05-15 12:00:00              NaN            0.0            35.0\n",
      "203   2019-05-15 13:00:00              NaN            0.0            30.0\n",
      "204   2019-05-15 14:00:00              NaN            9.4            31.0\n",
      "205   2019-05-15 15:00:00              NaN           10.0            30.0\n",
      "206   2019-05-15 16:00:00              NaN           11.9            38.0\n",
      "207   2019-05-15 17:00:00              NaN           12.9            38.0\n",
      "208   2019-05-15 18:00:00              NaN           12.2            33.0\n",
      "209   2019-05-15 19:00:00              NaN           12.9            35.0\n",
      "210   2019-05-15 20:00:00              NaN           16.5            33.0\n",
      "211   2019-05-15 21:00:00              NaN           20.3            31.0\n",
      "212   2019-05-15 22:00:00              NaN           30.1            32.0\n",
      "213   2019-05-15 23:00:00              NaN           36.0            33.0\n",
      "214   2019-05-16 00:00:00              NaN           44.1            33.0\n",
      "215   2019-05-16 01:00:00              NaN           30.9            33.0\n",
      "216   2019-05-16 02:00:00              NaN           27.4            33.0\n",
      "217   2019-05-16 03:00:00             28.0           26.0            28.0\n",
      "218   2019-05-16 04:00:00              NaN           26.7            28.0\n",
      "219   2019-05-16 05:00:00              NaN           27.9            26.0\n",
      "220   2019-05-16 06:00:00              NaN           37.0            26.0\n",
      "221   2019-05-16 07:00:00              NaN           52.6            33.0\n",
      "222   2019-05-16 08:00:00              NaN            NaN            34.0\n",
      "223   2019-05-16 09:00:00              NaN           40.0            33.0\n",
      "224   2019-05-16 10:00:00              NaN           39.4            32.0\n",
      "225   2019-05-16 11:00:00              NaN           29.5            31.0\n",
      "226   2019-05-16 12:00:00              NaN           13.5            33.0\n",
      "227   2019-05-16 13:00:00              NaN           10.5            30.0\n",
      "228   2019-05-16 14:00:00              NaN            9.2            27.0\n",
      "229   2019-05-16 15:00:00              NaN            8.5            27.0\n",
      "230   2019-05-16 16:00:00              NaN            8.1            26.0\n",
      "231   2019-05-16 17:00:00              NaN           10.1            29.0\n",
      "232   2019-05-16 18:00:00              NaN           10.3            30.0\n",
      "233   2019-05-16 19:00:00              NaN           13.5            25.0\n",
      "234   2019-05-16 20:00:00              NaN           15.9            27.0\n",
      "235   2019-05-16 21:00:00              NaN           14.4            26.0\n",
      "236   2019-05-16 22:00:00              NaN           24.8            25.0\n",
      "237   2019-05-16 23:00:00              NaN           24.3            25.0\n",
      "238   2019-05-17 00:00:00              NaN           37.1            25.0\n",
      "239   2019-05-17 01:00:00              NaN           43.7            23.0\n",
      "240   2019-05-17 02:00:00              NaN           46.3            23.0\n",
      "241   2019-05-17 03:00:00              NaN           26.1            21.0\n",
      "242   2019-05-17 04:00:00              NaN           24.6            21.0\n",
      "243   2019-05-17 05:00:00              NaN           26.6            21.0\n",
      "244   2019-05-17 06:00:00              NaN           28.4            21.0\n",
      "245   2019-05-17 07:00:00              NaN           34.0            25.0\n",
      "246   2019-05-17 08:00:00              NaN           46.3            27.0\n",
      "247   2019-05-17 09:00:00              NaN           55.0            27.0\n",
      "248   2019-05-17 10:00:00              NaN           57.5            29.0\n",
      "249   2019-05-17 11:00:00              NaN           60.5            30.0\n",
      "250   2019-05-17 12:00:00              NaN           51.5            30.0\n",
      "251   2019-05-17 13:00:00              NaN           43.1            30.0\n",
      "252   2019-05-17 14:00:00              NaN           46.5            29.0\n",
      "253   2019-05-17 15:00:00              NaN           37.9            31.0\n",
      "254   2019-05-17 16:00:00              NaN           27.0            32.0\n",
      "255   2019-05-17 17:00:00              NaN           22.2            30.0\n",
      "256   2019-05-17 18:00:00              NaN           20.7            29.0\n",
      "257   2019-05-17 19:00:00              NaN           27.9            31.0\n",
      "258   2019-05-17 20:00:00              NaN           33.6            36.0\n",
      "259   2019-05-17 21:00:00              NaN           24.7            36.0\n",
      "260   2019-05-17 22:00:00              NaN           23.5            36.0\n",
      "261   2019-05-17 23:00:00              NaN           24.3            35.0\n",
      "262   2019-05-18 00:00:00              NaN           28.2            35.0\n",
      "263   2019-05-18 01:00:00              NaN           34.1            31.0\n",
      "264   2019-05-18 02:00:00              NaN           31.5            31.0\n",
      "265   2019-05-18 03:00:00             41.5           37.4            31.0\n",
      "266   2019-05-18 04:00:00              NaN           29.0            31.0\n",
      "267   2019-05-18 05:00:00              NaN           16.1            29.0\n",
      "268   2019-05-18 06:00:00              NaN           16.6            29.0\n",
      "269   2019-05-18 07:00:00              NaN           20.1            27.0\n",
      "270   2019-05-18 08:00:00              NaN           22.1            29.0\n",
      "271   2019-05-18 09:00:00              NaN           27.4            35.0\n",
      "272   2019-05-18 10:00:00              NaN           20.4            32.0\n",
      "273   2019-05-18 11:00:00              NaN           21.1            35.0\n",
      "274   2019-05-18 12:00:00              NaN           24.1            34.0\n",
      "275   2019-05-18 13:00:00              NaN           17.5            38.0\n",
      "276   2019-05-18 14:00:00              NaN           12.9            29.0\n",
      "277   2019-05-18 15:00:00              NaN           10.5            27.0\n",
      "278   2019-05-18 16:00:00              NaN           11.8            28.0\n",
      "279   2019-05-18 17:00:00              NaN           13.0            30.0\n",
      "280   2019-05-18 18:00:00              NaN           14.6            42.0\n",
      "281   2019-05-18 19:00:00              NaN           12.8            42.0\n",
      "282   2019-05-18 20:00:00             35.5           14.5            36.0\n",
      "283   2019-05-18 21:00:00             35.5           67.5            35.0\n",
      "284   2019-05-18 22:00:00             40.0           36.2            41.0\n",
      "285   2019-05-18 23:00:00             39.0           59.3            46.0\n",
      "286   2019-05-19 00:00:00             34.5           62.5            46.0\n",
      "287   2019-05-19 01:00:00             29.5           50.2            49.0\n",
      "288   2019-05-19 02:00:00             23.5           49.6            49.0\n",
      "289   2019-05-19 03:00:00             22.5           34.9            49.0\n",
      "290   2019-05-19 04:00:00             19.0           38.1            49.0\n",
      "291   2019-05-19 05:00:00             19.0           36.4            49.0\n",
      "292   2019-05-19 06:00:00             21.0           39.4            49.0\n",
      "293   2019-05-19 07:00:00             26.0           40.9            38.0\n",
      "294   2019-05-19 08:00:00             30.5           31.1            36.0\n",
      "295   2019-05-19 09:00:00             30.0           32.4            33.0\n",
      "296   2019-05-19 10:00:00             23.5           31.7            30.0\n",
      "297   2019-05-19 11:00:00             16.0           33.0            27.0\n",
      "298   2019-05-19 12:00:00             17.5           31.0            28.0\n",
      "299   2019-05-19 13:00:00             17.0           32.6            25.0\n",
      "300   2019-05-19 14:00:00             16.0           27.9            27.0\n",
      "301   2019-05-19 15:00:00             14.5           21.0            31.0\n",
      "302   2019-05-19 16:00:00             23.0           23.8            29.0\n",
      "303   2019-05-19 17:00:00             33.0           31.7            28.0\n",
      "304   2019-05-19 18:00:00             17.5           32.5            27.0\n",
      "305   2019-05-19 19:00:00             18.5           33.9            29.0\n",
      "306   2019-05-19 20:00:00             15.5           32.7            30.0\n",
      "307   2019-05-19 21:00:00             26.0           51.2            32.0\n",
      "308   2019-05-19 22:00:00             15.0           35.6            32.0\n",
      "309   2019-05-19 23:00:00             12.5           23.2            32.0\n",
      "310   2019-05-20 00:00:00             18.5           22.2            32.0\n",
      "311   2019-05-20 01:00:00             16.5           18.8            28.0\n",
      "312   2019-05-20 02:00:00             26.0           16.4            28.0\n",
      "313   2019-05-20 03:00:00             17.0           12.8            32.0\n",
      "314   2019-05-20 04:00:00             10.5           12.1            32.0\n",
      "315   2019-05-20 05:00:00              9.0           12.6            26.0\n",
      "316   2019-05-20 06:00:00             14.0           14.9            26.0\n",
      "317   2019-05-20 07:00:00             20.0           25.2            31.0\n",
      "318   2019-05-20 08:00:00             26.0           40.1            31.0\n",
      "319   2019-05-20 09:00:00             38.0           46.9            29.0\n",
      "320   2019-05-20 10:00:00             40.0           46.1            29.0\n",
      "321   2019-05-20 11:00:00             30.5           45.5            28.0\n",
      "322   2019-05-20 12:00:00             25.0           43.9            28.0\n",
      "323   2019-05-20 13:00:00             25.0           35.4            28.0\n",
      "324   2019-05-20 14:00:00             34.5           23.8            29.0\n",
      "325   2019-05-20 15:00:00             32.0           23.7            32.0\n",
      "326   2019-05-20 16:00:00             24.5           27.5            32.0\n",
      "327   2019-05-20 17:00:00             25.5           26.5            29.0\n",
      "328   2019-05-20 18:00:00              NaN           32.4            30.0\n",
      "329   2019-05-20 19:00:00              NaN           24.6            33.0\n",
      "330   2019-05-20 20:00:00              NaN           32.2            32.0\n",
      "331   2019-05-20 21:00:00              NaN           21.3            32.0\n",
      "332   2019-05-20 22:00:00              NaN           21.6            34.0\n",
      "333   2019-05-20 23:00:00              NaN           20.3            47.0\n",
      "334   2019-05-21 00:00:00              NaN           20.7            47.0\n",
      "335   2019-05-21 01:00:00              NaN           19.6            35.0\n",
      "336   2019-05-21 02:00:00              NaN           16.9            35.0\n",
      "337   2019-05-21 03:00:00             15.5           16.3            26.0\n",
      "338   2019-05-21 04:00:00              NaN           17.7            26.0\n",
      "339   2019-05-21 05:00:00              NaN           17.9            23.0\n",
      "340   2019-05-21 06:00:00              NaN           18.5            23.0\n",
      "341   2019-05-21 07:00:00              NaN           38.0            30.0\n",
      "342   2019-05-21 08:00:00              NaN           62.6            27.0\n",
      "343   2019-05-21 09:00:00              NaN           56.0            28.0\n",
      "344   2019-05-21 10:00:00              NaN           54.2            29.0\n",
      "345   2019-05-21 11:00:00              NaN           48.1            29.0\n",
      "346   2019-05-21 12:00:00              NaN           30.4            26.0\n",
      "347   2019-05-21 13:00:00              NaN           25.5            26.0\n",
      "348   2019-05-21 14:00:00              NaN           30.5            28.0\n",
      "349   2019-05-21 15:00:00              NaN           49.7            33.0\n",
      "350   2019-05-21 16:00:00              NaN           47.8            34.0\n",
      "351   2019-05-21 17:00:00              NaN           36.6            34.0\n",
      "352   2019-05-21 18:00:00              NaN           42.3            37.0\n",
      "353   2019-05-21 19:00:00              NaN           75.0            35.0\n",
      "354   2019-05-21 20:00:00              NaN           54.3            40.0\n",
      "355   2019-05-21 21:00:00              NaN           50.0            38.0\n",
      "356   2019-05-21 22:00:00              NaN           40.8            33.0\n",
      "357   2019-05-21 23:00:00              NaN           43.0            33.0\n",
      "358   2019-05-22 00:00:00              NaN           33.2            33.0\n",
      "359   2019-05-22 01:00:00              NaN           29.5            30.0\n",
      "360   2019-05-22 02:00:00              NaN           27.1            30.0\n",
      "361   2019-05-22 03:00:00             20.5           27.9            27.0\n",
      "362   2019-05-22 04:00:00              NaN           19.2            27.0\n",
      "363   2019-05-22 05:00:00              NaN           25.2            21.0\n",
      "364   2019-05-22 06:00:00              NaN           33.7            21.0\n",
      "365   2019-05-22 07:00:00              NaN           45.1            28.0\n",
      "366   2019-05-22 08:00:00              NaN           75.7            29.0\n",
      "367   2019-05-22 09:00:00              NaN           75.4            31.0\n",
      "368   2019-05-22 10:00:00              NaN           70.8            31.0\n",
      "369   2019-05-22 11:00:00              NaN           63.1            31.0\n",
      "370   2019-05-22 12:00:00              NaN           57.8            28.0\n",
      "371   2019-05-22 13:00:00              NaN           42.6            25.0\n",
      "372   2019-05-22 14:00:00              NaN           42.2            25.0\n",
      "373   2019-05-22 15:00:00              NaN           38.5            28.0\n",
      "374   2019-05-22 16:00:00              NaN           40.0            30.0\n",
      "375   2019-05-22 17:00:00              NaN           33.2            32.0\n",
      "376   2019-05-22 18:00:00              NaN           34.9            34.0\n",
      "377   2019-05-22 19:00:00              NaN           36.1            34.0\n",
      "378   2019-05-22 20:00:00              NaN           34.1            33.0\n",
      "379   2019-05-22 21:00:00              NaN           36.2            33.0\n",
      "380   2019-05-22 22:00:00              NaN           44.9            31.0\n",
      "381   2019-05-22 23:00:00              NaN           37.7            32.0\n",
      "382   2019-05-23 00:00:00              NaN           29.8            32.0\n",
      "383   2019-05-23 01:00:00              NaN           62.1            23.0\n",
      "384   2019-05-23 02:00:00              NaN           53.3            23.0\n",
      "385   2019-05-23 03:00:00             60.5           53.1            20.0\n",
      "386   2019-05-23 04:00:00              NaN           66.6            20.0\n",
      "387   2019-05-23 05:00:00              NaN           76.8            19.0\n",
      "388   2019-05-23 06:00:00              NaN           71.9            19.0\n",
      "389   2019-05-23 07:00:00              NaN           68.7            24.0\n",
      "390   2019-05-23 08:00:00              NaN           79.6            26.0\n",
      "391   2019-05-23 09:00:00              NaN           91.8            25.0\n",
      "392   2019-05-23 10:00:00              NaN           97.0            23.0\n",
      "393   2019-05-23 11:00:00              NaN           79.4            25.0\n",
      "394   2019-05-23 12:00:00              NaN           28.3            24.0\n",
      "395   2019-05-23 13:00:00              NaN           17.0            25.0\n",
      "396   2019-05-23 14:00:00              NaN           16.4            28.0\n",
      "397   2019-05-23 15:00:00              NaN           21.2            34.0\n",
      "398   2019-05-23 16:00:00              NaN           17.2            38.0\n",
      "399   2019-05-23 17:00:00              NaN           17.5            53.0\n",
      "400   2019-05-23 18:00:00              NaN           17.8            60.0\n",
      "401   2019-05-23 19:00:00              NaN           22.7            54.0\n",
      "402   2019-05-23 20:00:00              NaN           23.5            51.0\n",
      "403   2019-05-23 21:00:00              NaN           28.0            45.0\n",
      "404   2019-05-23 22:00:00              NaN           33.8            44.0\n",
      "405   2019-05-23 23:00:00              NaN           47.0            39.0\n",
      "406   2019-05-24 00:00:00              NaN           61.9            39.0\n",
      "407   2019-05-24 01:00:00              NaN           23.2            31.0\n",
      "408   2019-05-24 02:00:00              NaN           32.8             NaN\n",
      "409   2019-05-24 03:00:00             74.5           28.8            31.0\n",
      "410   2019-05-24 04:00:00              NaN           28.4            31.0\n",
      "411   2019-05-24 05:00:00              NaN           19.4            23.0\n",
      "412   2019-05-24 06:00:00              NaN           28.1            23.0\n",
      "413   2019-05-24 07:00:00              NaN           35.9            29.0\n",
      "414   2019-05-24 08:00:00              NaN           40.7            28.0\n",
      "415   2019-05-24 09:00:00              NaN           54.8            26.0\n",
      "416   2019-05-24 10:00:00              NaN           45.9            24.0\n",
      "417   2019-05-24 11:00:00              NaN           37.9            23.0\n",
      "418   2019-05-24 12:00:00              NaN           28.6            26.0\n",
      "419   2019-05-24 13:00:00              NaN           40.6            29.0\n",
      "420   2019-05-24 14:00:00              NaN           29.3            33.0\n",
      "421   2019-05-24 15:00:00              NaN           24.3            39.0\n",
      "422   2019-05-24 16:00:00              NaN           20.5            40.0\n",
      "423   2019-05-24 17:00:00              NaN           22.7            43.0\n",
      "424   2019-05-24 18:00:00              NaN           27.3            46.0\n",
      "425   2019-05-24 19:00:00              NaN           25.2            46.0\n",
      "426   2019-05-24 20:00:00              NaN           23.3            44.0\n",
      "427   2019-05-24 21:00:00              NaN           21.9            42.0\n",
      "428   2019-05-24 22:00:00              NaN           31.7            38.0\n",
      "429   2019-05-24 23:00:00              NaN           18.1            39.0\n",
      "430   2019-05-25 00:00:00              NaN           18.0            39.0\n",
      "431   2019-05-25 01:00:00              NaN           16.5            32.0\n",
      "432   2019-05-25 02:00:00              NaN           17.4            32.0\n",
      "433   2019-05-25 03:00:00             29.0           12.8            25.0\n",
      "434   2019-05-25 04:00:00              NaN           20.3            25.0\n",
      "435   2019-05-25 05:00:00              NaN            NaN            21.0\n",
      "436   2019-05-25 06:00:00              NaN            NaN            21.0\n",
      "437   2019-05-25 07:00:00              NaN            NaN            22.0\n",
      "438   2019-05-25 08:00:00              NaN           36.9            22.0\n",
      "439   2019-05-25 09:00:00              NaN           42.1            23.0\n",
      "440   2019-05-25 10:00:00              NaN           44.5            23.0\n",
      "441   2019-05-25 11:00:00              NaN           33.6            21.0\n",
      "442   2019-05-25 12:00:00              NaN           26.3            23.0\n",
      "443   2019-05-25 13:00:00              NaN           19.5            24.0\n",
      "444   2019-05-25 14:00:00              NaN           18.6            26.0\n",
      "445   2019-05-25 15:00:00              NaN           26.1            31.0\n",
      "446   2019-05-25 16:00:00              NaN           23.6            37.0\n",
      "447   2019-05-25 17:00:00              NaN           30.0            42.0\n",
      "448   2019-05-25 18:00:00              NaN           31.9            46.0\n",
      "449   2019-05-25 19:00:00              NaN           20.6            47.0\n",
      "450   2019-05-25 20:00:00              NaN           30.4            47.0\n",
      "451   2019-05-25 21:00:00              NaN           22.1            44.0\n",
      "452   2019-05-25 22:00:00              NaN           43.6            41.0\n",
      "453   2019-05-25 23:00:00              NaN           39.5            36.0\n",
      "454   2019-05-26 00:00:00              NaN           63.9            36.0\n",
      "455   2019-05-26 01:00:00              NaN           70.2            32.0\n",
      "456   2019-05-26 02:00:00              NaN           67.0            32.0\n",
      "457   2019-05-26 03:00:00             53.0           49.8            26.0\n",
      "458   2019-05-26 04:00:00              NaN           23.4            26.0\n",
      "459   2019-05-26 05:00:00              NaN           22.9            20.0\n",
      "460   2019-05-26 06:00:00              NaN           22.3            20.0\n",
      "461   2019-05-26 07:00:00              NaN           16.8            17.0\n",
      "462   2019-05-26 08:00:00              NaN           15.1            17.0\n",
      "463   2019-05-26 09:00:00              NaN           13.4            15.0\n",
      "464   2019-05-26 10:00:00              NaN           11.0            15.0\n",
      "465   2019-05-26 11:00:00              NaN           10.3            16.0\n",
      "466   2019-05-26 12:00:00              NaN           11.3            17.0\n",
      "467   2019-05-26 13:00:00              NaN           13.3            21.0\n",
      "468   2019-05-26 14:00:00              NaN           11.5            24.0\n",
      "469   2019-05-26 15:00:00              NaN           12.5            25.0\n",
      "470   2019-05-26 16:00:00              NaN           15.3            26.0\n",
      "471   2019-05-26 17:00:00              NaN           11.7            27.0\n",
      "472   2019-05-26 18:00:00              NaN           17.1            26.0\n",
      "473   2019-05-26 19:00:00              NaN           17.3            28.0\n",
      "474   2019-05-26 20:00:00              NaN           22.8            26.0\n",
      "475   2019-05-26 21:00:00              NaN           17.8            25.0\n",
      "476   2019-05-26 22:00:00              NaN           16.6            27.0\n",
      "477   2019-05-26 23:00:00              NaN           16.1            26.0\n",
      "478   2019-05-27 00:00:00              NaN           15.2            26.0\n",
      "479   2019-05-27 01:00:00              NaN           10.3            26.0\n",
      "480   2019-05-27 02:00:00              NaN            9.5            26.0\n",
      "481   2019-05-27 03:00:00             10.5            7.1            24.0\n",
      "482   2019-05-27 04:00:00              NaN            5.9            24.0\n",
      "483   2019-05-27 05:00:00              NaN            4.8            19.0\n",
      "484   2019-05-27 06:00:00              NaN            6.5            19.0\n",
      "485   2019-05-27 07:00:00              NaN           20.3            18.0\n",
      "486   2019-05-27 08:00:00              NaN           29.1            18.0\n",
      "487   2019-05-27 09:00:00              NaN           29.5            18.0\n",
      "488   2019-05-27 10:00:00              NaN           34.2            18.0\n",
      "489   2019-05-27 11:00:00              NaN           31.4            16.0\n",
      "490   2019-05-27 12:00:00              NaN           23.3            17.0\n",
      "491   2019-05-27 13:00:00              NaN           19.3            17.0\n",
      "492   2019-05-27 14:00:00              NaN           17.3            20.0\n",
      "493   2019-05-27 15:00:00              NaN           17.5            20.0\n",
      "494   2019-05-27 16:00:00              NaN           17.3            22.0\n",
      "495   2019-05-27 17:00:00              NaN           25.6            22.0\n",
      "496   2019-05-27 18:00:00              NaN           23.6            22.0\n",
      "497   2019-05-27 19:00:00              NaN           22.9            22.0\n",
      "498   2019-05-27 20:00:00              NaN           25.6            22.0\n",
      "499   2019-05-27 21:00:00              NaN           22.1            23.0\n",
      "500   2019-05-27 22:00:00              NaN           22.3            20.0\n",
      "501   2019-05-27 23:00:00              NaN           18.8            19.0\n",
      "502   2019-05-28 00:00:00              NaN           19.9            19.0\n",
      "503   2019-05-28 01:00:00              NaN           22.6            16.0\n",
      "504   2019-05-28 02:00:00              NaN           15.4            16.0\n",
      "505   2019-05-28 03:00:00             11.0            8.2            16.0\n",
      "506   2019-05-28 04:00:00              NaN            6.4            16.0\n",
      "507   2019-05-28 05:00:00              NaN            6.1            15.0\n",
      "508   2019-05-28 06:00:00              NaN            8.9            15.0\n",
      "509   2019-05-28 07:00:00              NaN           19.9            19.0\n",
      "510   2019-05-28 08:00:00              NaN           28.8            20.0\n",
      "511   2019-05-28 09:00:00              NaN           33.8            20.0\n",
      "512   2019-05-28 10:00:00              NaN           31.2            20.0\n",
      "513   2019-05-28 11:00:00              NaN           24.3            21.0\n",
      "514   2019-05-28 12:00:00              NaN           21.6            21.0\n",
      "515   2019-05-28 13:00:00              NaN           20.5            28.0\n",
      "516   2019-05-28 14:00:00              NaN           24.8            27.0\n",
      "517   2019-05-28 15:00:00              NaN           18.5            29.0\n",
      "518   2019-05-28 16:00:00              NaN           18.8            30.0\n",
      "519   2019-05-28 17:00:00              NaN           25.0            27.0\n",
      "520   2019-05-28 18:00:00              NaN           26.5            25.0\n",
      "521   2019-05-28 19:00:00              NaN           20.8            29.0\n",
      "522   2019-05-28 20:00:00              NaN           16.2            29.0\n",
      "523   2019-05-28 21:00:00              NaN           18.5            29.0\n",
      "524   2019-05-28 22:00:00              NaN           20.4            31.0\n",
      "525   2019-05-28 23:00:00              NaN           20.4             NaN\n",
      "526   2019-05-29 00:00:00              NaN           20.2            25.0\n",
      "527   2019-05-29 01:00:00              NaN           25.3            26.0\n",
      "528   2019-05-29 02:00:00              NaN           23.4            26.0\n",
      "529   2019-05-29 03:00:00             21.0           21.6            23.0\n",
      "530   2019-05-29 04:00:00              NaN           19.0            23.0\n",
      "531   2019-05-29 05:00:00              NaN           20.3            21.0\n",
      "532   2019-05-29 06:00:00              NaN           24.1            21.0\n",
      "533   2019-05-29 07:00:00              NaN           36.7            24.0\n",
      "534   2019-05-29 08:00:00              NaN           46.5            22.0\n",
      "535   2019-05-29 09:00:00              NaN           50.5            21.0\n",
      "536   2019-05-29 10:00:00              NaN           45.7            18.0\n",
      "537   2019-05-29 11:00:00              NaN           34.5            18.0\n",
      "538   2019-05-29 12:00:00              NaN           30.7            18.0\n",
      "539   2019-05-29 13:00:00              NaN           22.0            20.0\n",
      "540   2019-05-29 14:00:00              NaN           13.2            13.0\n",
      "541   2019-05-29 15:00:00              NaN           17.8            15.0\n",
      "542   2019-05-29 16:00:00              NaN            0.0             5.0\n",
      "543   2019-05-29 17:00:00              NaN            0.0             3.0\n",
      "544   2019-05-29 18:00:00              NaN           20.1             5.0\n",
      "545   2019-05-29 19:00:00              NaN           22.9             5.0\n",
      "546   2019-05-29 20:00:00              NaN           25.3             5.0\n",
      "547   2019-05-29 21:00:00              NaN           24.1             6.0\n",
      "548   2019-05-29 22:00:00              NaN           20.8             6.0\n",
      "549   2019-05-29 23:00:00              NaN           16.9             5.0\n",
      "550   2019-05-30 00:00:00              NaN           19.0             5.0\n",
      "551   2019-05-30 01:00:00              NaN           19.9             1.0\n",
      "552   2019-05-30 02:00:00              NaN           19.4             1.0\n",
      "553   2019-05-30 03:00:00              7.5           12.4             0.0\n",
      "554   2019-05-30 04:00:00              NaN            9.4             0.0\n",
      "555   2019-05-30 05:00:00              NaN           10.6             0.0\n",
      "556   2019-05-30 06:00:00              NaN           10.4             0.0\n",
      "557   2019-05-30 07:00:00              NaN           12.2             0.0\n",
      "558   2019-05-30 08:00:00              NaN           13.3             2.0\n",
      "559   2019-05-30 09:00:00              NaN           18.3             3.0\n",
      "560   2019-05-30 10:00:00              NaN           16.7             5.0\n",
      "561   2019-05-30 11:00:00              NaN           15.1             9.0\n",
      "562   2019-05-30 12:00:00              NaN           13.8            13.0\n",
      "563   2019-05-30 13:00:00              NaN           14.9            17.0\n",
      "564   2019-05-30 14:00:00              NaN           14.2            20.0\n",
      "565   2019-05-30 15:00:00              NaN           16.1            22.0\n",
      "566   2019-05-30 16:00:00              NaN           14.9            22.0\n",
      "567   2019-05-30 17:00:00              NaN           13.0            27.0\n",
      "568   2019-05-30 18:00:00              NaN           12.8            30.0\n",
      "569   2019-05-30 19:00:00              NaN           20.4            28.0\n",
      "570   2019-05-30 20:00:00              NaN           22.1            28.0\n",
      "571   2019-05-30 21:00:00              NaN           22.9            27.0\n",
      "572   2019-05-30 22:00:00              NaN           21.9            27.0\n",
      "573   2019-05-30 23:00:00              NaN           26.9            23.0\n",
      "574   2019-05-31 00:00:00              NaN           27.0            23.0\n",
      "575   2019-05-31 01:00:00              NaN           29.6            18.0\n",
      "576   2019-05-31 02:00:00              NaN           27.2            18.0\n",
      "577   2019-05-31 03:00:00              9.0           36.9            12.0\n",
      "578   2019-05-31 04:00:00              NaN           44.1            12.0\n",
      "579   2019-05-31 05:00:00              NaN           40.1             9.0\n",
      "580   2019-05-31 06:00:00              NaN           31.1             9.0\n",
      "581   2019-05-31 07:00:00              NaN           37.2             8.0\n",
      "582   2019-05-31 08:00:00              NaN           38.6             9.0\n",
      "583   2019-05-31 09:00:00              NaN           47.4             8.0\n",
      "584   2019-05-31 10:00:00              NaN           36.6            37.0\n",
      "585   2019-05-31 11:00:00              NaN           19.6            15.0\n",
      "586   2019-05-31 12:00:00              NaN           17.2            16.0\n",
      "587   2019-05-31 13:00:00              NaN           15.1            18.0\n",
      "588   2019-05-31 14:00:00              NaN           13.3            21.0\n",
      "589   2019-05-31 15:00:00              NaN           13.8            21.0\n",
      "590   2019-05-31 16:00:00              NaN           15.4            24.0\n",
      "591   2019-05-31 17:00:00              NaN           15.4            26.0\n",
      "592   2019-05-31 18:00:00              NaN           16.3            26.0\n",
      "593   2019-05-31 19:00:00              NaN           20.5            29.0\n",
      "594   2019-05-31 20:00:00              NaN           25.2            33.0\n",
      "595   2019-05-31 21:00:00              NaN           23.3            33.0\n",
      "596   2019-05-31 22:00:00              NaN           37.0            31.0\n",
      "597   2019-05-31 23:00:00              NaN           60.2            26.0\n",
      "598   2019-06-01 00:00:00              NaN           68.0            26.0\n",
      "599   2019-06-01 01:00:00              NaN           81.7            22.0\n",
      "600   2019-06-01 02:00:00              NaN           84.7            22.0\n",
      "601   2019-06-01 03:00:00             52.5           74.8            16.0\n",
      "602   2019-06-01 04:00:00              NaN           68.1            16.0\n",
      "603   2019-06-01 05:00:00              NaN            NaN            11.0\n",
      "604   2019-06-01 06:00:00              NaN            NaN            11.0\n",
      "605   2019-06-01 07:00:00              NaN            NaN             4.0\n",
      "606   2019-06-01 08:00:00              NaN           44.6             2.0\n",
      "607   2019-06-01 09:00:00              NaN           46.4             8.0\n",
      "608   2019-06-01 10:00:00              NaN           33.3             9.0\n",
      "609   2019-06-01 11:00:00              NaN           23.9            12.0\n",
      "610   2019-06-01 12:00:00              NaN           13.8            19.0\n",
      "611   2019-06-01 13:00:00              NaN           12.2            28.0\n",
      "612   2019-06-01 14:00:00              NaN           10.4            33.0\n",
      "613   2019-06-01 15:00:00              NaN           10.2            36.0\n",
      "614   2019-06-01 16:00:00              NaN           10.0            33.0\n",
      "615   2019-06-01 17:00:00              NaN           10.2            31.0\n",
      "616   2019-06-01 18:00:00              NaN           11.8            32.0\n",
      "617   2019-06-01 19:00:00              NaN           11.8            36.0\n",
      "618   2019-06-01 20:00:00              NaN           14.5            38.0\n",
      "619   2019-06-01 21:00:00              NaN           24.6            41.0\n",
      "620   2019-06-01 22:00:00              NaN           43.6            44.0\n",
      "621   2019-06-01 23:00:00              NaN           49.4            52.0\n",
      "622   2019-06-02 00:00:00              NaN           48.1            52.0\n",
      "623   2019-06-02 01:00:00              NaN           32.7            44.0\n",
      "624   2019-06-02 02:00:00              NaN           38.1            44.0\n",
      "625   2019-06-02 03:00:00              NaN           38.2            43.0\n",
      "626   2019-06-02 04:00:00              NaN           39.2            43.0\n",
      "627   2019-06-02 05:00:00              NaN           23.2            37.0\n",
      "628   2019-06-02 06:00:00              NaN           24.5            37.0\n",
      "629   2019-06-02 07:00:00              NaN           37.2            32.0\n",
      "630   2019-06-02 08:00:00              NaN           24.1            32.0\n",
      "631   2019-06-02 09:00:00              NaN           18.1            30.0\n",
      "632   2019-06-02 10:00:00              NaN           19.5            32.0\n",
      "633   2019-06-02 11:00:00              NaN           21.0            35.0\n",
      "634   2019-06-02 12:00:00              NaN           18.1            36.0\n",
      "635   2019-06-02 13:00:00              NaN           13.1            35.0\n",
      "636   2019-06-02 14:00:00              NaN           11.5            34.0\n",
      "637   2019-06-02 15:00:00              NaN           13.0            36.0\n",
      "638   2019-06-02 16:00:00              NaN           15.0            33.0\n",
      "639   2019-06-02 17:00:00              NaN           13.9            32.0\n",
      "640   2019-06-02 18:00:00              NaN           14.4            32.0\n",
      "641   2019-06-02 19:00:00              NaN           14.4            34.0\n",
      "642   2019-06-02 20:00:00              NaN           15.6            34.0\n",
      "643   2019-06-02 21:00:00              NaN           25.8            32.0\n",
      "644   2019-06-02 22:00:00              NaN           40.9            28.0\n",
      "645   2019-06-02 23:00:00              NaN           36.9            27.0\n",
      "646   2019-06-03 00:00:00              NaN           27.6            27.0\n",
      "647   2019-06-03 01:00:00              NaN           17.9            21.0\n",
      "648   2019-06-03 02:00:00              NaN           15.7            21.0\n",
      "649   2019-06-03 03:00:00              NaN           11.8            11.0\n",
      "650   2019-06-03 04:00:00              NaN           11.7            11.0\n",
      "651   2019-06-03 05:00:00              NaN            9.8             3.0\n",
      "652   2019-06-03 06:00:00              NaN           11.4             3.0\n",
      "653   2019-06-03 07:00:00              NaN           29.0             5.0\n",
      "654   2019-06-03 08:00:00              NaN           44.1             6.0\n",
      "655   2019-06-03 09:00:00              NaN           50.0             7.0\n",
      "656   2019-06-03 10:00:00              NaN           43.9             5.0\n",
      "657   2019-06-03 11:00:00              NaN           46.0            11.0\n",
      "658   2019-06-03 12:00:00              NaN           31.7            16.0\n",
      "659   2019-06-03 13:00:00              NaN           27.5            14.0\n",
      "660   2019-06-03 14:00:00              NaN           22.1            15.0\n",
      "661   2019-06-03 15:00:00              NaN           25.8            17.0\n",
      "662   2019-06-03 16:00:00              NaN           23.2            21.0\n",
      "663   2019-06-03 17:00:00              NaN           24.8            22.0\n",
      "664   2019-06-03 18:00:00              NaN           25.3            24.0\n",
      "665   2019-06-03 19:00:00              NaN           24.4            24.0\n",
      "666   2019-06-03 20:00:00              NaN           23.1            23.0\n",
      "667   2019-06-03 21:00:00              NaN           28.9            20.0\n",
      "668   2019-06-03 22:00:00              NaN           33.0            20.0\n",
      "669   2019-06-03 23:00:00              NaN           31.1            17.0\n",
      "670   2019-06-04 00:00:00              NaN           30.5            17.0\n",
      "671   2019-06-04 01:00:00              NaN           44.6            12.0\n",
      "672   2019-06-04 02:00:00              NaN           52.4            12.0\n",
      "673   2019-06-04 03:00:00              NaN           43.9             8.0\n",
      "674   2019-06-04 04:00:00              NaN           35.0             8.0\n",
      "675   2019-06-04 05:00:00              NaN           41.6             5.0\n",
      "676   2019-06-04 06:00:00              NaN           28.8             5.0\n",
      "677   2019-06-04 07:00:00              NaN           36.5            14.0\n",
      "678   2019-06-04 08:00:00              NaN           47.7            18.0\n",
      "679   2019-06-04 09:00:00              NaN           53.5            22.0\n",
      "680   2019-06-04 10:00:00              NaN           50.8            35.0\n",
      "681   2019-06-04 11:00:00              NaN           38.5            31.0\n",
      "682   2019-06-04 12:00:00              NaN           23.3            32.0\n",
      "683   2019-06-04 13:00:00              NaN           19.6            35.0\n",
      "684   2019-06-04 14:00:00              NaN           17.7            37.0\n",
      "685   2019-06-04 15:00:00              NaN           17.4            36.0\n",
      "686   2019-06-04 16:00:00              NaN           18.1            38.0\n",
      "687   2019-06-04 17:00:00              NaN           21.5            38.0\n",
      "688   2019-06-04 18:00:00              NaN           26.3            40.0\n",
      "689   2019-06-04 19:00:00              NaN           23.4            29.0\n",
      "690   2019-06-04 20:00:00              NaN           25.2            20.0\n",
      "691   2019-06-04 21:00:00              NaN           17.0            18.0\n",
      "692   2019-06-04 22:00:00              NaN           16.9            17.0\n",
      "693   2019-06-04 23:00:00              NaN           26.3            17.0\n",
      "694   2019-06-05 00:00:00              NaN           33.5            17.0\n",
      "695   2019-06-05 01:00:00              NaN           17.8            13.0\n",
      "696   2019-06-05 02:00:00              NaN           15.7            13.0\n",
      "697   2019-06-05 03:00:00             15.0           10.8             4.0\n",
      "698   2019-06-05 04:00:00              NaN           12.4             4.0\n",
      "699   2019-06-05 05:00:00              NaN           16.2             6.0\n",
      "700   2019-06-05 06:00:00              NaN           24.5             6.0\n",
      "701   2019-06-05 07:00:00              NaN           39.2             2.0\n",
      "702   2019-06-05 08:00:00              NaN           35.8             1.0\n",
      "703   2019-06-05 09:00:00              NaN           36.9             0.0\n",
      "704   2019-06-05 10:00:00              NaN           35.3             0.0\n",
      "705   2019-06-05 11:00:00              NaN           36.8             5.0\n",
      "706   2019-06-05 12:00:00              NaN           42.1             7.0\n",
      "707   2019-06-05 13:00:00              NaN           59.0             9.0\n",
      "708   2019-06-05 14:00:00              NaN           47.2            14.0\n",
      "709   2019-06-05 15:00:00              NaN           33.6            20.0\n",
      "710   2019-06-05 16:00:00              NaN           38.3            20.0\n",
      "711   2019-06-05 17:00:00              NaN           53.5            19.0\n",
      "712   2019-06-05 18:00:00              NaN           37.9            19.0\n",
      "713   2019-06-05 19:00:00              NaN           48.8            19.0\n",
      "714   2019-06-05 20:00:00              NaN           40.8            19.0\n",
      "715   2019-06-05 21:00:00              NaN           37.8            19.0\n",
      "716   2019-06-05 22:00:00              NaN           37.5            19.0\n",
      "717   2019-06-05 23:00:00              NaN           33.7            17.0\n",
      "718   2019-06-06 00:00:00              NaN           30.3            17.0\n",
      "719   2019-06-06 01:00:00              NaN           31.8             8.0\n",
      "720   2019-06-06 02:00:00              NaN           23.8             NaN\n",
      "721   2019-06-06 03:00:00              NaN           18.0             4.0\n",
      "722   2019-06-06 04:00:00              NaN           15.2             4.0\n",
      "723   2019-06-06 05:00:00              NaN           19.2             0.0\n",
      "724   2019-06-06 06:00:00              NaN           28.4             0.0\n",
      "725   2019-06-06 07:00:00              NaN           40.3             1.0\n",
      "726   2019-06-06 08:00:00              NaN           40.5             3.0\n",
      "727   2019-06-06 09:00:00              NaN           43.1             0.0\n",
      "728   2019-06-06 10:00:00              NaN           36.0             1.0\n",
      "729   2019-06-06 11:00:00              NaN           26.0             7.0\n",
      "730   2019-06-06 12:00:00              NaN           21.2             7.0\n",
      "731   2019-06-06 13:00:00              NaN           16.4            12.0\n",
      "732   2019-06-06 14:00:00              NaN           16.5            10.0\n",
      "733   2019-06-06 15:00:00              NaN           16.0            11.0\n",
      "734   2019-06-06 16:00:00              NaN           15.1            16.0\n",
      "735   2019-06-06 17:00:00              NaN            NaN            22.0\n",
      "736   2019-06-06 18:00:00              NaN            NaN            24.0\n",
      "737   2019-06-06 19:00:00              NaN            NaN            24.0\n",
      "738   2019-06-06 20:00:00              NaN            NaN            24.0\n",
      "739   2019-06-06 21:00:00              NaN            NaN            22.0\n",
      "740   2019-06-06 22:00:00              NaN            NaN            24.0\n",
      "741   2019-06-06 23:00:00              NaN            NaN            21.0\n",
      "742   2019-06-07 00:00:00              NaN            NaN            21.0\n",
      "743   2019-06-07 01:00:00              NaN            NaN            23.0\n",
      "744   2019-06-07 02:00:00              NaN            NaN            23.0\n",
      "745   2019-06-07 03:00:00              NaN            NaN            27.0\n",
      "746   2019-06-07 04:00:00              NaN            NaN            27.0\n",
      "747   2019-06-07 05:00:00              NaN            NaN            23.0\n",
      "748   2019-06-07 06:00:00              NaN            NaN            23.0\n",
      "749   2019-06-07 07:00:00              NaN            NaN            25.0\n",
      "750   2019-06-07 08:00:00              NaN           28.9            23.0\n",
      "751   2019-06-07 09:00:00              NaN           23.0            24.0\n",
      "752   2019-06-07 10:00:00              NaN           29.3            25.0\n",
      "753   2019-06-07 11:00:00              NaN           34.5            23.0\n",
      "754   2019-06-07 12:00:00              NaN           32.1            25.0\n",
      "755   2019-06-07 13:00:00              NaN           26.7            27.0\n",
      "756   2019-06-07 14:00:00              NaN           17.8            20.0\n",
      "757   2019-06-07 15:00:00              NaN           15.0            15.0\n",
      "758   2019-06-07 16:00:00              NaN           13.1            15.0\n",
      "759   2019-06-07 17:00:00              NaN           15.6            21.0\n",
      "760   2019-06-07 18:00:00              NaN           19.5            24.0\n",
      "761   2019-06-07 19:00:00              NaN           19.5            27.0\n",
      "762   2019-06-07 20:00:00              NaN           19.1            35.0\n",
      "763   2019-06-07 21:00:00              NaN           19.9            36.0\n",
      "764   2019-06-07 22:00:00              NaN           19.4            35.0\n",
      "765   2019-06-07 23:00:00              NaN           16.3             NaN\n",
      "766   2019-06-08 00:00:00              NaN           14.7            33.0\n",
      "767   2019-06-08 01:00:00              NaN           14.4            28.0\n",
      "768   2019-06-08 02:00:00              NaN           11.3             NaN\n",
      "769   2019-06-08 03:00:00              NaN            9.6             7.0\n",
      "770   2019-06-08 04:00:00              NaN            8.4             7.0\n",
      "771   2019-06-08 05:00:00              NaN            9.8             3.0\n",
      "772   2019-06-08 06:00:00              NaN           10.7             3.0\n",
      "773   2019-06-08 07:00:00              NaN           14.1             2.0\n",
      "774   2019-06-08 08:00:00              NaN           13.8             3.0\n",
      "775   2019-06-08 09:00:00              NaN           14.0             4.0\n",
      "776   2019-06-08 10:00:00              NaN           13.0             2.0\n",
      "777   2019-06-08 11:00:00              NaN           11.7             3.0\n",
      "778   2019-06-08 12:00:00              NaN           10.3             4.0\n",
      "779   2019-06-08 13:00:00              NaN           10.4             8.0\n",
      "780   2019-06-08 14:00:00              NaN            9.2            10.0\n",
      "781   2019-06-08 15:00:00              NaN           11.1            13.0\n",
      "782   2019-06-08 16:00:00              NaN           10.3            17.0\n",
      "783   2019-06-08 17:00:00              NaN           11.7            19.0\n",
      "784   2019-06-08 18:00:00              NaN           14.1            20.0\n",
      "785   2019-06-08 19:00:00              NaN           14.8            20.0\n",
      "786   2019-06-08 20:00:00              NaN           22.0            19.0\n",
      "787   2019-06-08 21:00:00              NaN            NaN            17.0\n",
      "788   2019-06-08 22:00:00              NaN            NaN            16.0\n",
      "789   2019-06-08 23:00:00              NaN           36.7             NaN\n",
      "790   2019-06-09 00:00:00              NaN           34.8            20.0\n",
      "791   2019-06-09 01:00:00              NaN           47.0            10.0\n",
      "792   2019-06-09 02:00:00              NaN           55.9            10.0\n",
      "793   2019-06-09 03:00:00             10.0           41.0             7.0\n",
      "794   2019-06-09 04:00:00              NaN           51.2             7.0\n",
      "795   2019-06-09 05:00:00              NaN           51.5             1.0\n",
      "796   2019-06-09 06:00:00              NaN           43.0             1.0\n",
      "797   2019-06-09 07:00:00              NaN           42.2             5.0\n",
      "798   2019-06-09 08:00:00              NaN           36.7             1.0\n",
      "799   2019-06-09 09:00:00              NaN           32.7             0.0\n",
      "800   2019-06-09 10:00:00              NaN           30.2             0.0\n",
      "801   2019-06-09 11:00:00              NaN           25.0             2.0\n",
      "802   2019-06-09 12:00:00              NaN           16.6             5.0\n",
      "803   2019-06-09 13:00:00              NaN           14.6             8.0\n",
      "804   2019-06-09 14:00:00              NaN           14.6            13.0\n",
      "805   2019-06-09 15:00:00              NaN           10.2            17.0\n",
      "806   2019-06-09 16:00:00              NaN            7.9            19.0\n",
      "807   2019-06-09 17:00:00              NaN            7.2            24.0\n",
      "808   2019-06-09 18:00:00              NaN           10.3            26.0\n",
      "809   2019-06-09 19:00:00              NaN           13.0            20.0\n",
      "810   2019-06-09 20:00:00              NaN           19.5            21.0\n",
      "811   2019-06-09 21:00:00              NaN           30.6            21.0\n",
      "812   2019-06-09 22:00:00              NaN           33.2            22.0\n",
      "813   2019-06-09 23:00:00              NaN           30.9             NaN\n",
      "814   2019-06-10 00:00:00              NaN           37.1            24.0\n",
      "815   2019-06-10 01:00:00              NaN           39.9            21.0\n",
      "816   2019-06-10 02:00:00              NaN           28.1            21.0\n",
      "817   2019-06-10 03:00:00             18.5           19.3            25.0\n",
      "818   2019-06-10 04:00:00              NaN           17.8            25.0\n",
      "819   2019-06-10 05:00:00              NaN           18.0            24.0\n",
      "820   2019-06-10 06:00:00              NaN           13.7            24.0\n",
      "821   2019-06-10 07:00:00              NaN           21.3            24.0\n",
      "822   2019-06-10 08:00:00              NaN           26.7            22.0\n",
      "823   2019-06-10 09:00:00              NaN           23.0            27.0\n",
      "824   2019-06-10 10:00:00              NaN           16.9            34.0\n",
      "825   2019-06-10 11:00:00              NaN           18.5            45.0\n",
      "826   2019-06-10 12:00:00              NaN           14.1            41.0\n",
      "827   2019-06-10 13:00:00              NaN           12.2            45.0\n",
      "828   2019-06-10 14:00:00              NaN           11.7            51.0\n",
      "829   2019-06-10 15:00:00              NaN            9.6            40.0\n",
      "830   2019-06-10 16:00:00              NaN            9.5            40.0\n",
      "831   2019-06-10 17:00:00              NaN           11.7            31.0\n",
      "832   2019-06-10 18:00:00              NaN           15.1            28.0\n",
      "833   2019-06-10 19:00:00              NaN           19.1            26.0\n",
      "834   2019-06-10 20:00:00              NaN           18.4            25.0\n",
      "835   2019-06-10 21:00:00              NaN           22.3            26.0\n",
      "836   2019-06-10 22:00:00              NaN           22.6            24.0\n",
      "837   2019-06-10 23:00:00              NaN           23.5            23.0\n",
      "838   2019-06-11 00:00:00              NaN           24.8            23.0\n",
      "839   2019-06-11 01:00:00              NaN           24.1            15.0\n",
      "840   2019-06-11 02:00:00              NaN           19.6            15.0\n",
      "841   2019-06-11 03:00:00              7.5           19.1            16.0\n",
      "842   2019-06-11 04:00:00              NaN           29.6            16.0\n",
      "843   2019-06-11 05:00:00              NaN           32.3            13.0\n",
      "844   2019-06-11 06:00:00              NaN           52.7            13.0\n",
      "845   2019-06-11 07:00:00              NaN           58.7            17.0\n",
      "846   2019-06-11 08:00:00              NaN           55.4            18.0\n",
      "847   2019-06-11 09:00:00              NaN           58.0            21.0\n",
      "848   2019-06-11 10:00:00              NaN           43.6            23.0\n",
      "849   2019-06-11 11:00:00              NaN           31.7            22.0\n",
      "850   2019-06-11 12:00:00              NaN           22.1            22.0\n",
      "851   2019-06-11 13:00:00              NaN           17.3            23.0\n",
      "852   2019-06-11 14:00:00              NaN           12.6            26.0\n",
      "853   2019-06-11 15:00:00              NaN           13.1            35.0\n",
      "854   2019-06-11 16:00:00              NaN           16.6            31.0\n",
      "855   2019-06-11 17:00:00              NaN           19.8            31.0\n",
      "856   2019-06-11 18:00:00              NaN           22.6            30.0\n",
      "857   2019-06-11 19:00:00              NaN           35.5            31.0\n",
      "858   2019-06-11 20:00:00              NaN           44.6            30.0\n",
      "859   2019-06-11 21:00:00              NaN           36.1            22.0\n",
      "860   2019-06-11 22:00:00              NaN           42.7            22.0\n",
      "861   2019-06-11 23:00:00              NaN           54.1            20.0\n",
      "862   2019-06-12 00:00:00              NaN           59.4            20.0\n",
      "863   2019-06-12 01:00:00              NaN           41.5            15.0\n",
      "864   2019-06-12 02:00:00              NaN           37.2             NaN\n",
      "865   2019-06-12 03:00:00             21.0           41.9             NaN\n",
      "866   2019-06-12 04:00:00              NaN           34.7            11.0\n",
      "867   2019-06-12 05:00:00              NaN           36.3             9.0\n",
      "868   2019-06-12 06:00:00              NaN           44.9             9.0\n",
      "869   2019-06-12 07:00:00              NaN           42.7            12.0\n",
      "870   2019-06-12 08:00:00              NaN           38.4            17.0\n",
      "871   2019-06-12 09:00:00              NaN           44.4            20.0\n",
      "872   2019-06-12 10:00:00              NaN           35.5            22.0\n",
      "873   2019-06-12 11:00:00              NaN           26.7            25.0\n",
      "874   2019-06-12 12:00:00              NaN            0.0            35.0\n",
      "875   2019-06-12 13:00:00              NaN            0.0            33.0\n",
      "876   2019-06-12 14:00:00              NaN           15.4            33.0\n",
      "877   2019-06-12 15:00:00              NaN           17.9            35.0\n",
      "878   2019-06-12 16:00:00              NaN           20.3            42.0\n",
      "879   2019-06-12 17:00:00              NaN           16.8            45.0\n",
      "880   2019-06-12 18:00:00              NaN           23.6            43.0\n",
      "881   2019-06-12 19:00:00              NaN           24.2            45.0\n",
      "882   2019-06-12 20:00:00              NaN           25.3            33.0\n",
      "883   2019-06-12 21:00:00              NaN           23.4            41.0\n",
      "884   2019-06-12 22:00:00              NaN           29.2            43.0\n",
      "885   2019-06-12 23:00:00              NaN           29.3             NaN\n",
      "886   2019-06-13 00:00:00              NaN           25.6            35.0\n",
      "887   2019-06-13 01:00:00              NaN           26.9            29.0\n",
      "888   2019-06-13 02:00:00              NaN           20.0             NaN\n",
      "889   2019-06-13 03:00:00             28.5           18.7            26.0\n",
      "890   2019-06-13 04:00:00              NaN           18.0            26.0\n",
      "891   2019-06-13 05:00:00              NaN           18.8            16.0\n",
      "892   2019-06-13 06:00:00              NaN           24.6            16.0\n",
      "893   2019-06-13 07:00:00              NaN           37.0            19.0\n",
      "894   2019-06-13 08:00:00              NaN           39.8            21.0\n",
      "895   2019-06-13 09:00:00              NaN           40.9            19.0\n",
      "896   2019-06-13 10:00:00              NaN           35.3            16.0\n",
      "897   2019-06-13 11:00:00              NaN           30.2            18.0\n",
      "898   2019-06-13 12:00:00              NaN           24.5            19.0\n",
      "899   2019-06-13 13:00:00              NaN           22.7            19.0\n",
      "900   2019-06-13 14:00:00              NaN           17.9            16.0\n",
      "901   2019-06-13 15:00:00              NaN           18.2            15.0\n",
      "902   2019-06-13 16:00:00              NaN           19.4            13.0\n",
      "903   2019-06-13 17:00:00              NaN           28.8            11.0\n",
      "904   2019-06-13 18:00:00              NaN           36.1            15.0\n",
      "905   2019-06-13 19:00:00              NaN           38.2            14.0\n",
      "906   2019-06-13 20:00:00              NaN           24.0            13.0\n",
      "907   2019-06-13 21:00:00              NaN           27.5            14.0\n",
      "908   2019-06-13 22:00:00              NaN           31.5            15.0\n",
      "909   2019-06-13 23:00:00              NaN           58.8            15.0\n",
      "910   2019-06-14 00:00:00              NaN           77.9            15.0\n",
      "911   2019-06-14 01:00:00              NaN           78.3            13.0\n",
      "912   2019-06-14 02:00:00              NaN           74.2             NaN\n",
      "913   2019-06-14 03:00:00              NaN           68.1             8.0\n",
      "914   2019-06-14 04:00:00              NaN           66.6             8.0\n",
      "915   2019-06-14 05:00:00              NaN           48.5             6.0\n",
      "916   2019-06-14 06:00:00              NaN           37.9             6.0\n",
      "917   2019-06-14 07:00:00              NaN           49.3            13.0\n",
      "918   2019-06-14 08:00:00              NaN           64.3            11.0\n",
      "919   2019-06-14 09:00:00              NaN           51.5            11.0\n",
      "920   2019-06-14 10:00:00              NaN           34.3            14.0\n",
      "921   2019-06-14 11:00:00             36.5           27.9            13.0\n",
      "922   2019-06-14 12:00:00              NaN           25.1            13.0\n",
      "923   2019-06-14 13:00:00              NaN           21.8            15.0\n",
      "924   2019-06-14 14:00:00              NaN           17.1            16.0\n",
      "925   2019-06-14 15:00:00              NaN           15.4            22.0\n",
      "926   2019-06-14 16:00:00              NaN           14.2            25.0\n",
      "927   2019-06-14 17:00:00              NaN           15.2            25.0\n",
      "928   2019-06-14 18:00:00              NaN           18.9            26.0\n",
      "929   2019-06-14 19:00:00              NaN           16.6            27.0\n",
      "930   2019-06-14 20:00:00              NaN           19.0            26.0\n",
      "931   2019-06-14 21:00:00              NaN           25.0            26.0\n",
      "932   2019-06-14 22:00:00              NaN           41.9            25.0\n",
      "933   2019-06-14 23:00:00              NaN           55.0            26.0\n",
      "934   2019-06-15 00:00:00              NaN           35.3            26.0\n",
      "935   2019-06-15 01:00:00              NaN           32.1            26.0\n",
      "936   2019-06-15 02:00:00              NaN           29.6             NaN\n",
      "937   2019-06-15 03:00:00             17.5           29.0             NaN\n",
      "938   2019-06-15 04:00:00              NaN           33.9             NaN\n",
      "939   2019-06-15 05:00:00              NaN            NaN            10.0\n",
      "940   2019-06-15 06:00:00              NaN            NaN            10.0\n",
      "941   2019-06-15 07:00:00              NaN            NaN            13.0\n",
      "942   2019-06-15 08:00:00              NaN           35.8            13.0\n",
      "943   2019-06-15 09:00:00              NaN           24.1             8.0\n",
      "944   2019-06-15 10:00:00              NaN           17.6             8.0\n",
      "945   2019-06-15 11:00:00              NaN           14.0            12.0\n",
      "946   2019-06-15 12:00:00              NaN           12.1            14.0\n",
      "947   2019-06-15 13:00:00              NaN           11.1            13.0\n",
      "948   2019-06-15 14:00:00              NaN            9.4            18.0\n",
      "949   2019-06-15 15:00:00              NaN            9.0            17.0\n",
      "950   2019-06-15 16:00:00              NaN            9.6            18.0\n",
      "951   2019-06-15 17:00:00              NaN           10.5            18.0\n",
      "952   2019-06-15 18:00:00              NaN           10.7            20.0\n",
      "953   2019-06-15 19:00:00              NaN           11.1            22.0\n",
      "954   2019-06-15 20:00:00              NaN           14.0            22.0\n",
      "955   2019-06-15 21:00:00              NaN           14.2            21.0\n",
      "956   2019-06-15 22:00:00              NaN           15.2            20.0\n",
      "957   2019-06-15 23:00:00              NaN           17.2            19.0\n",
      "958   2019-06-16 00:00:00              NaN           20.1            19.0\n",
      "959   2019-06-16 01:00:00              NaN           22.6            15.0\n",
      "960   2019-06-16 02:00:00              NaN           16.5            15.0\n",
      "961   2019-06-16 03:00:00             42.5           12.8            12.0\n",
      "962   2019-06-16 04:00:00              NaN           11.4            12.0\n",
      "963   2019-06-16 05:00:00              NaN           11.2            10.0\n",
      "964   2019-06-16 06:00:00              NaN           11.7            10.0\n",
      "965   2019-06-16 07:00:00              NaN           14.0             8.0\n",
      "966   2019-06-16 08:00:00              NaN           11.6             5.0\n",
      "967   2019-06-16 09:00:00              NaN           10.2             4.0\n",
      "968   2019-06-16 10:00:00              NaN            9.9             5.0\n",
      "969   2019-06-16 11:00:00              NaN            9.4             6.0\n",
      "970   2019-06-16 12:00:00              NaN            8.7             6.0\n",
      "971   2019-06-16 13:00:00              NaN           12.9            10.0\n",
      "972   2019-06-16 14:00:00              NaN           11.2            16.0\n",
      "973   2019-06-16 15:00:00              NaN            8.7            23.0\n",
      "974   2019-06-16 16:00:00              NaN            8.1            26.0\n",
      "975   2019-06-16 17:00:00              NaN            8.4            29.0\n",
      "976   2019-06-16 18:00:00              NaN            9.2            29.0\n",
      "977   2019-06-16 19:00:00              NaN           11.8            28.0\n",
      "978   2019-06-16 20:00:00              NaN           12.3            28.0\n",
      "979   2019-06-16 21:00:00              NaN           14.4            27.0\n",
      "980   2019-06-16 22:00:00              NaN           23.3            25.0\n",
      "981   2019-06-16 23:00:00              NaN           42.7             NaN\n",
      "982   2019-06-17 00:00:00              NaN           56.6            23.0\n",
      "983   2019-06-17 01:00:00              NaN           67.3            17.0\n",
      "984   2019-06-17 02:00:00              NaN           69.3            17.0\n",
      "985   2019-06-17 03:00:00             42.0           58.8            14.0\n",
      "986   2019-06-17 04:00:00             35.5           53.1            14.0\n",
      "987   2019-06-17 05:00:00             36.0           49.1            11.0\n",
      "988   2019-06-17 06:00:00             39.5           45.7            11.0\n",
      "989   2019-06-17 07:00:00             42.5           44.8            12.0\n",
      "990   2019-06-17 08:00:00             43.5           52.3            13.0\n",
      "991   2019-06-17 09:00:00             45.0           54.4            13.0\n",
      "992   2019-06-17 10:00:00             41.0           51.6            11.0\n",
      "993   2019-06-17 11:00:00              NaN           30.4            11.0\n",
      "994   2019-06-17 12:00:00              NaN           16.0            11.0\n",
      "995   2019-06-17 13:00:00              NaN           15.2             NaN\n",
      "996   2019-06-17 14:00:00              NaN           10.1             NaN\n",
      "997   2019-06-17 15:00:00              NaN            9.6             NaN\n",
      "998   2019-06-17 16:00:00              NaN           11.5             NaN\n",
      "999   2019-06-17 17:00:00              NaN           13.1             NaN\n",
      "1000  2019-06-17 18:00:00              NaN           11.9             NaN\n",
      "1001  2019-06-17 19:00:00              NaN           14.9             NaN\n",
      "1002  2019-06-17 20:00:00              NaN           15.4             NaN\n",
      "1003  2019-06-17 21:00:00              NaN           15.2             NaN\n",
      "1004  2019-06-17 22:00:00              NaN           20.5             NaN\n",
      "1005  2019-06-17 23:00:00              NaN           38.3             NaN\n",
      "1006  2019-06-18 00:00:00              NaN           51.0             NaN\n",
      "1007  2019-06-18 01:00:00              NaN           73.3             NaN\n",
      "1008  2019-06-18 02:00:00              NaN           66.2             NaN\n",
      "1009  2019-06-18 03:00:00              NaN           60.1             NaN\n",
      "1010  2019-06-18 04:00:00              NaN           39.8             NaN\n",
      "1011  2019-06-18 05:00:00              NaN           45.5             NaN\n",
      "1012  2019-06-18 06:00:00              NaN           26.5             NaN\n",
      "1013  2019-06-18 07:00:00              NaN           33.8             NaN\n",
      "1014  2019-06-18 08:00:00              NaN           51.4             NaN\n",
      "1015  2019-06-18 09:00:00              NaN           52.6             NaN\n",
      "1016  2019-06-18 10:00:00              NaN           49.6             NaN\n",
      "1017  2019-06-18 21:00:00              NaN           15.3             NaN\n",
      "1018  2019-06-18 22:00:00              NaN           17.0             NaN\n",
      "1019  2019-06-18 23:00:00              NaN           23.1             NaN\n",
      "1020  2019-06-19 00:00:00              NaN           39.3             NaN\n",
      "1021  2019-06-19 11:00:00              NaN           27.3             NaN\n",
      "1022  2019-06-19 12:00:00              NaN           26.6             NaN\n",
      "1023  2019-06-20 15:00:00              NaN           19.4             NaN\n",
      "1024  2019-06-20 16:00:00              NaN           20.1             NaN\n",
      "1025  2019-06-20 17:00:00              NaN           19.3             NaN\n",
      "1026  2019-06-20 18:00:00              NaN           19.0             NaN\n",
      "1027  2019-06-20 19:00:00              NaN           23.2             NaN\n",
      "1028  2019-06-20 20:00:00              NaN           23.9             NaN\n",
      "1029  2019-06-20 21:00:00              NaN           25.3             NaN\n",
      "1030  2019-06-20 22:00:00              NaN           21.4             NaN\n",
      "1031  2019-06-20 23:00:00              NaN           24.9             NaN\n",
      "1032  2019-06-21 00:00:00              NaN           26.5             NaN\n",
      "1033  2019-06-21 01:00:00              NaN           21.8             NaN\n",
      "1034  2019-06-21 02:00:00              NaN           20.0             NaN\n"
     ]
    }
   ],
   "source": [
    "print(df.to_string())"
   ]
  },
  {
   "cell_type": "code",
   "execution_count": 84,
   "id": "02ea61bd",
   "metadata": {},
   "outputs": [
    {
     "name": "stdout",
     "output_type": "stream",
     "text": [
      "                 datetime  station_antwerp  station_paris  station_london\n",
      "0     2019-05-07 02:00:00              NaN            NaN            23.0\n",
      "1     2019-05-07 03:00:00             50.5           25.0            19.0\n",
      "2     2019-05-07 04:00:00             45.0           27.7            19.0\n",
      "3     2019-05-07 05:00:00              NaN           50.4            16.0\n",
      "4     2019-05-07 06:00:00              NaN           61.9             NaN\n",
      "...                   ...              ...            ...             ...\n",
      "1030  2019-06-20 22:00:00              NaN           21.4             NaN\n",
      "1031  2019-06-20 23:00:00              NaN           24.9             NaN\n",
      "1032  2019-06-21 00:00:00              NaN           26.5             NaN\n",
      "1033  2019-06-21 01:00:00              NaN           21.8             NaN\n",
      "1034  2019-06-21 02:00:00              NaN           20.0             NaN\n",
      "\n",
      "[1035 rows x 4 columns]\n"
     ]
    }
   ],
   "source": [
    "print(df)"
   ]
  },
  {
   "cell_type": "code",
   "execution_count": 85,
   "id": "45d17366",
   "metadata": {},
   "outputs": [
    {
     "data": {
      "text/html": [
       "<div>\n",
       "<style scoped>\n",
       "    .dataframe tbody tr th:only-of-type {\n",
       "        vertical-align: middle;\n",
       "    }\n",
       "\n",
       "    .dataframe tbody tr th {\n",
       "        vertical-align: top;\n",
       "    }\n",
       "\n",
       "    .dataframe thead th {\n",
       "        text-align: right;\n",
       "    }\n",
       "</style>\n",
       "<table border=\"1\" class=\"dataframe\">\n",
       "  <thead>\n",
       "    <tr style=\"text-align: right;\">\n",
       "      <th></th>\n",
       "      <th>datetime</th>\n",
       "      <th>station_antwerp</th>\n",
       "      <th>station_paris</th>\n",
       "      <th>station_london</th>\n",
       "    </tr>\n",
       "  </thead>\n",
       "  <tbody>\n",
       "    <tr>\n",
       "      <th>0</th>\n",
       "      <td>2019-05-07 02:00:00</td>\n",
       "      <td>NaN</td>\n",
       "      <td>NaN</td>\n",
       "      <td>23.0</td>\n",
       "    </tr>\n",
       "    <tr>\n",
       "      <th>1</th>\n",
       "      <td>2019-05-07 03:00:00</td>\n",
       "      <td>50.5</td>\n",
       "      <td>25.0</td>\n",
       "      <td>19.0</td>\n",
       "    </tr>\n",
       "    <tr>\n",
       "      <th>2</th>\n",
       "      <td>2019-05-07 04:00:00</td>\n",
       "      <td>45.0</td>\n",
       "      <td>27.7</td>\n",
       "      <td>19.0</td>\n",
       "    </tr>\n",
       "    <tr>\n",
       "      <th>3</th>\n",
       "      <td>2019-05-07 05:00:00</td>\n",
       "      <td>NaN</td>\n",
       "      <td>50.4</td>\n",
       "      <td>16.0</td>\n",
       "    </tr>\n",
       "    <tr>\n",
       "      <th>4</th>\n",
       "      <td>2019-05-07 06:00:00</td>\n",
       "      <td>NaN</td>\n",
       "      <td>61.9</td>\n",
       "      <td>NaN</td>\n",
       "    </tr>\n",
       "    <tr>\n",
       "      <th>...</th>\n",
       "      <td>...</td>\n",
       "      <td>...</td>\n",
       "      <td>...</td>\n",
       "      <td>...</td>\n",
       "    </tr>\n",
       "    <tr>\n",
       "      <th>1030</th>\n",
       "      <td>2019-06-20 22:00:00</td>\n",
       "      <td>NaN</td>\n",
       "      <td>21.4</td>\n",
       "      <td>NaN</td>\n",
       "    </tr>\n",
       "    <tr>\n",
       "      <th>1031</th>\n",
       "      <td>2019-06-20 23:00:00</td>\n",
       "      <td>NaN</td>\n",
       "      <td>24.9</td>\n",
       "      <td>NaN</td>\n",
       "    </tr>\n",
       "    <tr>\n",
       "      <th>1032</th>\n",
       "      <td>2019-06-21 00:00:00</td>\n",
       "      <td>NaN</td>\n",
       "      <td>26.5</td>\n",
       "      <td>NaN</td>\n",
       "    </tr>\n",
       "    <tr>\n",
       "      <th>1033</th>\n",
       "      <td>2019-06-21 01:00:00</td>\n",
       "      <td>NaN</td>\n",
       "      <td>21.8</td>\n",
       "      <td>NaN</td>\n",
       "    </tr>\n",
       "    <tr>\n",
       "      <th>1034</th>\n",
       "      <td>2019-06-21 02:00:00</td>\n",
       "      <td>NaN</td>\n",
       "      <td>20.0</td>\n",
       "      <td>NaN</td>\n",
       "    </tr>\n",
       "  </tbody>\n",
       "</table>\n",
       "<p>1035 rows × 4 columns</p>\n",
       "</div>"
      ],
      "text/plain": [
       "                 datetime  station_antwerp  station_paris  station_london\n",
       "0     2019-05-07 02:00:00              NaN            NaN            23.0\n",
       "1     2019-05-07 03:00:00             50.5           25.0            19.0\n",
       "2     2019-05-07 04:00:00             45.0           27.7            19.0\n",
       "3     2019-05-07 05:00:00              NaN           50.4            16.0\n",
       "4     2019-05-07 06:00:00              NaN           61.9             NaN\n",
       "...                   ...              ...            ...             ...\n",
       "1030  2019-06-20 22:00:00              NaN           21.4             NaN\n",
       "1031  2019-06-20 23:00:00              NaN           24.9             NaN\n",
       "1032  2019-06-21 00:00:00              NaN           26.5             NaN\n",
       "1033  2019-06-21 01:00:00              NaN           21.8             NaN\n",
       "1034  2019-06-21 02:00:00              NaN           20.0             NaN\n",
       "\n",
       "[1035 rows x 4 columns]"
      ]
     },
     "execution_count": 85,
     "metadata": {},
     "output_type": "execute_result"
    }
   ],
   "source": [
    "df"
   ]
  },
  {
   "cell_type": "markdown",
   "id": "14c64ace",
   "metadata": {},
   "source": [
    "#### maximumn rows returned in pandas"
   ]
  },
  {
   "cell_type": "code",
   "execution_count": 3,
   "id": "e34adcdc",
   "metadata": {},
   "outputs": [
    {
     "name": "stdout",
     "output_type": "stream",
     "text": [
      "10\n"
     ]
    }
   ],
   "source": [
    "\n",
    "print(pd.options.display.min_rows)"
   ]
  },
  {
   "cell_type": "code",
   "execution_count": 4,
   "id": "10ecc73d",
   "metadata": {},
   "outputs": [
    {
     "name": "stdout",
     "output_type": "stream",
     "text": [
      "60\n"
     ]
    }
   ],
   "source": [
    "print(pd.options.display.max_rows) "
   ]
  },
  {
   "cell_type": "code",
   "execution_count": 5,
   "id": "e3a93a19",
   "metadata": {},
   "outputs": [
    {
     "name": "stdout",
     "output_type": "stream",
     "text": [
      "20\n"
     ]
    }
   ],
   "source": [
    "print(pd.options.display.max_columns) "
   ]
  },
  {
   "cell_type": "markdown",
   "id": "f52f422c",
   "metadata": {},
   "source": [
    "### Analyzing Data"
   ]
  },
  {
   "cell_type": "code",
   "execution_count": 89,
   "id": "3e0d868b",
   "metadata": {},
   "outputs": [
    {
     "data": {
      "text/html": [
       "<div>\n",
       "<style scoped>\n",
       "    .dataframe tbody tr th:only-of-type {\n",
       "        vertical-align: middle;\n",
       "    }\n",
       "\n",
       "    .dataframe tbody tr th {\n",
       "        vertical-align: top;\n",
       "    }\n",
       "\n",
       "    .dataframe thead th {\n",
       "        text-align: right;\n",
       "    }\n",
       "</style>\n",
       "<table border=\"1\" class=\"dataframe\">\n",
       "  <thead>\n",
       "    <tr style=\"text-align: right;\">\n",
       "      <th></th>\n",
       "      <th>datetime</th>\n",
       "      <th>station_antwerp</th>\n",
       "      <th>station_paris</th>\n",
       "      <th>station_london</th>\n",
       "    </tr>\n",
       "  </thead>\n",
       "  <tbody>\n",
       "    <tr>\n",
       "      <th>0</th>\n",
       "      <td>2019-05-07 02:00:00</td>\n",
       "      <td>NaN</td>\n",
       "      <td>NaN</td>\n",
       "      <td>23.0</td>\n",
       "    </tr>\n",
       "    <tr>\n",
       "      <th>1</th>\n",
       "      <td>2019-05-07 03:00:00</td>\n",
       "      <td>50.5</td>\n",
       "      <td>25.0</td>\n",
       "      <td>19.0</td>\n",
       "    </tr>\n",
       "    <tr>\n",
       "      <th>2</th>\n",
       "      <td>2019-05-07 04:00:00</td>\n",
       "      <td>45.0</td>\n",
       "      <td>27.7</td>\n",
       "      <td>19.0</td>\n",
       "    </tr>\n",
       "    <tr>\n",
       "      <th>3</th>\n",
       "      <td>2019-05-07 05:00:00</td>\n",
       "      <td>NaN</td>\n",
       "      <td>50.4</td>\n",
       "      <td>16.0</td>\n",
       "    </tr>\n",
       "    <tr>\n",
       "      <th>4</th>\n",
       "      <td>2019-05-07 06:00:00</td>\n",
       "      <td>NaN</td>\n",
       "      <td>61.9</td>\n",
       "      <td>NaN</td>\n",
       "    </tr>\n",
       "  </tbody>\n",
       "</table>\n",
       "</div>"
      ],
      "text/plain": [
       "              datetime  station_antwerp  station_paris  station_london\n",
       "0  2019-05-07 02:00:00              NaN            NaN            23.0\n",
       "1  2019-05-07 03:00:00             50.5           25.0            19.0\n",
       "2  2019-05-07 04:00:00             45.0           27.7            19.0\n",
       "3  2019-05-07 05:00:00              NaN           50.4            16.0\n",
       "4  2019-05-07 06:00:00              NaN           61.9             NaN"
      ]
     },
     "execution_count": 89,
     "metadata": {},
     "output_type": "execute_result"
    }
   ],
   "source": [
    "df.head()"
   ]
  },
  {
   "cell_type": "code",
   "execution_count": 90,
   "id": "2c8ae01a",
   "metadata": {},
   "outputs": [
    {
     "data": {
      "text/html": [
       "<div>\n",
       "<style scoped>\n",
       "    .dataframe tbody tr th:only-of-type {\n",
       "        vertical-align: middle;\n",
       "    }\n",
       "\n",
       "    .dataframe tbody tr th {\n",
       "        vertical-align: top;\n",
       "    }\n",
       "\n",
       "    .dataframe thead th {\n",
       "        text-align: right;\n",
       "    }\n",
       "</style>\n",
       "<table border=\"1\" class=\"dataframe\">\n",
       "  <thead>\n",
       "    <tr style=\"text-align: right;\">\n",
       "      <th></th>\n",
       "      <th>datetime</th>\n",
       "      <th>station_antwerp</th>\n",
       "      <th>station_paris</th>\n",
       "      <th>station_london</th>\n",
       "    </tr>\n",
       "  </thead>\n",
       "  <tbody>\n",
       "    <tr>\n",
       "      <th>1030</th>\n",
       "      <td>2019-06-20 22:00:00</td>\n",
       "      <td>NaN</td>\n",
       "      <td>21.4</td>\n",
       "      <td>NaN</td>\n",
       "    </tr>\n",
       "    <tr>\n",
       "      <th>1031</th>\n",
       "      <td>2019-06-20 23:00:00</td>\n",
       "      <td>NaN</td>\n",
       "      <td>24.9</td>\n",
       "      <td>NaN</td>\n",
       "    </tr>\n",
       "    <tr>\n",
       "      <th>1032</th>\n",
       "      <td>2019-06-21 00:00:00</td>\n",
       "      <td>NaN</td>\n",
       "      <td>26.5</td>\n",
       "      <td>NaN</td>\n",
       "    </tr>\n",
       "    <tr>\n",
       "      <th>1033</th>\n",
       "      <td>2019-06-21 01:00:00</td>\n",
       "      <td>NaN</td>\n",
       "      <td>21.8</td>\n",
       "      <td>NaN</td>\n",
       "    </tr>\n",
       "    <tr>\n",
       "      <th>1034</th>\n",
       "      <td>2019-06-21 02:00:00</td>\n",
       "      <td>NaN</td>\n",
       "      <td>20.0</td>\n",
       "      <td>NaN</td>\n",
       "    </tr>\n",
       "  </tbody>\n",
       "</table>\n",
       "</div>"
      ],
      "text/plain": [
       "                 datetime  station_antwerp  station_paris  station_london\n",
       "1030  2019-06-20 22:00:00              NaN           21.4             NaN\n",
       "1031  2019-06-20 23:00:00              NaN           24.9             NaN\n",
       "1032  2019-06-21 00:00:00              NaN           26.5             NaN\n",
       "1033  2019-06-21 01:00:00              NaN           21.8             NaN\n",
       "1034  2019-06-21 02:00:00              NaN           20.0             NaN"
      ]
     },
     "execution_count": 90,
     "metadata": {},
     "output_type": "execute_result"
    }
   ],
   "source": [
    "df.tail()"
   ]
  },
  {
   "cell_type": "code",
   "execution_count": 91,
   "id": "4c1ec41e",
   "metadata": {},
   "outputs": [
    {
     "data": {
      "text/html": [
       "<div>\n",
       "<style scoped>\n",
       "    .dataframe tbody tr th:only-of-type {\n",
       "        vertical-align: middle;\n",
       "    }\n",
       "\n",
       "    .dataframe tbody tr th {\n",
       "        vertical-align: top;\n",
       "    }\n",
       "\n",
       "    .dataframe thead th {\n",
       "        text-align: right;\n",
       "    }\n",
       "</style>\n",
       "<table border=\"1\" class=\"dataframe\">\n",
       "  <thead>\n",
       "    <tr style=\"text-align: right;\">\n",
       "      <th></th>\n",
       "      <th>datetime</th>\n",
       "      <th>station_antwerp</th>\n",
       "      <th>station_paris</th>\n",
       "      <th>station_london</th>\n",
       "    </tr>\n",
       "  </thead>\n",
       "  <tbody>\n",
       "    <tr>\n",
       "      <th>0</th>\n",
       "      <td>2019-05-07 02:00:00</td>\n",
       "      <td>NaN</td>\n",
       "      <td>NaN</td>\n",
       "      <td>23.0</td>\n",
       "    </tr>\n",
       "    <tr>\n",
       "      <th>1</th>\n",
       "      <td>2019-05-07 03:00:00</td>\n",
       "      <td>50.5</td>\n",
       "      <td>25.0</td>\n",
       "      <td>19.0</td>\n",
       "    </tr>\n",
       "    <tr>\n",
       "      <th>2</th>\n",
       "      <td>2019-05-07 04:00:00</td>\n",
       "      <td>45.0</td>\n",
       "      <td>27.7</td>\n",
       "      <td>19.0</td>\n",
       "    </tr>\n",
       "    <tr>\n",
       "      <th>3</th>\n",
       "      <td>2019-05-07 05:00:00</td>\n",
       "      <td>NaN</td>\n",
       "      <td>50.4</td>\n",
       "      <td>16.0</td>\n",
       "    </tr>\n",
       "    <tr>\n",
       "      <th>4</th>\n",
       "      <td>2019-05-07 06:00:00</td>\n",
       "      <td>NaN</td>\n",
       "      <td>61.9</td>\n",
       "      <td>NaN</td>\n",
       "    </tr>\n",
       "    <tr>\n",
       "      <th>5</th>\n",
       "      <td>2019-05-07 07:00:00</td>\n",
       "      <td>NaN</td>\n",
       "      <td>72.4</td>\n",
       "      <td>26.0</td>\n",
       "    </tr>\n",
       "    <tr>\n",
       "      <th>6</th>\n",
       "      <td>2019-05-07 08:00:00</td>\n",
       "      <td>NaN</td>\n",
       "      <td>77.7</td>\n",
       "      <td>32.0</td>\n",
       "    </tr>\n",
       "    <tr>\n",
       "      <th>7</th>\n",
       "      <td>2019-05-07 09:00:00</td>\n",
       "      <td>NaN</td>\n",
       "      <td>67.9</td>\n",
       "      <td>32.0</td>\n",
       "    </tr>\n",
       "    <tr>\n",
       "      <th>8</th>\n",
       "      <td>2019-05-07 10:00:00</td>\n",
       "      <td>NaN</td>\n",
       "      <td>56.0</td>\n",
       "      <td>28.0</td>\n",
       "    </tr>\n",
       "    <tr>\n",
       "      <th>9</th>\n",
       "      <td>2019-05-07 11:00:00</td>\n",
       "      <td>NaN</td>\n",
       "      <td>34.5</td>\n",
       "      <td>21.0</td>\n",
       "    </tr>\n",
       "    <tr>\n",
       "      <th>10</th>\n",
       "      <td>2019-05-07 12:00:00</td>\n",
       "      <td>NaN</td>\n",
       "      <td>20.1</td>\n",
       "      <td>21.0</td>\n",
       "    </tr>\n",
       "    <tr>\n",
       "      <th>11</th>\n",
       "      <td>2019-05-07 13:00:00</td>\n",
       "      <td>NaN</td>\n",
       "      <td>13.0</td>\n",
       "      <td>18.0</td>\n",
       "    </tr>\n",
       "    <tr>\n",
       "      <th>12</th>\n",
       "      <td>2019-05-07 14:00:00</td>\n",
       "      <td>NaN</td>\n",
       "      <td>10.6</td>\n",
       "      <td>20.0</td>\n",
       "    </tr>\n",
       "    <tr>\n",
       "      <th>13</th>\n",
       "      <td>2019-05-07 15:00:00</td>\n",
       "      <td>NaN</td>\n",
       "      <td>13.2</td>\n",
       "      <td>18.0</td>\n",
       "    </tr>\n",
       "    <tr>\n",
       "      <th>14</th>\n",
       "      <td>2019-05-07 16:00:00</td>\n",
       "      <td>NaN</td>\n",
       "      <td>11.0</td>\n",
       "      <td>20.0</td>\n",
       "    </tr>\n",
       "    <tr>\n",
       "      <th>15</th>\n",
       "      <td>2019-05-07 17:00:00</td>\n",
       "      <td>NaN</td>\n",
       "      <td>11.7</td>\n",
       "      <td>20.0</td>\n",
       "    </tr>\n",
       "    <tr>\n",
       "      <th>16</th>\n",
       "      <td>2019-05-07 18:00:00</td>\n",
       "      <td>NaN</td>\n",
       "      <td>18.2</td>\n",
       "      <td>21.0</td>\n",
       "    </tr>\n",
       "    <tr>\n",
       "      <th>17</th>\n",
       "      <td>2019-05-07 19:00:00</td>\n",
       "      <td>NaN</td>\n",
       "      <td>22.3</td>\n",
       "      <td>20.0</td>\n",
       "    </tr>\n",
       "    <tr>\n",
       "      <th>18</th>\n",
       "      <td>2019-05-07 20:00:00</td>\n",
       "      <td>NaN</td>\n",
       "      <td>21.4</td>\n",
       "      <td>20.0</td>\n",
       "    </tr>\n",
       "    <tr>\n",
       "      <th>19</th>\n",
       "      <td>2019-05-07 21:00:00</td>\n",
       "      <td>NaN</td>\n",
       "      <td>26.8</td>\n",
       "      <td>24.0</td>\n",
       "    </tr>\n",
       "  </tbody>\n",
       "</table>\n",
       "</div>"
      ],
      "text/plain": [
       "               datetime  station_antwerp  station_paris  station_london\n",
       "0   2019-05-07 02:00:00              NaN            NaN            23.0\n",
       "1   2019-05-07 03:00:00             50.5           25.0            19.0\n",
       "2   2019-05-07 04:00:00             45.0           27.7            19.0\n",
       "3   2019-05-07 05:00:00              NaN           50.4            16.0\n",
       "4   2019-05-07 06:00:00              NaN           61.9             NaN\n",
       "5   2019-05-07 07:00:00              NaN           72.4            26.0\n",
       "6   2019-05-07 08:00:00              NaN           77.7            32.0\n",
       "7   2019-05-07 09:00:00              NaN           67.9            32.0\n",
       "8   2019-05-07 10:00:00              NaN           56.0            28.0\n",
       "9   2019-05-07 11:00:00              NaN           34.5            21.0\n",
       "10  2019-05-07 12:00:00              NaN           20.1            21.0\n",
       "11  2019-05-07 13:00:00              NaN           13.0            18.0\n",
       "12  2019-05-07 14:00:00              NaN           10.6            20.0\n",
       "13  2019-05-07 15:00:00              NaN           13.2            18.0\n",
       "14  2019-05-07 16:00:00              NaN           11.0            20.0\n",
       "15  2019-05-07 17:00:00              NaN           11.7            20.0\n",
       "16  2019-05-07 18:00:00              NaN           18.2            21.0\n",
       "17  2019-05-07 19:00:00              NaN           22.3            20.0\n",
       "18  2019-05-07 20:00:00              NaN           21.4            20.0\n",
       "19  2019-05-07 21:00:00              NaN           26.8            24.0"
      ]
     },
     "execution_count": 91,
     "metadata": {},
     "output_type": "execute_result"
    }
   ],
   "source": [
    "df.head(20)"
   ]
  },
  {
   "cell_type": "code",
   "execution_count": 92,
   "id": "5ef51bc6",
   "metadata": {},
   "outputs": [
    {
     "data": {
      "text/html": [
       "<div>\n",
       "<style scoped>\n",
       "    .dataframe tbody tr th:only-of-type {\n",
       "        vertical-align: middle;\n",
       "    }\n",
       "\n",
       "    .dataframe tbody tr th {\n",
       "        vertical-align: top;\n",
       "    }\n",
       "\n",
       "    .dataframe thead th {\n",
       "        text-align: right;\n",
       "    }\n",
       "</style>\n",
       "<table border=\"1\" class=\"dataframe\">\n",
       "  <thead>\n",
       "    <tr style=\"text-align: right;\">\n",
       "      <th></th>\n",
       "      <th>datetime</th>\n",
       "      <th>station_antwerp</th>\n",
       "      <th>station_paris</th>\n",
       "      <th>station_london</th>\n",
       "    </tr>\n",
       "  </thead>\n",
       "  <tbody>\n",
       "    <tr>\n",
       "      <th>1020</th>\n",
       "      <td>2019-06-19 00:00:00</td>\n",
       "      <td>NaN</td>\n",
       "      <td>39.3</td>\n",
       "      <td>NaN</td>\n",
       "    </tr>\n",
       "    <tr>\n",
       "      <th>1021</th>\n",
       "      <td>2019-06-19 11:00:00</td>\n",
       "      <td>NaN</td>\n",
       "      <td>27.3</td>\n",
       "      <td>NaN</td>\n",
       "    </tr>\n",
       "    <tr>\n",
       "      <th>1022</th>\n",
       "      <td>2019-06-19 12:00:00</td>\n",
       "      <td>NaN</td>\n",
       "      <td>26.6</td>\n",
       "      <td>NaN</td>\n",
       "    </tr>\n",
       "    <tr>\n",
       "      <th>1023</th>\n",
       "      <td>2019-06-20 15:00:00</td>\n",
       "      <td>NaN</td>\n",
       "      <td>19.4</td>\n",
       "      <td>NaN</td>\n",
       "    </tr>\n",
       "    <tr>\n",
       "      <th>1024</th>\n",
       "      <td>2019-06-20 16:00:00</td>\n",
       "      <td>NaN</td>\n",
       "      <td>20.1</td>\n",
       "      <td>NaN</td>\n",
       "    </tr>\n",
       "    <tr>\n",
       "      <th>1025</th>\n",
       "      <td>2019-06-20 17:00:00</td>\n",
       "      <td>NaN</td>\n",
       "      <td>19.3</td>\n",
       "      <td>NaN</td>\n",
       "    </tr>\n",
       "    <tr>\n",
       "      <th>1026</th>\n",
       "      <td>2019-06-20 18:00:00</td>\n",
       "      <td>NaN</td>\n",
       "      <td>19.0</td>\n",
       "      <td>NaN</td>\n",
       "    </tr>\n",
       "    <tr>\n",
       "      <th>1027</th>\n",
       "      <td>2019-06-20 19:00:00</td>\n",
       "      <td>NaN</td>\n",
       "      <td>23.2</td>\n",
       "      <td>NaN</td>\n",
       "    </tr>\n",
       "    <tr>\n",
       "      <th>1028</th>\n",
       "      <td>2019-06-20 20:00:00</td>\n",
       "      <td>NaN</td>\n",
       "      <td>23.9</td>\n",
       "      <td>NaN</td>\n",
       "    </tr>\n",
       "    <tr>\n",
       "      <th>1029</th>\n",
       "      <td>2019-06-20 21:00:00</td>\n",
       "      <td>NaN</td>\n",
       "      <td>25.3</td>\n",
       "      <td>NaN</td>\n",
       "    </tr>\n",
       "    <tr>\n",
       "      <th>1030</th>\n",
       "      <td>2019-06-20 22:00:00</td>\n",
       "      <td>NaN</td>\n",
       "      <td>21.4</td>\n",
       "      <td>NaN</td>\n",
       "    </tr>\n",
       "    <tr>\n",
       "      <th>1031</th>\n",
       "      <td>2019-06-20 23:00:00</td>\n",
       "      <td>NaN</td>\n",
       "      <td>24.9</td>\n",
       "      <td>NaN</td>\n",
       "    </tr>\n",
       "    <tr>\n",
       "      <th>1032</th>\n",
       "      <td>2019-06-21 00:00:00</td>\n",
       "      <td>NaN</td>\n",
       "      <td>26.5</td>\n",
       "      <td>NaN</td>\n",
       "    </tr>\n",
       "    <tr>\n",
       "      <th>1033</th>\n",
       "      <td>2019-06-21 01:00:00</td>\n",
       "      <td>NaN</td>\n",
       "      <td>21.8</td>\n",
       "      <td>NaN</td>\n",
       "    </tr>\n",
       "    <tr>\n",
       "      <th>1034</th>\n",
       "      <td>2019-06-21 02:00:00</td>\n",
       "      <td>NaN</td>\n",
       "      <td>20.0</td>\n",
       "      <td>NaN</td>\n",
       "    </tr>\n",
       "  </tbody>\n",
       "</table>\n",
       "</div>"
      ],
      "text/plain": [
       "                 datetime  station_antwerp  station_paris  station_london\n",
       "1020  2019-06-19 00:00:00              NaN           39.3             NaN\n",
       "1021  2019-06-19 11:00:00              NaN           27.3             NaN\n",
       "1022  2019-06-19 12:00:00              NaN           26.6             NaN\n",
       "1023  2019-06-20 15:00:00              NaN           19.4             NaN\n",
       "1024  2019-06-20 16:00:00              NaN           20.1             NaN\n",
       "1025  2019-06-20 17:00:00              NaN           19.3             NaN\n",
       "1026  2019-06-20 18:00:00              NaN           19.0             NaN\n",
       "1027  2019-06-20 19:00:00              NaN           23.2             NaN\n",
       "1028  2019-06-20 20:00:00              NaN           23.9             NaN\n",
       "1029  2019-06-20 21:00:00              NaN           25.3             NaN\n",
       "1030  2019-06-20 22:00:00              NaN           21.4             NaN\n",
       "1031  2019-06-20 23:00:00              NaN           24.9             NaN\n",
       "1032  2019-06-21 00:00:00              NaN           26.5             NaN\n",
       "1033  2019-06-21 01:00:00              NaN           21.8             NaN\n",
       "1034  2019-06-21 02:00:00              NaN           20.0             NaN"
      ]
     },
     "execution_count": 92,
     "metadata": {},
     "output_type": "execute_result"
    }
   ],
   "source": [
    "df.tail(15)"
   ]
  },
  {
   "cell_type": "code",
   "execution_count": 93,
   "id": "b105ad2d",
   "metadata": {},
   "outputs": [
    {
     "name": "stdout",
     "output_type": "stream",
     "text": [
      "<class 'pandas.core.frame.DataFrame'>\n",
      "RangeIndex: 1035 entries, 0 to 1034\n",
      "Data columns (total 4 columns):\n",
      " #   Column           Non-Null Count  Dtype  \n",
      "---  ------           --------------  -----  \n",
      " 0   datetime         1035 non-null   object \n",
      " 1   station_antwerp  95 non-null     float64\n",
      " 2   station_paris    1004 non-null   float64\n",
      " 3   station_london   969 non-null    float64\n",
      "dtypes: float64(3), object(1)\n",
      "memory usage: 32.5+ KB\n"
     ]
    }
   ],
   "source": [
    "df.info()"
   ]
  },
  {
   "cell_type": "code",
   "execution_count": 94,
   "id": "d778cc3d",
   "metadata": {},
   "outputs": [
    {
     "data": {
      "text/html": [
       "<div>\n",
       "<style scoped>\n",
       "    .dataframe tbody tr th:only-of-type {\n",
       "        vertical-align: middle;\n",
       "    }\n",
       "\n",
       "    .dataframe tbody tr th {\n",
       "        vertical-align: top;\n",
       "    }\n",
       "\n",
       "    .dataframe thead th {\n",
       "        text-align: right;\n",
       "    }\n",
       "</style>\n",
       "<table border=\"1\" class=\"dataframe\">\n",
       "  <thead>\n",
       "    <tr style=\"text-align: right;\">\n",
       "      <th></th>\n",
       "      <th>station_antwerp</th>\n",
       "      <th>station_paris</th>\n",
       "      <th>station_london</th>\n",
       "    </tr>\n",
       "  </thead>\n",
       "  <tbody>\n",
       "    <tr>\n",
       "      <th>count</th>\n",
       "      <td>95.000000</td>\n",
       "      <td>1004.000000</td>\n",
       "      <td>969.000000</td>\n",
       "    </tr>\n",
       "    <tr>\n",
       "      <th>mean</th>\n",
       "      <td>25.778947</td>\n",
       "      <td>27.740538</td>\n",
       "      <td>24.689370</td>\n",
       "    </tr>\n",
       "    <tr>\n",
       "      <th>std</th>\n",
       "      <td>12.682019</td>\n",
       "      <td>15.285746</td>\n",
       "      <td>11.296598</td>\n",
       "    </tr>\n",
       "    <tr>\n",
       "      <th>min</th>\n",
       "      <td>7.500000</td>\n",
       "      <td>0.000000</td>\n",
       "      <td>0.000000</td>\n",
       "    </tr>\n",
       "    <tr>\n",
       "      <th>25%</th>\n",
       "      <td>16.750000</td>\n",
       "      <td>16.500000</td>\n",
       "      <td>18.000000</td>\n",
       "    </tr>\n",
       "    <tr>\n",
       "      <th>50%</th>\n",
       "      <td>23.000000</td>\n",
       "      <td>24.150000</td>\n",
       "      <td>25.000000</td>\n",
       "    </tr>\n",
       "    <tr>\n",
       "      <th>75%</th>\n",
       "      <td>34.500000</td>\n",
       "      <td>35.925000</td>\n",
       "      <td>31.000000</td>\n",
       "    </tr>\n",
       "    <tr>\n",
       "      <th>max</th>\n",
       "      <td>74.500000</td>\n",
       "      <td>97.000000</td>\n",
       "      <td>97.000000</td>\n",
       "    </tr>\n",
       "  </tbody>\n",
       "</table>\n",
       "</div>"
      ],
      "text/plain": [
       "       station_antwerp  station_paris  station_london\n",
       "count        95.000000    1004.000000      969.000000\n",
       "mean         25.778947      27.740538       24.689370\n",
       "std          12.682019      15.285746       11.296598\n",
       "min           7.500000       0.000000        0.000000\n",
       "25%          16.750000      16.500000       18.000000\n",
       "50%          23.000000      24.150000       25.000000\n",
       "75%          34.500000      35.925000       31.000000\n",
       "max          74.500000      97.000000       97.000000"
      ]
     },
     "execution_count": 94,
     "metadata": {},
     "output_type": "execute_result"
    }
   ],
   "source": [
    "df.describe()"
   ]
  },
  {
   "cell_type": "code",
   "execution_count": 95,
   "id": "e471f7c3",
   "metadata": {},
   "outputs": [],
   "source": [
    "# df.corr() >> ValueError\n",
    "\n",
    "# ValueError: could not convert string to float: '2019-05-07 02:00:00'"
   ]
  },
  {
   "cell_type": "markdown",
   "id": "e299cdec",
   "metadata": {},
   "source": [
    "### Data Cleaning\n",
    "\n",
    "Data cleaning means fixing bad data in your data set.\n",
    "\n",
    "Bad data could be:\n",
    "\n",
    "         1. Empty cells \n",
    "         2. Data in wrong format\n",
    "         3. wrong data\n",
    "         4. Duplicates"
   ]
  },
  {
   "cell_type": "markdown",
   "id": "fff41e8f",
   "metadata": {},
   "source": [
    "### 1. Cleaning Empty Cells\n",
    "\n",
    "Remove rows that contain empty cells.\n",
    "\n",
    "This is usually OK, since data sets can be very big, and removing a few rows will not have a big impact on the result"
   ]
  },
  {
   "cell_type": "code",
   "execution_count": 96,
   "id": "c84867b4",
   "metadata": {},
   "outputs": [],
   "source": [
    "df1 = df.copy()"
   ]
  },
  {
   "cell_type": "code",
   "execution_count": 97,
   "id": "7a6200ab",
   "metadata": {},
   "outputs": [
    {
     "data": {
      "text/html": [
       "<div>\n",
       "<style scoped>\n",
       "    .dataframe tbody tr th:only-of-type {\n",
       "        vertical-align: middle;\n",
       "    }\n",
       "\n",
       "    .dataframe tbody tr th {\n",
       "        vertical-align: top;\n",
       "    }\n",
       "\n",
       "    .dataframe thead th {\n",
       "        text-align: right;\n",
       "    }\n",
       "</style>\n",
       "<table border=\"1\" class=\"dataframe\">\n",
       "  <thead>\n",
       "    <tr style=\"text-align: right;\">\n",
       "      <th></th>\n",
       "      <th>datetime</th>\n",
       "      <th>station_antwerp</th>\n",
       "      <th>station_paris</th>\n",
       "      <th>station_london</th>\n",
       "    </tr>\n",
       "  </thead>\n",
       "  <tbody>\n",
       "    <tr>\n",
       "      <th>0</th>\n",
       "      <td>2019-05-07 02:00:00</td>\n",
       "      <td>NaN</td>\n",
       "      <td>NaN</td>\n",
       "      <td>23.0</td>\n",
       "    </tr>\n",
       "    <tr>\n",
       "      <th>1</th>\n",
       "      <td>2019-05-07 03:00:00</td>\n",
       "      <td>50.5</td>\n",
       "      <td>25.0</td>\n",
       "      <td>19.0</td>\n",
       "    </tr>\n",
       "    <tr>\n",
       "      <th>2</th>\n",
       "      <td>2019-05-07 04:00:00</td>\n",
       "      <td>45.0</td>\n",
       "      <td>27.7</td>\n",
       "      <td>19.0</td>\n",
       "    </tr>\n",
       "    <tr>\n",
       "      <th>3</th>\n",
       "      <td>2019-05-07 05:00:00</td>\n",
       "      <td>NaN</td>\n",
       "      <td>50.4</td>\n",
       "      <td>16.0</td>\n",
       "    </tr>\n",
       "    <tr>\n",
       "      <th>4</th>\n",
       "      <td>2019-05-07 06:00:00</td>\n",
       "      <td>NaN</td>\n",
       "      <td>61.9</td>\n",
       "      <td>NaN</td>\n",
       "    </tr>\n",
       "    <tr>\n",
       "      <th>...</th>\n",
       "      <td>...</td>\n",
       "      <td>...</td>\n",
       "      <td>...</td>\n",
       "      <td>...</td>\n",
       "    </tr>\n",
       "    <tr>\n",
       "      <th>1030</th>\n",
       "      <td>2019-06-20 22:00:00</td>\n",
       "      <td>NaN</td>\n",
       "      <td>21.4</td>\n",
       "      <td>NaN</td>\n",
       "    </tr>\n",
       "    <tr>\n",
       "      <th>1031</th>\n",
       "      <td>2019-06-20 23:00:00</td>\n",
       "      <td>NaN</td>\n",
       "      <td>24.9</td>\n",
       "      <td>NaN</td>\n",
       "    </tr>\n",
       "    <tr>\n",
       "      <th>1032</th>\n",
       "      <td>2019-06-21 00:00:00</td>\n",
       "      <td>NaN</td>\n",
       "      <td>26.5</td>\n",
       "      <td>NaN</td>\n",
       "    </tr>\n",
       "    <tr>\n",
       "      <th>1033</th>\n",
       "      <td>2019-06-21 01:00:00</td>\n",
       "      <td>NaN</td>\n",
       "      <td>21.8</td>\n",
       "      <td>NaN</td>\n",
       "    </tr>\n",
       "    <tr>\n",
       "      <th>1034</th>\n",
       "      <td>2019-06-21 02:00:00</td>\n",
       "      <td>NaN</td>\n",
       "      <td>20.0</td>\n",
       "      <td>NaN</td>\n",
       "    </tr>\n",
       "  </tbody>\n",
       "</table>\n",
       "<p>1035 rows × 4 columns</p>\n",
       "</div>"
      ],
      "text/plain": [
       "                 datetime  station_antwerp  station_paris  station_london\n",
       "0     2019-05-07 02:00:00              NaN            NaN            23.0\n",
       "1     2019-05-07 03:00:00             50.5           25.0            19.0\n",
       "2     2019-05-07 04:00:00             45.0           27.7            19.0\n",
       "3     2019-05-07 05:00:00              NaN           50.4            16.0\n",
       "4     2019-05-07 06:00:00              NaN           61.9             NaN\n",
       "...                   ...              ...            ...             ...\n",
       "1030  2019-06-20 22:00:00              NaN           21.4             NaN\n",
       "1031  2019-06-20 23:00:00              NaN           24.9             NaN\n",
       "1032  2019-06-21 00:00:00              NaN           26.5             NaN\n",
       "1033  2019-06-21 01:00:00              NaN           21.8             NaN\n",
       "1034  2019-06-21 02:00:00              NaN           20.0             NaN\n",
       "\n",
       "[1035 rows x 4 columns]"
      ]
     },
     "execution_count": 97,
     "metadata": {},
     "output_type": "execute_result"
    }
   ],
   "source": [
    "df1"
   ]
  },
  {
   "cell_type": "code",
   "execution_count": 98,
   "id": "194a7de9",
   "metadata": {},
   "outputs": [
    {
     "data": {
      "text/html": [
       "<div>\n",
       "<style scoped>\n",
       "    .dataframe tbody tr th:only-of-type {\n",
       "        vertical-align: middle;\n",
       "    }\n",
       "\n",
       "    .dataframe tbody tr th {\n",
       "        vertical-align: top;\n",
       "    }\n",
       "\n",
       "    .dataframe thead th {\n",
       "        text-align: right;\n",
       "    }\n",
       "</style>\n",
       "<table border=\"1\" class=\"dataframe\">\n",
       "  <thead>\n",
       "    <tr style=\"text-align: right;\">\n",
       "      <th></th>\n",
       "      <th>datetime</th>\n",
       "      <th>station_antwerp</th>\n",
       "      <th>station_paris</th>\n",
       "      <th>station_london</th>\n",
       "    </tr>\n",
       "  </thead>\n",
       "  <tbody>\n",
       "    <tr>\n",
       "      <th>0</th>\n",
       "      <td>2019-05-07 02:00:00</td>\n",
       "      <td>NaN</td>\n",
       "      <td>NaN</td>\n",
       "      <td>23.0</td>\n",
       "    </tr>\n",
       "    <tr>\n",
       "      <th>1</th>\n",
       "      <td>2019-05-07 03:00:00</td>\n",
       "      <td>50.5</td>\n",
       "      <td>25.0</td>\n",
       "      <td>19.0</td>\n",
       "    </tr>\n",
       "    <tr>\n",
       "      <th>2</th>\n",
       "      <td>2019-05-07 04:00:00</td>\n",
       "      <td>45.0</td>\n",
       "      <td>27.7</td>\n",
       "      <td>19.0</td>\n",
       "    </tr>\n",
       "    <tr>\n",
       "      <th>3</th>\n",
       "      <td>2019-05-07 05:00:00</td>\n",
       "      <td>NaN</td>\n",
       "      <td>50.4</td>\n",
       "      <td>16.0</td>\n",
       "    </tr>\n",
       "    <tr>\n",
       "      <th>4</th>\n",
       "      <td>2019-05-07 06:00:00</td>\n",
       "      <td>NaN</td>\n",
       "      <td>61.9</td>\n",
       "      <td>NaN</td>\n",
       "    </tr>\n",
       "  </tbody>\n",
       "</table>\n",
       "</div>"
      ],
      "text/plain": [
       "              datetime  station_antwerp  station_paris  station_london\n",
       "0  2019-05-07 02:00:00              NaN            NaN            23.0\n",
       "1  2019-05-07 03:00:00             50.5           25.0            19.0\n",
       "2  2019-05-07 04:00:00             45.0           27.7            19.0\n",
       "3  2019-05-07 05:00:00              NaN           50.4            16.0\n",
       "4  2019-05-07 06:00:00              NaN           61.9             NaN"
      ]
     },
     "execution_count": 98,
     "metadata": {},
     "output_type": "execute_result"
    }
   ],
   "source": [
    "df1.head()"
   ]
  },
  {
   "cell_type": "code",
   "execution_count": 99,
   "id": "620c2e4e",
   "metadata": {},
   "outputs": [
    {
     "data": {
      "text/html": [
       "<div>\n",
       "<style scoped>\n",
       "    .dataframe tbody tr th:only-of-type {\n",
       "        vertical-align: middle;\n",
       "    }\n",
       "\n",
       "    .dataframe tbody tr th {\n",
       "        vertical-align: top;\n",
       "    }\n",
       "\n",
       "    .dataframe thead th {\n",
       "        text-align: right;\n",
       "    }\n",
       "</style>\n",
       "<table border=\"1\" class=\"dataframe\">\n",
       "  <thead>\n",
       "    <tr style=\"text-align: right;\">\n",
       "      <th></th>\n",
       "      <th>datetime</th>\n",
       "      <th>station_antwerp</th>\n",
       "      <th>station_paris</th>\n",
       "      <th>station_london</th>\n",
       "    </tr>\n",
       "  </thead>\n",
       "  <tbody>\n",
       "    <tr>\n",
       "      <th>0</th>\n",
       "      <td>False</td>\n",
       "      <td>True</td>\n",
       "      <td>True</td>\n",
       "      <td>False</td>\n",
       "    </tr>\n",
       "    <tr>\n",
       "      <th>1</th>\n",
       "      <td>False</td>\n",
       "      <td>False</td>\n",
       "      <td>False</td>\n",
       "      <td>False</td>\n",
       "    </tr>\n",
       "    <tr>\n",
       "      <th>2</th>\n",
       "      <td>False</td>\n",
       "      <td>False</td>\n",
       "      <td>False</td>\n",
       "      <td>False</td>\n",
       "    </tr>\n",
       "    <tr>\n",
       "      <th>3</th>\n",
       "      <td>False</td>\n",
       "      <td>True</td>\n",
       "      <td>False</td>\n",
       "      <td>False</td>\n",
       "    </tr>\n",
       "    <tr>\n",
       "      <th>4</th>\n",
       "      <td>False</td>\n",
       "      <td>True</td>\n",
       "      <td>False</td>\n",
       "      <td>True</td>\n",
       "    </tr>\n",
       "    <tr>\n",
       "      <th>...</th>\n",
       "      <td>...</td>\n",
       "      <td>...</td>\n",
       "      <td>...</td>\n",
       "      <td>...</td>\n",
       "    </tr>\n",
       "    <tr>\n",
       "      <th>1030</th>\n",
       "      <td>False</td>\n",
       "      <td>True</td>\n",
       "      <td>False</td>\n",
       "      <td>True</td>\n",
       "    </tr>\n",
       "    <tr>\n",
       "      <th>1031</th>\n",
       "      <td>False</td>\n",
       "      <td>True</td>\n",
       "      <td>False</td>\n",
       "      <td>True</td>\n",
       "    </tr>\n",
       "    <tr>\n",
       "      <th>1032</th>\n",
       "      <td>False</td>\n",
       "      <td>True</td>\n",
       "      <td>False</td>\n",
       "      <td>True</td>\n",
       "    </tr>\n",
       "    <tr>\n",
       "      <th>1033</th>\n",
       "      <td>False</td>\n",
       "      <td>True</td>\n",
       "      <td>False</td>\n",
       "      <td>True</td>\n",
       "    </tr>\n",
       "    <tr>\n",
       "      <th>1034</th>\n",
       "      <td>False</td>\n",
       "      <td>True</td>\n",
       "      <td>False</td>\n",
       "      <td>True</td>\n",
       "    </tr>\n",
       "  </tbody>\n",
       "</table>\n",
       "<p>1035 rows × 4 columns</p>\n",
       "</div>"
      ],
      "text/plain": [
       "      datetime  station_antwerp  station_paris  station_london\n",
       "0        False             True           True           False\n",
       "1        False            False          False           False\n",
       "2        False            False          False           False\n",
       "3        False             True          False           False\n",
       "4        False             True          False            True\n",
       "...        ...              ...            ...             ...\n",
       "1030     False             True          False            True\n",
       "1031     False             True          False            True\n",
       "1032     False             True          False            True\n",
       "1033     False             True          False            True\n",
       "1034     False             True          False            True\n",
       "\n",
       "[1035 rows x 4 columns]"
      ]
     },
     "execution_count": 99,
     "metadata": {},
     "output_type": "execute_result"
    }
   ],
   "source": [
    "df1.isnull()"
   ]
  },
  {
   "cell_type": "code",
   "execution_count": 100,
   "id": "3c6702b1",
   "metadata": {},
   "outputs": [
    {
     "data": {
      "text/plain": [
       "1035"
      ]
     },
     "execution_count": 100,
     "metadata": {},
     "output_type": "execute_result"
    }
   ],
   "source": [
    "len(df1)"
   ]
  },
  {
   "cell_type": "code",
   "execution_count": 101,
   "id": "2dea6d5e",
   "metadata": {},
   "outputs": [
    {
     "data": {
      "text/plain": [
       "95"
      ]
     },
     "execution_count": 101,
     "metadata": {},
     "output_type": "execute_result"
    }
   ],
   "source": [
    "1035-940"
   ]
  },
  {
   "cell_type": "code",
   "execution_count": 102,
   "id": "e08f679f",
   "metadata": {},
   "outputs": [
    {
     "data": {
      "text/plain": [
       "datetime             0\n",
       "station_antwerp    940\n",
       "station_paris       31\n",
       "station_london      66\n",
       "dtype: int64"
      ]
     },
     "execution_count": 102,
     "metadata": {},
     "output_type": "execute_result"
    }
   ],
   "source": [
    "df1.isnull().sum()"
   ]
  },
  {
   "cell_type": "code",
   "execution_count": 103,
   "id": "a0028145",
   "metadata": {},
   "outputs": [
    {
     "data": {
      "text/plain": [
       "1037"
      ]
     },
     "execution_count": 103,
     "metadata": {},
     "output_type": "execute_result"
    }
   ],
   "source": [
    "66+31+940"
   ]
  },
  {
   "cell_type": "code",
   "execution_count": 104,
   "id": "10bc82ec",
   "metadata": {},
   "outputs": [],
   "source": [
    "x =df1.dropna()"
   ]
  },
  {
   "cell_type": "code",
   "execution_count": 105,
   "id": "c1471dc9",
   "metadata": {},
   "outputs": [
    {
     "data": {
      "text/html": [
       "<div>\n",
       "<style scoped>\n",
       "    .dataframe tbody tr th:only-of-type {\n",
       "        vertical-align: middle;\n",
       "    }\n",
       "\n",
       "    .dataframe tbody tr th {\n",
       "        vertical-align: top;\n",
       "    }\n",
       "\n",
       "    .dataframe thead th {\n",
       "        text-align: right;\n",
       "    }\n",
       "</style>\n",
       "<table border=\"1\" class=\"dataframe\">\n",
       "  <thead>\n",
       "    <tr style=\"text-align: right;\">\n",
       "      <th></th>\n",
       "      <th>datetime</th>\n",
       "      <th>station_antwerp</th>\n",
       "      <th>station_paris</th>\n",
       "      <th>station_london</th>\n",
       "    </tr>\n",
       "  </thead>\n",
       "  <tbody>\n",
       "    <tr>\n",
       "      <th>1</th>\n",
       "      <td>2019-05-07 03:00:00</td>\n",
       "      <td>50.5</td>\n",
       "      <td>25.0</td>\n",
       "      <td>19.0</td>\n",
       "    </tr>\n",
       "    <tr>\n",
       "      <th>2</th>\n",
       "      <td>2019-05-07 04:00:00</td>\n",
       "      <td>45.0</td>\n",
       "      <td>27.7</td>\n",
       "      <td>19.0</td>\n",
       "    </tr>\n",
       "    <tr>\n",
       "      <th>25</th>\n",
       "      <td>2019-05-08 03:00:00</td>\n",
       "      <td>23.0</td>\n",
       "      <td>19.6</td>\n",
       "      <td>20.0</td>\n",
       "    </tr>\n",
       "    <tr>\n",
       "      <th>26</th>\n",
       "      <td>2019-05-08 04:00:00</td>\n",
       "      <td>20.5</td>\n",
       "      <td>15.3</td>\n",
       "      <td>20.0</td>\n",
       "    </tr>\n",
       "    <tr>\n",
       "      <th>49</th>\n",
       "      <td>2019-05-09 03:00:00</td>\n",
       "      <td>20.0</td>\n",
       "      <td>10.6</td>\n",
       "      <td>31.0</td>\n",
       "    </tr>\n",
       "  </tbody>\n",
       "</table>\n",
       "</div>"
      ],
      "text/plain": [
       "               datetime  station_antwerp  station_paris  station_london\n",
       "1   2019-05-07 03:00:00             50.5           25.0            19.0\n",
       "2   2019-05-07 04:00:00             45.0           27.7            19.0\n",
       "25  2019-05-08 03:00:00             23.0           19.6            20.0\n",
       "26  2019-05-08 04:00:00             20.5           15.3            20.0\n",
       "49  2019-05-09 03:00:00             20.0           10.6            31.0"
      ]
     },
     "execution_count": 105,
     "metadata": {},
     "output_type": "execute_result"
    }
   ],
   "source": [
    "x.head()"
   ]
  },
  {
   "cell_type": "code",
   "execution_count": 106,
   "id": "56d86a2c",
   "metadata": {},
   "outputs": [
    {
     "name": "stdout",
     "output_type": "stream",
     "text": [
      "<class 'pandas.core.frame.DataFrame'>\n",
      "Index: 93 entries, 1 to 992\n",
      "Data columns (total 4 columns):\n",
      " #   Column           Non-Null Count  Dtype  \n",
      "---  ------           --------------  -----  \n",
      " 0   datetime         93 non-null     object \n",
      " 1   station_antwerp  93 non-null     float64\n",
      " 2   station_paris    93 non-null     float64\n",
      " 3   station_london   93 non-null     float64\n",
      "dtypes: float64(3), object(1)\n",
      "memory usage: 3.6+ KB\n"
     ]
    }
   ],
   "source": [
    "x.info()"
   ]
  },
  {
   "cell_type": "code",
   "execution_count": 107,
   "id": "8ba0fd00",
   "metadata": {},
   "outputs": [
    {
     "data": {
      "text/html": [
       "<div>\n",
       "<style scoped>\n",
       "    .dataframe tbody tr th:only-of-type {\n",
       "        vertical-align: middle;\n",
       "    }\n",
       "\n",
       "    .dataframe tbody tr th {\n",
       "        vertical-align: top;\n",
       "    }\n",
       "\n",
       "    .dataframe thead th {\n",
       "        text-align: right;\n",
       "    }\n",
       "</style>\n",
       "<table border=\"1\" class=\"dataframe\">\n",
       "  <thead>\n",
       "    <tr style=\"text-align: right;\">\n",
       "      <th></th>\n",
       "      <th>datetime</th>\n",
       "      <th>station_antwerp</th>\n",
       "      <th>station_paris</th>\n",
       "      <th>station_london</th>\n",
       "    </tr>\n",
       "  </thead>\n",
       "  <tbody>\n",
       "    <tr>\n",
       "      <th>0</th>\n",
       "      <td>2019-05-07 02:00:00</td>\n",
       "      <td>NaN</td>\n",
       "      <td>NaN</td>\n",
       "      <td>23.0</td>\n",
       "    </tr>\n",
       "    <tr>\n",
       "      <th>1</th>\n",
       "      <td>2019-05-07 03:00:00</td>\n",
       "      <td>50.5</td>\n",
       "      <td>25.0</td>\n",
       "      <td>19.0</td>\n",
       "    </tr>\n",
       "    <tr>\n",
       "      <th>2</th>\n",
       "      <td>2019-05-07 04:00:00</td>\n",
       "      <td>45.0</td>\n",
       "      <td>27.7</td>\n",
       "      <td>19.0</td>\n",
       "    </tr>\n",
       "    <tr>\n",
       "      <th>3</th>\n",
       "      <td>2019-05-07 05:00:00</td>\n",
       "      <td>NaN</td>\n",
       "      <td>50.4</td>\n",
       "      <td>16.0</td>\n",
       "    </tr>\n",
       "    <tr>\n",
       "      <th>4</th>\n",
       "      <td>2019-05-07 06:00:00</td>\n",
       "      <td>NaN</td>\n",
       "      <td>61.9</td>\n",
       "      <td>NaN</td>\n",
       "    </tr>\n",
       "  </tbody>\n",
       "</table>\n",
       "</div>"
      ],
      "text/plain": [
       "              datetime  station_antwerp  station_paris  station_london\n",
       "0  2019-05-07 02:00:00              NaN            NaN            23.0\n",
       "1  2019-05-07 03:00:00             50.5           25.0            19.0\n",
       "2  2019-05-07 04:00:00             45.0           27.7            19.0\n",
       "3  2019-05-07 05:00:00              NaN           50.4            16.0\n",
       "4  2019-05-07 06:00:00              NaN           61.9             NaN"
      ]
     },
     "execution_count": 107,
     "metadata": {},
     "output_type": "execute_result"
    }
   ],
   "source": [
    "df1.head()"
   ]
  },
  {
   "cell_type": "code",
   "execution_count": 108,
   "id": "458abf79",
   "metadata": {},
   "outputs": [
    {
     "data": {
      "text/html": [
       "<div>\n",
       "<style scoped>\n",
       "    .dataframe tbody tr th:only-of-type {\n",
       "        vertical-align: middle;\n",
       "    }\n",
       "\n",
       "    .dataframe tbody tr th {\n",
       "        vertical-align: top;\n",
       "    }\n",
       "\n",
       "    .dataframe thead th {\n",
       "        text-align: right;\n",
       "    }\n",
       "</style>\n",
       "<table border=\"1\" class=\"dataframe\">\n",
       "  <thead>\n",
       "    <tr style=\"text-align: right;\">\n",
       "      <th></th>\n",
       "      <th>datetime</th>\n",
       "      <th>station_antwerp</th>\n",
       "      <th>station_paris</th>\n",
       "      <th>station_london</th>\n",
       "    </tr>\n",
       "  </thead>\n",
       "  <tbody>\n",
       "    <tr>\n",
       "      <th>1</th>\n",
       "      <td>2019-05-07 03:00:00</td>\n",
       "      <td>50.5</td>\n",
       "      <td>25.0</td>\n",
       "      <td>19.0</td>\n",
       "    </tr>\n",
       "    <tr>\n",
       "      <th>2</th>\n",
       "      <td>2019-05-07 04:00:00</td>\n",
       "      <td>45.0</td>\n",
       "      <td>27.7</td>\n",
       "      <td>19.0</td>\n",
       "    </tr>\n",
       "    <tr>\n",
       "      <th>25</th>\n",
       "      <td>2019-05-08 03:00:00</td>\n",
       "      <td>23.0</td>\n",
       "      <td>19.6</td>\n",
       "      <td>20.0</td>\n",
       "    </tr>\n",
       "    <tr>\n",
       "      <th>26</th>\n",
       "      <td>2019-05-08 04:00:00</td>\n",
       "      <td>20.5</td>\n",
       "      <td>15.3</td>\n",
       "      <td>20.0</td>\n",
       "    </tr>\n",
       "    <tr>\n",
       "      <th>49</th>\n",
       "      <td>2019-05-09 03:00:00</td>\n",
       "      <td>20.0</td>\n",
       "      <td>10.6</td>\n",
       "      <td>31.0</td>\n",
       "    </tr>\n",
       "  </tbody>\n",
       "</table>\n",
       "</div>"
      ],
      "text/plain": [
       "               datetime  station_antwerp  station_paris  station_london\n",
       "1   2019-05-07 03:00:00             50.5           25.0            19.0\n",
       "2   2019-05-07 04:00:00             45.0           27.7            19.0\n",
       "25  2019-05-08 03:00:00             23.0           19.6            20.0\n",
       "26  2019-05-08 04:00:00             20.5           15.3            20.0\n",
       "49  2019-05-09 03:00:00             20.0           10.6            31.0"
      ]
     },
     "execution_count": 108,
     "metadata": {},
     "output_type": "execute_result"
    }
   ],
   "source": [
    "df1.dropna(inplace=True)\n",
    "df1.head()"
   ]
  },
  {
   "cell_type": "code",
   "execution_count": 109,
   "id": "5199c828",
   "metadata": {},
   "outputs": [
    {
     "data": {
      "text/plain": [
       "datetime           0\n",
       "station_antwerp    0\n",
       "station_paris      0\n",
       "station_london     0\n",
       "dtype: int64"
      ]
     },
     "execution_count": 109,
     "metadata": {},
     "output_type": "execute_result"
    }
   ],
   "source": [
    "df1.isnull().sum()"
   ]
  },
  {
   "cell_type": "code",
   "execution_count": 110,
   "id": "75f8cb09",
   "metadata": {},
   "outputs": [
    {
     "data": {
      "text/plain": [
       "93"
      ]
     },
     "execution_count": 110,
     "metadata": {},
     "output_type": "execute_result"
    }
   ],
   "source": [
    "len(df1)"
   ]
  },
  {
   "cell_type": "markdown",
   "id": "d57694ff",
   "metadata": {},
   "source": [
    "##### Replace Empty Values\n",
    "\n",
    "Another way of dealing with empty cells is to insert a new value instead. you do not have to delete entire rows just because of some empty cells.\n",
    "\n",
    "The fillna() method allows us to replace empty cells with a value:"
   ]
  },
  {
   "cell_type": "code",
   "execution_count": 111,
   "id": "bda838c0",
   "metadata": {},
   "outputs": [
    {
     "data": {
      "text/plain": [
       "1035"
      ]
     },
     "execution_count": 111,
     "metadata": {},
     "output_type": "execute_result"
    }
   ],
   "source": [
    "df2 = df.copy()\n",
    "df2.head()\n",
    "len(df)"
   ]
  },
  {
   "cell_type": "code",
   "execution_count": 112,
   "id": "274e62d6",
   "metadata": {},
   "outputs": [
    {
     "data": {
      "text/html": [
       "<div>\n",
       "<style scoped>\n",
       "    .dataframe tbody tr th:only-of-type {\n",
       "        vertical-align: middle;\n",
       "    }\n",
       "\n",
       "    .dataframe tbody tr th {\n",
       "        vertical-align: top;\n",
       "    }\n",
       "\n",
       "    .dataframe thead th {\n",
       "        text-align: right;\n",
       "    }\n",
       "</style>\n",
       "<table border=\"1\" class=\"dataframe\">\n",
       "  <thead>\n",
       "    <tr style=\"text-align: right;\">\n",
       "      <th></th>\n",
       "      <th>station_antwerp</th>\n",
       "      <th>station_paris</th>\n",
       "      <th>station_london</th>\n",
       "    </tr>\n",
       "  </thead>\n",
       "  <tbody>\n",
       "    <tr>\n",
       "      <th>count</th>\n",
       "      <td>95.000000</td>\n",
       "      <td>1004.000000</td>\n",
       "      <td>969.000000</td>\n",
       "    </tr>\n",
       "    <tr>\n",
       "      <th>mean</th>\n",
       "      <td>25.778947</td>\n",
       "      <td>27.740538</td>\n",
       "      <td>24.689370</td>\n",
       "    </tr>\n",
       "    <tr>\n",
       "      <th>std</th>\n",
       "      <td>12.682019</td>\n",
       "      <td>15.285746</td>\n",
       "      <td>11.296598</td>\n",
       "    </tr>\n",
       "    <tr>\n",
       "      <th>min</th>\n",
       "      <td>7.500000</td>\n",
       "      <td>0.000000</td>\n",
       "      <td>0.000000</td>\n",
       "    </tr>\n",
       "    <tr>\n",
       "      <th>25%</th>\n",
       "      <td>16.750000</td>\n",
       "      <td>16.500000</td>\n",
       "      <td>18.000000</td>\n",
       "    </tr>\n",
       "    <tr>\n",
       "      <th>50%</th>\n",
       "      <td>23.000000</td>\n",
       "      <td>24.150000</td>\n",
       "      <td>25.000000</td>\n",
       "    </tr>\n",
       "    <tr>\n",
       "      <th>75%</th>\n",
       "      <td>34.500000</td>\n",
       "      <td>35.925000</td>\n",
       "      <td>31.000000</td>\n",
       "    </tr>\n",
       "    <tr>\n",
       "      <th>max</th>\n",
       "      <td>74.500000</td>\n",
       "      <td>97.000000</td>\n",
       "      <td>97.000000</td>\n",
       "    </tr>\n",
       "  </tbody>\n",
       "</table>\n",
       "</div>"
      ],
      "text/plain": [
       "       station_antwerp  station_paris  station_london\n",
       "count        95.000000    1004.000000      969.000000\n",
       "mean         25.778947      27.740538       24.689370\n",
       "std          12.682019      15.285746       11.296598\n",
       "min           7.500000       0.000000        0.000000\n",
       "25%          16.750000      16.500000       18.000000\n",
       "50%          23.000000      24.150000       25.000000\n",
       "75%          34.500000      35.925000       31.000000\n",
       "max          74.500000      97.000000       97.000000"
      ]
     },
     "execution_count": 112,
     "metadata": {},
     "output_type": "execute_result"
    }
   ],
   "source": [
    "df2.describe()"
   ]
  },
  {
   "cell_type": "code",
   "execution_count": 113,
   "id": "5ee78ad5",
   "metadata": {},
   "outputs": [
    {
     "data": {
      "text/plain": [
       "datetime             0\n",
       "station_antwerp    940\n",
       "station_paris       31\n",
       "station_london      66\n",
       "dtype: int64"
      ]
     },
     "execution_count": 113,
     "metadata": {},
     "output_type": "execute_result"
    }
   ],
   "source": [
    "df2.isnull().sum()"
   ]
  },
  {
   "cell_type": "code",
   "execution_count": 114,
   "id": "816fd419",
   "metadata": {
    "scrolled": true
   },
   "outputs": [
    {
     "data": {
      "text/html": [
       "<div>\n",
       "<style scoped>\n",
       "    .dataframe tbody tr th:only-of-type {\n",
       "        vertical-align: middle;\n",
       "    }\n",
       "\n",
       "    .dataframe tbody tr th {\n",
       "        vertical-align: top;\n",
       "    }\n",
       "\n",
       "    .dataframe thead th {\n",
       "        text-align: right;\n",
       "    }\n",
       "</style>\n",
       "<table border=\"1\" class=\"dataframe\">\n",
       "  <thead>\n",
       "    <tr style=\"text-align: right;\">\n",
       "      <th></th>\n",
       "      <th>datetime</th>\n",
       "      <th>station_antwerp</th>\n",
       "      <th>station_paris</th>\n",
       "      <th>station_london</th>\n",
       "    </tr>\n",
       "  </thead>\n",
       "  <tbody>\n",
       "    <tr>\n",
       "      <th>0</th>\n",
       "      <td>2019-05-07 02:00:00</td>\n",
       "      <td>25.77</td>\n",
       "      <td>25.77</td>\n",
       "      <td>23.00</td>\n",
       "    </tr>\n",
       "    <tr>\n",
       "      <th>1</th>\n",
       "      <td>2019-05-07 03:00:00</td>\n",
       "      <td>50.50</td>\n",
       "      <td>25.00</td>\n",
       "      <td>19.00</td>\n",
       "    </tr>\n",
       "    <tr>\n",
       "      <th>2</th>\n",
       "      <td>2019-05-07 04:00:00</td>\n",
       "      <td>45.00</td>\n",
       "      <td>27.70</td>\n",
       "      <td>19.00</td>\n",
       "    </tr>\n",
       "    <tr>\n",
       "      <th>3</th>\n",
       "      <td>2019-05-07 05:00:00</td>\n",
       "      <td>25.77</td>\n",
       "      <td>50.40</td>\n",
       "      <td>16.00</td>\n",
       "    </tr>\n",
       "    <tr>\n",
       "      <th>4</th>\n",
       "      <td>2019-05-07 06:00:00</td>\n",
       "      <td>25.77</td>\n",
       "      <td>61.90</td>\n",
       "      <td>25.77</td>\n",
       "    </tr>\n",
       "  </tbody>\n",
       "</table>\n",
       "</div>"
      ],
      "text/plain": [
       "              datetime  station_antwerp  station_paris  station_london\n",
       "0  2019-05-07 02:00:00            25.77          25.77           23.00\n",
       "1  2019-05-07 03:00:00            50.50          25.00           19.00\n",
       "2  2019-05-07 04:00:00            45.00          27.70           19.00\n",
       "3  2019-05-07 05:00:00            25.77          50.40           16.00\n",
       "4  2019-05-07 06:00:00            25.77          61.90           25.77"
      ]
     },
     "execution_count": 114,
     "metadata": {},
     "output_type": "execute_result"
    }
   ],
   "source": [
    "df2.fillna(25.77, inplace=True)\n",
    "df2.head()"
   ]
  },
  {
   "cell_type": "code",
   "execution_count": 115,
   "id": "3dac14ae",
   "metadata": {},
   "outputs": [
    {
     "data": {
      "text/plain": [
       "datetime           0\n",
       "station_antwerp    0\n",
       "station_paris      0\n",
       "station_london     0\n",
       "dtype: int64"
      ]
     },
     "execution_count": 115,
     "metadata": {},
     "output_type": "execute_result"
    }
   ],
   "source": [
    "df2.isnull().sum()"
   ]
  },
  {
   "cell_type": "code",
   "execution_count": 116,
   "id": "bbbf365d",
   "metadata": {},
   "outputs": [
    {
     "data": {
      "text/plain": [
       "1035"
      ]
     },
     "execution_count": 116,
     "metadata": {},
     "output_type": "execute_result"
    }
   ],
   "source": [
    "len(df2)"
   ]
  },
  {
   "cell_type": "markdown",
   "id": "ddcb8ad6",
   "metadata": {},
   "source": [
    "##### Replace Only For Specified Columns"
   ]
  },
  {
   "cell_type": "code",
   "execution_count": 117,
   "id": "c22efe21",
   "metadata": {},
   "outputs": [
    {
     "data": {
      "text/html": [
       "<div>\n",
       "<style scoped>\n",
       "    .dataframe tbody tr th:only-of-type {\n",
       "        vertical-align: middle;\n",
       "    }\n",
       "\n",
       "    .dataframe tbody tr th {\n",
       "        vertical-align: top;\n",
       "    }\n",
       "\n",
       "    .dataframe thead th {\n",
       "        text-align: right;\n",
       "    }\n",
       "</style>\n",
       "<table border=\"1\" class=\"dataframe\">\n",
       "  <thead>\n",
       "    <tr style=\"text-align: right;\">\n",
       "      <th></th>\n",
       "      <th>datetime</th>\n",
       "      <th>station_antwerp</th>\n",
       "      <th>station_paris</th>\n",
       "      <th>station_london</th>\n",
       "    </tr>\n",
       "  </thead>\n",
       "  <tbody>\n",
       "    <tr>\n",
       "      <th>0</th>\n",
       "      <td>2019-05-07 02:00:00</td>\n",
       "      <td>NaN</td>\n",
       "      <td>NaN</td>\n",
       "      <td>23.0</td>\n",
       "    </tr>\n",
       "    <tr>\n",
       "      <th>1</th>\n",
       "      <td>2019-05-07 03:00:00</td>\n",
       "      <td>50.5</td>\n",
       "      <td>25.0</td>\n",
       "      <td>19.0</td>\n",
       "    </tr>\n",
       "    <tr>\n",
       "      <th>2</th>\n",
       "      <td>2019-05-07 04:00:00</td>\n",
       "      <td>45.0</td>\n",
       "      <td>27.7</td>\n",
       "      <td>19.0</td>\n",
       "    </tr>\n",
       "    <tr>\n",
       "      <th>3</th>\n",
       "      <td>2019-05-07 05:00:00</td>\n",
       "      <td>NaN</td>\n",
       "      <td>50.4</td>\n",
       "      <td>16.0</td>\n",
       "    </tr>\n",
       "    <tr>\n",
       "      <th>4</th>\n",
       "      <td>2019-05-07 06:00:00</td>\n",
       "      <td>NaN</td>\n",
       "      <td>61.9</td>\n",
       "      <td>NaN</td>\n",
       "    </tr>\n",
       "  </tbody>\n",
       "</table>\n",
       "</div>"
      ],
      "text/plain": [
       "              datetime  station_antwerp  station_paris  station_london\n",
       "0  2019-05-07 02:00:00              NaN            NaN            23.0\n",
       "1  2019-05-07 03:00:00             50.5           25.0            19.0\n",
       "2  2019-05-07 04:00:00             45.0           27.7            19.0\n",
       "3  2019-05-07 05:00:00              NaN           50.4            16.0\n",
       "4  2019-05-07 06:00:00              NaN           61.9             NaN"
      ]
     },
     "execution_count": 117,
     "metadata": {},
     "output_type": "execute_result"
    }
   ],
   "source": [
    "df3 = df.copy()\n",
    "df3.head()"
   ]
  },
  {
   "cell_type": "code",
   "execution_count": 118,
   "id": "73284adb",
   "metadata": {},
   "outputs": [
    {
     "data": {
      "text/html": [
       "<div>\n",
       "<style scoped>\n",
       "    .dataframe tbody tr th:only-of-type {\n",
       "        vertical-align: middle;\n",
       "    }\n",
       "\n",
       "    .dataframe tbody tr th {\n",
       "        vertical-align: top;\n",
       "    }\n",
       "\n",
       "    .dataframe thead th {\n",
       "        text-align: right;\n",
       "    }\n",
       "</style>\n",
       "<table border=\"1\" class=\"dataframe\">\n",
       "  <thead>\n",
       "    <tr style=\"text-align: right;\">\n",
       "      <th></th>\n",
       "      <th>station_antwerp</th>\n",
       "      <th>station_paris</th>\n",
       "      <th>station_london</th>\n",
       "    </tr>\n",
       "  </thead>\n",
       "  <tbody>\n",
       "    <tr>\n",
       "      <th>count</th>\n",
       "      <td>95.000000</td>\n",
       "      <td>1004.000000</td>\n",
       "      <td>969.000000</td>\n",
       "    </tr>\n",
       "    <tr>\n",
       "      <th>mean</th>\n",
       "      <td>25.778947</td>\n",
       "      <td>27.740538</td>\n",
       "      <td>24.689370</td>\n",
       "    </tr>\n",
       "    <tr>\n",
       "      <th>std</th>\n",
       "      <td>12.682019</td>\n",
       "      <td>15.285746</td>\n",
       "      <td>11.296598</td>\n",
       "    </tr>\n",
       "    <tr>\n",
       "      <th>min</th>\n",
       "      <td>7.500000</td>\n",
       "      <td>0.000000</td>\n",
       "      <td>0.000000</td>\n",
       "    </tr>\n",
       "    <tr>\n",
       "      <th>25%</th>\n",
       "      <td>16.750000</td>\n",
       "      <td>16.500000</td>\n",
       "      <td>18.000000</td>\n",
       "    </tr>\n",
       "    <tr>\n",
       "      <th>50%</th>\n",
       "      <td>23.000000</td>\n",
       "      <td>24.150000</td>\n",
       "      <td>25.000000</td>\n",
       "    </tr>\n",
       "    <tr>\n",
       "      <th>75%</th>\n",
       "      <td>34.500000</td>\n",
       "      <td>35.925000</td>\n",
       "      <td>31.000000</td>\n",
       "    </tr>\n",
       "    <tr>\n",
       "      <th>max</th>\n",
       "      <td>74.500000</td>\n",
       "      <td>97.000000</td>\n",
       "      <td>97.000000</td>\n",
       "    </tr>\n",
       "  </tbody>\n",
       "</table>\n",
       "</div>"
      ],
      "text/plain": [
       "       station_antwerp  station_paris  station_london\n",
       "count        95.000000    1004.000000      969.000000\n",
       "mean         25.778947      27.740538       24.689370\n",
       "std          12.682019      15.285746       11.296598\n",
       "min           7.500000       0.000000        0.000000\n",
       "25%          16.750000      16.500000       18.000000\n",
       "50%          23.000000      24.150000       25.000000\n",
       "75%          34.500000      35.925000       31.000000\n",
       "max          74.500000      97.000000       97.000000"
      ]
     },
     "execution_count": 118,
     "metadata": {},
     "output_type": "execute_result"
    }
   ],
   "source": [
    "df3.describe()"
   ]
  },
  {
   "cell_type": "code",
   "execution_count": 119,
   "id": "52d6b3eb",
   "metadata": {},
   "outputs": [
    {
     "data": {
      "text/html": [
       "<div>\n",
       "<style scoped>\n",
       "    .dataframe tbody tr th:only-of-type {\n",
       "        vertical-align: middle;\n",
       "    }\n",
       "\n",
       "    .dataframe tbody tr th {\n",
       "        vertical-align: top;\n",
       "    }\n",
       "\n",
       "    .dataframe thead th {\n",
       "        text-align: right;\n",
       "    }\n",
       "</style>\n",
       "<table border=\"1\" class=\"dataframe\">\n",
       "  <thead>\n",
       "    <tr style=\"text-align: right;\">\n",
       "      <th></th>\n",
       "      <th>datetime</th>\n",
       "      <th>station_antwerp</th>\n",
       "      <th>station_paris</th>\n",
       "      <th>station_london</th>\n",
       "    </tr>\n",
       "  </thead>\n",
       "  <tbody>\n",
       "    <tr>\n",
       "      <th>0</th>\n",
       "      <td>2019-05-07 02:00:00</td>\n",
       "      <td>25.778947</td>\n",
       "      <td>NaN</td>\n",
       "      <td>23.0</td>\n",
       "    </tr>\n",
       "    <tr>\n",
       "      <th>1</th>\n",
       "      <td>2019-05-07 03:00:00</td>\n",
       "      <td>50.500000</td>\n",
       "      <td>25.0</td>\n",
       "      <td>19.0</td>\n",
       "    </tr>\n",
       "    <tr>\n",
       "      <th>2</th>\n",
       "      <td>2019-05-07 04:00:00</td>\n",
       "      <td>45.000000</td>\n",
       "      <td>27.7</td>\n",
       "      <td>19.0</td>\n",
       "    </tr>\n",
       "    <tr>\n",
       "      <th>3</th>\n",
       "      <td>2019-05-07 05:00:00</td>\n",
       "      <td>25.778947</td>\n",
       "      <td>50.4</td>\n",
       "      <td>16.0</td>\n",
       "    </tr>\n",
       "    <tr>\n",
       "      <th>4</th>\n",
       "      <td>2019-05-07 06:00:00</td>\n",
       "      <td>25.778947</td>\n",
       "      <td>61.9</td>\n",
       "      <td>NaN</td>\n",
       "    </tr>\n",
       "  </tbody>\n",
       "</table>\n",
       "</div>"
      ],
      "text/plain": [
       "              datetime  station_antwerp  station_paris  station_london\n",
       "0  2019-05-07 02:00:00        25.778947            NaN            23.0\n",
       "1  2019-05-07 03:00:00        50.500000           25.0            19.0\n",
       "2  2019-05-07 04:00:00        45.000000           27.7            19.0\n",
       "3  2019-05-07 05:00:00        25.778947           50.4            16.0\n",
       "4  2019-05-07 06:00:00        25.778947           61.9             NaN"
      ]
     },
     "execution_count": 119,
     "metadata": {},
     "output_type": "execute_result"
    }
   ],
   "source": [
    "df3['station_antwerp'].fillna(25.778947, inplace=True)\n",
    "df3.head()"
   ]
  },
  {
   "cell_type": "code",
   "execution_count": 120,
   "id": "de118b01",
   "metadata": {},
   "outputs": [
    {
     "data": {
      "text/html": [
       "<div>\n",
       "<style scoped>\n",
       "    .dataframe tbody tr th:only-of-type {\n",
       "        vertical-align: middle;\n",
       "    }\n",
       "\n",
       "    .dataframe tbody tr th {\n",
       "        vertical-align: top;\n",
       "    }\n",
       "\n",
       "    .dataframe thead th {\n",
       "        text-align: right;\n",
       "    }\n",
       "</style>\n",
       "<table border=\"1\" class=\"dataframe\">\n",
       "  <thead>\n",
       "    <tr style=\"text-align: right;\">\n",
       "      <th></th>\n",
       "      <th>datetime</th>\n",
       "      <th>station_antwerp</th>\n",
       "      <th>station_paris</th>\n",
       "      <th>station_london</th>\n",
       "    </tr>\n",
       "  </thead>\n",
       "  <tbody>\n",
       "    <tr>\n",
       "      <th>0</th>\n",
       "      <td>2019-05-07 02:00:00</td>\n",
       "      <td>25.778947</td>\n",
       "      <td>27.74</td>\n",
       "      <td>23.0</td>\n",
       "    </tr>\n",
       "    <tr>\n",
       "      <th>1</th>\n",
       "      <td>2019-05-07 03:00:00</td>\n",
       "      <td>50.500000</td>\n",
       "      <td>25.00</td>\n",
       "      <td>19.0</td>\n",
       "    </tr>\n",
       "    <tr>\n",
       "      <th>2</th>\n",
       "      <td>2019-05-07 04:00:00</td>\n",
       "      <td>45.000000</td>\n",
       "      <td>27.70</td>\n",
       "      <td>19.0</td>\n",
       "    </tr>\n",
       "    <tr>\n",
       "      <th>3</th>\n",
       "      <td>2019-05-07 05:00:00</td>\n",
       "      <td>25.778947</td>\n",
       "      <td>50.40</td>\n",
       "      <td>16.0</td>\n",
       "    </tr>\n",
       "    <tr>\n",
       "      <th>4</th>\n",
       "      <td>2019-05-07 06:00:00</td>\n",
       "      <td>25.778947</td>\n",
       "      <td>61.90</td>\n",
       "      <td>NaN</td>\n",
       "    </tr>\n",
       "  </tbody>\n",
       "</table>\n",
       "</div>"
      ],
      "text/plain": [
       "              datetime  station_antwerp  station_paris  station_london\n",
       "0  2019-05-07 02:00:00        25.778947          27.74            23.0\n",
       "1  2019-05-07 03:00:00        50.500000          25.00            19.0\n",
       "2  2019-05-07 04:00:00        45.000000          27.70            19.0\n",
       "3  2019-05-07 05:00:00        25.778947          50.40            16.0\n",
       "4  2019-05-07 06:00:00        25.778947          61.90             NaN"
      ]
     },
     "execution_count": 120,
     "metadata": {},
     "output_type": "execute_result"
    }
   ],
   "source": [
    "df3['station_paris'].fillna(27.74, inplace=True)\n",
    "df3.head()"
   ]
  },
  {
   "cell_type": "code",
   "execution_count": 121,
   "id": "a64e5974",
   "metadata": {},
   "outputs": [
    {
     "data": {
      "text/html": [
       "<div>\n",
       "<style scoped>\n",
       "    .dataframe tbody tr th:only-of-type {\n",
       "        vertical-align: middle;\n",
       "    }\n",
       "\n",
       "    .dataframe tbody tr th {\n",
       "        vertical-align: top;\n",
       "    }\n",
       "\n",
       "    .dataframe thead th {\n",
       "        text-align: right;\n",
       "    }\n",
       "</style>\n",
       "<table border=\"1\" class=\"dataframe\">\n",
       "  <thead>\n",
       "    <tr style=\"text-align: right;\">\n",
       "      <th></th>\n",
       "      <th>datetime</th>\n",
       "      <th>station_antwerp</th>\n",
       "      <th>station_paris</th>\n",
       "      <th>station_london</th>\n",
       "    </tr>\n",
       "  </thead>\n",
       "  <tbody>\n",
       "    <tr>\n",
       "      <th>0</th>\n",
       "      <td>2019-05-07 02:00:00</td>\n",
       "      <td>25.778947</td>\n",
       "      <td>27.74</td>\n",
       "      <td>23.00</td>\n",
       "    </tr>\n",
       "    <tr>\n",
       "      <th>1</th>\n",
       "      <td>2019-05-07 03:00:00</td>\n",
       "      <td>50.500000</td>\n",
       "      <td>25.00</td>\n",
       "      <td>19.00</td>\n",
       "    </tr>\n",
       "    <tr>\n",
       "      <th>2</th>\n",
       "      <td>2019-05-07 04:00:00</td>\n",
       "      <td>45.000000</td>\n",
       "      <td>27.70</td>\n",
       "      <td>19.00</td>\n",
       "    </tr>\n",
       "    <tr>\n",
       "      <th>3</th>\n",
       "      <td>2019-05-07 05:00:00</td>\n",
       "      <td>25.778947</td>\n",
       "      <td>50.40</td>\n",
       "      <td>16.00</td>\n",
       "    </tr>\n",
       "    <tr>\n",
       "      <th>4</th>\n",
       "      <td>2019-05-07 06:00:00</td>\n",
       "      <td>25.778947</td>\n",
       "      <td>61.90</td>\n",
       "      <td>24.77</td>\n",
       "    </tr>\n",
       "  </tbody>\n",
       "</table>\n",
       "</div>"
      ],
      "text/plain": [
       "              datetime  station_antwerp  station_paris  station_london\n",
       "0  2019-05-07 02:00:00        25.778947          27.74           23.00\n",
       "1  2019-05-07 03:00:00        50.500000          25.00           19.00\n",
       "2  2019-05-07 04:00:00        45.000000          27.70           19.00\n",
       "3  2019-05-07 05:00:00        25.778947          50.40           16.00\n",
       "4  2019-05-07 06:00:00        25.778947          61.90           24.77"
      ]
     },
     "execution_count": 121,
     "metadata": {},
     "output_type": "execute_result"
    }
   ],
   "source": [
    "df3['station_london'].fillna(24.77, inplace=True)\n",
    "df3.head()"
   ]
  },
  {
   "cell_type": "markdown",
   "id": "ca47d828",
   "metadata": {},
   "source": [
    "##### Replace using Mean, Median or Mode"
   ]
  },
  {
   "cell_type": "code",
   "execution_count": 122,
   "id": "ca251d61",
   "metadata": {},
   "outputs": [
    {
     "data": {
      "text/html": [
       "<div>\n",
       "<style scoped>\n",
       "    .dataframe tbody tr th:only-of-type {\n",
       "        vertical-align: middle;\n",
       "    }\n",
       "\n",
       "    .dataframe tbody tr th {\n",
       "        vertical-align: top;\n",
       "    }\n",
       "\n",
       "    .dataframe thead th {\n",
       "        text-align: right;\n",
       "    }\n",
       "</style>\n",
       "<table border=\"1\" class=\"dataframe\">\n",
       "  <thead>\n",
       "    <tr style=\"text-align: right;\">\n",
       "      <th></th>\n",
       "      <th>datetime</th>\n",
       "      <th>station_antwerp</th>\n",
       "      <th>station_paris</th>\n",
       "      <th>station_london</th>\n",
       "    </tr>\n",
       "  </thead>\n",
       "  <tbody>\n",
       "    <tr>\n",
       "      <th>0</th>\n",
       "      <td>2019-05-07 02:00:00</td>\n",
       "      <td>NaN</td>\n",
       "      <td>NaN</td>\n",
       "      <td>23.0</td>\n",
       "    </tr>\n",
       "    <tr>\n",
       "      <th>1</th>\n",
       "      <td>2019-05-07 03:00:00</td>\n",
       "      <td>50.5</td>\n",
       "      <td>25.0</td>\n",
       "      <td>19.0</td>\n",
       "    </tr>\n",
       "    <tr>\n",
       "      <th>2</th>\n",
       "      <td>2019-05-07 04:00:00</td>\n",
       "      <td>45.0</td>\n",
       "      <td>27.7</td>\n",
       "      <td>19.0</td>\n",
       "    </tr>\n",
       "    <tr>\n",
       "      <th>3</th>\n",
       "      <td>2019-05-07 05:00:00</td>\n",
       "      <td>NaN</td>\n",
       "      <td>50.4</td>\n",
       "      <td>16.0</td>\n",
       "    </tr>\n",
       "    <tr>\n",
       "      <th>4</th>\n",
       "      <td>2019-05-07 06:00:00</td>\n",
       "      <td>NaN</td>\n",
       "      <td>61.9</td>\n",
       "      <td>NaN</td>\n",
       "    </tr>\n",
       "  </tbody>\n",
       "</table>\n",
       "</div>"
      ],
      "text/plain": [
       "              datetime  station_antwerp  station_paris  station_london\n",
       "0  2019-05-07 02:00:00              NaN            NaN            23.0\n",
       "1  2019-05-07 03:00:00             50.5           25.0            19.0\n",
       "2  2019-05-07 04:00:00             45.0           27.7            19.0\n",
       "3  2019-05-07 05:00:00              NaN           50.4            16.0\n",
       "4  2019-05-07 06:00:00              NaN           61.9             NaN"
      ]
     },
     "execution_count": 122,
     "metadata": {},
     "output_type": "execute_result"
    }
   ],
   "source": [
    "data = df.copy()\n",
    "data.head()"
   ]
  },
  {
   "cell_type": "code",
   "execution_count": 123,
   "id": "a854dae2",
   "metadata": {},
   "outputs": [
    {
     "data": {
      "text/plain": [
       "0     NaN\n",
       "1    50.5\n",
       "2    45.0\n",
       "3     NaN\n",
       "4     NaN\n",
       "Name: station_antwerp, dtype: float64"
      ]
     },
     "execution_count": 123,
     "metadata": {},
     "output_type": "execute_result"
    }
   ],
   "source": [
    "x = data['station_antwerp']\n",
    "x.head()"
   ]
  },
  {
   "cell_type": "code",
   "execution_count": 124,
   "id": "34a098c0",
   "metadata": {},
   "outputs": [],
   "source": [
    "# ! pip install matplotlib\n",
    "# /matplotlib inline"
   ]
  },
  {
   "cell_type": "code",
   "execution_count": 125,
   "id": "2bbbf30b",
   "metadata": {},
   "outputs": [],
   "source": [
    "import matplotlib.pyplot as plt"
   ]
  },
  {
   "cell_type": "code",
   "execution_count": 126,
   "id": "a218fad2",
   "metadata": {},
   "outputs": [
    {
     "data": {
      "text/plain": [
       "[<matplotlib.lines.Line2D at 0x1e993997a10>]"
      ]
     },
     "execution_count": 126,
     "metadata": {},
     "output_type": "execute_result"
    },
    {
     "data": {
      "image/png": "[encoded data removed]",
      "text/plain": [
       "<Figure size 640x480 with 1 Axes>"
      ]
     },
     "metadata": {},
     "output_type": "display_data"
    }
   ],
   "source": [
    "plt.plot(x)"
   ]
  },
  {
   "cell_type": "code",
   "execution_count": 127,
   "id": "124779dd",
   "metadata": {},
   "outputs": [
    {
     "data": {
      "text/plain": [
       "0    23.0\n",
       "1    19.0\n",
       "2    19.0\n",
       "3    16.0\n",
       "4     NaN\n",
       "Name: station_london, dtype: float64"
      ]
     },
     "execution_count": 127,
     "metadata": {},
     "output_type": "execute_result"
    }
   ],
   "source": [
    "y = data['station_london']\n",
    "y.head()"
   ]
  },
  {
   "cell_type": "code",
   "execution_count": 128,
   "id": "e1a93dff",
   "metadata": {},
   "outputs": [
    {
     "data": {
      "text/plain": [
       "[<matplotlib.lines.Line2D at 0x1e993b1ced0>]"
      ]
     },
     "execution_count": 128,
     "metadata": {},
     "output_type": "execute_result"
    },
    {
     "data": {
      "image/png": "[encoded data removed]",
      "text/plain": [
       "<Figure size 640x480 with 1 Axes>"
      ]
     },
     "metadata": {},
     "output_type": "display_data"
    }
   ],
   "source": [
    "plt.plot(y)"
   ]
  },
  {
   "cell_type": "markdown",
   "id": "fa6630fa",
   "metadata": {},
   "source": [
    "#### Mean\n",
    "         >> \"average of a set of numbers.\""
   ]
  },
  {
   "cell_type": "code",
   "execution_count": 129,
   "id": "1580be0c",
   "metadata": {},
   "outputs": [
    {
     "data": {
      "text/html": [
       "<div>\n",
       "<style scoped>\n",
       "    .dataframe tbody tr th:only-of-type {\n",
       "        vertical-align: middle;\n",
       "    }\n",
       "\n",
       "    .dataframe tbody tr th {\n",
       "        vertical-align: top;\n",
       "    }\n",
       "\n",
       "    .dataframe thead th {\n",
       "        text-align: right;\n",
       "    }\n",
       "</style>\n",
       "<table border=\"1\" class=\"dataframe\">\n",
       "  <thead>\n",
       "    <tr style=\"text-align: right;\">\n",
       "      <th></th>\n",
       "      <th>datetime</th>\n",
       "      <th>station_antwerp</th>\n",
       "      <th>station_paris</th>\n",
       "      <th>station_london</th>\n",
       "    </tr>\n",
       "  </thead>\n",
       "  <tbody>\n",
       "    <tr>\n",
       "      <th>0</th>\n",
       "      <td>2019-05-07 02:00:00</td>\n",
       "      <td>NaN</td>\n",
       "      <td>NaN</td>\n",
       "      <td>23.0</td>\n",
       "    </tr>\n",
       "    <tr>\n",
       "      <th>1</th>\n",
       "      <td>2019-05-07 03:00:00</td>\n",
       "      <td>50.5</td>\n",
       "      <td>25.0</td>\n",
       "      <td>19.0</td>\n",
       "    </tr>\n",
       "    <tr>\n",
       "      <th>2</th>\n",
       "      <td>2019-05-07 04:00:00</td>\n",
       "      <td>45.0</td>\n",
       "      <td>27.7</td>\n",
       "      <td>19.0</td>\n",
       "    </tr>\n",
       "    <tr>\n",
       "      <th>3</th>\n",
       "      <td>2019-05-07 05:00:00</td>\n",
       "      <td>NaN</td>\n",
       "      <td>50.4</td>\n",
       "      <td>16.0</td>\n",
       "    </tr>\n",
       "    <tr>\n",
       "      <th>4</th>\n",
       "      <td>2019-05-07 06:00:00</td>\n",
       "      <td>NaN</td>\n",
       "      <td>61.9</td>\n",
       "      <td>NaN</td>\n",
       "    </tr>\n",
       "  </tbody>\n",
       "</table>\n",
       "</div>"
      ],
      "text/plain": [
       "              datetime  station_antwerp  station_paris  station_london\n",
       "0  2019-05-07 02:00:00              NaN            NaN            23.0\n",
       "1  2019-05-07 03:00:00             50.5           25.0            19.0\n",
       "2  2019-05-07 04:00:00             45.0           27.7            19.0\n",
       "3  2019-05-07 05:00:00              NaN           50.4            16.0\n",
       "4  2019-05-07 06:00:00              NaN           61.9             NaN"
      ]
     },
     "execution_count": 129,
     "metadata": {},
     "output_type": "execute_result"
    }
   ],
   "source": [
    "data.head()"
   ]
  },
  {
   "cell_type": "code",
   "execution_count": 130,
   "id": "2fc52aa1",
   "metadata": {},
   "outputs": [
    {
     "name": "stdout",
     "output_type": "stream",
     "text": [
      "25.778947368421054\n",
      "27.740537848605577\n",
      "24.689370485036118\n"
     ]
    }
   ],
   "source": [
    "mean1=data['station_antwerp'].mean()\n",
    "mean2=data['station_paris'].mean()\n",
    "mean3=data['station_london'].mean()\n",
    "print(mean1)\n",
    "print(mean2)\n",
    "print(mean3)"
   ]
  },
  {
   "cell_type": "code",
   "execution_count": 131,
   "id": "0089f243",
   "metadata": {},
   "outputs": [
    {
     "data": {
      "text/html": [
       "<div>\n",
       "<style scoped>\n",
       "    .dataframe tbody tr th:only-of-type {\n",
       "        vertical-align: middle;\n",
       "    }\n",
       "\n",
       "    .dataframe tbody tr th {\n",
       "        vertical-align: top;\n",
       "    }\n",
       "\n",
       "    .dataframe thead th {\n",
       "        text-align: right;\n",
       "    }\n",
       "</style>\n",
       "<table border=\"1\" class=\"dataframe\">\n",
       "  <thead>\n",
       "    <tr style=\"text-align: right;\">\n",
       "      <th></th>\n",
       "      <th>datetime</th>\n",
       "      <th>station_antwerp</th>\n",
       "      <th>station_paris</th>\n",
       "      <th>station_london</th>\n",
       "    </tr>\n",
       "  </thead>\n",
       "  <tbody>\n",
       "    <tr>\n",
       "      <th>0</th>\n",
       "      <td>2019-05-07 02:00:00</td>\n",
       "      <td>25.778947</td>\n",
       "      <td>27.740538</td>\n",
       "      <td>23.00000</td>\n",
       "    </tr>\n",
       "    <tr>\n",
       "      <th>1</th>\n",
       "      <td>2019-05-07 03:00:00</td>\n",
       "      <td>50.500000</td>\n",
       "      <td>25.000000</td>\n",
       "      <td>19.00000</td>\n",
       "    </tr>\n",
       "    <tr>\n",
       "      <th>2</th>\n",
       "      <td>2019-05-07 04:00:00</td>\n",
       "      <td>45.000000</td>\n",
       "      <td>27.700000</td>\n",
       "      <td>19.00000</td>\n",
       "    </tr>\n",
       "    <tr>\n",
       "      <th>3</th>\n",
       "      <td>2019-05-07 05:00:00</td>\n",
       "      <td>25.778947</td>\n",
       "      <td>50.400000</td>\n",
       "      <td>16.00000</td>\n",
       "    </tr>\n",
       "    <tr>\n",
       "      <th>4</th>\n",
       "      <td>2019-05-07 06:00:00</td>\n",
       "      <td>25.778947</td>\n",
       "      <td>61.900000</td>\n",
       "      <td>24.68937</td>\n",
       "    </tr>\n",
       "  </tbody>\n",
       "</table>\n",
       "</div>"
      ],
      "text/plain": [
       "              datetime  station_antwerp  station_paris  station_london\n",
       "0  2019-05-07 02:00:00        25.778947      27.740538        23.00000\n",
       "1  2019-05-07 03:00:00        50.500000      25.000000        19.00000\n",
       "2  2019-05-07 04:00:00        45.000000      27.700000        19.00000\n",
       "3  2019-05-07 05:00:00        25.778947      50.400000        16.00000\n",
       "4  2019-05-07 06:00:00        25.778947      61.900000        24.68937"
      ]
     },
     "execution_count": 131,
     "metadata": {},
     "output_type": "execute_result"
    }
   ],
   "source": [
    "data['station_antwerp'].fillna(mean1, inplace=True)\n",
    "data['station_paris'].fillna(mean2, inplace=True)\n",
    "data['station_london'].fillna(mean3, inplace=True)\n",
    "data.head()"
   ]
  },
  {
   "cell_type": "markdown",
   "id": "e5d3be7a",
   "metadata": {},
   "source": [
    "###### Median : \n",
    "\n",
    "    In statistics, the median is a measure of central tendency that represents the middle value in a set of data when it is arranged in order from smallest to largest (or largest to smallest)\n",
    "    \n",
    "    data points \"odd\" >> median = middle value\n",
    "    data points \"even\" >> median = average of the two middle values\n",
    "\n",
    "The median is often used as a measure of central tendency when the data set has extreme values or outliers, which can skew the mean. The **median is less sensitive to outliers than the mean**, and therefore, it may be a more appropriate measure of central tendency in some cases."
   ]
  },
  {
   "cell_type": "code",
   "execution_count": 132,
   "id": "2aa687bb",
   "metadata": {},
   "outputs": [
    {
     "data": {
      "text/html": [
       "<div>\n",
       "<style scoped>\n",
       "    .dataframe tbody tr th:only-of-type {\n",
       "        vertical-align: middle;\n",
       "    }\n",
       "\n",
       "    .dataframe tbody tr th {\n",
       "        vertical-align: top;\n",
       "    }\n",
       "\n",
       "    .dataframe thead th {\n",
       "        text-align: right;\n",
       "    }\n",
       "</style>\n",
       "<table border=\"1\" class=\"dataframe\">\n",
       "  <thead>\n",
       "    <tr style=\"text-align: right;\">\n",
       "      <th></th>\n",
       "      <th>datetime</th>\n",
       "      <th>station_antwerp</th>\n",
       "      <th>station_paris</th>\n",
       "      <th>station_london</th>\n",
       "    </tr>\n",
       "  </thead>\n",
       "  <tbody>\n",
       "    <tr>\n",
       "      <th>0</th>\n",
       "      <td>2019-05-07 02:00:00</td>\n",
       "      <td>25.778947</td>\n",
       "      <td>27.740538</td>\n",
       "      <td>23.00000</td>\n",
       "    </tr>\n",
       "    <tr>\n",
       "      <th>1</th>\n",
       "      <td>2019-05-07 03:00:00</td>\n",
       "      <td>50.500000</td>\n",
       "      <td>25.000000</td>\n",
       "      <td>19.00000</td>\n",
       "    </tr>\n",
       "    <tr>\n",
       "      <th>2</th>\n",
       "      <td>2019-05-07 04:00:00</td>\n",
       "      <td>45.000000</td>\n",
       "      <td>27.700000</td>\n",
       "      <td>19.00000</td>\n",
       "    </tr>\n",
       "    <tr>\n",
       "      <th>3</th>\n",
       "      <td>2019-05-07 05:00:00</td>\n",
       "      <td>25.778947</td>\n",
       "      <td>50.400000</td>\n",
       "      <td>16.00000</td>\n",
       "    </tr>\n",
       "    <tr>\n",
       "      <th>4</th>\n",
       "      <td>2019-05-07 06:00:00</td>\n",
       "      <td>25.778947</td>\n",
       "      <td>61.900000</td>\n",
       "      <td>24.68937</td>\n",
       "    </tr>\n",
       "  </tbody>\n",
       "</table>\n",
       "</div>"
      ],
      "text/plain": [
       "              datetime  station_antwerp  station_paris  station_london\n",
       "0  2019-05-07 02:00:00        25.778947      27.740538        23.00000\n",
       "1  2019-05-07 03:00:00        50.500000      25.000000        19.00000\n",
       "2  2019-05-07 04:00:00        45.000000      27.700000        19.00000\n",
       "3  2019-05-07 05:00:00        25.778947      50.400000        16.00000\n",
       "4  2019-05-07 06:00:00        25.778947      61.900000        24.68937"
      ]
     },
     "execution_count": 132,
     "metadata": {},
     "output_type": "execute_result"
    }
   ],
   "source": [
    "data.head()"
   ]
  },
  {
   "cell_type": "code",
   "execution_count": 133,
   "id": "b30e769b",
   "metadata": {},
   "outputs": [
    {
     "name": "stdout",
     "output_type": "stream",
     "text": [
      "25.778947368421054\n",
      "24.6\n",
      "25.0\n"
     ]
    }
   ],
   "source": [
    "median1=data['station_antwerp'].median()\n",
    "median2=data['station_paris'].median()\n",
    "median3=data['station_london'].median()\n",
    "print(median1)\n",
    "print(median2)\n",
    "print(median3)"
   ]
  },
  {
   "cell_type": "code",
   "execution_count": 134,
   "id": "8f9bc327",
   "metadata": {},
   "outputs": [
    {
     "data": {
      "text/html": [
       "<div>\n",
       "<style scoped>\n",
       "    .dataframe tbody tr th:only-of-type {\n",
       "        vertical-align: middle;\n",
       "    }\n",
       "\n",
       "    .dataframe tbody tr th {\n",
       "        vertical-align: top;\n",
       "    }\n",
       "\n",
       "    .dataframe thead th {\n",
       "        text-align: right;\n",
       "    }\n",
       "</style>\n",
       "<table border=\"1\" class=\"dataframe\">\n",
       "  <thead>\n",
       "    <tr style=\"text-align: right;\">\n",
       "      <th></th>\n",
       "      <th>datetime</th>\n",
       "      <th>station_antwerp</th>\n",
       "      <th>station_paris</th>\n",
       "      <th>station_london</th>\n",
       "    </tr>\n",
       "  </thead>\n",
       "  <tbody>\n",
       "    <tr>\n",
       "      <th>0</th>\n",
       "      <td>2019-05-07 02:00:00</td>\n",
       "      <td>25.778947</td>\n",
       "      <td>27.740538</td>\n",
       "      <td>23.00000</td>\n",
       "    </tr>\n",
       "    <tr>\n",
       "      <th>1</th>\n",
       "      <td>2019-05-07 03:00:00</td>\n",
       "      <td>50.500000</td>\n",
       "      <td>25.000000</td>\n",
       "      <td>19.00000</td>\n",
       "    </tr>\n",
       "    <tr>\n",
       "      <th>2</th>\n",
       "      <td>2019-05-07 04:00:00</td>\n",
       "      <td>45.000000</td>\n",
       "      <td>27.700000</td>\n",
       "      <td>19.00000</td>\n",
       "    </tr>\n",
       "    <tr>\n",
       "      <th>3</th>\n",
       "      <td>2019-05-07 05:00:00</td>\n",
       "      <td>25.778947</td>\n",
       "      <td>50.400000</td>\n",
       "      <td>16.00000</td>\n",
       "    </tr>\n",
       "    <tr>\n",
       "      <th>4</th>\n",
       "      <td>2019-05-07 06:00:00</td>\n",
       "      <td>25.778947</td>\n",
       "      <td>61.900000</td>\n",
       "      <td>24.68937</td>\n",
       "    </tr>\n",
       "  </tbody>\n",
       "</table>\n",
       "</div>"
      ],
      "text/plain": [
       "              datetime  station_antwerp  station_paris  station_london\n",
       "0  2019-05-07 02:00:00        25.778947      27.740538        23.00000\n",
       "1  2019-05-07 03:00:00        50.500000      25.000000        19.00000\n",
       "2  2019-05-07 04:00:00        45.000000      27.700000        19.00000\n",
       "3  2019-05-07 05:00:00        25.778947      50.400000        16.00000\n",
       "4  2019-05-07 06:00:00        25.778947      61.900000        24.68937"
      ]
     },
     "execution_count": 134,
     "metadata": {},
     "output_type": "execute_result"
    }
   ],
   "source": [
    "data['station_antwerp'].fillna(median1, inplace=True)\n",
    "data['station_paris'].fillna(median2, inplace=True)\n",
    "data['station_london'].fillna(median3, inplace=True)\n",
    "data.head()"
   ]
  },
  {
   "cell_type": "markdown",
   "id": "170b743a",
   "metadata": {},
   "source": [
    "###### Mode : \n",
    "\n",
    "    In statistics, the mode is a measure of central tendency that represents the value that appears most frequently in a set of data. \n",
    "    \n",
    "1. To find the mode of a dataset, you need to identify the value that occurs most frequently. \n",
    "\n",
    "2. If there are multiple values that occur with the same highest frequency, then the dataset is said to have multiple modes. \n",
    "\n",
    "3. In contrast to the median and the mean, which may not be whole numbers, the mode can be any value with in the dataset.\n",
    "\n",
    "For example, consider the following set of numbers: 3, 4, 6, 4, 2, 4, 8. In this dataset, the number 4 appears three times, which is more than any other number. Therefore, the mode of this dataset is 4.    "
   ]
  },
  {
   "cell_type": "code",
   "execution_count": 135,
   "id": "ab84a454",
   "metadata": {},
   "outputs": [
    {
     "data": {
      "text/html": [
       "<div>\n",
       "<style scoped>\n",
       "    .dataframe tbody tr th:only-of-type {\n",
       "        vertical-align: middle;\n",
       "    }\n",
       "\n",
       "    .dataframe tbody tr th {\n",
       "        vertical-align: top;\n",
       "    }\n",
       "\n",
       "    .dataframe thead th {\n",
       "        text-align: right;\n",
       "    }\n",
       "</style>\n",
       "<table border=\"1\" class=\"dataframe\">\n",
       "  <thead>\n",
       "    <tr style=\"text-align: right;\">\n",
       "      <th></th>\n",
       "      <th>datetime</th>\n",
       "      <th>station_antwerp</th>\n",
       "      <th>station_paris</th>\n",
       "      <th>station_london</th>\n",
       "    </tr>\n",
       "  </thead>\n",
       "  <tbody>\n",
       "    <tr>\n",
       "      <th>0</th>\n",
       "      <td>2019-05-07 02:00:00</td>\n",
       "      <td>25.778947</td>\n",
       "      <td>27.740538</td>\n",
       "      <td>23.00000</td>\n",
       "    </tr>\n",
       "    <tr>\n",
       "      <th>1</th>\n",
       "      <td>2019-05-07 03:00:00</td>\n",
       "      <td>50.500000</td>\n",
       "      <td>25.000000</td>\n",
       "      <td>19.00000</td>\n",
       "    </tr>\n",
       "    <tr>\n",
       "      <th>2</th>\n",
       "      <td>2019-05-07 04:00:00</td>\n",
       "      <td>45.000000</td>\n",
       "      <td>27.700000</td>\n",
       "      <td>19.00000</td>\n",
       "    </tr>\n",
       "    <tr>\n",
       "      <th>3</th>\n",
       "      <td>2019-05-07 05:00:00</td>\n",
       "      <td>25.778947</td>\n",
       "      <td>50.400000</td>\n",
       "      <td>16.00000</td>\n",
       "    </tr>\n",
       "    <tr>\n",
       "      <th>4</th>\n",
       "      <td>2019-05-07 06:00:00</td>\n",
       "      <td>25.778947</td>\n",
       "      <td>61.900000</td>\n",
       "      <td>24.68937</td>\n",
       "    </tr>\n",
       "  </tbody>\n",
       "</table>\n",
       "</div>"
      ],
      "text/plain": [
       "              datetime  station_antwerp  station_paris  station_london\n",
       "0  2019-05-07 02:00:00        25.778947      27.740538        23.00000\n",
       "1  2019-05-07 03:00:00        50.500000      25.000000        19.00000\n",
       "2  2019-05-07 04:00:00        45.000000      27.700000        19.00000\n",
       "3  2019-05-07 05:00:00        25.778947      50.400000        16.00000\n",
       "4  2019-05-07 06:00:00        25.778947      61.900000        24.68937"
      ]
     },
     "execution_count": 135,
     "metadata": {},
     "output_type": "execute_result"
    }
   ],
   "source": [
    "data.head()"
   ]
  },
  {
   "cell_type": "code",
   "execution_count": 136,
   "id": "e686fb0b",
   "metadata": {},
   "outputs": [
    {
     "name": "stdout",
     "output_type": "stream",
     "text": [
      "0    25.778947\n",
      "Name: station_antwerp, dtype: float64\n",
      "0    27.740538\n",
      "Name: station_paris, dtype: float64\n",
      "0    24.68937\n",
      "Name: station_london, dtype: float64\n"
     ]
    }
   ],
   "source": [
    "mod1=data['station_antwerp'].mode()\n",
    "mod2=data['station_paris'].mode()\n",
    "mod3=data['station_london'].mode()\n",
    "print(mod1)\n",
    "print(mod2)\n",
    "print(mod3)"
   ]
  },
  {
   "cell_type": "code",
   "execution_count": 137,
   "id": "ff74e91c",
   "metadata": {},
   "outputs": [
    {
     "name": "stdout",
     "output_type": "stream",
     "text": [
      "25.778947368421054\n",
      "27.740537848605577\n",
      "24.689370485036118\n"
     ]
    }
   ],
   "source": [
    "mod1=data['station_antwerp'].mode()[0]\n",
    "mod2=data['station_paris'].mode()[0]\n",
    "mod3=data['station_london'].mode()[0]\n",
    "print(mod1)\n",
    "print(mod2)\n",
    "print(mod3)"
   ]
  },
  {
   "cell_type": "markdown",
   "id": "2684b9d1",
   "metadata": {},
   "source": [
    "### Creating New Columns from existing column"
   ]
  },
  {
   "cell_type": "code",
   "execution_count": 138,
   "id": "76d26fe1",
   "metadata": {},
   "outputs": [
    {
     "data": {
      "text/html": [
       "<div>\n",
       "<style scoped>\n",
       "    .dataframe tbody tr th:only-of-type {\n",
       "        vertical-align: middle;\n",
       "    }\n",
       "\n",
       "    .dataframe tbody tr th {\n",
       "        vertical-align: top;\n",
       "    }\n",
       "\n",
       "    .dataframe thead th {\n",
       "        text-align: right;\n",
       "    }\n",
       "</style>\n",
       "<table border=\"1\" class=\"dataframe\">\n",
       "  <thead>\n",
       "    <tr style=\"text-align: right;\">\n",
       "      <th></th>\n",
       "      <th>datetime</th>\n",
       "      <th>station_antwerp</th>\n",
       "      <th>station_paris</th>\n",
       "      <th>station_london</th>\n",
       "    </tr>\n",
       "  </thead>\n",
       "  <tbody>\n",
       "    <tr>\n",
       "      <th>0</th>\n",
       "      <td>2019-05-07 02:00:00</td>\n",
       "      <td>25.778947</td>\n",
       "      <td>27.740538</td>\n",
       "      <td>23.00000</td>\n",
       "    </tr>\n",
       "    <tr>\n",
       "      <th>1</th>\n",
       "      <td>2019-05-07 03:00:00</td>\n",
       "      <td>50.500000</td>\n",
       "      <td>25.000000</td>\n",
       "      <td>19.00000</td>\n",
       "    </tr>\n",
       "    <tr>\n",
       "      <th>2</th>\n",
       "      <td>2019-05-07 04:00:00</td>\n",
       "      <td>45.000000</td>\n",
       "      <td>27.700000</td>\n",
       "      <td>19.00000</td>\n",
       "    </tr>\n",
       "    <tr>\n",
       "      <th>3</th>\n",
       "      <td>2019-05-07 05:00:00</td>\n",
       "      <td>25.778947</td>\n",
       "      <td>50.400000</td>\n",
       "      <td>16.00000</td>\n",
       "    </tr>\n",
       "    <tr>\n",
       "      <th>4</th>\n",
       "      <td>2019-05-07 06:00:00</td>\n",
       "      <td>25.778947</td>\n",
       "      <td>61.900000</td>\n",
       "      <td>24.68937</td>\n",
       "    </tr>\n",
       "  </tbody>\n",
       "</table>\n",
       "</div>"
      ],
      "text/plain": [
       "              datetime  station_antwerp  station_paris  station_london\n",
       "0  2019-05-07 02:00:00        25.778947      27.740538        23.00000\n",
       "1  2019-05-07 03:00:00        50.500000      25.000000        19.00000\n",
       "2  2019-05-07 04:00:00        45.000000      27.700000        19.00000\n",
       "3  2019-05-07 05:00:00        25.778947      50.400000        16.00000\n",
       "4  2019-05-07 06:00:00        25.778947      61.900000        24.68937"
      ]
     },
     "execution_count": 138,
     "metadata": {},
     "output_type": "execute_result"
    }
   ],
   "source": [
    "data.head()"
   ]
  },
  {
   "cell_type": "code",
   "execution_count": 139,
   "id": "bfd9c88d",
   "metadata": {},
   "outputs": [],
   "source": [
    "data['station_mumbai'] = data['station_antwerp'] * 1.5"
   ]
  },
  {
   "cell_type": "code",
   "execution_count": 140,
   "id": "d4dd1a6f",
   "metadata": {},
   "outputs": [
    {
     "data": {
      "text/html": [
       "<div>\n",
       "<style scoped>\n",
       "    .dataframe tbody tr th:only-of-type {\n",
       "        vertical-align: middle;\n",
       "    }\n",
       "\n",
       "    .dataframe tbody tr th {\n",
       "        vertical-align: top;\n",
       "    }\n",
       "\n",
       "    .dataframe thead th {\n",
       "        text-align: right;\n",
       "    }\n",
       "</style>\n",
       "<table border=\"1\" class=\"dataframe\">\n",
       "  <thead>\n",
       "    <tr style=\"text-align: right;\">\n",
       "      <th></th>\n",
       "      <th>datetime</th>\n",
       "      <th>station_antwerp</th>\n",
       "      <th>station_paris</th>\n",
       "      <th>station_london</th>\n",
       "      <th>station_mumbai</th>\n",
       "    </tr>\n",
       "  </thead>\n",
       "  <tbody>\n",
       "    <tr>\n",
       "      <th>0</th>\n",
       "      <td>2019-05-07 02:00:00</td>\n",
       "      <td>25.778947</td>\n",
       "      <td>27.740538</td>\n",
       "      <td>23.00000</td>\n",
       "      <td>38.668421</td>\n",
       "    </tr>\n",
       "    <tr>\n",
       "      <th>1</th>\n",
       "      <td>2019-05-07 03:00:00</td>\n",
       "      <td>50.500000</td>\n",
       "      <td>25.000000</td>\n",
       "      <td>19.00000</td>\n",
       "      <td>75.750000</td>\n",
       "    </tr>\n",
       "    <tr>\n",
       "      <th>2</th>\n",
       "      <td>2019-05-07 04:00:00</td>\n",
       "      <td>45.000000</td>\n",
       "      <td>27.700000</td>\n",
       "      <td>19.00000</td>\n",
       "      <td>67.500000</td>\n",
       "    </tr>\n",
       "    <tr>\n",
       "      <th>3</th>\n",
       "      <td>2019-05-07 05:00:00</td>\n",
       "      <td>25.778947</td>\n",
       "      <td>50.400000</td>\n",
       "      <td>16.00000</td>\n",
       "      <td>38.668421</td>\n",
       "    </tr>\n",
       "    <tr>\n",
       "      <th>4</th>\n",
       "      <td>2019-05-07 06:00:00</td>\n",
       "      <td>25.778947</td>\n",
       "      <td>61.900000</td>\n",
       "      <td>24.68937</td>\n",
       "      <td>38.668421</td>\n",
       "    </tr>\n",
       "  </tbody>\n",
       "</table>\n",
       "</div>"
      ],
      "text/plain": [
       "              datetime  station_antwerp  station_paris  station_london   \n",
       "0  2019-05-07 02:00:00        25.778947      27.740538        23.00000  \\\n",
       "1  2019-05-07 03:00:00        50.500000      25.000000        19.00000   \n",
       "2  2019-05-07 04:00:00        45.000000      27.700000        19.00000   \n",
       "3  2019-05-07 05:00:00        25.778947      50.400000        16.00000   \n",
       "4  2019-05-07 06:00:00        25.778947      61.900000        24.68937   \n",
       "\n",
       "   station_mumbai  \n",
       "0       38.668421  \n",
       "1       75.750000  \n",
       "2       67.500000  \n",
       "3       38.668421  \n",
       "4       38.668421  "
      ]
     },
     "execution_count": 140,
     "metadata": {},
     "output_type": "execute_result"
    }
   ],
   "source": [
    "data.head()"
   ]
  },
  {
   "cell_type": "code",
   "execution_count": 141,
   "id": "ceb3c900",
   "metadata": {},
   "outputs": [],
   "source": [
    "data['ratio_mum_london']=data['station_mumbai'] / data['station_london']\n"
   ]
  },
  {
   "cell_type": "code",
   "execution_count": 142,
   "id": "ba6fe9cf",
   "metadata": {
    "scrolled": true
   },
   "outputs": [
    {
     "data": {
      "text/html": [
       "<div>\n",
       "<style scoped>\n",
       "    .dataframe tbody tr th:only-of-type {\n",
       "        vertical-align: middle;\n",
       "    }\n",
       "\n",
       "    .dataframe tbody tr th {\n",
       "        vertical-align: top;\n",
       "    }\n",
       "\n",
       "    .dataframe thead th {\n",
       "        text-align: right;\n",
       "    }\n",
       "</style>\n",
       "<table border=\"1\" class=\"dataframe\">\n",
       "  <thead>\n",
       "    <tr style=\"text-align: right;\">\n",
       "      <th></th>\n",
       "      <th>datetime</th>\n",
       "      <th>station_antwerp</th>\n",
       "      <th>station_paris</th>\n",
       "      <th>station_london</th>\n",
       "      <th>station_mumbai</th>\n",
       "      <th>ratio_mum_london</th>\n",
       "    </tr>\n",
       "  </thead>\n",
       "  <tbody>\n",
       "    <tr>\n",
       "      <th>0</th>\n",
       "      <td>2019-05-07 02:00:00</td>\n",
       "      <td>25.778947</td>\n",
       "      <td>27.740538</td>\n",
       "      <td>23.00000</td>\n",
       "      <td>38.668421</td>\n",
       "      <td>1.681236</td>\n",
       "    </tr>\n",
       "    <tr>\n",
       "      <th>1</th>\n",
       "      <td>2019-05-07 03:00:00</td>\n",
       "      <td>50.500000</td>\n",
       "      <td>25.000000</td>\n",
       "      <td>19.00000</td>\n",
       "      <td>75.750000</td>\n",
       "      <td>3.986842</td>\n",
       "    </tr>\n",
       "    <tr>\n",
       "      <th>2</th>\n",
       "      <td>2019-05-07 04:00:00</td>\n",
       "      <td>45.000000</td>\n",
       "      <td>27.700000</td>\n",
       "      <td>19.00000</td>\n",
       "      <td>67.500000</td>\n",
       "      <td>3.552632</td>\n",
       "    </tr>\n",
       "    <tr>\n",
       "      <th>3</th>\n",
       "      <td>2019-05-07 05:00:00</td>\n",
       "      <td>25.778947</td>\n",
       "      <td>50.400000</td>\n",
       "      <td>16.00000</td>\n",
       "      <td>38.668421</td>\n",
       "      <td>2.416776</td>\n",
       "    </tr>\n",
       "    <tr>\n",
       "      <th>4</th>\n",
       "      <td>2019-05-07 06:00:00</td>\n",
       "      <td>25.778947</td>\n",
       "      <td>61.900000</td>\n",
       "      <td>24.68937</td>\n",
       "      <td>38.668421</td>\n",
       "      <td>1.566197</td>\n",
       "    </tr>\n",
       "  </tbody>\n",
       "</table>\n",
       "</div>"
      ],
      "text/plain": [
       "              datetime  station_antwerp  station_paris  station_london   \n",
       "0  2019-05-07 02:00:00        25.778947      27.740538        23.00000  \\\n",
       "1  2019-05-07 03:00:00        50.500000      25.000000        19.00000   \n",
       "2  2019-05-07 04:00:00        45.000000      27.700000        19.00000   \n",
       "3  2019-05-07 05:00:00        25.778947      50.400000        16.00000   \n",
       "4  2019-05-07 06:00:00        25.778947      61.900000        24.68937   \n",
       "\n",
       "   station_mumbai  ratio_mum_london  \n",
       "0       38.668421          1.681236  \n",
       "1       75.750000          3.986842  \n",
       "2       67.500000          3.552632  \n",
       "3       38.668421          2.416776  \n",
       "4       38.668421          1.566197  "
      ]
     },
     "execution_count": 142,
     "metadata": {},
     "output_type": "execute_result"
    }
   ],
   "source": [
    "data.head()"
   ]
  },
  {
   "cell_type": "code",
   "execution_count": 143,
   "id": "b368e1f2",
   "metadata": {},
   "outputs": [],
   "source": [
    "data['ratio_mum_paris']=data['station_mumbai']/data['station_paris']"
   ]
  },
  {
   "cell_type": "code",
   "execution_count": 144,
   "id": "7e91aa7f",
   "metadata": {},
   "outputs": [
    {
     "data": {
      "text/html": [
       "<div>\n",
       "<style scoped>\n",
       "    .dataframe tbody tr th:only-of-type {\n",
       "        vertical-align: middle;\n",
       "    }\n",
       "\n",
       "    .dataframe tbody tr th {\n",
       "        vertical-align: top;\n",
       "    }\n",
       "\n",
       "    .dataframe thead th {\n",
       "        text-align: right;\n",
       "    }\n",
       "</style>\n",
       "<table border=\"1\" class=\"dataframe\">\n",
       "  <thead>\n",
       "    <tr style=\"text-align: right;\">\n",
       "      <th></th>\n",
       "      <th>datetime</th>\n",
       "      <th>station_antwerp</th>\n",
       "      <th>station_paris</th>\n",
       "      <th>station_london</th>\n",
       "      <th>station_mumbai</th>\n",
       "      <th>ratio_mum_london</th>\n",
       "      <th>ratio_mum_paris</th>\n",
       "    </tr>\n",
       "  </thead>\n",
       "  <tbody>\n",
       "    <tr>\n",
       "      <th>0</th>\n",
       "      <td>2019-05-07 02:00:00</td>\n",
       "      <td>25.778947</td>\n",
       "      <td>27.740538</td>\n",
       "      <td>23.00000</td>\n",
       "      <td>38.668421</td>\n",
       "      <td>1.681236</td>\n",
       "      <td>1.393932</td>\n",
       "    </tr>\n",
       "    <tr>\n",
       "      <th>1</th>\n",
       "      <td>2019-05-07 03:00:00</td>\n",
       "      <td>50.500000</td>\n",
       "      <td>25.000000</td>\n",
       "      <td>19.00000</td>\n",
       "      <td>75.750000</td>\n",
       "      <td>3.986842</td>\n",
       "      <td>3.030000</td>\n",
       "    </tr>\n",
       "    <tr>\n",
       "      <th>2</th>\n",
       "      <td>2019-05-07 04:00:00</td>\n",
       "      <td>45.000000</td>\n",
       "      <td>27.700000</td>\n",
       "      <td>19.00000</td>\n",
       "      <td>67.500000</td>\n",
       "      <td>3.552632</td>\n",
       "      <td>2.436823</td>\n",
       "    </tr>\n",
       "    <tr>\n",
       "      <th>3</th>\n",
       "      <td>2019-05-07 05:00:00</td>\n",
       "      <td>25.778947</td>\n",
       "      <td>50.400000</td>\n",
       "      <td>16.00000</td>\n",
       "      <td>38.668421</td>\n",
       "      <td>2.416776</td>\n",
       "      <td>0.767231</td>\n",
       "    </tr>\n",
       "    <tr>\n",
       "      <th>4</th>\n",
       "      <td>2019-05-07 06:00:00</td>\n",
       "      <td>25.778947</td>\n",
       "      <td>61.900000</td>\n",
       "      <td>24.68937</td>\n",
       "      <td>38.668421</td>\n",
       "      <td>1.566197</td>\n",
       "      <td>0.624692</td>\n",
       "    </tr>\n",
       "  </tbody>\n",
       "</table>\n",
       "</div>"
      ],
      "text/plain": [
       "              datetime  station_antwerp  station_paris  station_london   \n",
       "0  2019-05-07 02:00:00        25.778947      27.740538        23.00000  \\\n",
       "1  2019-05-07 03:00:00        50.500000      25.000000        19.00000   \n",
       "2  2019-05-07 04:00:00        45.000000      27.700000        19.00000   \n",
       "3  2019-05-07 05:00:00        25.778947      50.400000        16.00000   \n",
       "4  2019-05-07 06:00:00        25.778947      61.900000        24.68937   \n",
       "\n",
       "   station_mumbai  ratio_mum_london  ratio_mum_paris  \n",
       "0       38.668421          1.681236         1.393932  \n",
       "1       75.750000          3.986842         3.030000  \n",
       "2       67.500000          3.552632         2.436823  \n",
       "3       38.668421          2.416776         0.767231  \n",
       "4       38.668421          1.566197         0.624692  "
      ]
     },
     "execution_count": 144,
     "metadata": {},
     "output_type": "execute_result"
    }
   ],
   "source": [
    "data.head()"
   ]
  },
  {
   "cell_type": "code",
   "execution_count": 146,
   "id": "b51fd8eb",
   "metadata": {},
   "outputs": [
    {
     "data": {
      "text/html": [
       "<div>\n",
       "<style scoped>\n",
       "    .dataframe tbody tr th:only-of-type {\n",
       "        vertical-align: middle;\n",
       "    }\n",
       "\n",
       "    .dataframe tbody tr th {\n",
       "        vertical-align: top;\n",
       "    }\n",
       "\n",
       "    .dataframe thead th {\n",
       "        text-align: right;\n",
       "    }\n",
       "</style>\n",
       "<table border=\"1\" class=\"dataframe\">\n",
       "  <thead>\n",
       "    <tr style=\"text-align: right;\">\n",
       "      <th></th>\n",
       "      <th>datetime</th>\n",
       "      <th>antwerp</th>\n",
       "      <th>paris</th>\n",
       "      <th>london</th>\n",
       "      <th>mumbai</th>\n",
       "      <th>ratio_mum_london</th>\n",
       "      <th>ratio_mum_paris</th>\n",
       "    </tr>\n",
       "  </thead>\n",
       "  <tbody>\n",
       "    <tr>\n",
       "      <th>0</th>\n",
       "      <td>2019-05-07 02:00:00</td>\n",
       "      <td>25.778947</td>\n",
       "      <td>27.740538</td>\n",
       "      <td>23.00000</td>\n",
       "      <td>38.668421</td>\n",
       "      <td>1.681236</td>\n",
       "      <td>1.393932</td>\n",
       "    </tr>\n",
       "    <tr>\n",
       "      <th>1</th>\n",
       "      <td>2019-05-07 03:00:00</td>\n",
       "      <td>50.500000</td>\n",
       "      <td>25.000000</td>\n",
       "      <td>19.00000</td>\n",
       "      <td>75.750000</td>\n",
       "      <td>3.986842</td>\n",
       "      <td>3.030000</td>\n",
       "    </tr>\n",
       "    <tr>\n",
       "      <th>2</th>\n",
       "      <td>2019-05-07 04:00:00</td>\n",
       "      <td>45.000000</td>\n",
       "      <td>27.700000</td>\n",
       "      <td>19.00000</td>\n",
       "      <td>67.500000</td>\n",
       "      <td>3.552632</td>\n",
       "      <td>2.436823</td>\n",
       "    </tr>\n",
       "    <tr>\n",
       "      <th>3</th>\n",
       "      <td>2019-05-07 05:00:00</td>\n",
       "      <td>25.778947</td>\n",
       "      <td>50.400000</td>\n",
       "      <td>16.00000</td>\n",
       "      <td>38.668421</td>\n",
       "      <td>2.416776</td>\n",
       "      <td>0.767231</td>\n",
       "    </tr>\n",
       "    <tr>\n",
       "      <th>4</th>\n",
       "      <td>2019-05-07 06:00:00</td>\n",
       "      <td>25.778947</td>\n",
       "      <td>61.900000</td>\n",
       "      <td>24.68937</td>\n",
       "      <td>38.668421</td>\n",
       "      <td>1.566197</td>\n",
       "      <td>0.624692</td>\n",
       "    </tr>\n",
       "  </tbody>\n",
       "</table>\n",
       "</div>"
      ],
      "text/plain": [
       "              datetime    antwerp      paris    london     mumbai   \n",
       "0  2019-05-07 02:00:00  25.778947  27.740538  23.00000  38.668421  \\\n",
       "1  2019-05-07 03:00:00  50.500000  25.000000  19.00000  75.750000   \n",
       "2  2019-05-07 04:00:00  45.000000  27.700000  19.00000  67.500000   \n",
       "3  2019-05-07 05:00:00  25.778947  50.400000  16.00000  38.668421   \n",
       "4  2019-05-07 06:00:00  25.778947  61.900000  24.68937  38.668421   \n",
       "\n",
       "   ratio_mum_london  ratio_mum_paris  \n",
       "0          1.681236         1.393932  \n",
       "1          3.986842         3.030000  \n",
       "2          3.552632         2.436823  \n",
       "3          2.416776         0.767231  \n",
       "4          1.566197         0.624692  "
      ]
     },
     "execution_count": 146,
     "metadata": {},
     "output_type": "execute_result"
    }
   ],
   "source": [
    "data_rename = data.rename(columns={\n",
    "    'station_antwerp' : 'antwerp',\n",
    "    'station_paris' : 'paris',\n",
    "    'station_london' : 'london',\n",
    "    'station_mumbai' : 'mumbai'\n",
    "})\n",
    "\n",
    "data_rename.head()"
   ]
  },
  {
   "cell_type": "code",
   "execution_count": 147,
   "id": "bb517d96",
   "metadata": {},
   "outputs": [
    {
     "data": {
      "text/html": [
       "<div>\n",
       "<style scoped>\n",
       "    .dataframe tbody tr th:only-of-type {\n",
       "        vertical-align: middle;\n",
       "    }\n",
       "\n",
       "    .dataframe tbody tr th {\n",
       "        vertical-align: top;\n",
       "    }\n",
       "\n",
       "    .dataframe thead th {\n",
       "        text-align: right;\n",
       "    }\n",
       "</style>\n",
       "<table border=\"1\" class=\"dataframe\">\n",
       "  <thead>\n",
       "    <tr style=\"text-align: right;\">\n",
       "      <th></th>\n",
       "      <th>DATETIME</th>\n",
       "      <th>ANTWERP</th>\n",
       "      <th>PARIS</th>\n",
       "      <th>LONDON</th>\n",
       "      <th>MUMBAI</th>\n",
       "      <th>RATIO_MUM_LONDON</th>\n",
       "      <th>RATIO_MUM_PARIS</th>\n",
       "    </tr>\n",
       "  </thead>\n",
       "  <tbody>\n",
       "    <tr>\n",
       "      <th>0</th>\n",
       "      <td>2019-05-07 02:00:00</td>\n",
       "      <td>25.778947</td>\n",
       "      <td>27.740538</td>\n",
       "      <td>23.00000</td>\n",
       "      <td>38.668421</td>\n",
       "      <td>1.681236</td>\n",
       "      <td>1.393932</td>\n",
       "    </tr>\n",
       "    <tr>\n",
       "      <th>1</th>\n",
       "      <td>2019-05-07 03:00:00</td>\n",
       "      <td>50.500000</td>\n",
       "      <td>25.000000</td>\n",
       "      <td>19.00000</td>\n",
       "      <td>75.750000</td>\n",
       "      <td>3.986842</td>\n",
       "      <td>3.030000</td>\n",
       "    </tr>\n",
       "    <tr>\n",
       "      <th>2</th>\n",
       "      <td>2019-05-07 04:00:00</td>\n",
       "      <td>45.000000</td>\n",
       "      <td>27.700000</td>\n",
       "      <td>19.00000</td>\n",
       "      <td>67.500000</td>\n",
       "      <td>3.552632</td>\n",
       "      <td>2.436823</td>\n",
       "    </tr>\n",
       "    <tr>\n",
       "      <th>3</th>\n",
       "      <td>2019-05-07 05:00:00</td>\n",
       "      <td>25.778947</td>\n",
       "      <td>50.400000</td>\n",
       "      <td>16.00000</td>\n",
       "      <td>38.668421</td>\n",
       "      <td>2.416776</td>\n",
       "      <td>0.767231</td>\n",
       "    </tr>\n",
       "    <tr>\n",
       "      <th>4</th>\n",
       "      <td>2019-05-07 06:00:00</td>\n",
       "      <td>25.778947</td>\n",
       "      <td>61.900000</td>\n",
       "      <td>24.68937</td>\n",
       "      <td>38.668421</td>\n",
       "      <td>1.566197</td>\n",
       "      <td>0.624692</td>\n",
       "    </tr>\n",
       "  </tbody>\n",
       "</table>\n",
       "</div>"
      ],
      "text/plain": [
       "              DATETIME    ANTWERP      PARIS    LONDON     MUMBAI   \n",
       "0  2019-05-07 02:00:00  25.778947  27.740538  23.00000  38.668421  \\\n",
       "1  2019-05-07 03:00:00  50.500000  25.000000  19.00000  75.750000   \n",
       "2  2019-05-07 04:00:00  45.000000  27.700000  19.00000  67.500000   \n",
       "3  2019-05-07 05:00:00  25.778947  50.400000  16.00000  38.668421   \n",
       "4  2019-05-07 06:00:00  25.778947  61.900000  24.68937  38.668421   \n",
       "\n",
       "   RATIO_MUM_LONDON  RATIO_MUM_PARIS  \n",
       "0          1.681236         1.393932  \n",
       "1          3.986842         3.030000  \n",
       "2          3.552632         2.436823  \n",
       "3          2.416776         0.767231  \n",
       "4          1.566197         0.624692  "
      ]
     },
     "execution_count": 147,
     "metadata": {},
     "output_type": "execute_result"
    }
   ],
   "source": [
    "# if we want to column name in upper case\n",
    "\n",
    "data_rename = data_rename.rename(columns=str.upper)\n",
    "data_rename.head()"
   ]
  },
  {
   "cell_type": "markdown",
   "id": "a45796f4",
   "metadata": {},
   "source": [
    "### Calculate Summery Statastic"
   ]
  },
  {
   "cell_type": "code",
   "execution_count": 148,
   "id": "efd4fdf9",
   "metadata": {},
   "outputs": [
    {
     "data": {
      "text/html": [
       "<div>\n",
       "<style scoped>\n",
       "    .dataframe tbody tr th:only-of-type {\n",
       "        vertical-align: middle;\n",
       "    }\n",
       "\n",
       "    .dataframe tbody tr th {\n",
       "        vertical-align: top;\n",
       "    }\n",
       "\n",
       "    .dataframe thead th {\n",
       "        text-align: right;\n",
       "    }\n",
       "</style>\n",
       "<table border=\"1\" class=\"dataframe\">\n",
       "  <thead>\n",
       "    <tr style=\"text-align: right;\">\n",
       "      <th></th>\n",
       "      <th>PassengerId</th>\n",
       "      <th>Survived</th>\n",
       "      <th>Pclass</th>\n",
       "      <th>Name</th>\n",
       "      <th>Sex</th>\n",
       "      <th>Age</th>\n",
       "      <th>SibSp</th>\n",
       "      <th>Parch</th>\n",
       "      <th>Ticket</th>\n",
       "      <th>Fare</th>\n",
       "      <th>Cabin</th>\n",
       "      <th>Embarked</th>\n",
       "    </tr>\n",
       "  </thead>\n",
       "  <tbody>\n",
       "    <tr>\n",
       "      <th>0</th>\n",
       "      <td>1.0</td>\n",
       "      <td>0.0</td>\n",
       "      <td>3.0</td>\n",
       "      <td>Braund, Mr. Owen Harris</td>\n",
       "      <td>male</td>\n",
       "      <td>22.0</td>\n",
       "      <td>1.0</td>\n",
       "      <td>0.0</td>\n",
       "      <td>A/5 21171</td>\n",
       "      <td>7.2500</td>\n",
       "      <td>NaN</td>\n",
       "      <td>S</td>\n",
       "    </tr>\n",
       "    <tr>\n",
       "      <th>1</th>\n",
       "      <td>2.0</td>\n",
       "      <td>1.0</td>\n",
       "      <td>1.0</td>\n",
       "      <td>Cumings, Mrs. John Bradley (Florence Briggs Th...</td>\n",
       "      <td>female</td>\n",
       "      <td>38.0</td>\n",
       "      <td>1.0</td>\n",
       "      <td>0.0</td>\n",
       "      <td>PC 17599</td>\n",
       "      <td>71.2833</td>\n",
       "      <td>C85</td>\n",
       "      <td>C</td>\n",
       "    </tr>\n",
       "    <tr>\n",
       "      <th>2</th>\n",
       "      <td>3.0</td>\n",
       "      <td>1.0</td>\n",
       "      <td>3.0</td>\n",
       "      <td>Heikkinen, Miss. Laina</td>\n",
       "      <td>female</td>\n",
       "      <td>26.0</td>\n",
       "      <td>0.0</td>\n",
       "      <td>0.0</td>\n",
       "      <td>STON/O2. 3101282</td>\n",
       "      <td>7.9250</td>\n",
       "      <td>NaN</td>\n",
       "      <td>S</td>\n",
       "    </tr>\n",
       "    <tr>\n",
       "      <th>3</th>\n",
       "      <td>4.0</td>\n",
       "      <td>1.0</td>\n",
       "      <td>1.0</td>\n",
       "      <td>Futrelle, Mrs. Jacques Heath (Lily May Peel)</td>\n",
       "      <td>female</td>\n",
       "      <td>35.0</td>\n",
       "      <td>1.0</td>\n",
       "      <td>0.0</td>\n",
       "      <td>113803</td>\n",
       "      <td>53.1000</td>\n",
       "      <td>C123</td>\n",
       "      <td>S</td>\n",
       "    </tr>\n",
       "    <tr>\n",
       "      <th>4</th>\n",
       "      <td>5.0</td>\n",
       "      <td>0.0</td>\n",
       "      <td>3.0</td>\n",
       "      <td>Allen, Mr. William Henry</td>\n",
       "      <td>male</td>\n",
       "      <td>35.0</td>\n",
       "      <td>0.0</td>\n",
       "      <td>0.0</td>\n",
       "      <td>373450</td>\n",
       "      <td>8.0500</td>\n",
       "      <td>NaN</td>\n",
       "      <td>S</td>\n",
       "    </tr>\n",
       "    <tr>\n",
       "      <th>...</th>\n",
       "      <td>...</td>\n",
       "      <td>...</td>\n",
       "      <td>...</td>\n",
       "      <td>...</td>\n",
       "      <td>...</td>\n",
       "      <td>...</td>\n",
       "      <td>...</td>\n",
       "      <td>...</td>\n",
       "      <td>...</td>\n",
       "      <td>...</td>\n",
       "      <td>...</td>\n",
       "      <td>...</td>\n",
       "    </tr>\n",
       "    <tr>\n",
       "      <th>1778</th>\n",
       "      <td>887.0</td>\n",
       "      <td>0.0</td>\n",
       "      <td>2.0</td>\n",
       "      <td>Montvila, Rev. Juozas</td>\n",
       "      <td>male</td>\n",
       "      <td>27.0</td>\n",
       "      <td>0.0</td>\n",
       "      <td>0.0</td>\n",
       "      <td>211536</td>\n",
       "      <td>13.0000</td>\n",
       "      <td>NaN</td>\n",
       "      <td>S</td>\n",
       "    </tr>\n",
       "    <tr>\n",
       "      <th>1779</th>\n",
       "      <td>888.0</td>\n",
       "      <td>1.0</td>\n",
       "      <td>1.0</td>\n",
       "      <td>Graham, Miss. Margaret Edith</td>\n",
       "      <td>female</td>\n",
       "      <td>19.0</td>\n",
       "      <td>0.0</td>\n",
       "      <td>0.0</td>\n",
       "      <td>112053</td>\n",
       "      <td>30.0000</td>\n",
       "      <td>B42</td>\n",
       "      <td>S</td>\n",
       "    </tr>\n",
       "    <tr>\n",
       "      <th>1780</th>\n",
       "      <td>889.0</td>\n",
       "      <td>0.0</td>\n",
       "      <td>3.0</td>\n",
       "      <td>Johnston, Miss. Catherine Helen \"Carrie\"</td>\n",
       "      <td>female</td>\n",
       "      <td>NaN</td>\n",
       "      <td>1.0</td>\n",
       "      <td>2.0</td>\n",
       "      <td>W./C. 6607</td>\n",
       "      <td>23.4500</td>\n",
       "      <td>NaN</td>\n",
       "      <td>S</td>\n",
       "    </tr>\n",
       "    <tr>\n",
       "      <th>1781</th>\n",
       "      <td>890.0</td>\n",
       "      <td>1.0</td>\n",
       "      <td>1.0</td>\n",
       "      <td>Behr, Mr. Karl Howell</td>\n",
       "      <td>male</td>\n",
       "      <td>26.0</td>\n",
       "      <td>0.0</td>\n",
       "      <td>0.0</td>\n",
       "      <td>111369</td>\n",
       "      <td>30.0000</td>\n",
       "      <td>C148</td>\n",
       "      <td>C</td>\n",
       "    </tr>\n",
       "    <tr>\n",
       "      <th>1782</th>\n",
       "      <td>891.0</td>\n",
       "      <td>0.0</td>\n",
       "      <td>3.0</td>\n",
       "      <td>Dooley, Mr. Patrick</td>\n",
       "      <td>male</td>\n",
       "      <td>32.0</td>\n",
       "      <td>0.0</td>\n",
       "      <td>0.0</td>\n",
       "      <td>370376</td>\n",
       "      <td>7.7500</td>\n",
       "      <td>NaN</td>\n",
       "      <td>Q</td>\n",
       "    </tr>\n",
       "  </tbody>\n",
       "</table>\n",
       "<p>1783 rows × 12 columns</p>\n",
       "</div>"
      ],
      "text/plain": [
       "      PassengerId  Survived  Pclass   \n",
       "0             1.0       0.0     3.0  \\\n",
       "1             2.0       1.0     1.0   \n",
       "2             3.0       1.0     3.0   \n",
       "3             4.0       1.0     1.0   \n",
       "4             5.0       0.0     3.0   \n",
       "...           ...       ...     ...   \n",
       "1778        887.0       0.0     2.0   \n",
       "1779        888.0       1.0     1.0   \n",
       "1780        889.0       0.0     3.0   \n",
       "1781        890.0       1.0     1.0   \n",
       "1782        891.0       0.0     3.0   \n",
       "\n",
       "                                                   Name     Sex   Age  SibSp   \n",
       "0                               Braund, Mr. Owen Harris    male  22.0    1.0  \\\n",
       "1     Cumings, Mrs. John Bradley (Florence Briggs Th...  female  38.0    1.0   \n",
       "2                                Heikkinen, Miss. Laina  female  26.0    0.0   \n",
       "3          Futrelle, Mrs. Jacques Heath (Lily May Peel)  female  35.0    1.0   \n",
       "4                              Allen, Mr. William Henry    male  35.0    0.0   \n",
       "...                                                 ...     ...   ...    ...   \n",
       "1778                              Montvila, Rev. Juozas    male  27.0    0.0   \n",
       "1779                       Graham, Miss. Margaret Edith  female  19.0    0.0   \n",
       "1780           Johnston, Miss. Catherine Helen \"Carrie\"  female   NaN    1.0   \n",
       "1781                              Behr, Mr. Karl Howell    male  26.0    0.0   \n",
       "1782                                Dooley, Mr. Patrick    male  32.0    0.0   \n",
       "\n",
       "      Parch            Ticket     Fare Cabin Embarked  \n",
       "0       0.0         A/5 21171   7.2500   NaN        S  \n",
       "1       0.0          PC 17599  71.2833   C85        C  \n",
       "2       0.0  STON/O2. 3101282   7.9250   NaN        S  \n",
       "3       0.0            113803  53.1000  C123        S  \n",
       "4       0.0            373450   8.0500   NaN        S  \n",
       "...     ...               ...      ...   ...      ...  \n",
       "1778    0.0            211536  13.0000   NaN        S  \n",
       "1779    0.0            112053  30.0000   B42        S  \n",
       "1780    2.0        W./C. 6607  23.4500   NaN        S  \n",
       "1781    0.0            111369  30.0000  C148        C  \n",
       "1782    0.0            370376   7.7500   NaN        Q  \n",
       "\n",
       "[1783 rows x 12 columns]"
      ]
     },
     "execution_count": 148,
     "metadata": {},
     "output_type": "execute_result"
    }
   ],
   "source": [
    "titanic = pd.read_csv('titanic.csv')\n",
    "titanic"
   ]
  },
  {
   "cell_type": "code",
   "execution_count": 149,
   "id": "72ec6180",
   "metadata": {},
   "outputs": [
    {
     "data": {
      "text/plain": [
       "(1783, 12)"
      ]
     },
     "execution_count": 149,
     "metadata": {},
     "output_type": "execute_result"
    }
   ],
   "source": [
    "titanic.shape"
   ]
  },
  {
   "cell_type": "code",
   "execution_count": 150,
   "id": "64adf9d6",
   "metadata": {},
   "outputs": [
    {
     "data": {
      "text/plain": [
       "2"
      ]
     },
     "execution_count": 150,
     "metadata": {},
     "output_type": "execute_result"
    }
   ],
   "source": [
    "titanic.ndim # no. of dimentions"
   ]
  },
  {
   "cell_type": "code",
   "execution_count": 151,
   "id": "96ab146b",
   "metadata": {},
   "outputs": [
    {
     "data": {
      "text/plain": [
       "PassengerId    float64\n",
       "Survived       float64\n",
       "Pclass         float64\n",
       "Name            object\n",
       "Sex             object\n",
       "Age            float64\n",
       "SibSp          float64\n",
       "Parch          float64\n",
       "Ticket          object\n",
       "Fare           float64\n",
       "Cabin           object\n",
       "Embarked        object\n",
       "dtype: object"
      ]
     },
     "execution_count": 151,
     "metadata": {},
     "output_type": "execute_result"
    }
   ],
   "source": [
    "titanic.dtypes"
   ]
  },
  {
   "cell_type": "code",
   "execution_count": 152,
   "id": "7e1ef264",
   "metadata": {},
   "outputs": [
    {
     "name": "stdout",
     "output_type": "stream",
     "text": [
      "<class 'pandas.core.frame.DataFrame'>\n",
      "RangeIndex: 1783 entries, 0 to 1782\n",
      "Data columns (total 12 columns):\n",
      " #   Column       Non-Null Count  Dtype  \n",
      "---  ------       --------------  -----  \n",
      " 0   PassengerId  1782 non-null   float64\n",
      " 1   Survived     1782 non-null   float64\n",
      " 2   Pclass       1782 non-null   float64\n",
      " 3   Name         1782 non-null   object \n",
      " 4   Sex          1782 non-null   object \n",
      " 5   Age          1428 non-null   float64\n",
      " 6   SibSp        1782 non-null   float64\n",
      " 7   Parch        1782 non-null   float64\n",
      " 8   Ticket       1782 non-null   object \n",
      " 9   Fare         1782 non-null   float64\n",
      " 10  Cabin        408 non-null    object \n",
      " 11  Embarked     1777 non-null   object \n",
      "dtypes: float64(7), object(5)\n",
      "memory usage: 167.3+ KB\n"
     ]
    }
   ],
   "source": [
    "titanic.info()"
   ]
  },
  {
   "cell_type": "code",
   "execution_count": 153,
   "id": "be7b7da7",
   "metadata": {},
   "outputs": [
    {
     "data": {
      "text/html": [
       "<div>\n",
       "<style scoped>\n",
       "    .dataframe tbody tr th:only-of-type {\n",
       "        vertical-align: middle;\n",
       "    }\n",
       "\n",
       "    .dataframe tbody tr th {\n",
       "        vertical-align: top;\n",
       "    }\n",
       "\n",
       "    .dataframe thead th {\n",
       "        text-align: right;\n",
       "    }\n",
       "</style>\n",
       "<table border=\"1\" class=\"dataframe\">\n",
       "  <thead>\n",
       "    <tr style=\"text-align: right;\">\n",
       "      <th></th>\n",
       "      <th>PassengerId</th>\n",
       "      <th>Survived</th>\n",
       "      <th>Pclass</th>\n",
       "      <th>Age</th>\n",
       "      <th>SibSp</th>\n",
       "      <th>Parch</th>\n",
       "      <th>Fare</th>\n",
       "    </tr>\n",
       "  </thead>\n",
       "  <tbody>\n",
       "    <tr>\n",
       "      <th>count</th>\n",
       "      <td>1782.000000</td>\n",
       "      <td>1782.000000</td>\n",
       "      <td>1782.000000</td>\n",
       "      <td>1428.000000</td>\n",
       "      <td>1782.000000</td>\n",
       "      <td>1782.000000</td>\n",
       "      <td>1782.000000</td>\n",
       "    </tr>\n",
       "    <tr>\n",
       "      <th>mean</th>\n",
       "      <td>446.000000</td>\n",
       "      <td>0.383838</td>\n",
       "      <td>2.308642</td>\n",
       "      <td>29.699118</td>\n",
       "      <td>0.523008</td>\n",
       "      <td>0.381594</td>\n",
       "      <td>32.204208</td>\n",
       "    </tr>\n",
       "    <tr>\n",
       "      <th>std</th>\n",
       "      <td>257.281582</td>\n",
       "      <td>0.486456</td>\n",
       "      <td>0.835836</td>\n",
       "      <td>14.521407</td>\n",
       "      <td>1.102434</td>\n",
       "      <td>0.805831</td>\n",
       "      <td>49.679476</td>\n",
       "    </tr>\n",
       "    <tr>\n",
       "      <th>min</th>\n",
       "      <td>1.000000</td>\n",
       "      <td>0.000000</td>\n",
       "      <td>1.000000</td>\n",
       "      <td>0.420000</td>\n",
       "      <td>0.000000</td>\n",
       "      <td>0.000000</td>\n",
       "      <td>0.000000</td>\n",
       "    </tr>\n",
       "    <tr>\n",
       "      <th>25%</th>\n",
       "      <td>223.250000</td>\n",
       "      <td>0.000000</td>\n",
       "      <td>2.000000</td>\n",
       "      <td>20.000000</td>\n",
       "      <td>0.000000</td>\n",
       "      <td>0.000000</td>\n",
       "      <td>7.903100</td>\n",
       "    </tr>\n",
       "    <tr>\n",
       "      <th>50%</th>\n",
       "      <td>446.000000</td>\n",
       "      <td>0.000000</td>\n",
       "      <td>3.000000</td>\n",
       "      <td>28.000000</td>\n",
       "      <td>0.000000</td>\n",
       "      <td>0.000000</td>\n",
       "      <td>14.454200</td>\n",
       "    </tr>\n",
       "    <tr>\n",
       "      <th>75%</th>\n",
       "      <td>668.750000</td>\n",
       "      <td>1.000000</td>\n",
       "      <td>3.000000</td>\n",
       "      <td>38.000000</td>\n",
       "      <td>1.000000</td>\n",
       "      <td>0.000000</td>\n",
       "      <td>31.000000</td>\n",
       "    </tr>\n",
       "    <tr>\n",
       "      <th>max</th>\n",
       "      <td>891.000000</td>\n",
       "      <td>1.000000</td>\n",
       "      <td>3.000000</td>\n",
       "      <td>80.000000</td>\n",
       "      <td>8.000000</td>\n",
       "      <td>6.000000</td>\n",
       "      <td>512.329200</td>\n",
       "    </tr>\n",
       "  </tbody>\n",
       "</table>\n",
       "</div>"
      ],
      "text/plain": [
       "       PassengerId     Survived       Pclass          Age        SibSp   \n",
       "count  1782.000000  1782.000000  1782.000000  1428.000000  1782.000000  \\\n",
       "mean    446.000000     0.383838     2.308642    29.699118     0.523008   \n",
       "std     257.281582     0.486456     0.835836    14.521407     1.102434   \n",
       "min       1.000000     0.000000     1.000000     0.420000     0.000000   \n",
       "25%     223.250000     0.000000     2.000000    20.000000     0.000000   \n",
       "50%     446.000000     0.000000     3.000000    28.000000     0.000000   \n",
       "75%     668.750000     1.000000     3.000000    38.000000     1.000000   \n",
       "max     891.000000     1.000000     3.000000    80.000000     8.000000   \n",
       "\n",
       "             Parch         Fare  \n",
       "count  1782.000000  1782.000000  \n",
       "mean      0.381594    32.204208  \n",
       "std       0.805831    49.679476  \n",
       "min       0.000000     0.000000  \n",
       "25%       0.000000     7.903100  \n",
       "50%       0.000000    14.454200  \n",
       "75%       0.000000    31.000000  \n",
       "max       6.000000   512.329200  "
      ]
     },
     "execution_count": 153,
     "metadata": {},
     "output_type": "execute_result"
    }
   ],
   "source": [
    "titanic.describe() # string columns will not include only numerical columns will be display"
   ]
  },
  {
   "cell_type": "code",
   "execution_count": 154,
   "id": "b01487fc",
   "metadata": {},
   "outputs": [],
   "source": [
    "# titanic.corr()"
   ]
  },
  {
   "cell_type": "code",
   "execution_count": 156,
   "id": "cbbb57cd",
   "metadata": {},
   "outputs": [
    {
     "data": {
      "text/plain": [
       "PassengerId    891\n",
       "Survived         2\n",
       "Pclass           3\n",
       "Name           891\n",
       "Sex              2\n",
       "Age             88\n",
       "SibSp            7\n",
       "Parch            7\n",
       "Ticket         681\n",
       "Fare           248\n",
       "Cabin          147\n",
       "Embarked         3\n",
       "dtype: int64"
      ]
     },
     "execution_count": 156,
     "metadata": {},
     "output_type": "execute_result"
    }
   ],
   "source": [
    "titanic.nunique()"
   ]
  },
  {
   "cell_type": "code",
   "execution_count": 157,
   "id": "9b32d33d",
   "metadata": {},
   "outputs": [
    {
     "data": {
      "text/plain": [
       "0       22.0\n",
       "1       38.0\n",
       "2       26.0\n",
       "3       35.0\n",
       "4       35.0\n",
       "        ... \n",
       "1778    27.0\n",
       "1779    19.0\n",
       "1780     NaN\n",
       "1781    26.0\n",
       "1782    32.0\n",
       "Name: Age, Length: 1783, dtype: float64"
      ]
     },
     "execution_count": 157,
     "metadata": {},
     "output_type": "execute_result"
    }
   ],
   "source": [
    "titanic['Age']"
   ]
  },
  {
   "cell_type": "code",
   "execution_count": 158,
   "id": "450a5c72",
   "metadata": {},
   "outputs": [
    {
     "name": "stdout",
     "output_type": "stream",
     "text": [
      "29.699117647058827\n",
      "28.0\n",
      "24.0\n"
     ]
    }
   ],
   "source": [
    "print(titanic['Age'].mean())\n",
    "print(titanic['Age'].median())\n",
    "print(titanic['Age'].mode()[0])"
   ]
  },
  {
   "cell_type": "code",
   "execution_count": 159,
   "id": "b993f89c",
   "metadata": {},
   "outputs": [
    {
     "name": "stdout",
     "output_type": "stream",
     "text": [
      "32.204207968574636\n",
      "14.4542\n",
      "8.05\n"
     ]
    }
   ],
   "source": [
    "print(titanic['Fare'].mean())\n",
    "print(titanic['Fare'].median())\n",
    "print(titanic['Fare'].mode()[0]) # 2d data so we need to mention for [0]"
   ]
  },
  {
   "cell_type": "code",
   "execution_count": null,
   "id": "9a1ba916",
   "metadata": {},
   "outputs": [],
   "source": [
    "titanic['Age'].value_counts().index[0] # 24\n",
    "titanic['Age'].value_counts().index[1] # 22"
   ]
  },
  {
   "cell_type": "code",
   "execution_count": 160,
   "id": "f104bff4",
   "metadata": {},
   "outputs": [
    {
     "name": "stdout",
     "output_type": "stream",
     "text": [
      "Age     29.699118\n",
      "Fare    32.204208\n",
      "dtype: float64\n",
      "Age     28.0000\n",
      "Fare    14.4542\n",
      "dtype: float64\n"
     ]
    }
   ],
   "source": [
    "print(titanic[['Age','Fare']].mean())\n",
    "print(titanic[['Age','Fare']].median())\n",
    "# print(titanic[['Age','Fare']].mode()[0]) # not possible for mode in two columns"
   ]
  },
  {
   "cell_type": "code",
   "execution_count": 161,
   "id": "1965226e",
   "metadata": {},
   "outputs": [
    {
     "name": "stdout",
     "output_type": "stream",
     "text": [
      "               Age         Fare\n",
      "count  1428.000000  1782.000000\n",
      "mean     29.699118    32.204208\n",
      "std      14.521407    49.679476\n",
      "min       0.420000     0.000000\n",
      "25%      20.000000     7.903100\n",
      "50%      28.000000    14.454200\n",
      "75%      38.000000    31.000000\n",
      "max      80.000000   512.329200\n"
     ]
    }
   ],
   "source": [
    "print(titanic[['Age','Fare']].describe())"
   ]
  },
  {
   "cell_type": "markdown",
   "id": "dce5e182",
   "metadata": {},
   "source": [
    "### Aggregating statistics grouped by category\n",
    "\n",
    "       This will be done by using function:\n",
    "       1. groupby()\n",
    "       2. value_counts()"
   ]
  },
  {
   "cell_type": "code",
   "execution_count": 162,
   "id": "c11da041",
   "metadata": {},
   "outputs": [
    {
     "data": {
      "text/html": [
       "<div>\n",
       "<style scoped>\n",
       "    .dataframe tbody tr th:only-of-type {\n",
       "        vertical-align: middle;\n",
       "    }\n",
       "\n",
       "    .dataframe tbody tr th {\n",
       "        vertical-align: top;\n",
       "    }\n",
       "\n",
       "    .dataframe thead th {\n",
       "        text-align: right;\n",
       "    }\n",
       "</style>\n",
       "<table border=\"1\" class=\"dataframe\">\n",
       "  <thead>\n",
       "    <tr style=\"text-align: right;\">\n",
       "      <th></th>\n",
       "      <th>PassengerId</th>\n",
       "      <th>Survived</th>\n",
       "      <th>Pclass</th>\n",
       "      <th>Name</th>\n",
       "      <th>Sex</th>\n",
       "      <th>Age</th>\n",
       "      <th>SibSp</th>\n",
       "      <th>Parch</th>\n",
       "      <th>Ticket</th>\n",
       "      <th>Fare</th>\n",
       "      <th>Cabin</th>\n",
       "      <th>Embarked</th>\n",
       "    </tr>\n",
       "  </thead>\n",
       "  <tbody>\n",
       "    <tr>\n",
       "      <th>0</th>\n",
       "      <td>1.0</td>\n",
       "      <td>0.0</td>\n",
       "      <td>3.0</td>\n",
       "      <td>Braund, Mr. Owen Harris</td>\n",
       "      <td>male</td>\n",
       "      <td>22.0</td>\n",
       "      <td>1.0</td>\n",
       "      <td>0.0</td>\n",
       "      <td>A/5 21171</td>\n",
       "      <td>7.2500</td>\n",
       "      <td>NaN</td>\n",
       "      <td>S</td>\n",
       "    </tr>\n",
       "    <tr>\n",
       "      <th>1</th>\n",
       "      <td>2.0</td>\n",
       "      <td>1.0</td>\n",
       "      <td>1.0</td>\n",
       "      <td>Cumings, Mrs. John Bradley (Florence Briggs Th...</td>\n",
       "      <td>female</td>\n",
       "      <td>38.0</td>\n",
       "      <td>1.0</td>\n",
       "      <td>0.0</td>\n",
       "      <td>PC 17599</td>\n",
       "      <td>71.2833</td>\n",
       "      <td>C85</td>\n",
       "      <td>C</td>\n",
       "    </tr>\n",
       "    <tr>\n",
       "      <th>2</th>\n",
       "      <td>3.0</td>\n",
       "      <td>1.0</td>\n",
       "      <td>3.0</td>\n",
       "      <td>Heikkinen, Miss. Laina</td>\n",
       "      <td>female</td>\n",
       "      <td>26.0</td>\n",
       "      <td>0.0</td>\n",
       "      <td>0.0</td>\n",
       "      <td>STON/O2. 3101282</td>\n",
       "      <td>7.9250</td>\n",
       "      <td>NaN</td>\n",
       "      <td>S</td>\n",
       "    </tr>\n",
       "    <tr>\n",
       "      <th>3</th>\n",
       "      <td>4.0</td>\n",
       "      <td>1.0</td>\n",
       "      <td>1.0</td>\n",
       "      <td>Futrelle, Mrs. Jacques Heath (Lily May Peel)</td>\n",
       "      <td>female</td>\n",
       "      <td>35.0</td>\n",
       "      <td>1.0</td>\n",
       "      <td>0.0</td>\n",
       "      <td>113803</td>\n",
       "      <td>53.1000</td>\n",
       "      <td>C123</td>\n",
       "      <td>S</td>\n",
       "    </tr>\n",
       "    <tr>\n",
       "      <th>4</th>\n",
       "      <td>5.0</td>\n",
       "      <td>0.0</td>\n",
       "      <td>3.0</td>\n",
       "      <td>Allen, Mr. William Henry</td>\n",
       "      <td>male</td>\n",
       "      <td>35.0</td>\n",
       "      <td>0.0</td>\n",
       "      <td>0.0</td>\n",
       "      <td>373450</td>\n",
       "      <td>8.0500</td>\n",
       "      <td>NaN</td>\n",
       "      <td>S</td>\n",
       "    </tr>\n",
       "  </tbody>\n",
       "</table>\n",
       "</div>"
      ],
      "text/plain": [
       "   PassengerId  Survived  Pclass   \n",
       "0          1.0       0.0     3.0  \\\n",
       "1          2.0       1.0     1.0   \n",
       "2          3.0       1.0     3.0   \n",
       "3          4.0       1.0     1.0   \n",
       "4          5.0       0.0     3.0   \n",
       "\n",
       "                                                Name     Sex   Age  SibSp   \n",
       "0                            Braund, Mr. Owen Harris    male  22.0    1.0  \\\n",
       "1  Cumings, Mrs. John Bradley (Florence Briggs Th...  female  38.0    1.0   \n",
       "2                             Heikkinen, Miss. Laina  female  26.0    0.0   \n",
       "3       Futrelle, Mrs. Jacques Heath (Lily May Peel)  female  35.0    1.0   \n",
       "4                           Allen, Mr. William Henry    male  35.0    0.0   \n",
       "\n",
       "   Parch            Ticket     Fare Cabin Embarked  \n",
       "0    0.0         A/5 21171   7.2500   NaN        S  \n",
       "1    0.0          PC 17599  71.2833   C85        C  \n",
       "2    0.0  STON/O2. 3101282   7.9250   NaN        S  \n",
       "3    0.0            113803  53.1000  C123        S  \n",
       "4    0.0            373450   8.0500   NaN        S  "
      ]
     },
     "execution_count": 162,
     "metadata": {},
     "output_type": "execute_result"
    }
   ],
   "source": [
    "titanic.head()"
   ]
  },
  {
   "cell_type": "code",
   "execution_count": 163,
   "id": "e97ae101",
   "metadata": {},
   "outputs": [],
   "source": [
    "# titanic.groupby(\"Sex\").mean()"
   ]
  },
  {
   "cell_type": "code",
   "execution_count": 166,
   "id": "d38664cc",
   "metadata": {},
   "outputs": [
    {
     "data": {
      "text/html": [
       "<div>\n",
       "<style scoped>\n",
       "    .dataframe tbody tr th:only-of-type {\n",
       "        vertical-align: middle;\n",
       "    }\n",
       "\n",
       "    .dataframe tbody tr th {\n",
       "        vertical-align: top;\n",
       "    }\n",
       "\n",
       "    .dataframe thead th {\n",
       "        text-align: right;\n",
       "    }\n",
       "</style>\n",
       "<table border=\"1\" class=\"dataframe\">\n",
       "  <thead>\n",
       "    <tr style=\"text-align: right;\">\n",
       "      <th></th>\n",
       "      <th>Age</th>\n",
       "      <th>Fare</th>\n",
       "    </tr>\n",
       "    <tr>\n",
       "      <th>Sex</th>\n",
       "      <th></th>\n",
       "      <th></th>\n",
       "    </tr>\n",
       "  </thead>\n",
       "  <tbody>\n",
       "    <tr>\n",
       "      <th>female</th>\n",
       "      <td>27.915709</td>\n",
       "      <td>44.479818</td>\n",
       "    </tr>\n",
       "    <tr>\n",
       "      <th>male</th>\n",
       "      <td>30.726645</td>\n",
       "      <td>25.523893</td>\n",
       "    </tr>\n",
       "  </tbody>\n",
       "</table>\n",
       "</div>"
      ],
      "text/plain": [
       "              Age       Fare\n",
       "Sex                         \n",
       "female  27.915709  44.479818\n",
       "male    30.726645  25.523893"
      ]
     },
     "execution_count": 166,
     "metadata": {},
     "output_type": "execute_result"
    }
   ],
   "source": [
    "# one way\n",
    "titanic[['Sex','Age','Fare']].groupby(\"Sex\").mean()"
   ]
  },
  {
   "cell_type": "code",
   "execution_count": 168,
   "id": "36280388",
   "metadata": {},
   "outputs": [
    {
     "data": {
      "text/html": [
       "<div>\n",
       "<style scoped>\n",
       "    .dataframe tbody tr th:only-of-type {\n",
       "        vertical-align: middle;\n",
       "    }\n",
       "\n",
       "    .dataframe tbody tr th {\n",
       "        vertical-align: top;\n",
       "    }\n",
       "\n",
       "    .dataframe thead th {\n",
       "        text-align: right;\n",
       "    }\n",
       "</style>\n",
       "<table border=\"1\" class=\"dataframe\">\n",
       "  <thead>\n",
       "    <tr style=\"text-align: right;\">\n",
       "      <th></th>\n",
       "      <th>Age</th>\n",
       "    </tr>\n",
       "    <tr>\n",
       "      <th>Sex</th>\n",
       "      <th></th>\n",
       "    </tr>\n",
       "  </thead>\n",
       "  <tbody>\n",
       "    <tr>\n",
       "      <th>female</th>\n",
       "      <td>27.915709</td>\n",
       "    </tr>\n",
       "    <tr>\n",
       "      <th>male</th>\n",
       "      <td>30.726645</td>\n",
       "    </tr>\n",
       "  </tbody>\n",
       "</table>\n",
       "</div>"
      ],
      "text/plain": [
       "              Age\n",
       "Sex              \n",
       "female  27.915709\n",
       "male    30.726645"
      ]
     },
     "execution_count": 168,
     "metadata": {},
     "output_type": "execute_result"
    }
   ],
   "source": [
    "# another way\n",
    "titanic.groupby(\"Sex\")[['Age']].mean() "
   ]
  },
  {
   "cell_type": "code",
   "execution_count": 170,
   "id": "f571a5fa",
   "metadata": {},
   "outputs": [
    {
     "data": {
      "text/html": [
       "<div>\n",
       "<style scoped>\n",
       "    .dataframe tbody tr th:only-of-type {\n",
       "        vertical-align: middle;\n",
       "    }\n",
       "\n",
       "    .dataframe tbody tr th {\n",
       "        vertical-align: top;\n",
       "    }\n",
       "\n",
       "    .dataframe thead th {\n",
       "        text-align: right;\n",
       "    }\n",
       "</style>\n",
       "<table border=\"1\" class=\"dataframe\">\n",
       "  <thead>\n",
       "    <tr style=\"text-align: right;\">\n",
       "      <th></th>\n",
       "      <th>Age</th>\n",
       "      <th>Fare</th>\n",
       "    </tr>\n",
       "    <tr>\n",
       "      <th>Sex</th>\n",
       "      <th></th>\n",
       "      <th></th>\n",
       "    </tr>\n",
       "  </thead>\n",
       "  <tbody>\n",
       "    <tr>\n",
       "      <th>female</th>\n",
       "      <td>27.0</td>\n",
       "      <td>23.0</td>\n",
       "    </tr>\n",
       "    <tr>\n",
       "      <th>male</th>\n",
       "      <td>29.0</td>\n",
       "      <td>10.5</td>\n",
       "    </tr>\n",
       "  </tbody>\n",
       "</table>\n",
       "</div>"
      ],
      "text/plain": [
       "         Age  Fare\n",
       "Sex               \n",
       "female  27.0  23.0\n",
       "male    29.0  10.5"
      ]
     },
     "execution_count": 170,
     "metadata": {},
     "output_type": "execute_result"
    }
   ],
   "source": [
    "titanic.groupby('Sex')[['Age','Fare']].median()"
   ]
  },
  {
   "cell_type": "code",
   "execution_count": 171,
   "id": "95183216",
   "metadata": {},
   "outputs": [
    {
     "data": {
      "text/plain": [
       "Sex\n",
       "female    27.915709\n",
       "male      30.726645\n",
       "Name: Age, dtype: float64"
      ]
     },
     "execution_count": 171,
     "metadata": {},
     "output_type": "execute_result"
    }
   ],
   "source": [
    "titanic.groupby('Sex')['Age'].mean()"
   ]
  },
  {
   "cell_type": "code",
   "execution_count": 172,
   "id": "1258f615",
   "metadata": {},
   "outputs": [
    {
     "data": {
      "text/plain": [
       "Sex     Pclass\n",
       "female  1.0       106.125798\n",
       "        2.0        21.970121\n",
       "        3.0        16.118810\n",
       "male    1.0        67.226127\n",
       "        2.0        19.741782\n",
       "        3.0        12.661633\n",
       "Name: Fare, dtype: float64"
      ]
     },
     "execution_count": 172,
     "metadata": {},
     "output_type": "execute_result"
    }
   ],
   "source": [
    "titanic.groupby([\"Sex\",\"Pclass\"])[\"Fare\"].mean()"
   ]
  },
  {
   "cell_type": "markdown",
   "id": "e8c44ee0",
   "metadata": {},
   "source": [
    "###### Value_counts()"
   ]
  },
  {
   "cell_type": "code",
   "execution_count": 173,
   "id": "2ade6bbb",
   "metadata": {},
   "outputs": [
    {
     "data": {
      "text/plain": [
       "Pclass\n",
       "3.0    982\n",
       "1.0    432\n",
       "2.0    368\n",
       "Name: count, dtype: int64"
      ]
     },
     "execution_count": 173,
     "metadata": {},
     "output_type": "execute_result"
    }
   ],
   "source": [
    "titanic[\"Pclass\"].value_counts()"
   ]
  },
  {
   "cell_type": "code",
   "execution_count": 174,
   "id": "4a84a6a5",
   "metadata": {},
   "outputs": [
    {
     "data": {
      "text/plain": [
       "Sex\n",
       "male      1154\n",
       "female     628\n",
       "Name: count, dtype: int64"
      ]
     },
     "execution_count": 174,
     "metadata": {},
     "output_type": "execute_result"
    }
   ],
   "source": [
    "titanic[\"Sex\"].value_counts()"
   ]
  },
  {
   "cell_type": "code",
   "execution_count": 182,
   "id": "7f78edf0",
   "metadata": {
    "scrolled": true
   },
   "outputs": [
    {
     "data": {
      "text/plain": [
       "Pclass  Sex   \n",
       "1.0     male      244\n",
       "        female    188\n",
       "2.0     male      216\n",
       "        female    152\n",
       "3.0     male      694\n",
       "        female    288\n",
       "Name: count, dtype: int64"
      ]
     },
     "execution_count": 182,
     "metadata": {},
     "output_type": "execute_result"
    }
   ],
   "source": [
    "titanic.groupby(\"Pclass\")[\"Sex\"].value_counts()"
   ]
  },
  {
   "cell_type": "code",
   "execution_count": 183,
   "id": "52fb7dd5",
   "metadata": {},
   "outputs": [
    {
     "data": {
      "text/plain": [
       "Sex     Pclass\n",
       "female  3.0       288\n",
       "        1.0       188\n",
       "        2.0       152\n",
       "male    3.0       694\n",
       "        1.0       244\n",
       "        2.0       216\n",
       "Name: count, dtype: int64"
      ]
     },
     "execution_count": 183,
     "metadata": {},
     "output_type": "execute_result"
    }
   ],
   "source": [
    "titanic.groupby(\"Sex\")[[\"Pclass\"]].value_counts()"
   ]
  },
  {
   "cell_type": "markdown",
   "id": "8dd0226f",
   "metadata": {},
   "source": [
    "### Reshape the layout of table\n",
    "\n",
    "          \"sort_values\""
   ]
  },
  {
   "cell_type": "code",
   "execution_count": 184,
   "id": "e99c0f80",
   "metadata": {},
   "outputs": [
    {
     "data": {
      "text/html": [
       "<div>\n",
       "<style scoped>\n",
       "    .dataframe tbody tr th:only-of-type {\n",
       "        vertical-align: middle;\n",
       "    }\n",
       "\n",
       "    .dataframe tbody tr th {\n",
       "        vertical-align: top;\n",
       "    }\n",
       "\n",
       "    .dataframe thead th {\n",
       "        text-align: right;\n",
       "    }\n",
       "</style>\n",
       "<table border=\"1\" class=\"dataframe\">\n",
       "  <thead>\n",
       "    <tr style=\"text-align: right;\">\n",
       "      <th></th>\n",
       "      <th>PassengerId</th>\n",
       "      <th>Survived</th>\n",
       "      <th>Pclass</th>\n",
       "      <th>Name</th>\n",
       "      <th>Sex</th>\n",
       "      <th>Age</th>\n",
       "      <th>SibSp</th>\n",
       "      <th>Parch</th>\n",
       "      <th>Ticket</th>\n",
       "      <th>Fare</th>\n",
       "      <th>Cabin</th>\n",
       "      <th>Embarked</th>\n",
       "    </tr>\n",
       "  </thead>\n",
       "  <tbody>\n",
       "    <tr>\n",
       "      <th>942</th>\n",
       "      <td>804.0</td>\n",
       "      <td>1.0</td>\n",
       "      <td>3.0</td>\n",
       "      <td>Thomas, Master. Assad Alexander</td>\n",
       "      <td>male</td>\n",
       "      <td>0.42</td>\n",
       "      <td>0.0</td>\n",
       "      <td>1.0</td>\n",
       "      <td>2625</td>\n",
       "      <td>8.5167</td>\n",
       "      <td>NaN</td>\n",
       "      <td>C</td>\n",
       "    </tr>\n",
       "    <tr>\n",
       "      <th>1695</th>\n",
       "      <td>804.0</td>\n",
       "      <td>1.0</td>\n",
       "      <td>3.0</td>\n",
       "      <td>Thomas, Master. Assad Alexander</td>\n",
       "      <td>male</td>\n",
       "      <td>0.42</td>\n",
       "      <td>0.0</td>\n",
       "      <td>1.0</td>\n",
       "      <td>2625</td>\n",
       "      <td>8.5167</td>\n",
       "      <td>NaN</td>\n",
       "      <td>C</td>\n",
       "    </tr>\n",
       "    <tr>\n",
       "      <th>894</th>\n",
       "      <td>756.0</td>\n",
       "      <td>1.0</td>\n",
       "      <td>2.0</td>\n",
       "      <td>Hamalainen, Master. Viljo</td>\n",
       "      <td>male</td>\n",
       "      <td>0.67</td>\n",
       "      <td>1.0</td>\n",
       "      <td>1.0</td>\n",
       "      <td>250649</td>\n",
       "      <td>14.5000</td>\n",
       "      <td>NaN</td>\n",
       "      <td>S</td>\n",
       "    </tr>\n",
       "    <tr>\n",
       "      <th>1647</th>\n",
       "      <td>756.0</td>\n",
       "      <td>1.0</td>\n",
       "      <td>2.0</td>\n",
       "      <td>Hamalainen, Master. Viljo</td>\n",
       "      <td>male</td>\n",
       "      <td>0.67</td>\n",
       "      <td>1.0</td>\n",
       "      <td>1.0</td>\n",
       "      <td>250649</td>\n",
       "      <td>14.5000</td>\n",
       "      <td>NaN</td>\n",
       "      <td>S</td>\n",
       "    </tr>\n",
       "    <tr>\n",
       "      <th>608</th>\n",
       "      <td>470.0</td>\n",
       "      <td>1.0</td>\n",
       "      <td>3.0</td>\n",
       "      <td>Baclini, Miss. Helene Barbara</td>\n",
       "      <td>female</td>\n",
       "      <td>0.75</td>\n",
       "      <td>2.0</td>\n",
       "      <td>1.0</td>\n",
       "      <td>2666</td>\n",
       "      <td>19.2583</td>\n",
       "      <td>NaN</td>\n",
       "      <td>C</td>\n",
       "    </tr>\n",
       "  </tbody>\n",
       "</table>\n",
       "</div>"
      ],
      "text/plain": [
       "      PassengerId  Survived  Pclass                             Name     Sex   \n",
       "942         804.0       1.0     3.0  Thomas, Master. Assad Alexander    male  \\\n",
       "1695        804.0       1.0     3.0  Thomas, Master. Assad Alexander    male   \n",
       "894         756.0       1.0     2.0        Hamalainen, Master. Viljo    male   \n",
       "1647        756.0       1.0     2.0        Hamalainen, Master. Viljo    male   \n",
       "608         470.0       1.0     3.0    Baclini, Miss. Helene Barbara  female   \n",
       "\n",
       "       Age  SibSp  Parch  Ticket     Fare Cabin Embarked  \n",
       "942   0.42    0.0    1.0    2625   8.5167   NaN        C  \n",
       "1695  0.42    0.0    1.0    2625   8.5167   NaN        C  \n",
       "894   0.67    1.0    1.0  250649  14.5000   NaN        S  \n",
       "1647  0.67    1.0    1.0  250649  14.5000   NaN        S  \n",
       "608   0.75    2.0    1.0    2666  19.2583   NaN        C  "
      ]
     },
     "execution_count": 184,
     "metadata": {},
     "output_type": "execute_result"
    }
   ],
   "source": [
    "#Sort table rows¶\n",
    "titanic.sort_values(by=['Age','Fare']).head()"
   ]
  },
  {
   "cell_type": "code",
   "execution_count": 185,
   "id": "b261ec14",
   "metadata": {},
   "outputs": [
    {
     "data": {
      "text/html": [
       "<div>\n",
       "<style scoped>\n",
       "    .dataframe tbody tr th:only-of-type {\n",
       "        vertical-align: middle;\n",
       "    }\n",
       "\n",
       "    .dataframe tbody tr th {\n",
       "        vertical-align: top;\n",
       "    }\n",
       "\n",
       "    .dataframe thead th {\n",
       "        text-align: right;\n",
       "    }\n",
       "</style>\n",
       "<table border=\"1\" class=\"dataframe\">\n",
       "  <thead>\n",
       "    <tr style=\"text-align: right;\">\n",
       "      <th></th>\n",
       "      <th>PassengerId</th>\n",
       "      <th>Survived</th>\n",
       "      <th>Pclass</th>\n",
       "      <th>Name</th>\n",
       "      <th>Sex</th>\n",
       "      <th>Age</th>\n",
       "      <th>SibSp</th>\n",
       "      <th>Parch</th>\n",
       "      <th>Ticket</th>\n",
       "      <th>Fare</th>\n",
       "      <th>Cabin</th>\n",
       "      <th>Embarked</th>\n",
       "    </tr>\n",
       "  </thead>\n",
       "  <tbody>\n",
       "    <tr>\n",
       "      <th>769</th>\n",
       "      <td>631.0</td>\n",
       "      <td>1.0</td>\n",
       "      <td>1.0</td>\n",
       "      <td>Barkworth, Mr. Algernon Henry Wilson</td>\n",
       "      <td>male</td>\n",
       "      <td>80.0</td>\n",
       "      <td>0.0</td>\n",
       "      <td>0.0</td>\n",
       "      <td>27042</td>\n",
       "      <td>30.0000</td>\n",
       "      <td>A23</td>\n",
       "      <td>S</td>\n",
       "    </tr>\n",
       "    <tr>\n",
       "      <th>1522</th>\n",
       "      <td>631.0</td>\n",
       "      <td>1.0</td>\n",
       "      <td>1.0</td>\n",
       "      <td>Barkworth, Mr. Algernon Henry Wilson</td>\n",
       "      <td>male</td>\n",
       "      <td>80.0</td>\n",
       "      <td>0.0</td>\n",
       "      <td>0.0</td>\n",
       "      <td>27042</td>\n",
       "      <td>30.0000</td>\n",
       "      <td>A23</td>\n",
       "      <td>S</td>\n",
       "    </tr>\n",
       "    <tr>\n",
       "      <th>990</th>\n",
       "      <td>852.0</td>\n",
       "      <td>0.0</td>\n",
       "      <td>3.0</td>\n",
       "      <td>Svensson, Mr. Johan</td>\n",
       "      <td>male</td>\n",
       "      <td>74.0</td>\n",
       "      <td>0.0</td>\n",
       "      <td>0.0</td>\n",
       "      <td>347060</td>\n",
       "      <td>7.7750</td>\n",
       "      <td>NaN</td>\n",
       "      <td>S</td>\n",
       "    </tr>\n",
       "    <tr>\n",
       "      <th>1743</th>\n",
       "      <td>852.0</td>\n",
       "      <td>0.0</td>\n",
       "      <td>3.0</td>\n",
       "      <td>Svensson, Mr. Johan</td>\n",
       "      <td>male</td>\n",
       "      <td>74.0</td>\n",
       "      <td>0.0</td>\n",
       "      <td>0.0</td>\n",
       "      <td>347060</td>\n",
       "      <td>7.7750</td>\n",
       "      <td>NaN</td>\n",
       "      <td>S</td>\n",
       "    </tr>\n",
       "    <tr>\n",
       "      <th>632</th>\n",
       "      <td>494.0</td>\n",
       "      <td>0.0</td>\n",
       "      <td>1.0</td>\n",
       "      <td>Artagaveytia, Mr. Ramon</td>\n",
       "      <td>male</td>\n",
       "      <td>71.0</td>\n",
       "      <td>0.0</td>\n",
       "      <td>0.0</td>\n",
       "      <td>PC 17609</td>\n",
       "      <td>49.5042</td>\n",
       "      <td>NaN</td>\n",
       "      <td>C</td>\n",
       "    </tr>\n",
       "  </tbody>\n",
       "</table>\n",
       "</div>"
      ],
      "text/plain": [
       "      PassengerId  Survived  Pclass                                  Name   \n",
       "769         631.0       1.0     1.0  Barkworth, Mr. Algernon Henry Wilson  \\\n",
       "1522        631.0       1.0     1.0  Barkworth, Mr. Algernon Henry Wilson   \n",
       "990         852.0       0.0     3.0                   Svensson, Mr. Johan   \n",
       "1743        852.0       0.0     3.0                   Svensson, Mr. Johan   \n",
       "632         494.0       0.0     1.0               Artagaveytia, Mr. Ramon   \n",
       "\n",
       "       Sex   Age  SibSp  Parch    Ticket     Fare Cabin Embarked  \n",
       "769   male  80.0    0.0    0.0     27042  30.0000   A23        S  \n",
       "1522  male  80.0    0.0    0.0     27042  30.0000   A23        S  \n",
       "990   male  74.0    0.0    0.0    347060   7.7750   NaN        S  \n",
       "1743  male  74.0    0.0    0.0    347060   7.7750   NaN        S  \n",
       "632   male  71.0    0.0    0.0  PC 17609  49.5042   NaN        C  "
      ]
     },
     "execution_count": 185,
     "metadata": {},
     "output_type": "execute_result"
    }
   ],
   "source": [
    "titanic.sort_values(by=['Age','Fare'],ascending=False).head()"
   ]
  },
  {
   "cell_type": "code",
   "execution_count": 187,
   "id": "64340c41",
   "metadata": {},
   "outputs": [
    {
     "data": {
      "text/html": [
       "<div>\n",
       "<style scoped>\n",
       "    .dataframe tbody tr th:only-of-type {\n",
       "        vertical-align: middle;\n",
       "    }\n",
       "\n",
       "    .dataframe tbody tr th {\n",
       "        vertical-align: top;\n",
       "    }\n",
       "\n",
       "    .dataframe thead th {\n",
       "        text-align: right;\n",
       "    }\n",
       "</style>\n",
       "<table border=\"1\" class=\"dataframe\">\n",
       "  <thead>\n",
       "    <tr style=\"text-align: right;\">\n",
       "      <th></th>\n",
       "      <th>PassengerId</th>\n",
       "      <th>Survived</th>\n",
       "      <th>Pclass</th>\n",
       "      <th>Name</th>\n",
       "      <th>Sex</th>\n",
       "      <th>Age</th>\n",
       "      <th>SibSp</th>\n",
       "      <th>Parch</th>\n",
       "      <th>Ticket</th>\n",
       "      <th>Fare</th>\n",
       "      <th>Cabin</th>\n",
       "      <th>Embarked</th>\n",
       "    </tr>\n",
       "  </thead>\n",
       "  <tbody>\n",
       "    <tr>\n",
       "      <th>942</th>\n",
       "      <td>804.0</td>\n",
       "      <td>1.0</td>\n",
       "      <td>3.0</td>\n",
       "      <td>Thomas, Master. Assad Alexander</td>\n",
       "      <td>male</td>\n",
       "      <td>0.42</td>\n",
       "      <td>0.0</td>\n",
       "      <td>1.0</td>\n",
       "      <td>2625</td>\n",
       "      <td>8.5167</td>\n",
       "      <td>NaN</td>\n",
       "      <td>C</td>\n",
       "    </tr>\n",
       "    <tr>\n",
       "      <th>1695</th>\n",
       "      <td>804.0</td>\n",
       "      <td>1.0</td>\n",
       "      <td>3.0</td>\n",
       "      <td>Thomas, Master. Assad Alexander</td>\n",
       "      <td>male</td>\n",
       "      <td>0.42</td>\n",
       "      <td>0.0</td>\n",
       "      <td>1.0</td>\n",
       "      <td>2625</td>\n",
       "      <td>8.5167</td>\n",
       "      <td>NaN</td>\n",
       "      <td>C</td>\n",
       "    </tr>\n",
       "    <tr>\n",
       "      <th>894</th>\n",
       "      <td>756.0</td>\n",
       "      <td>1.0</td>\n",
       "      <td>2.0</td>\n",
       "      <td>Hamalainen, Master. Viljo</td>\n",
       "      <td>male</td>\n",
       "      <td>0.67</td>\n",
       "      <td>1.0</td>\n",
       "      <td>1.0</td>\n",
       "      <td>250649</td>\n",
       "      <td>14.5000</td>\n",
       "      <td>NaN</td>\n",
       "      <td>S</td>\n",
       "    </tr>\n",
       "    <tr>\n",
       "      <th>1647</th>\n",
       "      <td>756.0</td>\n",
       "      <td>1.0</td>\n",
       "      <td>2.0</td>\n",
       "      <td>Hamalainen, Master. Viljo</td>\n",
       "      <td>male</td>\n",
       "      <td>0.67</td>\n",
       "      <td>1.0</td>\n",
       "      <td>1.0</td>\n",
       "      <td>250649</td>\n",
       "      <td>14.5000</td>\n",
       "      <td>NaN</td>\n",
       "      <td>S</td>\n",
       "    </tr>\n",
       "    <tr>\n",
       "      <th>608</th>\n",
       "      <td>470.0</td>\n",
       "      <td>1.0</td>\n",
       "      <td>3.0</td>\n",
       "      <td>Baclini, Miss. Helene Barbara</td>\n",
       "      <td>female</td>\n",
       "      <td>0.75</td>\n",
       "      <td>2.0</td>\n",
       "      <td>1.0</td>\n",
       "      <td>2666</td>\n",
       "      <td>19.2583</td>\n",
       "      <td>NaN</td>\n",
       "      <td>C</td>\n",
       "    </tr>\n",
       "  </tbody>\n",
       "</table>\n",
       "</div>"
      ],
      "text/plain": [
       "      PassengerId  Survived  Pclass                             Name     Sex   \n",
       "942         804.0       1.0     3.0  Thomas, Master. Assad Alexander    male  \\\n",
       "1695        804.0       1.0     3.0  Thomas, Master. Assad Alexander    male   \n",
       "894         756.0       1.0     2.0        Hamalainen, Master. Viljo    male   \n",
       "1647        756.0       1.0     2.0        Hamalainen, Master. Viljo    male   \n",
       "608         470.0       1.0     3.0    Baclini, Miss. Helene Barbara  female   \n",
       "\n",
       "       Age  SibSp  Parch  Ticket     Fare Cabin Embarked  \n",
       "942   0.42    0.0    1.0    2625   8.5167   NaN        C  \n",
       "1695  0.42    0.0    1.0    2625   8.5167   NaN        C  \n",
       "894   0.67    1.0    1.0  250649  14.5000   NaN        S  \n",
       "1647  0.67    1.0    1.0  250649  14.5000   NaN        S  \n",
       "608   0.75    2.0    1.0    2666  19.2583   NaN        C  "
      ]
     },
     "execution_count": 187,
     "metadata": {},
     "output_type": "execute_result"
    }
   ],
   "source": [
    "titanic.sort_values(by=['Age','Pclass']).head()"
   ]
  },
  {
   "cell_type": "code",
   "execution_count": 188,
   "id": "d75ecf5c",
   "metadata": {},
   "outputs": [
    {
     "data": {
      "text/html": [
       "<div>\n",
       "<style scoped>\n",
       "    .dataframe tbody tr th:only-of-type {\n",
       "        vertical-align: middle;\n",
       "    }\n",
       "\n",
       "    .dataframe tbody tr th {\n",
       "        vertical-align: top;\n",
       "    }\n",
       "\n",
       "    .dataframe thead th {\n",
       "        text-align: right;\n",
       "    }\n",
       "</style>\n",
       "<table border=\"1\" class=\"dataframe\">\n",
       "  <thead>\n",
       "    <tr style=\"text-align: right;\">\n",
       "      <th></th>\n",
       "      <th>PassengerId</th>\n",
       "      <th>Survived</th>\n",
       "      <th>Pclass</th>\n",
       "      <th>Name</th>\n",
       "      <th>Sex</th>\n",
       "      <th>Age</th>\n",
       "      <th>SibSp</th>\n",
       "      <th>Parch</th>\n",
       "      <th>Ticket</th>\n",
       "      <th>Fare</th>\n",
       "      <th>Cabin</th>\n",
       "      <th>Embarked</th>\n",
       "    </tr>\n",
       "  </thead>\n",
       "  <tbody>\n",
       "    <tr>\n",
       "      <th>769</th>\n",
       "      <td>631.0</td>\n",
       "      <td>1.0</td>\n",
       "      <td>1.0</td>\n",
       "      <td>Barkworth, Mr. Algernon Henry Wilson</td>\n",
       "      <td>male</td>\n",
       "      <td>80.0</td>\n",
       "      <td>0.0</td>\n",
       "      <td>0.0</td>\n",
       "      <td>27042</td>\n",
       "      <td>30.0000</td>\n",
       "      <td>A23</td>\n",
       "      <td>S</td>\n",
       "    </tr>\n",
       "    <tr>\n",
       "      <th>1522</th>\n",
       "      <td>631.0</td>\n",
       "      <td>1.0</td>\n",
       "      <td>1.0</td>\n",
       "      <td>Barkworth, Mr. Algernon Henry Wilson</td>\n",
       "      <td>male</td>\n",
       "      <td>80.0</td>\n",
       "      <td>0.0</td>\n",
       "      <td>0.0</td>\n",
       "      <td>27042</td>\n",
       "      <td>30.0000</td>\n",
       "      <td>A23</td>\n",
       "      <td>S</td>\n",
       "    </tr>\n",
       "    <tr>\n",
       "      <th>990</th>\n",
       "      <td>852.0</td>\n",
       "      <td>0.0</td>\n",
       "      <td>3.0</td>\n",
       "      <td>Svensson, Mr. Johan</td>\n",
       "      <td>male</td>\n",
       "      <td>74.0</td>\n",
       "      <td>0.0</td>\n",
       "      <td>0.0</td>\n",
       "      <td>347060</td>\n",
       "      <td>7.7750</td>\n",
       "      <td>NaN</td>\n",
       "      <td>S</td>\n",
       "    </tr>\n",
       "    <tr>\n",
       "      <th>1743</th>\n",
       "      <td>852.0</td>\n",
       "      <td>0.0</td>\n",
       "      <td>3.0</td>\n",
       "      <td>Svensson, Mr. Johan</td>\n",
       "      <td>male</td>\n",
       "      <td>74.0</td>\n",
       "      <td>0.0</td>\n",
       "      <td>0.0</td>\n",
       "      <td>347060</td>\n",
       "      <td>7.7750</td>\n",
       "      <td>NaN</td>\n",
       "      <td>S</td>\n",
       "    </tr>\n",
       "    <tr>\n",
       "      <th>96</th>\n",
       "      <td>97.0</td>\n",
       "      <td>0.0</td>\n",
       "      <td>1.0</td>\n",
       "      <td>Goldschmidt, Mr. George B</td>\n",
       "      <td>male</td>\n",
       "      <td>71.0</td>\n",
       "      <td>0.0</td>\n",
       "      <td>0.0</td>\n",
       "      <td>PC 17754</td>\n",
       "      <td>34.6542</td>\n",
       "      <td>A5</td>\n",
       "      <td>C</td>\n",
       "    </tr>\n",
       "  </tbody>\n",
       "</table>\n",
       "</div>"
      ],
      "text/plain": [
       "      PassengerId  Survived  Pclass                                  Name   \n",
       "769         631.0       1.0     1.0  Barkworth, Mr. Algernon Henry Wilson  \\\n",
       "1522        631.0       1.0     1.0  Barkworth, Mr. Algernon Henry Wilson   \n",
       "990         852.0       0.0     3.0                   Svensson, Mr. Johan   \n",
       "1743        852.0       0.0     3.0                   Svensson, Mr. Johan   \n",
       "96           97.0       0.0     1.0             Goldschmidt, Mr. George B   \n",
       "\n",
       "       Sex   Age  SibSp  Parch    Ticket     Fare Cabin Embarked  \n",
       "769   male  80.0    0.0    0.0     27042  30.0000   A23        S  \n",
       "1522  male  80.0    0.0    0.0     27042  30.0000   A23        S  \n",
       "990   male  74.0    0.0    0.0    347060   7.7750   NaN        S  \n",
       "1743  male  74.0    0.0    0.0    347060   7.7750   NaN        S  \n",
       "96    male  71.0    0.0    0.0  PC 17754  34.6542    A5        C  "
      ]
     },
     "execution_count": 188,
     "metadata": {},
     "output_type": "execute_result"
    }
   ],
   "source": [
    "titanic.sort_values(by=['Age','Pclass'],ascending=False).head() # fisrts sort \"age\", second sort 'Pclass'"
   ]
  },
  {
   "cell_type": "markdown",
   "id": "da791688",
   "metadata": {},
   "source": [
    "### How to select subset of dataframe"
   ]
  },
  {
   "cell_type": "markdown",
   "id": "fd41fb46",
   "metadata": {},
   "source": [
    "###### 1. apply condition on column to select particular records"
   ]
  },
  {
   "cell_type": "code",
   "execution_count": 189,
   "id": "b8f5b7d4",
   "metadata": {},
   "outputs": [],
   "source": [
    "age_35=titanic[titanic['Age']>=35]"
   ]
  },
  {
   "cell_type": "code",
   "execution_count": 192,
   "id": "1488cd42",
   "metadata": {},
   "outputs": [
    {
     "data": {
      "text/html": [
       "<div>\n",
       "<style scoped>\n",
       "    .dataframe tbody tr th:only-of-type {\n",
       "        vertical-align: middle;\n",
       "    }\n",
       "\n",
       "    .dataframe tbody tr th {\n",
       "        vertical-align: top;\n",
       "    }\n",
       "\n",
       "    .dataframe thead th {\n",
       "        text-align: right;\n",
       "    }\n",
       "</style>\n",
       "<table border=\"1\" class=\"dataframe\">\n",
       "  <thead>\n",
       "    <tr style=\"text-align: right;\">\n",
       "      <th></th>\n",
       "      <th>PassengerId</th>\n",
       "      <th>Survived</th>\n",
       "      <th>Pclass</th>\n",
       "      <th>Name</th>\n",
       "      <th>Sex</th>\n",
       "      <th>Age</th>\n",
       "      <th>SibSp</th>\n",
       "      <th>Parch</th>\n",
       "      <th>Ticket</th>\n",
       "      <th>Fare</th>\n",
       "      <th>Cabin</th>\n",
       "      <th>Embarked</th>\n",
       "    </tr>\n",
       "  </thead>\n",
       "  <tbody>\n",
       "    <tr>\n",
       "      <th>1</th>\n",
       "      <td>2.0</td>\n",
       "      <td>1.0</td>\n",
       "      <td>1.0</td>\n",
       "      <td>Cumings, Mrs. John Bradley (Florence Briggs Th...</td>\n",
       "      <td>female</td>\n",
       "      <td>38.0</td>\n",
       "      <td>1.0</td>\n",
       "      <td>0.0</td>\n",
       "      <td>PC 17599</td>\n",
       "      <td>71.2833</td>\n",
       "      <td>C85</td>\n",
       "      <td>C</td>\n",
       "    </tr>\n",
       "    <tr>\n",
       "      <th>3</th>\n",
       "      <td>4.0</td>\n",
       "      <td>1.0</td>\n",
       "      <td>1.0</td>\n",
       "      <td>Futrelle, Mrs. Jacques Heath (Lily May Peel)</td>\n",
       "      <td>female</td>\n",
       "      <td>35.0</td>\n",
       "      <td>1.0</td>\n",
       "      <td>0.0</td>\n",
       "      <td>113803</td>\n",
       "      <td>53.1000</td>\n",
       "      <td>C123</td>\n",
       "      <td>S</td>\n",
       "    </tr>\n",
       "    <tr>\n",
       "      <th>4</th>\n",
       "      <td>5.0</td>\n",
       "      <td>0.0</td>\n",
       "      <td>3.0</td>\n",
       "      <td>Allen, Mr. William Henry</td>\n",
       "      <td>male</td>\n",
       "      <td>35.0</td>\n",
       "      <td>0.0</td>\n",
       "      <td>0.0</td>\n",
       "      <td>373450</td>\n",
       "      <td>8.0500</td>\n",
       "      <td>NaN</td>\n",
       "      <td>S</td>\n",
       "    </tr>\n",
       "    <tr>\n",
       "      <th>6</th>\n",
       "      <td>7.0</td>\n",
       "      <td>0.0</td>\n",
       "      <td>1.0</td>\n",
       "      <td>McCarthy, Mr. Timothy J</td>\n",
       "      <td>male</td>\n",
       "      <td>54.0</td>\n",
       "      <td>0.0</td>\n",
       "      <td>0.0</td>\n",
       "      <td>17463</td>\n",
       "      <td>51.8625</td>\n",
       "      <td>E46</td>\n",
       "      <td>S</td>\n",
       "    </tr>\n",
       "    <tr>\n",
       "      <th>11</th>\n",
       "      <td>12.0</td>\n",
       "      <td>1.0</td>\n",
       "      <td>1.0</td>\n",
       "      <td>Bonnell, Miss. Elizabeth</td>\n",
       "      <td>female</td>\n",
       "      <td>58.0</td>\n",
       "      <td>0.0</td>\n",
       "      <td>0.0</td>\n",
       "      <td>113783</td>\n",
       "      <td>26.5500</td>\n",
       "      <td>C103</td>\n",
       "      <td>S</td>\n",
       "    </tr>\n",
       "  </tbody>\n",
       "</table>\n",
       "</div>"
      ],
      "text/plain": [
       "    PassengerId  Survived  Pclass   \n",
       "1           2.0       1.0     1.0  \\\n",
       "3           4.0       1.0     1.0   \n",
       "4           5.0       0.0     3.0   \n",
       "6           7.0       0.0     1.0   \n",
       "11         12.0       1.0     1.0   \n",
       "\n",
       "                                                 Name     Sex   Age  SibSp   \n",
       "1   Cumings, Mrs. John Bradley (Florence Briggs Th...  female  38.0    1.0  \\\n",
       "3        Futrelle, Mrs. Jacques Heath (Lily May Peel)  female  35.0    1.0   \n",
       "4                            Allen, Mr. William Henry    male  35.0    0.0   \n",
       "6                             McCarthy, Mr. Timothy J    male  54.0    0.0   \n",
       "11                           Bonnell, Miss. Elizabeth  female  58.0    0.0   \n",
       "\n",
       "    Parch    Ticket     Fare Cabin Embarked  \n",
       "1     0.0  PC 17599  71.2833   C85        C  \n",
       "3     0.0    113803  53.1000  C123        S  \n",
       "4     0.0    373450   8.0500   NaN        S  \n",
       "6     0.0     17463  51.8625   E46        S  \n",
       "11    0.0    113783  26.5500  C103        S  "
      ]
     },
     "execution_count": 192,
     "metadata": {},
     "output_type": "execute_result"
    }
   ],
   "source": [
    "age_35.head()"
   ]
  },
  {
   "cell_type": "code",
   "execution_count": 193,
   "id": "8e9ac64d",
   "metadata": {},
   "outputs": [
    {
     "data": {
      "text/plain": [
       "(470, 12)"
      ]
     },
     "execution_count": 193,
     "metadata": {},
     "output_type": "execute_result"
    }
   ],
   "source": [
    "age_35.shape"
   ]
  },
  {
   "cell_type": "code",
   "execution_count": 194,
   "id": "0fd7a42e",
   "metadata": {},
   "outputs": [],
   "source": [
    "age_name_sex=titanic[['Name','Age','Sex']]"
   ]
  },
  {
   "cell_type": "code",
   "execution_count": 195,
   "id": "0359f4b1",
   "metadata": {},
   "outputs": [
    {
     "data": {
      "text/html": [
       "<div>\n",
       "<style scoped>\n",
       "    .dataframe tbody tr th:only-of-type {\n",
       "        vertical-align: middle;\n",
       "    }\n",
       "\n",
       "    .dataframe tbody tr th {\n",
       "        vertical-align: top;\n",
       "    }\n",
       "\n",
       "    .dataframe thead th {\n",
       "        text-align: right;\n",
       "    }\n",
       "</style>\n",
       "<table border=\"1\" class=\"dataframe\">\n",
       "  <thead>\n",
       "    <tr style=\"text-align: right;\">\n",
       "      <th></th>\n",
       "      <th>Name</th>\n",
       "      <th>Age</th>\n",
       "      <th>Sex</th>\n",
       "    </tr>\n",
       "  </thead>\n",
       "  <tbody>\n",
       "    <tr>\n",
       "      <th>0</th>\n",
       "      <td>Braund, Mr. Owen Harris</td>\n",
       "      <td>22.0</td>\n",
       "      <td>male</td>\n",
       "    </tr>\n",
       "    <tr>\n",
       "      <th>1</th>\n",
       "      <td>Cumings, Mrs. John Bradley (Florence Briggs Th...</td>\n",
       "      <td>38.0</td>\n",
       "      <td>female</td>\n",
       "    </tr>\n",
       "    <tr>\n",
       "      <th>2</th>\n",
       "      <td>Heikkinen, Miss. Laina</td>\n",
       "      <td>26.0</td>\n",
       "      <td>female</td>\n",
       "    </tr>\n",
       "    <tr>\n",
       "      <th>3</th>\n",
       "      <td>Futrelle, Mrs. Jacques Heath (Lily May Peel)</td>\n",
       "      <td>35.0</td>\n",
       "      <td>female</td>\n",
       "    </tr>\n",
       "    <tr>\n",
       "      <th>4</th>\n",
       "      <td>Allen, Mr. William Henry</td>\n",
       "      <td>35.0</td>\n",
       "      <td>male</td>\n",
       "    </tr>\n",
       "    <tr>\n",
       "      <th>...</th>\n",
       "      <td>...</td>\n",
       "      <td>...</td>\n",
       "      <td>...</td>\n",
       "    </tr>\n",
       "    <tr>\n",
       "      <th>1778</th>\n",
       "      <td>Montvila, Rev. Juozas</td>\n",
       "      <td>27.0</td>\n",
       "      <td>male</td>\n",
       "    </tr>\n",
       "    <tr>\n",
       "      <th>1779</th>\n",
       "      <td>Graham, Miss. Margaret Edith</td>\n",
       "      <td>19.0</td>\n",
       "      <td>female</td>\n",
       "    </tr>\n",
       "    <tr>\n",
       "      <th>1780</th>\n",
       "      <td>Johnston, Miss. Catherine Helen \"Carrie\"</td>\n",
       "      <td>NaN</td>\n",
       "      <td>female</td>\n",
       "    </tr>\n",
       "    <tr>\n",
       "      <th>1781</th>\n",
       "      <td>Behr, Mr. Karl Howell</td>\n",
       "      <td>26.0</td>\n",
       "      <td>male</td>\n",
       "    </tr>\n",
       "    <tr>\n",
       "      <th>1782</th>\n",
       "      <td>Dooley, Mr. Patrick</td>\n",
       "      <td>32.0</td>\n",
       "      <td>male</td>\n",
       "    </tr>\n",
       "  </tbody>\n",
       "</table>\n",
       "<p>1783 rows × 3 columns</p>\n",
       "</div>"
      ],
      "text/plain": [
       "                                                   Name   Age     Sex\n",
       "0                               Braund, Mr. Owen Harris  22.0    male\n",
       "1     Cumings, Mrs. John Bradley (Florence Briggs Th...  38.0  female\n",
       "2                                Heikkinen, Miss. Laina  26.0  female\n",
       "3          Futrelle, Mrs. Jacques Heath (Lily May Peel)  35.0  female\n",
       "4                              Allen, Mr. William Henry  35.0    male\n",
       "...                                                 ...   ...     ...\n",
       "1778                              Montvila, Rev. Juozas  27.0    male\n",
       "1779                       Graham, Miss. Margaret Edith  19.0  female\n",
       "1780           Johnston, Miss. Catherine Helen \"Carrie\"   NaN  female\n",
       "1781                              Behr, Mr. Karl Howell  26.0    male\n",
       "1782                                Dooley, Mr. Patrick  32.0    male\n",
       "\n",
       "[1783 rows x 3 columns]"
      ]
     },
     "execution_count": 195,
     "metadata": {},
     "output_type": "execute_result"
    }
   ],
   "source": [
    "age_name_sex"
   ]
  },
  {
   "cell_type": "code",
   "execution_count": 196,
   "id": "f296bb98",
   "metadata": {},
   "outputs": [
    {
     "data": {
      "text/plain": [
       "(1783, 3)"
      ]
     },
     "execution_count": 196,
     "metadata": {},
     "output_type": "execute_result"
    }
   ],
   "source": [
    "age_name_sex.shape"
   ]
  },
  {
   "cell_type": "code",
   "execution_count": 197,
   "id": "3c6d6b55",
   "metadata": {},
   "outputs": [
    {
     "data": {
      "text/plain": [
       "Name     object\n",
       "Age     float64\n",
       "Sex      object\n",
       "dtype: object"
      ]
     },
     "execution_count": 197,
     "metadata": {},
     "output_type": "execute_result"
    }
   ],
   "source": [
    "age_name_sex.dtypes"
   ]
  },
  {
   "cell_type": "code",
   "execution_count": 198,
   "id": "bc4f23f6",
   "metadata": {},
   "outputs": [
    {
     "data": {
      "text/plain": [
       "pandas.core.frame.DataFrame"
      ]
     },
     "execution_count": 198,
     "metadata": {},
     "output_type": "execute_result"
    }
   ],
   "source": [
    "type(age_name_sex)"
   ]
  },
  {
   "cell_type": "code",
   "execution_count": 199,
   "id": "4c693d48",
   "metadata": {},
   "outputs": [
    {
     "data": {
      "text/plain": [
       "pandas.core.frame.DataFrame"
      ]
     },
     "execution_count": 199,
     "metadata": {},
     "output_type": "execute_result"
    }
   ],
   "source": [
    "type(age_35)"
   ]
  },
  {
   "cell_type": "code",
   "execution_count": 200,
   "id": "0c78c71c",
   "metadata": {
    "scrolled": true
   },
   "outputs": [
    {
     "data": {
      "text/plain": [
       "pandas.core.frame.DataFrame"
      ]
     },
     "execution_count": 200,
     "metadata": {},
     "output_type": "execute_result"
    }
   ],
   "source": [
    "type(titanic)"
   ]
  },
  {
   "cell_type": "markdown",
   "id": "d4010e1b",
   "metadata": {},
   "source": [
    "## slicing"
   ]
  },
  {
   "cell_type": "code",
   "execution_count": 201,
   "id": "4c9d5cfd",
   "metadata": {},
   "outputs": [],
   "source": [
    "# Passengers from cabin class 2 to 3"
   ]
  },
  {
   "cell_type": "code",
   "execution_count": 202,
   "id": "d103cda1",
   "metadata": {},
   "outputs": [],
   "source": [
    "cls_23=titanic[titanic['Pclass'].isin([2,3]) & (titanic['Age']>35)]"
   ]
  },
  {
   "cell_type": "code",
   "execution_count": 203,
   "id": "533b4de1",
   "metadata": {},
   "outputs": [
    {
     "data": {
      "text/html": [
       "<div>\n",
       "<style scoped>\n",
       "    .dataframe tbody tr th:only-of-type {\n",
       "        vertical-align: middle;\n",
       "    }\n",
       "\n",
       "    .dataframe tbody tr th {\n",
       "        vertical-align: top;\n",
       "    }\n",
       "\n",
       "    .dataframe thead th {\n",
       "        text-align: right;\n",
       "    }\n",
       "</style>\n",
       "<table border=\"1\" class=\"dataframe\">\n",
       "  <thead>\n",
       "    <tr style=\"text-align: right;\">\n",
       "      <th></th>\n",
       "      <th>PassengerId</th>\n",
       "      <th>Survived</th>\n",
       "      <th>Pclass</th>\n",
       "      <th>Name</th>\n",
       "      <th>Sex</th>\n",
       "      <th>Age</th>\n",
       "      <th>SibSp</th>\n",
       "      <th>Parch</th>\n",
       "      <th>Ticket</th>\n",
       "      <th>Fare</th>\n",
       "      <th>Cabin</th>\n",
       "      <th>Embarked</th>\n",
       "    </tr>\n",
       "  </thead>\n",
       "  <tbody>\n",
       "    <tr>\n",
       "      <th>13</th>\n",
       "      <td>14.0</td>\n",
       "      <td>0.0</td>\n",
       "      <td>3.0</td>\n",
       "      <td>Andersson, Mr. Anders Johan</td>\n",
       "      <td>male</td>\n",
       "      <td>39.0</td>\n",
       "      <td>1.0</td>\n",
       "      <td>5.0</td>\n",
       "      <td>347082</td>\n",
       "      <td>31.2750</td>\n",
       "      <td>NaN</td>\n",
       "      <td>S</td>\n",
       "    </tr>\n",
       "    <tr>\n",
       "      <th>15</th>\n",
       "      <td>16.0</td>\n",
       "      <td>1.0</td>\n",
       "      <td>2.0</td>\n",
       "      <td>Hewlett, Mrs. (Mary D Kingcome)</td>\n",
       "      <td>female</td>\n",
       "      <td>55.0</td>\n",
       "      <td>0.0</td>\n",
       "      <td>0.0</td>\n",
       "      <td>248706</td>\n",
       "      <td>16.0000</td>\n",
       "      <td>NaN</td>\n",
       "      <td>S</td>\n",
       "    </tr>\n",
       "    <tr>\n",
       "      <th>25</th>\n",
       "      <td>26.0</td>\n",
       "      <td>1.0</td>\n",
       "      <td>3.0</td>\n",
       "      <td>Asplund, Mrs. Carl Oscar (Selma Augusta Emilia...</td>\n",
       "      <td>female</td>\n",
       "      <td>38.0</td>\n",
       "      <td>1.0</td>\n",
       "      <td>5.0</td>\n",
       "      <td>347077</td>\n",
       "      <td>31.3875</td>\n",
       "      <td>NaN</td>\n",
       "      <td>S</td>\n",
       "    </tr>\n",
       "    <tr>\n",
       "      <th>33</th>\n",
       "      <td>34.0</td>\n",
       "      <td>0.0</td>\n",
       "      <td>2.0</td>\n",
       "      <td>Wheadon, Mr. Edward H</td>\n",
       "      <td>male</td>\n",
       "      <td>66.0</td>\n",
       "      <td>0.0</td>\n",
       "      <td>0.0</td>\n",
       "      <td>C.A. 24579</td>\n",
       "      <td>10.5000</td>\n",
       "      <td>NaN</td>\n",
       "      <td>S</td>\n",
       "    </tr>\n",
       "    <tr>\n",
       "      <th>40</th>\n",
       "      <td>41.0</td>\n",
       "      <td>0.0</td>\n",
       "      <td>3.0</td>\n",
       "      <td>Ahlin, Mrs. Johan (Johanna Persdotter Larsson)</td>\n",
       "      <td>female</td>\n",
       "      <td>40.0</td>\n",
       "      <td>1.0</td>\n",
       "      <td>0.0</td>\n",
       "      <td>7546</td>\n",
       "      <td>9.4750</td>\n",
       "      <td>NaN</td>\n",
       "      <td>S</td>\n",
       "    </tr>\n",
       "  </tbody>\n",
       "</table>\n",
       "</div>"
      ],
      "text/plain": [
       "    PassengerId  Survived  Pclass   \n",
       "13         14.0       0.0     3.0  \\\n",
       "15         16.0       1.0     2.0   \n",
       "25         26.0       1.0     3.0   \n",
       "33         34.0       0.0     2.0   \n",
       "40         41.0       0.0     3.0   \n",
       "\n",
       "                                                 Name     Sex   Age  SibSp   \n",
       "13                        Andersson, Mr. Anders Johan    male  39.0    1.0  \\\n",
       "15                   Hewlett, Mrs. (Mary D Kingcome)   female  55.0    0.0   \n",
       "25  Asplund, Mrs. Carl Oscar (Selma Augusta Emilia...  female  38.0    1.0   \n",
       "33                              Wheadon, Mr. Edward H    male  66.0    0.0   \n",
       "40     Ahlin, Mrs. Johan (Johanna Persdotter Larsson)  female  40.0    1.0   \n",
       "\n",
       "    Parch      Ticket     Fare Cabin Embarked  \n",
       "13    5.0      347082  31.2750   NaN        S  \n",
       "15    0.0      248706  16.0000   NaN        S  \n",
       "25    5.0      347077  31.3875   NaN        S  \n",
       "33    0.0  C.A. 24579  10.5000   NaN        S  \n",
       "40    0.0        7546   9.4750   NaN        S  "
      ]
     },
     "execution_count": 203,
     "metadata": {},
     "output_type": "execute_result"
    }
   ],
   "source": [
    "cls_23.head()"
   ]
  },
  {
   "cell_type": "code",
   "execution_count": 204,
   "id": "9bd68ffb",
   "metadata": {},
   "outputs": [
    {
     "data": {
      "text/plain": [
       "(226, 12)"
      ]
     },
     "execution_count": 204,
     "metadata": {},
     "output_type": "execute_result"
    }
   ],
   "source": [
    "cls_23.shape"
   ]
  },
  {
   "cell_type": "code",
   "execution_count": 205,
   "id": "0a9cd45b",
   "metadata": {},
   "outputs": [
    {
     "data": {
      "text/html": [
       "<div>\n",
       "<style scoped>\n",
       "    .dataframe tbody tr th:only-of-type {\n",
       "        vertical-align: middle;\n",
       "    }\n",
       "\n",
       "    .dataframe tbody tr th {\n",
       "        vertical-align: top;\n",
       "    }\n",
       "\n",
       "    .dataframe thead th {\n",
       "        text-align: right;\n",
       "    }\n",
       "</style>\n",
       "<table border=\"1\" class=\"dataframe\">\n",
       "  <thead>\n",
       "    <tr style=\"text-align: right;\">\n",
       "      <th></th>\n",
       "      <th>PassengerId</th>\n",
       "      <th>Survived</th>\n",
       "      <th>Pclass</th>\n",
       "      <th>Name</th>\n",
       "      <th>Sex</th>\n",
       "      <th>Age</th>\n",
       "      <th>SibSp</th>\n",
       "      <th>Parch</th>\n",
       "      <th>Ticket</th>\n",
       "      <th>Fare</th>\n",
       "      <th>Cabin</th>\n",
       "      <th>Embarked</th>\n",
       "    </tr>\n",
       "  </thead>\n",
       "  <tbody>\n",
       "    <tr>\n",
       "      <th>13</th>\n",
       "      <td>14.0</td>\n",
       "      <td>0.0</td>\n",
       "      <td>3.0</td>\n",
       "      <td>Andersson, Mr. Anders Johan</td>\n",
       "      <td>male</td>\n",
       "      <td>39.0</td>\n",
       "      <td>1.0</td>\n",
       "      <td>5.0</td>\n",
       "      <td>347082</td>\n",
       "      <td>31.2750</td>\n",
       "      <td>NaN</td>\n",
       "      <td>S</td>\n",
       "    </tr>\n",
       "    <tr>\n",
       "      <th>15</th>\n",
       "      <td>16.0</td>\n",
       "      <td>1.0</td>\n",
       "      <td>2.0</td>\n",
       "      <td>Hewlett, Mrs. (Mary D Kingcome)</td>\n",
       "      <td>female</td>\n",
       "      <td>55.0</td>\n",
       "      <td>0.0</td>\n",
       "      <td>0.0</td>\n",
       "      <td>248706</td>\n",
       "      <td>16.0000</td>\n",
       "      <td>NaN</td>\n",
       "      <td>S</td>\n",
       "    </tr>\n",
       "    <tr>\n",
       "      <th>25</th>\n",
       "      <td>26.0</td>\n",
       "      <td>1.0</td>\n",
       "      <td>3.0</td>\n",
       "      <td>Asplund, Mrs. Carl Oscar (Selma Augusta Emilia...</td>\n",
       "      <td>female</td>\n",
       "      <td>38.0</td>\n",
       "      <td>1.0</td>\n",
       "      <td>5.0</td>\n",
       "      <td>347077</td>\n",
       "      <td>31.3875</td>\n",
       "      <td>NaN</td>\n",
       "      <td>S</td>\n",
       "    </tr>\n",
       "    <tr>\n",
       "      <th>33</th>\n",
       "      <td>34.0</td>\n",
       "      <td>0.0</td>\n",
       "      <td>2.0</td>\n",
       "      <td>Wheadon, Mr. Edward H</td>\n",
       "      <td>male</td>\n",
       "      <td>66.0</td>\n",
       "      <td>0.0</td>\n",
       "      <td>0.0</td>\n",
       "      <td>C.A. 24579</td>\n",
       "      <td>10.5000</td>\n",
       "      <td>NaN</td>\n",
       "      <td>S</td>\n",
       "    </tr>\n",
       "    <tr>\n",
       "      <th>40</th>\n",
       "      <td>41.0</td>\n",
       "      <td>0.0</td>\n",
       "      <td>3.0</td>\n",
       "      <td>Ahlin, Mrs. Johan (Johanna Persdotter Larsson)</td>\n",
       "      <td>female</td>\n",
       "      <td>40.0</td>\n",
       "      <td>1.0</td>\n",
       "      <td>0.0</td>\n",
       "      <td>7546</td>\n",
       "      <td>9.4750</td>\n",
       "      <td>NaN</td>\n",
       "      <td>S</td>\n",
       "    </tr>\n",
       "    <tr>\n",
       "      <th>...</th>\n",
       "      <td>...</td>\n",
       "      <td>...</td>\n",
       "      <td>...</td>\n",
       "      <td>...</td>\n",
       "      <td>...</td>\n",
       "      <td>...</td>\n",
       "      <td>...</td>\n",
       "      <td>...</td>\n",
       "      <td>...</td>\n",
       "      <td>...</td>\n",
       "      <td>...</td>\n",
       "      <td>...</td>\n",
       "    </tr>\n",
       "    <tr>\n",
       "      <th>1746</th>\n",
       "      <td>855.0</td>\n",
       "      <td>0.0</td>\n",
       "      <td>2.0</td>\n",
       "      <td>Carter, Mrs. Ernest Courtenay (Lilian Hughes)</td>\n",
       "      <td>female</td>\n",
       "      <td>44.0</td>\n",
       "      <td>1.0</td>\n",
       "      <td>0.0</td>\n",
       "      <td>244252</td>\n",
       "      <td>26.0000</td>\n",
       "      <td>NaN</td>\n",
       "      <td>S</td>\n",
       "    </tr>\n",
       "    <tr>\n",
       "      <th>1752</th>\n",
       "      <td>861.0</td>\n",
       "      <td>0.0</td>\n",
       "      <td>3.0</td>\n",
       "      <td>Hansen, Mr. Claus Peter</td>\n",
       "      <td>male</td>\n",
       "      <td>41.0</td>\n",
       "      <td>2.0</td>\n",
       "      <td>0.0</td>\n",
       "      <td>350026</td>\n",
       "      <td>14.1083</td>\n",
       "      <td>NaN</td>\n",
       "      <td>S</td>\n",
       "    </tr>\n",
       "    <tr>\n",
       "      <th>1757</th>\n",
       "      <td>866.0</td>\n",
       "      <td>1.0</td>\n",
       "      <td>2.0</td>\n",
       "      <td>Bystrom, Mrs. (Karolina)</td>\n",
       "      <td>female</td>\n",
       "      <td>42.0</td>\n",
       "      <td>0.0</td>\n",
       "      <td>0.0</td>\n",
       "      <td>236852</td>\n",
       "      <td>13.0000</td>\n",
       "      <td>NaN</td>\n",
       "      <td>S</td>\n",
       "    </tr>\n",
       "    <tr>\n",
       "      <th>1765</th>\n",
       "      <td>874.0</td>\n",
       "      <td>0.0</td>\n",
       "      <td>3.0</td>\n",
       "      <td>Vander Cruyssen, Mr. Victor</td>\n",
       "      <td>male</td>\n",
       "      <td>47.0</td>\n",
       "      <td>0.0</td>\n",
       "      <td>0.0</td>\n",
       "      <td>345765</td>\n",
       "      <td>9.0000</td>\n",
       "      <td>NaN</td>\n",
       "      <td>S</td>\n",
       "    </tr>\n",
       "    <tr>\n",
       "      <th>1777</th>\n",
       "      <td>886.0</td>\n",
       "      <td>0.0</td>\n",
       "      <td>3.0</td>\n",
       "      <td>Rice, Mrs. William (Margaret Norton)</td>\n",
       "      <td>female</td>\n",
       "      <td>39.0</td>\n",
       "      <td>0.0</td>\n",
       "      <td>5.0</td>\n",
       "      <td>382652</td>\n",
       "      <td>29.1250</td>\n",
       "      <td>NaN</td>\n",
       "      <td>Q</td>\n",
       "    </tr>\n",
       "  </tbody>\n",
       "</table>\n",
       "<p>226 rows × 12 columns</p>\n",
       "</div>"
      ],
      "text/plain": [
       "      PassengerId  Survived  Pclass   \n",
       "13           14.0       0.0     3.0  \\\n",
       "15           16.0       1.0     2.0   \n",
       "25           26.0       1.0     3.0   \n",
       "33           34.0       0.0     2.0   \n",
       "40           41.0       0.0     3.0   \n",
       "...           ...       ...     ...   \n",
       "1746        855.0       0.0     2.0   \n",
       "1752        861.0       0.0     3.0   \n",
       "1757        866.0       1.0     2.0   \n",
       "1765        874.0       0.0     3.0   \n",
       "1777        886.0       0.0     3.0   \n",
       "\n",
       "                                                   Name     Sex   Age  SibSp   \n",
       "13                          Andersson, Mr. Anders Johan    male  39.0    1.0  \\\n",
       "15                     Hewlett, Mrs. (Mary D Kingcome)   female  55.0    0.0   \n",
       "25    Asplund, Mrs. Carl Oscar (Selma Augusta Emilia...  female  38.0    1.0   \n",
       "33                                Wheadon, Mr. Edward H    male  66.0    0.0   \n",
       "40       Ahlin, Mrs. Johan (Johanna Persdotter Larsson)  female  40.0    1.0   \n",
       "...                                                 ...     ...   ...    ...   \n",
       "1746      Carter, Mrs. Ernest Courtenay (Lilian Hughes)  female  44.0    1.0   \n",
       "1752                            Hansen, Mr. Claus Peter    male  41.0    2.0   \n",
       "1757                           Bystrom, Mrs. (Karolina)  female  42.0    0.0   \n",
       "1765                        Vander Cruyssen, Mr. Victor    male  47.0    0.0   \n",
       "1777               Rice, Mrs. William (Margaret Norton)  female  39.0    0.0   \n",
       "\n",
       "      Parch      Ticket     Fare Cabin Embarked  \n",
       "13      5.0      347082  31.2750   NaN        S  \n",
       "15      0.0      248706  16.0000   NaN        S  \n",
       "25      5.0      347077  31.3875   NaN        S  \n",
       "33      0.0  C.A. 24579  10.5000   NaN        S  \n",
       "40      0.0        7546   9.4750   NaN        S  \n",
       "...     ...         ...      ...   ...      ...  \n",
       "1746    0.0      244252  26.0000   NaN        S  \n",
       "1752    0.0      350026  14.1083   NaN        S  \n",
       "1757    0.0      236852  13.0000   NaN        S  \n",
       "1765    0.0      345765   9.0000   NaN        S  \n",
       "1777    5.0      382652  29.1250   NaN        Q  \n",
       "\n",
       "[226 rows x 12 columns]"
      ]
     },
     "execution_count": 205,
     "metadata": {},
     "output_type": "execute_result"
    }
   ],
   "source": [
    "cls_23"
   ]
  },
  {
   "cell_type": "code",
   "execution_count": 206,
   "id": "7e7d8dae",
   "metadata": {},
   "outputs": [],
   "source": [
    "a = titanic[titanic['Cabin'].notna()] # norna() >> will give condition with boolean result "
   ]
  },
  {
   "cell_type": "code",
   "execution_count": 207,
   "id": "eeaa2c3c",
   "metadata": {},
   "outputs": [
    {
     "data": {
      "text/html": [
       "<div>\n",
       "<style scoped>\n",
       "    .dataframe tbody tr th:only-of-type {\n",
       "        vertical-align: middle;\n",
       "    }\n",
       "\n",
       "    .dataframe tbody tr th {\n",
       "        vertical-align: top;\n",
       "    }\n",
       "\n",
       "    .dataframe thead th {\n",
       "        text-align: right;\n",
       "    }\n",
       "</style>\n",
       "<table border=\"1\" class=\"dataframe\">\n",
       "  <thead>\n",
       "    <tr style=\"text-align: right;\">\n",
       "      <th></th>\n",
       "      <th>PassengerId</th>\n",
       "      <th>Survived</th>\n",
       "      <th>Pclass</th>\n",
       "      <th>Name</th>\n",
       "      <th>Sex</th>\n",
       "      <th>Age</th>\n",
       "      <th>SibSp</th>\n",
       "      <th>Parch</th>\n",
       "      <th>Ticket</th>\n",
       "      <th>Fare</th>\n",
       "      <th>Cabin</th>\n",
       "      <th>Embarked</th>\n",
       "    </tr>\n",
       "  </thead>\n",
       "  <tbody>\n",
       "    <tr>\n",
       "      <th>1</th>\n",
       "      <td>2.0</td>\n",
       "      <td>1.0</td>\n",
       "      <td>1.0</td>\n",
       "      <td>Cumings, Mrs. John Bradley (Florence Briggs Th...</td>\n",
       "      <td>female</td>\n",
       "      <td>38.0</td>\n",
       "      <td>1.0</td>\n",
       "      <td>0.0</td>\n",
       "      <td>PC 17599</td>\n",
       "      <td>71.2833</td>\n",
       "      <td>C85</td>\n",
       "      <td>C</td>\n",
       "    </tr>\n",
       "    <tr>\n",
       "      <th>3</th>\n",
       "      <td>4.0</td>\n",
       "      <td>1.0</td>\n",
       "      <td>1.0</td>\n",
       "      <td>Futrelle, Mrs. Jacques Heath (Lily May Peel)</td>\n",
       "      <td>female</td>\n",
       "      <td>35.0</td>\n",
       "      <td>1.0</td>\n",
       "      <td>0.0</td>\n",
       "      <td>113803</td>\n",
       "      <td>53.1000</td>\n",
       "      <td>C123</td>\n",
       "      <td>S</td>\n",
       "    </tr>\n",
       "    <tr>\n",
       "      <th>6</th>\n",
       "      <td>7.0</td>\n",
       "      <td>0.0</td>\n",
       "      <td>1.0</td>\n",
       "      <td>McCarthy, Mr. Timothy J</td>\n",
       "      <td>male</td>\n",
       "      <td>54.0</td>\n",
       "      <td>0.0</td>\n",
       "      <td>0.0</td>\n",
       "      <td>17463</td>\n",
       "      <td>51.8625</td>\n",
       "      <td>E46</td>\n",
       "      <td>S</td>\n",
       "    </tr>\n",
       "    <tr>\n",
       "      <th>10</th>\n",
       "      <td>11.0</td>\n",
       "      <td>1.0</td>\n",
       "      <td>3.0</td>\n",
       "      <td>Sandstrom, Miss. Marguerite Rut</td>\n",
       "      <td>female</td>\n",
       "      <td>4.0</td>\n",
       "      <td>1.0</td>\n",
       "      <td>1.0</td>\n",
       "      <td>PP 9549</td>\n",
       "      <td>16.7000</td>\n",
       "      <td>G6</td>\n",
       "      <td>S</td>\n",
       "    </tr>\n",
       "    <tr>\n",
       "      <th>11</th>\n",
       "      <td>12.0</td>\n",
       "      <td>1.0</td>\n",
       "      <td>1.0</td>\n",
       "      <td>Bonnell, Miss. Elizabeth</td>\n",
       "      <td>female</td>\n",
       "      <td>58.0</td>\n",
       "      <td>0.0</td>\n",
       "      <td>0.0</td>\n",
       "      <td>113783</td>\n",
       "      <td>26.5500</td>\n",
       "      <td>C103</td>\n",
       "      <td>S</td>\n",
       "    </tr>\n",
       "    <tr>\n",
       "      <th>...</th>\n",
       "      <td>...</td>\n",
       "      <td>...</td>\n",
       "      <td>...</td>\n",
       "      <td>...</td>\n",
       "      <td>...</td>\n",
       "      <td>...</td>\n",
       "      <td>...</td>\n",
       "      <td>...</td>\n",
       "      <td>...</td>\n",
       "      <td>...</td>\n",
       "      <td>...</td>\n",
       "      <td>...</td>\n",
       "    </tr>\n",
       "    <tr>\n",
       "      <th>1763</th>\n",
       "      <td>872.0</td>\n",
       "      <td>1.0</td>\n",
       "      <td>1.0</td>\n",
       "      <td>Beckwith, Mrs. Richard Leonard (Sallie Monypeny)</td>\n",
       "      <td>female</td>\n",
       "      <td>47.0</td>\n",
       "      <td>1.0</td>\n",
       "      <td>1.0</td>\n",
       "      <td>11751</td>\n",
       "      <td>52.5542</td>\n",
       "      <td>D35</td>\n",
       "      <td>S</td>\n",
       "    </tr>\n",
       "    <tr>\n",
       "      <th>1764</th>\n",
       "      <td>873.0</td>\n",
       "      <td>0.0</td>\n",
       "      <td>1.0</td>\n",
       "      <td>Carlsson, Mr. Frans Olof</td>\n",
       "      <td>male</td>\n",
       "      <td>33.0</td>\n",
       "      <td>0.0</td>\n",
       "      <td>0.0</td>\n",
       "      <td>695</td>\n",
       "      <td>5.0000</td>\n",
       "      <td>B51 B53 B55</td>\n",
       "      <td>S</td>\n",
       "    </tr>\n",
       "    <tr>\n",
       "      <th>1771</th>\n",
       "      <td>880.0</td>\n",
       "      <td>1.0</td>\n",
       "      <td>1.0</td>\n",
       "      <td>Potter, Mrs. Thomas Jr (Lily Alexenia Wilson)</td>\n",
       "      <td>female</td>\n",
       "      <td>56.0</td>\n",
       "      <td>0.0</td>\n",
       "      <td>1.0</td>\n",
       "      <td>11767</td>\n",
       "      <td>83.1583</td>\n",
       "      <td>C50</td>\n",
       "      <td>C</td>\n",
       "    </tr>\n",
       "    <tr>\n",
       "      <th>1779</th>\n",
       "      <td>888.0</td>\n",
       "      <td>1.0</td>\n",
       "      <td>1.0</td>\n",
       "      <td>Graham, Miss. Margaret Edith</td>\n",
       "      <td>female</td>\n",
       "      <td>19.0</td>\n",
       "      <td>0.0</td>\n",
       "      <td>0.0</td>\n",
       "      <td>112053</td>\n",
       "      <td>30.0000</td>\n",
       "      <td>B42</td>\n",
       "      <td>S</td>\n",
       "    </tr>\n",
       "    <tr>\n",
       "      <th>1781</th>\n",
       "      <td>890.0</td>\n",
       "      <td>1.0</td>\n",
       "      <td>1.0</td>\n",
       "      <td>Behr, Mr. Karl Howell</td>\n",
       "      <td>male</td>\n",
       "      <td>26.0</td>\n",
       "      <td>0.0</td>\n",
       "      <td>0.0</td>\n",
       "      <td>111369</td>\n",
       "      <td>30.0000</td>\n",
       "      <td>C148</td>\n",
       "      <td>C</td>\n",
       "    </tr>\n",
       "  </tbody>\n",
       "</table>\n",
       "<p>408 rows × 12 columns</p>\n",
       "</div>"
      ],
      "text/plain": [
       "      PassengerId  Survived  Pclass   \n",
       "1             2.0       1.0     1.0  \\\n",
       "3             4.0       1.0     1.0   \n",
       "6             7.0       0.0     1.0   \n",
       "10           11.0       1.0     3.0   \n",
       "11           12.0       1.0     1.0   \n",
       "...           ...       ...     ...   \n",
       "1763        872.0       1.0     1.0   \n",
       "1764        873.0       0.0     1.0   \n",
       "1771        880.0       1.0     1.0   \n",
       "1779        888.0       1.0     1.0   \n",
       "1781        890.0       1.0     1.0   \n",
       "\n",
       "                                                   Name     Sex   Age  SibSp   \n",
       "1     Cumings, Mrs. John Bradley (Florence Briggs Th...  female  38.0    1.0  \\\n",
       "3          Futrelle, Mrs. Jacques Heath (Lily May Peel)  female  35.0    1.0   \n",
       "6                               McCarthy, Mr. Timothy J    male  54.0    0.0   \n",
       "10                      Sandstrom, Miss. Marguerite Rut  female   4.0    1.0   \n",
       "11                             Bonnell, Miss. Elizabeth  female  58.0    0.0   \n",
       "...                                                 ...     ...   ...    ...   \n",
       "1763   Beckwith, Mrs. Richard Leonard (Sallie Monypeny)  female  47.0    1.0   \n",
       "1764                           Carlsson, Mr. Frans Olof    male  33.0    0.0   \n",
       "1771      Potter, Mrs. Thomas Jr (Lily Alexenia Wilson)  female  56.0    0.0   \n",
       "1779                       Graham, Miss. Margaret Edith  female  19.0    0.0   \n",
       "1781                              Behr, Mr. Karl Howell    male  26.0    0.0   \n",
       "\n",
       "      Parch    Ticket     Fare        Cabin Embarked  \n",
       "1       0.0  PC 17599  71.2833          C85        C  \n",
       "3       0.0    113803  53.1000         C123        S  \n",
       "6       0.0     17463  51.8625          E46        S  \n",
       "10      1.0   PP 9549  16.7000           G6        S  \n",
       "11      0.0    113783  26.5500         C103        S  \n",
       "...     ...       ...      ...          ...      ...  \n",
       "1763    1.0     11751  52.5542          D35        S  \n",
       "1764    0.0       695   5.0000  B51 B53 B55        S  \n",
       "1771    1.0     11767  83.1583          C50        C  \n",
       "1779    0.0    112053  30.0000          B42        S  \n",
       "1781    0.0    111369  30.0000         C148        C  \n",
       "\n",
       "[408 rows x 12 columns]"
      ]
     },
     "execution_count": 207,
     "metadata": {},
     "output_type": "execute_result"
    }
   ],
   "source": [
    "a"
   ]
  },
  {
   "cell_type": "code",
   "execution_count": 210,
   "id": "6d91dacb",
   "metadata": {},
   "outputs": [
    {
     "data": {
      "text/plain": [
       "(408, 12)"
      ]
     },
     "execution_count": 210,
     "metadata": {},
     "output_type": "execute_result"
    }
   ],
   "source": [
    "a.shape"
   ]
  },
  {
   "cell_type": "markdown",
   "id": "a0bb535f",
   "metadata": {},
   "source": [
    "###### slecting rows and columns using loc & iloc"
   ]
  },
  {
   "cell_type": "code",
   "execution_count": null,
   "id": "70a7faee",
   "metadata": {},
   "outputs": [],
   "source": [
    "# get names of pasangers whose age is greater than 20"
   ]
  },
  {
   "cell_type": "code",
   "execution_count": 211,
   "id": "9c906ac0",
   "metadata": {},
   "outputs": [],
   "source": [
    "age_20 = titanic.loc[titanic['Age']>20, ['Name','Age','Sex','Cabin']]"
   ]
  },
  {
   "cell_type": "code",
   "execution_count": 212,
   "id": "4babb81f",
   "metadata": {},
   "outputs": [
    {
     "data": {
      "text/html": [
       "<div>\n",
       "<style scoped>\n",
       "    .dataframe tbody tr th:only-of-type {\n",
       "        vertical-align: middle;\n",
       "    }\n",
       "\n",
       "    .dataframe tbody tr th {\n",
       "        vertical-align: top;\n",
       "    }\n",
       "\n",
       "    .dataframe thead th {\n",
       "        text-align: right;\n",
       "    }\n",
       "</style>\n",
       "<table border=\"1\" class=\"dataframe\">\n",
       "  <thead>\n",
       "    <tr style=\"text-align: right;\">\n",
       "      <th></th>\n",
       "      <th>Name</th>\n",
       "      <th>Age</th>\n",
       "      <th>Sex</th>\n",
       "      <th>Cabin</th>\n",
       "    </tr>\n",
       "  </thead>\n",
       "  <tbody>\n",
       "    <tr>\n",
       "      <th>0</th>\n",
       "      <td>Braund, Mr. Owen Harris</td>\n",
       "      <td>22.0</td>\n",
       "      <td>male</td>\n",
       "      <td>NaN</td>\n",
       "    </tr>\n",
       "    <tr>\n",
       "      <th>1</th>\n",
       "      <td>Cumings, Mrs. John Bradley (Florence Briggs Th...</td>\n",
       "      <td>38.0</td>\n",
       "      <td>female</td>\n",
       "      <td>C85</td>\n",
       "    </tr>\n",
       "    <tr>\n",
       "      <th>2</th>\n",
       "      <td>Heikkinen, Miss. Laina</td>\n",
       "      <td>26.0</td>\n",
       "      <td>female</td>\n",
       "      <td>NaN</td>\n",
       "    </tr>\n",
       "    <tr>\n",
       "      <th>3</th>\n",
       "      <td>Futrelle, Mrs. Jacques Heath (Lily May Peel)</td>\n",
       "      <td>35.0</td>\n",
       "      <td>female</td>\n",
       "      <td>C123</td>\n",
       "    </tr>\n",
       "    <tr>\n",
       "      <th>4</th>\n",
       "      <td>Allen, Mr. William Henry</td>\n",
       "      <td>35.0</td>\n",
       "      <td>male</td>\n",
       "      <td>NaN</td>\n",
       "    </tr>\n",
       "    <tr>\n",
       "      <th>...</th>\n",
       "      <td>...</td>\n",
       "      <td>...</td>\n",
       "      <td>...</td>\n",
       "      <td>...</td>\n",
       "    </tr>\n",
       "    <tr>\n",
       "      <th>1776</th>\n",
       "      <td>Sutehall, Mr. Henry Jr</td>\n",
       "      <td>25.0</td>\n",
       "      <td>male</td>\n",
       "      <td>NaN</td>\n",
       "    </tr>\n",
       "    <tr>\n",
       "      <th>1777</th>\n",
       "      <td>Rice, Mrs. William (Margaret Norton)</td>\n",
       "      <td>39.0</td>\n",
       "      <td>female</td>\n",
       "      <td>NaN</td>\n",
       "    </tr>\n",
       "    <tr>\n",
       "      <th>1778</th>\n",
       "      <td>Montvila, Rev. Juozas</td>\n",
       "      <td>27.0</td>\n",
       "      <td>male</td>\n",
       "      <td>NaN</td>\n",
       "    </tr>\n",
       "    <tr>\n",
       "      <th>1781</th>\n",
       "      <td>Behr, Mr. Karl Howell</td>\n",
       "      <td>26.0</td>\n",
       "      <td>male</td>\n",
       "      <td>C148</td>\n",
       "    </tr>\n",
       "    <tr>\n",
       "      <th>1782</th>\n",
       "      <td>Dooley, Mr. Patrick</td>\n",
       "      <td>32.0</td>\n",
       "      <td>male</td>\n",
       "      <td>NaN</td>\n",
       "    </tr>\n",
       "  </tbody>\n",
       "</table>\n",
       "<p>1070 rows × 4 columns</p>\n",
       "</div>"
      ],
      "text/plain": [
       "                                                   Name   Age     Sex Cabin\n",
       "0                               Braund, Mr. Owen Harris  22.0    male   NaN\n",
       "1     Cumings, Mrs. John Bradley (Florence Briggs Th...  38.0  female   C85\n",
       "2                                Heikkinen, Miss. Laina  26.0  female   NaN\n",
       "3          Futrelle, Mrs. Jacques Heath (Lily May Peel)  35.0  female  C123\n",
       "4                              Allen, Mr. William Henry  35.0    male   NaN\n",
       "...                                                 ...   ...     ...   ...\n",
       "1776                             Sutehall, Mr. Henry Jr  25.0    male   NaN\n",
       "1777               Rice, Mrs. William (Margaret Norton)  39.0  female   NaN\n",
       "1778                              Montvila, Rev. Juozas  27.0    male   NaN\n",
       "1781                              Behr, Mr. Karl Howell  26.0    male  C148\n",
       "1782                                Dooley, Mr. Patrick  32.0    male   NaN\n",
       "\n",
       "[1070 rows x 4 columns]"
      ]
     },
     "execution_count": 212,
     "metadata": {},
     "output_type": "execute_result"
    }
   ],
   "source": [
    "age_20"
   ]
  },
  {
   "cell_type": "code",
   "execution_count": 213,
   "id": "12d61ade",
   "metadata": {},
   "outputs": [],
   "source": [
    "r = titanic.iloc[10:15,:] # [rows, columns]"
   ]
  },
  {
   "cell_type": "code",
   "execution_count": 214,
   "id": "8beff659",
   "metadata": {},
   "outputs": [
    {
     "data": {
      "text/html": [
       "<div>\n",
       "<style scoped>\n",
       "    .dataframe tbody tr th:only-of-type {\n",
       "        vertical-align: middle;\n",
       "    }\n",
       "\n",
       "    .dataframe tbody tr th {\n",
       "        vertical-align: top;\n",
       "    }\n",
       "\n",
       "    .dataframe thead th {\n",
       "        text-align: right;\n",
       "    }\n",
       "</style>\n",
       "<table border=\"1\" class=\"dataframe\">\n",
       "  <thead>\n",
       "    <tr style=\"text-align: right;\">\n",
       "      <th></th>\n",
       "      <th>PassengerId</th>\n",
       "      <th>Survived</th>\n",
       "      <th>Pclass</th>\n",
       "      <th>Name</th>\n",
       "      <th>Sex</th>\n",
       "      <th>Age</th>\n",
       "      <th>SibSp</th>\n",
       "      <th>Parch</th>\n",
       "      <th>Ticket</th>\n",
       "      <th>Fare</th>\n",
       "      <th>Cabin</th>\n",
       "      <th>Embarked</th>\n",
       "    </tr>\n",
       "  </thead>\n",
       "  <tbody>\n",
       "    <tr>\n",
       "      <th>10</th>\n",
       "      <td>11.0</td>\n",
       "      <td>1.0</td>\n",
       "      <td>3.0</td>\n",
       "      <td>Sandstrom, Miss. Marguerite Rut</td>\n",
       "      <td>female</td>\n",
       "      <td>4.0</td>\n",
       "      <td>1.0</td>\n",
       "      <td>1.0</td>\n",
       "      <td>PP 9549</td>\n",
       "      <td>16.7000</td>\n",
       "      <td>G6</td>\n",
       "      <td>S</td>\n",
       "    </tr>\n",
       "    <tr>\n",
       "      <th>11</th>\n",
       "      <td>12.0</td>\n",
       "      <td>1.0</td>\n",
       "      <td>1.0</td>\n",
       "      <td>Bonnell, Miss. Elizabeth</td>\n",
       "      <td>female</td>\n",
       "      <td>58.0</td>\n",
       "      <td>0.0</td>\n",
       "      <td>0.0</td>\n",
       "      <td>113783</td>\n",
       "      <td>26.5500</td>\n",
       "      <td>C103</td>\n",
       "      <td>S</td>\n",
       "    </tr>\n",
       "    <tr>\n",
       "      <th>12</th>\n",
       "      <td>13.0</td>\n",
       "      <td>0.0</td>\n",
       "      <td>3.0</td>\n",
       "      <td>Saundercock, Mr. William Henry</td>\n",
       "      <td>male</td>\n",
       "      <td>20.0</td>\n",
       "      <td>0.0</td>\n",
       "      <td>0.0</td>\n",
       "      <td>A/5. 2151</td>\n",
       "      <td>8.0500</td>\n",
       "      <td>NaN</td>\n",
       "      <td>S</td>\n",
       "    </tr>\n",
       "    <tr>\n",
       "      <th>13</th>\n",
       "      <td>14.0</td>\n",
       "      <td>0.0</td>\n",
       "      <td>3.0</td>\n",
       "      <td>Andersson, Mr. Anders Johan</td>\n",
       "      <td>male</td>\n",
       "      <td>39.0</td>\n",
       "      <td>1.0</td>\n",
       "      <td>5.0</td>\n",
       "      <td>347082</td>\n",
       "      <td>31.2750</td>\n",
       "      <td>NaN</td>\n",
       "      <td>S</td>\n",
       "    </tr>\n",
       "    <tr>\n",
       "      <th>14</th>\n",
       "      <td>15.0</td>\n",
       "      <td>0.0</td>\n",
       "      <td>3.0</td>\n",
       "      <td>Vestrom, Miss. Hulda Amanda Adolfina</td>\n",
       "      <td>female</td>\n",
       "      <td>14.0</td>\n",
       "      <td>0.0</td>\n",
       "      <td>0.0</td>\n",
       "      <td>350406</td>\n",
       "      <td>7.8542</td>\n",
       "      <td>NaN</td>\n",
       "      <td>S</td>\n",
       "    </tr>\n",
       "  </tbody>\n",
       "</table>\n",
       "</div>"
      ],
      "text/plain": [
       "    PassengerId  Survived  Pclass                                  Name   \n",
       "10         11.0       1.0     3.0       Sandstrom, Miss. Marguerite Rut  \\\n",
       "11         12.0       1.0     1.0              Bonnell, Miss. Elizabeth   \n",
       "12         13.0       0.0     3.0        Saundercock, Mr. William Henry   \n",
       "13         14.0       0.0     3.0           Andersson, Mr. Anders Johan   \n",
       "14         15.0       0.0     3.0  Vestrom, Miss. Hulda Amanda Adolfina   \n",
       "\n",
       "       Sex   Age  SibSp  Parch     Ticket     Fare Cabin Embarked  \n",
       "10  female   4.0    1.0    1.0    PP 9549  16.7000    G6        S  \n",
       "11  female  58.0    0.0    0.0     113783  26.5500  C103        S  \n",
       "12    male  20.0    0.0    0.0  A/5. 2151   8.0500   NaN        S  \n",
       "13    male  39.0    1.0    5.0     347082  31.2750   NaN        S  \n",
       "14  female  14.0    0.0    0.0     350406   7.8542   NaN        S  "
      ]
     },
     "execution_count": 214,
     "metadata": {},
     "output_type": "execute_result"
    }
   ],
   "source": [
    "r"
   ]
  },
  {
   "cell_type": "code",
   "execution_count": 215,
   "id": "4d1fc7b7",
   "metadata": {},
   "outputs": [
    {
     "data": {
      "text/plain": [
       "(5, 12)"
      ]
     },
     "execution_count": 215,
     "metadata": {},
     "output_type": "execute_result"
    }
   ],
   "source": [
    "r.shape"
   ]
  },
  {
   "cell_type": "code",
   "execution_count": 216,
   "id": "01705592",
   "metadata": {},
   "outputs": [
    {
     "data": {
      "text/html": [
       "<div>\n",
       "<style scoped>\n",
       "    .dataframe tbody tr th:only-of-type {\n",
       "        vertical-align: middle;\n",
       "    }\n",
       "\n",
       "    .dataframe tbody tr th {\n",
       "        vertical-align: top;\n",
       "    }\n",
       "\n",
       "    .dataframe thead th {\n",
       "        text-align: right;\n",
       "    }\n",
       "</style>\n",
       "<table border=\"1\" class=\"dataframe\">\n",
       "  <thead>\n",
       "    <tr style=\"text-align: right;\">\n",
       "      <th></th>\n",
       "      <th>PassengerId</th>\n",
       "      <th>Survived</th>\n",
       "      <th>Pclass</th>\n",
       "      <th>Name</th>\n",
       "      <th>Sex</th>\n",
       "      <th>Age</th>\n",
       "      <th>SibSp</th>\n",
       "      <th>Parch</th>\n",
       "      <th>Ticket</th>\n",
       "      <th>Fare</th>\n",
       "      <th>Cabin</th>\n",
       "      <th>Embarked</th>\n",
       "    </tr>\n",
       "  </thead>\n",
       "  <tbody>\n",
       "    <tr>\n",
       "      <th>10</th>\n",
       "      <td>11.0</td>\n",
       "      <td>1.0</td>\n",
       "      <td>3.0</td>\n",
       "      <td>Sandstrom, Miss. Marguerite Rut</td>\n",
       "      <td>female</td>\n",
       "      <td>4.0</td>\n",
       "      <td>1.0</td>\n",
       "      <td>1.0</td>\n",
       "      <td>PP 9549</td>\n",
       "      <td>16.7000</td>\n",
       "      <td>G6</td>\n",
       "      <td>S</td>\n",
       "    </tr>\n",
       "    <tr>\n",
       "      <th>11</th>\n",
       "      <td>12.0</td>\n",
       "      <td>1.0</td>\n",
       "      <td>1.0</td>\n",
       "      <td>Bonnell, Miss. Elizabeth</td>\n",
       "      <td>female</td>\n",
       "      <td>58.0</td>\n",
       "      <td>0.0</td>\n",
       "      <td>0.0</td>\n",
       "      <td>113783</td>\n",
       "      <td>26.5500</td>\n",
       "      <td>C103</td>\n",
       "      <td>S</td>\n",
       "    </tr>\n",
       "    <tr>\n",
       "      <th>12</th>\n",
       "      <td>13.0</td>\n",
       "      <td>0.0</td>\n",
       "      <td>3.0</td>\n",
       "      <td>Saundercock, Mr. William Henry</td>\n",
       "      <td>male</td>\n",
       "      <td>20.0</td>\n",
       "      <td>0.0</td>\n",
       "      <td>0.0</td>\n",
       "      <td>A/5. 2151</td>\n",
       "      <td>8.0500</td>\n",
       "      <td>NaN</td>\n",
       "      <td>S</td>\n",
       "    </tr>\n",
       "    <tr>\n",
       "      <th>13</th>\n",
       "      <td>14.0</td>\n",
       "      <td>0.0</td>\n",
       "      <td>3.0</td>\n",
       "      <td>Andersson, Mr. Anders Johan</td>\n",
       "      <td>male</td>\n",
       "      <td>39.0</td>\n",
       "      <td>1.0</td>\n",
       "      <td>5.0</td>\n",
       "      <td>347082</td>\n",
       "      <td>31.2750</td>\n",
       "      <td>NaN</td>\n",
       "      <td>S</td>\n",
       "    </tr>\n",
       "    <tr>\n",
       "      <th>14</th>\n",
       "      <td>15.0</td>\n",
       "      <td>0.0</td>\n",
       "      <td>3.0</td>\n",
       "      <td>Vestrom, Miss. Hulda Amanda Adolfina</td>\n",
       "      <td>female</td>\n",
       "      <td>14.0</td>\n",
       "      <td>0.0</td>\n",
       "      <td>0.0</td>\n",
       "      <td>350406</td>\n",
       "      <td>7.8542</td>\n",
       "      <td>NaN</td>\n",
       "      <td>S</td>\n",
       "    </tr>\n",
       "  </tbody>\n",
       "</table>\n",
       "</div>"
      ],
      "text/plain": [
       "    PassengerId  Survived  Pclass                                  Name   \n",
       "10         11.0       1.0     3.0       Sandstrom, Miss. Marguerite Rut  \\\n",
       "11         12.0       1.0     1.0              Bonnell, Miss. Elizabeth   \n",
       "12         13.0       0.0     3.0        Saundercock, Mr. William Henry   \n",
       "13         14.0       0.0     3.0           Andersson, Mr. Anders Johan   \n",
       "14         15.0       0.0     3.0  Vestrom, Miss. Hulda Amanda Adolfina   \n",
       "\n",
       "       Sex   Age  SibSp  Parch     Ticket     Fare Cabin Embarked  \n",
       "10  female   4.0    1.0    1.0    PP 9549  16.7000    G6        S  \n",
       "11  female  58.0    0.0    0.0     113783  26.5500  C103        S  \n",
       "12    male  20.0    0.0    0.0  A/5. 2151   8.0500   NaN        S  \n",
       "13    male  39.0    1.0    5.0     347082  31.2750   NaN        S  \n",
       "14  female  14.0    0.0    0.0     350406   7.8542   NaN        S  "
      ]
     },
     "execution_count": 216,
     "metadata": {},
     "output_type": "execute_result"
    }
   ],
   "source": [
    "r"
   ]
  },
  {
   "cell_type": "markdown",
   "id": "fec89034",
   "metadata": {},
   "source": [
    "loc -> use only when selcting row and column using names iloc -> use only when selecting rows and columns using index"
   ]
  },
  {
   "cell_type": "markdown",
   "id": "4e6372ee",
   "metadata": {},
   "source": [
    "### Plotting"
   ]
  },
  {
   "cell_type": "code",
   "execution_count": 217,
   "id": "dc0621a8",
   "metadata": {},
   "outputs": [
    {
     "data": {
      "text/plain": [
       "<Axes: >"
      ]
     },
     "execution_count": 217,
     "metadata": {},
     "output_type": "execute_result"
    },
    {
     "data": {
      "image/png": "[encoded data removed]",
      "text/plain": [
       "<Figure size 640x480 with 1 Axes>"
      ]
     },
     "metadata": {},
     "output_type": "display_data"
    }
   ],
   "source": [
    "titanic.plot()"
   ]
  },
  {
   "cell_type": "code",
   "execution_count": 218,
   "id": "3c883b74",
   "metadata": {},
   "outputs": [
    {
     "data": {
      "text/plain": [
       "<Axes: >"
      ]
     },
     "execution_count": 218,
     "metadata": {},
     "output_type": "execute_result"
    },
    {
     "data": {
      "image/png": "[encoded data removed]",
      "text/plain": [
       "<Figure size 640x480 with 1 Axes>"
      ]
     },
     "metadata": {},
     "output_type": "display_data"
    }
   ],
   "source": [
    "titanic.head().plot()"
   ]
  },
  {
   "cell_type": "code",
   "execution_count": 219,
   "id": "87c50d88",
   "metadata": {},
   "outputs": [
    {
     "data": {
      "text/plain": [
       "<Axes: >"
      ]
     },
     "execution_count": 219,
     "metadata": {},
     "output_type": "execute_result"
    },
    {
     "data": {
      "image/png": "[encoded data removed]",
      "text/plain": [
       "<Figure size 640x480 with 1 Axes>"
      ]
     },
     "metadata": {},
     "output_type": "display_data"
    }
   ],
   "source": [
    "titanic['Age'].plot()"
   ]
  },
  {
   "cell_type": "code",
   "execution_count": 222,
   "id": "4d8e9c15",
   "metadata": {},
   "outputs": [
    {
     "data": {
      "text/plain": [
       "<Axes: >"
      ]
     },
     "execution_count": 222,
     "metadata": {},
     "output_type": "execute_result"
    },
    {
     "data": {
      "image/png": "[encoded data removed]",
      "text/plain": [
       "<Figure size 640x480 with 1 Axes>"
      ]
     },
     "metadata": {},
     "output_type": "display_data"
    }
   ],
   "source": [
    "titanic['Age'].plot(kind='bar')"
   ]
  },
  {
   "cell_type": "code",
   "execution_count": 223,
   "id": "24c2f9a5",
   "metadata": {},
   "outputs": [
    {
     "data": {
      "text/plain": [
       "<Axes: >"
      ]
     },
     "execution_count": 223,
     "metadata": {},
     "output_type": "execute_result"
    },
    {
     "data": {
      "image/png": "[encoded data removed]",
      "text/plain": [
       "<Figure size 640x480 with 1 Axes>"
      ]
     },
     "metadata": {},
     "output_type": "display_data"
    }
   ],
   "source": [
    "titanic['Age'].head().plot()"
   ]
  },
  {
   "cell_type": "code",
   "execution_count": 224,
   "id": "8310b769",
   "metadata": {},
   "outputs": [
    {
     "data": {
      "text/plain": [
       "0    22.0\n",
       "1    38.0\n",
       "2    26.0\n",
       "3    35.0\n",
       "4    35.0\n",
       "Name: Age, dtype: float64"
      ]
     },
     "execution_count": 224,
     "metadata": {},
     "output_type": "execute_result"
    }
   ],
   "source": [
    "titanic['Age'].head()"
   ]
  },
  {
   "cell_type": "code",
   "execution_count": 225,
   "id": "d0209430",
   "metadata": {},
   "outputs": [
    {
     "data": {
      "text/plain": [
       "<Axes: >"
      ]
     },
     "execution_count": 225,
     "metadata": {},
     "output_type": "execute_result"
    },
    {
     "data": {
      "image/png": "[encoded data removed]",
      "text/plain": [
       "<Figure size 640x480 with 1 Axes>"
      ]
     },
     "metadata": {},
     "output_type": "display_data"
    }
   ],
   "source": [
    "titanic['Fare'].head().plot()"
   ]
  },
  {
   "cell_type": "code",
   "execution_count": 226,
   "id": "4cf49c53",
   "metadata": {},
   "outputs": [
    {
     "data": {
      "text/plain": [
       "<Axes: >"
      ]
     },
     "execution_count": 226,
     "metadata": {},
     "output_type": "execute_result"
    },
    {
     "data": {
      "image/png": "[encoded data removed]",
      "text/plain": [
       "<Figure size 640x480 with 1 Axes>"
      ]
     },
     "metadata": {},
     "output_type": "display_data"
    }
   ],
   "source": [
    "titanic['Age'].head(100).plot(kind='line')"
   ]
  },
  {
   "cell_type": "code",
   "execution_count": 227,
   "id": "016bb404",
   "metadata": {},
   "outputs": [
    {
     "data": {
      "text/plain": [
       "<Axes: >"
      ]
     },
     "execution_count": 227,
     "metadata": {},
     "output_type": "execute_result"
    },
    {
     "data": {
      "image/png": "[encoded data removed]",
      "text/plain": [
       "<Figure size 640x480 with 1 Axes>"
      ]
     },
     "metadata": {},
     "output_type": "display_data"
    }
   ],
   "source": [
    "titanic['Age'].head(10).plot(kind='bar')"
   ]
  },
  {
   "cell_type": "code",
   "execution_count": 228,
   "id": "55fd4050",
   "metadata": {},
   "outputs": [
    {
     "data": {
      "text/plain": [
       "<Axes: >"
      ]
     },
     "execution_count": 228,
     "metadata": {},
     "output_type": "execute_result"
    },
    {
     "data": {
      "image/png": "[encoded data removed]",
      "text/plain": [
       "<Figure size 640x480 with 1 Axes>"
      ]
     },
     "metadata": {},
     "output_type": "display_data"
    }
   ],
   "source": [
    "titanic['Age'].head(10).plot(kind='barh')"
   ]
  },
  {
   "cell_type": "code",
   "execution_count": 229,
   "id": "b681016c",
   "metadata": {},
   "outputs": [
    {
     "data": {
      "text/plain": [
       "<Axes: >"
      ]
     },
     "execution_count": 229,
     "metadata": {},
     "output_type": "execute_result"
    },
    {
     "data": {
      "image/png": "[encoded data removed]",
      "text/plain": [
       "<Figure size 640x480 with 1 Axes>"
      ]
     },
     "metadata": {},
     "output_type": "display_data"
    }
   ],
   "source": [
    "titanic['Age'].head(10).plot(kind='box')"
   ]
  },
  {
   "cell_type": "code",
   "execution_count": 230,
   "id": "33797fd4",
   "metadata": {},
   "outputs": [
    {
     "data": {
      "text/plain": [
       "<Axes: ylabel='Age'>"
      ]
     },
     "execution_count": 230,
     "metadata": {},
     "output_type": "execute_result"
    },
    {
     "data": {
      "image/png": "[encoded data removed]",
      "text/plain": [
       "<Figure size 640x480 with 1 Axes>"
      ]
     },
     "metadata": {},
     "output_type": "display_data"
    }
   ],
   "source": [
    "titanic['Age'].head(10).plot(kind='pie')"
   ]
  },
  {
   "cell_type": "code",
   "execution_count": 231,
   "id": "41569084",
   "metadata": {},
   "outputs": [],
   "source": [
    "# !pip install scipy"
   ]
  },
  {
   "cell_type": "code",
   "execution_count": 232,
   "id": "d0402fba",
   "metadata": {},
   "outputs": [
    {
     "data": {
      "text/plain": [
       "<Axes: ylabel='Density'>"
      ]
     },
     "execution_count": 232,
     "metadata": {},
     "output_type": "execute_result"
    },
    {
     "data": {
      "image/png": "[encoded data removed]",
      "text/plain": [
       "<Figure size 640x480 with 1 Axes>"
      ]
     },
     "metadata": {},
     "output_type": "display_data"
    }
   ],
   "source": [
    "titanic['Age'].head(100).plot(kind='kde')"
   ]
  },
  {
   "cell_type": "code",
   "execution_count": 233,
   "id": "ab165ac2",
   "metadata": {},
   "outputs": [
    {
     "data": {
      "text/plain": [
       "<Axes: ylabel='Density'>"
      ]
     },
     "execution_count": 233,
     "metadata": {},
     "output_type": "execute_result"
    },
    {
     "data": {
      "image/png": "[encoded data removed]",
      "text/plain": [
       "<Figure size 640x480 with 1 Axes>"
      ]
     },
     "metadata": {},
     "output_type": "display_data"
    }
   ],
   "source": [
    "titanic['Age'].head(100).plot(kind='density')"
   ]
  },
  {
   "cell_type": "code",
   "execution_count": 234,
   "id": "cbfe1d81",
   "metadata": {},
   "outputs": [
    {
     "data": {
      "text/plain": [
       "<Axes: ylabel='Frequency'>"
      ]
     },
     "execution_count": 234,
     "metadata": {},
     "output_type": "execute_result"
    },
    {
     "data": {
      "image/png": "[encoded data removed]",
      "text/plain": [
       "<Figure size 640x480 with 1 Axes>"
      ]
     },
     "metadata": {},
     "output_type": "display_data"
    }
   ],
   "source": [
    "titanic['Age'].head(100).plot(kind='hist')"
   ]
  },
  {
   "cell_type": "code",
   "execution_count": null,
   "id": "1feade4c",
   "metadata": {},
   "outputs": [],
   "source": []
  }
 ],
 "metadata": {
  "kernelspec": {
   "display_name": "Python 3 (ipykernel)",
   "language": "python",
   "name": "python3"
  },
  "language_info": {
   "codemirror_mode": {
    "name": "ipython",
    "version": 3
   },
   "file_extension": ".py",
   "mimetype": "text/x-python",
   "name": "python",
   "nbconvert_exporter": "python",
   "pygments_lexer": "ipython3",
   "version": "3.11.5"
  }
 },
 "nbformat": 4,
 "nbformat_minor": 5
}
