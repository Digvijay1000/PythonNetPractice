{
 "cells": [
  {
   "cell_type": "markdown",
   "id": "348a016f",
   "metadata": {},
   "source": [
    "Public - Anyone can access\n",
    "Protected - Access only in class and sub class but not in outside class\n",
    "Private - Access only by using name mangling because this private variavble"
   ]
  },
  {
   "cell_type": "markdown",
   "id": "091217f6",
   "metadata": {},
   "source": [
    "###### Public Variables\n",
    "\n",
    "**Convention** No leading underscores.\n",
    "\n",
    "**Accessibility:** These variables are accessible from anywhere, both within the class and from outside it.\n",
    "    \n",
    "**Usage:** Used for attributes or methods meant to be accessed and modified freely.\n",
    "\n",
    "    class MyClass:\n",
    "        public_var = 42  # Public variable"
   ]
  },
  {
   "cell_type": "markdown",
   "id": "129c447e",
   "metadata": {},
   "source": [
    "**---------------------------------------------------------------------------------------------------**"
   ]
  },
  {
   "cell_type": "markdown",
   "id": "5d1fc795",
   "metadata": {},
   "source": [
    "**Protected Variables**\n",
    "\n",
    "**Convention:** A single leading underscore (_).\n",
    "\n",
    "**Accessibility:** These variables are intended to be used within the class and its subclasses. They can still be accessed from outside the class, but this is generally discouraged and considered bad practice.\n",
    "\n",
    "**Usage:** Indicates that the variable or method is intended for internal use within the class hierarchy.\n",
    "\n",
    "    class MyClass:\n",
    "        _protected_var = 42  # Protected variable\n"
   ]
  },
  {
   "cell_type": "markdown",
   "id": "ed9ec1d8",
   "metadata": {},
   "source": [
    "**---------------------------------------------------------------------------------------------------**"
   ]
  },
  {
   "cell_type": "markdown",
   "id": "8fb25fe3",
   "metadata": {},
   "source": [
    "**Private Variables**\n",
    "\n",
    "**Convention:** Two leading underscores (__).\n",
    "\n",
    "**Accessibility:** Python performs name mangling on these variables, which means they are not easily accessible from outside the class. The interpreter changes the name of the variable in a way that makes it harder (but not impossible) to access from outside the class. This helps prevent accidental access or modification.\n",
    "\n",
    "**Usage:** Indicates that the variable is strictly for internal use within the class and should not be accessed or modified directly.\n",
    "\n",
    "    class MyClass:\n",
    "        __private_var = 42  # Private variable"
   ]
  },
  {
   "cell_type": "code",
   "execution_count": 14,
   "id": "566ec7a3",
   "metadata": {},
   "outputs": [
    {
     "name": "stdout",
     "output_type": "stream",
     "text": [
      "The name is Digvijay, Salary is 100000 and Role is Data Scientist.\n",
      "Public Variable : 10\n",
      "Protected Variable : 20\n",
      "Private Variable : 30\n"
     ]
    }
   ],
   "source": [
    "class Employee:\n",
    "    pub_var = 10\n",
    "    _protec_var = 20\n",
    "    __private_var = 30\n",
    "    \n",
    "    def __init__(self, aname, asalary, arole):\n",
    "        self.name = aname\n",
    "        self.salary = asalary\n",
    "        self.role = arole\n",
    "        \n",
    "    def printdetails(self):\n",
    "        return f\"The name is {self.name}, Salary is {self.salary} and Role is {self.role}.\"\n",
    "    \n",
    "emp = Employee(\"Digvijay\", 100000, \"Data Scientist\")\n",
    "print(emp.printdetails())\n",
    "print(\"Public Variable :\",emp.pub_var)\n",
    "print(\"Protected Variable :\",emp._protec_var)\n",
    "print(\"Private Variable :\",emp._Employee__private_var) # by using name mangling method we can access"
   ]
  },
  {
   "cell_type": "code",
   "execution_count": null,
   "id": "e5532efc",
   "metadata": {},
   "outputs": [],
   "source": []
  },
  {
   "cell_type": "code",
   "execution_count": null,
   "id": "c48444cd",
   "metadata": {},
   "outputs": [],
   "source": []
  },
  {
   "cell_type": "code",
   "execution_count": null,
   "id": "f43c4ded",
   "metadata": {},
   "outputs": [],
   "source": []
  },
  {
   "cell_type": "code",
   "execution_count": null,
   "id": "888ff40a",
   "metadata": {},
   "outputs": [],
   "source": []
  },
  {
   "cell_type": "code",
   "execution_count": null,
   "id": "397394b2",
   "metadata": {},
   "outputs": [],
   "source": []
  }
 ],
 "metadata": {
  "kernelspec": {
   "display_name": "Python 3 (ipykernel)",
   "language": "python",
   "name": "python3"
  },
  "language_info": {
   "codemirror_mode": {
    "name": "ipython",
    "version": 3
   },
   "file_extension": ".py",
   "mimetype": "text/x-python",
   "name": "python",
   "nbconvert_exporter": "python",
   "pygments_lexer": "ipython3",
   "version": "3.11.5"
  }
 },
 "nbformat": 4,
 "nbformat_minor": 5
}
