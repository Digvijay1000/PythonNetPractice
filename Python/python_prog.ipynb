{
 "cells": [
  {
   "cell_type": "markdown",
   "metadata": {},
   "source": [
    "1. Write a program to create , concatinate and print a string and accessing sub-string from given string"
   ]
  },
  {
   "cell_type": "code",
   "execution_count": 5,
   "metadata": {},
   "outputs": [
    {
     "name": "stdout",
     "output_type": "stream",
     "text": [
      "First String : my name is digvijay\n",
      "Second string : my village name is Mnajrade\n",
      "Concatinated String : my name is digvijay my village name is Mnajrade\n",
      "Accesing substring from String1 : my name is\n"
     ]
    }
   ],
   "source": [
    "string1 = input(\"ENTER THE FIRST STRING :\")\n",
    "string2 = input(\"ENTER THE SECOND STRING :\")\n",
    "\n",
    "print(\"First String :\",string1)\n",
    "print(\"Second string :\",string2)\n",
    "con_string = string1+ \" \" + string2\n",
    "print(\"Concatinated String :\",con_string)\n",
    "print(\"Accesing substring from String1 :\",string1[0:10])"
   ]
  },
  {
   "cell_type": "markdown",
   "metadata": {},
   "source": [
    "2. Write program to perform different arithmatic opeartions"
   ]
  },
  {
   "cell_type": "code",
   "execution_count": 7,
   "metadata": {},
   "outputs": [
    {
     "name": "stdout",
     "output_type": "stream",
     "text": [
      "A+B 102\n",
      "A-B 98\n",
      "A*B 200\n",
      "A/B 50.0\n",
      "A%B 0\n",
      "A**B 10000\n",
      "A//B 50\n"
     ]
    }
   ],
   "source": [
    "a=int(input('Enter the value of \"A\"'))\n",
    "b=int(input('Enter the value of \"B\"'))\n",
    "print(\"A+B\",a+b)\n",
    "print(\"A-B\",a-b)\n",
    "print(\"A*B\",a*b)\n",
    "print(\"A/B\",a/b)\n",
    "print(\"A%B\",a%b)\n",
    "print(\"A**B\",a**b)\n",
    "print(\"A//B\",a//b) "
   ]
  },
  {
   "cell_type": "markdown",
   "metadata": {},
   "source": [
    "3. Reverse a string"
   ]
  },
  {
   "cell_type": "code",
   "execution_count": 12,
   "metadata": {},
   "outputs": [
    {
     "name": "stdout",
     "output_type": "stream",
     "text": [
      "Input String : DIGVIJAY\n",
      "Reverse String : YAJIVGID\n"
     ]
    }
   ],
   "source": [
    "def reverse_string(string):\n",
    "    print('Input String :',string)\n",
    "    return print('Reverse String :',string[::-1])\n",
    "\n",
    "\n",
    "input_string = input('Enter The String')\n",
    "reverse_string(input_string)"
   ]
  },
  {
   "cell_type": "markdown",
   "metadata": {},
   "source": [
    "4. Factorial Number "
   ]
  },
  {
   "cell_type": "code",
   "execution_count": 31,
   "metadata": {},
   "outputs": [
    {
     "name": "stdout",
     "output_type": "stream",
     "text": [
      "Factiorial of 4 is 24\n"
     ]
    }
   ],
   "source": [
    "def factorial(n):\n",
    "    if n == 0:\n",
    "        return 1\n",
    "    else:\n",
    "        return n* factorial(n-1)\n",
    "    \n",
    "\n",
    "input_num = int(input(\"Enter The Number :\"))\n",
    "fact_num = factorial(input_num)\n",
    "print(f\"Factiorial of {input_num} is {fact_num}\")"
   ]
  },
  {
   "cell_type": "markdown",
   "metadata": {},
   "source": [
    "5. FIBONACII SERIES \n",
    "   > The Fibonacci sequence is a type series where each number is the sum of the two that precede it. It starts from 0 and 1 usually. The Fibonacci sequence is given by 0, 1, 1, 2, 3, 5, 8, 13, 21, 34, 55, 89, 144, and so on."
   ]
  },
  {
   "cell_type": "code",
   "execution_count": 3,
   "metadata": {},
   "outputs": [
    {
     "name": "stdout",
     "output_type": "stream",
     "text": [
      "FEBONACCI SEQUENCE OF 10 IS : [0, 1, 1, 2, 3, 5, 8, 13, 21, 34]\n"
     ]
    }
   ],
   "source": [
    "# Python program to generate the Fibonacci sequence up to a specified number of terms\n",
    "\n",
    "def fibonacci_series(n):\n",
    "    fibo_list = []\n",
    "    a, b = 0, 1\n",
    "\n",
    "    for i in range(n):\n",
    "        fibo_list.append(a)\n",
    "        a, b = b , a+b\n",
    "        \n",
    "    return fibo_list\n",
    "\n",
    "input_num = int(input(\"Enter the number of terms for Fibonacci sequence: \"))\n",
    "\n",
    "print(f\"FEBONACCI SEQUENCE OF {input_num} IS :\", fibonacci_series(int(input_num)))"
   ]
  },
  {
   "cell_type": "code",
   "execution_count": null,
   "metadata": {},
   "outputs": [],
   "source": []
  }
 ],
 "metadata": {
  "kernelspec": {
   "display_name": "Python 3",
   "language": "python",
   "name": "python3"
  },
  "language_info": {
   "codemirror_mode": {
    "name": "ipython",
    "version": 3
   },
   "file_extension": ".py",
   "mimetype": "text/x-python",
   "name": "python",
   "nbconvert_exporter": "python",
   "pygments_lexer": "ipython3",
   "version": "3.12.0"
  }
 },
 "nbformat": 4,
 "nbformat_minor": 2
}
