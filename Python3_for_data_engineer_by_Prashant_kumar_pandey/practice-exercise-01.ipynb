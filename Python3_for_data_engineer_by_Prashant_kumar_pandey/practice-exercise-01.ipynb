{
 "cells": [
  {
   "cell_type": "markdown",
   "metadata": {},
   "source": [
    "# Practice Exercise - 01"
   ]
  },
  {
   "cell_type": "markdown",
   "metadata": {},
   "source": [
    "### Question 1:\n",
    "\n",
    "There are two numbers given below. Print the sum of these numbers if their product is greater than 100. Otherwise, print their product.\n",
    "\n",
    "a = 15\n",
    "<br>b = 12\n",
    "\n",
    "#### Expected Output:\n",
    "\n",
    "27"
   ]
  },
  {
   "cell_type": "code",
   "execution_count": 1,
   "metadata": {},
   "outputs": [
    {
     "name": "stdout",
     "output_type": "stream",
     "text": [
      "27\n"
     ]
    }
   ],
   "source": [
    "a = 15\n",
    "b = 12\n",
    "c = a * b\n",
    "\n",
    "if c > 100:\n",
    "    print(a+b)\n",
    "else:\n",
    "    print(c)"
   ]
  },
  {
   "cell_type": "markdown",
   "metadata": {},
   "source": [
    "### Question 2:\n",
    "\n",
    "Write a Python program to print the volume of a cone whose height and diameter are given below. (Take pi = 3.14)\n",
    "\n",
    "h = 10\n",
    "<br>d = 13\n",
    "\n",
    "#### Expected Output:\n",
    "\n",
    "442.21666666666664"
   ]
  },
  {
   "cell_type": "code",
   "execution_count": 3,
   "metadata": {},
   "outputs": [
    {
     "name": "stdout",
     "output_type": "stream",
     "text": [
      "442.21666666666664\n"
     ]
    }
   ],
   "source": [
    "h = 10\n",
    "d = 13\n",
    "r = d/2\n",
    "pi = 3.14\n",
    "\n",
    "volume = 1/3 * pi * (r*r) * h # ((1/3)*(3.14)*((d/2)**2)*h)\n",
    "print(volume)"
   ]
  },
  {
   "cell_type": "markdown",
   "metadata": {},
   "source": [
    "### Question 3:\n",
    "\n",
    "We have the name and seat numbers of a student given below as two tuples. With this given data, print the students' names and their assigned seat numbers in a single line using the appropriate data type.\n",
    "\n",
    "name = ('Shaun', 'Ron', 'Michael')\n",
    "<br>seat_numbers = (101, 102, 103)\n",
    "\n",
    "#### Expected Output:\n",
    "\n",
    "{'Shaun': 101, 'Ron': 102, 'Michael': 103}"
   ]
  },
  {
   "cell_type": "code",
   "execution_count": 53,
   "metadata": {},
   "outputs": [
    {
     "name": "stdout",
     "output_type": "stream",
     "text": [
      "{'Shaun': 101, 'Ron': 102, 'Michael': 103}\n"
     ]
    }
   ],
   "source": [
    "name = ('Shaun', 'Ron', 'Michael')\n",
    "seat_numbers = (101, 102, 103)\n",
    "\n",
    "result = zip(name, seat_numbers)\n",
    "result = dict(result)\n",
    "print(result)"
   ]
  },
  {
   "cell_type": "code",
   "execution_count": 54,
   "metadata": {},
   "outputs": [
    {
     "name": "stdout",
     "output_type": "stream",
     "text": [
      "{'Shaun': 101, 'Ron': 102, 'Michael': 103}\n"
     ]
    }
   ],
   "source": [
    "z = dict(zip(name,seat_numbers))\n",
    "print(z)"
   ]
  },
  {
   "cell_type": "code",
   "execution_count": 56,
   "metadata": {},
   "outputs": [
    {
     "name": "stdout",
     "output_type": "stream",
     "text": [
      "{'Shaun': 101, 'Ron': 102, 'Michael': 103}\n"
     ]
    }
   ],
   "source": [
    "output = {}\n",
    "\n",
    "for i in range(len(name)):\n",
    "    output[name[i]] = seat_numbers[i]\n",
    "\n",
    "print(output)"
   ]
  },
  {
   "cell_type": "code",
   "execution_count": 61,
   "metadata": {},
   "outputs": [
    {
     "name": "stdout",
     "output_type": "stream",
     "text": [
      "{'Shaun': 101, 'Ron': 102, 'Michael': 103}\n"
     ]
    }
   ],
   "source": [
    "output2 = {}\n",
    "for i , j in enumerate(name):\n",
    "    output2[name[i]] = seat_numbers[i]\n",
    "\n",
    "print(output2)"
   ]
  },
  {
   "cell_type": "markdown",
   "metadata": {},
   "source": [
    "### Question 4:\n",
    "\n",
    "We have a number given below. If the number is greater than 0, add 1 to it. Otherwise, subtract 1 from it, and print the new number obtained.\n",
    "\n",
    "num = -6\n",
    "\n",
    "#### Expected Output:\n",
    "\n",
    "-7"
   ]
  },
  {
   "cell_type": "code",
   "execution_count": 62,
   "metadata": {},
   "outputs": [
    {
     "name": "stdout",
     "output_type": "stream",
     "text": [
      "-7\n"
     ]
    }
   ],
   "source": [
    "num = -6\n",
    "\n",
    "if num >0:\n",
    "    num+=1\n",
    "else:\n",
    "    num-=1\n",
    "\n",
    "print(num)"
   ]
  },
  {
   "cell_type": "markdown",
   "metadata": {},
   "source": [
    "### Question 5:\n",
    "\n",
    "I have four variables, each assigned with certain values given below. A massive expression line follows it. Re-write the expression which suits the desired lexical model.\n",
    "\n",
    "a = 5\n",
    "<br>b = 2\n",
    "<br>c = 8\n",
    "<br>d = 7\n",
    "\n",
    "x = (((a + b) * (a + c) * (a + d)) / ((b + a) * (b + c) * (b + d)) / ((c + a) * (c + b) * (c + d))) * (a * b * c * d)\n",
    "\n",
    "#### Expected Output:\n",
    "\n",
    "0.4977777777777778"
   ]
  },
  {
   "cell_type": "code",
   "execution_count": 75,
   "metadata": {},
   "outputs": [
    {
     "data": {
      "text/plain": [
       "0.4977777777777778"
      ]
     },
     "execution_count": 75,
     "metadata": {},
     "output_type": "execute_result"
    }
   ],
   "source": [
    "a=5; b=2; c=8; d=7\n",
    "\n",
    "x =   (((a+b) * (a+c) *  (a+d)) \n",
    "      / ((b+a) * (b+c) * (b+d))  \n",
    "      / ((c+a) * (c+b) * (c+d))) * ((a*b*c*d))\n",
    "    \n",
    "x"
   ]
  },
  {
   "cell_type": "markdown",
   "metadata": {},
   "source": [
    "### Question 6:\n",
    "\n",
    "There are two numbers given below. Compare them and print the result obtained.\n",
    "\n",
    "a = 5\n",
    "<br>b = 9\n",
    "\n",
    "#### Expected Output:\n",
    "\n",
    "b is greater than a"
   ]
  },
  {
   "cell_type": "code",
   "execution_count": 76,
   "metadata": {},
   "outputs": [
    {
     "name": "stdout",
     "output_type": "stream",
     "text": [
      "b is greater than a\n"
     ]
    }
   ],
   "source": [
    "a=5; b=9\n",
    "\n",
    "if a>b:\n",
    "    print(\"a is greater than b\")\n",
    "else:\n",
    "    print(\"b is greater than a\")"
   ]
  },
  {
   "cell_type": "markdown",
   "metadata": {},
   "source": [
    "### Question 7:\n",
    "\n",
    "We have a set given below. Find out whether 10 and 7 are present in the given set or not.\n",
    "\n",
    "mySet = {5, 7, 2, 6, 3}\n",
    "\n",
    "#### Expected Output:\n",
    "\n",
    "False\n",
    "<br>True"
   ]
  },
  {
   "cell_type": "code",
   "execution_count": 77,
   "metadata": {},
   "outputs": [
    {
     "name": "stdout",
     "output_type": "stream",
     "text": [
      "False\n",
      "True\n"
     ]
    }
   ],
   "source": [
    "mySet = {5, 7, 2, 6, 3}\n",
    "\n",
    "print(10 in mySet)\n",
    "print(7 in mySet)"
   ]
  },
  {
   "cell_type": "markdown",
   "metadata": {},
   "source": [
    "### Question 8:\n",
    "\n",
    "We have a number given below. Write a program to check for the divisibility of this number by 3 and 5, and print the result obtained.\n",
    "\n",
    "a = 12\n",
    "\n",
    "#### Expected Output:\n",
    "\n",
    "a is divisible by either 3 or 5, but not both"
   ]
  },
  {
   "cell_type": "code",
   "execution_count": 79,
   "metadata": {},
   "outputs": [
    {
     "name": "stdout",
     "output_type": "stream",
     "text": [
      "a is divisible by either 3 or 5, but not both\n"
     ]
    }
   ],
   "source": [
    "a=12\n",
    "\n",
    "if a%3 == 0 and a%5==0:\n",
    "    print(\"a is divisible by 3 and 5\")\n",
    "elif a%3 == 0 or a%5==0:\n",
    "    print(\"a is divisible by either 3 or 5, but not both\")\n",
    "else:\n",
    "    print(\"a is not divisible by 3 and 5\")"
   ]
  },
  {
   "cell_type": "markdown",
   "metadata": {},
   "source": [
    "### Question 9:\n",
    "\n",
    "Write a Python program to check if the given year is a leap year.\n",
    "\n",
    "year = 1996\n",
    "\n",
    "#### Expected Output:\n",
    "\n",
    "Leap Year"
   ]
  },
  {
   "cell_type": "code",
   "execution_count": 94,
   "metadata": {},
   "outputs": [
    {
     "name": "stdout",
     "output_type": "stream",
     "text": [
      "1996 is leap year\n"
     ]
    }
   ],
   "source": [
    "year = 1996\n",
    "\n",
    "if year%4 == 0 and year%100 != 0:\n",
    "    print(f\"{year} is leap year\")\n",
    "elif year%4 == 0 and year%400 == 0 and year%100 == 0:\n",
    "    print(f\"{year} is leap year\")\n",
    "else:\n",
    "    print(f\"{year} is not leap year\")"
   ]
  },
  {
   "cell_type": "code",
   "execution_count": 95,
   "metadata": {},
   "outputs": [
    {
     "name": "stdout",
     "output_type": "stream",
     "text": [
      "Leap Year\n"
     ]
    }
   ],
   "source": [
    "year = 1996\n",
    "\n",
    "def isleap(year):\n",
    "    if (year%4 == 0):\n",
    "        if (year%100 == 0):\n",
    "            if year%400 ==0:\n",
    "                return True\n",
    "            else:\n",
    "                return False\n",
    "        else:\n",
    "            return True\n",
    "    else:\n",
    "        return False\n",
    "    \n",
    "if isleap(1996):\n",
    "    print(\"Leap Year\")\n",
    "else:\n",
    "    print(\"Not Leap Year\")"
   ]
  },
  {
   "cell_type": "markdown",
   "metadata": {},
   "source": [
    "### Question 10:\n",
    "\n",
    "I have an examination form that requires the following information.\n",
    "\n",
    "Name, Age, Roll Number, and Subjects. \n",
    "\n",
    "Declare the parameters mentioned above with a suitable data type, and then assign some values to it, and finally print the result.\n",
    "\n",
    "#### Expected Output:\n",
    "\n",
    "Name:  Sachin\n",
    "<br>Age:  17\n",
    "<br>Roll Number:  528841\n",
    "<br>Subjects:  ['Maths', 'Physics', 'Chemistry', 'Computer Science', 'English']"
   ]
  },
  {
   "cell_type": "code",
   "execution_count": 96,
   "metadata": {},
   "outputs": [
    {
     "name": "stdout",
     "output_type": "stream",
     "text": [
      "Name: Sachin\n",
      "Age: 17\n",
      "Roll Number: 528841\n",
      "Subjects: ['Maths', 'Physics', 'Chemistry', 'Computer Science', 'English']\n"
     ]
    }
   ],
   "source": [
    "def display(name,age,rollno,subjects):\n",
    "    print(\"Name:\",name)\n",
    "    print(\"Age:\",age)\n",
    "    print(\"Roll Number:\",rollno)\n",
    "    print(\"Subjects:\",subjects)\n",
    "\n",
    "display(\"Sachin\",17,528841,['Maths','Physics','Chemistry','Computer Science','English'])\n"
   ]
  },
  {
   "cell_type": "code",
   "execution_count": null,
   "metadata": {},
   "outputs": [],
   "source": []
  }
 ],
 "metadata": {
  "kernelspec": {
   "display_name": "Python 3",
   "language": "python",
   "name": "python3"
  },
  "language_info": {
   "codemirror_mode": {
    "name": "ipython",
    "version": 3
   },
   "file_extension": ".py",
   "mimetype": "text/x-python",
   "name": "python",
   "nbconvert_exporter": "python",
   "pygments_lexer": "ipython3",
   "version": "3.12.0"
  }
 },
 "nbformat": 4,
 "nbformat_minor": 4
}
