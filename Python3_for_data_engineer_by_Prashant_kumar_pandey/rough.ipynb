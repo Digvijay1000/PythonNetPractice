{
 "cells": [
  {
   "cell_type": "code",
   "execution_count": 4,
   "id": "324597d8",
   "metadata": {},
   "outputs": [
    {
     "name": "stdout",
     "output_type": "stream",
     "text": [
      "[1, 2, 3, 4, 5, 6, 7, 8, 9]\n"
     ]
    },
    {
     "data": {
      "text/plain": [
       "'ODD'"
      ]
     },
     "execution_count": 4,
     "metadata": {},
     "output_type": "execute_result"
    }
   ],
   "source": [
    "def display(l):\n",
    "    for i in l:\n",
    "        if i%2==0:\n",
    "            return \"EVEN\"\n",
    "        else:\n",
    "            return \"ODD\"\n",
    "        \n",
    "l = list(range(1,10))\n",
    "print(l)\n",
    "display(l)"
   ]
  },
  {
   "cell_type": "code",
   "execution_count": 10,
   "id": "5e65b234",
   "metadata": {},
   "outputs": [
    {
     "name": "stdout",
     "output_type": "stream",
     "text": [
      "1 :ODD\n",
      "2 :EVEN\n",
      "3 :ODD\n",
      "4 :EVEN\n",
      "5 :ODD\n",
      "6 :EVEN\n",
      "7 :ODD\n",
      "8 :EVEN\n",
      "9 :ODD\n"
     ]
    }
   ],
   "source": [
    "def display(l):\n",
    "    for i in l:\n",
    "        if i%2==0:\n",
    "            print(i,\":EVEN\")\n",
    "        else:\n",
    "            print(i,\":ODD\")\n",
    "        \n",
    "l = list(range(1,10))\n",
    "display(l)"
   ]
  },
  {
   "cell_type": "code",
   "execution_count": 23,
   "id": "e5ddec95",
   "metadata": {},
   "outputs": [],
   "source": [
    "def even_or_odd(a):\n",
    "    if (a%2 == 0):\n",
    "        print('Even')\n",
    "    else:\n",
    "        print('Odd')"
   ]
  },
  {
   "cell_type": "code",
   "execution_count": 24,
   "id": "50f93808",
   "metadata": {},
   "outputs": [
    {
     "name": "stdout",
     "output_type": "stream",
     "text": [
      "Odd\n",
      "None\n"
     ]
    }
   ],
   "source": [
    "z = even_or_odd(5)\n",
    "print(z)"
   ]
  },
  {
   "cell_type": "code",
   "execution_count": null,
   "id": "73458b44",
   "metadata": {},
   "outputs": [],
   "source": []
  },
  {
   "cell_type": "code",
   "execution_count": null,
   "id": "f86d57b8",
   "metadata": {},
   "outputs": [],
   "source": []
  }
 ],
 "metadata": {
  "kernelspec": {
   "display_name": "Python 3 (ipykernel)",
   "language": "python",
   "name": "python3"
  },
  "language_info": {
   "codemirror_mode": {
    "name": "ipython",
    "version": 3
   },
   "file_extension": ".py",
   "mimetype": "text/x-python",
   "name": "python",
   "nbconvert_exporter": "python",
   "pygments_lexer": "ipython3",
   "version": "3.12.0"
  }
 },
 "nbformat": 4,
 "nbformat_minor": 5
}
