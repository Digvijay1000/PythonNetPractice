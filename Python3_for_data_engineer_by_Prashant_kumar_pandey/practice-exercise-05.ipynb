{
 "cells": [
  {
   "cell_type": "markdown",
   "metadata": {},
   "source": [
    "# Practice Exercise - 05"
   ]
  },
  {
   "cell_type": "markdown",
   "metadata": {},
   "source": [
    "### Question 1:\n",
    "\n",
    "Write a Python program to display the current date and time.\n",
    "\n",
    "#### Expected Output:\n",
    "\n",
    "Current date and time:  2020-10-17 16:02:50.583157"
   ]
  },
  {
   "cell_type": "code",
   "execution_count": 1,
   "metadata": {},
   "outputs": [],
   "source": [
    "from datetime import datetime"
   ]
  },
  {
   "cell_type": "code",
   "execution_count": 3,
   "metadata": {},
   "outputs": [
    {
     "name": "stdout",
     "output_type": "stream",
     "text": [
      "2024-09-19 17:22:52.918837\n"
     ]
    }
   ],
   "source": [
    "print(datetime.now())"
   ]
  },
  {
   "cell_type": "markdown",
   "metadata": {},
   "source": [
    "### Question 2:\n",
    "\n",
    "Print the month and minutes from the datetime object given below.\n",
    "\n",
    "dob_time = datetime(1995, 6, 14, 10, 37, 50, 0) \n",
    "\n",
    "#### Expected Output:\n",
    "\n",
    "Month: 6\n",
    "<br>Minutes: 37"
   ]
  },
  {
   "cell_type": "code",
   "execution_count": 4,
   "metadata": {},
   "outputs": [],
   "source": [
    "dob_time = datetime(1995, 6, 14, 10, 37, 50, 0)"
   ]
  },
  {
   "cell_type": "code",
   "execution_count": 5,
   "metadata": {},
   "outputs": [
    {
     "name": "stdout",
     "output_type": "stream",
     "text": [
      "Month: 6\n",
      "Minutes: 37\n"
     ]
    }
   ],
   "source": [
    "print(\"Month:\",dob_time.month)\n",
    "print(\"Minutes:\",dob_time.minute)"
   ]
  },
  {
   "cell_type": "markdown",
   "metadata": {},
   "source": [
    "### Question 3:\n",
    "\n",
    "Print the date in the format given below.\n",
    "\n",
    "Day_number  Month_name(abbr.)  Year - Day_name(abbr.)\n",
    "\n",
    "given_date = datetime(2011, 10, 12)\n",
    "\n",
    "#### Expected Output:\n",
    "\n",
    "12 Oct 2011 - Wed"
   ]
  },
  {
   "cell_type": "code",
   "execution_count": 7,
   "metadata": {},
   "outputs": [],
   "source": [
    "given_date = datetime(2011, 10, 12)"
   ]
  },
  {
   "cell_type": "code",
   "execution_count": 36,
   "metadata": {},
   "outputs": [
    {
     "data": {
      "text/plain": [
       "'12 Oct 2011 - Wed'"
      ]
     },
     "execution_count": 36,
     "metadata": {},
     "output_type": "execute_result"
    }
   ],
   "source": [
    "given_date.strftime(\"%d %b %Y - %a\")"
   ]
  },
  {
   "cell_type": "markdown",
   "metadata": {},
   "source": [
    "### Question 4:\n",
    "\n",
    "Write a Python program to find the day of the week of a given date?\n",
    "\n",
    "given_date = datetime(2008, 5, 15)\n",
    "\n",
    "#### Expected Output:\n",
    "\n",
    "Thursday"
   ]
  },
  {
   "cell_type": "code",
   "execution_count": 46,
   "metadata": {},
   "outputs": [],
   "source": [
    "given_date = datetime(2008, 5, 15)"
   ]
  },
  {
   "cell_type": "code",
   "execution_count": 51,
   "metadata": {},
   "outputs": [
    {
     "name": "stdout",
     "output_type": "stream",
     "text": [
      "Thursday\n"
     ]
    }
   ],
   "source": [
    "print(given_date.strftime(\"%A\"))"
   ]
  },
  {
   "cell_type": "markdown",
   "metadata": {},
   "source": [
    "### Question 5:\n",
    "\n",
    "Write a Python program to add 2 days and 10 hours to a given date.\n",
    "\n",
    "given_date = datetime(2016, 2, 27, 11, 30, 0)\n",
    "\n",
    "#### Expected Output:\n",
    "\n",
    "2016-02-29 21:30:00"
   ]
  },
  {
   "cell_type": "code",
   "execution_count": 52,
   "metadata": {},
   "outputs": [],
   "source": [
    "given_date = datetime(2016, 2, 27, 11, 30, 0)"
   ]
  },
  {
   "cell_type": "code",
   "execution_count": 63,
   "metadata": {},
   "outputs": [
    {
     "name": "stdout",
     "output_type": "stream",
     "text": [
      "2 days, 10:00:00\n"
     ]
    }
   ],
   "source": [
    "from datetime import timedelta\n",
    "\n",
    "duration =  timedelta(days=2, hours=10)\n",
    "print(duration)"
   ]
  },
  {
   "cell_type": "code",
   "execution_count": 64,
   "metadata": {},
   "outputs": [],
   "source": [
    "new_date = duration + given_date"
   ]
  },
  {
   "cell_type": "code",
   "execution_count": 65,
   "metadata": {},
   "outputs": [
    {
     "name": "stdout",
     "output_type": "stream",
     "text": [
      "2016-02-29 21:30:00\n"
     ]
    }
   ],
   "source": [
    "print(new_date)"
   ]
  },
  {
   "cell_type": "markdown",
   "metadata": {},
   "source": [
    "### Question 6:\n",
    "\n",
    "Write a Python program to calculate the number of days between two given dates.\n",
    "\n",
    "date_1 = datetime(2020, 7, 21).date()\n",
    "<br>date_2 = datetime(2020, 3, 10).date()\n",
    "\n",
    "#### Expected Output:\n",
    "\n",
    "133 days, 0:00:00"
   ]
  },
  {
   "cell_type": "code",
   "execution_count": 66,
   "metadata": {},
   "outputs": [
    {
     "name": "stdout",
     "output_type": "stream",
     "text": [
      "2020-07-21\n",
      "2020-03-10\n"
     ]
    }
   ],
   "source": [
    "date_1 = datetime(2020, 7, 21).date()\n",
    "date_2 = datetime(2020, 3, 10).date()\n",
    "print(date_1)\n",
    "print(date_2)"
   ]
  },
  {
   "cell_type": "code",
   "execution_count": 67,
   "metadata": {},
   "outputs": [
    {
     "name": "stdout",
     "output_type": "stream",
     "text": [
      "133 days, 0:00:00\n"
     ]
    }
   ],
   "source": [
    "print(date_1-date_2)"
   ]
  },
  {
   "cell_type": "markdown",
   "metadata": {},
   "source": [
    "### Question 7:\n",
    "\n",
    "Write a Python program to convert a string to datetime.\n",
    "\n",
    "myString = Oct 12 2002 12:45 PM\n",
    "\n",
    "#### Expected Output:\n",
    "\n",
    "2002-10-12 12:45:00"
   ]
  },
  {
   "cell_type": "code",
   "execution_count": 69,
   "metadata": {},
   "outputs": [],
   "source": [
    "myString = 'Oct 12 2002 12:45 PM'"
   ]
  },
  {
   "cell_type": "code",
   "execution_count": 70,
   "metadata": {},
   "outputs": [
    {
     "name": "stdout",
     "output_type": "stream",
     "text": [
      "2002-10-12 12:45:00\n"
     ]
    }
   ],
   "source": [
    "output_date = datetime(2002, 10, 12, 12, 45, 0, 0)\n",
    "print(output_date)"
   ]
  },
  {
   "cell_type": "markdown",
   "metadata": {},
   "source": [
    "### Question 8:\n",
    "\n",
    "Print the date, day name, and time in the format given below.\n",
    "\n",
    "Day_number-Month_number-Year - Day_name - Hours:Minutes:Seconds\n",
    "\n",
    "dob_time = datetime(1995, 6, 14, 10, 37, 50, 0) \n",
    "\n",
    "#### Expected Output:\n",
    "\n",
    "14-06-1995 - Wed - 10:37:50"
   ]
  },
  {
   "cell_type": "code",
   "execution_count": 71,
   "metadata": {},
   "outputs": [],
   "source": [
    "dob_time = datetime(1995, 6, 14, 10, 37, 50, 0)"
   ]
  },
  {
   "cell_type": "code",
   "execution_count": 80,
   "metadata": {},
   "outputs": [
    {
     "name": "stdout",
     "output_type": "stream",
     "text": [
      "14-06-1995-Wed-10:37:50\n"
     ]
    }
   ],
   "source": [
    "print(dob_time.strftime(\"%d-%m-%Y-%a-%H:%M:%S\"))"
   ]
  },
  {
   "cell_type": "markdown",
   "metadata": {},
   "source": [
    "### Question 9:\n",
    "\n",
    "Write a Python program to print yesterdays' date.\n",
    "\n",
    "#### Expected Output:\n",
    "\n",
    "Yesterday :  2020-10-16"
   ]
  },
  {
   "cell_type": "code",
   "execution_count": 95,
   "metadata": {},
   "outputs": [],
   "source": [
    "from datetime import datetime, date, time, timedelta"
   ]
  },
  {
   "cell_type": "code",
   "execution_count": 104,
   "metadata": {},
   "outputs": [
    {
     "name": "stdout",
     "output_type": "stream",
     "text": [
      "Yesterday: 2024-09-18\n"
     ]
    }
   ],
   "source": [
    "print(\"Yesterday:\",date.today() - timedelta(days=1))"
   ]
  },
  {
   "cell_type": "markdown",
   "metadata": {},
   "source": [
    "### Question 10:\n",
    "\n",
    "Write a Python program to print the next 5 days from the date given below.\n",
    "\n",
    "given_date = datetime(2020, 10, 17)\n",
    "\n",
    "#### Expected Output:\n",
    "\n",
    "2020-10-18 00:00:00\n",
    "<br>2020-10-19 00:00:00\n",
    "<br>2020-10-20 00:00:00\n",
    "<br>2020-10-21 00:00:00\n",
    "<br>2020-10-22 00:00:00"
   ]
  },
  {
   "cell_type": "code",
   "execution_count": 105,
   "metadata": {},
   "outputs": [],
   "source": [
    "given_date = datetime(2020, 10, 17)"
   ]
  },
  {
   "cell_type": "code",
   "execution_count": 106,
   "metadata": {},
   "outputs": [
    {
     "data": {
      "text/plain": [
       "datetime.datetime(2020, 10, 17, 0, 0)"
      ]
     },
     "execution_count": 106,
     "metadata": {},
     "output_type": "execute_result"
    }
   ],
   "source": [
    "given_date"
   ]
  },
  {
   "cell_type": "code",
   "execution_count": null,
   "metadata": {},
   "outputs": [],
   "source": []
  }
 ],
 "metadata": {
  "kernelspec": {
   "display_name": "Python 3 (ipykernel)",
   "language": "python",
   "name": "python3"
  },
  "language_info": {
   "codemirror_mode": {
    "name": "ipython",
    "version": 3
   },
   "file_extension": ".py",
   "mimetype": "text/x-python",
   "name": "python",
   "nbconvert_exporter": "python",
   "pygments_lexer": "ipython3",
   "version": "3.12.0"
  }
 },
 "nbformat": 4,
 "nbformat_minor": 4
}
