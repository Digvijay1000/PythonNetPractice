{
 "cells": [
  {
   "cell_type": "markdown",
   "metadata": {},
   "source": [
    "# Coding Challange - 01"
   ]
  },
  {
   "cell_type": "markdown",
   "metadata": {},
   "source": [
    "### Question 1:\n",
    "\n",
    "Print the following tuple in reverse order.\n",
    "\n",
    "tuple_1 = (22, 65, 12, 54)\n",
    "\n",
    "#### Expected Output:\n",
    "\n",
    "(54, 12, 65, 22)"
   ]
  },
  {
   "cell_type": "code",
   "execution_count": 1,
   "metadata": {},
   "outputs": [
    {
     "name": "stdout",
     "output_type": "stream",
     "text": [
      "(54, 12, 65, 22)\n"
     ]
    }
   ],
   "source": [
    "tuple_1 = (22, 65, 12, 54)\n",
    "print(tuple_1[::-1])"
   ]
  },
  {
   "cell_type": "markdown",
   "metadata": {},
   "source": [
    "### Question 2:\n",
    "\n",
    "Access the name 'David' from the list given below.\n",
    "\n",
    "myList = [(2, 14, 'David'), [2, 7], 'Shaun']\n",
    "\n",
    "##### Expected Output:\n",
    "\n",
    "'David'"
   ]
  },
  {
   "cell_type": "code",
   "execution_count": 6,
   "metadata": {},
   "outputs": [],
   "source": [
    "myList = [(2, 14, 'David'), [2, 7], 'Shaun']"
   ]
  },
  {
   "cell_type": "code",
   "execution_count": 5,
   "metadata": {},
   "outputs": [
    {
     "data": {
      "text/plain": [
       "'David'"
      ]
     },
     "execution_count": 5,
     "metadata": {},
     "output_type": "execute_result"
    }
   ],
   "source": [
    "myList[0][2]"
   ]
  },
  {
   "cell_type": "markdown",
   "metadata": {},
   "source": [
    "### Question 3:\n",
    "\n",
    "We have a set and a dictionary given below. Print the set once again after adding the keys of the dictionary to the set. The order of the expected output may vary as it is a set.\n",
    "\n",
    "mySet = {2, 4, 6}\n",
    "\n",
    "myDict = {'A':'John', 'B':'Emma', 'C':'Sam'}\n",
    "\n",
    "##### Expected Output:\n",
    "\n",
    "{2, 4, 6, 'A', 'C', 'B'}"
   ]
  },
  {
   "cell_type": "code",
   "execution_count": 104,
   "metadata": {},
   "outputs": [
    {
     "data": {
      "text/plain": [
       "{2, 4, 6, 'A', 'B', 'C'}"
      ]
     },
     "execution_count": 104,
     "metadata": {},
     "output_type": "execute_result"
    }
   ],
   "source": [
    "mySet = {2, 4, 6}\n",
    "myDict = {'A':'John', 'B':'Emma', 'C':'Sam'}\n",
    "mySet.union(myDict)"
   ]
  },
  {
   "cell_type": "code",
   "execution_count": 105,
   "metadata": {},
   "outputs": [
    {
     "name": "stdout",
     "output_type": "stream",
     "text": [
      "{2, 4, 'A', 6, 'B', 'C'}\n"
     ]
    }
   ],
   "source": [
    "mySet = {2, 4, 6}\n",
    "myDict = {'A':'John', 'B':'Emma', 'C':'Sam'}\n",
    "mySet.update(myDict)\n",
    "print(mySet)"
   ]
  },
  {
   "cell_type": "markdown",
   "metadata": {},
   "source": [
    "### Question 4:\n",
    "We have two sets given below. Print all the items from these sets after removing the duplicates.\n",
    "\n",
    "set_1 = {2, 4, 6, 8}\n",
    "<br>set_2 = {6, 8, 10, 12}\n",
    "\n",
    "#### Expected Output:\n",
    "\n",
    "{2, 4, 6, 8, 10, 12}"
   ]
  },
  {
   "cell_type": "code",
   "execution_count": 12,
   "metadata": {},
   "outputs": [],
   "source": [
    "set_1 = {2, 4, 6, 8}\n",
    "set_2 = {6, 8, 10, 12}"
   ]
  },
  {
   "cell_type": "code",
   "execution_count": 25,
   "metadata": {},
   "outputs": [
    {
     "data": {
      "text/plain": [
       "{2, 4, 6, 8, 10, 12}"
      ]
     },
     "execution_count": 25,
     "metadata": {},
     "output_type": "execute_result"
    }
   ],
   "source": [
    "set_1.union(set_2)"
   ]
  },
  {
   "cell_type": "markdown",
   "metadata": {},
   "source": [
    "### Question 5:\n",
    "Write a Python program to print the first and the last second of the day.\n",
    "\n",
    "#### Expected Output:\n",
    "\n",
    "First Second:  00:00:00\n",
    "<br>Last Second:  23:59:59.999999"
   ]
  },
  {
   "cell_type": "code",
   "execution_count": 117,
   "metadata": {},
   "outputs": [
    {
     "name": "stdout",
     "output_type": "stream",
     "text": [
      "First Second: 00:00:00\n",
      "Last Second: 23:59:59.999999\n"
     ]
    }
   ],
   "source": [
    "import datetime\n",
    "\n",
    "print(\"First Second:\",datetime.time.min)\n",
    "print(\"Last Second:\",datetime.time.max)"
   ]
  },
  {
   "cell_type": "code",
   "execution_count": 118,
   "metadata": {},
   "outputs": [
    {
     "name": "stdout",
     "output_type": "stream",
     "text": [
      "First Second: 0:00:00\n",
      "Last Second: 23:59:59.999999\n"
     ]
    }
   ],
   "source": [
    "from datetime import timedelta\n",
    "print(\"First Second:\",timedelta(seconds=0))\n",
    "print(\"Last Second:\",timedelta(seconds=59, microseconds=999999, milliseconds=0, hours=23, minutes=59))"
   ]
  },
  {
   "cell_type": "markdown",
   "metadata": {},
   "source": [
    "### Question 6:\n",
    "\n",
    "Print the total number of digits in the number given below.\n",
    "\n",
    "num = 8842\n",
    "\n",
    "#### Expected Output:\n",
    "\n",
    "Total digits are:  4"
   ]
  },
  {
   "cell_type": "code",
   "execution_count": 68,
   "metadata": {},
   "outputs": [
    {
     "name": "stdout",
     "output_type": "stream",
     "text": [
      "Total Digits are: 4\n",
      "4\n"
     ]
    }
   ],
   "source": [
    "num = 8842\n",
    "numString = str(num)\n",
    "count = 0\n",
    "for i in numString:\n",
    "    count+=1\n",
    "print(\"Total Digits are:\",count)\n",
    "\n",
    "print(len(numString))"
   ]
  },
  {
   "cell_type": "code",
   "execution_count": 123,
   "metadata": {},
   "outputs": [
    {
     "name": "stdout",
     "output_type": "stream",
     "text": [
      "4\n"
     ]
    }
   ],
   "source": [
    "num = 8842\n",
    "count = 0\n",
    "while num!=0:\n",
    "    num = num//10 # last digit\n",
    "    count+=1\n",
    "print(count)"
   ]
  },
  {
   "cell_type": "markdown",
   "metadata": {},
   "source": [
    "### Question 7:\n",
    "\n",
    "We have a list of lists that contains several numbers. I want you to print the list whose sum of elements is the highest and also the lowest.\n",
    "\n",
    "num_list = [[2, 8, 11], [4, 5, 7, 12], [8, 9, 10, 11], [19, 13, 7], [2, 5, 16]]\n",
    "\n",
    "#### Expected Output:\n",
    "\n",
    "The list with the maximum sum of elements:  [19, 13, 7]\n",
    "<br>The list with the minimum sum of elements:  [2, 8, 11]"
   ]
  },
  {
   "cell_type": "code",
   "execution_count": 126,
   "metadata": {},
   "outputs": [
    {
     "name": "stdout",
     "output_type": "stream",
     "text": [
      "The List with the maximum sum of elements: [19, 13, 7]\n",
      "The List with the minimum sum of elements: [2, 8, 11]\n"
     ]
    }
   ],
   "source": [
    "num_list = [[2, 8, 11], [4, 5, 7, 12], [8, 9, 10, 11], [19, 13, 7], [2, 5, 16]]\n",
    "\n",
    "print(\"The List with the maximum sum of elements:\",max(num_list, key=sum))\n",
    "print(\"The List with the minimum sum of elements:\",min(num_list, key=sum))"
   ]
  },
  {
   "cell_type": "code",
   "execution_count": 129,
   "metadata": {},
   "outputs": [
    {
     "name": "stdout",
     "output_type": "stream",
     "text": [
      "The List with the maximum sum of elements: [19, 13, 7]\n",
      "The List with the minimum sum of elements: [2, 8, 11]\n"
     ]
    }
   ],
   "source": [
    "num_list = [[2, 8, 11], [4, 5, 7, 12], [8, 9, 10, 11], [19, 13, 7], [2, 5, 16]]\n",
    "\n",
    "print(\"The List with the maximum sum of elements:\",max(num_list, key=lambda x: sum(x)))\n",
    "print(\"The List with the minimum sum of elements:\",min(num_list, key=lambda x: sum(x)))"
   ]
  },
  {
   "cell_type": "code",
   "execution_count": 3,
   "metadata": {},
   "outputs": [
    {
     "name": "stdout",
     "output_type": "stream",
     "text": [
      "sum of elements :  [21, 28, 38, 39, 23]\n",
      "The list with the maximum sum of elements: [19, 13, 7]\n",
      "The list with the minimum sum of elements: [2, 8, 11]\n"
     ]
    }
   ],
   "source": [
    "num_list = [[2, 8, 11], [4, 5, 7, 12], [8, 9, 10, 11], [19, 13, 7], [2, 5, 16]]\n",
    "added_ele_sum = []\n",
    "\n",
    "for i in num_list:\n",
    "    add = sum(i)\n",
    "    added_ele_sum.append(add)\n",
    "      \n",
    "print(\"sum of elements : \",added_ele_sum)\n",
    "   \n",
    "print(\"The list with the maximum sum of elements:\",num_list[added_ele_sum.index(max(added_ele_sum))])\n",
    "print(\"The list with the minimum sum of elements:\",num_list[added_ele_sum.index(min(added_ele_sum))])"
   ]
  },
  {
   "cell_type": "code",
   "execution_count": 99,
   "metadata": {},
   "outputs": [
    {
     "name": "stdout",
     "output_type": "stream",
     "text": [
      "[[2, 8, 11], [4, 5, 7, 12], [8, 9, 10, 11], [19, 13, 7], [2, 5, 16]]\n",
      "[21, 28, 38, 39, 23]\n",
      "The list with the minimum sum of elements: [2, 8, 11]\n",
      "The list with the maximum sum of elements: [19, 13, 7]\n"
     ]
    }
   ],
   "source": [
    "print(num_list)\n",
    "new_list = [(sum(i)) for i in num_list]\n",
    "print(new_list)\n",
    "\n",
    "for x,y in zip(new_list, num_list):\n",
    "    if x== max(new_list):\n",
    "        print(\"The list with the maximum sum of elements:\",y)\n",
    "    if x== min(new_list):\n",
    "        print(\"The list with the minimum sum of elements:\",y)"
   ]
  },
  {
   "cell_type": "markdown",
   "metadata": {},
   "source": [
    "### Question 8:\n",
    "\n",
    "We have a string that contains the names of different fruits. I want you to convert this string into multiple substrings where each substring includes one fruit's name.\n",
    "\n",
    "fruits_string = \" Apple, Banana, Mango, Kiwi, Guava, Grapes, Pomegranate, Orange, Watermelon\"\n",
    "\n",
    "#### Expected Output:\n",
    "\n",
    " Apple\n",
    " <br>Banana\n",
    " <br>Mango\n",
    " <br>Kiwi\n",
    " <br>Guava\n",
    " <br>Grapes\n",
    " <br>Pomegranate\n",
    " <br>Orange\n",
    " <br>Watermelon"
   ]
  },
  {
   "cell_type": "code",
   "execution_count": 132,
   "metadata": {},
   "outputs": [
    {
     "name": "stdout",
     "output_type": "stream",
     "text": [
      " Apple\n",
      " Banana\n",
      " Mango\n",
      " Kiwi\n",
      " Guava\n",
      " Grapes\n",
      " Pomegranate\n",
      " Orange\n",
      " Watermelon\n"
     ]
    }
   ],
   "source": [
    "fruits_string = \" Apple, Banana, Mango, Kiwi, Guava, Grapes, Pomegranate, Orange, Watermelon\"\n",
    "# fruits_string = fruits_string.replace(',',' ')\n",
    "for i in fruits_string.split(','):\n",
    "    print(i)"
   ]
  },
  {
   "cell_type": "markdown",
   "metadata": {},
   "source": [
    "### Question 9:\n",
    "\n",
    "Write a program to reverse words in a string.\n",
    "\n",
    "sample_text = \"Python is a high-level and general-purpose programming language\"\n",
    "\n",
    "#### Expected Output:\n",
    "\n",
    "language programming general-purpose and high-level a is Python"
   ]
  },
  {
   "cell_type": "code",
   "execution_count": 55,
   "metadata": {},
   "outputs": [
    {
     "name": "stdout",
     "output_type": "stream",
     "text": [
      "egaugnal gnimmargorp esoprup-lareneg dna level-hgih a si nohtyP\n",
      "language programming general-purpose and high-level a is Python\n"
     ]
    }
   ],
   "source": [
    "sample_text = \"Python is a high-level and general-purpose programming language\"\n",
    "print(sample_text[::-1])\n",
    "print(' '.join(sample_text.split()[::-1]))"
   ]
  },
  {
   "cell_type": "markdown",
   "metadata": {},
   "source": [
    "### Question 10:\n",
    "\n",
    "Given below is the height (in cm) of the top 10 students in a class. Print the heights of the top 3 students from the given list.\n",
    "\n",
    "heights = [177, 160, 171, 163, 168,  175, 176, 183, 162, 170]\n",
    "\n",
    "#### Expected Output:\n",
    "\n",
    "Top Three Heights:  [183, 177, 176]"
   ]
  },
  {
   "cell_type": "code",
   "execution_count": 97,
   "metadata": {},
   "outputs": [
    {
     "name": "stdout",
     "output_type": "stream",
     "text": [
      "[160, 162, 163, 168, 170, 171, 175, 176, 177, 183]\n",
      "Top Three Heights: [183, 177, 176]\n"
     ]
    }
   ],
   "source": [
    "heights = [177, 160, 171, 163, 168, 175, 176, 183, 162, 170]\n",
    "heights.sort() # bydefault reverse=False\n",
    "print(heights)\n",
    "print(\"Top Three Heights:\",heights[-3:][::-1])"
   ]
  },
  {
   "cell_type": "code",
   "execution_count": 101,
   "metadata": {},
   "outputs": [
    {
     "name": "stdout",
     "output_type": "stream",
     "text": [
      "[183, 177, 176, 175, 171, 170, 168, 163, 162, 160]\n",
      "Top Three Heights: [183, 177, 176]\n"
     ]
    }
   ],
   "source": [
    "heights = [177, 160, 171, 163, 168, 175, 176, 183, 162, 170]\n",
    "heights.sort(reverse=True)\n",
    "print(heights)\n",
    "print(\"Top Three Heights:\",heights[0:3])"
   ]
  },
  {
   "cell_type": "code",
   "execution_count": 148,
   "metadata": {},
   "outputs": [
    {
     "name": "stdout",
     "output_type": "stream",
     "text": [
      "Top three: [183, 177, 176]\n"
     ]
    }
   ],
   "source": [
    "heights = [177, 160, 171, 163, 168, 175, 176, 183, 162, 170]\n",
    "top3 = sorted(heights)\n",
    "print(\"Top three:\",top3[-1:-4:-1])"
   ]
  },
  {
   "cell_type": "code",
   "execution_count": null,
   "metadata": {},
   "outputs": [],
   "source": []
  },
  {
   "cell_type": "code",
   "execution_count": null,
   "metadata": {},
   "outputs": [],
   "source": []
  }
 ],
 "metadata": {
  "kernelspec": {
   "display_name": "Python 3 (ipykernel)",
   "language": "python",
   "name": "python3"
  },
  "language_info": {
   "codemirror_mode": {
    "name": "ipython",
    "version": 3
   },
   "file_extension": ".py",
   "mimetype": "text/x-python",
   "name": "python",
   "nbconvert_exporter": "python",
   "pygments_lexer": "ipython3",
   "version": "3.12.0"
  }
 },
 "nbformat": 4,
 "nbformat_minor": 4
}
