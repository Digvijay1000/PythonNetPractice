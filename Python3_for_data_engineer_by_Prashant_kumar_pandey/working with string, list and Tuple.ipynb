{
 "cells": [
  {
   "cell_type": "markdown",
   "id": "efd40267",
   "metadata": {},
   "source": [
    "# Working with string"
   ]
  },
  {
   "cell_type": "markdown",
   "id": "66296530",
   "metadata": {},
   "source": [
    "### 1. String Literals"
   ]
  },
  {
   "cell_type": "code",
   "execution_count": 3,
   "id": "77caa88c",
   "metadata": {},
   "outputs": [
    {
     "name": "stdout",
     "output_type": "stream",
     "text": [
      "Limit your \"Always\" AND \"Nevers.\"\n",
      "Thime isn't the main thing. It's the only thing\n"
     ]
    }
   ],
   "source": [
    "quote1 = 'Limit your \"Always\" AND \"Nevers.\"'\n",
    "quote2 = \"Thime isn't the main thing. It's the only thing\"\n",
    "print(quote1)\n",
    "print(quote2)"
   ]
  },
  {
   "cell_type": "code",
   "execution_count": 5,
   "id": "9eee2a01",
   "metadata": {},
   "outputs": [
    {
     "name": "stdout",
     "output_type": "stream",
     "text": [
      "Hi!\n",
      "      How are you doing today?\n",
      "when can we meet?\n"
     ]
    }
   ],
   "source": [
    "msg = \"\"\"Hi!\n",
    "      How are you doing today?\n",
    "when can we meet?\"\"\"\n",
    "print(msg)"
   ]
  },
  {
   "cell_type": "code",
   "execution_count": 6,
   "id": "0fbd536b",
   "metadata": {},
   "outputs": [
    {
     "data": {
      "text/plain": [
       "\"Don't run\""
      ]
     },
     "execution_count": 6,
     "metadata": {},
     "output_type": "execute_result"
    }
   ],
   "source": [
    "'Don\\'t run'"
   ]
  },
  {
   "cell_type": "code",
   "execution_count": 8,
   "id": "2382d25b",
   "metadata": {},
   "outputs": [],
   "source": [
    "# 'don't run' >> syntax error"
   ]
  },
  {
   "cell_type": "code",
   "execution_count": 9,
   "id": "7622bee1",
   "metadata": {},
   "outputs": [
    {
     "name": "stdout",
     "output_type": "stream",
     "text": [
      "Hi\n",
      "How are you doing today?\n",
      "See you at:\t10:00 AM\n"
     ]
    }
   ],
   "source": [
    "msg = \"Hi\\nHow are you doing today?\\nSee you at:\\t10:00 AM\"\n",
    "print(msg)"
   ]
  },
  {
   "cell_type": "markdown",
   "id": "3d9e0f4b",
   "metadata": {},
   "source": [
    "### 2. String Functions"
   ]
  },
  {
   "cell_type": "code",
   "execution_count": 10,
   "id": "62a551ae",
   "metadata": {},
   "outputs": [],
   "source": [
    "name = \"Learning Journel\""
   ]
  },
  {
   "cell_type": "code",
   "execution_count": 11,
   "id": "3c1c29d2",
   "metadata": {},
   "outputs": [
    {
     "data": {
      "text/plain": [
       "['Learning', 'Journel']"
      ]
     },
     "execution_count": 11,
     "metadata": {},
     "output_type": "execute_result"
    }
   ],
   "source": [
    "name.split()"
   ]
  },
  {
   "cell_type": "code",
   "execution_count": 13,
   "id": "1e67a271",
   "metadata": {},
   "outputs": [],
   "source": [
    "name = \"Big Data, Machine Learning, Artificial Intelligence\""
   ]
  },
  {
   "cell_type": "code",
   "execution_count": 14,
   "id": "52a1c6b6",
   "metadata": {},
   "outputs": [
    {
     "data": {
      "text/plain": [
       "['Big Data', ' Machine Learning', ' Artificial Intelligence']"
      ]
     },
     "execution_count": 14,
     "metadata": {},
     "output_type": "execute_result"
    }
   ],
   "source": [
    "name.split(',')"
   ]
  },
  {
   "cell_type": "code",
   "execution_count": 18,
   "id": "e612f0c5",
   "metadata": {},
   "outputs": [],
   "source": [
    "namelist = [\"Big Data\", \"Machine Learning\", \"Artificial Intelligence\"]"
   ]
  },
  {
   "cell_type": "code",
   "execution_count": 19,
   "id": "b922e255",
   "metadata": {},
   "outputs": [
    {
     "data": {
      "text/plain": [
       "['Big Data', 'Machine Learning', 'Artificial Intelligence']"
      ]
     },
     "execution_count": 19,
     "metadata": {},
     "output_type": "execute_result"
    }
   ],
   "source": [
    "namelist"
   ]
  },
  {
   "cell_type": "code",
   "execution_count": 21,
   "id": "7b30ae30",
   "metadata": {},
   "outputs": [
    {
     "name": "stdout",
     "output_type": "stream",
     "text": [
      "Big Data,Machine Learning,Artificial Intelligence\n"
     ]
    }
   ],
   "source": [
    "namestring = ','.join(namelist)\n",
    "print(namestring)"
   ]
  },
  {
   "cell_type": "code",
   "execution_count": 22,
   "id": "45fec6d4",
   "metadata": {},
   "outputs": [
    {
     "name": "stdout",
     "output_type": "stream",
     "text": [
      "Hey there! I am going to the zoo.\n",
      "Hey there! I am going to the park.\n"
     ]
    }
   ],
   "source": [
    "msg ='Hey there! I am going to the park.'\n",
    "print(msg.replace('park','zoo'))\n",
    "print(msg)"
   ]
  },
  {
   "cell_type": "code",
   "execution_count": 23,
   "id": "c96a940a",
   "metadata": {},
   "outputs": [],
   "source": [
    "name = \"    Learning Journel    \""
   ]
  },
  {
   "cell_type": "code",
   "execution_count": 24,
   "id": "84839062",
   "metadata": {},
   "outputs": [
    {
     "data": {
      "text/plain": [
       "'Learning Journel'"
      ]
     },
     "execution_count": 24,
     "metadata": {},
     "output_type": "execute_result"
    }
   ],
   "source": [
    "name.strip()"
   ]
  },
  {
   "cell_type": "code",
   "execution_count": 25,
   "id": "12343d8c",
   "metadata": {},
   "outputs": [
    {
     "data": {
      "text/plain": [
       "'    Learning Journel'"
      ]
     },
     "execution_count": 25,
     "metadata": {},
     "output_type": "execute_result"
    }
   ],
   "source": [
    "name.rstrip()"
   ]
  },
  {
   "cell_type": "code",
   "execution_count": 26,
   "id": "743c8aed",
   "metadata": {},
   "outputs": [
    {
     "data": {
      "text/plain": [
       "'Learning Journel    '"
      ]
     },
     "execution_count": 26,
     "metadata": {},
     "output_type": "execute_result"
    }
   ],
   "source": [
    "name.lstrip()"
   ]
  },
  {
   "cell_type": "markdown",
   "id": "e98c44fc",
   "metadata": {},
   "source": [
    "### 3. String Formatting"
   ]
  },
  {
   "cell_type": "code",
   "execution_count": 27,
   "id": "ed4a4efc",
   "metadata": {},
   "outputs": [],
   "source": [
    "name = \"John\"\n",
    "age = \"25\""
   ]
  },
  {
   "cell_type": "code",
   "execution_count": 28,
   "id": "e676b769",
   "metadata": {},
   "outputs": [
    {
     "name": "stdout",
     "output_type": "stream",
     "text": [
      "Hey! It's John, and I am 25 years old.\n"
     ]
    }
   ],
   "source": [
    "info = \"Hey! It's \" + name + \", and I am \" + age + \" years old.\"\n",
    "print(info)"
   ]
  },
  {
   "cell_type": "code",
   "execution_count": 29,
   "id": "a92add99",
   "metadata": {},
   "outputs": [
    {
     "name": "stdout",
     "output_type": "stream",
     "text": [
      "Hey! It's John, and I am 25 years old.\n"
     ]
    }
   ],
   "source": [
    "info = \"Hey! It's {}, and I am {} years old.\".format(name,age)\n",
    "print(info)"
   ]
  },
  {
   "cell_type": "code",
   "execution_count": 30,
   "id": "b214892d",
   "metadata": {},
   "outputs": [
    {
     "name": "stdout",
     "output_type": "stream",
     "text": [
      "Hey! It's John, and I am 25 years old.\n"
     ]
    }
   ],
   "source": [
    "info = f\"Hey! It's {name}, and I am {age} years old.\"\n",
    "print(info)"
   ]
  },
  {
   "cell_type": "markdown",
   "id": "50370051",
   "metadata": {},
   "source": [
    "# Working with List and Tuple"
   ]
  },
  {
   "cell_type": "code",
   "execution_count": 32,
   "id": "64af8c22",
   "metadata": {},
   "outputs": [
    {
     "name": "stdout",
     "output_type": "stream",
     "text": [
      "('Big Data', 'Machine Learning')\n",
      "['Artificial Intelligence', 'Data Analytics']\n"
     ]
    }
   ],
   "source": [
    "myTuple = ('Big Data', 'Machine Learning')\n",
    "myList = ['Artificial Intelligence', 'Data Analytics']\n",
    "print(myTuple)\n",
    "print(myList)"
   ]
  },
  {
   "cell_type": "code",
   "execution_count": 33,
   "id": "71591654",
   "metadata": {},
   "outputs": [],
   "source": [
    "# we can mix different types of elements"
   ]
  },
  {
   "cell_type": "code",
   "execution_count": 34,
   "id": "104234c7",
   "metadata": {},
   "outputs": [
    {
     "name": "stdout",
     "output_type": "stream",
     "text": [
      "['A', 'B', 2, 2.8]\n"
     ]
    }
   ],
   "source": [
    "myList2 = [\"A\",\"B\", 2, 2.8]\n",
    "print(myList2)"
   ]
  },
  {
   "cell_type": "code",
   "execution_count": 35,
   "id": "8fe77765",
   "metadata": {},
   "outputs": [],
   "source": [
    "myList2.append('Data Science')"
   ]
  },
  {
   "cell_type": "code",
   "execution_count": 36,
   "id": "8ebfcebc",
   "metadata": {},
   "outputs": [
    {
     "name": "stdout",
     "output_type": "stream",
     "text": [
      "['A', 'B', 2, 2.8, 'Data Science']\n"
     ]
    }
   ],
   "source": [
    "print(myList2)"
   ]
  },
  {
   "cell_type": "code",
   "execution_count": 37,
   "id": "49cb6ff6",
   "metadata": {},
   "outputs": [
    {
     "data": {
      "text/plain": [
       "('Big Data', 'Machine Learning')"
      ]
     },
     "execution_count": 37,
     "metadata": {},
     "output_type": "execute_result"
    }
   ],
   "source": [
    "myTuple"
   ]
  },
  {
   "cell_type": "code",
   "execution_count": 39,
   "id": "2f8206c0",
   "metadata": {},
   "outputs": [],
   "source": [
    "# myTuple.append(\"a\") > AttributeError"
   ]
  },
  {
   "cell_type": "code",
   "execution_count": 40,
   "id": "e3af0600",
   "metadata": {},
   "outputs": [
    {
     "data": {
      "text/plain": [
       "(['Artificial Intelligence', 'Data Analytics'],\n",
       " ('Big Data', 'Machine Learning'))"
      ]
     },
     "execution_count": 40,
     "metadata": {},
     "output_type": "execute_result"
    }
   ],
   "source": [
    "myList, myTuple"
   ]
  },
  {
   "cell_type": "code",
   "execution_count": 41,
   "id": "0f1e842b",
   "metadata": {},
   "outputs": [
    {
     "name": "stdout",
     "output_type": "stream",
     "text": [
      "2\n",
      "2\n"
     ]
    }
   ],
   "source": [
    "print(len(myTuple))\n",
    "print(len(myList))"
   ]
  },
  {
   "cell_type": "code",
   "execution_count": 42,
   "id": "078312b9",
   "metadata": {},
   "outputs": [
    {
     "name": "stdout",
     "output_type": "stream",
     "text": [
      "48\n",
      "1\n",
      "52\n",
      "7\n"
     ]
    }
   ],
   "source": [
    "list1 = [23,48,1, 17]\n",
    "tuple1 = (25, 52, 7, 12)\n",
    "print(max(list1))\n",
    "print(min(list1))\n",
    "print(max(tuple1))\n",
    "print(min(tuple1))"
   ]
  },
  {
   "cell_type": "code",
   "execution_count": 43,
   "id": "4a1a0378",
   "metadata": {},
   "outputs": [
    {
     "data": {
      "text/plain": [
       "17"
      ]
     },
     "execution_count": 43,
     "metadata": {},
     "output_type": "execute_result"
    }
   ],
   "source": [
    "list1.pop()"
   ]
  },
  {
   "cell_type": "code",
   "execution_count": 44,
   "id": "ccc0a29d",
   "metadata": {},
   "outputs": [
    {
     "data": {
      "text/plain": [
       "[23, 48, 1]"
      ]
     },
     "execution_count": 44,
     "metadata": {},
     "output_type": "execute_result"
    }
   ],
   "source": [
    "list1"
   ]
  },
  {
   "cell_type": "code",
   "execution_count": 45,
   "id": "fc308b7f",
   "metadata": {},
   "outputs": [],
   "source": [
    "list1.append(8)"
   ]
  },
  {
   "cell_type": "code",
   "execution_count": 46,
   "id": "9f10b391",
   "metadata": {},
   "outputs": [
    {
     "data": {
      "text/plain": [
       "[23, 48, 1, 8]"
      ]
     },
     "execution_count": 46,
     "metadata": {},
     "output_type": "execute_result"
    }
   ],
   "source": [
    "list1"
   ]
  },
  {
   "cell_type": "code",
   "execution_count": 47,
   "id": "d107798c",
   "metadata": {},
   "outputs": [],
   "source": [
    "list1.insert(0,11)"
   ]
  },
  {
   "cell_type": "code",
   "execution_count": 48,
   "id": "97c2b7d4",
   "metadata": {},
   "outputs": [
    {
     "data": {
      "text/plain": [
       "[11, 23, 48, 1, 8]"
      ]
     },
     "execution_count": 48,
     "metadata": {},
     "output_type": "execute_result"
    }
   ],
   "source": [
    "list1"
   ]
  },
  {
   "cell_type": "markdown",
   "id": "1d954721",
   "metadata": {},
   "source": [
    "# Loops, Range and List Comprehension"
   ]
  },
  {
   "cell_type": "markdown",
   "id": "e6b80709",
   "metadata": {},
   "source": [
    "1. while loop\n",
    "2. For loop\n",
    "3. list comprehension"
   ]
  },
  {
   "cell_type": "code",
   "execution_count": 49,
   "id": "50ac0dac",
   "metadata": {},
   "outputs": [
    {
     "name": "stdout",
     "output_type": "stream",
     "text": [
      "0\n",
      "1\n",
      "2\n",
      "3\n",
      "4\n"
     ]
    }
   ],
   "source": [
    "a=0\n",
    "while a<5:\n",
    "    print(a)\n",
    "    a+=1"
   ]
  },
  {
   "cell_type": "code",
   "execution_count": 50,
   "id": "f0a64193",
   "metadata": {},
   "outputs": [],
   "source": [
    "# break and continue statatement"
   ]
  },
  {
   "cell_type": "code",
   "execution_count": 54,
   "id": "f99c6657",
   "metadata": {},
   "outputs": [
    {
     "name": "stdout",
     "output_type": "stream",
     "text": [
      "L\n",
      "e\n",
      "a\n",
      "r\n",
      "n\n",
      "i\n",
      "n\n",
      "g\n",
      " \n",
      "Outside while loop\n"
     ]
    }
   ],
   "source": [
    "name = \"Learning Journel\"\n",
    "i =0\n",
    "\n",
    "while True:\n",
    "    if name[i] == 'J':\n",
    "        break\n",
    "    print(name[i])\n",
    "    i+=1\n",
    "    \n",
    "print(\"Outside while loop\")"
   ]
  },
  {
   "cell_type": "code",
   "execution_count": 55,
   "id": "ead35fef",
   "metadata": {},
   "outputs": [
    {
     "name": "stdout",
     "output_type": "stream",
     "text": [
      "4\n",
      "3\n",
      "Continue opeartion done\n",
      "1\n",
      "0\n",
      "outside the while loop\n"
     ]
    }
   ],
   "source": [
    "num = 5\n",
    "\n",
    "while num>0:\n",
    "    num-=1\n",
    "    if num == 2:\n",
    "        print('Continue opeartion done')\n",
    "        continue\n",
    "    print(num)\n",
    "print('outside the while loop')"
   ]
  },
  {
   "cell_type": "code",
   "execution_count": 56,
   "id": "a3f8111b",
   "metadata": {},
   "outputs": [
    {
     "name": "stdout",
     "output_type": "stream",
     "text": [
      "eggs\n",
      "milk\n",
      "bread\n",
      "veggies\n"
     ]
    }
   ],
   "source": [
    "grocery_list = ['eggs', 'milk', 'bread','veggies']\n",
    "\n",
    "for food in grocery_list:\n",
    "    print(food)"
   ]
  },
  {
   "cell_type": "code",
   "execution_count": 57,
   "id": "0cd49ddd",
   "metadata": {},
   "outputs": [],
   "source": [
    "myRange = range(10)"
   ]
  },
  {
   "cell_type": "code",
   "execution_count": 58,
   "id": "817bdd3e",
   "metadata": {},
   "outputs": [
    {
     "name": "stdout",
     "output_type": "stream",
     "text": [
      "range(0, 10)\n"
     ]
    }
   ],
   "source": [
    "print(myRange)"
   ]
  },
  {
   "cell_type": "code",
   "execution_count": 59,
   "id": "7b083e87",
   "metadata": {},
   "outputs": [
    {
     "name": "stdout",
     "output_type": "stream",
     "text": [
      "0\n",
      "1\n",
      "2\n",
      "3\n",
      "4\n",
      "5\n",
      "6\n",
      "7\n",
      "8\n",
      "9\n"
     ]
    }
   ],
   "source": [
    "for i in myRange:\n",
    "    print(i)"
   ]
  },
  {
   "cell_type": "code",
   "execution_count": 60,
   "id": "f423e546",
   "metadata": {},
   "outputs": [
    {
     "name": "stdout",
     "output_type": "stream",
     "text": [
      "5\n",
      "6\n",
      "7\n",
      "8\n",
      "9\n"
     ]
    }
   ],
   "source": [
    "for i in range(5, 10):\n",
    "    print(i)"
   ]
  },
  {
   "cell_type": "code",
   "execution_count": 62,
   "id": "55ea1947",
   "metadata": {},
   "outputs": [
    {
     "name": "stdout",
     "output_type": "stream",
     "text": [
      "5\n",
      "7\n",
      "9\n",
      "11\n",
      "13\n"
     ]
    }
   ],
   "source": [
    "for i in range(5, 15, 2):\n",
    "    print(i)"
   ]
  },
  {
   "cell_type": "code",
   "execution_count": 63,
   "id": "70135d8a",
   "metadata": {},
   "outputs": [
    {
     "name": "stdout",
     "output_type": "stream",
     "text": [
      "15\n",
      "13\n",
      "11\n",
      "9\n",
      "7\n"
     ]
    }
   ],
   "source": [
    "for i in range(15,5,-2):\n",
    "    print(i)"
   ]
  },
  {
   "cell_type": "code",
   "execution_count": 64,
   "id": "8a3b0107",
   "metadata": {},
   "outputs": [],
   "source": [
    "rectangles = [(15,10), (3,5), (5,6)]"
   ]
  },
  {
   "cell_type": "code",
   "execution_count": 65,
   "id": "0bee808f",
   "metadata": {},
   "outputs": [],
   "source": [
    "areas = [150, 15, 30]"
   ]
  },
  {
   "cell_type": "code",
   "execution_count": 66,
   "id": "6a98a00d",
   "metadata": {},
   "outputs": [],
   "source": [
    "rectangle_areas = [(15, 10, 150), (3,5,15),(5,6,30)]"
   ]
  },
  {
   "cell_type": "code",
   "execution_count": 67,
   "id": "3a844243",
   "metadata": {},
   "outputs": [
    {
     "name": "stdout",
     "output_type": "stream",
     "text": [
      "[150, 15, 30]\n"
     ]
    }
   ],
   "source": [
    "# Traditional approch\n",
    "areas = []\n",
    "\n",
    "for (x,y) in rectangles:\n",
    "    areas.append(x*y)\n",
    "    \n",
    "print(areas)\n",
    "    "
   ]
  },
  {
   "cell_type": "code",
   "execution_count": 69,
   "id": "17489633",
   "metadata": {},
   "outputs": [
    {
     "data": {
      "text/plain": [
       "[(15, 10), (3, 5), (5, 6)]"
      ]
     },
     "execution_count": 69,
     "metadata": {},
     "output_type": "execute_result"
    }
   ],
   "source": [
    "rectangles"
   ]
  },
  {
   "cell_type": "code",
   "execution_count": 68,
   "id": "e30eec46",
   "metadata": {},
   "outputs": [
    {
     "name": "stdout",
     "output_type": "stream",
     "text": [
      "[150, 15, 30]\n",
      "[(15, 10, 150), (3, 5, 15), (5, 6, 30)]\n"
     ]
    }
   ],
   "source": [
    "areas = []\n",
    "rectangle_areas = []\n",
    "\n",
    "for (x,y) in rectangles:\n",
    "    areas.append(x*y)\n",
    "    rectangle_areas.append((x, y, x*y))\n",
    "    \n",
    "print(areas)\n",
    "print(rectangle_areas)"
   ]
  },
  {
   "cell_type": "code",
   "execution_count": 70,
   "id": "a8a72f12",
   "metadata": {},
   "outputs": [
    {
     "data": {
      "text/plain": [
       "[(15, 10), (3, 5), (5, 6)]"
      ]
     },
     "execution_count": 70,
     "metadata": {},
     "output_type": "execute_result"
    }
   ],
   "source": [
    "rectangles"
   ]
  },
  {
   "cell_type": "code",
   "execution_count": 71,
   "id": "9c509e68",
   "metadata": {},
   "outputs": [
    {
     "data": {
      "text/plain": [
       "[(15, 10, 150), (3, 5, 15), (5, 6, 30)]"
      ]
     },
     "execution_count": 71,
     "metadata": {},
     "output_type": "execute_result"
    }
   ],
   "source": [
    "rectangle_areas = [(x, y, x*y) for (x,y) in rectangles]\n",
    "rectangle_areas"
   ]
  },
  {
   "cell_type": "markdown",
   "id": "b7058696",
   "metadata": {},
   "source": [
    "# Python Dictionaries"
   ]
  },
  {
   "cell_type": "code",
   "execution_count": 1,
   "id": "00b3e566",
   "metadata": {},
   "outputs": [],
   "source": [
    "# Two approaches to create dictionaries"
   ]
  },
  {
   "cell_type": "code",
   "execution_count": 26,
   "id": "15a620e6",
   "metadata": {},
   "outputs": [
    {
     "name": "stdout",
     "output_type": "stream",
     "text": [
      "{'Abhi': 7, 'Shourya': 9, 'Amey': 5}\n"
     ]
    }
   ],
   "source": [
    "info_1 = {'Abhi':7,'Shourya':9,'Amey':5}\n",
    "print(info_1)"
   ]
  },
  {
   "cell_type": "code",
   "execution_count": null,
   "id": "0597e592",
   "metadata": {},
   "outputs": [],
   "source": []
  },
  {
   "cell_type": "code",
   "execution_count": 25,
   "id": "41aae958",
   "metadata": {},
   "outputs": [
    {
     "data": {
      "text/plain": [
       "77"
      ]
     },
     "execution_count": 25,
     "metadata": {},
     "output_type": "execute_result"
    }
   ],
   "source": [
    "info_1 = {'Abhi':7,'Abhi':77,'Amey':5}\n",
    "info_1['Abhi']"
   ]
  },
  {
   "cell_type": "code",
   "execution_count": null,
   "id": "c0956e8e",
   "metadata": {},
   "outputs": [],
   "source": []
  },
  {
   "cell_type": "code",
   "execution_count": 27,
   "id": "d66e267a",
   "metadata": {},
   "outputs": [
    {
     "name": "stdout",
     "output_type": "stream",
     "text": [
      "{'Abhi': 7, 'Shourya': 9, 'Amey': 5}\n"
     ]
    }
   ],
   "source": [
    "info_2 = dict({'Abhi':7,'Shourya':9,'Amey':5})\n",
    "\n",
    "print(info_2)"
   ]
  },
  {
   "cell_type": "code",
   "execution_count": null,
   "id": "99113171",
   "metadata": {},
   "outputs": [],
   "source": []
  },
  {
   "cell_type": "code",
   "execution_count": 28,
   "id": "64e4e9ef",
   "metadata": {},
   "outputs": [
    {
     "data": {
      "text/plain": [
       "{'Abhi': 7, 'Shourya': 9, 'Amey': 5}"
      ]
     },
     "execution_count": 28,
     "metadata": {},
     "output_type": "execute_result"
    }
   ],
   "source": [
    "info_3 = dict(Abhi=7,Shourya=9,Amey=5)\n",
    "info_3"
   ]
  },
  {
   "cell_type": "code",
   "execution_count": null,
   "id": "1bc5ecbb",
   "metadata": {},
   "outputs": [],
   "source": []
  },
  {
   "cell_type": "code",
   "execution_count": 29,
   "id": "0d87cabb",
   "metadata": {},
   "outputs": [
    {
     "name": "stdout",
     "output_type": "stream",
     "text": [
      "{'Tom': 104, 'John': 105}\n"
     ]
    }
   ],
   "source": [
    "my_list = [('Tom',104), ('John',105)]\n",
    "\n",
    "info_4 = dict(my_list)\n",
    "print(info_4)"
   ]
  },
  {
   "cell_type": "code",
   "execution_count": null,
   "id": "382d6606",
   "metadata": {},
   "outputs": [],
   "source": []
  },
  {
   "cell_type": "code",
   "execution_count": 30,
   "id": "1da71711",
   "metadata": {},
   "outputs": [
    {
     "name": "stdout",
     "output_type": "stream",
     "text": [
      "{'Tom': 104, 'John': 105}\n"
     ]
    }
   ],
   "source": [
    "my_tuple = (('Tom',104), ('John',105))\n",
    "\n",
    "info_5 = dict(my_tuple)\n",
    "print(info_5)"
   ]
  },
  {
   "cell_type": "code",
   "execution_count": 32,
   "id": "6330e619",
   "metadata": {},
   "outputs": [
    {
     "data": {
      "text/plain": [
       "(('Tom', 104), ('John', 105))"
      ]
     },
     "execution_count": 32,
     "metadata": {},
     "output_type": "execute_result"
    }
   ],
   "source": [
    "my_tuple[0], my_tuple[1]"
   ]
  },
  {
   "cell_type": "code",
   "execution_count": 33,
   "id": "b53469f0",
   "metadata": {},
   "outputs": [
    {
     "data": {
      "text/plain": [
       "{'Abhi': 7, 'Shourya': 9, 'Amey': 5}"
      ]
     },
     "execution_count": 33,
     "metadata": {},
     "output_type": "execute_result"
    }
   ],
   "source": [
    "info_1"
   ]
  },
  {
   "cell_type": "code",
   "execution_count": 34,
   "id": "2caa8592",
   "metadata": {},
   "outputs": [
    {
     "data": {
      "text/plain": [
       "7"
      ]
     },
     "execution_count": 34,
     "metadata": {},
     "output_type": "execute_result"
    }
   ],
   "source": [
    "info_1['Abhi']"
   ]
  },
  {
   "cell_type": "code",
   "execution_count": 36,
   "id": "8928fac5",
   "metadata": {},
   "outputs": [
    {
     "name": "stdout",
     "output_type": "stream",
     "text": [
      "{'Abhi': 1000, 'Shourya': 9, 'Amey': 5}\n"
     ]
    }
   ],
   "source": [
    "info_1['Abhi']=1000\n",
    "print(info_1)"
   ]
  },
  {
   "cell_type": "code",
   "execution_count": 37,
   "id": "bf2afeea",
   "metadata": {},
   "outputs": [
    {
     "data": {
      "text/plain": [
       "{'Abhi': 1000, 'Shourya': 9, 'Amey': 5}"
      ]
     },
     "execution_count": 37,
     "metadata": {},
     "output_type": "execute_result"
    }
   ],
   "source": [
    "info_1"
   ]
  },
  {
   "cell_type": "code",
   "execution_count": 38,
   "id": "765125f1",
   "metadata": {},
   "outputs": [],
   "source": [
    "info_1['Atharv']=10"
   ]
  },
  {
   "cell_type": "code",
   "execution_count": 39,
   "id": "f2bf3ab9",
   "metadata": {},
   "outputs": [
    {
     "name": "stdout",
     "output_type": "stream",
     "text": [
      "{'Abhi': 1000, 'Shourya': 9, 'Amey': 5, 'Atharv': 10}\n"
     ]
    }
   ],
   "source": [
    "print(info_1)"
   ]
  },
  {
   "cell_type": "code",
   "execution_count": 40,
   "id": "4a5d5416",
   "metadata": {},
   "outputs": [
    {
     "data": {
      "text/plain": [
       "dict_keys(['Abhi', 'Shourya', 'Amey', 'Atharv'])"
      ]
     },
     "execution_count": 40,
     "metadata": {},
     "output_type": "execute_result"
    }
   ],
   "source": [
    "info_1.keys()"
   ]
  },
  {
   "cell_type": "code",
   "execution_count": 42,
   "id": "52adc883",
   "metadata": {},
   "outputs": [
    {
     "data": {
      "text/plain": [
       "dict_values([1000, 9, 5, 10])"
      ]
     },
     "execution_count": 42,
     "metadata": {},
     "output_type": "execute_result"
    }
   ],
   "source": [
    "info_1.values()"
   ]
  },
  {
   "cell_type": "code",
   "execution_count": 44,
   "id": "57d98960",
   "metadata": {},
   "outputs": [
    {
     "data": {
      "text/plain": [
       "dict_items([('Abhi', 1000), ('Shourya', 9), ('Amey', 5), ('Atharv', 10)])"
      ]
     },
     "execution_count": 44,
     "metadata": {},
     "output_type": "execute_result"
    }
   ],
   "source": [
    "info_1.items()"
   ]
  },
  {
   "cell_type": "code",
   "execution_count": 48,
   "id": "5a890327",
   "metadata": {},
   "outputs": [
    {
     "name": "stdout",
     "output_type": "stream",
     "text": [
      "Abhi 1000\n",
      "Shourya 9\n",
      "Amey 5\n",
      "Atharv 10\n"
     ]
    }
   ],
   "source": [
    "for i, j in info_1.items():\n",
    "    print(i,j)"
   ]
  },
  {
   "cell_type": "code",
   "execution_count": 49,
   "id": "191b0c28",
   "metadata": {},
   "outputs": [
    {
     "data": {
      "text/plain": [
       "{'Abhi': 1000, 'Shourya': 9, 'Amey': 5, 'Atharv': 10}"
      ]
     },
     "execution_count": 49,
     "metadata": {},
     "output_type": "execute_result"
    }
   ],
   "source": [
    "info_1"
   ]
  },
  {
   "cell_type": "code",
   "execution_count": 50,
   "id": "4a78c2b3",
   "metadata": {},
   "outputs": [
    {
     "data": {
      "text/plain": [
       "{'Abhi': 7, 'Shourya': 9, 'Amey': 5}"
      ]
     },
     "execution_count": 50,
     "metadata": {},
     "output_type": "execute_result"
    }
   ],
   "source": [
    "info_2"
   ]
  },
  {
   "cell_type": "code",
   "execution_count": 54,
   "id": "62bd3dea",
   "metadata": {},
   "outputs": [
    {
     "name": "stdout",
     "output_type": "stream",
     "text": [
      "{'Abhi', 'Amey', 'Shourya', 'Atharv'}\n"
     ]
    }
   ],
   "source": [
    "info_1_2 = {*info_1, *info_2}\n",
    "print(info_1_2)"
   ]
  },
  {
   "cell_type": "code",
   "execution_count": 55,
   "id": "b29a9b83",
   "metadata": {},
   "outputs": [
    {
     "name": "stdout",
     "output_type": "stream",
     "text": [
      "{'Abhi': 7, 'Shourya': 9, 'Amey': 5, 'Atharv': 10}\n"
     ]
    }
   ],
   "source": [
    "info_1_2 = {**info_1, **info_2}\n",
    "print(info_1_2)"
   ]
  },
  {
   "cell_type": "code",
   "execution_count": 56,
   "id": "2e6f4976",
   "metadata": {},
   "outputs": [],
   "source": [
    "info_1 = {'A':10, 'B':20, 'C':30}\n",
    "info_2 = {'D':40, 'E':50, 'F':60}"
   ]
  },
  {
   "cell_type": "code",
   "execution_count": 58,
   "id": "459bae7e",
   "metadata": {},
   "outputs": [],
   "source": [
    "info_1.update(info_2)"
   ]
  },
  {
   "cell_type": "code",
   "execution_count": 59,
   "id": "850b9ff2",
   "metadata": {},
   "outputs": [
    {
     "name": "stdout",
     "output_type": "stream",
     "text": [
      "{'A': 10, 'B': 20, 'C': 30, 'D': 40, 'E': 50, 'F': 60}\n"
     ]
    }
   ],
   "source": [
    "print(info_1)"
   ]
  },
  {
   "cell_type": "code",
   "execution_count": 60,
   "id": "102afc61",
   "metadata": {},
   "outputs": [
    {
     "data": {
      "text/plain": [
       "6"
      ]
     },
     "execution_count": 60,
     "metadata": {},
     "output_type": "execute_result"
    }
   ],
   "source": [
    "len(info_1)"
   ]
  },
  {
   "cell_type": "code",
   "execution_count": 61,
   "id": "bee38267",
   "metadata": {},
   "outputs": [],
   "source": [
    "del info_1['F']"
   ]
  },
  {
   "cell_type": "code",
   "execution_count": 62,
   "id": "4ae0b6da",
   "metadata": {},
   "outputs": [
    {
     "data": {
      "text/plain": [
       "{'A': 10, 'B': 20, 'C': 30, 'D': 40, 'E': 50}"
      ]
     },
     "execution_count": 62,
     "metadata": {},
     "output_type": "execute_result"
    }
   ],
   "source": [
    "info_1"
   ]
  },
  {
   "cell_type": "code",
   "execution_count": 63,
   "id": "e7ac97c2",
   "metadata": {},
   "outputs": [],
   "source": [
    "del info_1"
   ]
  },
  {
   "cell_type": "code",
   "execution_count": 65,
   "id": "46e42b18",
   "metadata": {},
   "outputs": [],
   "source": [
    "# info_1"
   ]
  },
  {
   "cell_type": "code",
   "execution_count": 66,
   "id": "79b5fb93",
   "metadata": {},
   "outputs": [],
   "source": [
    "info_1 = {'A':10, 'B':20, 'C':30}"
   ]
  },
  {
   "cell_type": "code",
   "execution_count": 68,
   "id": "d6a61ba9",
   "metadata": {},
   "outputs": [],
   "source": [
    "info_1.clear()"
   ]
  },
  {
   "cell_type": "code",
   "execution_count": 69,
   "id": "720f99f8",
   "metadata": {},
   "outputs": [
    {
     "data": {
      "text/plain": [
       "{}"
      ]
     },
     "execution_count": 69,
     "metadata": {},
     "output_type": "execute_result"
    }
   ],
   "source": [
    "info_1"
   ]
  },
  {
   "cell_type": "code",
   "execution_count": 70,
   "id": "cacecba5",
   "metadata": {},
   "outputs": [],
   "source": [
    "info_1 = {'A':10, 'B':20, 'C':30}"
   ]
  },
  {
   "cell_type": "code",
   "execution_count": 71,
   "id": "f9aa835f",
   "metadata": {},
   "outputs": [
    {
     "data": {
      "text/plain": [
       "10"
      ]
     },
     "execution_count": 71,
     "metadata": {},
     "output_type": "execute_result"
    }
   ],
   "source": [
    "info_1.pop('A')"
   ]
  },
  {
   "cell_type": "code",
   "execution_count": 72,
   "id": "477fe08e",
   "metadata": {},
   "outputs": [
    {
     "data": {
      "text/plain": [
       "{'B': 20, 'C': 30}"
      ]
     },
     "execution_count": 72,
     "metadata": {},
     "output_type": "execute_result"
    }
   ],
   "source": [
    "info_1"
   ]
  },
  {
   "cell_type": "code",
   "execution_count": 73,
   "id": "fe60ab3d",
   "metadata": {},
   "outputs": [
    {
     "data": {
      "text/plain": [
       "False"
      ]
     },
     "execution_count": 73,
     "metadata": {},
     "output_type": "execute_result"
    }
   ],
   "source": [
    "'A' in info_1"
   ]
  },
  {
   "cell_type": "code",
   "execution_count": 74,
   "id": "3283f8c9",
   "metadata": {},
   "outputs": [
    {
     "data": {
      "text/plain": [
       "False"
      ]
     },
     "execution_count": 74,
     "metadata": {},
     "output_type": "execute_result"
    }
   ],
   "source": [
    "'b' in info_1"
   ]
  },
  {
   "cell_type": "code",
   "execution_count": 75,
   "id": "ed4f0039",
   "metadata": {},
   "outputs": [
    {
     "data": {
      "text/plain": [
       "True"
      ]
     },
     "execution_count": 75,
     "metadata": {},
     "output_type": "execute_result"
    }
   ],
   "source": [
    "'B' in info_1"
   ]
  },
  {
   "cell_type": "code",
   "execution_count": 76,
   "id": "7fdb8ebe",
   "metadata": {},
   "outputs": [],
   "source": [
    "info_1 = {'A':10, 'B':20, 'C':30}\n",
    "info_2 = {'A':10, 'B':20, 'C':30}"
   ]
  },
  {
   "cell_type": "code",
   "execution_count": 77,
   "id": "0e3fc0d0",
   "metadata": {},
   "outputs": [
    {
     "data": {
      "text/plain": [
       "True"
      ]
     },
     "execution_count": 77,
     "metadata": {},
     "output_type": "execute_result"
    }
   ],
   "source": [
    "info_1 == info_2"
   ]
  },
  {
   "cell_type": "code",
   "execution_count": 78,
   "id": "43ff1b79",
   "metadata": {},
   "outputs": [
    {
     "data": {
      "text/plain": [
       "False"
      ]
     },
     "execution_count": 78,
     "metadata": {},
     "output_type": "execute_result"
    }
   ],
   "source": [
    "info_1 != info_2"
   ]
  },
  {
   "cell_type": "code",
   "execution_count": 82,
   "id": "ff0a71ed",
   "metadata": {},
   "outputs": [],
   "source": [
    "# info_1 > info_2 >> TypeError"
   ]
  },
  {
   "cell_type": "code",
   "execution_count": 188,
   "id": "2370cb39",
   "metadata": {},
   "outputs": [
    {
     "name": "stdout",
     "output_type": "stream",
     "text": [
      "{'A': 10, 'B': 20, 'C': 30}\n"
     ]
    }
   ],
   "source": [
    "info = info_1.copy()\n",
    "print(info_1)"
   ]
  },
  {
   "cell_type": "code",
   "execution_count": 189,
   "id": "bb0fc6ad",
   "metadata": {},
   "outputs": [
    {
     "name": "stdout",
     "output_type": "stream",
     "text": [
      "{'A': 'sleep', 'B': 'eat', 'C': ['play', 'study']}\n",
      "{'A': 'sleep', 'B': 'eat', 'C': ['play', 'study']}\n"
     ]
    }
   ],
   "source": [
    "msg = {'A':'sleep', 'B':'eat', 'C':['play','study']}\n",
    "\n",
    "inform = msg.copy()\n",
    "\n",
    "print(inform)\n",
    "print(msg)"
   ]
  },
  {
   "cell_type": "code",
   "execution_count": 190,
   "id": "2082482a",
   "metadata": {},
   "outputs": [],
   "source": [
    "inform['C'][1] = 'cook'"
   ]
  },
  {
   "cell_type": "code",
   "execution_count": 191,
   "id": "e100dd8b",
   "metadata": {},
   "outputs": [
    {
     "name": "stdout",
     "output_type": "stream",
     "text": [
      "{'A': 'sleep', 'B': 'eat', 'C': ['play', 'cook']}\n",
      "{'A': 'sleep', 'B': 'eat', 'C': ['play', 'cook']}\n"
     ]
    }
   ],
   "source": [
    "print(inform)\n",
    "print(msg)"
   ]
  },
  {
   "cell_type": "code",
   "execution_count": 192,
   "id": "23c674ae",
   "metadata": {},
   "outputs": [
    {
     "name": "stdout",
     "output_type": "stream",
     "text": [
      "{'A': 'sleep', 'B': 'eat', 'C': ['play', 'cook']}\n",
      "{'A': 'sleep', 'B': 'eat', 'C': ['play', 'cook']}\n"
     ]
    }
   ],
   "source": [
    "import copy\n",
    "\n",
    "inform = copy.deepcopy(msg)\n",
    "\n",
    "print(inform)\n",
    "print(msg)"
   ]
  },
  {
   "cell_type": "code",
   "execution_count": 193,
   "id": "0cd22b04",
   "metadata": {},
   "outputs": [
    {
     "name": "stdout",
     "output_type": "stream",
     "text": [
      "{'A': 'sleep', 'B': 'eat', 'C': ['play', 'cricket']}\n",
      "{'A': 'sleep', 'B': 'eat', 'C': ['play', 'cook']}\n"
     ]
    }
   ],
   "source": [
    "inform['C'][1]='cricket'\n",
    "\n",
    "print(inform)\n",
    "print(msg)"
   ]
  },
  {
   "cell_type": "code",
   "execution_count": 97,
   "id": "b65703cf",
   "metadata": {},
   "outputs": [
    {
     "name": "stdout",
     "output_type": "stream",
     "text": [
      "{0: 0, 1: 1, 2: 4, 3: 9, 4: 16, 5: 25, 6: 36, 7: 49, 8: 64, 9: 81}\n"
     ]
    }
   ],
   "source": [
    "square = {x:x**2 for x in range(0,10)}\n",
    "print(square)"
   ]
  },
  {
   "cell_type": "markdown",
   "id": "e2c8c1e8",
   "metadata": {},
   "source": [
    "# set"
   ]
  },
  {
   "cell_type": "code",
   "execution_count": 98,
   "id": "1ccb720b",
   "metadata": {},
   "outputs": [],
   "source": [
    "mySet = {0,1,2,3}"
   ]
  },
  {
   "cell_type": "code",
   "execution_count": 99,
   "id": "d6adcfea",
   "metadata": {},
   "outputs": [
    {
     "name": "stdout",
     "output_type": "stream",
     "text": [
      "{0, 1, 2, 3}\n"
     ]
    }
   ],
   "source": [
    "print(mySet)"
   ]
  },
  {
   "cell_type": "code",
   "execution_count": 100,
   "id": "50c92ac0",
   "metadata": {},
   "outputs": [],
   "source": [
    "# set is collection of unique elements"
   ]
  },
  {
   "cell_type": "code",
   "execution_count": 101,
   "id": "ad5720d3",
   "metadata": {},
   "outputs": [
    {
     "name": "stdout",
     "output_type": "stream",
     "text": [
      "{0, 1, 2}\n"
     ]
    }
   ],
   "source": [
    "mySet = {0,0,0,1,2,2,2}\n",
    "print(mySet)"
   ]
  },
  {
   "cell_type": "code",
   "execution_count": 104,
   "id": "dd9f1533",
   "metadata": {},
   "outputs": [
    {
     "name": "stdout",
     "output_type": "stream",
     "text": [
      "['Ram', 'Krishna', 'Hari', 'Ram', 'Krishna']\n"
     ]
    }
   ],
   "source": [
    "myList=['Ram','Krishna','Hari', 'Ram', 'Krishna']\n",
    "\n",
    "print(myList)"
   ]
  },
  {
   "cell_type": "code",
   "execution_count": 105,
   "id": "795e9b3f",
   "metadata": {},
   "outputs": [
    {
     "data": {
      "text/plain": [
       "{'Hari', 'Krishna', 'Ram'}"
      ]
     },
     "execution_count": 105,
     "metadata": {},
     "output_type": "execute_result"
    }
   ],
   "source": [
    "mySet = set(myList) # duplicates removed by usng set\n",
    "mySet"
   ]
  },
  {
   "cell_type": "code",
   "execution_count": 106,
   "id": "24f9485e",
   "metadata": {},
   "outputs": [],
   "source": [
    "# empty set\n",
    "\n",
    "myEmptySet = {} # in python empty curly brace will consider as a dictionary"
   ]
  },
  {
   "cell_type": "code",
   "execution_count": 107,
   "id": "73bab55a",
   "metadata": {},
   "outputs": [
    {
     "data": {
      "text/plain": [
       "dict"
      ]
     },
     "execution_count": 107,
     "metadata": {},
     "output_type": "execute_result"
    }
   ],
   "source": [
    "type(myEmptySet) "
   ]
  },
  {
   "cell_type": "code",
   "execution_count": 108,
   "id": "8921146b",
   "metadata": {},
   "outputs": [],
   "source": [
    "# for creation of empty set\n",
    "\n",
    "myEmptySet = set()"
   ]
  },
  {
   "cell_type": "code",
   "execution_count": 109,
   "id": "30b9a363",
   "metadata": {},
   "outputs": [
    {
     "data": {
      "text/plain": [
       "set"
      ]
     },
     "execution_count": 109,
     "metadata": {},
     "output_type": "execute_result"
    }
   ],
   "source": [
    "type(myEmptySet)"
   ]
  },
  {
   "cell_type": "code",
   "execution_count": 110,
   "id": "1a2567e8",
   "metadata": {},
   "outputs": [
    {
     "data": {
      "text/plain": [
       "{' ', 'J', 'L', 'a', 'e', 'g', 'i', 'l', 'n', 'o', 'r', 'u'}"
      ]
     },
     "execution_count": 110,
     "metadata": {},
     "output_type": "execute_result"
    }
   ],
   "source": [
    "# we can convert list, tuple, str into the set by using set function\n",
    "\n",
    "set('Learning Journel')"
   ]
  },
  {
   "cell_type": "code",
   "execution_count": 111,
   "id": "378730ec",
   "metadata": {},
   "outputs": [
    {
     "data": {
      "text/plain": [
       "{' ', 'a', 'e', 'g', 'i', 'j', 'l', 'n', 'o', 'r', 'u'}"
      ]
     },
     "execution_count": 111,
     "metadata": {},
     "output_type": "execute_result"
    }
   ],
   "source": [
    "# duplicates are removed but upper case and lower case will be considered as it is\n",
    "\n",
    "set('Learning Journel'.lower())"
   ]
  },
  {
   "cell_type": "code",
   "execution_count": 112,
   "id": "3253951a",
   "metadata": {},
   "outputs": [
    {
     "data": {
      "text/plain": [
       "{'Hari', 'Radha', 'Ram', 'krishna'}"
      ]
     },
     "execution_count": 112,
     "metadata": {},
     "output_type": "execute_result"
    }
   ],
   "source": [
    "set(['Ram', 'Radha', 'krishna', 'Hari'])"
   ]
  },
  {
   "cell_type": "code",
   "execution_count": 113,
   "id": "83a42e70",
   "metadata": {},
   "outputs": [
    {
     "data": {
      "text/plain": [
       "{'A', 'B', 'C'}"
      ]
     },
     "execution_count": 113,
     "metadata": {},
     "output_type": "execute_result"
    }
   ],
   "source": [
    "set(('A','B','C'))"
   ]
  },
  {
   "cell_type": "code",
   "execution_count": 114,
   "id": "b9d8a635",
   "metadata": {},
   "outputs": [
    {
     "data": {
      "text/plain": [
       "{1, 2, 3, 4}"
      ]
     },
     "execution_count": 114,
     "metadata": {},
     "output_type": "execute_result"
    }
   ],
   "source": [
    "set({1:'a',2:'b',3:'c',4:'d'}) # dictionary values will be ignored"
   ]
  },
  {
   "cell_type": "code",
   "execution_count": 115,
   "id": "3bd09b42",
   "metadata": {},
   "outputs": [
    {
     "data": {
      "text/plain": [
       "3"
      ]
     },
     "execution_count": 115,
     "metadata": {},
     "output_type": "execute_result"
    }
   ],
   "source": [
    "len(mySet)"
   ]
  },
  {
   "cell_type": "code",
   "execution_count": 116,
   "id": "356cc64a",
   "metadata": {},
   "outputs": [
    {
     "data": {
      "text/plain": [
       "{'Hari', 'Krishna', 'Ram'}"
      ]
     },
     "execution_count": 116,
     "metadata": {},
     "output_type": "execute_result"
    }
   ],
   "source": [
    "# sets are mutable but you can add element in the existing set\n",
    "\n",
    "mySet"
   ]
  },
  {
   "cell_type": "code",
   "execution_count": 118,
   "id": "ec3a28ff",
   "metadata": {},
   "outputs": [],
   "source": [
    "mySet.add('Radha')"
   ]
  },
  {
   "cell_type": "code",
   "execution_count": 119,
   "id": "646b74f8",
   "metadata": {},
   "outputs": [
    {
     "data": {
      "text/plain": [
       "{'Hari', 'Krishna', 'Radha', 'Ram'}"
      ]
     },
     "execution_count": 119,
     "metadata": {},
     "output_type": "execute_result"
    }
   ],
   "source": [
    "mySet"
   ]
  },
  {
   "cell_type": "code",
   "execution_count": 120,
   "id": "a5122b12",
   "metadata": {},
   "outputs": [],
   "source": [
    "# add method will allow the single element at a time but update will allow to multiple element at a time"
   ]
  },
  {
   "cell_type": "code",
   "execution_count": 121,
   "id": "9c498af9",
   "metadata": {},
   "outputs": [],
   "source": [
    "mySet.update(['R','A','K','H','A'])"
   ]
  },
  {
   "cell_type": "code",
   "execution_count": 122,
   "id": "e7c0268f",
   "metadata": {},
   "outputs": [
    {
     "data": {
      "text/plain": [
       "{'A', 'H', 'Hari', 'K', 'Krishna', 'R', 'Radha', 'Ram'}"
      ]
     },
     "execution_count": 122,
     "metadata": {},
     "output_type": "execute_result"
    }
   ],
   "source": [
    "mySet"
   ]
  },
  {
   "cell_type": "code",
   "execution_count": 123,
   "id": "0756002e",
   "metadata": {},
   "outputs": [],
   "source": [
    "# UPDATE METHOD WILL ALSO TAKE TUPLE, DICT, AND STRING ALSO"
   ]
  },
  {
   "cell_type": "code",
   "execution_count": 126,
   "id": "2f5c0d6c",
   "metadata": {},
   "outputs": [],
   "source": [
    "mySet.remove('A')"
   ]
  },
  {
   "cell_type": "code",
   "execution_count": 127,
   "id": "6c3506c0",
   "metadata": {},
   "outputs": [
    {
     "data": {
      "text/plain": [
       "{'H', 'Hari', 'K', 'Krishna', 'R', 'Radha', 'Ram'}"
      ]
     },
     "execution_count": 127,
     "metadata": {},
     "output_type": "execute_result"
    }
   ],
   "source": [
    "mySet"
   ]
  },
  {
   "cell_type": "code",
   "execution_count": 128,
   "id": "a86e6f81",
   "metadata": {},
   "outputs": [],
   "source": [
    "set1 = {0,1,2}\n",
    "set2 = {2,3,4,5}"
   ]
  },
  {
   "cell_type": "code",
   "execution_count": 129,
   "id": "2748f406",
   "metadata": {},
   "outputs": [],
   "source": [
    "# union for merge the two sets"
   ]
  },
  {
   "cell_type": "code",
   "execution_count": 130,
   "id": "f4995876",
   "metadata": {},
   "outputs": [
    {
     "data": {
      "text/plain": [
       "{0, 1, 2, 3, 4, 5}"
      ]
     },
     "execution_count": 130,
     "metadata": {},
     "output_type": "execute_result"
    }
   ],
   "source": [
    "set1.union(set2)"
   ]
  },
  {
   "cell_type": "code",
   "execution_count": 131,
   "id": "e48ee901",
   "metadata": {},
   "outputs": [
    {
     "data": {
      "text/plain": [
       "{0, 1, 2, 3, 4, 5}"
      ]
     },
     "execution_count": 131,
     "metadata": {},
     "output_type": "execute_result"
    }
   ],
   "source": [
    "set1 | set2"
   ]
  },
  {
   "cell_type": "code",
   "execution_count": 132,
   "id": "bb33bbcf",
   "metadata": {},
   "outputs": [],
   "source": [
    "# intersetion for common element from both"
   ]
  },
  {
   "cell_type": "code",
   "execution_count": 133,
   "id": "a03ae086",
   "metadata": {},
   "outputs": [
    {
     "data": {
      "text/plain": [
       "{2}"
      ]
     },
     "execution_count": 133,
     "metadata": {},
     "output_type": "execute_result"
    }
   ],
   "source": [
    "set1.intersection(set2)"
   ]
  },
  {
   "cell_type": "code",
   "execution_count": 135,
   "id": "1a11ef25",
   "metadata": {},
   "outputs": [
    {
     "data": {
      "text/plain": [
       "{2}"
      ]
     },
     "execution_count": 135,
     "metadata": {},
     "output_type": "execute_result"
    }
   ],
   "source": [
    "set1 & set2"
   ]
  },
  {
   "cell_type": "code",
   "execution_count": 136,
   "id": "0fbd8a8e",
   "metadata": {},
   "outputs": [],
   "source": [
    "# difference between two sets "
   ]
  },
  {
   "cell_type": "code",
   "execution_count": 137,
   "id": "d62c795b",
   "metadata": {},
   "outputs": [
    {
     "data": {
      "text/plain": [
       "{0, 1}"
      ]
     },
     "execution_count": 137,
     "metadata": {},
     "output_type": "execute_result"
    }
   ],
   "source": [
    "set1.difference(set2)"
   ]
  },
  {
   "cell_type": "code",
   "execution_count": 139,
   "id": "21334b47",
   "metadata": {},
   "outputs": [
    {
     "data": {
      "text/plain": [
       "{0, 1}"
      ]
     },
     "execution_count": 139,
     "metadata": {},
     "output_type": "execute_result"
    }
   ],
   "source": [
    "set1 - set2"
   ]
  },
  {
   "cell_type": "code",
   "execution_count": 138,
   "id": "386756ea",
   "metadata": {},
   "outputs": [
    {
     "data": {
      "text/plain": [
       "{3, 4, 5}"
      ]
     },
     "execution_count": 138,
     "metadata": {},
     "output_type": "execute_result"
    }
   ],
   "source": [
    "set2.difference(set1)"
   ]
  },
  {
   "cell_type": "code",
   "execution_count": 140,
   "id": "56dfbaa1",
   "metadata": {},
   "outputs": [
    {
     "data": {
      "text/plain": [
       "{3, 4, 5}"
      ]
     },
     "execution_count": 140,
     "metadata": {},
     "output_type": "execute_result"
    }
   ],
   "source": [
    "set2 - set1"
   ]
  },
  {
   "cell_type": "code",
   "execution_count": 141,
   "id": "5b4b69ea",
   "metadata": {},
   "outputs": [],
   "source": [
    "# symmetric difference > either present in same or another"
   ]
  },
  {
   "cell_type": "code",
   "execution_count": 142,
   "id": "87986448",
   "metadata": {},
   "outputs": [
    {
     "data": {
      "text/plain": [
       "{0, 1, 3, 4, 5}"
      ]
     },
     "execution_count": 142,
     "metadata": {},
     "output_type": "execute_result"
    }
   ],
   "source": [
    "set1.symmetric_difference(set2)"
   ]
  },
  {
   "cell_type": "code",
   "execution_count": 144,
   "id": "9281c1df",
   "metadata": {},
   "outputs": [
    {
     "data": {
      "text/plain": [
       "{0, 1, 3, 4, 5}"
      ]
     },
     "execution_count": 144,
     "metadata": {},
     "output_type": "execute_result"
    }
   ],
   "source": [
    "set2 ^ set1"
   ]
  },
  {
   "cell_type": "code",
   "execution_count": 146,
   "id": "4cf1a625",
   "metadata": {},
   "outputs": [],
   "source": [
    "# LOGICAL OPERATION"
   ]
  },
  {
   "cell_type": "code",
   "execution_count": 145,
   "id": "7b888536",
   "metadata": {},
   "outputs": [
    {
     "data": {
      "text/plain": [
       "{'H', 'Hari', 'K', 'Krishna', 'R', 'Radha', 'Ram'}"
      ]
     },
     "execution_count": 145,
     "metadata": {},
     "output_type": "execute_result"
    }
   ],
   "source": [
    "mySet"
   ]
  },
  {
   "cell_type": "code",
   "execution_count": 147,
   "id": "80d63eb9",
   "metadata": {},
   "outputs": [
    {
     "data": {
      "text/plain": [
       "True"
      ]
     },
     "execution_count": 147,
     "metadata": {},
     "output_type": "execute_result"
    }
   ],
   "source": [
    "'H' in mySet"
   ]
  },
  {
   "cell_type": "code",
   "execution_count": 148,
   "id": "2b99d890",
   "metadata": {},
   "outputs": [
    {
     "data": {
      "text/plain": [
       "False"
      ]
     },
     "execution_count": 148,
     "metadata": {},
     "output_type": "execute_result"
    }
   ],
   "source": [
    "'H' not in mySet"
   ]
  },
  {
   "cell_type": "code",
   "execution_count": 149,
   "id": "ee0b83e6",
   "metadata": {},
   "outputs": [
    {
     "data": {
      "text/plain": [
       "{0, 1, 2}"
      ]
     },
     "execution_count": 149,
     "metadata": {},
     "output_type": "execute_result"
    }
   ],
   "source": [
    "set1"
   ]
  },
  {
   "cell_type": "code",
   "execution_count": 150,
   "id": "8508de1f",
   "metadata": {},
   "outputs": [
    {
     "data": {
      "text/plain": [
       "{2, 3, 4, 5}"
      ]
     },
     "execution_count": 150,
     "metadata": {},
     "output_type": "execute_result"
    }
   ],
   "source": [
    "set2"
   ]
  },
  {
   "cell_type": "code",
   "execution_count": 152,
   "id": "eefd3db1",
   "metadata": {},
   "outputs": [],
   "source": [
    "set1 = {0,1}\n",
    "set2 = {0,1,2,3}"
   ]
  },
  {
   "cell_type": "code",
   "execution_count": 153,
   "id": "a9b4d607",
   "metadata": {},
   "outputs": [
    {
     "data": {
      "text/plain": [
       "True"
      ]
     },
     "execution_count": 153,
     "metadata": {},
     "output_type": "execute_result"
    }
   ],
   "source": [
    "set1.issubset(set2)"
   ]
  },
  {
   "cell_type": "code",
   "execution_count": 155,
   "id": "70d0c26b",
   "metadata": {},
   "outputs": [
    {
     "data": {
      "text/plain": [
       "True"
      ]
     },
     "execution_count": 155,
     "metadata": {},
     "output_type": "execute_result"
    }
   ],
   "source": [
    "set1 <= set2"
   ]
  },
  {
   "cell_type": "code",
   "execution_count": 157,
   "id": "d474674a",
   "metadata": {},
   "outputs": [
    {
     "data": {
      "text/plain": [
       "True"
      ]
     },
     "execution_count": 157,
     "metadata": {},
     "output_type": "execute_result"
    }
   ],
   "source": [
    "set2.issuperset(set1)"
   ]
  },
  {
   "cell_type": "code",
   "execution_count": 158,
   "id": "7dde42fe",
   "metadata": {},
   "outputs": [
    {
     "data": {
      "text/plain": [
       "True"
      ]
     },
     "execution_count": 158,
     "metadata": {},
     "output_type": "execute_result"
    }
   ],
   "source": [
    "set2 >= set1"
   ]
  },
  {
   "cell_type": "code",
   "execution_count": 159,
   "id": "e411e722",
   "metadata": {},
   "outputs": [],
   "source": [
    "myList = [1,2,3,4]"
   ]
  },
  {
   "cell_type": "code",
   "execution_count": 160,
   "id": "efc65529",
   "metadata": {},
   "outputs": [
    {
     "data": {
      "text/plain": [
       "2"
      ]
     },
     "execution_count": 160,
     "metadata": {},
     "output_type": "execute_result"
    }
   ],
   "source": [
    "myList[1]"
   ]
  },
  {
   "cell_type": "code",
   "execution_count": 166,
   "id": "004b9cb7",
   "metadata": {},
   "outputs": [],
   "source": [
    "mySet = set([1,2,3,4])"
   ]
  },
  {
   "cell_type": "code",
   "execution_count": 167,
   "id": "a03a498e",
   "metadata": {},
   "outputs": [
    {
     "data": {
      "text/plain": [
       "({1, 2, 3, 4}, set)"
      ]
     },
     "execution_count": 167,
     "metadata": {},
     "output_type": "execute_result"
    }
   ],
   "source": [
    "mySet, type(mySet)"
   ]
  },
  {
   "cell_type": "code",
   "execution_count": 169,
   "id": "51b28287",
   "metadata": {},
   "outputs": [],
   "source": [
    "# mySet[2] > not possible in set"
   ]
  },
  {
   "cell_type": "code",
   "execution_count": 176,
   "id": "c657c36b",
   "metadata": {},
   "outputs": [],
   "source": [
    "mySet = {1,3,5,8}"
   ]
  },
  {
   "cell_type": "code",
   "execution_count": 177,
   "id": "cbd7318e",
   "metadata": {},
   "outputs": [
    {
     "name": "stdout",
     "output_type": "stream",
     "text": [
      "8\n",
      "1\n",
      "3\n",
      "5\n"
     ]
    }
   ],
   "source": [
    "for i in mySet:\n",
    "    print(i)"
   ]
  },
  {
   "cell_type": "code",
   "execution_count": 180,
   "id": "e2663fa9",
   "metadata": {},
   "outputs": [],
   "source": [
    "mySet1 = {1,2,3,4}"
   ]
  },
  {
   "cell_type": "code",
   "execution_count": 181,
   "id": "f1f708b3",
   "metadata": {},
   "outputs": [
    {
     "name": "stdout",
     "output_type": "stream",
     "text": [
      "1\n",
      "2\n",
      "3\n",
      "4\n"
     ]
    }
   ],
   "source": [
    "for i in mySet1:\n",
    "    print(i)"
   ]
  },
  {
   "cell_type": "code",
   "execution_count": 183,
   "id": "f7baede5",
   "metadata": {},
   "outputs": [],
   "source": [
    "# Frozenset > Frozenset is immutable(we cant modify )"
   ]
  },
  {
   "cell_type": "code",
   "execution_count": 184,
   "id": "4bd67395",
   "metadata": {},
   "outputs": [],
   "source": [
    "myFrozenset = frozenset((0,2,4))"
   ]
  },
  {
   "cell_type": "code",
   "execution_count": 185,
   "id": "0f909433",
   "metadata": {},
   "outputs": [
    {
     "data": {
      "text/plain": [
       "frozenset({0, 2, 4})"
      ]
     },
     "execution_count": 185,
     "metadata": {},
     "output_type": "execute_result"
    }
   ],
   "source": [
    "myFrozenset"
   ]
  },
  {
   "cell_type": "code",
   "execution_count": 187,
   "id": "d59bc7a2",
   "metadata": {},
   "outputs": [],
   "source": [
    "# myFrozenset.add(9) > AttributeError: "
   ]
  },
  {
   "cell_type": "markdown",
   "id": "ed3a70f4",
   "metadata": {},
   "source": [
    "# Datetime"
   ]
  },
  {
   "cell_type": "markdown",
   "id": "b94225f4",
   "metadata": {},
   "source": [
    "date time module offers \n",
    "\n",
    "1. date\n",
    "2. time\n",
    "3. datetime\n",
    "4. timedelta\n",
    "\n",
    "all the obejctes are immutable, meance once created will not be changed you can munupulate and create new object"
   ]
  },
  {
   "cell_type": "markdown",
   "id": "4a123c1f",
   "metadata": {},
   "source": [
    "###### date"
   ]
  },
  {
   "cell_type": "code",
   "execution_count": 1,
   "id": "12ad9543",
   "metadata": {},
   "outputs": [],
   "source": [
    "from datetime import date"
   ]
  },
  {
   "cell_type": "code",
   "execution_count": 7,
   "id": "47ac0834",
   "metadata": {},
   "outputs": [
    {
     "name": "stdout",
     "output_type": "stream",
     "text": [
      "1990-08-21\n"
     ]
    }
   ],
   "source": [
    "dob = date(1990,8,21) # year, month, date\n",
    "print(dob)"
   ]
  },
  {
   "cell_type": "code",
   "execution_count": 9,
   "id": "7826ce22",
   "metadata": {},
   "outputs": [
    {
     "data": {
      "text/plain": [
       "datetime.date(1990, 3, 31)"
      ]
     },
     "execution_count": 9,
     "metadata": {},
     "output_type": "execute_result"
    }
   ],
   "source": [
    "date(1990,3,31)"
   ]
  },
  {
   "cell_type": "code",
   "execution_count": 10,
   "id": "b6c33c15",
   "metadata": {},
   "outputs": [
    {
     "data": {
      "text/plain": [
       "datetime.date(2024, 9, 19)"
      ]
     },
     "execution_count": 10,
     "metadata": {},
     "output_type": "execute_result"
    }
   ],
   "source": [
    "date.today()"
   ]
  },
  {
   "cell_type": "code",
   "execution_count": 11,
   "id": "ec2c06d4",
   "metadata": {},
   "outputs": [
    {
     "data": {
      "text/plain": [
       "21"
      ]
     },
     "execution_count": 11,
     "metadata": {},
     "output_type": "execute_result"
    }
   ],
   "source": [
    "dob.day"
   ]
  },
  {
   "cell_type": "code",
   "execution_count": 12,
   "id": "2afa7378",
   "metadata": {},
   "outputs": [
    {
     "data": {
      "text/plain": [
       "8"
      ]
     },
     "execution_count": 12,
     "metadata": {},
     "output_type": "execute_result"
    }
   ],
   "source": [
    "dob.month"
   ]
  },
  {
   "cell_type": "code",
   "execution_count": 13,
   "id": "f59d374b",
   "metadata": {},
   "outputs": [
    {
     "data": {
      "text/plain": [
       "1990"
      ]
     },
     "execution_count": 13,
     "metadata": {},
     "output_type": "execute_result"
    }
   ],
   "source": [
    "dob.year"
   ]
  },
  {
   "cell_type": "code",
   "execution_count": 15,
   "id": "fc91b884",
   "metadata": {},
   "outputs": [
    {
     "data": {
      "text/plain": [
       "'Tuesday 21 - August 1990'"
      ]
     },
     "execution_count": 15,
     "metadata": {},
     "output_type": "execute_result"
    }
   ],
   "source": [
    "dob.strftime(\"%A %d - %B %Y\")"
   ]
  },
  {
   "cell_type": "code",
   "execution_count": 23,
   "id": "ce12ad20",
   "metadata": {},
   "outputs": [
    {
     "data": {
      "text/plain": [
       "'00:00:00'"
      ]
     },
     "execution_count": 23,
     "metadata": {},
     "output_type": "execute_result"
    }
   ],
   "source": [
    "dob.strftime(\"%T\")"
   ]
  },
  {
   "cell_type": "code",
   "execution_count": 24,
   "id": "bccecdd3",
   "metadata": {},
   "outputs": [
    {
     "data": {
      "text/plain": [
       "datetime.date(2024, 9, 19)"
      ]
     },
     "execution_count": 24,
     "metadata": {},
     "output_type": "execute_result"
    }
   ],
   "source": [
    "dob.today()"
   ]
  },
  {
   "cell_type": "markdown",
   "id": "484aa08f",
   "metadata": {},
   "source": [
    "###### time"
   ]
  },
  {
   "cell_type": "code",
   "execution_count": 25,
   "id": "47bab8b4",
   "metadata": {},
   "outputs": [],
   "source": [
    "from datetime import time"
   ]
  },
  {
   "cell_type": "code",
   "execution_count": 26,
   "id": "1961c999",
   "metadata": {},
   "outputs": [],
   "source": [
    "meet = time(11,33,55,88) # h,min,sec,micsec"
   ]
  },
  {
   "cell_type": "code",
   "execution_count": 27,
   "id": "4f96422a",
   "metadata": {},
   "outputs": [
    {
     "data": {
      "text/plain": [
       "datetime.time(11, 33, 55, 88)"
      ]
     },
     "execution_count": 27,
     "metadata": {},
     "output_type": "execute_result"
    }
   ],
   "source": [
    "meet"
   ]
  },
  {
   "cell_type": "code",
   "execution_count": 28,
   "id": "bd843ee8",
   "metadata": {},
   "outputs": [
    {
     "name": "stdout",
     "output_type": "stream",
     "text": [
      "11:33:55.000088\n"
     ]
    }
   ],
   "source": [
    "print(meet)"
   ]
  },
  {
   "cell_type": "code",
   "execution_count": 30,
   "id": "fc3102b7",
   "metadata": {},
   "outputs": [
    {
     "data": {
      "text/plain": [
       "(11, 33, 55, 88)"
      ]
     },
     "execution_count": 30,
     "metadata": {},
     "output_type": "execute_result"
    }
   ],
   "source": [
    "meet.hour, meet.minute, meet.second, meet.microsecond"
   ]
  },
  {
   "cell_type": "markdown",
   "id": "3c8b0e6c",
   "metadata": {},
   "source": [
    "###### datetime"
   ]
  },
  {
   "cell_type": "code",
   "execution_count": 31,
   "id": "54f10be2",
   "metadata": {},
   "outputs": [],
   "source": [
    "from datetime import datetime"
   ]
  },
  {
   "cell_type": "code",
   "execution_count": 32,
   "id": "c3101f22",
   "metadata": {},
   "outputs": [],
   "source": [
    "dob_time = datetime(1988,11,27,6, 45, 50,999999)\n",
    "# date, month, date, hour, minute, second, microsecond"
   ]
  },
  {
   "cell_type": "code",
   "execution_count": 33,
   "id": "253bee55",
   "metadata": {},
   "outputs": [
    {
     "name": "stdout",
     "output_type": "stream",
     "text": [
      "1988-11-27 06:45:50.999999\n"
     ]
    }
   ],
   "source": [
    "print(dob_time)"
   ]
  },
  {
   "cell_type": "code",
   "execution_count": 34,
   "id": "cce9b4a4",
   "metadata": {},
   "outputs": [
    {
     "data": {
      "text/plain": [
       "6"
      ]
     },
     "execution_count": 34,
     "metadata": {},
     "output_type": "execute_result"
    }
   ],
   "source": [
    "dob_time.hour"
   ]
  },
  {
   "cell_type": "code",
   "execution_count": 36,
   "id": "8b5771e9",
   "metadata": {},
   "outputs": [
    {
     "data": {
      "text/plain": [
       "45"
      ]
     },
     "execution_count": 36,
     "metadata": {},
     "output_type": "execute_result"
    }
   ],
   "source": [
    "dob_time.minute"
   ]
  },
  {
   "cell_type": "code",
   "execution_count": 37,
   "id": "e111390b",
   "metadata": {},
   "outputs": [
    {
     "data": {
      "text/plain": [
       "27"
      ]
     },
     "execution_count": 37,
     "metadata": {},
     "output_type": "execute_result"
    }
   ],
   "source": [
    "dob_time.day"
   ]
  },
  {
   "cell_type": "code",
   "execution_count": 38,
   "id": "25f4c1ee",
   "metadata": {},
   "outputs": [
    {
     "data": {
      "text/plain": [
       "50"
      ]
     },
     "execution_count": 38,
     "metadata": {},
     "output_type": "execute_result"
    }
   ],
   "source": [
    "dob_time.second"
   ]
  },
  {
   "cell_type": "markdown",
   "id": "13e630fe",
   "metadata": {},
   "source": [
    "###### timedelta\n",
    "\n",
    "weeks, days, hours, minutes, seconds, microseconds, milliseconds"
   ]
  },
  {
   "cell_type": "code",
   "execution_count": 39,
   "id": "72219f13",
   "metadata": {},
   "outputs": [],
   "source": [
    "from datetime import timedelta"
   ]
  },
  {
   "cell_type": "code",
   "execution_count": 41,
   "id": "772cb08c",
   "metadata": {},
   "outputs": [],
   "source": [
    "duration = timedelta(days=2, hours=3, minutes=45)"
   ]
  },
  {
   "cell_type": "code",
   "execution_count": 42,
   "id": "0dfa5257",
   "metadata": {},
   "outputs": [
    {
     "name": "stdout",
     "output_type": "stream",
     "text": [
      "2 days, 3:45:00\n"
     ]
    }
   ],
   "source": [
    "print(duration)"
   ]
  },
  {
   "cell_type": "code",
   "execution_count": 44,
   "id": "4512d70a",
   "metadata": {},
   "outputs": [],
   "source": [
    "my_dob = datetime(1991, 5, 17)\n",
    "your_dob = datetime(1990, 8, 21)"
   ]
  },
  {
   "cell_type": "code",
   "execution_count": 46,
   "id": "2a642553",
   "metadata": {},
   "outputs": [],
   "source": [
    "# my_dob + your_dob  > TypeError: unsupported operand type(s) for +: 'datetime.datetime"
   ]
  },
  {
   "cell_type": "code",
   "execution_count": 47,
   "id": "0ee04c9e",
   "metadata": {},
   "outputs": [
    {
     "data": {
      "text/plain": [
       "datetime.timedelta(days=269)"
      ]
     },
     "execution_count": 47,
     "metadata": {},
     "output_type": "execute_result"
    }
   ],
   "source": [
    "my_dob - your_dob"
   ]
  },
  {
   "cell_type": "code",
   "execution_count": 48,
   "id": "d46e02bf",
   "metadata": {},
   "outputs": [],
   "source": [
    "duration = timedelta(days=2)"
   ]
  },
  {
   "cell_type": "code",
   "execution_count": 51,
   "id": "73d902a3",
   "metadata": {},
   "outputs": [
    {
     "name": "stdout",
     "output_type": "stream",
     "text": [
      "2 days, 0:00:00\n"
     ]
    }
   ],
   "source": [
    "print(duration)"
   ]
  },
  {
   "cell_type": "code",
   "execution_count": 54,
   "id": "84aeb257",
   "metadata": {},
   "outputs": [
    {
     "data": {
      "text/plain": [
       "datetime.datetime(1991, 5, 17, 0, 0)"
      ]
     },
     "execution_count": 54,
     "metadata": {},
     "output_type": "execute_result"
    }
   ],
   "source": [
    "my_dob"
   ]
  },
  {
   "cell_type": "code",
   "execution_count": 53,
   "id": "ddd2c571",
   "metadata": {},
   "outputs": [
    {
     "data": {
      "text/plain": [
       "datetime.datetime(1991, 5, 19, 0, 0)"
      ]
     },
     "execution_count": 53,
     "metadata": {},
     "output_type": "execute_result"
    }
   ],
   "source": [
    "my_dob + duration"
   ]
  },
  {
   "cell_type": "code",
   "execution_count": 55,
   "id": "2abc19ad",
   "metadata": {},
   "outputs": [],
   "source": [
    "# subtract some thing\n",
    "\n",
    "duration = timedelta(hours=1,seconds=15)"
   ]
  },
  {
   "cell_type": "code",
   "execution_count": 56,
   "id": "09f58328",
   "metadata": {},
   "outputs": [
    {
     "data": {
      "text/plain": [
       "datetime.datetime(1991, 5, 17, 0, 0)"
      ]
     },
     "execution_count": 56,
     "metadata": {},
     "output_type": "execute_result"
    }
   ],
   "source": [
    "my_dob"
   ]
  },
  {
   "cell_type": "code",
   "execution_count": 57,
   "id": "65268fe9",
   "metadata": {},
   "outputs": [
    {
     "data": {
      "text/plain": [
       "datetime.datetime(1991, 5, 16, 22, 59, 45)"
      ]
     },
     "execution_count": 57,
     "metadata": {},
     "output_type": "execute_result"
    }
   ],
   "source": [
    "my_dob-duration"
   ]
  },
  {
   "cell_type": "markdown",
   "id": "6481ebfd",
   "metadata": {},
   "source": [
    "    datetime + datetime = not allowed\n",
    "    datetime - datetime = datetime\n",
    "    datetime + timedelta = datetime\n",
    "    datetime - timedelta = datetime \n"
   ]
  },
  {
   "cell_type": "code",
   "execution_count": 58,
   "id": "4a81a1b9",
   "metadata": {},
   "outputs": [],
   "source": [
    "my_time = time(8,15,10)\n",
    "your_time = time(11, 33, 48)"
   ]
  },
  {
   "cell_type": "code",
   "execution_count": 59,
   "id": "aa8aa265",
   "metadata": {},
   "outputs": [
    {
     "name": "stdout",
     "output_type": "stream",
     "text": [
      "08:15:10\n"
     ]
    }
   ],
   "source": [
    "print(my_time)"
   ]
  },
  {
   "cell_type": "code",
   "execution_count": 60,
   "id": "3f1a4e1a",
   "metadata": {},
   "outputs": [
    {
     "name": "stdout",
     "output_type": "stream",
     "text": [
      "11:33:48\n"
     ]
    }
   ],
   "source": [
    "print(your_time)"
   ]
  },
  {
   "cell_type": "code",
   "execution_count": 62,
   "id": "805fded1",
   "metadata": {},
   "outputs": [],
   "source": [
    "# my_time - your_time > TypeError: unsupported operand type(s) for -: 'datetime.time'"
   ]
  },
  {
   "cell_type": "code",
   "execution_count": 63,
   "id": "e6af1978",
   "metadata": {},
   "outputs": [],
   "source": [
    "my_time = time(10,0)\n",
    "duration = timedelta(hours =1)\n"
   ]
  },
  {
   "cell_type": "code",
   "execution_count": 65,
   "id": "120dca2d",
   "metadata": {},
   "outputs": [],
   "source": [
    "# my_time-duration > not supported"
   ]
  },
  {
   "cell_type": "markdown",
   "id": "09bb0752",
   "metadata": {},
   "source": [
    "python does not support any arithmatic opeartion related to time, because time does not any sense with day\n",
    "\n",
    "    time + timedelta = Not allowed\n",
    "    time - timedelta = Not allowed\n",
    "    time + time = Not allowed\n",
    "    time - time = Not allowed"
   ]
  },
  {
   "cell_type": "raw",
   "id": "43638c31",
   "metadata": {},
   "source": [
    "date but no time > date()\n",
    "date and time > datetime()"
   ]
  }
 ],
 "metadata": {
  "kernelspec": {
   "display_name": "Python 3 (ipykernel)",
   "language": "python",
   "name": "python3"
  },
  "language_info": {
   "codemirror_mode": {
    "name": "ipython",
    "version": 3
   },
   "file_extension": ".py",
   "mimetype": "text/x-python",
   "name": "python",
   "nbconvert_exporter": "python",
   "pygments_lexer": "ipython3",
   "version": "3.12.0"
  }
 },
 "nbformat": 4,
 "nbformat_minor": 5
}
