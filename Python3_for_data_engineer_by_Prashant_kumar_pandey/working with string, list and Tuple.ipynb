{
 "cells": [
  {
   "cell_type": "markdown",
   "id": "44ee5ede",
   "metadata": {},
   "source": [
    "# Working with string"
   ]
  },
  {
   "cell_type": "markdown",
   "id": "af173654",
   "metadata": {},
   "source": [
    "### 1. String Literals"
   ]
  },
  {
   "cell_type": "code",
   "execution_count": 3,
   "id": "2efb7f58",
   "metadata": {},
   "outputs": [
    {
     "name": "stdout",
     "output_type": "stream",
     "text": [
      "Limit your \"Always\" AND \"Nevers.\"\n",
      "Thime isn't the main thing. It's the only thing\n"
     ]
    }
   ],
   "source": [
    "quote1 = 'Limit your \"Always\" AND \"Nevers.\"'\n",
    "quote2 = \"Thime isn't the main thing. It's the only thing\"\n",
    "print(quote1)\n",
    "print(quote2)"
   ]
  },
  {
   "cell_type": "code",
   "execution_count": 5,
   "id": "3888b2e9",
   "metadata": {},
   "outputs": [
    {
     "name": "stdout",
     "output_type": "stream",
     "text": [
      "Hi!\n",
      "      How are you doing today?\n",
      "when can we meet?\n"
     ]
    }
   ],
   "source": [
    "msg = \"\"\"Hi!\n",
    "      How are you doing today?\n",
    "when can we meet?\"\"\"\n",
    "print(msg)"
   ]
  },
  {
   "cell_type": "code",
   "execution_count": 6,
   "id": "22698d1c",
   "metadata": {},
   "outputs": [
    {
     "data": {
      "text/plain": [
       "\"Don't run\""
      ]
     },
     "execution_count": 6,
     "metadata": {},
     "output_type": "execute_result"
    }
   ],
   "source": [
    "'Don\\'t run'"
   ]
  },
  {
   "cell_type": "code",
   "execution_count": 8,
   "id": "060b6937",
   "metadata": {},
   "outputs": [],
   "source": [
    "# 'don't run' >> syntax error"
   ]
  },
  {
   "cell_type": "code",
   "execution_count": 9,
   "id": "c8ec4cad",
   "metadata": {},
   "outputs": [
    {
     "name": "stdout",
     "output_type": "stream",
     "text": [
      "Hi\n",
      "How are you doing today?\n",
      "See you at:\t10:00 AM\n"
     ]
    }
   ],
   "source": [
    "msg = \"Hi\\nHow are you doing today?\\nSee you at:\\t10:00 AM\"\n",
    "print(msg)"
   ]
  },
  {
   "cell_type": "markdown",
   "id": "905def0f",
   "metadata": {},
   "source": [
    "### 2. String Functions"
   ]
  },
  {
   "cell_type": "code",
   "execution_count": 10,
   "id": "5983765d",
   "metadata": {},
   "outputs": [],
   "source": [
    "name = \"Learning Journel\""
   ]
  },
  {
   "cell_type": "code",
   "execution_count": 11,
   "id": "63dce372",
   "metadata": {},
   "outputs": [
    {
     "data": {
      "text/plain": [
       "['Learning', 'Journel']"
      ]
     },
     "execution_count": 11,
     "metadata": {},
     "output_type": "execute_result"
    }
   ],
   "source": [
    "name.split()"
   ]
  },
  {
   "cell_type": "code",
   "execution_count": 13,
   "id": "79f50305",
   "metadata": {},
   "outputs": [],
   "source": [
    "name = \"Big Data, Machine Learning, Artificial Intelligence\""
   ]
  },
  {
   "cell_type": "code",
   "execution_count": 14,
   "id": "953bf517",
   "metadata": {},
   "outputs": [
    {
     "data": {
      "text/plain": [
       "['Big Data', ' Machine Learning', ' Artificial Intelligence']"
      ]
     },
     "execution_count": 14,
     "metadata": {},
     "output_type": "execute_result"
    }
   ],
   "source": [
    "name.split(',')"
   ]
  },
  {
   "cell_type": "code",
   "execution_count": 18,
   "id": "6f939fe7",
   "metadata": {},
   "outputs": [],
   "source": [
    "namelist = [\"Big Data\", \"Machine Learning\", \"Artificial Intelligence\"]"
   ]
  },
  {
   "cell_type": "code",
   "execution_count": 19,
   "id": "0bbc5def",
   "metadata": {},
   "outputs": [
    {
     "data": {
      "text/plain": [
       "['Big Data', 'Machine Learning', 'Artificial Intelligence']"
      ]
     },
     "execution_count": 19,
     "metadata": {},
     "output_type": "execute_result"
    }
   ],
   "source": [
    "namelist"
   ]
  },
  {
   "cell_type": "code",
   "execution_count": 21,
   "id": "cd188fc9",
   "metadata": {},
   "outputs": [
    {
     "name": "stdout",
     "output_type": "stream",
     "text": [
      "Big Data,Machine Learning,Artificial Intelligence\n"
     ]
    }
   ],
   "source": [
    "namestring = ','.join(namelist)\n",
    "print(namestring)"
   ]
  },
  {
   "cell_type": "code",
   "execution_count": 22,
   "id": "a371757e",
   "metadata": {},
   "outputs": [
    {
     "name": "stdout",
     "output_type": "stream",
     "text": [
      "Hey there! I am going to the zoo.\n",
      "Hey there! I am going to the park.\n"
     ]
    }
   ],
   "source": [
    "msg ='Hey there! I am going to the park.'\n",
    "print(msg.replace('park','zoo'))\n",
    "print(msg)"
   ]
  },
  {
   "cell_type": "code",
   "execution_count": 23,
   "id": "7ce713c0",
   "metadata": {},
   "outputs": [],
   "source": [
    "name = \"    Learning Journel    \""
   ]
  },
  {
   "cell_type": "code",
   "execution_count": 24,
   "id": "4cd716a5",
   "metadata": {},
   "outputs": [
    {
     "data": {
      "text/plain": [
       "'Learning Journel'"
      ]
     },
     "execution_count": 24,
     "metadata": {},
     "output_type": "execute_result"
    }
   ],
   "source": [
    "name.strip()"
   ]
  },
  {
   "cell_type": "code",
   "execution_count": 25,
   "id": "c6525933",
   "metadata": {},
   "outputs": [
    {
     "data": {
      "text/plain": [
       "'    Learning Journel'"
      ]
     },
     "execution_count": 25,
     "metadata": {},
     "output_type": "execute_result"
    }
   ],
   "source": [
    "name.rstrip()"
   ]
  },
  {
   "cell_type": "code",
   "execution_count": 26,
   "id": "db28db4c",
   "metadata": {},
   "outputs": [
    {
     "data": {
      "text/plain": [
       "'Learning Journel    '"
      ]
     },
     "execution_count": 26,
     "metadata": {},
     "output_type": "execute_result"
    }
   ],
   "source": [
    "name.lstrip()"
   ]
  },
  {
   "cell_type": "markdown",
   "id": "aad0fb7c",
   "metadata": {},
   "source": [
    "### 3. String Formatting"
   ]
  },
  {
   "cell_type": "code",
   "execution_count": 27,
   "id": "561bd34b",
   "metadata": {},
   "outputs": [],
   "source": [
    "name = \"John\"\n",
    "age = \"25\""
   ]
  },
  {
   "cell_type": "code",
   "execution_count": 28,
   "id": "0f750dc2",
   "metadata": {},
   "outputs": [
    {
     "name": "stdout",
     "output_type": "stream",
     "text": [
      "Hey! It's John, and I am 25 years old.\n"
     ]
    }
   ],
   "source": [
    "info = \"Hey! It's \" + name + \", and I am \" + age + \" years old.\"\n",
    "print(info)"
   ]
  },
  {
   "cell_type": "code",
   "execution_count": 29,
   "id": "6a59c8e7",
   "metadata": {},
   "outputs": [
    {
     "name": "stdout",
     "output_type": "stream",
     "text": [
      "Hey! It's John, and I am 25 years old.\n"
     ]
    }
   ],
   "source": [
    "info = \"Hey! It's {}, and I am {} years old.\".format(name,age)\n",
    "print(info)"
   ]
  },
  {
   "cell_type": "code",
   "execution_count": 30,
   "id": "212c1c01",
   "metadata": {},
   "outputs": [
    {
     "name": "stdout",
     "output_type": "stream",
     "text": [
      "Hey! It's John, and I am 25 years old.\n"
     ]
    }
   ],
   "source": [
    "info = f\"Hey! It's {name}, and I am {age} years old.\"\n",
    "print(info)"
   ]
  },
  {
   "cell_type": "markdown",
   "id": "327f3a7e",
   "metadata": {},
   "source": [
    "# Working with List and Tuple"
   ]
  },
  {
   "cell_type": "code",
   "execution_count": 32,
   "id": "f1f8e719",
   "metadata": {},
   "outputs": [
    {
     "name": "stdout",
     "output_type": "stream",
     "text": [
      "('Big Data', 'Machine Learning')\n",
      "['Artificial Intelligence', 'Data Analytics']\n"
     ]
    }
   ],
   "source": [
    "myTuple = ('Big Data', 'Machine Learning')\n",
    "myList = ['Artificial Intelligence', 'Data Analytics']\n",
    "print(myTuple)\n",
    "print(myList)"
   ]
  },
  {
   "cell_type": "code",
   "execution_count": 33,
   "id": "1c62fbd8",
   "metadata": {},
   "outputs": [],
   "source": [
    "# we can mix different types of elements"
   ]
  },
  {
   "cell_type": "code",
   "execution_count": 34,
   "id": "d5c1b574",
   "metadata": {},
   "outputs": [
    {
     "name": "stdout",
     "output_type": "stream",
     "text": [
      "['A', 'B', 2, 2.8]\n"
     ]
    }
   ],
   "source": [
    "myList2 = [\"A\",\"B\", 2, 2.8]\n",
    "print(myList2)"
   ]
  },
  {
   "cell_type": "code",
   "execution_count": 35,
   "id": "2e76c0f4",
   "metadata": {},
   "outputs": [],
   "source": [
    "myList2.append('Data Science')"
   ]
  },
  {
   "cell_type": "code",
   "execution_count": 36,
   "id": "7691e33c",
   "metadata": {},
   "outputs": [
    {
     "name": "stdout",
     "output_type": "stream",
     "text": [
      "['A', 'B', 2, 2.8, 'Data Science']\n"
     ]
    }
   ],
   "source": [
    "print(myList2)"
   ]
  },
  {
   "cell_type": "code",
   "execution_count": 37,
   "id": "78c00fe3",
   "metadata": {},
   "outputs": [
    {
     "data": {
      "text/plain": [
       "('Big Data', 'Machine Learning')"
      ]
     },
     "execution_count": 37,
     "metadata": {},
     "output_type": "execute_result"
    }
   ],
   "source": [
    "myTuple"
   ]
  },
  {
   "cell_type": "code",
   "execution_count": 39,
   "id": "204de500",
   "metadata": {},
   "outputs": [],
   "source": [
    "# myTuple.append(\"a\") > AttributeError"
   ]
  },
  {
   "cell_type": "code",
   "execution_count": 40,
   "id": "4260ce17",
   "metadata": {},
   "outputs": [
    {
     "data": {
      "text/plain": [
       "(['Artificial Intelligence', 'Data Analytics'],\n",
       " ('Big Data', 'Machine Learning'))"
      ]
     },
     "execution_count": 40,
     "metadata": {},
     "output_type": "execute_result"
    }
   ],
   "source": [
    "myList, myTuple"
   ]
  },
  {
   "cell_type": "code",
   "execution_count": 41,
   "id": "51dd953f",
   "metadata": {},
   "outputs": [
    {
     "name": "stdout",
     "output_type": "stream",
     "text": [
      "2\n",
      "2\n"
     ]
    }
   ],
   "source": [
    "print(len(myTuple))\n",
    "print(len(myList))"
   ]
  },
  {
   "cell_type": "code",
   "execution_count": 42,
   "id": "d94c8096",
   "metadata": {},
   "outputs": [
    {
     "name": "stdout",
     "output_type": "stream",
     "text": [
      "48\n",
      "1\n",
      "52\n",
      "7\n"
     ]
    }
   ],
   "source": [
    "list1 = [23,48,1, 17]\n",
    "tuple1 = (25, 52, 7, 12)\n",
    "print(max(list1))\n",
    "print(min(list1))\n",
    "print(max(tuple1))\n",
    "print(min(tuple1))"
   ]
  },
  {
   "cell_type": "code",
   "execution_count": 43,
   "id": "1f19b99d",
   "metadata": {},
   "outputs": [
    {
     "data": {
      "text/plain": [
       "17"
      ]
     },
     "execution_count": 43,
     "metadata": {},
     "output_type": "execute_result"
    }
   ],
   "source": [
    "list1.pop()"
   ]
  },
  {
   "cell_type": "code",
   "execution_count": 44,
   "id": "f70bcdcc",
   "metadata": {},
   "outputs": [
    {
     "data": {
      "text/plain": [
       "[23, 48, 1]"
      ]
     },
     "execution_count": 44,
     "metadata": {},
     "output_type": "execute_result"
    }
   ],
   "source": [
    "list1"
   ]
  },
  {
   "cell_type": "code",
   "execution_count": 45,
   "id": "15bfdc42",
   "metadata": {},
   "outputs": [],
   "source": [
    "list1.append(8)"
   ]
  },
  {
   "cell_type": "code",
   "execution_count": 46,
   "id": "ca2b517a",
   "metadata": {},
   "outputs": [
    {
     "data": {
      "text/plain": [
       "[23, 48, 1, 8]"
      ]
     },
     "execution_count": 46,
     "metadata": {},
     "output_type": "execute_result"
    }
   ],
   "source": [
    "list1"
   ]
  },
  {
   "cell_type": "code",
   "execution_count": 47,
   "id": "f9300a45",
   "metadata": {},
   "outputs": [],
   "source": [
    "list1.insert(0,11)"
   ]
  },
  {
   "cell_type": "code",
   "execution_count": 48,
   "id": "6f1e4ec4",
   "metadata": {},
   "outputs": [
    {
     "data": {
      "text/plain": [
       "[11, 23, 48, 1, 8]"
      ]
     },
     "execution_count": 48,
     "metadata": {},
     "output_type": "execute_result"
    }
   ],
   "source": [
    "list1"
   ]
  },
  {
   "cell_type": "markdown",
   "id": "8cf1b9d3",
   "metadata": {},
   "source": [
    "# Loops, Range and List Comprehension"
   ]
  },
  {
   "cell_type": "markdown",
   "id": "f5de690d",
   "metadata": {},
   "source": [
    "1. while loop\n",
    "2. For loop\n",
    "3. list comprehension"
   ]
  },
  {
   "cell_type": "code",
   "execution_count": 49,
   "id": "21de1afc",
   "metadata": {},
   "outputs": [
    {
     "name": "stdout",
     "output_type": "stream",
     "text": [
      "0\n",
      "1\n",
      "2\n",
      "3\n",
      "4\n"
     ]
    }
   ],
   "source": [
    "a=0\n",
    "while a<5:\n",
    "    print(a)\n",
    "    a+=1"
   ]
  },
  {
   "cell_type": "code",
   "execution_count": 50,
   "id": "95c34147",
   "metadata": {},
   "outputs": [],
   "source": [
    "# break and continue statatement"
   ]
  },
  {
   "cell_type": "code",
   "execution_count": 54,
   "id": "b9e779b2",
   "metadata": {},
   "outputs": [
    {
     "name": "stdout",
     "output_type": "stream",
     "text": [
      "L\n",
      "e\n",
      "a\n",
      "r\n",
      "n\n",
      "i\n",
      "n\n",
      "g\n",
      " \n",
      "Outside while loop\n"
     ]
    }
   ],
   "source": [
    "name = \"Learning Journel\"\n",
    "i =0\n",
    "\n",
    "while True:\n",
    "    if name[i] == 'J':\n",
    "        break\n",
    "    print(name[i])\n",
    "    i+=1\n",
    "    \n",
    "print(\"Outside while loop\")"
   ]
  },
  {
   "cell_type": "code",
   "execution_count": 55,
   "id": "9ba6fae0",
   "metadata": {},
   "outputs": [
    {
     "name": "stdout",
     "output_type": "stream",
     "text": [
      "4\n",
      "3\n",
      "Continue opeartion done\n",
      "1\n",
      "0\n",
      "outside the while loop\n"
     ]
    }
   ],
   "source": [
    "num = 5\n",
    "\n",
    "while num>0:\n",
    "    num-=1\n",
    "    if num == 2:\n",
    "        print('Continue opeartion done')\n",
    "        continue\n",
    "    print(num)\n",
    "print('outside the while loop')"
   ]
  },
  {
   "cell_type": "code",
   "execution_count": 56,
   "id": "f2496b5a",
   "metadata": {},
   "outputs": [
    {
     "name": "stdout",
     "output_type": "stream",
     "text": [
      "eggs\n",
      "milk\n",
      "bread\n",
      "veggies\n"
     ]
    }
   ],
   "source": [
    "grocery_list = ['eggs', 'milk', 'bread','veggies']\n",
    "\n",
    "for food in grocery_list:\n",
    "    print(food)"
   ]
  },
  {
   "cell_type": "code",
   "execution_count": 57,
   "id": "cf6973a5",
   "metadata": {},
   "outputs": [],
   "source": [
    "myRange = range(10)"
   ]
  },
  {
   "cell_type": "code",
   "execution_count": 58,
   "id": "132db776",
   "metadata": {},
   "outputs": [
    {
     "name": "stdout",
     "output_type": "stream",
     "text": [
      "range(0, 10)\n"
     ]
    }
   ],
   "source": [
    "print(myRange)"
   ]
  },
  {
   "cell_type": "code",
   "execution_count": 59,
   "id": "2985a942",
   "metadata": {},
   "outputs": [
    {
     "name": "stdout",
     "output_type": "stream",
     "text": [
      "0\n",
      "1\n",
      "2\n",
      "3\n",
      "4\n",
      "5\n",
      "6\n",
      "7\n",
      "8\n",
      "9\n"
     ]
    }
   ],
   "source": [
    "for i in myRange:\n",
    "    print(i)"
   ]
  },
  {
   "cell_type": "code",
   "execution_count": 60,
   "id": "a9a10ede",
   "metadata": {},
   "outputs": [
    {
     "name": "stdout",
     "output_type": "stream",
     "text": [
      "5\n",
      "6\n",
      "7\n",
      "8\n",
      "9\n"
     ]
    }
   ],
   "source": [
    "for i in range(5, 10):\n",
    "    print(i)"
   ]
  },
  {
   "cell_type": "code",
   "execution_count": 62,
   "id": "614dc148",
   "metadata": {},
   "outputs": [
    {
     "name": "stdout",
     "output_type": "stream",
     "text": [
      "5\n",
      "7\n",
      "9\n",
      "11\n",
      "13\n"
     ]
    }
   ],
   "source": [
    "for i in range(5, 15, 2):\n",
    "    print(i)"
   ]
  },
  {
   "cell_type": "code",
   "execution_count": 63,
   "id": "135fc58f",
   "metadata": {},
   "outputs": [
    {
     "name": "stdout",
     "output_type": "stream",
     "text": [
      "15\n",
      "13\n",
      "11\n",
      "9\n",
      "7\n"
     ]
    }
   ],
   "source": [
    "for i in range(15,5,-2):\n",
    "    print(i)"
   ]
  },
  {
   "cell_type": "code",
   "execution_count": 64,
   "id": "9e26d0b6",
   "metadata": {},
   "outputs": [],
   "source": [
    "rectangles = [(15,10), (3,5), (5,6)]"
   ]
  },
  {
   "cell_type": "code",
   "execution_count": 65,
   "id": "308ee9e9",
   "metadata": {},
   "outputs": [],
   "source": [
    "areas = [150, 15, 30]"
   ]
  },
  {
   "cell_type": "code",
   "execution_count": 66,
   "id": "7d6ec6e7",
   "metadata": {},
   "outputs": [],
   "source": [
    "rectangle_areas = [(15, 10, 150), (3,5,15),(5,6,30)]"
   ]
  },
  {
   "cell_type": "code",
   "execution_count": 67,
   "id": "d91ffb64",
   "metadata": {},
   "outputs": [
    {
     "name": "stdout",
     "output_type": "stream",
     "text": [
      "[150, 15, 30]\n"
     ]
    }
   ],
   "source": [
    "# Traditional approch\n",
    "areas = []\n",
    "\n",
    "for (x,y) in rectangles:\n",
    "    areas.append(x*y)\n",
    "    \n",
    "print(areas)\n",
    "    "
   ]
  },
  {
   "cell_type": "code",
   "execution_count": 69,
   "id": "b86280cc",
   "metadata": {},
   "outputs": [
    {
     "data": {
      "text/plain": [
       "[(15, 10), (3, 5), (5, 6)]"
      ]
     },
     "execution_count": 69,
     "metadata": {},
     "output_type": "execute_result"
    }
   ],
   "source": [
    "rectangles"
   ]
  },
  {
   "cell_type": "code",
   "execution_count": 68,
   "id": "cca81f44",
   "metadata": {},
   "outputs": [
    {
     "name": "stdout",
     "output_type": "stream",
     "text": [
      "[150, 15, 30]\n",
      "[(15, 10, 150), (3, 5, 15), (5, 6, 30)]\n"
     ]
    }
   ],
   "source": [
    "areas = []\n",
    "rectangle_areas = []\n",
    "\n",
    "for (x,y) in rectangles:\n",
    "    areas.append(x*y)\n",
    "    rectangle_areas.append((x, y, x*y))\n",
    "    \n",
    "print(areas)\n",
    "print(rectangle_areas)"
   ]
  },
  {
   "cell_type": "code",
   "execution_count": 70,
   "id": "04375a21",
   "metadata": {},
   "outputs": [
    {
     "data": {
      "text/plain": [
       "[(15, 10), (3, 5), (5, 6)]"
      ]
     },
     "execution_count": 70,
     "metadata": {},
     "output_type": "execute_result"
    }
   ],
   "source": [
    "rectangles"
   ]
  },
  {
   "cell_type": "code",
   "execution_count": 71,
   "id": "89aa0826",
   "metadata": {},
   "outputs": [
    {
     "data": {
      "text/plain": [
       "[(15, 10, 150), (3, 5, 15), (5, 6, 30)]"
      ]
     },
     "execution_count": 71,
     "metadata": {},
     "output_type": "execute_result"
    }
   ],
   "source": [
    "rectangle_areas = [(x, y, x*y) for (x,y) in rectangles]\n",
    "rectangle_areas"
   ]
  },
  {
   "cell_type": "code",
   "execution_count": null,
   "id": "0b68524b",
   "metadata": {},
   "outputs": [],
   "source": []
  }
 ],
 "metadata": {
  "kernelspec": {
   "display_name": "Python 3 (ipykernel)",
   "language": "python",
   "name": "python3"
  },
  "language_info": {
   "codemirror_mode": {
    "name": "ipython",
    "version": 3
   },
   "file_extension": ".py",
   "mimetype": "text/x-python",
   "name": "python",
   "nbconvert_exporter": "python",
   "pygments_lexer": "ipython3",
   "version": "3.12.0"
  }
 },
 "nbformat": 4,
 "nbformat_minor": 5
}
