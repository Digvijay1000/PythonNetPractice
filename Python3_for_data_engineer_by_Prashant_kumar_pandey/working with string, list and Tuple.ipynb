{
 "cells": [
  {
   "cell_type": "markdown",
   "id": "ca9aacb3",
   "metadata": {},
   "source": [
    "# Working with string"
   ]
  },
  {
   "cell_type": "markdown",
   "id": "ece0c2b3",
   "metadata": {},
   "source": [
    "### 1. String Literals"
   ]
  },
  {
   "cell_type": "code",
   "execution_count": 3,
   "id": "27399488",
   "metadata": {},
   "outputs": [
    {
     "name": "stdout",
     "output_type": "stream",
     "text": [
      "Limit your \"Always\" AND \"Nevers.\"\n",
      "Thime isn't the main thing. It's the only thing\n"
     ]
    }
   ],
   "source": [
    "quote1 = 'Limit your \"Always\" AND \"Nevers.\"'\n",
    "quote2 = \"Thime isn't the main thing. It's the only thing\"\n",
    "print(quote1)\n",
    "print(quote2)"
   ]
  },
  {
   "cell_type": "code",
   "execution_count": 5,
   "id": "12389635",
   "metadata": {},
   "outputs": [
    {
     "name": "stdout",
     "output_type": "stream",
     "text": [
      "Hi!\n",
      "      How are you doing today?\n",
      "when can we meet?\n"
     ]
    }
   ],
   "source": [
    "msg = \"\"\"Hi!\n",
    "      How are you doing today?\n",
    "when can we meet?\"\"\"\n",
    "print(msg)"
   ]
  },
  {
   "cell_type": "code",
   "execution_count": 6,
   "id": "7ea1ce18",
   "metadata": {},
   "outputs": [
    {
     "data": {
      "text/plain": [
       "\"Don't run\""
      ]
     },
     "execution_count": 6,
     "metadata": {},
     "output_type": "execute_result"
    }
   ],
   "source": [
    "'Don\\'t run'"
   ]
  },
  {
   "cell_type": "code",
   "execution_count": 8,
   "id": "01a0063d",
   "metadata": {},
   "outputs": [],
   "source": [
    "# 'don't run' >> syntax error"
   ]
  },
  {
   "cell_type": "code",
   "execution_count": 9,
   "id": "ac349b2f",
   "metadata": {},
   "outputs": [
    {
     "name": "stdout",
     "output_type": "stream",
     "text": [
      "Hi\n",
      "How are you doing today?\n",
      "See you at:\t10:00 AM\n"
     ]
    }
   ],
   "source": [
    "msg = \"Hi\\nHow are you doing today?\\nSee you at:\\t10:00 AM\"\n",
    "print(msg)"
   ]
  },
  {
   "cell_type": "markdown",
   "id": "903d51fb",
   "metadata": {},
   "source": [
    "### 2. String Functions"
   ]
  },
  {
   "cell_type": "code",
   "execution_count": 10,
   "id": "e4d69766",
   "metadata": {},
   "outputs": [],
   "source": [
    "name = \"Learning Journel\""
   ]
  },
  {
   "cell_type": "code",
   "execution_count": 11,
   "id": "d2603f49",
   "metadata": {},
   "outputs": [
    {
     "data": {
      "text/plain": [
       "['Learning', 'Journel']"
      ]
     },
     "execution_count": 11,
     "metadata": {},
     "output_type": "execute_result"
    }
   ],
   "source": [
    "name.split()"
   ]
  },
  {
   "cell_type": "code",
   "execution_count": 13,
   "id": "34153297",
   "metadata": {},
   "outputs": [],
   "source": [
    "name = \"Big Data, Machine Learning, Artificial Intelligence\""
   ]
  },
  {
   "cell_type": "code",
   "execution_count": 14,
   "id": "13f068a2",
   "metadata": {},
   "outputs": [
    {
     "data": {
      "text/plain": [
       "['Big Data', ' Machine Learning', ' Artificial Intelligence']"
      ]
     },
     "execution_count": 14,
     "metadata": {},
     "output_type": "execute_result"
    }
   ],
   "source": [
    "name.split(',')"
   ]
  },
  {
   "cell_type": "code",
   "execution_count": 18,
   "id": "40ed4530",
   "metadata": {},
   "outputs": [],
   "source": [
    "namelist = [\"Big Data\", \"Machine Learning\", \"Artificial Intelligence\"]"
   ]
  },
  {
   "cell_type": "code",
   "execution_count": 19,
   "id": "f8feadd3",
   "metadata": {},
   "outputs": [
    {
     "data": {
      "text/plain": [
       "['Big Data', 'Machine Learning', 'Artificial Intelligence']"
      ]
     },
     "execution_count": 19,
     "metadata": {},
     "output_type": "execute_result"
    }
   ],
   "source": [
    "namelist"
   ]
  },
  {
   "cell_type": "code",
   "execution_count": 21,
   "id": "686eca0b",
   "metadata": {},
   "outputs": [
    {
     "name": "stdout",
     "output_type": "stream",
     "text": [
      "Big Data,Machine Learning,Artificial Intelligence\n"
     ]
    }
   ],
   "source": [
    "namestring = ','.join(namelist)\n",
    "print(namestring)"
   ]
  },
  {
   "cell_type": "code",
   "execution_count": 22,
   "id": "acef76ee",
   "metadata": {},
   "outputs": [
    {
     "name": "stdout",
     "output_type": "stream",
     "text": [
      "Hey there! I am going to the zoo.\n",
      "Hey there! I am going to the park.\n"
     ]
    }
   ],
   "source": [
    "msg ='Hey there! I am going to the park.'\n",
    "print(msg.replace('park','zoo'))\n",
    "print(msg)"
   ]
  },
  {
   "cell_type": "code",
   "execution_count": 23,
   "id": "6367c4c1",
   "metadata": {},
   "outputs": [],
   "source": [
    "name = \"    Learning Journel    \""
   ]
  },
  {
   "cell_type": "code",
   "execution_count": 24,
   "id": "4204db3b",
   "metadata": {},
   "outputs": [
    {
     "data": {
      "text/plain": [
       "'Learning Journel'"
      ]
     },
     "execution_count": 24,
     "metadata": {},
     "output_type": "execute_result"
    }
   ],
   "source": [
    "name.strip()"
   ]
  },
  {
   "cell_type": "code",
   "execution_count": 25,
   "id": "3a18007f",
   "metadata": {},
   "outputs": [
    {
     "data": {
      "text/plain": [
       "'    Learning Journel'"
      ]
     },
     "execution_count": 25,
     "metadata": {},
     "output_type": "execute_result"
    }
   ],
   "source": [
    "name.rstrip()"
   ]
  },
  {
   "cell_type": "code",
   "execution_count": 26,
   "id": "8e76852f",
   "metadata": {},
   "outputs": [
    {
     "data": {
      "text/plain": [
       "'Learning Journel    '"
      ]
     },
     "execution_count": 26,
     "metadata": {},
     "output_type": "execute_result"
    }
   ],
   "source": [
    "name.lstrip()"
   ]
  },
  {
   "cell_type": "markdown",
   "id": "f905ac62",
   "metadata": {},
   "source": [
    "### 3. String Formatting"
   ]
  },
  {
   "cell_type": "code",
   "execution_count": 27,
   "id": "12cda5c1",
   "metadata": {},
   "outputs": [],
   "source": [
    "name = \"John\"\n",
    "age = \"25\""
   ]
  },
  {
   "cell_type": "code",
   "execution_count": 28,
   "id": "b78cc27d",
   "metadata": {},
   "outputs": [
    {
     "name": "stdout",
     "output_type": "stream",
     "text": [
      "Hey! It's John, and I am 25 years old.\n"
     ]
    }
   ],
   "source": [
    "info = \"Hey! It's \" + name + \", and I am \" + age + \" years old.\"\n",
    "print(info)"
   ]
  },
  {
   "cell_type": "code",
   "execution_count": 29,
   "id": "c583db9c",
   "metadata": {},
   "outputs": [
    {
     "name": "stdout",
     "output_type": "stream",
     "text": [
      "Hey! It's John, and I am 25 years old.\n"
     ]
    }
   ],
   "source": [
    "info = \"Hey! It's {}, and I am {} years old.\".format(name,age)\n",
    "print(info)"
   ]
  },
  {
   "cell_type": "code",
   "execution_count": 30,
   "id": "b06a16c5",
   "metadata": {},
   "outputs": [
    {
     "name": "stdout",
     "output_type": "stream",
     "text": [
      "Hey! It's John, and I am 25 years old.\n"
     ]
    }
   ],
   "source": [
    "info = f\"Hey! It's {name}, and I am {age} years old.\"\n",
    "print(info)"
   ]
  },
  {
   "cell_type": "markdown",
   "id": "496fa4e9",
   "metadata": {},
   "source": [
    "# Working with List and Tuple"
   ]
  },
  {
   "cell_type": "code",
   "execution_count": 32,
   "id": "9a96a708",
   "metadata": {},
   "outputs": [
    {
     "name": "stdout",
     "output_type": "stream",
     "text": [
      "('Big Data', 'Machine Learning')\n",
      "['Artificial Intelligence', 'Data Analytics']\n"
     ]
    }
   ],
   "source": [
    "myTuple = ('Big Data', 'Machine Learning')\n",
    "myList = ['Artificial Intelligence', 'Data Analytics']\n",
    "print(myTuple)\n",
    "print(myList)"
   ]
  },
  {
   "cell_type": "code",
   "execution_count": 33,
   "id": "ff792f72",
   "metadata": {},
   "outputs": [],
   "source": [
    "# we can mix different types of elements"
   ]
  },
  {
   "cell_type": "code",
   "execution_count": 34,
   "id": "6f8624f4",
   "metadata": {},
   "outputs": [
    {
     "name": "stdout",
     "output_type": "stream",
     "text": [
      "['A', 'B', 2, 2.8]\n"
     ]
    }
   ],
   "source": [
    "myList2 = [\"A\",\"B\", 2, 2.8]\n",
    "print(myList2)"
   ]
  },
  {
   "cell_type": "code",
   "execution_count": 35,
   "id": "82a12eb9",
   "metadata": {},
   "outputs": [],
   "source": [
    "myList2.append('Data Science')"
   ]
  },
  {
   "cell_type": "code",
   "execution_count": 36,
   "id": "0fd6ca55",
   "metadata": {},
   "outputs": [
    {
     "name": "stdout",
     "output_type": "stream",
     "text": [
      "['A', 'B', 2, 2.8, 'Data Science']\n"
     ]
    }
   ],
   "source": [
    "print(myList2)"
   ]
  },
  {
   "cell_type": "code",
   "execution_count": 37,
   "id": "312a235d",
   "metadata": {},
   "outputs": [
    {
     "data": {
      "text/plain": [
       "('Big Data', 'Machine Learning')"
      ]
     },
     "execution_count": 37,
     "metadata": {},
     "output_type": "execute_result"
    }
   ],
   "source": [
    "myTuple"
   ]
  },
  {
   "cell_type": "code",
   "execution_count": 39,
   "id": "25d92acd",
   "metadata": {},
   "outputs": [],
   "source": [
    "# myTuple.append(\"a\") > AttributeError"
   ]
  },
  {
   "cell_type": "code",
   "execution_count": 40,
   "id": "80fa5ad9",
   "metadata": {},
   "outputs": [
    {
     "data": {
      "text/plain": [
       "(['Artificial Intelligence', 'Data Analytics'],\n",
       " ('Big Data', 'Machine Learning'))"
      ]
     },
     "execution_count": 40,
     "metadata": {},
     "output_type": "execute_result"
    }
   ],
   "source": [
    "myList, myTuple"
   ]
  },
  {
   "cell_type": "code",
   "execution_count": 41,
   "id": "c63b7768",
   "metadata": {},
   "outputs": [
    {
     "name": "stdout",
     "output_type": "stream",
     "text": [
      "2\n",
      "2\n"
     ]
    }
   ],
   "source": [
    "print(len(myTuple))\n",
    "print(len(myList))"
   ]
  },
  {
   "cell_type": "code",
   "execution_count": 42,
   "id": "ebe65220",
   "metadata": {},
   "outputs": [
    {
     "name": "stdout",
     "output_type": "stream",
     "text": [
      "48\n",
      "1\n",
      "52\n",
      "7\n"
     ]
    }
   ],
   "source": [
    "list1 = [23,48,1, 17]\n",
    "tuple1 = (25, 52, 7, 12)\n",
    "print(max(list1))\n",
    "print(min(list1))\n",
    "print(max(tuple1))\n",
    "print(min(tuple1))"
   ]
  },
  {
   "cell_type": "code",
   "execution_count": 43,
   "id": "6467b637",
   "metadata": {},
   "outputs": [
    {
     "data": {
      "text/plain": [
       "17"
      ]
     },
     "execution_count": 43,
     "metadata": {},
     "output_type": "execute_result"
    }
   ],
   "source": [
    "list1.pop()"
   ]
  },
  {
   "cell_type": "code",
   "execution_count": 44,
   "id": "c86b02d5",
   "metadata": {},
   "outputs": [
    {
     "data": {
      "text/plain": [
       "[23, 48, 1]"
      ]
     },
     "execution_count": 44,
     "metadata": {},
     "output_type": "execute_result"
    }
   ],
   "source": [
    "list1"
   ]
  },
  {
   "cell_type": "code",
   "execution_count": 45,
   "id": "a458f551",
   "metadata": {},
   "outputs": [],
   "source": [
    "list1.append(8)"
   ]
  },
  {
   "cell_type": "code",
   "execution_count": 46,
   "id": "2ad8a314",
   "metadata": {},
   "outputs": [
    {
     "data": {
      "text/plain": [
       "[23, 48, 1, 8]"
      ]
     },
     "execution_count": 46,
     "metadata": {},
     "output_type": "execute_result"
    }
   ],
   "source": [
    "list1"
   ]
  },
  {
   "cell_type": "code",
   "execution_count": 47,
   "id": "b2c2f6e6",
   "metadata": {},
   "outputs": [],
   "source": [
    "list1.insert(0,11)"
   ]
  },
  {
   "cell_type": "code",
   "execution_count": 48,
   "id": "9311a6fa",
   "metadata": {},
   "outputs": [
    {
     "data": {
      "text/plain": [
       "[11, 23, 48, 1, 8]"
      ]
     },
     "execution_count": 48,
     "metadata": {},
     "output_type": "execute_result"
    }
   ],
   "source": [
    "list1"
   ]
  },
  {
   "cell_type": "markdown",
   "id": "1b22a895",
   "metadata": {},
   "source": [
    "# Loops, Range and List Comprehension"
   ]
  },
  {
   "cell_type": "markdown",
   "id": "7fe46e38",
   "metadata": {},
   "source": [
    "1. while loop\n",
    "2. For loop\n",
    "3. list comprehension"
   ]
  },
  {
   "cell_type": "code",
   "execution_count": 49,
   "id": "b5fb8b6a",
   "metadata": {},
   "outputs": [
    {
     "name": "stdout",
     "output_type": "stream",
     "text": [
      "0\n",
      "1\n",
      "2\n",
      "3\n",
      "4\n"
     ]
    }
   ],
   "source": [
    "a=0\n",
    "while a<5:\n",
    "    print(a)\n",
    "    a+=1"
   ]
  },
  {
   "cell_type": "code",
   "execution_count": 50,
   "id": "6766445a",
   "metadata": {},
   "outputs": [],
   "source": [
    "# break and continue statatement"
   ]
  },
  {
   "cell_type": "code",
   "execution_count": 54,
   "id": "bc6ceec5",
   "metadata": {},
   "outputs": [
    {
     "name": "stdout",
     "output_type": "stream",
     "text": [
      "L\n",
      "e\n",
      "a\n",
      "r\n",
      "n\n",
      "i\n",
      "n\n",
      "g\n",
      " \n",
      "Outside while loop\n"
     ]
    }
   ],
   "source": [
    "name = \"Learning Journel\"\n",
    "i =0\n",
    "\n",
    "while True:\n",
    "    if name[i] == 'J':\n",
    "        break\n",
    "    print(name[i])\n",
    "    i+=1\n",
    "    \n",
    "print(\"Outside while loop\")"
   ]
  },
  {
   "cell_type": "code",
   "execution_count": 55,
   "id": "0427092f",
   "metadata": {},
   "outputs": [
    {
     "name": "stdout",
     "output_type": "stream",
     "text": [
      "4\n",
      "3\n",
      "Continue opeartion done\n",
      "1\n",
      "0\n",
      "outside the while loop\n"
     ]
    }
   ],
   "source": [
    "num = 5\n",
    "\n",
    "while num>0:\n",
    "    num-=1\n",
    "    if num == 2:\n",
    "        print('Continue opeartion done')\n",
    "        continue\n",
    "    print(num)\n",
    "print('outside the while loop')"
   ]
  },
  {
   "cell_type": "code",
   "execution_count": 56,
   "id": "daad0278",
   "metadata": {},
   "outputs": [
    {
     "name": "stdout",
     "output_type": "stream",
     "text": [
      "eggs\n",
      "milk\n",
      "bread\n",
      "veggies\n"
     ]
    }
   ],
   "source": [
    "grocery_list = ['eggs', 'milk', 'bread','veggies']\n",
    "\n",
    "for food in grocery_list:\n",
    "    print(food)"
   ]
  },
  {
   "cell_type": "code",
   "execution_count": 57,
   "id": "bf5fa521",
   "metadata": {},
   "outputs": [],
   "source": [
    "myRange = range(10)"
   ]
  },
  {
   "cell_type": "code",
   "execution_count": 58,
   "id": "b9f1817c",
   "metadata": {},
   "outputs": [
    {
     "name": "stdout",
     "output_type": "stream",
     "text": [
      "range(0, 10)\n"
     ]
    }
   ],
   "source": [
    "print(myRange)"
   ]
  },
  {
   "cell_type": "code",
   "execution_count": 59,
   "id": "30a43bbd",
   "metadata": {},
   "outputs": [
    {
     "name": "stdout",
     "output_type": "stream",
     "text": [
      "0\n",
      "1\n",
      "2\n",
      "3\n",
      "4\n",
      "5\n",
      "6\n",
      "7\n",
      "8\n",
      "9\n"
     ]
    }
   ],
   "source": [
    "for i in myRange:\n",
    "    print(i)"
   ]
  },
  {
   "cell_type": "code",
   "execution_count": 60,
   "id": "d7b49b58",
   "metadata": {},
   "outputs": [
    {
     "name": "stdout",
     "output_type": "stream",
     "text": [
      "5\n",
      "6\n",
      "7\n",
      "8\n",
      "9\n"
     ]
    }
   ],
   "source": [
    "for i in range(5, 10):\n",
    "    print(i)"
   ]
  },
  {
   "cell_type": "code",
   "execution_count": 62,
   "id": "0e4e102e",
   "metadata": {},
   "outputs": [
    {
     "name": "stdout",
     "output_type": "stream",
     "text": [
      "5\n",
      "7\n",
      "9\n",
      "11\n",
      "13\n"
     ]
    }
   ],
   "source": [
    "for i in range(5, 15, 2):\n",
    "    print(i)"
   ]
  },
  {
   "cell_type": "code",
   "execution_count": 63,
   "id": "b34761ff",
   "metadata": {},
   "outputs": [
    {
     "name": "stdout",
     "output_type": "stream",
     "text": [
      "15\n",
      "13\n",
      "11\n",
      "9\n",
      "7\n"
     ]
    }
   ],
   "source": [
    "for i in range(15,5,-2):\n",
    "    print(i)"
   ]
  },
  {
   "cell_type": "code",
   "execution_count": 64,
   "id": "5fb2cc62",
   "metadata": {},
   "outputs": [],
   "source": [
    "rectangles = [(15,10), (3,5), (5,6)]"
   ]
  },
  {
   "cell_type": "code",
   "execution_count": 65,
   "id": "58222fe7",
   "metadata": {},
   "outputs": [],
   "source": [
    "areas = [150, 15, 30]"
   ]
  },
  {
   "cell_type": "code",
   "execution_count": 66,
   "id": "8b55b6ac",
   "metadata": {},
   "outputs": [],
   "source": [
    "rectangle_areas = [(15, 10, 150), (3,5,15),(5,6,30)]"
   ]
  },
  {
   "cell_type": "code",
   "execution_count": 67,
   "id": "78d90653",
   "metadata": {},
   "outputs": [
    {
     "name": "stdout",
     "output_type": "stream",
     "text": [
      "[150, 15, 30]\n"
     ]
    }
   ],
   "source": [
    "# Traditional approch\n",
    "areas = []\n",
    "\n",
    "for (x,y) in rectangles:\n",
    "    areas.append(x*y)\n",
    "    \n",
    "print(areas)\n",
    "    "
   ]
  },
  {
   "cell_type": "code",
   "execution_count": 69,
   "id": "3d07fff1",
   "metadata": {},
   "outputs": [
    {
     "data": {
      "text/plain": [
       "[(15, 10), (3, 5), (5, 6)]"
      ]
     },
     "execution_count": 69,
     "metadata": {},
     "output_type": "execute_result"
    }
   ],
   "source": [
    "rectangles"
   ]
  },
  {
   "cell_type": "code",
   "execution_count": 68,
   "id": "f9f5d069",
   "metadata": {},
   "outputs": [
    {
     "name": "stdout",
     "output_type": "stream",
     "text": [
      "[150, 15, 30]\n",
      "[(15, 10, 150), (3, 5, 15), (5, 6, 30)]\n"
     ]
    }
   ],
   "source": [
    "areas = []\n",
    "rectangle_areas = []\n",
    "\n",
    "for (x,y) in rectangles:\n",
    "    areas.append(x*y)\n",
    "    rectangle_areas.append((x, y, x*y))\n",
    "    \n",
    "print(areas)\n",
    "print(rectangle_areas)"
   ]
  },
  {
   "cell_type": "code",
   "execution_count": 70,
   "id": "1de81242",
   "metadata": {},
   "outputs": [
    {
     "data": {
      "text/plain": [
       "[(15, 10), (3, 5), (5, 6)]"
      ]
     },
     "execution_count": 70,
     "metadata": {},
     "output_type": "execute_result"
    }
   ],
   "source": [
    "rectangles"
   ]
  },
  {
   "cell_type": "code",
   "execution_count": 71,
   "id": "1f84fb27",
   "metadata": {},
   "outputs": [
    {
     "data": {
      "text/plain": [
       "[(15, 10, 150), (3, 5, 15), (5, 6, 30)]"
      ]
     },
     "execution_count": 71,
     "metadata": {},
     "output_type": "execute_result"
    }
   ],
   "source": [
    "rectangle_areas = [(x, y, x*y) for (x,y) in rectangles]\n",
    "rectangle_areas"
   ]
  },
  {
   "cell_type": "markdown",
   "id": "360c3eb4",
   "metadata": {},
   "source": [
    "# Python Dictionaries"
   ]
  },
  {
   "cell_type": "code",
   "execution_count": 1,
   "id": "4ad14e8f",
   "metadata": {},
   "outputs": [],
   "source": [
    "# Two approaches to create dictionaries"
   ]
  },
  {
   "cell_type": "code",
   "execution_count": 26,
   "id": "8d9afc18",
   "metadata": {},
   "outputs": [
    {
     "name": "stdout",
     "output_type": "stream",
     "text": [
      "{'Abhi': 7, 'Shourya': 9, 'Amey': 5}\n"
     ]
    }
   ],
   "source": [
    "info_1 = {'Abhi':7,'Shourya':9,'Amey':5}\n",
    "print(info_1)"
   ]
  },
  {
   "cell_type": "code",
   "execution_count": null,
   "id": "032fb257",
   "metadata": {},
   "outputs": [],
   "source": []
  },
  {
   "cell_type": "code",
   "execution_count": 25,
   "id": "7e961e1a",
   "metadata": {},
   "outputs": [
    {
     "data": {
      "text/plain": [
       "77"
      ]
     },
     "execution_count": 25,
     "metadata": {},
     "output_type": "execute_result"
    }
   ],
   "source": [
    "info_1 = {'Abhi':7,'Abhi':77,'Amey':5}\n",
    "info_1['Abhi']"
   ]
  },
  {
   "cell_type": "code",
   "execution_count": null,
   "id": "8bee9817",
   "metadata": {},
   "outputs": [],
   "source": []
  },
  {
   "cell_type": "code",
   "execution_count": 27,
   "id": "90fe5517",
   "metadata": {},
   "outputs": [
    {
     "name": "stdout",
     "output_type": "stream",
     "text": [
      "{'Abhi': 7, 'Shourya': 9, 'Amey': 5}\n"
     ]
    }
   ],
   "source": [
    "info_2 = dict({'Abhi':7,'Shourya':9,'Amey':5})\n",
    "\n",
    "print(info_2)"
   ]
  },
  {
   "cell_type": "code",
   "execution_count": null,
   "id": "45162c80",
   "metadata": {},
   "outputs": [],
   "source": []
  },
  {
   "cell_type": "code",
   "execution_count": 28,
   "id": "edd0f949",
   "metadata": {},
   "outputs": [
    {
     "data": {
      "text/plain": [
       "{'Abhi': 7, 'Shourya': 9, 'Amey': 5}"
      ]
     },
     "execution_count": 28,
     "metadata": {},
     "output_type": "execute_result"
    }
   ],
   "source": [
    "info_3 = dict(Abhi=7,Shourya=9,Amey=5)\n",
    "info_3"
   ]
  },
  {
   "cell_type": "code",
   "execution_count": null,
   "id": "403c45cb",
   "metadata": {},
   "outputs": [],
   "source": []
  },
  {
   "cell_type": "code",
   "execution_count": 29,
   "id": "bae77c95",
   "metadata": {},
   "outputs": [
    {
     "name": "stdout",
     "output_type": "stream",
     "text": [
      "{'Tom': 104, 'John': 105}\n"
     ]
    }
   ],
   "source": [
    "my_list = [('Tom',104), ('John',105)]\n",
    "\n",
    "info_4 = dict(my_list)\n",
    "print(info_4)"
   ]
  },
  {
   "cell_type": "code",
   "execution_count": null,
   "id": "6877e0df",
   "metadata": {},
   "outputs": [],
   "source": []
  },
  {
   "cell_type": "code",
   "execution_count": 30,
   "id": "0c7624d8",
   "metadata": {},
   "outputs": [
    {
     "name": "stdout",
     "output_type": "stream",
     "text": [
      "{'Tom': 104, 'John': 105}\n"
     ]
    }
   ],
   "source": [
    "my_tuple = (('Tom',104), ('John',105))\n",
    "\n",
    "info_5 = dict(my_tuple)\n",
    "print(info_5)"
   ]
  },
  {
   "cell_type": "code",
   "execution_count": 32,
   "id": "0011a003",
   "metadata": {},
   "outputs": [
    {
     "data": {
      "text/plain": [
       "(('Tom', 104), ('John', 105))"
      ]
     },
     "execution_count": 32,
     "metadata": {},
     "output_type": "execute_result"
    }
   ],
   "source": [
    "my_tuple[0], my_tuple[1]"
   ]
  },
  {
   "cell_type": "code",
   "execution_count": 33,
   "id": "607759ff",
   "metadata": {},
   "outputs": [
    {
     "data": {
      "text/plain": [
       "{'Abhi': 7, 'Shourya': 9, 'Amey': 5}"
      ]
     },
     "execution_count": 33,
     "metadata": {},
     "output_type": "execute_result"
    }
   ],
   "source": [
    "info_1"
   ]
  },
  {
   "cell_type": "code",
   "execution_count": 34,
   "id": "3de14043",
   "metadata": {},
   "outputs": [
    {
     "data": {
      "text/plain": [
       "7"
      ]
     },
     "execution_count": 34,
     "metadata": {},
     "output_type": "execute_result"
    }
   ],
   "source": [
    "info_1['Abhi']"
   ]
  },
  {
   "cell_type": "code",
   "execution_count": 36,
   "id": "2b2e7570",
   "metadata": {},
   "outputs": [
    {
     "name": "stdout",
     "output_type": "stream",
     "text": [
      "{'Abhi': 1000, 'Shourya': 9, 'Amey': 5}\n"
     ]
    }
   ],
   "source": [
    "info_1['Abhi']=1000\n",
    "print(info_1)"
   ]
  },
  {
   "cell_type": "code",
   "execution_count": 37,
   "id": "7e959e71",
   "metadata": {},
   "outputs": [
    {
     "data": {
      "text/plain": [
       "{'Abhi': 1000, 'Shourya': 9, 'Amey': 5}"
      ]
     },
     "execution_count": 37,
     "metadata": {},
     "output_type": "execute_result"
    }
   ],
   "source": [
    "info_1"
   ]
  },
  {
   "cell_type": "code",
   "execution_count": 38,
   "id": "d70c2646",
   "metadata": {},
   "outputs": [],
   "source": [
    "info_1['Atharv']=10"
   ]
  },
  {
   "cell_type": "code",
   "execution_count": 39,
   "id": "a7a3a6ef",
   "metadata": {},
   "outputs": [
    {
     "name": "stdout",
     "output_type": "stream",
     "text": [
      "{'Abhi': 1000, 'Shourya': 9, 'Amey': 5, 'Atharv': 10}\n"
     ]
    }
   ],
   "source": [
    "print(info_1)"
   ]
  },
  {
   "cell_type": "code",
   "execution_count": 40,
   "id": "4bd0bf8f",
   "metadata": {},
   "outputs": [
    {
     "data": {
      "text/plain": [
       "dict_keys(['Abhi', 'Shourya', 'Amey', 'Atharv'])"
      ]
     },
     "execution_count": 40,
     "metadata": {},
     "output_type": "execute_result"
    }
   ],
   "source": [
    "info_1.keys()"
   ]
  },
  {
   "cell_type": "code",
   "execution_count": 42,
   "id": "3bb7fd7c",
   "metadata": {},
   "outputs": [
    {
     "data": {
      "text/plain": [
       "dict_values([1000, 9, 5, 10])"
      ]
     },
     "execution_count": 42,
     "metadata": {},
     "output_type": "execute_result"
    }
   ],
   "source": [
    "info_1.values()"
   ]
  },
  {
   "cell_type": "code",
   "execution_count": 44,
   "id": "7e1e7271",
   "metadata": {},
   "outputs": [
    {
     "data": {
      "text/plain": [
       "dict_items([('Abhi', 1000), ('Shourya', 9), ('Amey', 5), ('Atharv', 10)])"
      ]
     },
     "execution_count": 44,
     "metadata": {},
     "output_type": "execute_result"
    }
   ],
   "source": [
    "info_1.items()"
   ]
  },
  {
   "cell_type": "code",
   "execution_count": 48,
   "id": "eac8ae8c",
   "metadata": {},
   "outputs": [
    {
     "name": "stdout",
     "output_type": "stream",
     "text": [
      "Abhi 1000\n",
      "Shourya 9\n",
      "Amey 5\n",
      "Atharv 10\n"
     ]
    }
   ],
   "source": [
    "for i, j in info_1.items():\n",
    "    print(i,j)"
   ]
  },
  {
   "cell_type": "code",
   "execution_count": 49,
   "id": "cdfc931c",
   "metadata": {},
   "outputs": [
    {
     "data": {
      "text/plain": [
       "{'Abhi': 1000, 'Shourya': 9, 'Amey': 5, 'Atharv': 10}"
      ]
     },
     "execution_count": 49,
     "metadata": {},
     "output_type": "execute_result"
    }
   ],
   "source": [
    "info_1"
   ]
  },
  {
   "cell_type": "code",
   "execution_count": 50,
   "id": "a16d22a6",
   "metadata": {},
   "outputs": [
    {
     "data": {
      "text/plain": [
       "{'Abhi': 7, 'Shourya': 9, 'Amey': 5}"
      ]
     },
     "execution_count": 50,
     "metadata": {},
     "output_type": "execute_result"
    }
   ],
   "source": [
    "info_2"
   ]
  },
  {
   "cell_type": "code",
   "execution_count": 54,
   "id": "1e7d844c",
   "metadata": {},
   "outputs": [
    {
     "name": "stdout",
     "output_type": "stream",
     "text": [
      "{'Abhi', 'Amey', 'Shourya', 'Atharv'}\n"
     ]
    }
   ],
   "source": [
    "info_1_2 = {*info_1, *info_2}\n",
    "print(info_1_2)"
   ]
  },
  {
   "cell_type": "code",
   "execution_count": 55,
   "id": "f75d1187",
   "metadata": {},
   "outputs": [
    {
     "name": "stdout",
     "output_type": "stream",
     "text": [
      "{'Abhi': 7, 'Shourya': 9, 'Amey': 5, 'Atharv': 10}\n"
     ]
    }
   ],
   "source": [
    "info_1_2 = {**info_1, **info_2}\n",
    "print(info_1_2)"
   ]
  },
  {
   "cell_type": "code",
   "execution_count": 56,
   "id": "108ac498",
   "metadata": {},
   "outputs": [],
   "source": [
    "info_1 = {'A':10, 'B':20, 'C':30}\n",
    "info_2 = {'D':40, 'E':50, 'F':60}"
   ]
  },
  {
   "cell_type": "code",
   "execution_count": 58,
   "id": "1f547ff8",
   "metadata": {},
   "outputs": [],
   "source": [
    "info_1.update(info_2)"
   ]
  },
  {
   "cell_type": "code",
   "execution_count": 59,
   "id": "d2bb8150",
   "metadata": {},
   "outputs": [
    {
     "name": "stdout",
     "output_type": "stream",
     "text": [
      "{'A': 10, 'B': 20, 'C': 30, 'D': 40, 'E': 50, 'F': 60}\n"
     ]
    }
   ],
   "source": [
    "print(info_1)"
   ]
  },
  {
   "cell_type": "code",
   "execution_count": 60,
   "id": "7c1b2f68",
   "metadata": {},
   "outputs": [
    {
     "data": {
      "text/plain": [
       "6"
      ]
     },
     "execution_count": 60,
     "metadata": {},
     "output_type": "execute_result"
    }
   ],
   "source": [
    "len(info_1)"
   ]
  },
  {
   "cell_type": "code",
   "execution_count": 61,
   "id": "d84dfe21",
   "metadata": {},
   "outputs": [],
   "source": [
    "del info_1['F']"
   ]
  },
  {
   "cell_type": "code",
   "execution_count": 62,
   "id": "88f7dc26",
   "metadata": {},
   "outputs": [
    {
     "data": {
      "text/plain": [
       "{'A': 10, 'B': 20, 'C': 30, 'D': 40, 'E': 50}"
      ]
     },
     "execution_count": 62,
     "metadata": {},
     "output_type": "execute_result"
    }
   ],
   "source": [
    "info_1"
   ]
  },
  {
   "cell_type": "code",
   "execution_count": 63,
   "id": "65ae6f1a",
   "metadata": {},
   "outputs": [],
   "source": [
    "del info_1"
   ]
  },
  {
   "cell_type": "code",
   "execution_count": 65,
   "id": "20e9aaa2",
   "metadata": {},
   "outputs": [],
   "source": [
    "# info_1"
   ]
  },
  {
   "cell_type": "code",
   "execution_count": 66,
   "id": "5c816a34",
   "metadata": {},
   "outputs": [],
   "source": [
    "info_1 = {'A':10, 'B':20, 'C':30}"
   ]
  },
  {
   "cell_type": "code",
   "execution_count": 68,
   "id": "60693301",
   "metadata": {},
   "outputs": [],
   "source": [
    "info_1.clear()"
   ]
  },
  {
   "cell_type": "code",
   "execution_count": 69,
   "id": "f9ff9106",
   "metadata": {},
   "outputs": [
    {
     "data": {
      "text/plain": [
       "{}"
      ]
     },
     "execution_count": 69,
     "metadata": {},
     "output_type": "execute_result"
    }
   ],
   "source": [
    "info_1"
   ]
  },
  {
   "cell_type": "code",
   "execution_count": 70,
   "id": "c1a215cb",
   "metadata": {},
   "outputs": [],
   "source": [
    "info_1 = {'A':10, 'B':20, 'C':30}"
   ]
  },
  {
   "cell_type": "code",
   "execution_count": 71,
   "id": "e2f49255",
   "metadata": {},
   "outputs": [
    {
     "data": {
      "text/plain": [
       "10"
      ]
     },
     "execution_count": 71,
     "metadata": {},
     "output_type": "execute_result"
    }
   ],
   "source": [
    "info_1.pop('A')"
   ]
  },
  {
   "cell_type": "code",
   "execution_count": 72,
   "id": "15abb918",
   "metadata": {},
   "outputs": [
    {
     "data": {
      "text/plain": [
       "{'B': 20, 'C': 30}"
      ]
     },
     "execution_count": 72,
     "metadata": {},
     "output_type": "execute_result"
    }
   ],
   "source": [
    "info_1"
   ]
  },
  {
   "cell_type": "code",
   "execution_count": 73,
   "id": "7cb66397",
   "metadata": {},
   "outputs": [
    {
     "data": {
      "text/plain": [
       "False"
      ]
     },
     "execution_count": 73,
     "metadata": {},
     "output_type": "execute_result"
    }
   ],
   "source": [
    "'A' in info_1"
   ]
  },
  {
   "cell_type": "code",
   "execution_count": 74,
   "id": "2eb9bfd0",
   "metadata": {},
   "outputs": [
    {
     "data": {
      "text/plain": [
       "False"
      ]
     },
     "execution_count": 74,
     "metadata": {},
     "output_type": "execute_result"
    }
   ],
   "source": [
    "'b' in info_1"
   ]
  },
  {
   "cell_type": "code",
   "execution_count": 75,
   "id": "e1f1125e",
   "metadata": {},
   "outputs": [
    {
     "data": {
      "text/plain": [
       "True"
      ]
     },
     "execution_count": 75,
     "metadata": {},
     "output_type": "execute_result"
    }
   ],
   "source": [
    "'B' in info_1"
   ]
  },
  {
   "cell_type": "code",
   "execution_count": 76,
   "id": "eaebad32",
   "metadata": {},
   "outputs": [],
   "source": [
    "info_1 = {'A':10, 'B':20, 'C':30}\n",
    "info_2 = {'A':10, 'B':20, 'C':30}"
   ]
  },
  {
   "cell_type": "code",
   "execution_count": 77,
   "id": "eb7e263e",
   "metadata": {},
   "outputs": [
    {
     "data": {
      "text/plain": [
       "True"
      ]
     },
     "execution_count": 77,
     "metadata": {},
     "output_type": "execute_result"
    }
   ],
   "source": [
    "info_1 == info_2"
   ]
  },
  {
   "cell_type": "code",
   "execution_count": 78,
   "id": "7c73fa56",
   "metadata": {},
   "outputs": [
    {
     "data": {
      "text/plain": [
       "False"
      ]
     },
     "execution_count": 78,
     "metadata": {},
     "output_type": "execute_result"
    }
   ],
   "source": [
    "info_1 != info_2"
   ]
  },
  {
   "cell_type": "code",
   "execution_count": 82,
   "id": "473f0048",
   "metadata": {},
   "outputs": [],
   "source": [
    "# info_1 > info_2 >> TypeError"
   ]
  },
  {
   "cell_type": "code",
   "execution_count": 188,
   "id": "be7bf7b8",
   "metadata": {},
   "outputs": [
    {
     "name": "stdout",
     "output_type": "stream",
     "text": [
      "{'A': 10, 'B': 20, 'C': 30}\n"
     ]
    }
   ],
   "source": [
    "info = info_1.copy()\n",
    "print(info_1)"
   ]
  },
  {
   "cell_type": "code",
   "execution_count": 189,
   "id": "b197019a",
   "metadata": {},
   "outputs": [
    {
     "name": "stdout",
     "output_type": "stream",
     "text": [
      "{'A': 'sleep', 'B': 'eat', 'C': ['play', 'study']}\n",
      "{'A': 'sleep', 'B': 'eat', 'C': ['play', 'study']}\n"
     ]
    }
   ],
   "source": [
    "msg = {'A':'sleep', 'B':'eat', 'C':['play','study']}\n",
    "\n",
    "inform = msg.copy()\n",
    "\n",
    "print(inform)\n",
    "print(msg)"
   ]
  },
  {
   "cell_type": "code",
   "execution_count": 190,
   "id": "4c450588",
   "metadata": {},
   "outputs": [],
   "source": [
    "inform['C'][1] = 'cook'"
   ]
  },
  {
   "cell_type": "code",
   "execution_count": 191,
   "id": "cb73ee11",
   "metadata": {},
   "outputs": [
    {
     "name": "stdout",
     "output_type": "stream",
     "text": [
      "{'A': 'sleep', 'B': 'eat', 'C': ['play', 'cook']}\n",
      "{'A': 'sleep', 'B': 'eat', 'C': ['play', 'cook']}\n"
     ]
    }
   ],
   "source": [
    "print(inform)\n",
    "print(msg)"
   ]
  },
  {
   "cell_type": "code",
   "execution_count": 192,
   "id": "f8e56217",
   "metadata": {},
   "outputs": [
    {
     "name": "stdout",
     "output_type": "stream",
     "text": [
      "{'A': 'sleep', 'B': 'eat', 'C': ['play', 'cook']}\n",
      "{'A': 'sleep', 'B': 'eat', 'C': ['play', 'cook']}\n"
     ]
    }
   ],
   "source": [
    "import copy\n",
    "\n",
    "inform = copy.deepcopy(msg)\n",
    "\n",
    "print(inform)\n",
    "print(msg)"
   ]
  },
  {
   "cell_type": "code",
   "execution_count": 193,
   "id": "a0725db5",
   "metadata": {},
   "outputs": [
    {
     "name": "stdout",
     "output_type": "stream",
     "text": [
      "{'A': 'sleep', 'B': 'eat', 'C': ['play', 'cricket']}\n",
      "{'A': 'sleep', 'B': 'eat', 'C': ['play', 'cook']}\n"
     ]
    }
   ],
   "source": [
    "inform['C'][1]='cricket'\n",
    "\n",
    "print(inform)\n",
    "print(msg)"
   ]
  },
  {
   "cell_type": "code",
   "execution_count": 97,
   "id": "044f3d69",
   "metadata": {},
   "outputs": [
    {
     "name": "stdout",
     "output_type": "stream",
     "text": [
      "{0: 0, 1: 1, 2: 4, 3: 9, 4: 16, 5: 25, 6: 36, 7: 49, 8: 64, 9: 81}\n"
     ]
    }
   ],
   "source": [
    "square = {x:x**2 for x in range(0,10)}\n",
    "print(square)"
   ]
  },
  {
   "cell_type": "markdown",
   "id": "137430ae",
   "metadata": {},
   "source": [
    "# set"
   ]
  },
  {
   "cell_type": "code",
   "execution_count": 98,
   "id": "95af6b00",
   "metadata": {},
   "outputs": [],
   "source": [
    "mySet = {0,1,2,3}"
   ]
  },
  {
   "cell_type": "code",
   "execution_count": 99,
   "id": "bddbca82",
   "metadata": {},
   "outputs": [
    {
     "name": "stdout",
     "output_type": "stream",
     "text": [
      "{0, 1, 2, 3}\n"
     ]
    }
   ],
   "source": [
    "print(mySet)"
   ]
  },
  {
   "cell_type": "code",
   "execution_count": 100,
   "id": "917c6df0",
   "metadata": {},
   "outputs": [],
   "source": [
    "# set is collection of unique elements"
   ]
  },
  {
   "cell_type": "code",
   "execution_count": 101,
   "id": "c8a3c23e",
   "metadata": {},
   "outputs": [
    {
     "name": "stdout",
     "output_type": "stream",
     "text": [
      "{0, 1, 2}\n"
     ]
    }
   ],
   "source": [
    "mySet = {0,0,0,1,2,2,2}\n",
    "print(mySet)"
   ]
  },
  {
   "cell_type": "code",
   "execution_count": 104,
   "id": "0804c60f",
   "metadata": {},
   "outputs": [
    {
     "name": "stdout",
     "output_type": "stream",
     "text": [
      "['Ram', 'Krishna', 'Hari', 'Ram', 'Krishna']\n"
     ]
    }
   ],
   "source": [
    "myList=['Ram','Krishna','Hari', 'Ram', 'Krishna']\n",
    "\n",
    "print(myList)"
   ]
  },
  {
   "cell_type": "code",
   "execution_count": 105,
   "id": "1241d209",
   "metadata": {},
   "outputs": [
    {
     "data": {
      "text/plain": [
       "{'Hari', 'Krishna', 'Ram'}"
      ]
     },
     "execution_count": 105,
     "metadata": {},
     "output_type": "execute_result"
    }
   ],
   "source": [
    "mySet = set(myList) # duplicates removed by usng set\n",
    "mySet"
   ]
  },
  {
   "cell_type": "code",
   "execution_count": 106,
   "id": "eef41b79",
   "metadata": {},
   "outputs": [],
   "source": [
    "# empty set\n",
    "\n",
    "myEmptySet = {} # in python empty curly brace will consider as a dictionary"
   ]
  },
  {
   "cell_type": "code",
   "execution_count": 107,
   "id": "9ede9c06",
   "metadata": {},
   "outputs": [
    {
     "data": {
      "text/plain": [
       "dict"
      ]
     },
     "execution_count": 107,
     "metadata": {},
     "output_type": "execute_result"
    }
   ],
   "source": [
    "type(myEmptySet) "
   ]
  },
  {
   "cell_type": "code",
   "execution_count": 108,
   "id": "f3a00d98",
   "metadata": {},
   "outputs": [],
   "source": [
    "# for creation of empty set\n",
    "\n",
    "myEmptySet = set()"
   ]
  },
  {
   "cell_type": "code",
   "execution_count": 109,
   "id": "93f0022d",
   "metadata": {},
   "outputs": [
    {
     "data": {
      "text/plain": [
       "set"
      ]
     },
     "execution_count": 109,
     "metadata": {},
     "output_type": "execute_result"
    }
   ],
   "source": [
    "type(myEmptySet)"
   ]
  },
  {
   "cell_type": "code",
   "execution_count": 110,
   "id": "bddbf059",
   "metadata": {},
   "outputs": [
    {
     "data": {
      "text/plain": [
       "{' ', 'J', 'L', 'a', 'e', 'g', 'i', 'l', 'n', 'o', 'r', 'u'}"
      ]
     },
     "execution_count": 110,
     "metadata": {},
     "output_type": "execute_result"
    }
   ],
   "source": [
    "# we can convert list, tuple, str into the set by using set function\n",
    "\n",
    "set('Learning Journel')"
   ]
  },
  {
   "cell_type": "code",
   "execution_count": 111,
   "id": "1d93d983",
   "metadata": {},
   "outputs": [
    {
     "data": {
      "text/plain": [
       "{' ', 'a', 'e', 'g', 'i', 'j', 'l', 'n', 'o', 'r', 'u'}"
      ]
     },
     "execution_count": 111,
     "metadata": {},
     "output_type": "execute_result"
    }
   ],
   "source": [
    "# duplicates are removed but upper case and lower case will be considered as it is\n",
    "\n",
    "set('Learning Journel'.lower())"
   ]
  },
  {
   "cell_type": "code",
   "execution_count": 112,
   "id": "164210dd",
   "metadata": {},
   "outputs": [
    {
     "data": {
      "text/plain": [
       "{'Hari', 'Radha', 'Ram', 'krishna'}"
      ]
     },
     "execution_count": 112,
     "metadata": {},
     "output_type": "execute_result"
    }
   ],
   "source": [
    "set(['Ram', 'Radha', 'krishna', 'Hari'])"
   ]
  },
  {
   "cell_type": "code",
   "execution_count": 113,
   "id": "b2e7e65a",
   "metadata": {},
   "outputs": [
    {
     "data": {
      "text/plain": [
       "{'A', 'B', 'C'}"
      ]
     },
     "execution_count": 113,
     "metadata": {},
     "output_type": "execute_result"
    }
   ],
   "source": [
    "set(('A','B','C'))"
   ]
  },
  {
   "cell_type": "code",
   "execution_count": 114,
   "id": "1a67d889",
   "metadata": {},
   "outputs": [
    {
     "data": {
      "text/plain": [
       "{1, 2, 3, 4}"
      ]
     },
     "execution_count": 114,
     "metadata": {},
     "output_type": "execute_result"
    }
   ],
   "source": [
    "set({1:'a',2:'b',3:'c',4:'d'}) # dictionary values will be ignored"
   ]
  },
  {
   "cell_type": "code",
   "execution_count": 115,
   "id": "0481506e",
   "metadata": {},
   "outputs": [
    {
     "data": {
      "text/plain": [
       "3"
      ]
     },
     "execution_count": 115,
     "metadata": {},
     "output_type": "execute_result"
    }
   ],
   "source": [
    "len(mySet)"
   ]
  },
  {
   "cell_type": "code",
   "execution_count": 116,
   "id": "10a364a4",
   "metadata": {},
   "outputs": [
    {
     "data": {
      "text/plain": [
       "{'Hari', 'Krishna', 'Ram'}"
      ]
     },
     "execution_count": 116,
     "metadata": {},
     "output_type": "execute_result"
    }
   ],
   "source": [
    "# sets are mutable but you can add element in the existing set\n",
    "\n",
    "mySet"
   ]
  },
  {
   "cell_type": "code",
   "execution_count": 118,
   "id": "da8f6695",
   "metadata": {},
   "outputs": [],
   "source": [
    "mySet.add('Radha')"
   ]
  },
  {
   "cell_type": "code",
   "execution_count": 119,
   "id": "9f62aba2",
   "metadata": {},
   "outputs": [
    {
     "data": {
      "text/plain": [
       "{'Hari', 'Krishna', 'Radha', 'Ram'}"
      ]
     },
     "execution_count": 119,
     "metadata": {},
     "output_type": "execute_result"
    }
   ],
   "source": [
    "mySet"
   ]
  },
  {
   "cell_type": "code",
   "execution_count": 120,
   "id": "06161670",
   "metadata": {},
   "outputs": [],
   "source": [
    "# add method will allow the single element at a time but update will allow to multiple element at a time"
   ]
  },
  {
   "cell_type": "code",
   "execution_count": 121,
   "id": "aa71d10c",
   "metadata": {},
   "outputs": [],
   "source": [
    "mySet.update(['R','A','K','H','A'])"
   ]
  },
  {
   "cell_type": "code",
   "execution_count": 122,
   "id": "b3a3a989",
   "metadata": {},
   "outputs": [
    {
     "data": {
      "text/plain": [
       "{'A', 'H', 'Hari', 'K', 'Krishna', 'R', 'Radha', 'Ram'}"
      ]
     },
     "execution_count": 122,
     "metadata": {},
     "output_type": "execute_result"
    }
   ],
   "source": [
    "mySet"
   ]
  },
  {
   "cell_type": "code",
   "execution_count": 123,
   "id": "522c8d9e",
   "metadata": {},
   "outputs": [],
   "source": [
    "# UPDATE METHOD WILL ALSO TAKE TUPLE, DICT, AND STRING ALSO"
   ]
  },
  {
   "cell_type": "code",
   "execution_count": 126,
   "id": "2bfc001f",
   "metadata": {},
   "outputs": [],
   "source": [
    "mySet.remove('A')"
   ]
  },
  {
   "cell_type": "code",
   "execution_count": 127,
   "id": "19aaf0bc",
   "metadata": {},
   "outputs": [
    {
     "data": {
      "text/plain": [
       "{'H', 'Hari', 'K', 'Krishna', 'R', 'Radha', 'Ram'}"
      ]
     },
     "execution_count": 127,
     "metadata": {},
     "output_type": "execute_result"
    }
   ],
   "source": [
    "mySet"
   ]
  },
  {
   "cell_type": "code",
   "execution_count": 128,
   "id": "5851a49f",
   "metadata": {},
   "outputs": [],
   "source": [
    "set1 = {0,1,2}\n",
    "set2 = {2,3,4,5}"
   ]
  },
  {
   "cell_type": "code",
   "execution_count": 129,
   "id": "990702cf",
   "metadata": {},
   "outputs": [],
   "source": [
    "# union for merge the two sets"
   ]
  },
  {
   "cell_type": "code",
   "execution_count": 130,
   "id": "5f368f9f",
   "metadata": {},
   "outputs": [
    {
     "data": {
      "text/plain": [
       "{0, 1, 2, 3, 4, 5}"
      ]
     },
     "execution_count": 130,
     "metadata": {},
     "output_type": "execute_result"
    }
   ],
   "source": [
    "set1.union(set2)"
   ]
  },
  {
   "cell_type": "code",
   "execution_count": 131,
   "id": "85210aac",
   "metadata": {},
   "outputs": [
    {
     "data": {
      "text/plain": [
       "{0, 1, 2, 3, 4, 5}"
      ]
     },
     "execution_count": 131,
     "metadata": {},
     "output_type": "execute_result"
    }
   ],
   "source": [
    "set1 | set2"
   ]
  },
  {
   "cell_type": "code",
   "execution_count": 132,
   "id": "082db869",
   "metadata": {},
   "outputs": [],
   "source": [
    "# intersetion for common element from both"
   ]
  },
  {
   "cell_type": "code",
   "execution_count": 133,
   "id": "d18535b4",
   "metadata": {},
   "outputs": [
    {
     "data": {
      "text/plain": [
       "{2}"
      ]
     },
     "execution_count": 133,
     "metadata": {},
     "output_type": "execute_result"
    }
   ],
   "source": [
    "set1.intersection(set2)"
   ]
  },
  {
   "cell_type": "code",
   "execution_count": 135,
   "id": "b17afc83",
   "metadata": {},
   "outputs": [
    {
     "data": {
      "text/plain": [
       "{2}"
      ]
     },
     "execution_count": 135,
     "metadata": {},
     "output_type": "execute_result"
    }
   ],
   "source": [
    "set1 & set2"
   ]
  },
  {
   "cell_type": "code",
   "execution_count": 136,
   "id": "e55be1d3",
   "metadata": {},
   "outputs": [],
   "source": [
    "# difference between two sets "
   ]
  },
  {
   "cell_type": "code",
   "execution_count": 137,
   "id": "be61b7d7",
   "metadata": {},
   "outputs": [
    {
     "data": {
      "text/plain": [
       "{0, 1}"
      ]
     },
     "execution_count": 137,
     "metadata": {},
     "output_type": "execute_result"
    }
   ],
   "source": [
    "set1.difference(set2)"
   ]
  },
  {
   "cell_type": "code",
   "execution_count": 139,
   "id": "89244764",
   "metadata": {},
   "outputs": [
    {
     "data": {
      "text/plain": [
       "{0, 1}"
      ]
     },
     "execution_count": 139,
     "metadata": {},
     "output_type": "execute_result"
    }
   ],
   "source": [
    "set1 - set2"
   ]
  },
  {
   "cell_type": "code",
   "execution_count": 138,
   "id": "030cf424",
   "metadata": {},
   "outputs": [
    {
     "data": {
      "text/plain": [
       "{3, 4, 5}"
      ]
     },
     "execution_count": 138,
     "metadata": {},
     "output_type": "execute_result"
    }
   ],
   "source": [
    "set2.difference(set1)"
   ]
  },
  {
   "cell_type": "code",
   "execution_count": 140,
   "id": "960a05c1",
   "metadata": {},
   "outputs": [
    {
     "data": {
      "text/plain": [
       "{3, 4, 5}"
      ]
     },
     "execution_count": 140,
     "metadata": {},
     "output_type": "execute_result"
    }
   ],
   "source": [
    "set2 - set1"
   ]
  },
  {
   "cell_type": "code",
   "execution_count": 141,
   "id": "9c75e6cb",
   "metadata": {},
   "outputs": [],
   "source": [
    "# symmetric difference > either present in same or another"
   ]
  },
  {
   "cell_type": "code",
   "execution_count": 142,
   "id": "fb3a2838",
   "metadata": {},
   "outputs": [
    {
     "data": {
      "text/plain": [
       "{0, 1, 3, 4, 5}"
      ]
     },
     "execution_count": 142,
     "metadata": {},
     "output_type": "execute_result"
    }
   ],
   "source": [
    "set1.symmetric_difference(set2)"
   ]
  },
  {
   "cell_type": "code",
   "execution_count": 144,
   "id": "dea21c49",
   "metadata": {},
   "outputs": [
    {
     "data": {
      "text/plain": [
       "{0, 1, 3, 4, 5}"
      ]
     },
     "execution_count": 144,
     "metadata": {},
     "output_type": "execute_result"
    }
   ],
   "source": [
    "set2 ^ set1"
   ]
  },
  {
   "cell_type": "code",
   "execution_count": 146,
   "id": "abc9fb52",
   "metadata": {},
   "outputs": [],
   "source": [
    "# LOGICAL OPERATION"
   ]
  },
  {
   "cell_type": "code",
   "execution_count": 145,
   "id": "70479bf3",
   "metadata": {},
   "outputs": [
    {
     "data": {
      "text/plain": [
       "{'H', 'Hari', 'K', 'Krishna', 'R', 'Radha', 'Ram'}"
      ]
     },
     "execution_count": 145,
     "metadata": {},
     "output_type": "execute_result"
    }
   ],
   "source": [
    "mySet"
   ]
  },
  {
   "cell_type": "code",
   "execution_count": 147,
   "id": "ddd10373",
   "metadata": {},
   "outputs": [
    {
     "data": {
      "text/plain": [
       "True"
      ]
     },
     "execution_count": 147,
     "metadata": {},
     "output_type": "execute_result"
    }
   ],
   "source": [
    "'H' in mySet"
   ]
  },
  {
   "cell_type": "code",
   "execution_count": 148,
   "id": "52aea043",
   "metadata": {},
   "outputs": [
    {
     "data": {
      "text/plain": [
       "False"
      ]
     },
     "execution_count": 148,
     "metadata": {},
     "output_type": "execute_result"
    }
   ],
   "source": [
    "'H' not in mySet"
   ]
  },
  {
   "cell_type": "code",
   "execution_count": 149,
   "id": "faf2f1e8",
   "metadata": {},
   "outputs": [
    {
     "data": {
      "text/plain": [
       "{0, 1, 2}"
      ]
     },
     "execution_count": 149,
     "metadata": {},
     "output_type": "execute_result"
    }
   ],
   "source": [
    "set1"
   ]
  },
  {
   "cell_type": "code",
   "execution_count": 150,
   "id": "c8fa09d5",
   "metadata": {},
   "outputs": [
    {
     "data": {
      "text/plain": [
       "{2, 3, 4, 5}"
      ]
     },
     "execution_count": 150,
     "metadata": {},
     "output_type": "execute_result"
    }
   ],
   "source": [
    "set2"
   ]
  },
  {
   "cell_type": "code",
   "execution_count": 152,
   "id": "83d9bd23",
   "metadata": {},
   "outputs": [],
   "source": [
    "set1 = {0,1}\n",
    "set2 = {0,1,2,3}"
   ]
  },
  {
   "cell_type": "code",
   "execution_count": 153,
   "id": "62c79bfa",
   "metadata": {},
   "outputs": [
    {
     "data": {
      "text/plain": [
       "True"
      ]
     },
     "execution_count": 153,
     "metadata": {},
     "output_type": "execute_result"
    }
   ],
   "source": [
    "set1.issubset(set2)"
   ]
  },
  {
   "cell_type": "code",
   "execution_count": 155,
   "id": "9f1bc0b5",
   "metadata": {},
   "outputs": [
    {
     "data": {
      "text/plain": [
       "True"
      ]
     },
     "execution_count": 155,
     "metadata": {},
     "output_type": "execute_result"
    }
   ],
   "source": [
    "set1 <= set2"
   ]
  },
  {
   "cell_type": "code",
   "execution_count": 157,
   "id": "fe075474",
   "metadata": {},
   "outputs": [
    {
     "data": {
      "text/plain": [
       "True"
      ]
     },
     "execution_count": 157,
     "metadata": {},
     "output_type": "execute_result"
    }
   ],
   "source": [
    "set2.issuperset(set1)"
   ]
  },
  {
   "cell_type": "code",
   "execution_count": 158,
   "id": "ffa86396",
   "metadata": {},
   "outputs": [
    {
     "data": {
      "text/plain": [
       "True"
      ]
     },
     "execution_count": 158,
     "metadata": {},
     "output_type": "execute_result"
    }
   ],
   "source": [
    "set2 >= set1"
   ]
  },
  {
   "cell_type": "code",
   "execution_count": 159,
   "id": "d1e237a8",
   "metadata": {},
   "outputs": [],
   "source": [
    "myList = [1,2,3,4]"
   ]
  },
  {
   "cell_type": "code",
   "execution_count": 160,
   "id": "5f3383bf",
   "metadata": {},
   "outputs": [
    {
     "data": {
      "text/plain": [
       "2"
      ]
     },
     "execution_count": 160,
     "metadata": {},
     "output_type": "execute_result"
    }
   ],
   "source": [
    "myList[1]"
   ]
  },
  {
   "cell_type": "code",
   "execution_count": 166,
   "id": "6eaf296e",
   "metadata": {},
   "outputs": [],
   "source": [
    "mySet = set([1,2,3,4])"
   ]
  },
  {
   "cell_type": "code",
   "execution_count": 167,
   "id": "47513c9d",
   "metadata": {},
   "outputs": [
    {
     "data": {
      "text/plain": [
       "({1, 2, 3, 4}, set)"
      ]
     },
     "execution_count": 167,
     "metadata": {},
     "output_type": "execute_result"
    }
   ],
   "source": [
    "mySet, type(mySet)"
   ]
  },
  {
   "cell_type": "code",
   "execution_count": 169,
   "id": "d7690fbc",
   "metadata": {},
   "outputs": [],
   "source": [
    "# mySet[2] > not possible in set"
   ]
  },
  {
   "cell_type": "code",
   "execution_count": 176,
   "id": "c79bee83",
   "metadata": {},
   "outputs": [],
   "source": [
    "mySet = {1,3,5,8}"
   ]
  },
  {
   "cell_type": "code",
   "execution_count": 177,
   "id": "2d38fd5e",
   "metadata": {},
   "outputs": [
    {
     "name": "stdout",
     "output_type": "stream",
     "text": [
      "8\n",
      "1\n",
      "3\n",
      "5\n"
     ]
    }
   ],
   "source": [
    "for i in mySet:\n",
    "    print(i)"
   ]
  },
  {
   "cell_type": "code",
   "execution_count": 180,
   "id": "677dfa67",
   "metadata": {},
   "outputs": [],
   "source": [
    "mySet1 = {1,2,3,4}"
   ]
  },
  {
   "cell_type": "code",
   "execution_count": 181,
   "id": "ffdca3e5",
   "metadata": {},
   "outputs": [
    {
     "name": "stdout",
     "output_type": "stream",
     "text": [
      "1\n",
      "2\n",
      "3\n",
      "4\n"
     ]
    }
   ],
   "source": [
    "for i in mySet1:\n",
    "    print(i)"
   ]
  },
  {
   "cell_type": "code",
   "execution_count": 183,
   "id": "ec172f3f",
   "metadata": {},
   "outputs": [],
   "source": [
    "# Frozenset > Frozenset is immutable(we cant modify )"
   ]
  },
  {
   "cell_type": "code",
   "execution_count": 184,
   "id": "3d5b4963",
   "metadata": {},
   "outputs": [],
   "source": [
    "myFrozenset = frozenset((0,2,4))"
   ]
  },
  {
   "cell_type": "code",
   "execution_count": 185,
   "id": "29f06a93",
   "metadata": {},
   "outputs": [
    {
     "data": {
      "text/plain": [
       "frozenset({0, 2, 4})"
      ]
     },
     "execution_count": 185,
     "metadata": {},
     "output_type": "execute_result"
    }
   ],
   "source": [
    "myFrozenset"
   ]
  },
  {
   "cell_type": "code",
   "execution_count": 187,
   "id": "0172f5cb",
   "metadata": {},
   "outputs": [],
   "source": [
    "# myFrozenset.add(9) > AttributeError: "
   ]
  },
  {
   "cell_type": "markdown",
   "id": "6578658a",
   "metadata": {},
   "source": [
    "# Datetime"
   ]
  },
  {
   "cell_type": "markdown",
   "id": "5aaeca4b",
   "metadata": {},
   "source": [
    "date time module offers \n",
    "\n",
    "1. date\n",
    "2. time\n",
    "3. datetime\n",
    "4. timedelta\n",
    "\n",
    "all the obejctes are immutable, meance once created will not be changed you can munupulate and create new object"
   ]
  },
  {
   "cell_type": "markdown",
   "id": "c4caa0b5",
   "metadata": {},
   "source": [
    "###### date"
   ]
  },
  {
   "cell_type": "code",
   "execution_count": 1,
   "id": "04f7fd2e",
   "metadata": {},
   "outputs": [],
   "source": [
    "from datetime import date"
   ]
  },
  {
   "cell_type": "code",
   "execution_count": 7,
   "id": "d0456647",
   "metadata": {},
   "outputs": [
    {
     "name": "stdout",
     "output_type": "stream",
     "text": [
      "1990-08-21\n"
     ]
    }
   ],
   "source": [
    "dob = date(1990,8,21) # year, month, date\n",
    "print(dob)"
   ]
  },
  {
   "cell_type": "code",
   "execution_count": 9,
   "id": "b0715d37",
   "metadata": {},
   "outputs": [
    {
     "data": {
      "text/plain": [
       "datetime.date(1990, 3, 31)"
      ]
     },
     "execution_count": 9,
     "metadata": {},
     "output_type": "execute_result"
    }
   ],
   "source": [
    "date(1990,3,31)"
   ]
  },
  {
   "cell_type": "code",
   "execution_count": 10,
   "id": "9c1ec67d",
   "metadata": {},
   "outputs": [
    {
     "data": {
      "text/plain": [
       "datetime.date(2024, 9, 19)"
      ]
     },
     "execution_count": 10,
     "metadata": {},
     "output_type": "execute_result"
    }
   ],
   "source": [
    "date.today()"
   ]
  },
  {
   "cell_type": "code",
   "execution_count": 11,
   "id": "759dc56b",
   "metadata": {},
   "outputs": [
    {
     "data": {
      "text/plain": [
       "21"
      ]
     },
     "execution_count": 11,
     "metadata": {},
     "output_type": "execute_result"
    }
   ],
   "source": [
    "dob.day"
   ]
  },
  {
   "cell_type": "code",
   "execution_count": 12,
   "id": "1a9b2377",
   "metadata": {},
   "outputs": [
    {
     "data": {
      "text/plain": [
       "8"
      ]
     },
     "execution_count": 12,
     "metadata": {},
     "output_type": "execute_result"
    }
   ],
   "source": [
    "dob.month"
   ]
  },
  {
   "cell_type": "code",
   "execution_count": 13,
   "id": "0de4c8cf",
   "metadata": {},
   "outputs": [
    {
     "data": {
      "text/plain": [
       "1990"
      ]
     },
     "execution_count": 13,
     "metadata": {},
     "output_type": "execute_result"
    }
   ],
   "source": [
    "dob.year"
   ]
  },
  {
   "cell_type": "code",
   "execution_count": 15,
   "id": "17782ab9",
   "metadata": {},
   "outputs": [
    {
     "data": {
      "text/plain": [
       "'Tuesday 21 - August 1990'"
      ]
     },
     "execution_count": 15,
     "metadata": {},
     "output_type": "execute_result"
    }
   ],
   "source": [
    "dob.strftime(\"%A %d - %B %Y\")"
   ]
  },
  {
   "cell_type": "code",
   "execution_count": 23,
   "id": "fb5e593c",
   "metadata": {},
   "outputs": [
    {
     "data": {
      "text/plain": [
       "'00:00:00'"
      ]
     },
     "execution_count": 23,
     "metadata": {},
     "output_type": "execute_result"
    }
   ],
   "source": [
    "dob.strftime(\"%T\")"
   ]
  },
  {
   "cell_type": "code",
   "execution_count": 24,
   "id": "e6875a15",
   "metadata": {},
   "outputs": [
    {
     "data": {
      "text/plain": [
       "datetime.date(2024, 9, 19)"
      ]
     },
     "execution_count": 24,
     "metadata": {},
     "output_type": "execute_result"
    }
   ],
   "source": [
    "dob.today()"
   ]
  },
  {
   "cell_type": "markdown",
   "id": "19d66577",
   "metadata": {},
   "source": [
    "###### time"
   ]
  },
  {
   "cell_type": "code",
   "execution_count": 25,
   "id": "b8460c90",
   "metadata": {},
   "outputs": [],
   "source": [
    "from datetime import time"
   ]
  },
  {
   "cell_type": "code",
   "execution_count": 26,
   "id": "d2e7887f",
   "metadata": {},
   "outputs": [],
   "source": [
    "meet = time(11,33,55,88) # h,min,sec,micsec"
   ]
  },
  {
   "cell_type": "code",
   "execution_count": 27,
   "id": "da5ba16c",
   "metadata": {},
   "outputs": [
    {
     "data": {
      "text/plain": [
       "datetime.time(11, 33, 55, 88)"
      ]
     },
     "execution_count": 27,
     "metadata": {},
     "output_type": "execute_result"
    }
   ],
   "source": [
    "meet"
   ]
  },
  {
   "cell_type": "code",
   "execution_count": 28,
   "id": "a8818b22",
   "metadata": {},
   "outputs": [
    {
     "name": "stdout",
     "output_type": "stream",
     "text": [
      "11:33:55.000088\n"
     ]
    }
   ],
   "source": [
    "print(meet)"
   ]
  },
  {
   "cell_type": "code",
   "execution_count": 30,
   "id": "3dc48103",
   "metadata": {},
   "outputs": [
    {
     "data": {
      "text/plain": [
       "(11, 33, 55, 88)"
      ]
     },
     "execution_count": 30,
     "metadata": {},
     "output_type": "execute_result"
    }
   ],
   "source": [
    "meet.hour, meet.minute, meet.second, meet.microsecond"
   ]
  },
  {
   "cell_type": "markdown",
   "id": "115c4b63",
   "metadata": {},
   "source": [
    "###### datetime"
   ]
  },
  {
   "cell_type": "code",
   "execution_count": 31,
   "id": "b300d309",
   "metadata": {},
   "outputs": [],
   "source": [
    "from datetime import datetime"
   ]
  },
  {
   "cell_type": "code",
   "execution_count": 32,
   "id": "52d0942c",
   "metadata": {},
   "outputs": [],
   "source": [
    "dob_time = datetime(1988,11,27,6, 45, 50,999999)\n",
    "# date, month, date, hour, minute, second, microsecond"
   ]
  },
  {
   "cell_type": "code",
   "execution_count": 33,
   "id": "13e45c0c",
   "metadata": {},
   "outputs": [
    {
     "name": "stdout",
     "output_type": "stream",
     "text": [
      "1988-11-27 06:45:50.999999\n"
     ]
    }
   ],
   "source": [
    "print(dob_time)"
   ]
  },
  {
   "cell_type": "code",
   "execution_count": 34,
   "id": "79d1bca1",
   "metadata": {},
   "outputs": [
    {
     "data": {
      "text/plain": [
       "6"
      ]
     },
     "execution_count": 34,
     "metadata": {},
     "output_type": "execute_result"
    }
   ],
   "source": [
    "dob_time.hour"
   ]
  },
  {
   "cell_type": "code",
   "execution_count": 36,
   "id": "9df8b5b9",
   "metadata": {},
   "outputs": [
    {
     "data": {
      "text/plain": [
       "45"
      ]
     },
     "execution_count": 36,
     "metadata": {},
     "output_type": "execute_result"
    }
   ],
   "source": [
    "dob_time.minute"
   ]
  },
  {
   "cell_type": "code",
   "execution_count": 37,
   "id": "5324831e",
   "metadata": {},
   "outputs": [
    {
     "data": {
      "text/plain": [
       "27"
      ]
     },
     "execution_count": 37,
     "metadata": {},
     "output_type": "execute_result"
    }
   ],
   "source": [
    "dob_time.day"
   ]
  },
  {
   "cell_type": "code",
   "execution_count": 38,
   "id": "0ada0f43",
   "metadata": {},
   "outputs": [
    {
     "data": {
      "text/plain": [
       "50"
      ]
     },
     "execution_count": 38,
     "metadata": {},
     "output_type": "execute_result"
    }
   ],
   "source": [
    "dob_time.second"
   ]
  },
  {
   "cell_type": "markdown",
   "id": "c163925a",
   "metadata": {},
   "source": [
    "###### timedelta\n",
    "\n",
    "weeks, days, hours, minutes, seconds, microseconds, milliseconds"
   ]
  },
  {
   "cell_type": "code",
   "execution_count": 39,
   "id": "90105a27",
   "metadata": {},
   "outputs": [],
   "source": [
    "from datetime import timedelta"
   ]
  },
  {
   "cell_type": "code",
   "execution_count": 41,
   "id": "73e9c19c",
   "metadata": {},
   "outputs": [],
   "source": [
    "duration = timedelta(days=2, hours=3, minutes=45)"
   ]
  },
  {
   "cell_type": "code",
   "execution_count": 42,
   "id": "3a27f5c1",
   "metadata": {},
   "outputs": [
    {
     "name": "stdout",
     "output_type": "stream",
     "text": [
      "2 days, 3:45:00\n"
     ]
    }
   ],
   "source": [
    "print(duration)"
   ]
  },
  {
   "cell_type": "code",
   "execution_count": 44,
   "id": "68393286",
   "metadata": {},
   "outputs": [],
   "source": [
    "my_dob = datetime(1991, 5, 17)\n",
    "your_dob = datetime(1990, 8, 21)"
   ]
  },
  {
   "cell_type": "code",
   "execution_count": 46,
   "id": "d6ede9e0",
   "metadata": {},
   "outputs": [],
   "source": [
    "# my_dob + your_dob  > TypeError: unsupported operand type(s) for +: 'datetime.datetime"
   ]
  },
  {
   "cell_type": "code",
   "execution_count": 47,
   "id": "591f3ca4",
   "metadata": {},
   "outputs": [
    {
     "data": {
      "text/plain": [
       "datetime.timedelta(days=269)"
      ]
     },
     "execution_count": 47,
     "metadata": {},
     "output_type": "execute_result"
    }
   ],
   "source": [
    "my_dob - your_dob"
   ]
  },
  {
   "cell_type": "code",
   "execution_count": 48,
   "id": "0285c7d7",
   "metadata": {},
   "outputs": [],
   "source": [
    "duration = timedelta(days=2)"
   ]
  },
  {
   "cell_type": "code",
   "execution_count": 51,
   "id": "72af4edb",
   "metadata": {},
   "outputs": [
    {
     "name": "stdout",
     "output_type": "stream",
     "text": [
      "2 days, 0:00:00\n"
     ]
    }
   ],
   "source": [
    "print(duration)"
   ]
  },
  {
   "cell_type": "code",
   "execution_count": 54,
   "id": "de03ec6d",
   "metadata": {},
   "outputs": [
    {
     "data": {
      "text/plain": [
       "datetime.datetime(1991, 5, 17, 0, 0)"
      ]
     },
     "execution_count": 54,
     "metadata": {},
     "output_type": "execute_result"
    }
   ],
   "source": [
    "my_dob"
   ]
  },
  {
   "cell_type": "code",
   "execution_count": 53,
   "id": "234beab2",
   "metadata": {},
   "outputs": [
    {
     "data": {
      "text/plain": [
       "datetime.datetime(1991, 5, 19, 0, 0)"
      ]
     },
     "execution_count": 53,
     "metadata": {},
     "output_type": "execute_result"
    }
   ],
   "source": [
    "my_dob + duration"
   ]
  },
  {
   "cell_type": "code",
   "execution_count": 55,
   "id": "383d4133",
   "metadata": {},
   "outputs": [],
   "source": [
    "# subtract some thing\n",
    "\n",
    "duration = timedelta(hours=1,seconds=15)"
   ]
  },
  {
   "cell_type": "code",
   "execution_count": 56,
   "id": "311fb5c9",
   "metadata": {},
   "outputs": [
    {
     "data": {
      "text/plain": [
       "datetime.datetime(1991, 5, 17, 0, 0)"
      ]
     },
     "execution_count": 56,
     "metadata": {},
     "output_type": "execute_result"
    }
   ],
   "source": [
    "my_dob"
   ]
  },
  {
   "cell_type": "code",
   "execution_count": 57,
   "id": "bf47f477",
   "metadata": {},
   "outputs": [
    {
     "data": {
      "text/plain": [
       "datetime.datetime(1991, 5, 16, 22, 59, 45)"
      ]
     },
     "execution_count": 57,
     "metadata": {},
     "output_type": "execute_result"
    }
   ],
   "source": [
    "my_dob-duration"
   ]
  },
  {
   "cell_type": "markdown",
   "id": "4422e286",
   "metadata": {},
   "source": [
    "    datetime + datetime = not allowed\n",
    "    datetime - datetime = datetime\n",
    "    datetime + timedelta = datetime\n",
    "    datetime - timedelta = datetime \n"
   ]
  },
  {
   "cell_type": "code",
   "execution_count": 58,
   "id": "cf5b01ce",
   "metadata": {},
   "outputs": [],
   "source": [
    "my_time = time(8,15,10)\n",
    "your_time = time(11, 33, 48)"
   ]
  },
  {
   "cell_type": "code",
   "execution_count": 59,
   "id": "3a38f2c3",
   "metadata": {},
   "outputs": [
    {
     "name": "stdout",
     "output_type": "stream",
     "text": [
      "08:15:10\n"
     ]
    }
   ],
   "source": [
    "print(my_time)"
   ]
  },
  {
   "cell_type": "code",
   "execution_count": 60,
   "id": "cb451292",
   "metadata": {},
   "outputs": [
    {
     "name": "stdout",
     "output_type": "stream",
     "text": [
      "11:33:48\n"
     ]
    }
   ],
   "source": [
    "print(your_time)"
   ]
  },
  {
   "cell_type": "code",
   "execution_count": 62,
   "id": "c5df6b29",
   "metadata": {},
   "outputs": [],
   "source": [
    "# my_time - your_time > TypeError: unsupported operand type(s) for -: 'datetime.time'"
   ]
  },
  {
   "cell_type": "code",
   "execution_count": 63,
   "id": "76737fd0",
   "metadata": {},
   "outputs": [],
   "source": [
    "my_time = time(10,0)\n",
    "duration = timedelta(hours =1)\n"
   ]
  },
  {
   "cell_type": "code",
   "execution_count": 65,
   "id": "bd20fe6a",
   "metadata": {},
   "outputs": [],
   "source": [
    "# my_time-duration > not supported"
   ]
  },
  {
   "cell_type": "markdown",
   "id": "60928785",
   "metadata": {},
   "source": [
    "python does not support any arithmatic opeartion related to time, because time does not any sense with day\n",
    "\n",
    "    time + timedelta = Not allowed\n",
    "    time - timedelta = Not allowed\n",
    "    time + time = Not allowed\n",
    "    time - time = Not allowed"
   ]
  },
  {
   "cell_type": "raw",
   "id": "9550dd4b",
   "metadata": {},
   "source": [
    "date but no time > date()\n",
    "date and time > datetime()"
   ]
  }
 ],
 "metadata": {
  "kernelspec": {
   "display_name": "Python 3 (ipykernel)",
   "language": "python",
   "name": "python3"
  },
  "language_info": {
   "codemirror_mode": {
    "name": "ipython",
    "version": 3
   },
   "file_extension": ".py",
   "mimetype": "text/x-python",
   "name": "python",
   "nbconvert_exporter": "python",
   "pygments_lexer": "ipython3",
   "version": "3.12.0"
  }
 },
 "nbformat": 4,
 "nbformat_minor": 5
}
