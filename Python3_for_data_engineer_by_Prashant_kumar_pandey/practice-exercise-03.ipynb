{
 "cells": [
  {
   "cell_type": "markdown",
   "metadata": {},
   "source": [
    "# Practice Exercise - 03"
   ]
  },
  {
   "cell_type": "markdown",
   "metadata": {},
   "source": [
    "### Question 1:\n",
    "\n",
    "Convert the string given below into a list by taking each word separated by a comma as an element.\n",
    "\n",
    "languages = \"Java, Python, C++, Scala, C\"\n",
    "\n",
    "#### Expected Output:\n",
    "\n",
    "['Java', ' Python', ' C++', ' Scala', ' C']"
   ]
  },
  {
   "cell_type": "code",
   "execution_count": 5,
   "metadata": {},
   "outputs": [
    {
     "data": {
      "text/plain": [
       "['Java, Python, C++, Scala, C']"
      ]
     },
     "execution_count": 5,
     "metadata": {},
     "output_type": "execute_result"
    }
   ],
   "source": [
    "languages = \"Java, Python, C++, Scala, C\"\n",
    "[languages]"
   ]
  },
  {
   "cell_type": "code",
   "execution_count": 9,
   "metadata": {},
   "outputs": [
    {
     "data": {
      "text/plain": [
       "(['Java, Python, C++, Scala, C'], list)"
      ]
     },
     "execution_count": 9,
     "metadata": {},
     "output_type": "execute_result"
    }
   ],
   "source": [
    "newlist=[languages]\n",
    "newlist, type(newlist)"
   ]
  },
  {
   "cell_type": "markdown",
   "metadata": {},
   "source": [
    "### Question 2:\n",
    "\n",
    "We have a list of numbers given below. Add the element '10' at the 3rd position of the list and finally print the list.\n",
    "\n",
    "num_list = [5, 6, 8, 7, 9]\n",
    "\n",
    "#### Expected Output:\n",
    "\n",
    "[5, 6, 8, 10, 7, 9]"
   ]
  },
  {
   "cell_type": "code",
   "execution_count": 82,
   "metadata": {},
   "outputs": [
    {
     "name": "stdout",
     "output_type": "stream",
     "text": [
      "[5, 6, 8, 10, 7, 9]\n"
     ]
    }
   ],
   "source": [
    "num_list = [5, 6, 8, 7, 9]\n",
    "num_list.insert(3,10)\n",
    "print(num_list)"
   ]
  },
  {
   "cell_type": "markdown",
   "metadata": {},
   "source": [
    "### Question 3:\n",
    "\n",
    "Print all the multiples of 3 between 5 and 25.\n",
    "i.e You need to find and display all numbers between 5 and 25 that are divisible by 3.\n",
    "\n",
    "#### Expected Output:\n",
    "\n",
    "6\n",
    "<br>9\n",
    "<br>12\n",
    "<br>15\n",
    "<br>18\n",
    "<br>21\n",
    "<br>24"
   ]
  },
  {
   "cell_type": "code",
   "execution_count": 11,
   "metadata": {},
   "outputs": [
    {
     "name": "stdout",
     "output_type": "stream",
     "text": [
      "6\n",
      "9\n",
      "12\n",
      "15\n",
      "18\n",
      "21\n",
      "24\n"
     ]
    }
   ],
   "source": [
    "for num in range(5,25):\n",
    "    if num%3 == 0:\n",
    "        print(num)\n",
    "    else:\n",
    "        pass"
   ]
  },
  {
   "cell_type": "markdown",
   "metadata": {},
   "source": [
    "### Question 4:\n",
    "\n",
    "We have a list of numbers given below. Print the square of these numbers into another list using list comprehension.\n",
    "\n",
    "num = [2, 4, 6, 8]\n",
    "\n",
    "#### Expected Output:\n",
    "\n",
    "[4, 16, 36, 64]"
   ]
  },
  {
   "cell_type": "code",
   "execution_count": 12,
   "metadata": {},
   "outputs": [
    {
     "name": "stdout",
     "output_type": "stream",
     "text": [
      "[4, 16, 36, 64]\n"
     ]
    }
   ],
   "source": [
    "num = [2, 4, 6, 8]\n",
    "square_num_list = [i*i for i in num]\n",
    "print(square_num_list)"
   ]
  },
  {
   "cell_type": "markdown",
   "metadata": {},
   "source": [
    "### Question 5:\n",
    "\n",
    "Print the first 10 natural numbers.\n",
    "\n",
    "#### Expected Output:\n",
    "\n",
    "1\n",
    "<br>2\n",
    "<br>3\n",
    "<br>4\n",
    "<br>5\n",
    "<br>6\n",
    "<br>7\n",
    "<br>8\n",
    "<br>9\n",
    "<br>10"
   ]
  },
  {
   "cell_type": "code",
   "execution_count": 16,
   "metadata": {},
   "outputs": [
    {
     "name": "stdout",
     "output_type": "stream",
     "text": [
      "1\n",
      "2\n",
      "3\n",
      "4\n",
      "5\n",
      "6\n",
      "7\n",
      "8\n",
      "9\n",
      "10\n"
     ]
    }
   ],
   "source": [
    "for i in range(1,11):\n",
    "    print(i)"
   ]
  },
  {
   "cell_type": "code",
   "execution_count": 83,
   "metadata": {},
   "outputs": [
    {
     "name": "stdout",
     "output_type": "stream",
     "text": [
      "1\n",
      "2\n",
      "3\n",
      "4\n",
      "5\n",
      "6\n",
      "7\n",
      "8\n",
      "9\n",
      "10\n"
     ]
    }
   ],
   "source": [
    "num = 1\n",
    "while num <=10:\n",
    "    print(num)\n",
    "    num+=1"
   ]
  },
  {
   "cell_type": "markdown",
   "metadata": {},
   "source": [
    "### Question 6:\n",
    "\n",
    "We have a tuple of numbers given below. Remove the largest number from the tuple and print it in sorted order.\n",
    "\n",
    "num_tuple = (5, 8, 13, 2, 17, 1)\n",
    "\n",
    "#### Expected Output:\n",
    "\n",
    "[1, 2, 5, 8, 13]"
   ]
  },
  {
   "cell_type": "code",
   "execution_count": 34,
   "metadata": {},
   "outputs": [
    {
     "name": "stdout",
     "output_type": "stream",
     "text": [
      "[1, 2, 5, 8, 13]\n"
     ]
    }
   ],
   "source": [
    "num_tuple = (5, 8, 13, 2, 17, 1)\n",
    "#  coverting tuple to list\n",
    "sorted_list = list(num_tuple)\n",
    "# removing the maximum number from list\n",
    "sorted_list.remove(max(sorted_list))\n",
    "# sorting list in ascending order\n",
    "sorted_list.sort()\n",
    "print(sorted_list)"
   ]
  },
  {
   "cell_type": "code",
   "execution_count": 84,
   "metadata": {},
   "outputs": [
    {
     "data": {
      "text/plain": [
       "[1, 2, 5, 8, 13]"
      ]
     },
     "execution_count": 84,
     "metadata": {},
     "output_type": "execute_result"
    }
   ],
   "source": [
    "sorttup = sorted(num_tuple)\n",
    "sorttup.pop()\n",
    "sorttup"
   ]
  },
  {
   "cell_type": "markdown",
   "metadata": {},
   "source": [
    "### Question 7:\n",
    "\n",
    "Convert the list given below into a string using a comma as a separator argument.\n",
    "\n",
    "myList = ['Lenovo', ' Dell', ' Acer', ' Asus', ' HP']\n",
    "\n",
    "#### Expected Output:\n",
    "\n",
    "'Lenovo, Dell, Acer, Asus, HP'"
   ]
  },
  {
   "cell_type": "code",
   "execution_count": 50,
   "metadata": {},
   "outputs": [
    {
     "name": "stdout",
     "output_type": "stream",
     "text": [
      "<class 'str'>\n"
     ]
    },
    {
     "data": {
      "text/plain": [
       "'Lenovo, Dell, Acer, Asus, HP'"
      ]
     },
     "execution_count": 50,
     "metadata": {},
     "output_type": "execute_result"
    }
   ],
   "source": [
    "myList = ['Lenovo', ' Dell', ' Acer', ' Asus', ' HP']\n",
    "result = ','.join(myList)\n",
    "print(type(result))\n",
    "result"
   ]
  },
  {
   "cell_type": "code",
   "execution_count": 46,
   "metadata": {},
   "outputs": [
    {
     "data": {
      "text/plain": [
       "(['Lenovo,', 'Dell,', 'Acer,', 'Asus,', 'HP'], list)"
      ]
     },
     "execution_count": 46,
     "metadata": {},
     "output_type": "execute_result"
    }
   ],
   "source": [
    "result.split(), type(result.split())"
   ]
  },
  {
   "cell_type": "markdown",
   "metadata": {},
   "source": [
    "### Question 8:\n",
    "\n",
    "Print all the even numbers between -10 and 0.\n",
    "\n",
    "#### Expected Output:\n",
    "\n",
    "-10\n",
    "<br>-8\n",
    "<br>-6\n",
    "<br>-4\n",
    "<br>-2"
   ]
  },
  {
   "cell_type": "code",
   "execution_count": 51,
   "metadata": {},
   "outputs": [
    {
     "name": "stdout",
     "output_type": "stream",
     "text": [
      "-10\n",
      "-8\n",
      "-6\n",
      "-4\n",
      "-2\n"
     ]
    }
   ],
   "source": [
    "for i in range(-10,0):\n",
    "    if i%2==0:\n",
    "        print(i)"
   ]
  },
  {
   "cell_type": "code",
   "execution_count": 56,
   "metadata": {},
   "outputs": [
    {
     "name": "stdout",
     "output_type": "stream",
     "text": [
      "-10\n",
      "-8\n",
      "-6\n",
      "-4\n",
      "-2\n"
     ]
    }
   ],
   "source": [
    "for i in range(-10,0,2):\n",
    "    print(i)"
   ]
  },
  {
   "cell_type": "markdown",
   "metadata": {},
   "source": [
    "### Question 9:\n",
    "\n",
    "Reverse the integer given below.\n",
    "\n",
    "n = 5623\n",
    "\n",
    "#### Expected Output:\n",
    "\n",
    "3265"
   ]
  },
  {
   "cell_type": "code",
   "execution_count": 71,
   "metadata": {},
   "outputs": [
    {
     "name": "stdout",
     "output_type": "stream",
     "text": [
      "3265\n"
     ]
    }
   ],
   "source": [
    "n = 5623\n",
    "rn = 0\n",
    "\n",
    "while n!=0:\n",
    "    lastdigit = n % 10 # taken last digit\n",
    "    rn = rn * 10 + lastdigit # add latdigit with result\n",
    "    n = n//10 # remove the last digit from original\n",
    "    \n",
    "print(rn)"
   ]
  },
  {
   "cell_type": "code",
   "execution_count": 75,
   "metadata": {},
   "outputs": [
    {
     "name": "stdout",
     "output_type": "stream",
     "text": [
      "123456789\n"
     ]
    }
   ],
   "source": [
    "n = 987654321\n",
    "result = 0\n",
    "\n",
    "while n >0:\n",
    "    last_digit = n % 10 \n",
    "    result = result * 10 + last_digit\n",
    "    n = n//10\n",
    "print(result)"
   ]
  },
  {
   "cell_type": "markdown",
   "metadata": {},
   "source": [
    "### Question 10:\n",
    "\n",
    "We have a list of numbers given below. Print the number, square of the number, and the cube of the number, all in a single list.\n",
    "\n",
    "num = [2, 4, 6, 8]\n",
    "\n",
    "#### Expected Output:\n",
    "\n",
    "[(2, 4, 8), (4, 16, 64), (6, 36, 216), (8, 64, 512)]"
   ]
  },
  {
   "cell_type": "code",
   "execution_count": 76,
   "metadata": {},
   "outputs": [
    {
     "name": "stdout",
     "output_type": "stream",
     "text": [
      "[(2, 4, 8), (4, 16, 64), (6, 36, 216), (8, 64, 512)]\n"
     ]
    }
   ],
   "source": [
    "num = [2, 4, 6, 8]\n",
    "result = [(a,a**2,a**3) for a in num]\n",
    "print(result)"
   ]
  },
  {
   "cell_type": "code",
   "execution_count": 79,
   "metadata": {},
   "outputs": [
    {
     "name": "stdout",
     "output_type": "stream",
     "text": [
      "[(2, 2, 4, 8, 4, 8), (4, 4, 16, 64, 16, 64), (6, 6, 36, 216, 36, 216), (8, 8, 64, 512, 64, 512)]\n"
     ]
    }
   ],
   "source": [
    "num = [(2,2), (4,4), (6,6), (8,8)]\n",
    "result = [(a,b,a**2,a**3,b**2,b**3) for (a,b) in num]\n",
    "print(result)"
   ]
  },
  {
   "cell_type": "code",
   "execution_count": 81,
   "metadata": {},
   "outputs": [
    {
     "name": "stdout",
     "output_type": "stream",
     "text": [
      "[(2, 2, 4, 4), (4, 4, 16, 256), (6, 6, 36, 46656), (8, 8, 64, 16777216)]\n"
     ]
    }
   ],
   "source": [
    "num = [(2,2), (4,4), (6,6), (8,8)]\n",
    "result = [(a,b, a*b, a**b) for (a,b) in num]\n",
    "print(result)"
   ]
  },
  {
   "cell_type": "code",
   "execution_count": null,
   "metadata": {},
   "outputs": [],
   "source": []
  }
 ],
 "metadata": {
  "kernelspec": {
   "display_name": "Python 3 (ipykernel)",
   "language": "python",
   "name": "python3"
  },
  "language_info": {
   "codemirror_mode": {
    "name": "ipython",
    "version": 3
   },
   "file_extension": ".py",
   "mimetype": "text/x-python",
   "name": "python",
   "nbconvert_exporter": "python",
   "pygments_lexer": "ipython3",
   "version": "3.12.0"
  }
 },
 "nbformat": 4,
 "nbformat_minor": 4
}
