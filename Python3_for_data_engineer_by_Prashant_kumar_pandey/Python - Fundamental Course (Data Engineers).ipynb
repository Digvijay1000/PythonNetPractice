{
 "cells": [
  {
   "cell_type": "markdown",
   "id": "489642e9",
   "metadata": {},
   "source": [
    "# Working with string"
   ]
  },
  {
   "cell_type": "markdown",
   "id": "454ae874",
   "metadata": {},
   "source": [
    "### 1. String Literals"
   ]
  },
  {
   "cell_type": "code",
   "execution_count": 1,
   "id": "b0d32eee",
   "metadata": {},
   "outputs": [
    {
     "name": "stdout",
     "output_type": "stream",
     "text": [
      "Limit your \"Always\" AND \"Nevers.\"\n",
      "Thime isn't the main thing. It's the only thing\n"
     ]
    }
   ],
   "source": [
    "quote1 = 'Limit your \"Always\" AND \"Nevers.\"'\n",
    "quote2 = \"Thime isn't the main thing. It's the only thing\"\n",
    "print(quote1)\n",
    "print(quote2)"
   ]
  },
  {
   "cell_type": "code",
   "execution_count": 2,
   "id": "fd8da42e",
   "metadata": {},
   "outputs": [
    {
     "name": "stdout",
     "output_type": "stream",
     "text": [
      "Hi!\n",
      "      How are you doing today?\n",
      "when can we meet?\n"
     ]
    }
   ],
   "source": [
    "msg = \"\"\"Hi!\n",
    "      How are you doing today?\n",
    "when can we meet?\"\"\"\n",
    "print(msg)"
   ]
  },
  {
   "cell_type": "code",
   "execution_count": 3,
   "id": "aa280a99",
   "metadata": {},
   "outputs": [
    {
     "data": {
      "text/plain": [
       "\"Don't run\""
      ]
     },
     "execution_count": 3,
     "metadata": {},
     "output_type": "execute_result"
    },
    {
     "data": {
      "text/plain": [
       "\"Don't run\""
      ]
     },
     "execution_count": 3,
     "metadata": {},
     "output_type": "execute_result"
    }
   ],
   "source": [
    "'Don\\'t run'"
   ]
  },
  {
   "cell_type": "code",
   "execution_count": 4,
   "id": "6b1f1a01",
   "metadata": {},
   "outputs": [],
   "source": [
    "# 'don't run' >> syntax error"
   ]
  },
  {
   "cell_type": "code",
   "execution_count": 5,
   "id": "faf53862",
   "metadata": {},
   "outputs": [
    {
     "name": "stdout",
     "output_type": "stream",
     "text": [
      "Hi\n",
      "How are you doing today?\n",
      "See you at:\t10:00 AM\n"
     ]
    }
   ],
   "source": [
    "msg = \"Hi\\nHow are you doing today?\\nSee you at:\\t10:00 AM\"\n",
    "print(msg)"
   ]
  },
  {
   "cell_type": "markdown",
   "id": "e7880c21",
   "metadata": {},
   "source": [
    "### 2. String Functions"
   ]
  },
  {
   "cell_type": "code",
   "execution_count": 6,
   "id": "9c088d12",
   "metadata": {},
   "outputs": [],
   "source": [
    "name = \"Learning Journel\""
   ]
  },
  {
   "cell_type": "code",
   "execution_count": 7,
   "id": "9f694975",
   "metadata": {},
   "outputs": [
    {
     "data": {
      "text/plain": [
       "['Learning', 'Journel']"
      ]
     },
     "execution_count": 7,
     "metadata": {},
     "output_type": "execute_result"
    }
   ],
   "source": [
    "name.split()"
   ]
  },
  {
   "cell_type": "code",
   "execution_count": 8,
   "id": "9ae6d93f",
   "metadata": {},
   "outputs": [],
   "source": [
    "name = \"Big Data, Machine Learning, Artificial Intelligence\""
   ]
  },
  {
   "cell_type": "code",
   "execution_count": 9,
   "id": "90bf430b",
   "metadata": {},
   "outputs": [
    {
     "data": {
      "text/plain": [
       "['Big Data', ' Machine Learning', ' Artificial Intelligence']"
      ]
     },
     "execution_count": 9,
     "metadata": {},
     "output_type": "execute_result"
    }
   ],
   "source": [
    "name.split(',')"
   ]
  },
  {
   "cell_type": "code",
   "execution_count": 10,
   "id": "ad0638c6",
   "metadata": {},
   "outputs": [],
   "source": [
    "namelist = [\"Big Data\", \"Machine Learning\", \"Artificial Intelligence\"]"
   ]
  },
  {
   "cell_type": "code",
   "execution_count": 11,
   "id": "a412a086",
   "metadata": {},
   "outputs": [
    {
     "data": {
      "text/plain": [
       "['Big Data', 'Machine Learning', 'Artificial Intelligence']"
      ]
     },
     "execution_count": 11,
     "metadata": {},
     "output_type": "execute_result"
    }
   ],
   "source": [
    "namelist"
   ]
  },
  {
   "cell_type": "code",
   "execution_count": 12,
   "id": "60cf605d",
   "metadata": {},
   "outputs": [
    {
     "name": "stdout",
     "output_type": "stream",
     "text": [
      "Big Data,Machine Learning,Artificial Intelligence\n"
     ]
    }
   ],
   "source": [
    "namestring = ','.join(namelist)\n",
    "print(namestring)"
   ]
  },
  {
   "cell_type": "code",
   "execution_count": 13,
   "id": "e0241f35",
   "metadata": {},
   "outputs": [
    {
     "name": "stdout",
     "output_type": "stream",
     "text": [
      "Hey there! I am going to the zoo.\n",
      "Hey there! I am going to the park.\n"
     ]
    }
   ],
   "source": [
    "msg ='Hey there! I am going to the park.'\n",
    "print(msg.replace('park','zoo'))\n",
    "print(msg)"
   ]
  },
  {
   "cell_type": "code",
   "execution_count": 14,
   "id": "775afda9",
   "metadata": {},
   "outputs": [],
   "source": [
    "name = \"    Learning Journel    \""
   ]
  },
  {
   "cell_type": "code",
   "execution_count": 15,
   "id": "cbcf826f",
   "metadata": {},
   "outputs": [
    {
     "data": {
      "text/plain": [
       "'Learning Journel'"
      ]
     },
     "execution_count": 15,
     "metadata": {},
     "output_type": "execute_result"
    }
   ],
   "source": [
    "name.strip()"
   ]
  },
  {
   "cell_type": "code",
   "execution_count": 16,
   "id": "6f426885",
   "metadata": {},
   "outputs": [
    {
     "data": {
      "text/plain": [
       "'    Learning Journel'"
      ]
     },
     "execution_count": 16,
     "metadata": {},
     "output_type": "execute_result"
    }
   ],
   "source": [
    "name.rstrip()"
   ]
  },
  {
   "cell_type": "code",
   "execution_count": 17,
   "id": "f3d8b49a",
   "metadata": {},
   "outputs": [
    {
     "data": {
      "text/plain": [
       "'Learning Journel    '"
      ]
     },
     "execution_count": 17,
     "metadata": {},
     "output_type": "execute_result"
    }
   ],
   "source": [
    "name.lstrip()"
   ]
  },
  {
   "cell_type": "markdown",
   "id": "b872235c",
   "metadata": {},
   "source": [
    "### 3. String Formatting"
   ]
  },
  {
   "cell_type": "code",
   "execution_count": 18,
   "id": "5caf257f",
   "metadata": {},
   "outputs": [],
   "source": [
    "name = \"John\"\n",
    "age = \"25\""
   ]
  },
  {
   "cell_type": "code",
   "execution_count": 19,
   "id": "a30dff77",
   "metadata": {},
   "outputs": [
    {
     "name": "stdout",
     "output_type": "stream",
     "text": [
      "Hey! It's John, and I am 25 years old.\n"
     ]
    }
   ],
   "source": [
    "info = \"Hey! It's \" + name + \", and I am \" + age + \" years old.\"\n",
    "print(info)"
   ]
  },
  {
   "cell_type": "code",
   "execution_count": 20,
   "id": "54718c7a",
   "metadata": {},
   "outputs": [
    {
     "name": "stdout",
     "output_type": "stream",
     "text": [
      "Hey! It's John, and I am 25 years old.\n"
     ]
    }
   ],
   "source": [
    "info = \"Hey! It's {}, and I am {} years old.\".format(name,age)\n",
    "print(info)"
   ]
  },
  {
   "cell_type": "code",
   "execution_count": 21,
   "id": "3104ab6a",
   "metadata": {},
   "outputs": [
    {
     "name": "stdout",
     "output_type": "stream",
     "text": [
      "Hey! It's John, and I am 25 years old.\n"
     ]
    }
   ],
   "source": [
    "info = f\"Hey! It's {name}, and I am {age} years old.\"\n",
    "print(info)"
   ]
  },
  {
   "cell_type": "markdown",
   "id": "ac9b9149",
   "metadata": {},
   "source": [
    "# Working with List and Tuple"
   ]
  },
  {
   "cell_type": "code",
   "execution_count": 22,
   "id": "304abfed",
   "metadata": {},
   "outputs": [
    {
     "name": "stdout",
     "output_type": "stream",
     "text": [
      "('Big Data', 'Machine Learning')\n",
      "['Artificial Intelligence', 'Data Analytics']\n"
     ]
    }
   ],
   "source": [
    "myTuple = ('Big Data', 'Machine Learning')\n",
    "myList = ['Artificial Intelligence', 'Data Analytics']\n",
    "print(myTuple)\n",
    "print(myList)"
   ]
  },
  {
   "cell_type": "code",
   "execution_count": 23,
   "id": "4afc646e",
   "metadata": {},
   "outputs": [],
   "source": [
    "# we can mix different types of elements"
   ]
  },
  {
   "cell_type": "code",
   "execution_count": 24,
   "id": "56ec8ca3",
   "metadata": {},
   "outputs": [
    {
     "name": "stdout",
     "output_type": "stream",
     "text": [
      "['A', 'B', 2, 2.8]\n"
     ]
    }
   ],
   "source": [
    "myList2 = [\"A\",\"B\", 2, 2.8]\n",
    "print(myList2)"
   ]
  },
  {
   "cell_type": "code",
   "execution_count": 25,
   "id": "73acd7c1",
   "metadata": {},
   "outputs": [],
   "source": [
    "myList2.append('Data Science')"
   ]
  },
  {
   "cell_type": "code",
   "execution_count": 26,
   "id": "6abafbc2",
   "metadata": {},
   "outputs": [
    {
     "name": "stdout",
     "output_type": "stream",
     "text": [
      "['A', 'B', 2, 2.8, 'Data Science']\n"
     ]
    }
   ],
   "source": [
    "print(myList2)"
   ]
  },
  {
   "cell_type": "code",
   "execution_count": 27,
   "id": "8f2835b9",
   "metadata": {},
   "outputs": [
    {
     "data": {
      "text/plain": [
       "('Big Data', 'Machine Learning')"
      ]
     },
     "execution_count": 27,
     "metadata": {},
     "output_type": "execute_result"
    }
   ],
   "source": [
    "myTuple"
   ]
  },
  {
   "cell_type": "code",
   "execution_count": 28,
   "id": "4b9d8274",
   "metadata": {},
   "outputs": [],
   "source": [
    "# myTuple.append(\"a\") > AttributeError"
   ]
  },
  {
   "cell_type": "code",
   "execution_count": 29,
   "id": "4e20b321",
   "metadata": {},
   "outputs": [
    {
     "data": {
      "text/plain": [
       "(['Artificial Intelligence', 'Data Analytics'],\n",
       " ('Big Data', 'Machine Learning'))"
      ]
     },
     "execution_count": 29,
     "metadata": {},
     "output_type": "execute_result"
    }
   ],
   "source": [
    "myList, myTuple"
   ]
  },
  {
   "cell_type": "code",
   "execution_count": 30,
   "id": "c53735ad",
   "metadata": {},
   "outputs": [
    {
     "name": "stdout",
     "output_type": "stream",
     "text": [
      "2\n",
      "2\n"
     ]
    }
   ],
   "source": [
    "print(len(myTuple))\n",
    "print(len(myList))"
   ]
  },
  {
   "cell_type": "code",
   "execution_count": 31,
   "id": "37ea5e91",
   "metadata": {},
   "outputs": [
    {
     "name": "stdout",
     "output_type": "stream",
     "text": [
      "48\n",
      "1\n",
      "52\n",
      "7\n"
     ]
    }
   ],
   "source": [
    "list1 = [23,48,1, 17]\n",
    "tuple1 = (25, 52, 7, 12)\n",
    "print(max(list1))\n",
    "print(min(list1))\n",
    "print(max(tuple1))\n",
    "print(min(tuple1))"
   ]
  },
  {
   "cell_type": "code",
   "execution_count": 32,
   "id": "9d2b9c31",
   "metadata": {},
   "outputs": [
    {
     "data": {
      "text/plain": [
       "17"
      ]
     },
     "execution_count": 32,
     "metadata": {},
     "output_type": "execute_result"
    }
   ],
   "source": [
    "list1.pop()"
   ]
  },
  {
   "cell_type": "code",
   "execution_count": 33,
   "id": "a11fecc0",
   "metadata": {},
   "outputs": [
    {
     "data": {
      "text/plain": [
       "[23, 48, 1]"
      ]
     },
     "execution_count": 33,
     "metadata": {},
     "output_type": "execute_result"
    }
   ],
   "source": [
    "list1"
   ]
  },
  {
   "cell_type": "code",
   "execution_count": 34,
   "id": "012ef878",
   "metadata": {},
   "outputs": [],
   "source": [
    "list1.append(8)"
   ]
  },
  {
   "cell_type": "code",
   "execution_count": 35,
   "id": "bfc5a24d",
   "metadata": {},
   "outputs": [
    {
     "data": {
      "text/plain": [
       "[23, 48, 1, 8]"
      ]
     },
     "execution_count": 35,
     "metadata": {},
     "output_type": "execute_result"
    }
   ],
   "source": [
    "list1"
   ]
  },
  {
   "cell_type": "code",
   "execution_count": 36,
   "id": "04625368",
   "metadata": {},
   "outputs": [],
   "source": [
    "list1.insert(0,11)"
   ]
  },
  {
   "cell_type": "code",
   "execution_count": 37,
   "id": "247bc112",
   "metadata": {},
   "outputs": [
    {
     "data": {
      "text/plain": [
       "[11, 23, 48, 1, 8]"
      ]
     },
     "execution_count": 37,
     "metadata": {},
     "output_type": "execute_result"
    }
   ],
   "source": [
    "list1"
   ]
  },
  {
   "cell_type": "markdown",
   "id": "70bd72aa",
   "metadata": {},
   "source": [
    "# Loops, Range and List Comprehension"
   ]
  },
  {
   "cell_type": "markdown",
   "id": "14d04ac8",
   "metadata": {},
   "source": [
    "1. while loop\n",
    "2. For loop\n",
    "3. list comprehension"
   ]
  },
  {
   "cell_type": "code",
   "execution_count": 38,
   "id": "805c431e",
   "metadata": {},
   "outputs": [
    {
     "name": "stdout",
     "output_type": "stream",
     "text": [
      "0\n",
      "1\n",
      "2\n",
      "3\n",
      "4\n"
     ]
    }
   ],
   "source": [
    "a=0\n",
    "while a<5:\n",
    "    print(a)\n",
    "    a+=1"
   ]
  },
  {
   "cell_type": "code",
   "execution_count": 39,
   "id": "5d381f38",
   "metadata": {},
   "outputs": [],
   "source": [
    "# break and continue statatement"
   ]
  },
  {
   "cell_type": "code",
   "execution_count": 40,
   "id": "86a1d8dd",
   "metadata": {},
   "outputs": [
    {
     "name": "stdout",
     "output_type": "stream",
     "text": [
      "L\n",
      "e\n",
      "a\n",
      "r\n",
      "n\n",
      "i\n",
      "n\n",
      "g\n",
      " \n",
      "Outside while loop\n"
     ]
    }
   ],
   "source": [
    "name = \"Learning Journel\"\n",
    "i =0\n",
    "\n",
    "while True:\n",
    "    if name[i] == 'J':\n",
    "        break\n",
    "    print(name[i])\n",
    "    i+=1\n",
    "    \n",
    "print(\"Outside while loop\")"
   ]
  },
  {
   "cell_type": "code",
   "execution_count": 41,
   "id": "e83d1eb4",
   "metadata": {},
   "outputs": [
    {
     "name": "stdout",
     "output_type": "stream",
     "text": [
      "4\n",
      "3\n",
      "Continue opeartion done\n",
      "1\n",
      "0\n",
      "outside the while loop\n"
     ]
    }
   ],
   "source": [
    "num = 5\n",
    "\n",
    "while num>0:\n",
    "    num-=1\n",
    "    if num == 2:\n",
    "        print('Continue opeartion done')\n",
    "        continue\n",
    "    print(num)\n",
    "print('outside the while loop')"
   ]
  },
  {
   "cell_type": "code",
   "execution_count": 42,
   "id": "44bb1872",
   "metadata": {},
   "outputs": [
    {
     "name": "stdout",
     "output_type": "stream",
     "text": [
      "eggs\n",
      "milk\n",
      "bread\n",
      "veggies\n"
     ]
    }
   ],
   "source": [
    "grocery_list = ['eggs', 'milk', 'bread','veggies']\n",
    "\n",
    "for food in grocery_list:\n",
    "    print(food)"
   ]
  },
  {
   "cell_type": "code",
   "execution_count": 43,
   "id": "bd4e811b",
   "metadata": {},
   "outputs": [],
   "source": [
    "myRange = range(10)"
   ]
  },
  {
   "cell_type": "code",
   "execution_count": 44,
   "id": "224393f2",
   "metadata": {},
   "outputs": [
    {
     "name": "stdout",
     "output_type": "stream",
     "text": [
      "range(0, 10)\n"
     ]
    }
   ],
   "source": [
    "print(myRange)"
   ]
  },
  {
   "cell_type": "code",
   "execution_count": 45,
   "id": "7729d93d",
   "metadata": {},
   "outputs": [
    {
     "name": "stdout",
     "output_type": "stream",
     "text": [
      "0\n",
      "1\n",
      "2\n",
      "3\n",
      "4\n",
      "5\n",
      "6\n",
      "7\n",
      "8\n",
      "9\n"
     ]
    }
   ],
   "source": [
    "for i in myRange:\n",
    "    print(i)"
   ]
  },
  {
   "cell_type": "code",
   "execution_count": 46,
   "id": "81bf8c99",
   "metadata": {},
   "outputs": [
    {
     "name": "stdout",
     "output_type": "stream",
     "text": [
      "5\n",
      "6\n",
      "7\n",
      "8\n",
      "9\n"
     ]
    }
   ],
   "source": [
    "for i in range(5, 10):\n",
    "    print(i)"
   ]
  },
  {
   "cell_type": "code",
   "execution_count": 47,
   "id": "80446a15",
   "metadata": {},
   "outputs": [
    {
     "name": "stdout",
     "output_type": "stream",
     "text": [
      "5\n",
      "7\n",
      "9\n",
      "11\n",
      "13\n"
     ]
    }
   ],
   "source": [
    "for i in range(5, 15, 2):\n",
    "    print(i)"
   ]
  },
  {
   "cell_type": "code",
   "execution_count": 48,
   "id": "41975389",
   "metadata": {},
   "outputs": [
    {
     "name": "stdout",
     "output_type": "stream",
     "text": [
      "15\n",
      "13\n",
      "11\n",
      "9\n",
      "7\n"
     ]
    }
   ],
   "source": [
    "for i in range(15,5,-2):\n",
    "    print(i)"
   ]
  },
  {
   "cell_type": "code",
   "execution_count": 49,
   "id": "22c78720",
   "metadata": {},
   "outputs": [],
   "source": [
    "rectangles = [(15,10), (3,5), (5,6)]"
   ]
  },
  {
   "cell_type": "code",
   "execution_count": 50,
   "id": "058190d3",
   "metadata": {},
   "outputs": [],
   "source": [
    "areas = [150, 15, 30]"
   ]
  },
  {
   "cell_type": "code",
   "execution_count": 51,
   "id": "efbe0b1a",
   "metadata": {},
   "outputs": [],
   "source": [
    "rectangle_areas = [(15, 10, 150), (3,5,15),(5,6,30)]"
   ]
  },
  {
   "cell_type": "code",
   "execution_count": 52,
   "id": "cd9f0a0c",
   "metadata": {},
   "outputs": [
    {
     "name": "stdout",
     "output_type": "stream",
     "text": [
      "[150, 15, 30]\n"
     ]
    }
   ],
   "source": [
    "# Traditional approch\n",
    "areas = []\n",
    "\n",
    "for (x,y) in rectangles:\n",
    "    areas.append(x*y)\n",
    "    \n",
    "print(areas)\n",
    "    "
   ]
  },
  {
   "cell_type": "code",
   "execution_count": 53,
   "id": "cc33caec",
   "metadata": {},
   "outputs": [
    {
     "data": {
      "text/plain": [
       "[(15, 10), (3, 5), (5, 6)]"
      ]
     },
     "execution_count": 53,
     "metadata": {},
     "output_type": "execute_result"
    }
   ],
   "source": [
    "rectangles"
   ]
  },
  {
   "cell_type": "code",
   "execution_count": 54,
   "id": "7b12582a",
   "metadata": {},
   "outputs": [
    {
     "name": "stdout",
     "output_type": "stream",
     "text": [
      "[150, 15, 30]\n",
      "[(15, 10, 150), (3, 5, 15), (5, 6, 30)]\n"
     ]
    }
   ],
   "source": [
    "areas = []\n",
    "rectangle_areas = []\n",
    "\n",
    "for (x,y) in rectangles:\n",
    "    areas.append(x*y)\n",
    "    rectangle_areas.append((x, y, x*y))\n",
    "    \n",
    "print(areas)\n",
    "print(rectangle_areas)"
   ]
  },
  {
   "cell_type": "code",
   "execution_count": 55,
   "id": "89cbcd07",
   "metadata": {},
   "outputs": [
    {
     "data": {
      "text/plain": [
       "[(15, 10), (3, 5), (5, 6)]"
      ]
     },
     "execution_count": 55,
     "metadata": {},
     "output_type": "execute_result"
    }
   ],
   "source": [
    "rectangles"
   ]
  },
  {
   "cell_type": "code",
   "execution_count": 56,
   "id": "b1fa1b63",
   "metadata": {},
   "outputs": [
    {
     "data": {
      "text/plain": [
       "[(15, 10, 150), (3, 5, 15), (5, 6, 30)]"
      ]
     },
     "execution_count": 56,
     "metadata": {},
     "output_type": "execute_result"
    }
   ],
   "source": [
    "rectangle_areas = [(x, y, x*y) for (x,y) in rectangles]\n",
    "rectangle_areas"
   ]
  },
  {
   "cell_type": "markdown",
   "id": "c528fcf2",
   "metadata": {},
   "source": [
    "# Python Dictionaries"
   ]
  },
  {
   "cell_type": "code",
   "execution_count": 57,
   "id": "25113330",
   "metadata": {},
   "outputs": [],
   "source": [
    "# Two approaches to create dictionaries"
   ]
  },
  {
   "cell_type": "code",
   "execution_count": 58,
   "id": "cbe466e9",
   "metadata": {},
   "outputs": [
    {
     "name": "stdout",
     "output_type": "stream",
     "text": [
      "{'Abhi': 7, 'Shourya': 9, 'Amey': 5}\n"
     ]
    }
   ],
   "source": [
    "info_1 = {'Abhi':7,'Shourya':9,'Amey':5}\n",
    "print(info_1)"
   ]
  },
  {
   "cell_type": "code",
   "execution_count": null,
   "id": "a6673f45",
   "metadata": {},
   "outputs": [],
   "source": []
  },
  {
   "cell_type": "code",
   "execution_count": 59,
   "id": "50456575",
   "metadata": {},
   "outputs": [
    {
     "data": {
      "text/plain": [
       "77"
      ]
     },
     "execution_count": 59,
     "metadata": {},
     "output_type": "execute_result"
    }
   ],
   "source": [
    "info_1 = {'Abhi':7,'Abhi':77,'Amey':5}\n",
    "info_1['Abhi']"
   ]
  },
  {
   "cell_type": "code",
   "execution_count": null,
   "id": "6b8cefb1",
   "metadata": {},
   "outputs": [],
   "source": []
  },
  {
   "cell_type": "code",
   "execution_count": 60,
   "id": "af2ed4a9",
   "metadata": {},
   "outputs": [
    {
     "name": "stdout",
     "output_type": "stream",
     "text": [
      "{'Abhi': 7, 'Shourya': 9, 'Amey': 5}\n"
     ]
    }
   ],
   "source": [
    "info_2 = dict({'Abhi':7,'Shourya':9,'Amey':5})\n",
    "\n",
    "print(info_2)"
   ]
  },
  {
   "cell_type": "code",
   "execution_count": null,
   "id": "50b3c6dc",
   "metadata": {},
   "outputs": [],
   "source": []
  },
  {
   "cell_type": "code",
   "execution_count": 61,
   "id": "bb272857",
   "metadata": {},
   "outputs": [
    {
     "data": {
      "text/plain": [
       "{'Abhi': 7, 'Shourya': 9, 'Amey': 5}"
      ]
     },
     "execution_count": 61,
     "metadata": {},
     "output_type": "execute_result"
    }
   ],
   "source": [
    "info_3 = dict(Abhi=7,Shourya=9,Amey=5)\n",
    "info_3"
   ]
  },
  {
   "cell_type": "code",
   "execution_count": null,
   "id": "d8722734",
   "metadata": {},
   "outputs": [],
   "source": []
  },
  {
   "cell_type": "code",
   "execution_count": 62,
   "id": "07a65496",
   "metadata": {},
   "outputs": [
    {
     "name": "stdout",
     "output_type": "stream",
     "text": [
      "{'Tom': 104, 'John': 105}\n"
     ]
    }
   ],
   "source": [
    "my_list = [('Tom',104), ('John',105)]\n",
    "\n",
    "info_4 = dict(my_list)\n",
    "print(info_4)"
   ]
  },
  {
   "cell_type": "code",
   "execution_count": null,
   "id": "c59f1c42",
   "metadata": {},
   "outputs": [],
   "source": []
  },
  {
   "cell_type": "code",
   "execution_count": 63,
   "id": "61bebdbb",
   "metadata": {},
   "outputs": [
    {
     "name": "stdout",
     "output_type": "stream",
     "text": [
      "{'Tom': 104, 'John': 105}\n"
     ]
    }
   ],
   "source": [
    "my_tuple = (('Tom',104), ('John',105))\n",
    "\n",
    "info_5 = dict(my_tuple)\n",
    "print(info_5)"
   ]
  },
  {
   "cell_type": "code",
   "execution_count": 64,
   "id": "7ddff85b",
   "metadata": {},
   "outputs": [
    {
     "data": {
      "text/plain": [
       "(('Tom', 104), ('John', 105))"
      ]
     },
     "execution_count": 64,
     "metadata": {},
     "output_type": "execute_result"
    }
   ],
   "source": [
    "my_tuple[0], my_tuple[1]"
   ]
  },
  {
   "cell_type": "code",
   "execution_count": 65,
   "id": "c802c6dc",
   "metadata": {},
   "outputs": [
    {
     "data": {
      "text/plain": [
       "{'Abhi': 77, 'Amey': 5}"
      ]
     },
     "execution_count": 65,
     "metadata": {},
     "output_type": "execute_result"
    }
   ],
   "source": [
    "info_1"
   ]
  },
  {
   "cell_type": "code",
   "execution_count": 66,
   "id": "c8acf21a",
   "metadata": {},
   "outputs": [
    {
     "data": {
      "text/plain": [
       "77"
      ]
     },
     "execution_count": 66,
     "metadata": {},
     "output_type": "execute_result"
    }
   ],
   "source": [
    "info_1['Abhi']"
   ]
  },
  {
   "cell_type": "code",
   "execution_count": 67,
   "id": "9f757366",
   "metadata": {},
   "outputs": [
    {
     "name": "stdout",
     "output_type": "stream",
     "text": [
      "{'Abhi': 1000, 'Amey': 5}\n"
     ]
    }
   ],
   "source": [
    "info_1['Abhi']=1000\n",
    "print(info_1)"
   ]
  },
  {
   "cell_type": "code",
   "execution_count": 68,
   "id": "b5abe017",
   "metadata": {},
   "outputs": [
    {
     "data": {
      "text/plain": [
       "{'Abhi': 1000, 'Amey': 5}"
      ]
     },
     "execution_count": 68,
     "metadata": {},
     "output_type": "execute_result"
    }
   ],
   "source": [
    "info_1"
   ]
  },
  {
   "cell_type": "code",
   "execution_count": 69,
   "id": "a91bfa75",
   "metadata": {},
   "outputs": [],
   "source": [
    "info_1['Atharv']=10"
   ]
  },
  {
   "cell_type": "code",
   "execution_count": 70,
   "id": "45f13257",
   "metadata": {},
   "outputs": [
    {
     "name": "stdout",
     "output_type": "stream",
     "text": [
      "{'Abhi': 1000, 'Amey': 5, 'Atharv': 10}\n"
     ]
    }
   ],
   "source": [
    "print(info_1)"
   ]
  },
  {
   "cell_type": "code",
   "execution_count": 71,
   "id": "fb534542",
   "metadata": {},
   "outputs": [
    {
     "data": {
      "text/plain": [
       "dict_keys(['Abhi', 'Amey', 'Atharv'])"
      ]
     },
     "execution_count": 71,
     "metadata": {},
     "output_type": "execute_result"
    }
   ],
   "source": [
    "info_1.keys()"
   ]
  },
  {
   "cell_type": "code",
   "execution_count": 72,
   "id": "33e8acdd",
   "metadata": {},
   "outputs": [
    {
     "data": {
      "text/plain": [
       "dict_values([1000, 5, 10])"
      ]
     },
     "execution_count": 72,
     "metadata": {},
     "output_type": "execute_result"
    }
   ],
   "source": [
    "info_1.values()"
   ]
  },
  {
   "cell_type": "code",
   "execution_count": 73,
   "id": "810240af",
   "metadata": {},
   "outputs": [
    {
     "data": {
      "text/plain": [
       "dict_items([('Abhi', 1000), ('Amey', 5), ('Atharv', 10)])"
      ]
     },
     "execution_count": 73,
     "metadata": {},
     "output_type": "execute_result"
    }
   ],
   "source": [
    "info_1.items()"
   ]
  },
  {
   "cell_type": "code",
   "execution_count": 74,
   "id": "bc6926a4",
   "metadata": {},
   "outputs": [
    {
     "name": "stdout",
     "output_type": "stream",
     "text": [
      "Abhi 1000\n",
      "Amey 5\n",
      "Atharv 10\n"
     ]
    }
   ],
   "source": [
    "for i, j in info_1.items():\n",
    "    print(i,j)"
   ]
  },
  {
   "cell_type": "code",
   "execution_count": 75,
   "id": "04d5785b",
   "metadata": {},
   "outputs": [
    {
     "data": {
      "text/plain": [
       "{'Abhi': 1000, 'Amey': 5, 'Atharv': 10}"
      ]
     },
     "execution_count": 75,
     "metadata": {},
     "output_type": "execute_result"
    }
   ],
   "source": [
    "info_1"
   ]
  },
  {
   "cell_type": "code",
   "execution_count": 76,
   "id": "5481779f",
   "metadata": {},
   "outputs": [
    {
     "data": {
      "text/plain": [
       "{'Abhi': 7, 'Shourya': 9, 'Amey': 5}"
      ]
     },
     "execution_count": 76,
     "metadata": {},
     "output_type": "execute_result"
    }
   ],
   "source": [
    "info_2"
   ]
  },
  {
   "cell_type": "code",
   "execution_count": 77,
   "id": "307c694d",
   "metadata": {},
   "outputs": [
    {
     "name": "stdout",
     "output_type": "stream",
     "text": [
      "{'Atharv', 'Shourya', 'Amey', 'Abhi'}\n"
     ]
    }
   ],
   "source": [
    "info_1_2 = {*info_1, *info_2}\n",
    "print(info_1_2)"
   ]
  },
  {
   "cell_type": "code",
   "execution_count": 78,
   "id": "b6fe3bf2",
   "metadata": {},
   "outputs": [
    {
     "name": "stdout",
     "output_type": "stream",
     "text": [
      "{'Abhi': 7, 'Amey': 5, 'Atharv': 10, 'Shourya': 9}\n"
     ]
    }
   ],
   "source": [
    "info_1_2 = {**info_1, **info_2}\n",
    "print(info_1_2)"
   ]
  },
  {
   "cell_type": "code",
   "execution_count": 79,
   "id": "bbbcc236",
   "metadata": {},
   "outputs": [],
   "source": [
    "info_1 = {'A':10, 'B':20, 'C':30}\n",
    "info_2 = {'D':40, 'E':50, 'F':60}"
   ]
  },
  {
   "cell_type": "code",
   "execution_count": 80,
   "id": "a4a60ae3",
   "metadata": {},
   "outputs": [],
   "source": [
    "info_1.update(info_2)"
   ]
  },
  {
   "cell_type": "code",
   "execution_count": 81,
   "id": "f166ed1b",
   "metadata": {},
   "outputs": [
    {
     "name": "stdout",
     "output_type": "stream",
     "text": [
      "{'A': 10, 'B': 20, 'C': 30, 'D': 40, 'E': 50, 'F': 60}\n"
     ]
    }
   ],
   "source": [
    "print(info_1)"
   ]
  },
  {
   "cell_type": "code",
   "execution_count": 82,
   "id": "9c5c620f",
   "metadata": {},
   "outputs": [
    {
     "data": {
      "text/plain": [
       "6"
      ]
     },
     "execution_count": 82,
     "metadata": {},
     "output_type": "execute_result"
    }
   ],
   "source": [
    "len(info_1)"
   ]
  },
  {
   "cell_type": "code",
   "execution_count": 83,
   "id": "a5aabe65",
   "metadata": {},
   "outputs": [],
   "source": [
    "del info_1['F']"
   ]
  },
  {
   "cell_type": "code",
   "execution_count": 84,
   "id": "40532244",
   "metadata": {},
   "outputs": [
    {
     "data": {
      "text/plain": [
       "{'A': 10, 'B': 20, 'C': 30, 'D': 40, 'E': 50}"
      ]
     },
     "execution_count": 84,
     "metadata": {},
     "output_type": "execute_result"
    }
   ],
   "source": [
    "info_1"
   ]
  },
  {
   "cell_type": "code",
   "execution_count": 85,
   "id": "0362fc5c",
   "metadata": {},
   "outputs": [],
   "source": [
    "del info_1"
   ]
  },
  {
   "cell_type": "code",
   "execution_count": 86,
   "id": "d87e29c8",
   "metadata": {},
   "outputs": [],
   "source": [
    "# info_1"
   ]
  },
  {
   "cell_type": "code",
   "execution_count": 87,
   "id": "57640dbc",
   "metadata": {},
   "outputs": [],
   "source": [
    "info_1 = {'A':10, 'B':20, 'C':30}"
   ]
  },
  {
   "cell_type": "code",
   "execution_count": 88,
   "id": "baa0e8b5",
   "metadata": {},
   "outputs": [],
   "source": [
    "info_1.clear()"
   ]
  },
  {
   "cell_type": "code",
   "execution_count": 89,
   "id": "56ee46b8",
   "metadata": {},
   "outputs": [
    {
     "data": {
      "text/plain": [
       "{}"
      ]
     },
     "execution_count": 89,
     "metadata": {},
     "output_type": "execute_result"
    }
   ],
   "source": [
    "info_1"
   ]
  },
  {
   "cell_type": "code",
   "execution_count": 90,
   "id": "0e2c688e",
   "metadata": {},
   "outputs": [],
   "source": [
    "info_1 = {'A':10, 'B':20, 'C':30}"
   ]
  },
  {
   "cell_type": "code",
   "execution_count": 91,
   "id": "96d4b1b8",
   "metadata": {},
   "outputs": [
    {
     "data": {
      "text/plain": [
       "10"
      ]
     },
     "execution_count": 91,
     "metadata": {},
     "output_type": "execute_result"
    }
   ],
   "source": [
    "info_1.pop('A')"
   ]
  },
  {
   "cell_type": "code",
   "execution_count": 92,
   "id": "a25ba9ff",
   "metadata": {},
   "outputs": [
    {
     "data": {
      "text/plain": [
       "{'B': 20, 'C': 30}"
      ]
     },
     "execution_count": 92,
     "metadata": {},
     "output_type": "execute_result"
    }
   ],
   "source": [
    "info_1"
   ]
  },
  {
   "cell_type": "code",
   "execution_count": 93,
   "id": "4a0b35b0",
   "metadata": {},
   "outputs": [
    {
     "data": {
      "text/plain": [
       "False"
      ]
     },
     "execution_count": 93,
     "metadata": {},
     "output_type": "execute_result"
    }
   ],
   "source": [
    "'A' in info_1"
   ]
  },
  {
   "cell_type": "code",
   "execution_count": 94,
   "id": "162cd98b",
   "metadata": {},
   "outputs": [
    {
     "data": {
      "text/plain": [
       "False"
      ]
     },
     "execution_count": 94,
     "metadata": {},
     "output_type": "execute_result"
    }
   ],
   "source": [
    "'b' in info_1"
   ]
  },
  {
   "cell_type": "code",
   "execution_count": 95,
   "id": "7c307f4e",
   "metadata": {},
   "outputs": [
    {
     "data": {
      "text/plain": [
       "True"
      ]
     },
     "execution_count": 95,
     "metadata": {},
     "output_type": "execute_result"
    }
   ],
   "source": [
    "'B' in info_1"
   ]
  },
  {
   "cell_type": "code",
   "execution_count": 96,
   "id": "ebad80c5",
   "metadata": {},
   "outputs": [],
   "source": [
    "info_1 = {'A':10, 'B':20, 'C':30}\n",
    "info_2 = {'A':10, 'B':20, 'C':30}"
   ]
  },
  {
   "cell_type": "code",
   "execution_count": 97,
   "id": "53625fe0",
   "metadata": {},
   "outputs": [
    {
     "data": {
      "text/plain": [
       "True"
      ]
     },
     "execution_count": 97,
     "metadata": {},
     "output_type": "execute_result"
    }
   ],
   "source": [
    "info_1 == info_2"
   ]
  },
  {
   "cell_type": "code",
   "execution_count": 98,
   "id": "24be2bc0",
   "metadata": {},
   "outputs": [
    {
     "data": {
      "text/plain": [
       "False"
      ]
     },
     "execution_count": 98,
     "metadata": {},
     "output_type": "execute_result"
    }
   ],
   "source": [
    "info_1 != info_2"
   ]
  },
  {
   "cell_type": "code",
   "execution_count": 99,
   "id": "0ed67e87",
   "metadata": {},
   "outputs": [],
   "source": [
    "# info_1 > info_2 >> TypeError"
   ]
  },
  {
   "cell_type": "code",
   "execution_count": 100,
   "id": "fbb17502",
   "metadata": {},
   "outputs": [
    {
     "name": "stdout",
     "output_type": "stream",
     "text": [
      "{'A': 10, 'B': 20, 'C': 30}\n"
     ]
    }
   ],
   "source": [
    "info = info_1.copy()\n",
    "print(info_1)"
   ]
  },
  {
   "cell_type": "code",
   "execution_count": 101,
   "id": "878d5661",
   "metadata": {},
   "outputs": [
    {
     "name": "stdout",
     "output_type": "stream",
     "text": [
      "{'A': 'sleep', 'B': 'eat', 'C': ['play', 'study']}\n",
      "{'A': 'sleep', 'B': 'eat', 'C': ['play', 'study']}\n"
     ]
    }
   ],
   "source": [
    "msg = {'A':'sleep', 'B':'eat', 'C':['play','study']}\n",
    "\n",
    "inform = msg.copy()\n",
    "\n",
    "print(inform)\n",
    "print(msg)"
   ]
  },
  {
   "cell_type": "code",
   "execution_count": 102,
   "id": "5054a831",
   "metadata": {},
   "outputs": [],
   "source": [
    "inform['C'][1] = 'cook'"
   ]
  },
  {
   "cell_type": "code",
   "execution_count": 103,
   "id": "47e20c77",
   "metadata": {},
   "outputs": [
    {
     "name": "stdout",
     "output_type": "stream",
     "text": [
      "{'A': 'sleep', 'B': 'eat', 'C': ['play', 'cook']}\n",
      "{'A': 'sleep', 'B': 'eat', 'C': ['play', 'cook']}\n"
     ]
    }
   ],
   "source": [
    "print(inform)\n",
    "print(msg)"
   ]
  },
  {
   "cell_type": "code",
   "execution_count": 104,
   "id": "e4b573e8",
   "metadata": {},
   "outputs": [
    {
     "name": "stdout",
     "output_type": "stream",
     "text": [
      "{'A': 'sleep', 'B': 'eat', 'C': ['play', 'cook']}\n",
      "{'A': 'sleep', 'B': 'eat', 'C': ['play', 'cook']}\n"
     ]
    }
   ],
   "source": [
    "import copy\n",
    "\n",
    "inform = copy.deepcopy(msg)\n",
    "\n",
    "print(inform)\n",
    "print(msg)"
   ]
  },
  {
   "cell_type": "code",
   "execution_count": 105,
   "id": "571ce97a",
   "metadata": {},
   "outputs": [
    {
     "name": "stdout",
     "output_type": "stream",
     "text": [
      "{'A': 'sleep', 'B': 'eat', 'C': ['play', 'cricket']}\n",
      "{'A': 'sleep', 'B': 'eat', 'C': ['play', 'cook']}\n"
     ]
    }
   ],
   "source": [
    "inform['C'][1]='cricket'\n",
    "\n",
    "print(inform)\n",
    "print(msg)"
   ]
  },
  {
   "cell_type": "code",
   "execution_count": 106,
   "id": "74178f81",
   "metadata": {},
   "outputs": [
    {
     "name": "stdout",
     "output_type": "stream",
     "text": [
      "{0: 0, 1: 1, 2: 4, 3: 9, 4: 16, 5: 25, 6: 36, 7: 49, 8: 64, 9: 81}\n"
     ]
    }
   ],
   "source": [
    "square = {x:x**2 for x in range(0,10)}\n",
    "print(square)"
   ]
  },
  {
   "cell_type": "markdown",
   "id": "c3669b2c",
   "metadata": {},
   "source": [
    "# set"
   ]
  },
  {
   "cell_type": "code",
   "execution_count": 107,
   "id": "d35d3062",
   "metadata": {},
   "outputs": [],
   "source": [
    "mySet = {0,1,2,3}"
   ]
  },
  {
   "cell_type": "code",
   "execution_count": 108,
   "id": "3c1e913e",
   "metadata": {},
   "outputs": [
    {
     "name": "stdout",
     "output_type": "stream",
     "text": [
      "{0, 1, 2, 3}\n"
     ]
    }
   ],
   "source": [
    "print(mySet)"
   ]
  },
  {
   "cell_type": "code",
   "execution_count": 109,
   "id": "601c371e",
   "metadata": {},
   "outputs": [],
   "source": [
    "# set is collection of unique elements"
   ]
  },
  {
   "cell_type": "code",
   "execution_count": 110,
   "id": "6d38a4ea",
   "metadata": {},
   "outputs": [
    {
     "name": "stdout",
     "output_type": "stream",
     "text": [
      "{0, 1, 2}\n"
     ]
    }
   ],
   "source": [
    "mySet = {0,0,0,1,2,2,2}\n",
    "print(mySet)"
   ]
  },
  {
   "cell_type": "code",
   "execution_count": 111,
   "id": "de31921b",
   "metadata": {},
   "outputs": [
    {
     "name": "stdout",
     "output_type": "stream",
     "text": [
      "['Ram', 'Krishna', 'Hari', 'Ram', 'Krishna']\n"
     ]
    }
   ],
   "source": [
    "myList=['Ram','Krishna','Hari', 'Ram', 'Krishna']\n",
    "\n",
    "print(myList)"
   ]
  },
  {
   "cell_type": "code",
   "execution_count": 112,
   "id": "585a51d0",
   "metadata": {},
   "outputs": [
    {
     "data": {
      "text/plain": [
       "{'Hari', 'Krishna', 'Ram'}"
      ]
     },
     "execution_count": 112,
     "metadata": {},
     "output_type": "execute_result"
    }
   ],
   "source": [
    "mySet = set(myList) # duplicates removed by usng set\n",
    "mySet"
   ]
  },
  {
   "cell_type": "code",
   "execution_count": 113,
   "id": "1915ce72",
   "metadata": {},
   "outputs": [],
   "source": [
    "# empty set\n",
    "\n",
    "myEmptySet = {} # in python empty curly brace will consider as a dictionary"
   ]
  },
  {
   "cell_type": "code",
   "execution_count": 114,
   "id": "8ecb4047",
   "metadata": {},
   "outputs": [
    {
     "data": {
      "text/plain": [
       "dict"
      ]
     },
     "execution_count": 114,
     "metadata": {},
     "output_type": "execute_result"
    }
   ],
   "source": [
    "type(myEmptySet) "
   ]
  },
  {
   "cell_type": "code",
   "execution_count": 115,
   "id": "b0a3f496",
   "metadata": {},
   "outputs": [],
   "source": [
    "# for creation of empty set\n",
    "\n",
    "myEmptySet = set()"
   ]
  },
  {
   "cell_type": "code",
   "execution_count": 116,
   "id": "64025914",
   "metadata": {},
   "outputs": [
    {
     "data": {
      "text/plain": [
       "set"
      ]
     },
     "execution_count": 116,
     "metadata": {},
     "output_type": "execute_result"
    }
   ],
   "source": [
    "type(myEmptySet)"
   ]
  },
  {
   "cell_type": "code",
   "execution_count": 117,
   "id": "69d95f39",
   "metadata": {},
   "outputs": [
    {
     "data": {
      "text/plain": [
       "{' ', 'J', 'L', 'a', 'e', 'g', 'i', 'l', 'n', 'o', 'r', 'u'}"
      ]
     },
     "execution_count": 117,
     "metadata": {},
     "output_type": "execute_result"
    }
   ],
   "source": [
    "# we can convert list, tuple, str into the set by using set function\n",
    "\n",
    "set('Learning Journel')"
   ]
  },
  {
   "cell_type": "code",
   "execution_count": 118,
   "id": "82cd5e35",
   "metadata": {},
   "outputs": [
    {
     "data": {
      "text/plain": [
       "{' ', 'a', 'e', 'g', 'i', 'j', 'l', 'n', 'o', 'r', 'u'}"
      ]
     },
     "execution_count": 118,
     "metadata": {},
     "output_type": "execute_result"
    }
   ],
   "source": [
    "# duplicates are removed but upper case and lower case will be considered as it is\n",
    "\n",
    "set('Learning Journel'.lower())"
   ]
  },
  {
   "cell_type": "code",
   "execution_count": 119,
   "id": "eda34a38",
   "metadata": {},
   "outputs": [
    {
     "data": {
      "text/plain": [
       "{'Hari', 'Radha', 'Ram', 'krishna'}"
      ]
     },
     "execution_count": 119,
     "metadata": {},
     "output_type": "execute_result"
    }
   ],
   "source": [
    "set(['Ram', 'Radha', 'krishna', 'Hari'])"
   ]
  },
  {
   "cell_type": "code",
   "execution_count": 120,
   "id": "cd9cb55a",
   "metadata": {},
   "outputs": [
    {
     "data": {
      "text/plain": [
       "{'A', 'B', 'C'}"
      ]
     },
     "execution_count": 120,
     "metadata": {},
     "output_type": "execute_result"
    }
   ],
   "source": [
    "set(('A','B','C'))"
   ]
  },
  {
   "cell_type": "code",
   "execution_count": 121,
   "id": "ce5fbf4a",
   "metadata": {},
   "outputs": [
    {
     "data": {
      "text/plain": [
       "{1, 2, 3, 4}"
      ]
     },
     "execution_count": 121,
     "metadata": {},
     "output_type": "execute_result"
    }
   ],
   "source": [
    "set({1:'a',2:'b',3:'c',4:'d'}) # dictionary values will be ignored"
   ]
  },
  {
   "cell_type": "code",
   "execution_count": 122,
   "id": "82402fd0",
   "metadata": {},
   "outputs": [
    {
     "data": {
      "text/plain": [
       "3"
      ]
     },
     "execution_count": 122,
     "metadata": {},
     "output_type": "execute_result"
    }
   ],
   "source": [
    "len(mySet)"
   ]
  },
  {
   "cell_type": "code",
   "execution_count": 123,
   "id": "146287cd",
   "metadata": {},
   "outputs": [
    {
     "data": {
      "text/plain": [
       "{'Hari', 'Krishna', 'Ram'}"
      ]
     },
     "execution_count": 123,
     "metadata": {},
     "output_type": "execute_result"
    }
   ],
   "source": [
    "# sets are mutable but you can add element in the existing set\n",
    "\n",
    "mySet"
   ]
  },
  {
   "cell_type": "code",
   "execution_count": 124,
   "id": "7931ae38",
   "metadata": {},
   "outputs": [],
   "source": [
    "mySet.add('Radha')"
   ]
  },
  {
   "cell_type": "code",
   "execution_count": 125,
   "id": "a759c35b",
   "metadata": {},
   "outputs": [
    {
     "data": {
      "text/plain": [
       "{'Hari', 'Krishna', 'Radha', 'Ram'}"
      ]
     },
     "execution_count": 125,
     "metadata": {},
     "output_type": "execute_result"
    }
   ],
   "source": [
    "mySet"
   ]
  },
  {
   "cell_type": "code",
   "execution_count": 126,
   "id": "8104f006",
   "metadata": {},
   "outputs": [],
   "source": [
    "# add method will allow the single element at a time but update will allow to multiple element at a time"
   ]
  },
  {
   "cell_type": "code",
   "execution_count": 127,
   "id": "ef981266",
   "metadata": {},
   "outputs": [],
   "source": [
    "mySet.update(['R','A','K','H','A'])"
   ]
  },
  {
   "cell_type": "code",
   "execution_count": 128,
   "id": "2907184b",
   "metadata": {},
   "outputs": [
    {
     "data": {
      "text/plain": [
       "{'A', 'H', 'Hari', 'K', 'Krishna', 'R', 'Radha', 'Ram'}"
      ]
     },
     "execution_count": 128,
     "metadata": {},
     "output_type": "execute_result"
    }
   ],
   "source": [
    "mySet"
   ]
  },
  {
   "cell_type": "code",
   "execution_count": 129,
   "id": "2527d6a3",
   "metadata": {},
   "outputs": [],
   "source": [
    "# UPDATE METHOD WILL ALSO TAKE TUPLE, DICT, AND STRING ALSO"
   ]
  },
  {
   "cell_type": "code",
   "execution_count": 130,
   "id": "05967e97",
   "metadata": {},
   "outputs": [],
   "source": [
    "mySet.remove('A')"
   ]
  },
  {
   "cell_type": "code",
   "execution_count": 131,
   "id": "0bd4947f",
   "metadata": {},
   "outputs": [
    {
     "data": {
      "text/plain": [
       "{'H', 'Hari', 'K', 'Krishna', 'R', 'Radha', 'Ram'}"
      ]
     },
     "execution_count": 131,
     "metadata": {},
     "output_type": "execute_result"
    }
   ],
   "source": [
    "mySet"
   ]
  },
  {
   "cell_type": "code",
   "execution_count": 132,
   "id": "c8e1c18f",
   "metadata": {},
   "outputs": [],
   "source": [
    "set1 = {0,1,2}\n",
    "set2 = {2,3,4,5}"
   ]
  },
  {
   "cell_type": "code",
   "execution_count": 133,
   "id": "ec6a0b55",
   "metadata": {},
   "outputs": [],
   "source": [
    "# union for merge the two sets"
   ]
  },
  {
   "cell_type": "code",
   "execution_count": 134,
   "id": "a514f0f0",
   "metadata": {},
   "outputs": [
    {
     "data": {
      "text/plain": [
       "{0, 1, 2, 3, 4, 5}"
      ]
     },
     "execution_count": 134,
     "metadata": {},
     "output_type": "execute_result"
    }
   ],
   "source": [
    "set1.union(set2)"
   ]
  },
  {
   "cell_type": "code",
   "execution_count": 135,
   "id": "de77bd99",
   "metadata": {},
   "outputs": [
    {
     "data": {
      "text/plain": [
       "{0, 1, 2, 3, 4, 5}"
      ]
     },
     "execution_count": 135,
     "metadata": {},
     "output_type": "execute_result"
    }
   ],
   "source": [
    "set1 | set2"
   ]
  },
  {
   "cell_type": "code",
   "execution_count": 136,
   "id": "1443e058",
   "metadata": {},
   "outputs": [],
   "source": [
    "# intersetion for common element from both"
   ]
  },
  {
   "cell_type": "code",
   "execution_count": 137,
   "id": "a32b95ed",
   "metadata": {},
   "outputs": [
    {
     "data": {
      "text/plain": [
       "{2}"
      ]
     },
     "execution_count": 137,
     "metadata": {},
     "output_type": "execute_result"
    }
   ],
   "source": [
    "set1.intersection(set2)"
   ]
  },
  {
   "cell_type": "code",
   "execution_count": 138,
   "id": "743713e0",
   "metadata": {},
   "outputs": [
    {
     "data": {
      "text/plain": [
       "{2}"
      ]
     },
     "execution_count": 138,
     "metadata": {},
     "output_type": "execute_result"
    }
   ],
   "source": [
    "set1 & set2"
   ]
  },
  {
   "cell_type": "code",
   "execution_count": 139,
   "id": "af1192dd",
   "metadata": {},
   "outputs": [],
   "source": [
    "# difference between two sets "
   ]
  },
  {
   "cell_type": "code",
   "execution_count": 140,
   "id": "274fd72e",
   "metadata": {},
   "outputs": [
    {
     "data": {
      "text/plain": [
       "{0, 1}"
      ]
     },
     "execution_count": 140,
     "metadata": {},
     "output_type": "execute_result"
    }
   ],
   "source": [
    "set1.difference(set2)"
   ]
  },
  {
   "cell_type": "code",
   "execution_count": 141,
   "id": "2a24f60e",
   "metadata": {},
   "outputs": [
    {
     "data": {
      "text/plain": [
       "{0, 1}"
      ]
     },
     "execution_count": 141,
     "metadata": {},
     "output_type": "execute_result"
    }
   ],
   "source": [
    "set1 - set2"
   ]
  },
  {
   "cell_type": "code",
   "execution_count": 142,
   "id": "10083f02",
   "metadata": {},
   "outputs": [
    {
     "data": {
      "text/plain": [
       "{3, 4, 5}"
      ]
     },
     "execution_count": 142,
     "metadata": {},
     "output_type": "execute_result"
    }
   ],
   "source": [
    "set2.difference(set1)"
   ]
  },
  {
   "cell_type": "code",
   "execution_count": 143,
   "id": "847cb70e",
   "metadata": {},
   "outputs": [
    {
     "data": {
      "text/plain": [
       "{3, 4, 5}"
      ]
     },
     "execution_count": 143,
     "metadata": {},
     "output_type": "execute_result"
    }
   ],
   "source": [
    "set2 - set1"
   ]
  },
  {
   "cell_type": "code",
   "execution_count": 144,
   "id": "d99bd68e",
   "metadata": {},
   "outputs": [],
   "source": [
    "# symmetric difference > either present in same or another"
   ]
  },
  {
   "cell_type": "code",
   "execution_count": 145,
   "id": "55ab39ff",
   "metadata": {},
   "outputs": [
    {
     "data": {
      "text/plain": [
       "{0, 1, 3, 4, 5}"
      ]
     },
     "execution_count": 145,
     "metadata": {},
     "output_type": "execute_result"
    }
   ],
   "source": [
    "set1.symmetric_difference(set2)"
   ]
  },
  {
   "cell_type": "code",
   "execution_count": 146,
   "id": "dbdfc4c3",
   "metadata": {},
   "outputs": [
    {
     "data": {
      "text/plain": [
       "{0, 1, 3, 4, 5}"
      ]
     },
     "execution_count": 146,
     "metadata": {},
     "output_type": "execute_result"
    }
   ],
   "source": [
    "set2 ^ set1"
   ]
  },
  {
   "cell_type": "code",
   "execution_count": 147,
   "id": "a5d5834d",
   "metadata": {},
   "outputs": [],
   "source": [
    "# LOGICAL OPERATION"
   ]
  },
  {
   "cell_type": "code",
   "execution_count": 148,
   "id": "9d74306e",
   "metadata": {},
   "outputs": [
    {
     "data": {
      "text/plain": [
       "{'H', 'Hari', 'K', 'Krishna', 'R', 'Radha', 'Ram'}"
      ]
     },
     "execution_count": 148,
     "metadata": {},
     "output_type": "execute_result"
    }
   ],
   "source": [
    "mySet"
   ]
  },
  {
   "cell_type": "code",
   "execution_count": 149,
   "id": "9ebed132",
   "metadata": {},
   "outputs": [
    {
     "data": {
      "text/plain": [
       "True"
      ]
     },
     "execution_count": 149,
     "metadata": {},
     "output_type": "execute_result"
    }
   ],
   "source": [
    "'H' in mySet"
   ]
  },
  {
   "cell_type": "code",
   "execution_count": 150,
   "id": "2903b243",
   "metadata": {},
   "outputs": [
    {
     "data": {
      "text/plain": [
       "False"
      ]
     },
     "execution_count": 150,
     "metadata": {},
     "output_type": "execute_result"
    }
   ],
   "source": [
    "'H' not in mySet"
   ]
  },
  {
   "cell_type": "code",
   "execution_count": 151,
   "id": "33c55af3",
   "metadata": {},
   "outputs": [
    {
     "data": {
      "text/plain": [
       "{0, 1, 2}"
      ]
     },
     "execution_count": 151,
     "metadata": {},
     "output_type": "execute_result"
    }
   ],
   "source": [
    "set1"
   ]
  },
  {
   "cell_type": "code",
   "execution_count": 152,
   "id": "419f5a22",
   "metadata": {},
   "outputs": [
    {
     "data": {
      "text/plain": [
       "{2, 3, 4, 5}"
      ]
     },
     "execution_count": 152,
     "metadata": {},
     "output_type": "execute_result"
    }
   ],
   "source": [
    "set2"
   ]
  },
  {
   "cell_type": "code",
   "execution_count": 153,
   "id": "8b8e1725",
   "metadata": {},
   "outputs": [],
   "source": [
    "set1 = {0,1}\n",
    "set2 = {0,1,2,3}"
   ]
  },
  {
   "cell_type": "code",
   "execution_count": 154,
   "id": "eb1b589f",
   "metadata": {},
   "outputs": [
    {
     "data": {
      "text/plain": [
       "True"
      ]
     },
     "execution_count": 154,
     "metadata": {},
     "output_type": "execute_result"
    }
   ],
   "source": [
    "set1.issubset(set2)"
   ]
  },
  {
   "cell_type": "code",
   "execution_count": 155,
   "id": "301505f9",
   "metadata": {},
   "outputs": [
    {
     "data": {
      "text/plain": [
       "True"
      ]
     },
     "execution_count": 155,
     "metadata": {},
     "output_type": "execute_result"
    }
   ],
   "source": [
    "set1 <= set2"
   ]
  },
  {
   "cell_type": "code",
   "execution_count": 156,
   "id": "33fbcf12",
   "metadata": {},
   "outputs": [
    {
     "data": {
      "text/plain": [
       "True"
      ]
     },
     "execution_count": 156,
     "metadata": {},
     "output_type": "execute_result"
    }
   ],
   "source": [
    "set2.issuperset(set1)"
   ]
  },
  {
   "cell_type": "code",
   "execution_count": 157,
   "id": "1f1b8c9a",
   "metadata": {},
   "outputs": [
    {
     "data": {
      "text/plain": [
       "True"
      ]
     },
     "execution_count": 157,
     "metadata": {},
     "output_type": "execute_result"
    }
   ],
   "source": [
    "set2 >= set1"
   ]
  },
  {
   "cell_type": "code",
   "execution_count": 158,
   "id": "6895bee3",
   "metadata": {},
   "outputs": [],
   "source": [
    "myList = [1,2,3,4]"
   ]
  },
  {
   "cell_type": "code",
   "execution_count": 159,
   "id": "62541e04",
   "metadata": {},
   "outputs": [
    {
     "data": {
      "text/plain": [
       "2"
      ]
     },
     "execution_count": 159,
     "metadata": {},
     "output_type": "execute_result"
    }
   ],
   "source": [
    "myList[1]"
   ]
  },
  {
   "cell_type": "code",
   "execution_count": 160,
   "id": "6b67117e",
   "metadata": {},
   "outputs": [],
   "source": [
    "mySet = set([1,2,3,4])"
   ]
  },
  {
   "cell_type": "code",
   "execution_count": 161,
   "id": "e57fc0c3",
   "metadata": {},
   "outputs": [
    {
     "data": {
      "text/plain": [
       "({1, 2, 3, 4}, set)"
      ]
     },
     "execution_count": 161,
     "metadata": {},
     "output_type": "execute_result"
    }
   ],
   "source": [
    "mySet, type(mySet)"
   ]
  },
  {
   "cell_type": "code",
   "execution_count": 162,
   "id": "913cc1e2",
   "metadata": {},
   "outputs": [],
   "source": [
    "# mySet[2] > not possible in set"
   ]
  },
  {
   "cell_type": "code",
   "execution_count": 163,
   "id": "9b58d478",
   "metadata": {},
   "outputs": [],
   "source": [
    "mySet = {1,3,5,8}"
   ]
  },
  {
   "cell_type": "code",
   "execution_count": 164,
   "id": "c33dbb7d",
   "metadata": {},
   "outputs": [
    {
     "name": "stdout",
     "output_type": "stream",
     "text": [
      "8\n",
      "1\n",
      "3\n",
      "5\n"
     ]
    }
   ],
   "source": [
    "for i in mySet:\n",
    "    print(i)"
   ]
  },
  {
   "cell_type": "code",
   "execution_count": 165,
   "id": "8f7cd090",
   "metadata": {},
   "outputs": [],
   "source": [
    "mySet1 = {1,2,3,4}"
   ]
  },
  {
   "cell_type": "code",
   "execution_count": 166,
   "id": "1010f635",
   "metadata": {},
   "outputs": [
    {
     "name": "stdout",
     "output_type": "stream",
     "text": [
      "1\n",
      "2\n",
      "3\n",
      "4\n"
     ]
    }
   ],
   "source": [
    "for i in mySet1:\n",
    "    print(i)"
   ]
  },
  {
   "cell_type": "code",
   "execution_count": 167,
   "id": "aa3611f8",
   "metadata": {},
   "outputs": [],
   "source": [
    "# Frozenset > Frozenset is immutable(we cant modify )"
   ]
  },
  {
   "cell_type": "code",
   "execution_count": 168,
   "id": "7bd87cad",
   "metadata": {},
   "outputs": [],
   "source": [
    "myFrozenset = frozenset((0,2,4))"
   ]
  },
  {
   "cell_type": "code",
   "execution_count": 169,
   "id": "91953565",
   "metadata": {},
   "outputs": [
    {
     "data": {
      "text/plain": [
       "frozenset({0, 2, 4})"
      ]
     },
     "execution_count": 169,
     "metadata": {},
     "output_type": "execute_result"
    }
   ],
   "source": [
    "myFrozenset"
   ]
  },
  {
   "cell_type": "code",
   "execution_count": 170,
   "id": "1d40ef6b",
   "metadata": {},
   "outputs": [],
   "source": [
    "# myFrozenset.add(9) > AttributeError: "
   ]
  },
  {
   "cell_type": "markdown",
   "id": "dad27915",
   "metadata": {},
   "source": [
    "# Datetime"
   ]
  },
  {
   "cell_type": "markdown",
   "id": "6479a506",
   "metadata": {},
   "source": [
    "date time module offers \n",
    "\n",
    "1. date\n",
    "2. time\n",
    "3. datetime\n",
    "4. timedelta\n",
    "\n",
    "all the obejctes are immutable, meance once created will not be changed you can munupulate and create new object"
   ]
  },
  {
   "cell_type": "markdown",
   "id": "eed59142",
   "metadata": {},
   "source": [
    "###### date"
   ]
  },
  {
   "cell_type": "code",
   "execution_count": 171,
   "id": "8c5e8d99",
   "metadata": {},
   "outputs": [],
   "source": [
    "from datetime import date"
   ]
  },
  {
   "cell_type": "code",
   "execution_count": 172,
   "id": "52ad1c57",
   "metadata": {},
   "outputs": [
    {
     "name": "stdout",
     "output_type": "stream",
     "text": [
      "1990-08-21\n"
     ]
    }
   ],
   "source": [
    "dob = date(1990,8,21) # year, month, date\n",
    "print(dob)"
   ]
  },
  {
   "cell_type": "code",
   "execution_count": 173,
   "id": "833118fb",
   "metadata": {},
   "outputs": [
    {
     "data": {
      "text/plain": [
       "datetime.date(1990, 3, 31)"
      ]
     },
     "execution_count": 173,
     "metadata": {},
     "output_type": "execute_result"
    }
   ],
   "source": [
    "date(1990,3,31)"
   ]
  },
  {
   "cell_type": "code",
   "execution_count": 174,
   "id": "5202c142",
   "metadata": {},
   "outputs": [
    {
     "data": {
      "text/plain": [
       "datetime.date(2024, 9, 27)"
      ]
     },
     "execution_count": 174,
     "metadata": {},
     "output_type": "execute_result"
    }
   ],
   "source": [
    "date.today()"
   ]
  },
  {
   "cell_type": "code",
   "execution_count": 175,
   "id": "e9710b96",
   "metadata": {},
   "outputs": [
    {
     "data": {
      "text/plain": [
       "21"
      ]
     },
     "execution_count": 175,
     "metadata": {},
     "output_type": "execute_result"
    }
   ],
   "source": [
    "dob.day"
   ]
  },
  {
   "cell_type": "code",
   "execution_count": 176,
   "id": "ccf0e959",
   "metadata": {},
   "outputs": [
    {
     "data": {
      "text/plain": [
       "8"
      ]
     },
     "execution_count": 176,
     "metadata": {},
     "output_type": "execute_result"
    }
   ],
   "source": [
    "dob.month"
   ]
  },
  {
   "cell_type": "code",
   "execution_count": 177,
   "id": "90347f8c",
   "metadata": {},
   "outputs": [
    {
     "data": {
      "text/plain": [
       "1990"
      ]
     },
     "execution_count": 177,
     "metadata": {},
     "output_type": "execute_result"
    }
   ],
   "source": [
    "dob.year"
   ]
  },
  {
   "cell_type": "code",
   "execution_count": 178,
   "id": "28663612",
   "metadata": {},
   "outputs": [
    {
     "data": {
      "text/plain": [
       "'Tuesday 21 - August 1990'"
      ]
     },
     "execution_count": 178,
     "metadata": {},
     "output_type": "execute_result"
    }
   ],
   "source": [
    "dob.strftime(\"%A %d - %B %Y\")"
   ]
  },
  {
   "cell_type": "code",
   "execution_count": 179,
   "id": "3ec73183",
   "metadata": {},
   "outputs": [
    {
     "data": {
      "text/plain": [
       "'00:00:00'"
      ]
     },
     "execution_count": 179,
     "metadata": {},
     "output_type": "execute_result"
    }
   ],
   "source": [
    "dob.strftime(\"%T\")"
   ]
  },
  {
   "cell_type": "code",
   "execution_count": 180,
   "id": "95df6cf8",
   "metadata": {},
   "outputs": [
    {
     "data": {
      "text/plain": [
       "datetime.date(2024, 9, 27)"
      ]
     },
     "execution_count": 180,
     "metadata": {},
     "output_type": "execute_result"
    }
   ],
   "source": [
    "dob.today()"
   ]
  },
  {
   "cell_type": "markdown",
   "id": "937c4bd7",
   "metadata": {},
   "source": [
    "###### time"
   ]
  },
  {
   "cell_type": "code",
   "execution_count": 181,
   "id": "20c1ce9f",
   "metadata": {},
   "outputs": [],
   "source": [
    "from datetime import time"
   ]
  },
  {
   "cell_type": "code",
   "execution_count": 182,
   "id": "a8d81b7f",
   "metadata": {},
   "outputs": [],
   "source": [
    "meet = time(11,33,55,88) # h,min,sec,micsec"
   ]
  },
  {
   "cell_type": "code",
   "execution_count": 183,
   "id": "6aa0e375",
   "metadata": {},
   "outputs": [
    {
     "data": {
      "text/plain": [
       "datetime.time(11, 33, 55, 88)"
      ]
     },
     "execution_count": 183,
     "metadata": {},
     "output_type": "execute_result"
    }
   ],
   "source": [
    "meet"
   ]
  },
  {
   "cell_type": "code",
   "execution_count": 184,
   "id": "6e4bb91b",
   "metadata": {},
   "outputs": [
    {
     "name": "stdout",
     "output_type": "stream",
     "text": [
      "11:33:55.000088\n"
     ]
    }
   ],
   "source": [
    "print(meet)"
   ]
  },
  {
   "cell_type": "code",
   "execution_count": 185,
   "id": "7d07eb5d",
   "metadata": {},
   "outputs": [
    {
     "data": {
      "text/plain": [
       "(11, 33, 55, 88)"
      ]
     },
     "execution_count": 185,
     "metadata": {},
     "output_type": "execute_result"
    }
   ],
   "source": [
    "meet.hour, meet.minute, meet.second, meet.microsecond"
   ]
  },
  {
   "cell_type": "markdown",
   "id": "c63861c4",
   "metadata": {},
   "source": [
    "###### datetime"
   ]
  },
  {
   "cell_type": "code",
   "execution_count": 186,
   "id": "dd84084b",
   "metadata": {},
   "outputs": [],
   "source": [
    "from datetime import datetime"
   ]
  },
  {
   "cell_type": "code",
   "execution_count": 187,
   "id": "2e0e0886",
   "metadata": {},
   "outputs": [],
   "source": [
    "dob_time = datetime(1988,11,27,6, 45, 50,999999)\n",
    "# date, month, date, hour, minute, second, microsecond"
   ]
  },
  {
   "cell_type": "code",
   "execution_count": 188,
   "id": "dd035458",
   "metadata": {},
   "outputs": [
    {
     "name": "stdout",
     "output_type": "stream",
     "text": [
      "1988-11-27 06:45:50.999999\n"
     ]
    }
   ],
   "source": [
    "print(dob_time)"
   ]
  },
  {
   "cell_type": "code",
   "execution_count": 189,
   "id": "fe918ab7",
   "metadata": {},
   "outputs": [
    {
     "data": {
      "text/plain": [
       "6"
      ]
     },
     "execution_count": 189,
     "metadata": {},
     "output_type": "execute_result"
    }
   ],
   "source": [
    "dob_time.hour"
   ]
  },
  {
   "cell_type": "code",
   "execution_count": 190,
   "id": "bc9b9489",
   "metadata": {},
   "outputs": [
    {
     "data": {
      "text/plain": [
       "45"
      ]
     },
     "execution_count": 190,
     "metadata": {},
     "output_type": "execute_result"
    }
   ],
   "source": [
    "dob_time.minute"
   ]
  },
  {
   "cell_type": "code",
   "execution_count": 191,
   "id": "cb7e70d4",
   "metadata": {},
   "outputs": [
    {
     "data": {
      "text/plain": [
       "27"
      ]
     },
     "execution_count": 191,
     "metadata": {},
     "output_type": "execute_result"
    }
   ],
   "source": [
    "dob_time.day"
   ]
  },
  {
   "cell_type": "code",
   "execution_count": 192,
   "id": "4cd31941",
   "metadata": {},
   "outputs": [
    {
     "data": {
      "text/plain": [
       "50"
      ]
     },
     "execution_count": 192,
     "metadata": {},
     "output_type": "execute_result"
    }
   ],
   "source": [
    "dob_time.second"
   ]
  },
  {
   "cell_type": "markdown",
   "id": "5cdfbc9d",
   "metadata": {},
   "source": [
    "###### timedelta\n",
    "\n",
    "weeks, days, hours, minutes, seconds, microseconds, milliseconds"
   ]
  },
  {
   "cell_type": "code",
   "execution_count": 193,
   "id": "de1dd821",
   "metadata": {},
   "outputs": [],
   "source": [
    "from datetime import timedelta"
   ]
  },
  {
   "cell_type": "code",
   "execution_count": 194,
   "id": "f56c6283",
   "metadata": {},
   "outputs": [],
   "source": [
    "duration = timedelta(days=2, hours=3, minutes=45)"
   ]
  },
  {
   "cell_type": "code",
   "execution_count": 195,
   "id": "9d1f2f8a",
   "metadata": {},
   "outputs": [
    {
     "name": "stdout",
     "output_type": "stream",
     "text": [
      "2 days, 3:45:00\n"
     ]
    }
   ],
   "source": [
    "print(duration)"
   ]
  },
  {
   "cell_type": "code",
   "execution_count": 196,
   "id": "d03260ad",
   "metadata": {},
   "outputs": [],
   "source": [
    "my_dob = datetime(1991, 5, 17)\n",
    "your_dob = datetime(1990, 8, 21)"
   ]
  },
  {
   "cell_type": "code",
   "execution_count": 197,
   "id": "ce3057a1",
   "metadata": {},
   "outputs": [],
   "source": [
    "# my_dob + your_dob  > TypeError: unsupported operand type(s) for +: 'datetime.datetime"
   ]
  },
  {
   "cell_type": "code",
   "execution_count": 198,
   "id": "6ae10f65",
   "metadata": {},
   "outputs": [
    {
     "data": {
      "text/plain": [
       "datetime.timedelta(days=269)"
      ]
     },
     "execution_count": 198,
     "metadata": {},
     "output_type": "execute_result"
    }
   ],
   "source": [
    "my_dob - your_dob"
   ]
  },
  {
   "cell_type": "code",
   "execution_count": 199,
   "id": "932fa2bc",
   "metadata": {},
   "outputs": [],
   "source": [
    "duration = timedelta(days=2)"
   ]
  },
  {
   "cell_type": "code",
   "execution_count": 200,
   "id": "15aa763d",
   "metadata": {},
   "outputs": [
    {
     "name": "stdout",
     "output_type": "stream",
     "text": [
      "2 days, 0:00:00\n"
     ]
    }
   ],
   "source": [
    "print(duration)"
   ]
  },
  {
   "cell_type": "code",
   "execution_count": 201,
   "id": "cdbc9a66",
   "metadata": {},
   "outputs": [
    {
     "data": {
      "text/plain": [
       "datetime.datetime(1991, 5, 17, 0, 0)"
      ]
     },
     "execution_count": 201,
     "metadata": {},
     "output_type": "execute_result"
    }
   ],
   "source": [
    "my_dob"
   ]
  },
  {
   "cell_type": "code",
   "execution_count": 202,
   "id": "8e336571",
   "metadata": {},
   "outputs": [
    {
     "data": {
      "text/plain": [
       "datetime.datetime(1991, 5, 19, 0, 0)"
      ]
     },
     "execution_count": 202,
     "metadata": {},
     "output_type": "execute_result"
    }
   ],
   "source": [
    "my_dob + duration"
   ]
  },
  {
   "cell_type": "code",
   "execution_count": 203,
   "id": "d6fad23f",
   "metadata": {},
   "outputs": [],
   "source": [
    "# subtract some thing\n",
    "\n",
    "duration = timedelta(hours=1,seconds=15)"
   ]
  },
  {
   "cell_type": "code",
   "execution_count": 204,
   "id": "8ed277b9",
   "metadata": {},
   "outputs": [
    {
     "data": {
      "text/plain": [
       "datetime.datetime(1991, 5, 17, 0, 0)"
      ]
     },
     "execution_count": 204,
     "metadata": {},
     "output_type": "execute_result"
    }
   ],
   "source": [
    "my_dob"
   ]
  },
  {
   "cell_type": "code",
   "execution_count": 205,
   "id": "ccd9b314",
   "metadata": {},
   "outputs": [
    {
     "data": {
      "text/plain": [
       "datetime.datetime(1991, 5, 16, 22, 59, 45)"
      ]
     },
     "execution_count": 205,
     "metadata": {},
     "output_type": "execute_result"
    }
   ],
   "source": [
    "my_dob-duration"
   ]
  },
  {
   "cell_type": "markdown",
   "id": "fae12ec4",
   "metadata": {},
   "source": [
    "    datetime + datetime = not allowed\n",
    "    datetime - datetime = datetime\n",
    "    datetime + timedelta = datetime\n",
    "    datetime - timedelta = datetime \n"
   ]
  },
  {
   "cell_type": "code",
   "execution_count": 206,
   "id": "833379eb",
   "metadata": {},
   "outputs": [],
   "source": [
    "my_time = time(8,15,10)\n",
    "your_time = time(11, 33, 48)"
   ]
  },
  {
   "cell_type": "code",
   "execution_count": 207,
   "id": "c13b584f",
   "metadata": {},
   "outputs": [
    {
     "name": "stdout",
     "output_type": "stream",
     "text": [
      "08:15:10\n"
     ]
    }
   ],
   "source": [
    "print(my_time)"
   ]
  },
  {
   "cell_type": "code",
   "execution_count": 208,
   "id": "bb75a3a9",
   "metadata": {},
   "outputs": [
    {
     "name": "stdout",
     "output_type": "stream",
     "text": [
      "11:33:48\n"
     ]
    }
   ],
   "source": [
    "print(your_time)"
   ]
  },
  {
   "cell_type": "code",
   "execution_count": 209,
   "id": "5ffc2eaf",
   "metadata": {},
   "outputs": [],
   "source": [
    "# my_time - your_time > TypeError: unsupported operand type(s) for -: 'datetime.time'"
   ]
  },
  {
   "cell_type": "code",
   "execution_count": 210,
   "id": "15f44e96",
   "metadata": {},
   "outputs": [],
   "source": [
    "my_time = time(10,0)\n",
    "duration = timedelta(hours =1)\n"
   ]
  },
  {
   "cell_type": "code",
   "execution_count": 211,
   "id": "8e694413",
   "metadata": {},
   "outputs": [],
   "source": [
    "# my_time-duration > not supported"
   ]
  },
  {
   "cell_type": "markdown",
   "id": "d0924125",
   "metadata": {},
   "source": [
    "python does not support any arithmatic opeartion related to time, because time does not any sense with day\n",
    "\n",
    "    time + timedelta = Not allowed\n",
    "    time - timedelta = Not allowed\n",
    "    time + time = Not allowed\n",
    "    time - time = Not allowed"
   ]
  },
  {
   "cell_type": "raw",
   "id": "482061d8",
   "metadata": {},
   "source": [
    "date but no time > date()\n",
    "date and time > datetime()"
   ]
  },
  {
   "cell_type": "markdown",
   "id": "3b55cf1e",
   "metadata": {},
   "source": [
    "# Python Functions"
   ]
  },
  {
   "cell_type": "markdown",
   "id": "ee5b7421",
   "metadata": {},
   "source": [
    "1. It takes one or more input values\n",
    "2. Performs the desired task\n",
    "3. Returns or produces some output\n",
    "4. It can be called from other places in your code\n",
    "\n",
    "prevent the repitation of code"
   ]
  },
  {
   "cell_type": "markdown",
   "id": "5afb19c5",
   "metadata": {},
   "source": [
    "### 1. Function Types"
   ]
  },
  {
   "attachments": {
    "image.png": {
     "image/png": "[encoded data removed]"
    }
   },
   "cell_type": "markdown",
   "id": "84f4c741",
   "metadata": {},
   "source": [
    "###### 1. Built - in functions\n",
    "![image.png](attachment:image.png)"
   ]
  },
  {
   "cell_type": "markdown",
   "id": "0f0df056",
   "metadata": {},
   "source": [
    "###### 2. user defined functions"
   ]
  },
  {
   "cell_type": "markdown",
   "id": "33c21f9f",
   "metadata": {},
   "source": [
    "syntax:\n",
    "\n",
    "    def function_name(para_1, para_2,..):\n",
    "            statements\n",
    "            statements\n",
    "            ....."
   ]
  },
  {
   "cell_type": "code",
   "execution_count": 308,
   "id": "4f5f2681",
   "metadata": {},
   "outputs": [],
   "source": [
    "def even_or_odd(a):\n",
    "    if a%2 == 0:\n",
    "        print('Even')\n",
    "    else:\n",
    "        print('Odd')"
   ]
  },
  {
   "cell_type": "code",
   "execution_count": 311,
   "id": "1d5b1df4",
   "metadata": {},
   "outputs": [
    {
     "name": "stdout",
     "output_type": "stream",
     "text": [
      "Odd\n"
     ]
    }
   ],
   "source": [
    "even_or_odd(9)"
   ]
  },
  {
   "cell_type": "code",
   "execution_count": 214,
   "id": "04267f61",
   "metadata": {},
   "outputs": [],
   "source": [
    "# return : return statement terminate the function after return exicution\n",
    "\n",
    "def even_or_odd(a):\n",
    "    if a%2 == 0:\n",
    "        return('Even')\n",
    "    else:\n",
    "        return('Odd')"
   ]
  },
  {
   "cell_type": "code",
   "execution_count": 215,
   "id": "0bf85bee",
   "metadata": {},
   "outputs": [
    {
     "data": {
      "text/plain": [
       "'Odd'"
      ]
     },
     "execution_count": 215,
     "metadata": {},
     "output_type": "execute_result"
    }
   ],
   "source": [
    "even_or_odd(5)"
   ]
  },
  {
   "cell_type": "code",
   "execution_count": 216,
   "id": "2275d1b1",
   "metadata": {},
   "outputs": [
    {
     "name": "stdout",
     "output_type": "stream",
     "text": [
      "Odd\n"
     ]
    }
   ],
   "source": [
    "r = even_or_odd(5)\n",
    "print(r)"
   ]
  },
  {
   "cell_type": "code",
   "execution_count": 217,
   "id": "8e3b41d8",
   "metadata": {},
   "outputs": [],
   "source": [
    "def even_or_odd(a):\n",
    "    if (a%2 == 0):\n",
    "        print('Even')\n",
    "    else:\n",
    "        print('Odd')"
   ]
  },
  {
   "cell_type": "code",
   "execution_count": 218,
   "id": "de8c0fda",
   "metadata": {},
   "outputs": [
    {
     "name": "stdout",
     "output_type": "stream",
     "text": [
      "Odd\n",
      "None\n"
     ]
    }
   ],
   "source": [
    "z = even_or_odd(5)\n",
    "print(z)"
   ]
  },
  {
   "cell_type": "markdown",
   "id": "ebffb105",
   "metadata": {},
   "source": [
    "### 2. Default and keyword arguments"
   ]
  },
  {
   "cell_type": "code",
   "execution_count": 219,
   "id": "ade68687",
   "metadata": {},
   "outputs": [],
   "source": [
    "def greetings(greet, to):\n",
    "    return(greet + \" \" + to + \"!\")"
   ]
  },
  {
   "cell_type": "code",
   "execution_count": 220,
   "id": "0d3566b5",
   "metadata": {},
   "outputs": [
    {
     "data": {
      "text/plain": [
       "'Hare Krishna!'"
      ]
     },
     "execution_count": 220,
     "metadata": {},
     "output_type": "execute_result"
    }
   ],
   "source": [
    "greetings(\"Hare\", \"Krishna\")"
   ]
  },
  {
   "cell_type": "code",
   "execution_count": 221,
   "id": "43c15a8b",
   "metadata": {},
   "outputs": [],
   "source": [
    "# greetings(\"Hare\")\n",
    "# TypeError: greetings() missing 1 required positional argument: 'to'"
   ]
  },
  {
   "cell_type": "code",
   "execution_count": 222,
   "id": "3f281d8a",
   "metadata": {},
   "outputs": [],
   "source": [
    "def greetings(greet, to=\"Krishna\"):\n",
    "    return(greet + \" \" + to + \"!\")"
   ]
  },
  {
   "cell_type": "code",
   "execution_count": 223,
   "id": "907847e6",
   "metadata": {},
   "outputs": [
    {
     "data": {
      "text/plain": [
       "'Hare Rama!'"
      ]
     },
     "execution_count": 223,
     "metadata": {},
     "output_type": "execute_result"
    }
   ],
   "source": [
    "greetings(\"Hare\",\"Rama\")"
   ]
  },
  {
   "cell_type": "code",
   "execution_count": 224,
   "id": "e154310d",
   "metadata": {},
   "outputs": [
    {
     "data": {
      "text/plain": [
       "'Radha Krishna!'"
      ]
     },
     "execution_count": 224,
     "metadata": {},
     "output_type": "execute_result"
    }
   ],
   "source": [
    "greetings(\"Radha\")"
   ]
  },
  {
   "cell_type": "markdown",
   "id": "59fa0613",
   "metadata": {},
   "source": [
    "function parametrs are two types::\n",
    "1. Mandatory Parameters : if we do not set default parameter then that parameters become mandatory parameters\n",
    "2. Optional Parameters : if we are set default parameter then that paraemeter becomes optional parametrs\n",
    "3. Keyword Parameters : Parameters passed by explicitly naming them"
   ]
  },
  {
   "cell_type": "code",
   "execution_count": 225,
   "id": "87455977",
   "metadata": {},
   "outputs": [],
   "source": [
    "def greetings(greet=\"Radha\", to=\"Krishna\"):\n",
    "    return(greet + \" \" + to + \"!\")"
   ]
  },
  {
   "cell_type": "code",
   "execution_count": 226,
   "id": "c5cdbb66",
   "metadata": {},
   "outputs": [
    {
     "data": {
      "text/plain": [
       "'Radha Krishna!'"
      ]
     },
     "execution_count": 226,
     "metadata": {},
     "output_type": "execute_result"
    }
   ],
   "source": [
    "greetings()"
   ]
  },
  {
   "cell_type": "code",
   "execution_count": 227,
   "id": "18a6fdb6",
   "metadata": {},
   "outputs": [
    {
     "data": {
      "text/plain": [
       "'Ram Krishna!'"
      ]
     },
     "execution_count": 227,
     "metadata": {},
     "output_type": "execute_result"
    }
   ],
   "source": [
    "greetings(\"Ram\")"
   ]
  },
  {
   "cell_type": "code",
   "execution_count": 228,
   "id": "74ae8664",
   "metadata": {},
   "outputs": [
    {
     "data": {
      "text/plain": [
       "'Seeta Ram!'"
      ]
     },
     "execution_count": 228,
     "metadata": {},
     "output_type": "execute_result"
    }
   ],
   "source": [
    "greetings(\"Seeta\",\"Ram\")"
   ]
  },
  {
   "cell_type": "code",
   "execution_count": 229,
   "id": "273e8d8a",
   "metadata": {},
   "outputs": [],
   "source": [
    "def greetings(greet=\"Hare\", to=\"Krishana\"):\n",
    "    return(greet + \" \" + to + \"!\")"
   ]
  },
  {
   "cell_type": "code",
   "execution_count": 230,
   "id": "2b9741a1",
   "metadata": {},
   "outputs": [
    {
     "data": {
      "text/plain": [
       "'Hare Gopal!'"
      ]
     },
     "execution_count": 230,
     "metadata": {},
     "output_type": "execute_result"
    }
   ],
   "source": [
    "greetings(to = \"Gopal\")"
   ]
  },
  {
   "cell_type": "code",
   "execution_count": 231,
   "id": "b713b88d",
   "metadata": {},
   "outputs": [],
   "source": [
    "# three paraemters combineed"
   ]
  },
  {
   "cell_type": "code",
   "execution_count": 236,
   "id": "6dd291f1",
   "metadata": {},
   "outputs": [],
   "source": [
    "def configure(cpu, ram, disk=\"512 GB SSD\", os=\"Windows\"):\n",
    "    return \"Operating system = \" + os \\\n",
    "            +\", Processor = \" + cpu \\\n",
    "            +\", Memory =\" + ram \\\n",
    "            +\", Storage =\" + disk"
   ]
  },
  {
   "cell_type": "code",
   "execution_count": 237,
   "id": "c91e2dde",
   "metadata": {},
   "outputs": [
    {
     "data": {
      "text/plain": [
       "'Operating system = Windows, Processor = is, Memory =8gb, Storage =512 GB SSD'"
      ]
     },
     "execution_count": 237,
     "metadata": {},
     "output_type": "execute_result"
    }
   ],
   "source": [
    "configure(\"is\",\"8gb\")"
   ]
  },
  {
   "cell_type": "code",
   "execution_count": 239,
   "id": "dd859ca6",
   "metadata": {},
   "outputs": [
    {
     "data": {
      "text/plain": [
       "'Operating system = Windows, Processor = is, Memory =8GB, Storage =512 GB SSD'"
      ]
     },
     "execution_count": 239,
     "metadata": {},
     "output_type": "execute_result"
    }
   ],
   "source": [
    "configure(\"is\",ram= \"8GB\")"
   ]
  },
  {
   "cell_type": "code",
   "execution_count": 241,
   "id": "ce1632b1",
   "metadata": {},
   "outputs": [
    {
     "data": {
      "text/plain": [
       "'Operating system = Windows, Processor = i5, Memory =32GB, Storage =256GB SSD'"
      ]
     },
     "execution_count": 241,
     "metadata": {},
     "output_type": "execute_result"
    }
   ],
   "source": [
    "configure(\"i5\", disk=\"256GB SSD\", ram=\"32GB\")"
   ]
  },
  {
   "cell_type": "markdown",
   "id": "2f682a26",
   "metadata": {},
   "source": [
    "### 3. Variable Length Arguments"
   ]
  },
  {
   "cell_type": "code",
   "execution_count": 242,
   "id": "981039b7",
   "metadata": {},
   "outputs": [],
   "source": [
    "def grocery_order(customer_name, items):\n",
    "    print(\"Order received for: \", customer_name)\n",
    "    print(\"Single unit items: \",str(items))"
   ]
  },
  {
   "cell_type": "code",
   "execution_count": 243,
   "id": "738a9a6a",
   "metadata": {},
   "outputs": [
    {
     "name": "stdout",
     "output_type": "stream",
     "text": [
      "Order received for:  Ram\n",
      "Single unit items:  ['Bread', 'Tooth Paste']\n"
     ]
    }
   ],
   "source": [
    "grocery_order(\"Ram\", [\"Bread\",\"Tooth Paste\"])"
   ]
  },
  {
   "cell_type": "code",
   "execution_count": 244,
   "id": "cc804eae",
   "metadata": {},
   "outputs": [],
   "source": [
    "# astric symbol before the parameter name called variable length parameter\n",
    "def grocery_order(customer_name, *items):\n",
    "    print(\"Order received for: \", customer_name)\n",
    "    print(\"Single unit items: \",str(items))"
   ]
  },
  {
   "cell_type": "code",
   "execution_count": 246,
   "id": "79a5bcb4",
   "metadata": {},
   "outputs": [
    {
     "name": "stdout",
     "output_type": "stream",
     "text": [
      "Order received for:  Ram\n",
      "Single unit items:  ('Bread', 'Tooth Paste')\n"
     ]
    }
   ],
   "source": [
    "grocery_order(\"Ram\", \"Bread\", \"Tooth Paste\")"
   ]
  },
  {
   "cell_type": "code",
   "execution_count": 247,
   "id": "e19071bb",
   "metadata": {},
   "outputs": [],
   "source": [
    "def grocery_order(customer_name, *items, delivery_type = \"Home\"):\n",
    "    print(\"Order received for: \", customer_name)\n",
    "    print(\"Single unit items: \",str(items))\n",
    "    print(\"Delivery Type:\", delivery_type)"
   ]
  },
  {
   "cell_type": "code",
   "execution_count": 248,
   "id": "9705ccca",
   "metadata": {},
   "outputs": [
    {
     "name": "stdout",
     "output_type": "stream",
     "text": [
      "Order received for:  Ram\n",
      "Single unit items:  ('Bread', 'Tooth Paste')\n",
      "Delivery Type: Home\n"
     ]
    }
   ],
   "source": [
    "grocery_order(\"Ram\", \"Bread\", \"Tooth Paste\")"
   ]
  },
  {
   "cell_type": "code",
   "execution_count": 249,
   "id": "19b8f6f5",
   "metadata": {},
   "outputs": [
    {
     "name": "stdout",
     "output_type": "stream",
     "text": [
      "Order received for:  Ram\n",
      "Single unit items:  ('Bread', 'Tooth Paste')\n",
      "Delivery Type: pickup\n"
     ]
    }
   ],
   "source": [
    "grocery_order(\"Ram\", \"Bread\", \"Tooth Paste\", delivery_type=\"pickup\")"
   ]
  },
  {
   "cell_type": "code",
   "execution_count": 250,
   "id": "a5574122",
   "metadata": {},
   "outputs": [],
   "source": [
    "# always keep default value argument at the last\n",
    "def grocery_order(customer_name, delivery_type = \"Home\" ,*items):\n",
    "    print(\"Order received for: \", customer_name)\n",
    "    print(\"Single unit items: \",str(items))\n",
    "    print(\"Delivery Type:\", delivery_type)"
   ]
  },
  {
   "cell_type": "code",
   "execution_count": 251,
   "id": "9114579f",
   "metadata": {},
   "outputs": [
    {
     "name": "stdout",
     "output_type": "stream",
     "text": [
      "Order received for:  Radha\n",
      "Single unit items:  ('Apple', 'Bag')\n",
      "Delivery Type: Mango\n"
     ]
    }
   ],
   "source": [
    "grocery_order(\"Radha\",\"Mango\",\"Apple\",\"Bag\")"
   ]
  },
  {
   "cell_type": "code",
   "execution_count": 252,
   "id": "10f522c8",
   "metadata": {},
   "outputs": [],
   "source": [
    "# resulty changed due to order, make default value at the end"
   ]
  },
  {
   "cell_type": "code",
   "execution_count": 253,
   "id": "751d51f3",
   "metadata": {},
   "outputs": [],
   "source": [
    "# always keep default value argument at the last\n",
    "def grocery_order(customer_name,*items , delivery_type = \"Home\" ):\n",
    "    print(\"Order received for: \", customer_name)\n",
    "    print(\"Single unit items: \",str(items))\n",
    "    print(\"Delivery Type:\", delivery_type)"
   ]
  },
  {
   "cell_type": "code",
   "execution_count": 254,
   "id": "89746f84",
   "metadata": {},
   "outputs": [
    {
     "name": "stdout",
     "output_type": "stream",
     "text": [
      "Order received for:  Radha\n",
      "Single unit items:  ('Mango', 'Apple', 'Bag')\n",
      "Delivery Type: Home\n"
     ]
    }
   ],
   "source": [
    "grocery_order(\"Radha\",\"Mango\",\"Apple\",\"Bag\")"
   ]
  },
  {
   "cell_type": "code",
   "execution_count": 260,
   "id": "58031738",
   "metadata": {},
   "outputs": [],
   "source": [
    "# dictionary as parameter\n",
    "def grocery_order(customer_name, *items, items_with_qty ,delivery_type = \"Home\" ):\n",
    "    print(\"Order received for: \", customer_name)\n",
    "    print(\"Single unit items: \",str(items))\n",
    "    print(\"Other Items:\",str(items_with_qty))\n",
    "    print(\"Delivery Type:\", delivery_type)\n",
    "    \n",
    "    if \"glass\" in items_with_qty:\n",
    "        print(\"Note: Handle with Care\")"
   ]
  },
  {
   "cell_type": "code",
   "execution_count": 261,
   "id": "824cec49",
   "metadata": {},
   "outputs": [
    {
     "name": "stdout",
     "output_type": "stream",
     "text": [
      "Order received for:  Ram\n",
      "Single unit items:  ('Tilak', 'Beedbag', 'Flowers')\n",
      "Other Items: {'glass': 12, 'milk': '1 ltr'}\n",
      "Delivery Type: Home\n",
      "Note: Handle with Care\n"
     ]
    }
   ],
   "source": [
    "grocery_order(\"Ram\", \"Tilak\",\"Beedbag\",\"Flowers\", items_with_qty = dict(glass=12, milk=\"1 ltr\"))"
   ]
  },
  {
   "cell_type": "code",
   "execution_count": 267,
   "id": "408e84d5",
   "metadata": {},
   "outputs": [],
   "source": [
    "def grocery_order(customer_name, *items, items_with_qty=None ,delivery_type = \"Home\" ):\n",
    "    print(\"Order received for: \", customer_name)\n",
    "    print(\"Single unit items: \",str(items))\n",
    "    print(\"Other Items:\",str(items_with_qty))\n",
    "    print(\"Delivery Type:\", delivery_type)"
   ]
  },
  {
   "cell_type": "code",
   "execution_count": 268,
   "id": "e2289076",
   "metadata": {},
   "outputs": [
    {
     "name": "stdout",
     "output_type": "stream",
     "text": [
      "Order received for:  Ram\n",
      "Single unit items:  ('Tilak', 'Beedbag', 'Flowers')\n",
      "Other Items: None\n",
      "Delivery Type: Home\n"
     ]
    }
   ],
   "source": [
    "grocery_order(\"Ram\", \"Tilak\",\"Beedbag\",\"Flowers\")"
   ]
  },
  {
   "cell_type": "code",
   "execution_count": 269,
   "id": "9fc86dfe",
   "metadata": {},
   "outputs": [],
   "source": [
    "# dictionary as parameter\n",
    "def grocery_order(customer_name, *items, delivery_type = \"Home\", **items_with_qty ):\n",
    "    print(\"Order received for: \", customer_name)\n",
    "    print(\"Single unit items: \",str(items))\n",
    "    print(\"Other Items:\",str(items_with_qty))\n",
    "    print(\"Delivery Type:\", delivery_type)\n",
    "    \n",
    "    if \"glass\" in items_with_qty:\n",
    "        print(\"Note: Handle with Care\")"
   ]
  },
  {
   "cell_type": "code",
   "execution_count": 270,
   "id": "fcffbd91",
   "metadata": {},
   "outputs": [
    {
     "name": "stdout",
     "output_type": "stream",
     "text": [
      "Order received for:  Ram\n",
      "Single unit items:  ('Tilak', 'Beedbag', 'Flowers')\n",
      "Other Items: {'glass': 12, 'milk': '1 ltr'}\n",
      "Delivery Type: pickup\n",
      "Note: Handle with Care\n"
     ]
    }
   ],
   "source": [
    "grocery_order(\"Ram\", \"Tilak\",\"Beedbag\",\"Flowers\", glass=12, milk=\"1 ltr\", delivery_type='pickup')"
   ]
  },
  {
   "cell_type": "markdown",
   "id": "0de1826e",
   "metadata": {},
   "source": [
    "### 4. Unpacking Function Arguments"
   ]
  },
  {
   "cell_type": "code",
   "execution_count": 271,
   "id": "106cd0f9",
   "metadata": {},
   "outputs": [],
   "source": [
    "def grocery_order(customer_name, *items, delivery_type = \"Home\"):\n",
    "    print(\"Order received for: \", customer_name)\n",
    "    print(\"Single unit items: \",str(items))\n",
    "    print(\"Delivery Type:\", delivery_type)"
   ]
  },
  {
   "cell_type": "code",
   "execution_count": 273,
   "id": "25179bdb",
   "metadata": {},
   "outputs": [
    {
     "name": "stdout",
     "output_type": "stream",
     "text": [
      "Order received for:  Radha\n",
      "Single unit items:  ('Mango', 'Apple', 'Bag')\n",
      "Delivery Type: Pickup\n"
     ]
    }
   ],
   "source": [
    "grocery_order(\"Radha\",\"Mango\",\"Apple\",\"Bag\",delivery_type=\"Pickup\")"
   ]
  },
  {
   "cell_type": "code",
   "execution_count": 276,
   "id": "0af2173b",
   "metadata": {},
   "outputs": [],
   "source": [
    "# if i have areday the list of items \n",
    "arglist=[\"Mango\",\"Apple\"]"
   ]
  },
  {
   "cell_type": "code",
   "execution_count": 277,
   "id": "c22e25b0",
   "metadata": {},
   "outputs": [
    {
     "name": "stdout",
     "output_type": "stream",
     "text": [
      "Order received for:  Digvijay\n",
      "Single unit items:  ('Mango', 'Apple')\n",
      "Delivery Type: Pickup\n"
     ]
    }
   ],
   "source": [
    "grocery_order(\"Digvijay\",*arglist, delivery_type=\"Pickup\")"
   ]
  },
  {
   "cell_type": "code",
   "execution_count": 279,
   "id": "125ddc65",
   "metadata": {},
   "outputs": [],
   "source": [
    "def grocery_order(customer_name, delivery_type = \"Home\", **items_with_qty):\n",
    "    print(\"Order received for: \", customer_name)\n",
    "    print(\"Single unit items: \",str(items_with_qty))\n",
    "    print(\"Delivery Type:\", delivery_type)\n",
    "    \n",
    "    if \"glass\" in items_with_qty:\n",
    "        print(\"Note: Handle with Care.\")"
   ]
  },
  {
   "cell_type": "code",
   "execution_count": 280,
   "id": "9ed36ccb",
   "metadata": {},
   "outputs": [
    {
     "name": "stdout",
     "output_type": "stream",
     "text": [
      "Order received for:  Digvijay\n",
      "Single unit items:  {'Pen': 12, 'Notebook': '2 Dozen', 'Pencile': 21}\n",
      "Delivery Type: Home\n"
     ]
    }
   ],
   "source": [
    "grocery_order(\"Digvijay\",Pen=12,Notebook='2 Dozen',Pencile=21,delivery_type=\"Home\")"
   ]
  },
  {
   "cell_type": "code",
   "execution_count": 282,
   "id": "b2317181",
   "metadata": {},
   "outputs": [
    {
     "name": "stdout",
     "output_type": "stream",
     "text": [
      "Order received for:  Digvijay\n",
      "Single unit items:  {'glass': 12, 'Notebook': '2 Dozen', 'Pencile': 21}\n",
      "Delivery Type: Home\n",
      "Note: Handle with Care.\n"
     ]
    }
   ],
   "source": [
    "grocery_order(\"Digvijay\",glass=12,Notebook='2 Dozen',Pencile=21,delivery_type=\"Home\")"
   ]
  },
  {
   "cell_type": "code",
   "execution_count": 283,
   "id": "36499225",
   "metadata": {},
   "outputs": [],
   "source": [
    "argsDict=dict(glass=12,Notebook='2 Dozen',Pencile=21)"
   ]
  },
  {
   "cell_type": "code",
   "execution_count": 286,
   "id": "cdaa729d",
   "metadata": {},
   "outputs": [
    {
     "name": "stdout",
     "output_type": "stream",
     "text": [
      "Order received for:  Abhi\n",
      "Single unit items:  {'glass': 12, 'Notebook': '2 Dozen', 'Pencile': 21}\n",
      "Delivery Type: Pickup\n",
      "Note: Handle with Care.\n"
     ]
    }
   ],
   "source": [
    "grocery_order(\"Abhi\",**argsDict, delivery_type=\"Pickup\")"
   ]
  },
  {
   "cell_type": "code",
   "execution_count": 287,
   "id": "43a31ef5",
   "metadata": {},
   "outputs": [],
   "source": [
    "def grocery_order(customer_name, *items, delivery_type = \"Home\", **items_with_qty):\n",
    "    print(\"Order received for: \", customer_name)\n",
    "    print(\"Single unit items: \",str(items))\n",
    "    print(\"Single unit items: \",str(items_with_qty))\n",
    "    print(\"Delivery Type:\", delivery_type)\n",
    "    \n",
    "    if \"glass\" in items_with_qty:\n",
    "        print(\"Note: Handle with Care.\")"
   ]
  },
  {
   "cell_type": "code",
   "execution_count": 289,
   "id": "bed74631",
   "metadata": {},
   "outputs": [
    {
     "name": "stdout",
     "output_type": "stream",
     "text": [
      "Order received for:  Shourya\n",
      "Single unit items:  ('Mango', 'Apple')\n",
      "Single unit items:  {'glass': 12, 'Notebook': '2 Dozen', 'Pencile': 21}\n",
      "Delivery Type: pickup\n",
      "Note: Handle with Care.\n"
     ]
    }
   ],
   "source": [
    "grocery_order('Shourya',*arglist,**argsDict,delivery_type='pickup')"
   ]
  },
  {
   "cell_type": "markdown",
   "id": "b7c242a8",
   "metadata": {},
   "source": [
    "### 5. Lambda Functions"
   ]
  },
  {
   "cell_type": "code",
   "execution_count": 290,
   "id": "2555dacb",
   "metadata": {},
   "outputs": [],
   "source": [
    "f = lambda x,y: x+y"
   ]
  },
  {
   "cell_type": "code",
   "execution_count": 291,
   "id": "bf8ad4f4",
   "metadata": {},
   "outputs": [
    {
     "data": {
      "text/plain": [
       "19"
      ]
     },
     "execution_count": 291,
     "metadata": {},
     "output_type": "execute_result"
    }
   ],
   "source": [
    "f(10,9)"
   ]
  },
  {
   "cell_type": "code",
   "execution_count": null,
   "id": "60f53cfd",
   "metadata": {},
   "outputs": [],
   "source": [
    "# used to function as variable/argument in another function "
   ]
  },
  {
   "cell_type": "code",
   "execution_count": 292,
   "id": "47d4cc56",
   "metadata": {},
   "outputs": [],
   "source": [
    "def apply_ops(*args,ops):\n",
    "    return ops(args)"
   ]
  },
  {
   "cell_type": "code",
   "execution_count": 293,
   "id": "6ab1a004",
   "metadata": {},
   "outputs": [
    {
     "data": {
      "text/plain": [
       "21"
      ]
     },
     "execution_count": 293,
     "metadata": {},
     "output_type": "execute_result"
    }
   ],
   "source": [
    "apply_ops(2,3,7,9, ops=sum)"
   ]
  },
  {
   "cell_type": "code",
   "execution_count": 294,
   "id": "c54be4f6",
   "metadata": {},
   "outputs": [
    {
     "data": {
      "text/plain": [
       "4"
      ]
     },
     "execution_count": 294,
     "metadata": {},
     "output_type": "execute_result"
    }
   ],
   "source": [
    "apply_ops(2,3,7,9, ops=len)"
   ]
  },
  {
   "cell_type": "code",
   "execution_count": 295,
   "id": "384a5ea5",
   "metadata": {},
   "outputs": [
    {
     "data": {
      "text/plain": [
       "9"
      ]
     },
     "execution_count": 295,
     "metadata": {},
     "output_type": "execute_result"
    }
   ],
   "source": [
    "apply_ops(2,3,7,9, ops=max)"
   ]
  },
  {
   "cell_type": "code",
   "execution_count": 298,
   "id": "995b92b7",
   "metadata": {},
   "outputs": [],
   "source": [
    "num_list = [[2,8,11],[4,5,7,12],[8,9,10,11],[19,13,7],[2,5,16]]"
   ]
  },
  {
   "cell_type": "code",
   "execution_count": 299,
   "id": "992484c1",
   "metadata": {},
   "outputs": [
    {
     "data": {
      "text/plain": [
       "[19, 13, 7]"
      ]
     },
     "execution_count": 299,
     "metadata": {},
     "output_type": "execute_result"
    }
   ],
   "source": [
    "max(num_list)"
   ]
  },
  {
   "cell_type": "code",
   "execution_count": 303,
   "id": "7067b914",
   "metadata": {},
   "outputs": [
    {
     "data": {
      "text/plain": [
       "[2, 5, 16]"
      ]
     },
     "execution_count": 303,
     "metadata": {},
     "output_type": "execute_result"
    }
   ],
   "source": [
    "max(num_list, key=lambda x:x[2])"
   ]
  },
  {
   "cell_type": "code",
   "execution_count": 304,
   "id": "5aa60247",
   "metadata": {},
   "outputs": [],
   "source": [
    "# map(function, iterable)\n",
    "num_list= [2,8,11,4,5,7,12]"
   ]
  },
  {
   "cell_type": "code",
   "execution_count": 307,
   "id": "b77e8528",
   "metadata": {},
   "outputs": [
    {
     "name": "stdout",
     "output_type": "stream",
     "text": [
      "[4, 64, 121, 16, 25, 49, 144]\n"
     ]
    }
   ],
   "source": [
    "l = map(lambda x:x*x, num_list)\n",
    "print(list(l))"
   ]
  },
  {
   "cell_type": "code",
   "execution_count": null,
   "id": "1afbaf04",
   "metadata": {},
   "outputs": [],
   "source": []
  }
 ],
 "metadata": {
  "kernelspec": {
   "display_name": "Python 3 (ipykernel)",
   "language": "python",
   "name": "python3"
  },
  "language_info": {
   "codemirror_mode": {
    "name": "ipython",
    "version": 3
   },
   "file_extension": ".py",
   "mimetype": "text/x-python",
   "name": "python",
   "nbconvert_exporter": "python",
   "pygments_lexer": "ipython3",
   "version": "3.12.0"
  }
 },
 "nbformat": 4,
 "nbformat_minor": 5
}
