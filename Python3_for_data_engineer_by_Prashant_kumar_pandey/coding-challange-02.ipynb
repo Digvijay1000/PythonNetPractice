{
 "cells": [
  {
   "cell_type": "markdown",
   "metadata": {},
   "source": [
    "# Coding Challange - 02"
   ]
  },
  {
   "cell_type": "markdown",
   "metadata": {},
   "source": [
    "### Question 1:\n",
    "\n",
    "We have two lists of numbers given below. I want you to create a third list by picking an odd-indexed element from the first list and even-indexed elements from the second list.\n",
    "\n",
    "list_1 = [5, 10, 15, 20, 25, 30, 35]\n",
    "<br>list_2 = [7, 14, 21, 28, 35, 42, 49]\n",
    "\n",
    "#### Expected Output:\n",
    "\n",
    "[10, 20, 30, 7, 21, 35, 49]"
   ]
  },
  {
   "cell_type": "code",
   "execution_count": 93,
   "metadata": {},
   "outputs": [
    {
     "name": "stdout",
     "output_type": "stream",
     "text": [
      "[10, 20, 30, 7, 21, 35, 49]\n"
     ]
    }
   ],
   "source": [
    "list_1 = [5, 10, 15, 20, 25, 30, 35]\n",
    "list_2 = [7, 14, 21, 28, 35, 42, 49]\n",
    "\n",
    "list_3 = [] \n",
    "       \n",
    "even_index  =  list_3.extend(list_1[1::2])   \n",
    "odd_index = list_3.extend(list_2[::2])\n",
    "\n",
    "print(list_3)"
   ]
  },
  {
   "cell_type": "code",
   "execution_count": 12,
   "metadata": {},
   "outputs": [
    {
     "name": "stdout",
     "output_type": "stream",
     "text": [
      "[10, 20, 30, 7, 21, 35, 49]\n"
     ]
    }
   ],
   "source": [
    "list_1 = [5, 10, 15, 20, 25, 30, 35]\n",
    "list_2 = [7, 14, 21, 28, 35, 42, 49]\n",
    "\n",
    "list_3 = list_1[1::2] + list_2[::2]\n",
    "       \n",
    "print(list_3)        "
   ]
  },
  {
   "cell_type": "markdown",
   "metadata": {},
   "source": [
    "### Question 2:\n",
    "\n",
    "You have two dictionaries, with each of them containing several letters associated with certain values. \n",
    "\n",
    "num_1 = {'a' : 5,\n",
    "        's' : 7,\n",
    "        'x' : 11,\n",
    "        'm' : 12,\n",
    "        'o' : 8}\n",
    "\n",
    "num_2 = {'r' : 12,\n",
    "        'x' : 9,\n",
    "        'n' : 8,\n",
    "        'm' : 12,\n",
    "        'q' : 10}\n",
    "\n",
    "I want you to perform the below-mentioned operations on these dictionaries:\n",
    "\n",
    "\t1. Print out the letters which are common to both these dictionaries.\n",
    "\t2. Print out the (key, value) pair, which is common to both these dictionaries.\n",
    "\t3. Print out all the letters which have occurred only once in these dictionaries.\n",
    "\t4. Print out the letters in num_1 that are not present in num_2.\n",
    "\t5. Print out a new dictionary num_3, which contains unique letters of num_1 from the previous output with their \n",
    "       associated values.\n",
    "\n",
    "#### Expected Output:\n",
    "\n",
    "\t1. {'x', 'm'}\n",
    "    2. {('m', 12)}\n",
    "    3. {'o', 'a', 'n', 'q', 'r', 's'}\n",
    "    4. {'o', 'a', 's'}\n",
    "    5. {'o': 8, 'a': 5, 's': 7}"
   ]
  },
  {
   "cell_type": "code",
   "execution_count": 107,
   "metadata": {},
   "outputs": [
    {
     "name": "stdout",
     "output_type": "stream",
     "text": [
      "{'m', 'x'}\n",
      "{('m', 12)}\n",
      "{'s', 'o', 'r', 'n', 'a', 'q'}\n",
      "{'s', 'o', 'a'}\n",
      "{'s': 7, 'o': 8, 'a': 5}\n"
     ]
    }
   ],
   "source": [
    "num_1 = {'a' : 5, 's' : 7, 'x' : 11, 'm' : 12, 'o' : 8}\n",
    "num_2 = {'r' : 12, 'x' : 9, 'n' : 8, 'm' : 12, 'q' : 10}\n",
    "\n",
    "# 1. Print out the letters which are common to both these dictionaries.\n",
    "print(num_1.keys() & num_2.keys())\n",
    "\n",
    "# 2. Print out the (key, value) pair, which is common to both these dictionaries.\n",
    "print(num_1.items() & num_2.items())\n",
    "\n",
    "# 3. Print out all the letters which have occurred only once in these dictionaries.\n",
    "print(num_1.keys() ^ num_2.keys())\n",
    "\n",
    "# 4. Print out the letters in num_1 that are not present in num_2.\n",
    "print(num_1.keys() - num_2.keys())\n",
    "\n",
    "# 5. Print out a new dictionary num_3, which contains unique letters of num_1 from the previous output with their \n",
    "# associated values.\n",
    "\n",
    "num_3 = {i:num_1[i] for i in num_1.keys()  - (num_1.keys() & num_2.keys())}\n",
    "print(num_3)"
   ]
  },
  {
   "cell_type": "code",
   "execution_count": 125,
   "metadata": {},
   "outputs": [
    {
     "name": "stdout",
     "output_type": "stream",
     "text": [
      "{'x', 'm'}\n",
      "{('m', 12)}\n",
      "{'s', 'o', 'r', 'n', 'a', 'q'}\n",
      "{'s', 'o', 'a'}\n",
      "{'s': 7, 'o': 8, 'x': 11, 'a': 5}\n"
     ]
    }
   ],
   "source": [
    "num_1 = {'a' : 5, 's' : 7, 'x' : 11, 'm' : 12, 'o' : 8}\n",
    "num_2 = {'r' : 12, 'x' : 9, 'n' : 8, 'm' : 12, 'q' : 10}\n",
    "\n",
    "# 1. Print out the letters which are common to both these dictionaries.\n",
    "num_1_set = set(num_1)\n",
    "num_2_set = set(num_2)\n",
    "print(num_1_set.intersection(num_2_set))\n",
    "\n",
    "# 2. Print out the (key, value) pair, which is common to both these dictionaries.\n",
    "num_1_set = set(num_1.items())\n",
    "num_2_set = set(num_2.items())\n",
    "print(num_1_set.intersection(num_2_set))\n",
    "\n",
    "# 3. Print out all the letters which have occurred only once in these dictionaries.\n",
    "num_1_set = set(num_1.keys())\n",
    "num_2_set = set(num_2.keys())\n",
    "print(num_1_set.difference(num_2_set).union(num_2_set.difference(num_1_set)))\n",
    "\n",
    "# 4. Print out the letters in num_1 that are not present in num_2.\n",
    "num_1_set = set(num_1.keys())\n",
    "num_2_set = set(num_2.keys())\n",
    "print(num_1_set.difference(num_2_set))\n",
    "\n",
    "# 5. Print out a new dictionary num_3, which contains unique letters of num_1 from the previous output with their \n",
    "# associated values.\n",
    "num_1_set = set(num_1.items())\n",
    "num_2_set = set(num_2.items())\n",
    "num_3 = dict(num_1_set.difference(num_2_set))\n",
    "print(num_3)"
   ]
  },
  {
   "cell_type": "markdown",
   "metadata": {},
   "source": [
    "### Question 3:\n",
    "\n",
    "Find out the number of letters and digits from the given alpha-numeric text.\n",
    "\n",
    "sample_text = \"Learning Journal 2020\"\n",
    "\n",
    "#### Expected Output:\n",
    "\n",
    "Number of Letters:  15\n",
    "<br>Number of Digits:  4"
   ]
  },
  {
   "cell_type": "code",
   "execution_count": 2,
   "metadata": {},
   "outputs": [
    {
     "name": "stdout",
     "output_type": "stream",
     "text": [
      "Number of Letters: 15\n",
      "Number of Digits: 4\n"
     ]
    }
   ],
   "source": [
    "sample_text = \"Learning Journal 2020\"\n",
    "\n",
    "lettercount=0\n",
    "digitcount=0\n",
    "\n",
    "for i in sample_text:\n",
    "    if i.isalpha():\n",
    "        lettercount+=1\n",
    "    elif i.isdigit():\n",
    "        digitcount+=1\n",
    "    else:\n",
    "        pass\n",
    "        \n",
    "print(\"Number of Letters:\",lettercount)\n",
    "print(\"Number of Digits:\",digitcount)"
   ]
  },
  {
   "cell_type": "markdown",
   "metadata": {},
   "source": [
    "### Question 4:\n",
    "\n",
    "We have a list given below. Add an item 200 to the list, after the item 100.\n",
    "\n",
    "myList = [2, 8, [10, 20, [40, 60, [90, 100], 30, 70], 80], 50]\n",
    "\n",
    "#### Expected Output:\n",
    "\n",
    "[2, 8, [10, 20, [40, 60, [90, 100, 200], 30, 70], 80], 50]"
   ]
  },
  {
   "cell_type": "code",
   "execution_count": 51,
   "metadata": {},
   "outputs": [
    {
     "name": "stdout",
     "output_type": "stream",
     "text": [
      "Original list: [2, 8, [10, 20, [40, 60, [90, 100], 30, 70], 80], 50]\n",
      "Modified List: [2, 8, [10, 20, [40, 60, [90, 100, 200], 30, 70], 80], 50]\n"
     ]
    }
   ],
   "source": [
    "myList = [2, 8, [10, 20, [40, 60, [90, 100], 30, 70], 80], 50]\n",
    "print(\"Original list:\",myList)\n",
    "myList[2][2][2].insert(2,200)\n",
    "print(\"Modified List:\",myList)"
   ]
  },
  {
   "cell_type": "code",
   "execution_count": 133,
   "metadata": {},
   "outputs": [
    {
     "name": "stdout",
     "output_type": "stream",
     "text": [
      "[2, 8, [10, 20, [40, 60, [90, 100, 200], 30, 70], 80], 50]\n"
     ]
    }
   ],
   "source": [
    "myList = [2, 8, [10, 20, [40, 60, [90, 100], 30, 70], 80], 50]\n",
    "\n",
    "myList[2][2][2].append(200)\n",
    "print(myList)"
   ]
  },
  {
   "cell_type": "code",
   "execution_count": 52,
   "metadata": {},
   "outputs": [
    {
     "name": "stdout",
     "output_type": "stream",
     "text": [
      "Original list: [2, 8, [10, 20, [40, 60, [90, 100], 30, 70], 80], 50]\n",
      "Modified List: [2, 8, [10, 20, [40, 60, [90, 100], 30, 37, 70], 80], 50]\n"
     ]
    }
   ],
   "source": [
    "myList = [2, 8, [10, 20, [40, 60, [90, 100], 30, 70], 80], 50]\n",
    "print(\"Original list:\",myList)\n",
    "myList[2][2].insert(4,37)\n",
    "print(\"Modified List:\",myList)"
   ]
  },
  {
   "cell_type": "markdown",
   "metadata": {},
   "source": [
    "### Question 5:\n",
    "\n",
    "We have two sets given below. Print the first set again after removing the elements common to both of these sets.\n",
    "\n",
    "set_1 = {2, 8, 19, 13, 24, 55, 48, 93}\n",
    "<br>set_2 = {7, 11, 55, 84, 8, 65, 73, 13}\n",
    "\n",
    "#### Expected Output:\n",
    "\n",
    "{2, 48, 19, 24, 93}"
   ]
  },
  {
   "cell_type": "code",
   "execution_count": 53,
   "metadata": {},
   "outputs": [
    {
     "name": "stdout",
     "output_type": "stream",
     "text": [
      "{2, 48, 19, 24, 93}\n"
     ]
    }
   ],
   "source": [
    "set_1 = {2, 8, 19, 13, 24, 55, 48, 93}\n",
    "set_2 = {7, 11, 55, 84, 8, 65, 73, 13}\n",
    "\n",
    "print(set_1.difference(set_2))"
   ]
  },
  {
   "cell_type": "markdown",
   "metadata": {},
   "source": [
    "### Question 6:\n",
    "\n",
    "Print all the prime numbers between the given range.\n",
    "\n",
    "start = 20\n",
    "<br>end = 60\n",
    "\n",
    "#### Expected Output:\n",
    "\n",
    "Prime numbers between 20 and 60 are: \n",
    "23\n",
    "<br>29\n",
    "<br>31\n",
    "<br>37\n",
    "<br>41\n",
    "<br>43\n",
    "<br>47\n",
    "<br>53\n",
    "<br>59"
   ]
  },
  {
   "cell_type": "code",
   "execution_count": 67,
   "metadata": {},
   "outputs": [
    {
     "name": "stdout",
     "output_type": "stream",
     "text": [
      "23\n",
      "29\n",
      "31\n",
      "37\n",
      "41\n",
      "43\n",
      "47\n",
      "53\n",
      "59\n"
     ]
    }
   ],
   "source": [
    "start = 20\n",
    "end = 60\n",
    "\n",
    "for num in range(start,end):\n",
    "    if num<2:\n",
    "        continue\n",
    "        \n",
    "    is_prime=True\n",
    "    \n",
    "    for i in range(2,int(num**0.5)+1):\n",
    "        if num % i ==0:\n",
    "            is_prime = False\n",
    "            break\n",
    "    if is_prime:\n",
    "        print(num)"
   ]
  },
  {
   "cell_type": "code",
   "execution_count": 62,
   "metadata": {},
   "outputs": [
    {
     "name": "stdout",
     "output_type": "stream",
     "text": [
      "23\n",
      "29\n",
      "31\n",
      "37\n",
      "41\n",
      "43\n",
      "47\n",
      "53\n",
      "59\n"
     ]
    }
   ],
   "source": [
    "def is_prime(n):\n",
    "        if n<2:\n",
    "            return False\n",
    "        for i in range(2,int(n**0.5)+1):\n",
    "            if n%i == 0:\n",
    "                return False\n",
    "        return True\n",
    "\n",
    "\n",
    "start = 20\n",
    "end = 60\n",
    "\n",
    "for i in range(start,end):\n",
    "    if is_prime(i):\n",
    "        print(i)"
   ]
  },
  {
   "cell_type": "markdown",
   "metadata": {},
   "source": [
    "### Question 7:\n",
    "\n",
    "Here we have a list of 3 letters. I want you to concatenate this list with another list of numbers whose range varies from 1 to 3 (3 is included).\n",
    "\n",
    "letters_list = ['H', 'R', 'S']\n",
    "\n",
    "#### Expected Output:\n",
    "\n",
    "['H1', 'R1', 'S1', 'H2', 'R2', 'S2', 'H3', 'R3', 'S3']"
   ]
  },
  {
   "cell_type": "code",
   "execution_count": 87,
   "metadata": {},
   "outputs": [
    {
     "name": "stdout",
     "output_type": "stream",
     "text": [
      "['H1', 'R1', 'S1', 'H2', 'R2', 'S2', 'H3', 'R3', 'S3']\n"
     ]
    }
   ],
   "source": [
    "letters_list = ['H', 'R', 'S']\n",
    "result = []\n",
    "\n",
    "for i in range(1,4):\n",
    "    for j in letters_list:\n",
    "        result.append(j+str(i))\n",
    "        \n",
    "print(result)"
   ]
  },
  {
   "cell_type": "markdown",
   "metadata": {},
   "source": [
    "### Question 8:\n",
    "\n",
    "Print all the numbers between 1 and 100 (both being included) that are multiples of 3 and 5 both.\n",
    "\n",
    "#### Expected Output:\n",
    "\n",
    "Multiples of 3 and 5: [15, 30, 45, 60, 75, 90]"
   ]
  },
  {
   "cell_type": "code",
   "execution_count": 89,
   "metadata": {},
   "outputs": [
    {
     "name": "stdout",
     "output_type": "stream",
     "text": [
      "Multiples of 3 and 5: [15, 30, 45, 60, 75, 90]\n"
     ]
    }
   ],
   "source": [
    "result=[]\n",
    "for i in range(1,101):\n",
    "    if i%3==0 and i%5==0:\n",
    "        result.append(i)\n",
    "print(\"Multiples of 3 and 5:\",result)"
   ]
  },
  {
   "cell_type": "markdown",
   "metadata": {},
   "source": [
    "### Question 9:\n",
    "\n",
    "Here we have a poem by Walt Whitman. I want you to print this poem once again after removing all the vowels from them.\n",
    "\n",
    "poem = \"Centre of equal daughters, equal sons,\\\n",
    "All, all alike endeared, grown, ungrown, young or old,\\\n",
    "Strong, ample, fair, enduring, capable, rich,\\\n",
    "Perennial with the Earth, with Freedom, Law and Love,\\\n",
    "A grand, sane, towering, seated Mother,\\\n",
    "Chaired in the adamant of Time.\"\n",
    "\n",
    "#### Expected Output:\n",
    "\n",
    "'Cntr f ql dghtrs, ql sns,All, ll lk ndr’d, grwn, ngrwn, yng r ld,Strng, mpl, fr, ndrng, cpbl, rch,Prnnl wth th Erth, wth Frdm, Lw nd Lv,A grnd, sn, twrng, std Mthr,Chr’d n th dmnt f Tm.'"
   ]
  },
  {
   "cell_type": "code",
   "execution_count": 131,
   "metadata": {},
   "outputs": [
    {
     "name": "stdout",
     "output_type": "stream",
     "text": [
      "Cntr f ql dghtrs, ql sns,\n",
      "All, ll lk ndrd, grwn, ngrwn, yng r ld,\n",
      "Strng, mpl, fr, ndrng, cpbl, rch,\n",
      "Prnnl wth th Erth, wth Frdm, Lw nd Lv,\n",
      "A grnd, sn, twrng, std Mthr,\n",
      "Chrd n th dmnt f Tm.\n"
     ]
    }
   ],
   "source": [
    "poem = \"\"\"Centre of equal daughters, equal sons,\n",
    "All, all alike endeared, grown, ungrown, young or old,\n",
    "Strong, ample, fair, enduring, capable, rich,\n",
    "Perennial with the Earth, with Freedom, Law and Love,\n",
    "A grand, sane, towering, seated Mother,\n",
    "Chaired in the adamant of Time.\"\"\"\n",
    "\n",
    "vowels =  ['a','e','i','o','u']\n",
    "\n",
    "result = \"\"\n",
    "\n",
    "for char in poem:\n",
    "    if char in vowels:\n",
    "        continue\n",
    "    result+=char\n",
    "    \n",
    "print(result)"
   ]
  },
  {
   "cell_type": "markdown",
   "metadata": {},
   "source": [
    "### Question 10:\n",
    "\n",
    "Here we have some information about Python programming extracted from Wikipedia. Find all the occurrences of the word 'python' in the given python_info, ignoring the case.\n",
    "\n",
    "python_info = \"Python is an interpreted, high-level, and general-purpose programming language.\\\n",
    "Python is dynamically typed and garbage-collected.\\\n",
    "Python was created in the late 1980s as a successor to the ABC language, Python 2.0.\\\n",
    "Python 3.0 was released in 2008.\\\n",
    "A non-profit organization, the Python Software Foundation, manages and directs resources for Python development.\"\n",
    "\n",
    "#### Expected Output:\n",
    "\n",
    "The 'Python' count in python_info is: 7"
   ]
  },
  {
   "cell_type": "code",
   "execution_count": 132,
   "metadata": {},
   "outputs": [
    {
     "name": "stdout",
     "output_type": "stream",
     "text": [
      "The 'Python' count in python_info is: 7\n"
     ]
    }
   ],
   "source": [
    "python_info = \"\"\"Python is an interpreted, high-level, and general-purpose programming language.\n",
    "Python is dynamically typed and garbage-collected.\n",
    "Python was created in the late 1980s as a successor to the ABC language, \n",
    "Python 2.0. Python 3.0 was released in 2008.\n",
    "A non-profit organization, the Python Software Foundation, \n",
    "manages and directs resources for Python development.\"\"\"\n",
    "\n",
    "print(\"The 'Python' count in python_info is:\",python_info.count(\"Python\"))"
   ]
  }
 ],
 "metadata": {
  "kernelspec": {
   "display_name": "Python 3 (ipykernel)",
   "language": "python",
   "name": "python3"
  },
  "language_info": {
   "codemirror_mode": {
    "name": "ipython",
    "version": 3
   },
   "file_extension": ".py",
   "mimetype": "text/x-python",
   "name": "python",
   "nbconvert_exporter": "python",
   "pygments_lexer": "ipython3",
   "version": "3.12.0"
  }
 },
 "nbformat": 4,
 "nbformat_minor": 4
}
